{
 "cells": [
  {
   "cell_type": "markdown",
   "id": "5dd5d895",
   "metadata": {},
   "source": [
    "[![Binder](https://mybinder.org/badge_logo.svg)](https://gesis.mybinder.org/v2/gh/homalg-project/CapAndHomalgNotebooks/master?urlpath=git-pull%3Frepo%3Dhttps%253A%252F%252Fgithub.com%252Fhomalg-project%252FCategoricalTowers%26urlpath%3Dtree%252FCategoricalTowers%252FCatReps%252Fexamples%252F%252Fnotebooks%252FCategoryOfRepresentations.ipynb%26branch%3Dmaster)"
   ]
  },
  {
   "cell_type": "markdown",
   "id": "6464d62a",
   "metadata": {
    "slideshow": {
     "slide_type": "slide"
    }
   },
   "source": [
    "`CatReps` was originally meant to wrap [Peter Webb](https://www-users.math.umn.edu/~webb/)'s pre-package [`catreps`](https://www-users.math.umn.edu/~webb/GAPfiles/catreps) into the categorical framework offered by [`CAP`](https://homalg-project.github.io/docs/CAP_project/). The only dependency left can be found in the file [gap/catreps.g](https://codecov.io/gh/homalg-project/CatReps/src/master/gap/catreps.g). The entire functionality of [`catreps`](https://www-users.math.umn.edu/~webb/GAPfiles/catreps) is now available through [`FunctorCategories`](https://homalg-project.github.io/pkg/FunctorCategories).\n",
    "\n",
    "This notebook is a reproduction of the [catreps tutorial](https://www-users.math.umn.edu/~webb/GAPfiles/catrepstutorial.html)."
   ]
  },
  {
   "cell_type": "code",
   "execution_count": 1,
   "id": "458b15a3",
   "metadata": {
    "slideshow": {
     "slide_type": "slide"
    }
   },
   "outputs": [
    {
     "name": "stdout",
     "output_type": "stream",
     "text": [
      "CapAndHomalg v\u001b[32m1.5.3\u001b[39m\n",
      "Imported OSCAR's components GAP and Singular_jll\n",
      "Type: ?CapAndHomalg for more information\n"
     ]
    }
   ],
   "source": [
    "using CapAndHomalg"
   ]
  },
  {
   "cell_type": "code",
   "execution_count": 2,
   "id": "431cffab",
   "metadata": {},
   "outputs": [],
   "source": [
    "LoadPackage( \"CatReps\" )"
   ]
  },
  {
   "cell_type": "code",
   "execution_count": 3,
   "id": "f07a2ea3",
   "metadata": {
    "slideshow": {
     "slide_type": "slide"
    }
   },
   "outputs": [
    {
     "data": {
      "text/plain": [
       "GAP: A finite concrete category"
      ]
     },
     "execution_count": 3,
     "metadata": {},
     "output_type": "execute_result"
    }
   ],
   "source": [
    "c3c3 = ConcreteCategoryForCAP( \"[ [2,3,1], [4,5,6], [,,,5,6,4] ]\" )"
   ]
  },
  {
   "cell_type": "code",
   "execution_count": 4,
   "id": "bfd4d07b",
   "metadata": {},
   "outputs": [
    {
     "data": {
      "text/plain": [
       "GAP: [ A morphism in subcategory given by: <A morphism in FinSets>, A morphism in subcategory given by: <A morphism in FinSets>, A morphism in subcategory given by: <A morphism in FinSets> ]"
      ]
     },
     "execution_count": 4,
     "metadata": {},
     "output_type": "execute_result"
    }
   ],
   "source": [
    "mors = SetOfGeneratingMorphisms( c3c3 )"
   ]
  },
  {
   "cell_type": "code",
   "execution_count": 5,
   "id": "c9e0f8cd",
   "metadata": {},
   "outputs": [
    {
     "name": "stdout",
     "output_type": "stream",
     "text": [
      "A morphism in subcategory given by: [ [ 1, 2, 3 ], [ [ 1, 2 ], [ 2, 3 ], [ 3, 1 ] ], [ 1, 2, 3 ] ]\n",
      "A morphism in subcategory given by: [ [ 1, 2, 3 ], [ [ 1, 4 ], [ 2, 5 ], [ 3, 6 ] ], [ 4, 5, 6 ] ]\n",
      "A morphism in subcategory given by: [ [ 4, 5, 6 ], [ [ 4, 5 ], [ 5, 6 ], [ 6, 4 ] ], [ 4, 5, 6 ] ]\n"
     ]
    }
   ],
   "source": [
    "Perform( mors, Display )"
   ]
  },
  {
   "cell_type": "code",
   "execution_count": 6,
   "id": "f5f4e054",
   "metadata": {
    "slideshow": {
     "slide_type": "slide"
    }
   },
   "outputs": [
    {
     "data": {
      "text/plain": [
       "GAP: GF(3)"
      ]
     },
     "execution_count": 6,
     "metadata": {},
     "output_type": "execute_result"
    }
   ],
   "source": [
    "GF3 = HomalgRingOfIntegers( 3 )"
   ]
  },
  {
   "cell_type": "markdown",
   "id": "1c84a6a4",
   "metadata": {
    "slideshow": {
     "slide_type": "slide"
    }
   },
   "source": [
    "Using the procedure Algebroid one can then construct a finite presentation of the $\\mathrm{GF}(3)$-linear closure of the given concrete category. The current preliminary implementation only works when the endomorphism monoids of the concrete category are explicitly cyclic:"
   ]
  },
  {
   "cell_type": "code",
   "execution_count": 7,
   "id": "ab5aa458",
   "metadata": {},
   "outputs": [
    {
     "data": {
      "text/plain": [
       "GAP: Algebroid( GF(3), FreeCategory( RightQuiver( \"q(2)[a:1->1,b:1->2,c:2->2]\" ) ) ) / relations"
      ]
     },
     "execution_count": 7,
     "metadata": {},
     "output_type": "execute_result"
    }
   ],
   "source": [
    "A = Algebroid( GF3, c3c3 )"
   ]
  },
  {
   "cell_type": "code",
   "execution_count": 8,
   "id": "7e7d1f0b",
   "metadata": {},
   "outputs": [
    {
     "data": {
      "text/plain": [
       "true"
      ]
     },
     "execution_count": 8,
     "metadata": {},
     "output_type": "execute_result"
    }
   ],
   "source": [
    "IsLinearClosureOfACategory( A )"
   ]
  },
  {
   "cell_type": "markdown",
   "id": "3c0aecab",
   "metadata": {
    "slideshow": {
     "slide_type": "subslide"
    }
   },
   "source": [
    "Internally, the algebroid was built using a finitely presented category isomorphic to the concrete category $c3c3$:"
   ]
  },
  {
   "cell_type": "code",
   "execution_count": 9,
   "id": "45ee1332",
   "metadata": {
    "scrolled": true
   },
   "outputs": [
    {
     "data": {
      "text/plain": [
       "GAP: FreeCategory( RightQuiver( \"q(2)[a:1->1,b:1->2,c:2->2]\" ) ) / relations"
      ]
     },
     "execution_count": 9,
     "metadata": {},
     "output_type": "execute_result"
    }
   ],
   "source": [
    "fpc3c3 = AsFpCategory( c3c3 )"
   ]
  },
  {
   "cell_type": "markdown",
   "id": "8de6eed7",
   "metadata": {
    "slideshow": {
     "slide_type": "subslide"
    }
   },
   "source": [
    "The relations were calculated in two steps: First by calculating the relations of the endomorphism monoids, which are cyclic in our case."
   ]
  },
  {
   "cell_type": "code",
   "execution_count": 10,
   "id": "e058c557",
   "metadata": {},
   "outputs": [
    {
     "data": {
      "text/plain": [
       "GAP: [ [ (a*a*a), (1) ], [ (c*c*c), (2) ] ]"
      ]
     },
     "execution_count": 10,
     "metadata": {},
     "output_type": "execute_result"
    }
   ],
   "source": [
    "relsEndo = RelationsOfEndomorphisms( c3c3 )"
   ]
  },
  {
   "cell_type": "markdown",
   "id": "8c70a847",
   "metadata": {},
   "source": [
    "We can now define an auxiliary finitely presented category $\\mathcal{C}'$ from the free category $Fq$ modulo the relations of the endomorphism monoids:\n",
    "\n",
    "$\\mathcal{C}' := Fq\\, / $ `relsEndo`\n",
    "\n",
    "This category has finitely many morphisms."
   ]
  },
  {
   "cell_type": "markdown",
   "id": "6a0ead4a",
   "metadata": {
    "slideshow": {
     "slide_type": "subslide"
    }
   },
   "source": [
    "The other, non-endo relations were calculated in the function `AsFpCategory` itself. We can inspect the underlying quiver algebra where we see all the necessary relations. Note that `q` is the underlying quiver of `c3c3`."
   ]
  },
  {
   "cell_type": "code",
   "execution_count": 11,
   "id": "fcd13af0",
   "metadata": {},
   "outputs": [
    {
     "data": {
      "text/plain": [
       "GAP: q(2)[a:1->1,b:1->2,c:2->2]"
      ]
     },
     "execution_count": 11,
     "metadata": {},
     "output_type": "execute_result"
    }
   ],
   "source": [
    "RightQuiverFromConcreteCategory( c3c3 )"
   ]
  },
  {
   "cell_type": "code",
   "execution_count": 12,
   "id": "f537a33d",
   "metadata": {
    "slideshow": {
     "slide_type": "-"
    }
   },
   "outputs": [
    {
     "data": {
      "text/plain": [
       "GAP: (Q * q) / [ 1*(a*a*a) - 1*(1), 1*(c*c*c) - 1*(2), 1*(b*c) - 1*(a*b) ]"
      ]
     },
     "execution_count": 12,
     "metadata": {},
     "output_type": "execute_result"
    }
   ],
   "source": [
    "UnderlyingQuiverAlgebra( fpc3c3 )"
   ]
  },
  {
   "cell_type": "code",
   "execution_count": 13,
   "id": "0e7387d8",
   "metadata": {},
   "outputs": [
    {
     "data": {
      "text/plain": [
       "true"
      ]
     },
     "execution_count": 13,
     "metadata": {},
     "output_type": "execute_result"
    }
   ],
   "source": [
    "A == Algebroid( GF3, fpc3c3 )"
   ]
  },
  {
   "cell_type": "markdown",
   "id": "3e928b99",
   "metadata": {
    "slideshow": {
     "slide_type": "slide"
    }
   },
   "source": [
    "The relations can also be checked directly in the algebroid:"
   ]
  },
  {
   "cell_type": "code",
   "execution_count": 14,
   "id": "1ce0145e",
   "metadata": {},
   "outputs": [
    {
     "data": {
      "text/plain": [
       "true"
      ]
     },
     "execution_count": 14,
     "metadata": {},
     "output_type": "execute_result"
    }
   ],
   "source": [
    "A.a^3 == IdentityMorphism( A.\"1\" )"
   ]
  },
  {
   "cell_type": "code",
   "execution_count": 15,
   "id": "a8d72627",
   "metadata": {},
   "outputs": [
    {
     "data": {
      "text/plain": [
       "true"
      ]
     },
     "execution_count": 15,
     "metadata": {},
     "output_type": "execute_result"
    }
   ],
   "source": [
    "A.c^3 == IdentityMorphism( A.\"2\" )"
   ]
  },
  {
   "cell_type": "code",
   "execution_count": 16,
   "id": "98a7d834",
   "metadata": {},
   "outputs": [
    {
     "data": {
      "text/plain": [
       "true"
      ]
     },
     "execution_count": 16,
     "metadata": {},
     "output_type": "execute_result"
    }
   ],
   "source": [
    "A.ab == A.bc"
   ]
  },
  {
   "cell_type": "markdown",
   "id": "fd564bc0",
   "metadata": {
    "slideshow": {
     "slide_type": "slide"
    }
   },
   "source": [
    "A representation of the category `c3c3` is another way to encode a module homomorphism between two modules over the cyclic group $C_3$ of order $3$:\n",
    "The vector space underlying the first module is the given by the value of `(1)`.\n",
    "The action of $C_3$ on the first module is given by the value of `(a)`.\n",
    "The vector space underlying the second module is the given by the value of `(2)`.\n",
    "The action on the second module is given by the value of `(c)`.\n",
    "The above relation of the quiver states that the value of `(b)` is a module homomorphism from the first to the second $C_3$-module."
   ]
  },
  {
   "cell_type": "markdown",
   "id": "0914469c",
   "metadata": {
    "slideshow": {
     "slide_type": "slide"
    }
   },
   "source": [
    "In `FunctorCategories` the matrix category $\\Bbbk$-Mat is defined by the field $\\Bbbk$. So the following is the functor category $\\mathrm{Hom}_{\\Bbbk}(\\mathcal{A},\\Bbbk\\text{-}\\mathrm{Mat})$ with $\\Bbbk = \\mathbb{F}_{3}$."
   ]
  },
  {
   "cell_type": "code",
   "execution_count": 17,
   "id": "4faef998",
   "metadata": {
    "slideshow": {
     "slide_type": "-"
    }
   },
   "outputs": [
    {
     "data": {
      "text/plain": [
       "GAP: FunctorCategory( Algebroid( GF(3), FreeCategory( RightQuiver( \"q(2)[a:1->1,b:1->2,c:2->2]\" ) ) ) / relations, Category of matrices over GF(3) )"
      ]
     },
     "execution_count": 17,
     "metadata": {},
     "output_type": "execute_result"
    }
   ],
   "source": [
    "CatReps = FunctorCategory( A, GF3 )"
   ]
  },
  {
   "cell_type": "markdown",
   "id": "3a2288b5",
   "metadata": {
    "slideshow": {
     "slide_type": "subslide"
    }
   },
   "source": [
    "`CAP` lets us inspect our functor category `CatReps`. The fact that it is a $\\Bbbk$-linear, monoidal and Abelian category will be used very soon."
   ]
  },
  {
   "cell_type": "code",
   "execution_count": 18,
   "id": "0610428e",
   "metadata": {
    "slideshow": {
     "slide_type": "-"
    }
   },
   "outputs": [
    {
     "name": "stdout",
     "output_type": "stream",
     "text": [
      "A CAP category with name FunctorCategory( Algebroid( GF(3), FreeCategory( RightQuiver( \"q(2)[a:1->1,b:1->2,c:2->2]\" ) ) ) / relations, Category of matrices over GF(3) ):\n",
      "\n",
      "103 primitive operations were used to derive 356 operations for this category which algorithmically\n",
      "* IsEquippedWithHomomorphismStructure\n",
      "* IsLinearCategoryOverCommutativeRing\n",
      "* IsSymmetricMonoidalCategory\n",
      "* IsAbelianCategory\n"
     ]
    }
   ],
   "source": [
    "Display( CatReps )"
   ]
  },
  {
   "cell_type": "code",
   "execution_count": 19,
   "id": "f85f1c5c",
   "metadata": {
    "scrolled": true
   },
   "outputs": [
    {
     "data": {
      "text/plain": [
       "GAP: GF(3)"
      ]
     },
     "execution_count": 19,
     "metadata": {},
     "output_type": "execute_result"
    }
   ],
   "source": [
    "CommutativeRingOfLinearCategory( CatReps )"
   ]
  },
  {
   "cell_type": "markdown",
   "id": "2cc4ad6d",
   "metadata": {
    "slideshow": {
     "slide_type": "slide"
    }
   },
   "source": [
    "`CatReps` being a linear category ensures that we have a zero object:"
   ]
  },
  {
   "cell_type": "code",
   "execution_count": 20,
   "id": "45889634",
   "metadata": {
    "slideshow": {
     "slide_type": "-"
    }
   },
   "outputs": [
    {
     "data": {
      "text/plain": [
       "GAP: <(1)->0, (2)->0; (a)->0x0, (b)->0x0, (c)->0x0>"
      ]
     },
     "execution_count": 20,
     "metadata": {},
     "output_type": "execute_result"
    }
   ],
   "source": [
    "zero = ZeroObject( CatReps )"
   ]
  },
  {
   "cell_type": "markdown",
   "id": "2940e595",
   "metadata": {},
   "source": [
    "And it also being a monoidal category ensures that we have a tensor unit:"
   ]
  },
  {
   "cell_type": "code",
   "execution_count": 21,
   "id": "14fc2287",
   "metadata": {},
   "outputs": [
    {
     "data": {
      "text/plain": [
       "GAP: <(1)->1, (2)->1; (a)->1x1, (b)->1x1, (c)->1x1>"
      ]
     },
     "execution_count": 21,
     "metadata": {},
     "output_type": "execute_result"
    }
   ],
   "source": [
    "unit = TensorUnit( CatReps )"
   ]
  },
  {
   "cell_type": "markdown",
   "id": "2e8c1360",
   "metadata": {},
   "source": [
    "So we already have two examples for objects in our functor category `CatReps`. Next we can see how they are displayed:"
   ]
  },
  {
   "cell_type": "code",
   "execution_count": 22,
   "id": "7f1a0dda",
   "metadata": {
    "scrolled": false,
    "slideshow": {
     "slide_type": "slide"
    }
   },
   "outputs": [
    {
     "name": "stdout",
     "output_type": "stream",
     "text": [
      "Image of <(1)>:\n",
      "A vector space object over GF(3) of dimension 0\n",
      "\n",
      "Image of <(2)>:\n",
      "A vector space object over GF(3) of dimension 0\n",
      "\n",
      "Image of (1)-[{ Z(3)^0*(a) }]->(1):\n",
      "(an empty 0 x 0 matrix)\n",
      "\n",
      "A morphism in Category of matrices over GF(3)\n",
      "\n",
      "Image of (1)-[{ Z(3)^0*(b) }]->(2):\n",
      "(an empty 0 x 0 matrix)\n",
      "\n",
      "A morphism in Category of matrices over GF(3)\n",
      "\n",
      "Image of (2)-[{ Z(3)^0*(c) }]->(2):\n",
      "(an empty 0 x 0 matrix)\n",
      "\n",
      "A morphism in Category of matrices over GF(3)\n",
      "\n",
      "An object in FunctorCategory( Algebroid( GF(3), FreeCategory( RightQuiver( \"q(2)[a:1->1,b:1->2,c:2->2]\" ) ) ) / relations, Category of matrices over GF(3) ) given by the above data\n"
     ]
    }
   ],
   "source": [
    "Display( zero )"
   ]
  },
  {
   "cell_type": "code",
   "execution_count": 23,
   "id": "a392fe11",
   "metadata": {
    "scrolled": false,
    "slideshow": {
     "slide_type": "slide"
    }
   },
   "outputs": [
    {
     "name": "stdout",
     "output_type": "stream",
     "text": [
      "Image of <(1)>:\n",
      "A vector space object over GF(3) of dimension 1\n",
      "\n",
      "Image of <(2)>:\n",
      "A vector space object over GF(3) of dimension 1\n",
      "\n",
      "Image of (1)-[{ Z(3)^0*(a) }]->(1):\n",
      " 1\n",
      "\n",
      "An identity morphism in Category of matrices over GF(3)\n",
      "\n",
      "Image of (1)-[{ Z(3)^0*(b) }]->(2):\n",
      " 1\n",
      "\n",
      "An identity morphism in Category of matrices over GF(3)\n",
      "\n",
      "Image of (2)-[{ Z(3)^0*(c) }]->(2):\n",
      " 1\n",
      "\n",
      "An identity morphism in Category of matrices over GF(3)\n",
      "\n",
      "An object in FunctorCategory( Algebroid( GF(3), FreeCategory( RightQuiver( \"q(2)[a:1->1,b:1->2,c:2->2]\" ) ) ) / relations, Category of matrices over GF(3) ) given by the above data\n"
     ]
    }
   ],
   "source": [
    "Display( unit )"
   ]
  },
  {
   "cell_type": "markdown",
   "id": "74794e82",
   "metadata": {
    "slideshow": {
     "slide_type": "slide"
    }
   },
   "source": [
    "As a first non-trivial object in the functor category we define `nine`, by defining its image on objects and on morphisms. The matrices are chosen so that they satisfy the relations between `a`, `b` and `c` in the algebroid."
   ]
  },
  {
   "cell_type": "code",
   "execution_count": 24,
   "id": "77506ae4",
   "metadata": {},
   "outputs": [
    {
     "data": {
      "text/plain": [
       "GAP: <(1)->5, (2)->4; (a)->5x5, (b)->5x4, (c)->4x4>"
      ]
     },
     "execution_count": 24,
     "metadata": {},
     "output_type": "execute_result"
    }
   ],
   "source": [
    "d = [[1,1,0,0,0],[0,1,1,0,0],[0,0,1,0,0],[0,0,0,1,1],[0,0,0,0,1]];;\n",
    "e = [[0,1,0,0],[0,0,1,0],[0,0,0,0],[0,1,0,1],[0,0,1,0]];;\n",
    "f = [[1,1,0,0],[0,1,1,0],[0,0,1,0],[0,0,0,1]];;\n",
    "nine = AsObjectInFunctorCategory( CatReps, [ 5, 4 ], [ d, e, f ] )"
   ]
  },
  {
   "cell_type": "code",
   "execution_count": 25,
   "id": "6e84e445",
   "metadata": {
    "scrolled": false,
    "slideshow": {
     "slide_type": "slide"
    }
   },
   "outputs": [
    {
     "name": "stdout",
     "output_type": "stream",
     "text": [
      "Image of <(1)>:\n",
      "A vector space object over GF(3) of dimension 5\n",
      "\n",
      "Image of <(2)>:\n",
      "A vector space object over GF(3) of dimension 4\n",
      "\n",
      "Image of (1)-[{ Z(3)^0*(a) }]->(1):\n",
      " 1 1 . . .\n",
      " . 1 1 . .\n",
      " . . 1 . .\n",
      " . . . 1 1\n",
      " . . . . 1\n",
      "\n",
      "A morphism in Category of matrices over GF(3)\n",
      "\n",
      "Image of (1)-[{ Z(3)^0*(b) }]->(2):\n",
      " . 1 . .\n",
      " . . 1 .\n",
      " . . . .\n",
      " . 1 . 1\n",
      " . . 1 .\n",
      "\n",
      "A morphism in Category of matrices over GF(3)\n",
      "\n",
      "Image of (2)-[{ Z(3)^0*(c) }]->(2):\n",
      " 1 1 . .\n",
      " . 1 1 .\n",
      " . . 1 .\n",
      " . . . 1\n",
      "\n",
      "A morphism in Category of matrices over GF(3)\n",
      "\n",
      "An object in FunctorCategory( Algebroid( GF(3), FreeCategory( RightQuiver( \"q(2)[a:1->1,b:1->2,c:2->2]\" ) ) ) / relations, Category of matrices over GF(3) ) given by the above data\n"
     ]
    }
   ],
   "source": [
    "Display( nine )"
   ]
  },
  {
   "cell_type": "code",
   "execution_count": 26,
   "id": "3e0ff4ee",
   "metadata": {
    "slideshow": {
     "slide_type": "slide"
    }
   },
   "outputs": [
    {
     "data": {
      "text/plain": [
       "GAP: <A vector space object over GF(3) of dimension 5>"
      ]
     },
     "execution_count": 26,
     "metadata": {},
     "output_type": "execute_result"
    }
   ],
   "source": [
    "nine( A.\"1\" )"
   ]
  },
  {
   "cell_type": "code",
   "execution_count": 27,
   "id": "be9694ae",
   "metadata": {},
   "outputs": [
    {
     "data": {
      "text/plain": [
       "GAP: <A vector space object over GF(3) of dimension 4>"
      ]
     },
     "execution_count": 27,
     "metadata": {},
     "output_type": "execute_result"
    }
   ],
   "source": [
    "nine( A.\"2\" )"
   ]
  },
  {
   "cell_type": "code",
   "execution_count": 28,
   "id": "a7b7393f",
   "metadata": {},
   "outputs": [
    {
     "data": {
      "text/plain": [
       "GAP: <A morphism in Category of matrices over GF(3)>"
      ]
     },
     "execution_count": 28,
     "metadata": {},
     "output_type": "execute_result"
    }
   ],
   "source": [
    "nine( A.b )"
   ]
  },
  {
   "cell_type": "code",
   "execution_count": 29,
   "id": "fbae52d1",
   "metadata": {},
   "outputs": [
    {
     "name": "stdout",
     "output_type": "stream",
     "text": [
      " . 1 . .\n",
      " . . 1 .\n",
      " . . . .\n",
      " . 1 . 1\n",
      " . . 1 .\n",
      "\n",
      "A morphism in Category of matrices over GF(3)\n"
     ]
    }
   ],
   "source": [
    "Display( nine( A.b ) )"
   ]
  },
  {
   "cell_type": "code",
   "execution_count": 30,
   "id": "c372e84b",
   "metadata": {
    "slideshow": {
     "slide_type": "slide"
    }
   },
   "outputs": [
    {
     "data": {
      "text/plain": [
       "true"
      ]
     },
     "execution_count": 30,
     "metadata": {},
     "output_type": "execute_result"
    }
   ],
   "source": [
    "IsWellDefined( nine )"
   ]
  },
  {
   "cell_type": "markdown",
   "id": "3c48fb7c",
   "metadata": {
    "slideshow": {
     "slide_type": "-"
    }
   },
   "source": [
    "One of the functoriality axioms is that $Ff\\cdot Fg = F(f\\cdot g)$ for all composable $f, g$. In our case this means the following are equivalent."
   ]
  },
  {
   "cell_type": "code",
   "execution_count": 31,
   "id": "496d3d74",
   "metadata": {},
   "outputs": [
    {
     "data": {
      "text/plain": [
       "true"
      ]
     },
     "execution_count": 31,
     "metadata": {},
     "output_type": "execute_result"
    }
   ],
   "source": [
    "nine( A.a )*nine( A.b ) == nine( A.ab )"
   ]
  },
  {
   "cell_type": "markdown",
   "id": "fdfd0fae",
   "metadata": {
    "slideshow": {
     "slide_type": "slide"
    }
   },
   "source": [
    "Now we check one of the relations:"
   ]
  },
  {
   "cell_type": "code",
   "execution_count": 32,
   "id": "25131812",
   "metadata": {},
   "outputs": [
    {
     "data": {
      "text/plain": [
       "true"
      ]
     },
     "execution_count": 32,
     "metadata": {},
     "output_type": "execute_result"
    }
   ],
   "source": [
    "nine(A.b)*nine(A.c) == nine(A.a)*nine(A.b)"
   ]
  },
  {
   "cell_type": "code",
   "execution_count": 33,
   "id": "20a945fd",
   "metadata": {},
   "outputs": [
    {
     "data": {
      "text/plain": [
       "true"
      ]
     },
     "execution_count": 33,
     "metadata": {},
     "output_type": "execute_result"
    }
   ],
   "source": [
    "nine( A.bc ) == nine( A.ab )"
   ]
  },
  {
   "cell_type": "markdown",
   "id": "27731482",
   "metadata": {
    "slideshow": {
     "slide_type": "slide"
    }
   },
   "source": [
    "Now since `CatReps` is an Abelian category, we have direct sums, i.e. for a family of representations $\\{F_{i} : \\mathcal{A} \\longrightarrow \\Bbbk\\text{-}\\mathrm{Mat}\\}$ we have an object $F = \\oplus_{i} F_{i}$ and a family of natural transformations $\\{\\iota_{i} : F_{i} \\rightarrow F\\}$ and $\\{\\pi_{i} : F \\rightarrow F_{i}\\}$ together with the universal morphisms $u_{\\text{in}}$ and $u_{\\text{out}}$.\n",
    "\n",
    "What we want to calculate is the other direction, i.e. given a representation $F$ we want to calculate its direct sum decomposition $\\{F_{i}\\}$ such that $F = \\oplus_{i} F_{i}$."
   ]
  },
  {
   "cell_type": "code",
   "execution_count": 34,
   "id": "e69a8a45",
   "metadata": {
    "slideshow": {
     "slide_type": "slide"
    }
   },
   "outputs": [
    {
     "data": {
      "text/plain": [
       "1"
      ]
     },
     "execution_count": 34,
     "metadata": {},
     "output_type": "execute_result"
    }
   ],
   "source": [
    "Length( WeakDirectSumDecomposition( nine ) )"
   ]
  },
  {
   "cell_type": "markdown",
   "id": "86051f7b",
   "metadata": {},
   "source": [
    "So our representation `nine` is already indecomposable.\n",
    "\n",
    "Instead of coming up with a new example by hand, we calculate another representation using the tensor product which we have, since `CatReps` is a monoidal category.\n",
    "\n",
    "`fortyone`$:=$ `nine` $\\otimes$ `nine` "
   ]
  },
  {
   "cell_type": "code",
   "execution_count": 35,
   "id": "c123dacd",
   "metadata": {},
   "outputs": [
    {
     "data": {
      "text/plain": [
       "GAP: <(1)->25, (2)->16; (a)->25x25, (b)->25x16, (c)->16x16>"
      ]
     },
     "execution_count": 35,
     "metadata": {},
     "output_type": "execute_result"
    }
   ],
   "source": [
    "fortyone = TensorProductOnObjects( nine, nine )"
   ]
  },
  {
   "cell_type": "code",
   "execution_count": 36,
   "id": "82d11e7d",
   "metadata": {
    "slideshow": {
     "slide_type": "subslide"
    }
   },
   "outputs": [
    {
     "data": {
      "text/plain": [
       "true"
      ]
     },
     "execution_count": 36,
     "metadata": {},
     "output_type": "execute_result"
    }
   ],
   "source": [
    "IsWellDefined( fortyone )"
   ]
  },
  {
   "cell_type": "code",
   "execution_count": 37,
   "id": "a953d006",
   "metadata": {},
   "outputs": [
    {
     "data": {
      "text/plain": [
       "GAP: <A vector space object over GF(3) of dimension 25>"
      ]
     },
     "execution_count": 37,
     "metadata": {},
     "output_type": "execute_result"
    }
   ],
   "source": [
    "fortyone( A.\"1\" )"
   ]
  },
  {
   "cell_type": "code",
   "execution_count": 38,
   "id": "4b3119ea",
   "metadata": {
    "slideshow": {
     "slide_type": "-"
    }
   },
   "outputs": [
    {
     "data": {
      "text/plain": [
       "GAP: <A vector space object over GF(3) of dimension 16>"
      ]
     },
     "execution_count": 38,
     "metadata": {},
     "output_type": "execute_result"
    }
   ],
   "source": [
    "fortyone( A.\"2\" )"
   ]
  },
  {
   "cell_type": "markdown",
   "id": "11f98705",
   "metadata": {
    "slideshow": {
     "slide_type": "subslide"
    }
   },
   "source": [
    "On the left-hand side we have a tensorproduct on objects in `CatReps` then applied to `A.a` which yields a matrix. On the right-hand side we have the matrix tensorproduct of the matrix `nine( A.a )` with itself."
   ]
  },
  {
   "cell_type": "code",
   "execution_count": 39,
   "id": "02857cab",
   "metadata": {
    "slideshow": {
     "slide_type": "-"
    }
   },
   "outputs": [
    {
     "data": {
      "text/plain": [
       "true"
      ]
     },
     "execution_count": 39,
     "metadata": {},
     "output_type": "execute_result"
    }
   ],
   "source": [
    "fortyone( A.a ) == TensorProductOnMorphisms( nine( A.a ), nine( A.a ) )"
   ]
  },
  {
   "cell_type": "code",
   "execution_count": 40,
   "id": "1944d8f4",
   "metadata": {},
   "outputs": [
    {
     "data": {
      "text/plain": [
       "true"
      ]
     },
     "execution_count": 40,
     "metadata": {},
     "output_type": "execute_result"
    }
   ],
   "source": [
    "fortyone( A.b ) == TensorProductOnMorphisms( nine( A.b ), nine( A.b ) )"
   ]
  },
  {
   "cell_type": "code",
   "execution_count": 41,
   "id": "509acd40",
   "metadata": {},
   "outputs": [
    {
     "data": {
      "text/plain": [
       "true"
      ]
     },
     "execution_count": 41,
     "metadata": {},
     "output_type": "execute_result"
    }
   ],
   "source": [
    "fortyone( A.c ) == TensorProductOnMorphisms( nine( A.c ), nine( A.c ) )"
   ]
  },
  {
   "cell_type": "code",
   "execution_count": 42,
   "id": "89ac24dc",
   "metadata": {
    "scrolled": false,
    "slideshow": {
     "slide_type": "slide"
    }
   },
   "outputs": [
    {
     "name": "stdout",
     "output_type": "stream",
     "text": [
      "Image of <(1)>:\n",
      "A vector space object over GF(3) of dimension 25\n",
      "\n",
      "Image of <(2)>:\n",
      "A vector space object over GF(3) of dimension 16\n",
      "\n",
      "Image of (1)-[{ Z(3)^0*(a) }]->(1):\n",
      " 1 1 . . . 1 1 . . . . . . . . . . . . . . . . . .\n",
      " . 1 1 . . . 1 1 . . . . . . . . . . . . . . . . .\n",
      " . . 1 . . . . 1 . . . . . . . . . . . . . . . . .\n",
      " . . . 1 1 . . . 1 1 . . . . . . . . . . . . . . .\n",
      " . . . . 1 . . . . 1 . . . . . . . . . . . . . . .\n",
      " . . . . . 1 1 . . . 1 1 . . . . . . . . . . . . .\n",
      " . . . . . . 1 1 . . . 1 1 . . . . . . . . . . . .\n",
      " . . . . . . . 1 . . . . 1 . . . . . . . . . . . .\n",
      " . . . . . . . . 1 1 . . . 1 1 . . . . . . . . . .\n",
      " . . . . . . . . . 1 . . . . 1 . . . . . . . . . .\n",
      " . . . . . . . . . . 1 1 . . . . . . . . . . . . .\n",
      " . . . . . . . . . . . 1 1 . . . . . . . . . . . .\n",
      " . . . . . . . . . . . . 1 . . . . . . . . . . . .\n",
      " . . . . . . . . . . . . . 1 1 . . . . . . . . . .\n",
      " . . . . . . . . . . . . . . 1 . . . . . . . . . .\n",
      " . . . . . . . . . . . . . . . 1 1 . . . 1 1 . . .\n",
      " . . . . . . . . . . . . . . . . 1 1 . . . 1 1 . .\n",
      " . . . . . . . . . . . . . . . . . 1 . . . . 1 . .\n",
      " . . . . . . . . . . . . . . . . . . 1 1 . . . 1 1\n",
      " . . . . . . . . . . . . . . . . . . . 1 . . . . 1\n",
      " . . . . . . . . . . . . . . . . . . . . 1 1 . . .\n",
      " . . . . . . . . . . . . . . . . . . . . . 1 1 . .\n",
      " . . . . . . . . . . . . . . . . . . . . . . 1 . .\n",
      " . . . . . . . . . . . . . . . . . . . . . . . 1 1\n",
      " . . . . . . . . . . . . . . . . . . . . . . . . 1\n",
      "\n",
      "A morphism in Category of matrices over GF(3)\n",
      "\n",
      "Image of (1)-[{ Z(3)^0*(b) }]->(2):\n",
      " . . . . . 1 . . . . . . . . . .\n",
      " . . . . . . 1 . . . . . . . . .\n",
      " . . . . . . . . . . . . . . . .\n",
      " . . . . . 1 . 1 . . . . . . . .\n",
      " . . . . . . 1 . . . . . . . . .\n",
      " . . . . . . . . . 1 . . . . . .\n",
      " . . . . . . . . . . 1 . . . . .\n",
      " . . . . . . . . . . . . . . . .\n",
      " . . . . . . . . . 1 . 1 . . . .\n",
      " . . . . . . . . . . 1 . . . . .\n",
      " . . . . . . . . . . . . . . . .\n",
      " . . . . . . . . . . . . . . . .\n",
      " . . . . . . . . . . . . . . . .\n",
      " . . . . . . . . . . . . . . . .\n",
      " . . . . . . . . . . . . . . . .\n",
      " . . . . . 1 . . . . . . . 1 . .\n",
      " . . . . . . 1 . . . . . . . 1 .\n",
      " . . . . . . . . . . . . . . . .\n",
      " . . . . . 1 . 1 . . . . . 1 . 1\n",
      " . . . . . . 1 . . . . . . . 1 .\n",
      " . . . . . . . . . 1 . . . . . .\n",
      " . . . . . . . . . . 1 . . . . .\n",
      " . . . . . . . . . . . . . . . .\n",
      " . . . . . . . . . 1 . 1 . . . .\n",
      " . . . . . . . . . . 1 . . . . .\n",
      "\n",
      "A morphism in Category of matrices over GF(3)\n",
      "\n",
      "Image of (2)-[{ Z(3)^0*(c) }]->(2):\n",
      " 1 1 . . 1 1 . . . . . . . . . .\n",
      " . 1 1 . . 1 1 . . . . . . . . .\n",
      " . . 1 . . . 1 . . . . . . . . .\n",
      " . . . 1 . . . 1 . . . . . . . .\n",
      " . . . . 1 1 . . 1 1 . . . . . .\n",
      " . . . . . 1 1 . . 1 1 . . . . .\n",
      " . . . . . . 1 . . . 1 . . . . .\n",
      " . . . . . . . 1 . . . 1 . . . .\n",
      " . . . . . . . . 1 1 . . . . . .\n",
      " . . . . . . . . . 1 1 . . . . .\n",
      " . . . . . . . . . . 1 . . . . .\n",
      " . . . . . . . . . . . 1 . . . .\n",
      " . . . . . . . . . . . . 1 1 . .\n",
      " . . . . . . . . . . . . . 1 1 .\n",
      " . . . . . . . . . . . . . . 1 .\n",
      " . . . . . . . . . . . . . . . 1\n",
      "\n",
      "A morphism in Category of matrices over GF(3)\n",
      "\n",
      "An object in FunctorCategory( Algebroid( GF(3), FreeCategory( RightQuiver( \"q(2)[a:1->1,b:1->2,c:2->2]\" ) ) ) / relations, Category of matrices over GF(3) ) given by the above data\n"
     ]
    }
   ],
   "source": [
    "Display( fortyone )"
   ]
  },
  {
   "cell_type": "markdown",
   "id": "9b6d487b",
   "metadata": {
    "slideshow": {
     "slide_type": "slide"
    }
   },
   "source": [
    "For this functor we get a direct sum decomposition into 10 direct summands. The output is a list of coprojection morphisms with same target $F$."
   ]
  },
  {
   "cell_type": "code",
   "execution_count": 43,
   "id": "c1c0481d",
   "metadata": {},
   "outputs": [],
   "source": [
    "etas = WeakDirectSumDecomposition( fortyone, random = false );"
   ]
  },
  {
   "cell_type": "code",
   "execution_count": 44,
   "id": "6518e6bc",
   "metadata": {},
   "outputs": [
    {
     "data": {
      "text/plain": [
       "GAP: [ [ 3, 0 ], [ 3, 0 ], [ 3, 0 ], [ 3, 0 ], [ 0, 3 ], [ 1, 3 ], [ 3, 3 ], [ 3, 3 ], [ 3, 3 ], [ 3, 1 ] ]"
      ]
     },
     "execution_count": 44,
     "metadata": {},
     "output_type": "execute_result"
    }
   ],
   "source": [
    "dec = List( etas, eta -> List( SetOfObjects( A ),\n",
    "             o -> Dimension( Source( eta( o ) ) ) ) )"
   ]
  },
  {
   "cell_type": "markdown",
   "id": "99ec0e0d",
   "metadata": {
    "slideshow": {
     "slide_type": "slide"
    }
   },
   "source": [
    "The dimensions of each source of a transformation `eta` at object `1` add up to 25, the dimensions at object `2` add up to 16."
   ]
  },
  {
   "cell_type": "code",
   "execution_count": 45,
   "id": "2212b9f4",
   "metadata": {},
   "outputs": [
    {
     "data": {
      "text/plain": [
       "true"
      ]
     },
     "execution_count": 45,
     "metadata": {},
     "output_type": "execute_result"
    }
   ],
   "source": [
    "Sum( List( dec, dims -> dims[1] ) ) == 25"
   ]
  },
  {
   "cell_type": "code",
   "execution_count": 46,
   "id": "a15aece2",
   "metadata": {},
   "outputs": [
    {
     "data": {
      "text/plain": [
       "true"
      ]
     },
     "execution_count": 46,
     "metadata": {},
     "output_type": "execute_result"
    }
   ],
   "source": [
    "Sum( List( dec, dims -> dims[2] ) ) == 16"
   ]
  },
  {
   "cell_type": "markdown",
   "id": "23a46d8b",
   "metadata": {
    "slideshow": {
     "slide_type": "slide"
    }
   },
   "source": [
    "Given our family of morphisms with same target $F$, $\\eta = \\{ \\eta_{i} : F_{i} \\rightarrow F\\}$ we can calculate the unique morphism `iso` $= u_{\\text{out}}(\\eta)$, i.e. the unique coproduct morphism from the direct sum object to our functor `fortyone`: $\\oplus_{i} F_{i} \\Rightarrow F$"
   ]
  },
  {
   "cell_type": "code",
   "execution_count": 47,
   "id": "e23280bc",
   "metadata": {
    "slideshow": {
     "slide_type": "-"
    }
   },
   "outputs": [
    {
     "data": {
      "text/plain": [
       "GAP: <(1)->25x25, (2)->16x16>"
      ]
     },
     "execution_count": 47,
     "metadata": {},
     "output_type": "execute_result"
    }
   ],
   "source": [
    "iso = UniversalMorphismFromDirectSum( etas )"
   ]
  },
  {
   "cell_type": "code",
   "execution_count": 48,
   "id": "981b24a9",
   "metadata": {},
   "outputs": [
    {
     "data": {
      "text/plain": [
       "true"
      ]
     },
     "execution_count": 48,
     "metadata": {},
     "output_type": "execute_result"
    }
   ],
   "source": [
    "IsIsomorphism( iso )"
   ]
  },
  {
   "cell_type": "code",
   "execution_count": 49,
   "id": "03582d67",
   "metadata": {},
   "outputs": [
    {
     "data": {
      "text/plain": [
       "true"
      ]
     },
     "execution_count": 49,
     "metadata": {},
     "output_type": "execute_result"
    }
   ],
   "source": [
    "Range( iso ) == fortyone"
   ]
  },
  {
   "cell_type": "code",
   "execution_count": 50,
   "id": "f9d63e00",
   "metadata": {
    "scrolled": false,
    "slideshow": {
     "slide_type": "slide"
    }
   },
   "outputs": [
    {
     "name": "stdout",
     "output_type": "stream",
     "text": [
      "Image of <(1)>:\n",
      "A vector space object over GF(3) of dimension 25\n",
      "\n",
      "Image of <(2)>:\n",
      "A vector space object over GF(3) of dimension 16\n",
      "\n",
      "Image of (1)-[{ Z(3)^0*(a) }]->(1):\n",
      " 1 1 . . . . . . . . . . . . . . . . . . . . . . .\n",
      " . 1 . . . . . . . . . . . . . . . . . . . . . . .\n",
      " 1 1 1 . . . . . . . . . . . . . . . . . . . . . .\n",
      " . . . 1 . . . . . . . . . . . . . . . . . . . . .\n",
      " . . . 1 1 . . . . . . . . . . . . . . . . . . . .\n",
      " . . . . 1 1 . . . . . . . . . . . . . . . . . . .\n",
      " . . . . . . . 1 . . . . . . . . . . . . . . . . .\n",
      " . . . . . . 2 2 . . . . . . . . . . . . . . . . .\n",
      " . . . . . . 1 . 1 . . . . . . . . . . . . . . . .\n",
      " . . . . . . . . . 1 2 . . . . . . . . . . . . . .\n",
      " . . . . . . . . . . 1 . . . . . . . . . . . . . .\n",
      " . . . . . . . . . 2 . 1 . . . . . . . . . . . . .\n",
      " . . . . . . . . . . . . 1 . . . . . . . . . . . .\n",
      " . . . . . . . . . . . . . 1 1 . . . . . . . . . .\n",
      " . . . . . . . . . . . . . . 1 1 . . . . . . . . .\n",
      " . . . . . . . . . . . . . . . 1 . . . . . . . . .\n",
      " . . . . . . . . . . . . . . . . 1 1 . . . . . . .\n",
      " . . . . . . . . . . . . . . . . . 1 1 . . . . . .\n",
      " . . . . . . . . . . . . . . . . . . 1 . . . . . .\n",
      " . . . . . . . . . . . . . . . . . . . 1 1 . . . .\n",
      " . . . . . . . . . . . . . . . . . . . . 1 1 . . .\n",
      " . . . . . . . . . . . . . . . . . . . . . 1 . . .\n",
      " . . . . . . . . . . . . . . . . . . . . . . 1 1 .\n",
      " . . . . . . . . . . . . . . . . . . . . . . . 1 1\n",
      " . . . . . . . . . . . . . . . . . . . . . . . . 1\n",
      "\n",
      "A morphism in Category of matrices over GF(3)\n",
      "\n",
      "Image of (1)-[{ Z(3)^0*(b) }]->(2):\n",
      " . . . . . . . . . . . . . . . .\n",
      " . . . . . . . . . . . . . . . .\n",
      " . . . . . . . . . . . . . . . .\n",
      " . . . . . . . . . . . . . . . .\n",
      " . . . . . . . . . . . . . . . .\n",
      " . . . . . . . . . . . . . . . .\n",
      " . . . . . . . . . . . . . . . .\n",
      " . . . . . . . . . . . . . . . .\n",
      " . . . . . . . . . . . . . . . .\n",
      " . . . . . . . . . . . . . . . .\n",
      " . . . . . . . . . . . . . . . .\n",
      " . . . . . . . . . . . . . . . .\n",
      " . . . 1 . 2 . . . . . . . . . .\n",
      " . . . . . . 1 . 2 . . . . . . .\n",
      " . . . . . . . 1 2 . . . . . . .\n",
      " . . . . . . . . 2 . . . . . . .\n",
      " . . . . . . . . . . 1 2 . . . .\n",
      " . . . . . . . . . . . 1 . . . .\n",
      " . . . . . . . . . . . . . . . .\n",
      " . . . . . . . . . . . . . 2 1 .\n",
      " . . . . . . . . . . . . . . 2 .\n",
      " . . . . . . . . . . . . . . . .\n",
      " . . . . . . . . . . . . . . . 1\n",
      " . . . . . . . . . . . . . . . .\n",
      " . . . . . . . . . . . . . . . .\n",
      "\n",
      "A morphism in Category of matrices over GF(3)\n",
      "\n",
      "Image of (2)-[{ Z(3)^0*(c) }]->(2):\n",
      " 1 . . . . . . . . . . . . . . .\n",
      " . 1 1 . . . . . . . . . . . . .\n",
      " 1 . 1 . . . . . . . . . . . . .\n",
      " . . . . . 1 . . . . . . . . . .\n",
      " . . . . 1 1 . . . . . . . . . .\n",
      " . . . 2 . 2 . . . . . . . . . .\n",
      " . . . . . . 1 1 2 . . . . . . .\n",
      " . . . . . . . 1 2 . . . . . . .\n",
      " . . . . . . . . 1 . . . . . . .\n",
      " . . . . . . . . . 1 1 . . . . .\n",
      " . . . . . . . . . . 1 1 . . . .\n",
      " . . . . . . . . . . . 1 . . . .\n",
      " . . . . . . . . . . . . 1 1 . .\n",
      " . . . . . . . . . . . . . 1 1 .\n",
      " . . . . . . . . . . . . . . 1 .\n",
      " . . . . . . . . . . . . . . . 1\n",
      "\n",
      "A morphism in Category of matrices over GF(3)\n",
      "\n",
      "An object in FunctorCategory( Algebroid( GF(3), FreeCategory( RightQuiver( \"q(2)[a:1->1,b:1->2,c:2->2]\" ) ) ) / relations, Category of matrices over GF(3) ) given by the above data\n"
     ]
    }
   ],
   "source": [
    "Display( Source( iso ) )"
   ]
  },
  {
   "cell_type": "markdown",
   "id": "2c8a18af",
   "metadata": {
    "slideshow": {
     "slide_type": "subslide"
    }
   },
   "source": [
    "We can also display the isomorphism `iso` itself. As a natural transformation it is defined by its components at object `(1)` and at object `(2)`."
   ]
  },
  {
   "cell_type": "code",
   "execution_count": 51,
   "id": "07032c87",
   "metadata": {
    "scrolled": false,
    "slideshow": {
     "slide_type": "-"
    }
   },
   "outputs": [
    {
     "name": "stdout",
     "output_type": "stream",
     "text": [
      "Image of <(1)>:\n",
      " . . 1 . . . 2 1 . 1 1 . . 2 . . . 1 . . . . . . .\n",
      " . . . . . . . . . . . . . . . . . . . . . . 1 . .\n",
      " . 1 2 . 2 1 1 2 2 2 1 . . 2 . . 1 . . 2 2 . . 1 .\n",
      " . . . . . . . 2 . . . 1 1 . . . . . . . . . 2 . .\n",
      " . . 1 . . . 1 1 . 1 . 2 . 2 . . . 1 . . . 1 1 . .\n",
      " . 1 2 . 2 . 1 2 2 2 1 . . 2 . . 1 . . 2 . . . 1 .\n",
      " . . 1 . . . 1 1 . 1 . . 2 2 . . . 1 . . . 1 1 . .\n",
      " . . 1 . . . 1 . . 1 . 1 1 2 . . . 1 . . . 1 . . .\n",
      " . 1 1 . 2 . 2 . 2 1 1 . . . . . 1 . . 2 . . . 1 .\n",
      " . . . . . . . . . 1 . 2 . 1 1 . . 2 . . . 2 2 . .\n",
      " . . . . . . . . . . . . 1 . 1 . . . . . . . 2 . .\n",
      " . . . . . . . . 2 . 1 . . . . . 1 . . 2 . . . 1 .\n",
      " . . 2 . . . 1 2 . 2 2 . . 1 . . . 2 . 2 . 1 . 1 .\n",
      " 2 . 1 1 . 1 2 1 2 . . . . 1 . 1 . . . 1 1 . . 2 .\n",
      " . 2 . . 1 2 . . 1 . 1 . . 2 . . 1 . . . 1 2 . . .\n",
      " . . 2 . . . 1 2 . 2 2 . . 1 . . . 1 . . . 2 . . .\n",
      " 2 . . 1 . 1 . . 2 2 2 . . 2 . . . 2 . . . 1 . . .\n",
      " . 2 . . 1 2 . . 1 . 1 . . 2 . . . . . . . . . . .\n",
      " . . 2 . . . 1 2 . 2 2 . . 1 . . . . . . . . . . .\n",
      " 1 . . . 2 2 . . 2 . 1 . . 1 . 2 2 1 . 2 1 . . 1 .\n",
      " . 1 . . . 1 . . . 1 2 . . 2 . . 2 2 . . 2 2 . . .\n",
      " . . 1 . . . 2 1 . . 1 . . . . . . 2 . . . 1 . . .\n",
      " 1 . . 2 . 2 . . 1 . 1 . . 2 . 2 2 . 1 1 1 1 . 2 2\n",
      " . 1 . . 2 1 . . 2 . 2 . . 1 . . 2 2 . 1 2 2 . 1 1\n",
      " . . 1 . . . 2 1 . 1 1 . . 2 . . . 2 . . . 1 . . 2\n",
      "\n",
      "An isomorphism in Category of matrices over GF(3)\n",
      "\n",
      "Image of <(2)>:\n",
      " . . 2 . . 1 . . 2 2 1 . . . . .\n",
      " 2 1 . . . . . . . . . . . 1 . .\n",
      " . 2 1 . 2 . 1 . . . . . . . 1 .\n",
      " . . 2 . . 2 . 2 . . . 1 . 1 . .\n",
      " . 2 . 2 . 2 . . . . . . 1 1 . .\n",
      " . . 2 . . 2 1 2 . 2 2 . . 1 1 .\n",
      " . . . . . 1 1 1 . . . 1 . 1 1 .\n",
      " . . . . . . 1 . . 1 . 1 . . 1 .\n",
      " . . . . . . . . . . 1 . . . . .\n",
      " . . . 1 . . . . . . . . . . . .\n",
      " . . . . . . . 1 . . . . . . . .\n",
      " . . . . . . . . . . . 1 . . . .\n",
      " . . . . . . . . . . . . 1 . . .\n",
      " . . . . . . . . . . . . . 1 . .\n",
      " . . . . . . . . . . . . . . 1 .\n",
      " . . . . . . . . . . . . . . . 1\n",
      "\n",
      "An isomorphism in Category of matrices over GF(3)\n",
      "\n",
      "A morphism in FunctorCategory( Algebroid( GF(3), FreeCategory( RightQuiver( \"q(2)[a:1->1,b:1->2,c:2->2]\" ) ) ) / relations, Category of matrices over GF(3) ) given by the above data\n"
     ]
    }
   ],
   "source": [
    "Display( iso )"
   ]
  },
  {
   "cell_type": "markdown",
   "id": "dad7391c",
   "metadata": {
    "slideshow": {
     "slide_type": "slide"
    }
   },
   "source": [
    "Next we pick one of the `etas` with dimension `3` at both objects."
   ]
  },
  {
   "cell_type": "code",
   "execution_count": 52,
   "id": "a803f3d3",
   "metadata": {
    "slideshow": {
     "slide_type": "-"
    }
   },
   "outputs": [
    {
     "data": {
      "text/plain": [
       "GAP: <(1)->3x25, (2)->3x16>"
      ]
     },
     "execution_count": 52,
     "metadata": {},
     "output_type": "execute_result"
    }
   ],
   "source": [
    "eta = etas[9]"
   ]
  },
  {
   "cell_type": "code",
   "execution_count": 53,
   "id": "848813fd",
   "metadata": {},
   "outputs": [
    {
     "data": {
      "text/plain": [
       "GAP: <(1)->9x625, (2)->9x256>"
      ]
     },
     "execution_count": 53,
     "metadata": {},
     "output_type": "execute_result"
    }
   ],
   "source": [
    "TensorProductOnMorphisms( eta, eta )"
   ]
  },
  {
   "cell_type": "code",
   "execution_count": 54,
   "id": "20227e4a",
   "metadata": {},
   "outputs": [
    {
     "data": {
      "text/plain": [
       "GAP: <(1)->3, (2)->3; (a)->3x3, (b)->3x3, (c)->3x3>"
      ]
     },
     "execution_count": 54,
     "metadata": {},
     "output_type": "execute_result"
    }
   ],
   "source": [
    "six = Source( eta )"
   ]
  },
  {
   "cell_type": "markdown",
   "id": "5f694700",
   "metadata": {},
   "source": [
    "We might recognize `six` as one of the 3x3 matrix blocks in `Source( iso )` above."
   ]
  },
  {
   "cell_type": "code",
   "execution_count": 55,
   "id": "14bc9e5e",
   "metadata": {
    "scrolled": false,
    "slideshow": {
     "slide_type": "slide"
    }
   },
   "outputs": [
    {
     "name": "stdout",
     "output_type": "stream",
     "text": [
      "Image of <(1)>:\n",
      "A vector space object over GF(3) of dimension 3\n",
      "\n",
      "Image of <(2)>:\n",
      "A vector space object over GF(3) of dimension 3\n",
      "\n",
      "Image of (1)-[{ Z(3)^0*(a) }]->(1):\n",
      " 1 1 .\n",
      " . 1 1\n",
      " . . 1\n",
      "\n",
      "A morphism in Category of matrices over GF(3)\n",
      "\n",
      "Image of (1)-[{ Z(3)^0*(b) }]->(2):\n",
      " . 2 1\n",
      " . . 2\n",
      " . . .\n",
      "\n",
      "A morphism in Category of matrices over GF(3)\n",
      "\n",
      "Image of (2)-[{ Z(3)^0*(c) }]->(2):\n",
      " 1 1 .\n",
      " . 1 1\n",
      " . . 1\n",
      "\n",
      "A morphism in Category of matrices over GF(3)\n",
      "\n",
      "An object in FunctorCategory( Algebroid( GF(3), FreeCategory( RightQuiver( \"q(2)[a:1->1,b:1->2,c:2->2]\" ) ) ) / relations, Category of matrices over GF(3) ) given by the above data\n"
     ]
    }
   ],
   "source": [
    "Display( six )"
   ]
  },
  {
   "cell_type": "markdown",
   "id": "4af4e010",
   "metadata": {
    "slideshow": {
     "slide_type": "slide"
    }
   },
   "source": [
    "We want to distinguish between different objects in that direct sum even if they have the same dimensions at both objects in $\\mathcal{A}$. That is we are looking for Hom-based invariants."
   ]
  },
  {
   "cell_type": "code",
   "execution_count": 56,
   "id": "21129dc1",
   "metadata": {},
   "outputs": [
    {
     "data": {
      "text/plain": [
       "GAP: <(1)->1x3, (2)->0x3>"
      ]
     },
     "execution_count": 56,
     "metadata": {},
     "output_type": "execute_result"
    }
   ],
   "source": [
    "emb = EmbeddingOfSumOfImagesOfAllMorphisms( unit, six )"
   ]
  },
  {
   "cell_type": "code",
   "execution_count": 57,
   "id": "7b8001eb",
   "metadata": {
    "scrolled": true
   },
   "outputs": [
    {
     "name": "stdout",
     "output_type": "stream",
     "text": [
      "Image of <(1)>:\n",
      " . . 1\n",
      "\n",
      "A morphism in Category of matrices over GF(3)\n",
      "\n",
      "Image of <(2)>:\n",
      "(an empty 0 x 3 matrix)\n",
      "\n",
      "A morphism in Category of matrices over GF(3)\n",
      "\n",
      "A morphism in FunctorCategory( Algebroid( GF(3), FreeCategory( RightQuiver( \"q(2)[a:1->1,b:1->2,c:2->2]\" ) ) ) / relations, Category of matrices over GF(3) ) given by the above data\n"
     ]
    }
   ],
   "source": [
    "Display( emb )"
   ]
  },
  {
   "cell_type": "code",
   "execution_count": 58,
   "id": "15edcece",
   "metadata": {
    "slideshow": {
     "slide_type": "slide"
    }
   },
   "outputs": [
    {
     "data": {
      "text/plain": [
       "GAP: <(1)->1, (2)->0; (a)->1x1, (b)->1x0, (c)->0x0>"
      ]
     },
     "execution_count": 58,
     "metadata": {},
     "output_type": "execute_result"
    }
   ],
   "source": [
    "s1 = Source( emb )"
   ]
  },
  {
   "cell_type": "code",
   "execution_count": 59,
   "id": "a7c97539",
   "metadata": {
    "scrolled": false
   },
   "outputs": [
    {
     "name": "stdout",
     "output_type": "stream",
     "text": [
      "Image of <(1)>:\n",
      "A vector space object over GF(3) of dimension 1\n",
      "\n",
      "Image of <(2)>:\n",
      "A vector space object over GF(3) of dimension 0\n",
      "\n",
      "Image of (1)-[{ Z(3)^0*(a) }]->(1):\n",
      " 1\n",
      "\n",
      "A morphism in Category of matrices over GF(3)\n",
      "\n",
      "Image of (1)-[{ Z(3)^0*(b) }]->(2):\n",
      "(an empty 1 x 0 matrix)\n",
      "\n",
      "A morphism in Category of matrices over GF(3)\n",
      "\n",
      "Image of (2)-[{ Z(3)^0*(c) }]->(2):\n",
      "(an empty 0 x 0 matrix)\n",
      "\n",
      "A morphism in Category of matrices over GF(3)\n",
      "\n",
      "An object in FunctorCategory( Algebroid( GF(3), FreeCategory( RightQuiver( \"q(2)[a:1->1,b:1->2,c:2->2]\" ) ) ) / relations, Category of matrices over GF(3) ) given by the above data\n"
     ]
    }
   ],
   "source": [
    "Display( s1 )"
   ]
  },
  {
   "cell_type": "markdown",
   "id": "8092b516",
   "metadata": {
    "slideshow": {
     "slide_type": "slide"
    }
   },
   "source": [
    "Next we construct another functor with dimensions `3` at both objects by calculating the Yoneda projective at object 1."
   ]
  },
  {
   "cell_type": "code",
   "execution_count": 60,
   "id": "d00ef70f",
   "metadata": {},
   "outputs": [
    {
     "data": {
      "text/plain": [
       "GAP: Algebroid( GF(3), FreeCategory( RightQuiver( \"q_op(2)[a:1->1,b:2->1,c:2->2]\" ) ) ) / relations"
      ]
     },
     "execution_count": 60,
     "metadata": {},
     "output_type": "execute_result"
    }
   ],
   "source": [
    "Aop = OppositeAlgebroid( A )"
   ]
  },
  {
   "cell_type": "code",
   "execution_count": 61,
   "id": "302f5e64",
   "metadata": {},
   "outputs": [
    {
     "data": {
      "text/plain": [
       "GAP: Yoneda embedding functor"
      ]
     },
     "execution_count": 61,
     "metadata": {},
     "output_type": "execute_result"
    }
   ],
   "source": [
    "Yop = YonedaEmbeddingInFunctorCategory( Aop )"
   ]
  },
  {
   "cell_type": "code",
   "execution_count": 62,
   "id": "76b2681e",
   "metadata": {
    "slideshow": {
     "slide_type": "-"
    }
   },
   "outputs": [
    {
     "name": "stdout",
     "output_type": "stream",
     "text": [
      "Yoneda embedding functor:\n",
      "\n",
      "Algebroid( GF(3), FreeCategory( RightQuiver( \"q_op(2)[a:1->1,b:2->1,c:2->2]\" ) ) ) / relations\n",
      "  |\n",
      "  V\n",
      "FunctorCategory( Algebroid( GF(3), FreeCategory( RightQuiver( \"q(2)[a:1->1,b:1->2,c:2->2]\" ) ) ) / relations, Category of matrices over GF(3) )\n"
     ]
    }
   ],
   "source": [
    "Display( Yop )"
   ]
  },
  {
   "cell_type": "markdown",
   "id": "ed40bf63",
   "metadata": {
    "slideshow": {
     "slide_type": "slide"
    }
   },
   "source": [
    "---\n",
    "We compute the Yoneda projective associated to object $1$:"
   ]
  },
  {
   "cell_type": "code",
   "execution_count": 63,
   "id": "d479574b",
   "metadata": {},
   "outputs": [
    {
     "data": {
      "text/plain": [
       "GAP: <(1)->3, (2)->3; (a)->3x3, (b)->3x3, (c)->3x3>"
      ]
     },
     "execution_count": 63,
     "metadata": {},
     "output_type": "execute_result"
    }
   ],
   "source": [
    "proj1 = Yop( Aop.\"1\" )"
   ]
  },
  {
   "cell_type": "code",
   "execution_count": 64,
   "id": "465771d4",
   "metadata": {},
   "outputs": [
    {
     "data": {
      "text/plain": [
       "true"
      ]
     },
     "execution_count": 64,
     "metadata": {},
     "output_type": "execute_result"
    }
   ],
   "source": [
    "IsProjective( proj1 )"
   ]
  },
  {
   "cell_type": "code",
   "execution_count": 65,
   "id": "40d7a6c5",
   "metadata": {
    "scrolled": false,
    "slideshow": {
     "slide_type": "slide"
    }
   },
   "outputs": [
    {
     "name": "stdout",
     "output_type": "stream",
     "text": [
      "Image of <(1)>:\n",
      "A vector space object over GF(3) of dimension 3\n",
      "\n",
      "Image of <(2)>:\n",
      "A vector space object over GF(3) of dimension 3\n",
      "\n",
      "Image of (1)-[{ Z(3)^0*(a) }]->(1):\n",
      " . 1 .\n",
      " . . 1\n",
      " 1 . .\n",
      "\n",
      "A morphism in Category of matrices over GF(3)\n",
      "\n",
      "Image of (1)-[{ Z(3)^0*(b) }]->(2):\n",
      " 1 . .\n",
      " . 1 .\n",
      " . . 1\n",
      "\n",
      "A morphism in Category of matrices over GF(3)\n",
      "\n",
      "Image of (2)-[{ Z(3)^0*(c) }]->(2):\n",
      " . 1 .\n",
      " . . 1\n",
      " 1 . .\n",
      "\n",
      "A morphism in Category of matrices over GF(3)\n",
      "\n",
      "An object in FunctorCategory( Algebroid( GF(3), FreeCategory( RightQuiver( \"q(2)[a:1->1,b:1->2,c:2->2]\" ) ) ) / relations, Category of matrices over GF(3) ) given by the above data\n"
     ]
    }
   ],
   "source": [
    "Display( proj1 )"
   ]
  },
  {
   "cell_type": "markdown",
   "id": "b764f92a",
   "metadata": {
    "slideshow": {
     "slide_type": "slide"
    }
   },
   "source": [
    "---\n",
    "Comparing `emb` and `e1` in the following line gives a first proof that `six` and `proj1` are nonisomorphic:"
   ]
  },
  {
   "cell_type": "code",
   "execution_count": 66,
   "id": "d57b12ba",
   "metadata": {},
   "outputs": [
    {
     "data": {
      "text/plain": [
       "GAP: <(1)->1x3, (2)->1x3>"
      ]
     },
     "execution_count": 66,
     "metadata": {},
     "output_type": "execute_result"
    }
   ],
   "source": [
    "e1 = EmbeddingOfSumOfImagesOfAllMorphisms( unit, proj1 )"
   ]
  },
  {
   "cell_type": "code",
   "execution_count": 67,
   "id": "29a314b2",
   "metadata": {},
   "outputs": [
    {
     "data": {
      "text/plain": [
       "GAP: <(1)->1, (2)->1; (a)->1x1, (b)->1x1, (c)->1x1>"
      ]
     },
     "execution_count": 67,
     "metadata": {},
     "output_type": "execute_result"
    }
   ],
   "source": [
    "Source( e1 )"
   ]
  },
  {
   "cell_type": "markdown",
   "id": "efdff346",
   "metadata": {
    "slideshow": {
     "slide_type": "slide"
    }
   },
   "source": [
    "---\n",
    "This is a second proof that `six` and `proj1` are nonisomorphic:"
   ]
  },
  {
   "cell_type": "code",
   "execution_count": 68,
   "id": "f01ea545",
   "metadata": {},
   "outputs": [
    {
     "data": {
      "text/plain": [
       "false"
      ]
     },
     "execution_count": 68,
     "metadata": {},
     "output_type": "execute_result"
    }
   ],
   "source": [
    "IsEpimorphism( EmbeddingOfSumOfImagesOfAllMorphisms( proj1, six ) )"
   ]
  },
  {
   "cell_type": "code",
   "execution_count": 69,
   "id": "09453e82",
   "metadata": {
    "slideshow": {
     "slide_type": "slide"
    }
   },
   "outputs": [
    {
     "data": {
      "text/plain": [
       "GAP: <(1)->2, (2)->3; (a)->2x2, (b)->2x3, (c)->3x3>"
      ]
     },
     "execution_count": 69,
     "metadata": {},
     "output_type": "execute_result"
    }
   ],
   "source": [
    "five = CokernelObject( emb )"
   ]
  },
  {
   "cell_type": "code",
   "execution_count": 70,
   "id": "0984550b",
   "metadata": {
    "scrolled": false
   },
   "outputs": [
    {
     "name": "stdout",
     "output_type": "stream",
     "text": [
      "Image of <(1)>:\n",
      "A vector space object over GF(3) of dimension 2\n",
      "\n",
      "Image of <(2)>:\n",
      "A vector space object over GF(3) of dimension 3\n",
      "\n",
      "Image of (1)-[{ Z(3)^0*(a) }]->(1):\n",
      " 1 1\n",
      " . 1\n",
      "\n",
      "A morphism in Category of matrices over GF(3)\n",
      "\n",
      "Image of (1)-[{ Z(3)^0*(b) }]->(2):\n",
      " . 2 1\n",
      " . . 2\n",
      "\n",
      "A morphism in Category of matrices over GF(3)\n",
      "\n",
      "Image of (2)-[{ Z(3)^0*(c) }]->(2):\n",
      " 1 1 .\n",
      " . 1 1\n",
      " . . 1\n",
      "\n",
      "A morphism in Category of matrices over GF(3)\n",
      "\n",
      "An object in FunctorCategory( Algebroid( GF(3), FreeCategory( RightQuiver( \"q(2)[a:1->1,b:1->2,c:2->2]\" ) ) ) / relations, Category of matrices over GF(3) ) given by the above data\n"
     ]
    }
   ],
   "source": [
    "Display( five )"
   ]
  },
  {
   "cell_type": "code",
   "execution_count": 71,
   "id": "25ad2661",
   "metadata": {
    "slideshow": {
     "slide_type": "slide"
    }
   },
   "outputs": [
    {
     "data": {
      "text/plain": [
       "GAP: <(1)->1, (2)->0; (a)->1x1, (b)->1x0, (c)->0x0>"
      ]
     },
     "execution_count": 71,
     "metadata": {},
     "output_type": "execute_result"
    }
   ],
   "source": [
    "SumOfImagesOfAllMorphisms( s1, six )"
   ]
  },
  {
   "cell_type": "markdown",
   "id": "8f13c6f7",
   "metadata": {},
   "source": [
    "---\n",
    "The next calculation shows that the quotient representation `five` maps its module at object $1$ monomorphically to the module at object $2$, which must either be indecomposable of dimension $3$, or else the direct sum of indecomposables of dimension $2$ and $1$."
   ]
  },
  {
   "cell_type": "code",
   "execution_count": 72,
   "id": "d7f7e2f8",
   "metadata": {},
   "outputs": [
    {
     "data": {
      "text/plain": [
       "GAP: <(1)->0, (2)->0; (a)->0x0, (b)->0x0, (c)->0x0>"
      ]
     },
     "execution_count": 72,
     "metadata": {},
     "output_type": "execute_result"
    }
   ],
   "source": [
    "SumOfImagesOfAllMorphisms( s1, five )"
   ]
  },
  {
   "cell_type": "code",
   "execution_count": 73,
   "id": "6ec889bd",
   "metadata": {},
   "outputs": [
    {
     "data": {
      "text/plain": [
       "GAP: <(1)->1, (2)->1; (a)->1x1, (b)->1x1, (c)->1x1>"
      ]
     },
     "execution_count": 73,
     "metadata": {},
     "output_type": "execute_result"
    }
   ],
   "source": [
    "su = SumOfImagesOfAllMorphisms( unit, five )"
   ]
  },
  {
   "cell_type": "code",
   "execution_count": 74,
   "id": "073ec1b3",
   "metadata": {
    "scrolled": false
   },
   "outputs": [
    {
     "name": "stdout",
     "output_type": "stream",
     "text": [
      "Image of <(1)>:\n",
      "A vector space object over GF(3) of dimension 1\n",
      "\n",
      "Image of <(2)>:\n",
      "A vector space object over GF(3) of dimension 1\n",
      "\n",
      "Image of (1)-[{ Z(3)^0*(a) }]->(1):\n",
      " 1\n",
      "\n",
      "A morphism in Category of matrices over GF(3)\n",
      "\n",
      "Image of (1)-[{ Z(3)^0*(b) }]->(2):\n",
      " 2\n",
      "\n",
      "A morphism in Category of matrices over GF(3)\n",
      "\n",
      "Image of (2)-[{ Z(3)^0*(c) }]->(2):\n",
      " 1\n",
      "\n",
      "A morphism in Category of matrices over GF(3)\n",
      "\n",
      "An object in FunctorCategory( Algebroid( GF(3), FreeCategory( RightQuiver( \"q(2)[a:1->1,b:1->2,c:2->2]\" ) ) ) / relations, Category of matrices over GF(3) ) given by the above data\n"
     ]
    }
   ],
   "source": [
    "Display( su )"
   ]
  },
  {
   "cell_type": "markdown",
   "id": "6e028a81",
   "metadata": {
    "slideshow": {
     "slide_type": "slide"
    }
   },
   "source": [
    "---\n",
    "The final calculation shows that the module at object $2$ for `six` is indecomposable of dimension 3.\n",
    "We now have sufficient information to describe `six` completely."
   ]
  },
  {
   "cell_type": "code",
   "execution_count": 75,
   "id": "ba86c883",
   "metadata": {},
   "outputs": [
    {
     "data": {
      "text/plain": [
       "GAP: <(1)->0, (2)->1; (a)->0x0, (b)->0x1, (c)->1x1>"
      ]
     },
     "execution_count": 75,
     "metadata": {},
     "output_type": "execute_result"
    }
   ],
   "source": [
    "SumOfImagesOfAllMorphisms( six, unit )"
   ]
  },
  {
   "cell_type": "markdown",
   "id": "9b5a7b2d",
   "metadata": {
    "slideshow": {
     "slide_type": "slide"
    }
   },
   "source": [
    "---\n",
    "We compute the Yoneda projective associated to object $2$:"
   ]
  },
  {
   "cell_type": "code",
   "execution_count": 76,
   "id": "15ac04fa",
   "metadata": {},
   "outputs": [
    {
     "data": {
      "text/plain": [
       "GAP: <(1)->0, (2)->3; (a)->0x0, (b)->0x3, (c)->3x3>"
      ]
     },
     "execution_count": 76,
     "metadata": {},
     "output_type": "execute_result"
    }
   ],
   "source": [
    "proj2 = Yop( Aop.\"2\" )"
   ]
  },
  {
   "cell_type": "code",
   "execution_count": 77,
   "id": "08d217ec",
   "metadata": {},
   "outputs": [
    {
     "data": {
      "text/plain": [
       "true"
      ]
     },
     "execution_count": 77,
     "metadata": {},
     "output_type": "execute_result"
    }
   ],
   "source": [
    "IsProjective( proj2 )"
   ]
  },
  {
   "cell_type": "code",
   "execution_count": 78,
   "id": "6e9fb1e1",
   "metadata": {
    "slideshow": {
     "slide_type": "slide"
    }
   },
   "outputs": [
    {
     "name": "stdout",
     "output_type": "stream",
     "text": [
      "Image of <(1)>:\n",
      "A vector space object over GF(3) of dimension 0\n",
      "\n",
      "Image of <(2)>:\n",
      "A vector space object over GF(3) of dimension 3\n",
      "\n",
      "Image of (1)-[{ Z(3)^0*(a) }]->(1):\n",
      "(an empty 0 x 0 matrix)\n",
      "\n",
      "A zero morphism in Category of matrices over GF(3)\n",
      "\n",
      "Image of (1)-[{ Z(3)^0*(b) }]->(2):\n",
      "(an empty 0 x 3 matrix)\n",
      "\n",
      "A zero morphism in Category of matrices over GF(3)\n",
      "\n",
      "Image of (2)-[{ Z(3)^0*(c) }]->(2):\n",
      " . 1 .\n",
      " . . 1\n",
      " 1 . .\n",
      "\n",
      "A morphism in Category of matrices over GF(3)\n",
      "\n",
      "An object in FunctorCategory( Algebroid( GF(3), FreeCategory( RightQuiver( \"q(2)[a:1->1,b:1->2,c:2->2]\" ) ) ) / relations, Category of matrices over GF(3) ) given by the above data\n"
     ]
    }
   ],
   "source": [
    "Display( proj2 )"
   ]
  }
 ],
 "metadata": {
  "@webio": {
   "lastCommId": null,
   "lastKernelId": null
  },
  "celltoolbar": "Slideshow",
  "kernelspec": {
   "display_name": "Julia 1.9.2",
   "language": "julia",
   "name": "julia-1.9"
  },
  "language_info": {
   "file_extension": ".jl",
   "mimetype": "application/julia",
   "name": "julia",
   "version": "1.9.2"
  }
 },
 "nbformat": 4,
 "nbformat_minor": 5
}
