{
 "cells": [
  {
   "cell_type": "markdown",
   "id": "860bfda2",
   "metadata": {},
   "source": [
    "In this notebook we *compute* the algorithm computing the braiding isomorphism $\\gamma: a \\times b \\to b \\times a$ in a cartesian (monoidal) category, i.e., a category with finite products."
   ]
  },
  {
   "cell_type": "code",
   "execution_count": 1,
   "id": "7dd790bc",
   "metadata": {},
   "outputs": [
    {
     "name": "stdout",
     "output_type": "stream",
     "text": [
      "CapAndHomalg v\u001b[32m1.6.4\u001b[39m\n",
      "Imported OSCAR's components GAP and Singular_jll\n",
      "Type: ?CapAndHomalg for more information\n"
     ]
    }
   ],
   "source": [
    "using CapAndHomalg"
   ]
  },
  {
   "cell_type": "code",
   "execution_count": 2,
   "id": "37ce9cb4",
   "metadata": {},
   "outputs": [],
   "source": [
    "LoadPackage( \"FiniteCocompletions\" )"
   ]
  },
  {
   "cell_type": "code",
   "execution_count": 3,
   "id": "d6523ed1",
   "metadata": {},
   "outputs": [],
   "source": [
    "LoadPackage( \"Algebroids\" )"
   ]
  },
  {
   "cell_type": "code",
   "execution_count": 4,
   "id": "a3162632",
   "metadata": {},
   "outputs": [],
   "source": [
    "LoadPackage( \"LazyCategories\" );"
   ]
  },
  {
   "cell_type": "code",
   "execution_count": 5,
   "id": "1ff4dda6",
   "metadata": {},
   "outputs": [
    {
     "data": {
      "text/plain": [
       "GAP: Q(a,b)[]"
      ]
     },
     "execution_count": 5,
     "metadata": {},
     "output_type": "execute_result"
    }
   ],
   "source": [
    "Q = RightQuiver( \"Q(a,b)[]\" )"
   ]
  },
  {
   "cell_type": "code",
   "execution_count": 6,
   "id": "3805a257",
   "metadata": {},
   "outputs": [
    {
     "data": {
      "text/plain": [
       "GAP: FreeCategory( RightQuiver( \"Q(a,b)[]\" ) )"
      ]
     },
     "execution_count": 6,
     "metadata": {},
     "output_type": "execute_result"
    }
   ],
   "source": [
    "C = FreeCategory( Q )"
   ]
  },
  {
   "cell_type": "code",
   "execution_count": 7,
   "id": "e4b9600a",
   "metadata": {},
   "outputs": [],
   "source": [
    "SetName( C.a, g\"C.a\" ); SetName( C.b, g\"C.b\" );"
   ]
  },
  {
   "cell_type": "code",
   "execution_count": 8,
   "id": "5e532fa7",
   "metadata": {},
   "outputs": [
    {
     "data": {
      "text/plain": [
       "GAP: FiniteStrictProductCompletion( FreeCategory( RightQuiver( \"Q(a,b)[]\" ) ) )"
      ]
     },
     "execution_count": 8,
     "metadata": {},
     "output_type": "execute_result"
    }
   ],
   "source": [
    "PC = FiniteStrictProductCompletion( C )"
   ]
  },
  {
   "cell_type": "code",
   "execution_count": 9,
   "id": "1320fac9",
   "metadata": {},
   "outputs": [
    {
     "name": "stdout",
     "output_type": "stream",
     "text": [
      "A CAP category with name FiniteStrictProductCompletion( FreeCategory( RightQuiver( \"Q(a,b)[]\" ) ) ):\n",
      "\n",
      "28 primitive operations were used to derive 89 operations for this category which algorithmically\n",
      "* IsCategoryWithDecidableColifts\n",
      "* IsCategoryWithDecidableLifts\n",
      "* IsCartesianCategory\n",
      "* IsEquippedWithHomomorphismStructure\n",
      "and furthermore mathematically\n",
      "* IsStrictCartesianCategory\n"
     ]
    }
   ],
   "source": [
    "Display( PC )"
   ]
  },
  {
   "cell_type": "code",
   "execution_count": 10,
   "id": "eb03fb6d",
   "metadata": {},
   "outputs": [
    {
     "data": {
      "text/plain": [
       "GAP: Opposite( FiniteStrictCoproductCompletion( Opposite( FreeCategory( RightQuiver( \"Q(a,b)[]\" ) ) ) ) )"
      ]
     },
     "execution_count": 10,
     "metadata": {},
     "output_type": "execute_result"
    }
   ],
   "source": [
    "ModelingCategory( PC )"
   ]
  },
  {
   "cell_type": "code",
   "execution_count": 11,
   "id": "c79fa790",
   "metadata": {},
   "outputs": [
    {
     "data": {
      "text/plain": [
       "GAP: <An object in FiniteStrictProductCompletion( FreeCategory( RightQuiver( \"Q(a,b)[]\" ) ) )>"
      ]
     },
     "execution_count": 11,
     "metadata": {},
     "output_type": "execute_result"
    }
   ],
   "source": [
    "a = PC.a"
   ]
  },
  {
   "cell_type": "code",
   "execution_count": 12,
   "id": "10c7c46b",
   "metadata": {},
   "outputs": [
    {
     "data": {
      "text/plain": [
       "GAP: <An object in FiniteStrictProductCompletion( FreeCategory( RightQuiver( \"Q(a,b)[]\" ) ) )>"
      ]
     },
     "execution_count": 12,
     "metadata": {},
     "output_type": "execute_result"
    }
   ],
   "source": [
    "b = PC.b"
   ]
  },
  {
   "cell_type": "code",
   "execution_count": 13,
   "id": "08681ea8",
   "metadata": {},
   "outputs": [
    {
     "data": {
      "text/plain": [
       "GAP: <An object in FiniteStrictProductCompletion( FreeCategory( RightQuiver( \"Q(a,b)[]\" ) ) )>"
      ]
     },
     "execution_count": 13,
     "metadata": {},
     "output_type": "execute_result"
    }
   ],
   "source": [
    "ab = DirectProduct( a, b )"
   ]
  },
  {
   "cell_type": "code",
   "execution_count": 14,
   "id": "02501aa7",
   "metadata": {},
   "outputs": [
    {
     "name": "stdout",
     "output_type": "stream",
     "text": [
      "[ 2, [ C.a, C.b ] ]\n",
      "\n",
      "An object in FiniteStrictProductCompletion( FreeCategory( RightQuiver( \"Q(a,b)[]\" ) ) ) given by the above data\n"
     ]
    }
   ],
   "source": [
    "Display( ab )"
   ]
  },
  {
   "cell_type": "code",
   "execution_count": 15,
   "id": "48fd9551",
   "metadata": {},
   "outputs": [
    {
     "data": {
      "text/plain": [
       "GAP: <An object in FiniteStrictProductCompletion( FreeCategory( RightQuiver( \"Q(a,b)[]\" ) ) )>"
      ]
     },
     "execution_count": 15,
     "metadata": {},
     "output_type": "execute_result"
    }
   ],
   "source": [
    "ba = DirectProduct( b, a )"
   ]
  },
  {
   "cell_type": "code",
   "execution_count": 16,
   "id": "a7c83d09",
   "metadata": {},
   "outputs": [
    {
     "name": "stdout",
     "output_type": "stream",
     "text": [
      "[ 2, [ C.b, C.a ] ]\n",
      "\n",
      "An object in FiniteStrictProductCompletion( FreeCategory( RightQuiver( \"Q(a,b)[]\" ) ) ) given by the above data\n"
     ]
    }
   ],
   "source": [
    "Display( ba )"
   ]
  },
  {
   "cell_type": "code",
   "execution_count": 17,
   "id": "d2afcbc7",
   "metadata": {},
   "outputs": [
    {
     "data": {
      "text/plain": [
       "GAP: |1|"
      ]
     },
     "execution_count": 17,
     "metadata": {},
     "output_type": "execute_result"
    }
   ],
   "source": [
    "HomStructure( ab, ba )"
   ]
  },
  {
   "cell_type": "code",
   "execution_count": 18,
   "id": "f449b7d4",
   "metadata": {},
   "outputs": [
    {
     "data": {
      "text/plain": [
       "GAP: [ <A morphism in FiniteStrictProductCompletion( FreeCategory( RightQuiver( \"Q(a,b)[]\" ) ) )> ]"
      ]
     },
     "execution_count": 18,
     "metadata": {},
     "output_type": "execute_result"
    }
   ],
   "source": [
    "hom_ab = MorphismsOfExternalHom( ab, ba )"
   ]
  },
  {
   "cell_type": "code",
   "execution_count": 19,
   "id": "df5d3a32",
   "metadata": {},
   "outputs": [
    {
     "data": {
      "text/plain": [
       "GAP: <A morphism in FiniteStrictProductCompletion( FreeCategory( RightQuiver( \"Q(a,b)[]\" ) ) )>"
      ]
     },
     "execution_count": 19,
     "metadata": {},
     "output_type": "execute_result"
    }
   ],
   "source": [
    "γ_ab  = hom_ab[1]"
   ]
  },
  {
   "cell_type": "code",
   "execution_count": 20,
   "id": "f8e164d5",
   "metadata": {},
   "outputs": [
    {
     "data": {
      "text/plain": [
       "true"
      ]
     },
     "execution_count": 20,
     "metadata": {},
     "output_type": "execute_result"
    }
   ],
   "source": [
    "Source( γ_ab ) == ab"
   ]
  },
  {
   "cell_type": "code",
   "execution_count": 21,
   "id": "66e143ca",
   "metadata": {},
   "outputs": [
    {
     "data": {
      "text/plain": [
       "true"
      ]
     },
     "execution_count": 21,
     "metadata": {},
     "output_type": "execute_result"
    }
   ],
   "source": [
    "Target( γ_ab ) == ba"
   ]
  },
  {
   "cell_type": "code",
   "execution_count": 22,
   "id": "675cd9fb",
   "metadata": {},
   "outputs": [
    {
     "data": {
      "text/plain": [
       "true"
      ]
     },
     "execution_count": 22,
     "metadata": {},
     "output_type": "execute_result"
    }
   ],
   "source": [
    "IsWellDefined( γ_ab )"
   ]
  },
  {
   "cell_type": "code",
   "execution_count": 23,
   "id": "59a9b0bd",
   "metadata": {},
   "outputs": [
    {
     "name": "stdout",
     "output_type": "stream",
     "text": [
      "{ 0, 1 } ⱶ[ 1, 0 ]→ { 0, 1 }\n",
      "\n",
      "[ (b)-[(b)]->(b), (a)-[(a)]->(a) ]\n",
      "\n",
      "A morphism in FiniteStrictProductCompletion( FreeCategory( RightQuiver( \"Q(a,b)[]\" ) ) ) given by the above data\n"
     ]
    }
   ],
   "source": [
    "Display( γ_ab )"
   ]
  },
  {
   "cell_type": "code",
   "execution_count": 24,
   "id": "4b398bca",
   "metadata": {},
   "outputs": [
    {
     "data": {
      "text/plain": [
       "GAP: |1|"
      ]
     },
     "execution_count": 24,
     "metadata": {},
     "output_type": "execute_result"
    }
   ],
   "source": [
    "HomStructure( ba, ab )"
   ]
  },
  {
   "cell_type": "code",
   "execution_count": 25,
   "id": "e172a52a",
   "metadata": {},
   "outputs": [
    {
     "data": {
      "text/plain": [
       "GAP: [ <A morphism in FiniteStrictProductCompletion( FreeCategory( RightQuiver( \"Q(a,b)[]\" ) ) )> ]"
      ]
     },
     "execution_count": 25,
     "metadata": {},
     "output_type": "execute_result"
    }
   ],
   "source": [
    "hom_ba = MorphismsOfExternalHom( ba, ab )"
   ]
  },
  {
   "cell_type": "code",
   "execution_count": 26,
   "id": "df9f8b19",
   "metadata": {},
   "outputs": [
    {
     "data": {
      "text/plain": [
       "GAP: <A morphism in FiniteStrictProductCompletion( FreeCategory( RightQuiver( \"Q(a,b)[]\" ) ) )>"
      ]
     },
     "execution_count": 26,
     "metadata": {},
     "output_type": "execute_result"
    }
   ],
   "source": [
    "γ_ba  = hom_ba[1]"
   ]
  },
  {
   "cell_type": "code",
   "execution_count": 27,
   "id": "8636dba8",
   "metadata": {},
   "outputs": [
    {
     "data": {
      "text/plain": [
       "true"
      ]
     },
     "execution_count": 27,
     "metadata": {},
     "output_type": "execute_result"
    }
   ],
   "source": [
    "Source( γ_ba ) == ba"
   ]
  },
  {
   "cell_type": "code",
   "execution_count": 28,
   "id": "73ee6a6d",
   "metadata": {},
   "outputs": [
    {
     "data": {
      "text/plain": [
       "true"
      ]
     },
     "execution_count": 28,
     "metadata": {},
     "output_type": "execute_result"
    }
   ],
   "source": [
    "Target( γ_ba ) == ab"
   ]
  },
  {
   "cell_type": "code",
   "execution_count": 29,
   "id": "b192e58a",
   "metadata": {},
   "outputs": [
    {
     "data": {
      "text/plain": [
       "true"
      ]
     },
     "execution_count": 29,
     "metadata": {},
     "output_type": "execute_result"
    }
   ],
   "source": [
    "IsWellDefined( γ_ba )"
   ]
  },
  {
   "cell_type": "code",
   "execution_count": 30,
   "id": "c0eb77d4",
   "metadata": {},
   "outputs": [
    {
     "name": "stdout",
     "output_type": "stream",
     "text": [
      "{ 0, 1 } ⱶ[ 1, 0 ]→ { 0, 1 }\n",
      "\n",
      "[ (a)-[(a)]->(a), (b)-[(b)]->(b) ]\n",
      "\n",
      "A morphism in FiniteStrictProductCompletion( FreeCategory( RightQuiver( \"Q(a,b)[]\" ) ) ) given by the above data\n"
     ]
    }
   ],
   "source": [
    "Display( γ_ba )"
   ]
  },
  {
   "cell_type": "code",
   "execution_count": 31,
   "id": "136327e3",
   "metadata": {},
   "outputs": [
    {
     "data": {
      "text/plain": [
       "true"
      ]
     },
     "execution_count": 31,
     "metadata": {},
     "output_type": "execute_result"
    }
   ],
   "source": [
    "InverseForMorphisms( γ_ab ) == γ_ba"
   ]
  },
  {
   "cell_type": "code",
   "execution_count": 32,
   "id": "a1304d63",
   "metadata": {},
   "outputs": [
    {
     "data": {
      "text/plain": [
       "true"
      ]
     },
     "execution_count": 32,
     "metadata": {},
     "output_type": "execute_result"
    }
   ],
   "source": [
    "γ_ab == CartesianBraiding( a, b )"
   ]
  },
  {
   "cell_type": "code",
   "execution_count": 33,
   "id": "290b733c",
   "metadata": {},
   "outputs": [
    {
     "data": {
      "text/plain": [
       "GAP: LazyCategory( FiniteStrictProductCompletion( FreeCategory( RightQuiver( \"Q(a,b)[]\" ) ) ) )"
      ]
     },
     "execution_count": 33,
     "metadata": {},
     "output_type": "execute_result"
    }
   ],
   "source": [
    "LPC = LazyCategory( PC, primitive_operations = true )"
   ]
  },
  {
   "cell_type": "code",
   "execution_count": 34,
   "id": "a73ea929",
   "metadata": {},
   "outputs": [
    {
     "data": {
      "text/plain": [
       "GAP: Embedding functor into lazy category"
      ]
     },
     "execution_count": 34,
     "metadata": {},
     "output_type": "execute_result"
    }
   ],
   "source": [
    "Emb = EmbeddingFunctorOfUnderlyingCategory( LPC )"
   ]
  },
  {
   "cell_type": "code",
   "execution_count": 35,
   "id": "f27839ff",
   "metadata": {},
   "outputs": [
    {
     "name": "stdout",
     "output_type": "stream",
     "text": [
      "Embedding functor into lazy category:\n",
      "\n",
      "FiniteStrictProductCompletion( FreeCategory( RightQuiver( \"Q(a,b)[]\" ) ) )\n",
      "  |\n",
      "  V\n",
      "LazyCategory( FiniteStrictProductCompletion( FreeCategory( RightQuiver( \"Q(a,b)[]\" ) ) ) )\n"
     ]
    }
   ],
   "source": [
    "Display( Emb )"
   ]
  },
  {
   "cell_type": "code",
   "execution_count": 36,
   "id": "a786a3d8",
   "metadata": {},
   "outputs": [
    {
     "data": {
      "text/plain": [
       "GAP: Precomposition of Embedding functor into a finite strict product completion category and Embedding functor into lazy category"
      ]
     },
     "execution_count": 36,
     "metadata": {},
     "output_type": "execute_result"
    }
   ],
   "source": [
    "F = PreCompose( EmbeddingOfUnderlyingCategory( PC ), Emb )"
   ]
  },
  {
   "cell_type": "code",
   "execution_count": 37,
   "id": "3a1cc6ee",
   "metadata": {},
   "outputs": [
    {
     "name": "stdout",
     "output_type": "stream",
     "text": [
      "Precomposition of Embedding functor into a finite strict product completion category and Embedding functor into lazy category:\n",
      "\n",
      "FreeCategory( RightQuiver( \"Q(a,b)[]\" ) )\n",
      "  |\n",
      "  V\n",
      "LazyCategory( FiniteStrictProductCompletion( FreeCategory( RightQuiver( \"Q(a,b)[]\" ) ) ) )\n"
     ]
    }
   ],
   "source": [
    "Display( F )"
   ]
  },
  {
   "cell_type": "code",
   "execution_count": 38,
   "id": "06bfa9d9",
   "metadata": {},
   "outputs": [
    {
     "data": {
      "text/plain": [
       "GAP: Extension to FiniteStrictProductCompletion( Source( Precomposition of Embedding functor into a finite strict product completion category and Embedding functor into lazy category ) )"
      ]
     },
     "execution_count": 38,
     "metadata": {},
     "output_type": "execute_result"
    }
   ],
   "source": [
    "G = ExtendFunctorToFiniteStrictProductCompletion( F )"
   ]
  },
  {
   "cell_type": "code",
   "execution_count": 39,
   "id": "d9d6a1be",
   "metadata": {},
   "outputs": [
    {
     "name": "stdout",
     "output_type": "stream",
     "text": [
      "Extension to FiniteStrictProductCompletion( Source( Precomposition of Embedding functor into a finite strict product completion category and Embedding functor into lazy category ) ):\n",
      "\n",
      "FiniteStrictProductCompletion( FreeCategory( RightQuiver( \"Q(a,b)[]\" ) ) )\n",
      "  |\n",
      "  V\n",
      "LazyCategory( FiniteStrictProductCompletion( FreeCategory( RightQuiver( \"Q(a,b)[]\" ) ) ) )\n"
     ]
    }
   ],
   "source": [
    "Display( G )"
   ]
  },
  {
   "cell_type": "code",
   "execution_count": 40,
   "id": "92563975",
   "metadata": {},
   "outputs": [
    {
     "data": {
      "text/plain": [
       "GAP: <A morphism in LazyCategory( FiniteStrictProductCompletion( FreeCategory( RightQuiver( \"Q(a,b)[]\" ) ) ) )>"
      ]
     },
     "execution_count": 40,
     "metadata": {},
     "output_type": "execute_result"
    }
   ],
   "source": [
    "Gγ_ab = G( γ_ab )"
   ]
  },
  {
   "cell_type": "code",
   "execution_count": 41,
   "id": "cffa6c51",
   "metadata": {},
   "outputs": [
    {
     "data": {
      "text/plain": [
       "true"
      ]
     },
     "execution_count": 41,
     "metadata": {},
     "output_type": "execute_result"
    }
   ],
   "source": [
    "IsWellDefined( Gγ_ab )"
   ]
  },
  {
   "cell_type": "code",
   "execution_count": 42,
   "id": "fd8ed668",
   "metadata": {},
   "outputs": [
    {
     "data": {
      "image/svg+xml": [
       "<?xml version=\"1.0\" encoding=\"UTF-8\" standalone=\"no\"?>\n",
       "<!DOCTYPE svg PUBLIC \"-//W3C//DTD SVG 1.1//EN\"\n",
       " \"http://www.w3.org/Graphics/SVG/1.1/DTD/svg11.dtd\">\n",
       "<!-- Generated by graphviz version 2.50.0 (20211204.2007)\n",
       " -->\n",
       "<!-- Title: DigraphOfEvaluation Pages: 1 -->\n",
       "<svg width=\"744pt\" height=\"709pt\"\n",
       " viewBox=\"0.00 0.00 744.00 709.00\" xmlns=\"http://www.w3.org/2000/svg\" xmlns:xlink=\"http://www.w3.org/1999/xlink\">\n",
       "<g id=\"graph0\" class=\"graph\" transform=\"scale(1 1) rotate(0) translate(4 705)\">\n",
       "<title>DigraphOfEvaluation</title>\n",
       "<polygon fill=\"white\" stroke=\"transparent\" points=\"-4,4 -4,-705 740,-705 740,4 -4,4\"/>\n",
       "<!-- 1 -->\n",
       "<g id=\"node1\" class=\"node\">\n",
       "<title>1</title>\n",
       "<polygon fill=\"none\" stroke=\"black\" points=\"299.5,-380 226.5,-380 226.5,-327 299.5,-327 299.5,-380\"/>\n",
       "<text text-anchor=\"middle\" x=\"263\" y=\"-364.8\" font-family=\"Times,serif\" font-size=\"14.00\">[1]</text>\n",
       "<text text-anchor=\"middle\" x=\"263\" y=\"-349.8\" font-family=\"Times,serif\" font-size=\"14.00\">primitive</text>\n",
       "<text text-anchor=\"middle\" x=\"263\" y=\"-334.8\" font-family=\"Times,serif\" font-size=\"14.00\">morphism</text>\n",
       "</g>\n",
       "<!-- 9 -->\n",
       "<g id=\"node9\" class=\"node\">\n",
       "<title>9</title>\n",
       "<polygon fill=\"none\" stroke=\"black\" points=\"297,-276 229,-276 229,-223 297,-223 297,-276\"/>\n",
       "<text text-anchor=\"middle\" x=\"263\" y=\"-260.8\" font-family=\"Times,serif\" font-size=\"14.00\">[9]</text>\n",
       "<text text-anchor=\"middle\" x=\"263\" y=\"-245.8\" font-family=\"Times,serif\" font-size=\"14.00\">Pre</text>\n",
       "<text text-anchor=\"middle\" x=\"263\" y=\"-230.8\" font-family=\"Times,serif\" font-size=\"14.00\">Compose</text>\n",
       "</g>\n",
       "<!-- 1&#45;&gt;9 -->\n",
       "<g id=\"edge9\" class=\"edge\">\n",
       "<title>1&#45;&gt;9</title>\n",
       "<path fill=\"none\" stroke=\"black\" d=\"M263,-326.76C263,-314.56 263,-299.78 263,-286.49\"/>\n",
       "<polygon fill=\"black\" stroke=\"black\" points=\"266.5,-286.23 263,-276.23 259.5,-286.23 266.5,-286.23\"/>\n",
       "<text text-anchor=\"middle\" x=\"266.5\" y=\"-297.8\" font-family=\"Times,serif\" font-size=\"14.00\">2</text>\n",
       "</g>\n",
       "<!-- 2 -->\n",
       "<g id=\"node2\" class=\"node\">\n",
       "<title>2</title>\n",
       "<polygon fill=\"none\" stroke=\"black\" points=\"629.5,-701 562.5,-701 562.5,-648 629.5,-648 629.5,-701\"/>\n",
       "<text text-anchor=\"middle\" x=\"596\" y=\"-685.8\" font-family=\"Times,serif\" font-size=\"14.00\">[2]</text>\n",
       "<text text-anchor=\"middle\" x=\"596\" y=\"-670.8\" font-family=\"Times,serif\" font-size=\"14.00\">primitive</text>\n",
       "<text text-anchor=\"middle\" x=\"596\" y=\"-655.8\" font-family=\"Times,serif\" font-size=\"14.00\">object</text>\n",
       "</g>\n",
       "<!-- 4 -->\n",
       "<g id=\"node4\" class=\"node\">\n",
       "<title>4</title>\n",
       "<polygon fill=\"none\" stroke=\"black\" points=\"622,-597 566,-597 566,-559 622,-559 622,-597\"/>\n",
       "<text text-anchor=\"middle\" x=\"594\" y=\"-581.8\" font-family=\"Times,serif\" font-size=\"14.00\">[4]</text>\n",
       "<text text-anchor=\"middle\" x=\"594\" y=\"-566.8\" font-family=\"Times,serif\" font-size=\"14.00\">2&#45;[ ... ]</text>\n",
       "</g>\n",
       "<!-- 2&#45;&gt;4 -->\n",
       "<g id=\"edge1\" class=\"edge\">\n",
       "<title>2&#45;&gt;4</title>\n",
       "<path fill=\"none\" stroke=\"black\" d=\"M595.45,-647.68C595.19,-635.13 594.87,-620.01 594.6,-607.17\"/>\n",
       "<polygon fill=\"black\" stroke=\"black\" points=\"598.09,-606.93 594.38,-597.01 591.09,-607.08 598.09,-606.93\"/>\n",
       "<text text-anchor=\"middle\" x=\"599.5\" y=\"-618.8\" font-family=\"Times,serif\" font-size=\"14.00\">1</text>\n",
       "</g>\n",
       "<!-- 11 -->\n",
       "<g id=\"node11\" class=\"node\">\n",
       "<title>11</title>\n",
       "<polygon fill=\"none\" stroke=\"black\" points=\"712,-597 656,-597 656,-559 712,-559 712,-597\"/>\n",
       "<text text-anchor=\"middle\" x=\"684\" y=\"-581.8\" font-family=\"Times,serif\" font-size=\"14.00\">[11]</text>\n",
       "<text text-anchor=\"middle\" x=\"684\" y=\"-566.8\" font-family=\"Times,serif\" font-size=\"14.00\">2&#45;[ ... ]</text>\n",
       "</g>\n",
       "<!-- 2&#45;&gt;11 -->\n",
       "<g id=\"edge13\" class=\"edge\">\n",
       "<title>2&#45;&gt;11</title>\n",
       "<path fill=\"none\" stroke=\"black\" d=\"M606.09,-647.76C611.22,-636.82 618.25,-624.44 627,-615 632.83,-608.71 640,-603.06 647.26,-598.22\"/>\n",
       "<polygon fill=\"black\" stroke=\"black\" points=\"649.13,-601.18 655.75,-592.9 645.41,-595.24 649.13,-601.18\"/>\n",
       "<text text-anchor=\"middle\" x=\"630.5\" y=\"-618.8\" font-family=\"Times,serif\" font-size=\"14.00\">2</text>\n",
       "</g>\n",
       "<!-- 3 -->\n",
       "<g id=\"node3\" class=\"node\">\n",
       "<title>3</title>\n",
       "<polygon fill=\"none\" stroke=\"black\" points=\"715.5,-701 648.5,-701 648.5,-648 715.5,-648 715.5,-701\"/>\n",
       "<text text-anchor=\"middle\" x=\"682\" y=\"-685.8\" font-family=\"Times,serif\" font-size=\"14.00\">[3]</text>\n",
       "<text text-anchor=\"middle\" x=\"682\" y=\"-670.8\" font-family=\"Times,serif\" font-size=\"14.00\">primitive</text>\n",
       "<text text-anchor=\"middle\" x=\"682\" y=\"-655.8\" font-family=\"Times,serif\" font-size=\"14.00\">object</text>\n",
       "</g>\n",
       "<!-- 3&#45;&gt;4 -->\n",
       "<g id=\"edge2\" class=\"edge\">\n",
       "<title>3&#45;&gt;4</title>\n",
       "<path fill=\"none\" stroke=\"black\" d=\"M661.15,-647.94C652.39,-637.51 641.94,-625.46 632,-615 628.66,-611.48 625.05,-607.86 621.44,-604.34\"/>\n",
       "<polygon fill=\"black\" stroke=\"black\" points=\"623.75,-601.7 614.11,-597.3 618.9,-606.75 623.75,-601.7\"/>\n",
       "<text text-anchor=\"middle\" x=\"648.5\" y=\"-618.8\" font-family=\"Times,serif\" font-size=\"14.00\">2</text>\n",
       "</g>\n",
       "<!-- 3&#45;&gt;11 -->\n",
       "<g id=\"edge12\" class=\"edge\">\n",
       "<title>3&#45;&gt;11</title>\n",
       "<path fill=\"none\" stroke=\"black\" d=\"M682.55,-647.68C682.81,-635.13 683.13,-620.01 683.4,-607.17\"/>\n",
       "<polygon fill=\"black\" stroke=\"black\" points=\"686.91,-607.08 683.62,-597.01 679.91,-606.93 686.91,-607.08\"/>\n",
       "<text text-anchor=\"middle\" x=\"686.5\" y=\"-618.8\" font-family=\"Times,serif\" font-size=\"14.00\">1</text>\n",
       "</g>\n",
       "<!-- 5 -->\n",
       "<g id=\"node5\" class=\"node\">\n",
       "<title>5</title>\n",
       "<polygon fill=\"none\" stroke=\"black\" points=\"572.5,-522 513.5,-522 513.5,-469 572.5,-469 572.5,-522\"/>\n",
       "<text text-anchor=\"middle\" x=\"543\" y=\"-506.8\" font-family=\"Times,serif\" font-size=\"14.00\">[5]</text>\n",
       "<text text-anchor=\"middle\" x=\"543\" y=\"-491.8\" font-family=\"Times,serif\" font-size=\"14.00\">Direct</text>\n",
       "<text text-anchor=\"middle\" x=\"543\" y=\"-476.8\" font-family=\"Times,serif\" font-size=\"14.00\">Product</text>\n",
       "</g>\n",
       "<!-- 4&#45;&gt;5 -->\n",
       "<g id=\"edge3\" class=\"edge\">\n",
       "<title>4&#45;&gt;5</title>\n",
       "<path fill=\"none\" stroke=\"black\" d=\"M582.43,-558.73C577.16,-550.42 570.75,-540.31 564.65,-530.67\"/>\n",
       "<polygon fill=\"black\" stroke=\"black\" points=\"567.47,-528.59 559.17,-522.02 561.56,-532.34 567.47,-528.59\"/>\n",
       "</g>\n",
       "<!-- 6 -->\n",
       "<g id=\"node6\" class=\"node\">\n",
       "<title>6</title>\n",
       "<polygon fill=\"none\" stroke=\"black\" points=\"208,-380 0,-380 0,-327 208,-327 208,-380\"/>\n",
       "<text text-anchor=\"middle\" x=\"104\" y=\"-364.8\" font-family=\"Times,serif\" font-size=\"14.00\">[6]</text>\n",
       "<text text-anchor=\"middle\" x=\"104\" y=\"-349.8\" font-family=\"Times,serif\" font-size=\"14.00\">ProjectionInFactorOfDirectProduct</text>\n",
       "<text text-anchor=\"middle\" x=\"104\" y=\"-334.8\" font-family=\"Times,serif\" font-size=\"14.00\">WithGivenDirectProduct( 1 )</text>\n",
       "</g>\n",
       "<!-- 4&#45;&gt;6 -->\n",
       "<g id=\"edge4\" class=\"edge\">\n",
       "<title>4&#45;&gt;6</title>\n",
       "<path fill=\"none\" stroke=\"black\" d=\"M565.56,-569.61C504.3,-553.11 356.17,-510 242,-451 206.69,-432.75 169.97,-406.68 143.29,-386.23\"/>\n",
       "<polygon fill=\"black\" stroke=\"black\" points=\"145.4,-383.43 135.35,-380.08 141.11,-388.97 145.4,-383.43\"/>\n",
       "<text text-anchor=\"middle\" x=\"413.5\" y=\"-491.8\" font-family=\"Times,serif\" font-size=\"14.00\">1</text>\n",
       "</g>\n",
       "<!-- 8 -->\n",
       "<g id=\"node8\" class=\"node\">\n",
       "<title>8</title>\n",
       "<polygon fill=\"none\" stroke=\"black\" points=\"617,-380 409,-380 409,-327 617,-327 617,-380\"/>\n",
       "<text text-anchor=\"middle\" x=\"513\" y=\"-364.8\" font-family=\"Times,serif\" font-size=\"14.00\">[8]</text>\n",
       "<text text-anchor=\"middle\" x=\"513\" y=\"-349.8\" font-family=\"Times,serif\" font-size=\"14.00\">ProjectionInFactorOfDirectProduct</text>\n",
       "<text text-anchor=\"middle\" x=\"513\" y=\"-334.8\" font-family=\"Times,serif\" font-size=\"14.00\">WithGivenDirectProduct( 2 )</text>\n",
       "</g>\n",
       "<!-- 4&#45;&gt;8 -->\n",
       "<g id=\"edge6\" class=\"edge\">\n",
       "<title>4&#45;&gt;8</title>\n",
       "<path fill=\"none\" stroke=\"black\" d=\"M593.73,-558.64C592.96,-536.83 590.26,-499.54 581,-469 570.73,-435.14 563.55,-428.13 545,-398 543.07,-394.86 540.97,-391.66 538.82,-388.49\"/>\n",
       "<polygon fill=\"black\" stroke=\"black\" points=\"541.63,-386.4 533.01,-380.24 535.9,-390.43 541.63,-386.4\"/>\n",
       "<text text-anchor=\"middle\" x=\"594.5\" y=\"-491.8\" font-family=\"Times,serif\" font-size=\"14.00\">1</text>\n",
       "</g>\n",
       "<!-- 5&#45;&gt;6 -->\n",
       "<g id=\"edge5\" class=\"edge\">\n",
       "<title>5&#45;&gt;6</title>\n",
       "<path fill=\"none\" stroke=\"black\" d=\"M513.17,-484.99C448.55,-464.38 293.44,-414.91 193.85,-383.15\"/>\n",
       "<polygon fill=\"black\" stroke=\"black\" points=\"194.68,-379.74 184.09,-380.04 192.55,-386.41 194.68,-379.74\"/>\n",
       "<text text-anchor=\"middle\" x=\"405.5\" y=\"-420.8\" font-family=\"Times,serif\" font-size=\"14.00\">2</text>\n",
       "</g>\n",
       "<!-- 5&#45;&gt;8 -->\n",
       "<g id=\"edge7\" class=\"edge\">\n",
       "<title>5&#45;&gt;8</title>\n",
       "<path fill=\"none\" stroke=\"black\" d=\"M537.5,-468.82C532.76,-446.72 525.88,-414.6 520.61,-390.03\"/>\n",
       "<polygon fill=\"black\" stroke=\"black\" points=\"523.99,-389.06 518.47,-380.02 517.14,-390.53 523.99,-389.06\"/>\n",
       "<text text-anchor=\"middle\" x=\"537.5\" y=\"-420.8\" font-family=\"Times,serif\" font-size=\"14.00\">2</text>\n",
       "</g>\n",
       "<!-- 14 -->\n",
       "<g id=\"node14\" class=\"node\">\n",
       "<title>14</title>\n",
       "<polygon fill=\"none\" stroke=\"black\" points=\"729.5,-83 602.5,-83 602.5,0 729.5,0 729.5,-83\"/>\n",
       "<text text-anchor=\"middle\" x=\"666\" y=\"-67.8\" font-family=\"Times,serif\" font-size=\"14.00\">[14]</text>\n",
       "<text text-anchor=\"middle\" x=\"666\" y=\"-52.8\" font-family=\"Times,serif\" font-size=\"14.00\">UniversalMorphism</text>\n",
       "<text text-anchor=\"middle\" x=\"666\" y=\"-37.8\" font-family=\"Times,serif\" font-size=\"14.00\">IntoDirectProduct</text>\n",
       "<text text-anchor=\"middle\" x=\"666\" y=\"-22.8\" font-family=\"Times,serif\" font-size=\"14.00\">WithGiven</text>\n",
       "<text text-anchor=\"middle\" x=\"666\" y=\"-7.8\" font-family=\"Times,serif\" font-size=\"14.00\">DirectProduct</text>\n",
       "</g>\n",
       "<!-- 5&#45;&gt;14 -->\n",
       "<g id=\"edge18\" class=\"edge\">\n",
       "<title>5&#45;&gt;14</title>\n",
       "<path fill=\"none\" stroke=\"black\" d=\"M567.17,-468.84C597.34,-434.02 645,-368.55 645,-302.5 645,-302.5 645,-302.5 645,-152 645,-132.56 648.23,-111.53 652.16,-93.14\"/>\n",
       "<polygon fill=\"black\" stroke=\"black\" points=\"655.61,-93.75 654.39,-83.22 648.78,-92.21 655.61,-93.75\"/>\n",
       "<text text-anchor=\"middle\" x=\"648.5\" y=\"-245.8\" font-family=\"Times,serif\" font-size=\"14.00\">2</text>\n",
       "</g>\n",
       "<!-- 6&#45;&gt;9 -->\n",
       "<g id=\"edge8\" class=\"edge\">\n",
       "<title>6&#45;&gt;9</title>\n",
       "<path fill=\"none\" stroke=\"black\" d=\"M144.12,-326.76C167.39,-311.83 196.68,-293.04 220.37,-277.85\"/>\n",
       "<polygon fill=\"black\" stroke=\"black\" points=\"222.29,-280.77 228.82,-272.43 218.51,-274.88 222.29,-280.77\"/>\n",
       "<text text-anchor=\"middle\" x=\"197.5\" y=\"-297.8\" font-family=\"Times,serif\" font-size=\"14.00\">1</text>\n",
       "</g>\n",
       "<!-- 7 -->\n",
       "<g id=\"node7\" class=\"node\">\n",
       "<title>7</title>\n",
       "<polygon fill=\"none\" stroke=\"black\" points=\"390.5,-380 317.5,-380 317.5,-327 390.5,-327 390.5,-380\"/>\n",
       "<text text-anchor=\"middle\" x=\"354\" y=\"-364.8\" font-family=\"Times,serif\" font-size=\"14.00\">[7]</text>\n",
       "<text text-anchor=\"middle\" x=\"354\" y=\"-349.8\" font-family=\"Times,serif\" font-size=\"14.00\">primitive</text>\n",
       "<text text-anchor=\"middle\" x=\"354\" y=\"-334.8\" font-family=\"Times,serif\" font-size=\"14.00\">morphism</text>\n",
       "</g>\n",
       "<!-- 10 -->\n",
       "<g id=\"node10\" class=\"node\">\n",
       "<title>10</title>\n",
       "<polygon fill=\"none\" stroke=\"black\" points=\"435,-276 367,-276 367,-223 435,-223 435,-276\"/>\n",
       "<text text-anchor=\"middle\" x=\"401\" y=\"-260.8\" font-family=\"Times,serif\" font-size=\"14.00\">[10]</text>\n",
       "<text text-anchor=\"middle\" x=\"401\" y=\"-245.8\" font-family=\"Times,serif\" font-size=\"14.00\">Pre</text>\n",
       "<text text-anchor=\"middle\" x=\"401\" y=\"-230.8\" font-family=\"Times,serif\" font-size=\"14.00\">Compose</text>\n",
       "</g>\n",
       "<!-- 7&#45;&gt;10 -->\n",
       "<g id=\"edge11\" class=\"edge\">\n",
       "<title>7&#45;&gt;10</title>\n",
       "<path fill=\"none\" stroke=\"black\" d=\"M365.86,-326.76C371.59,-314.32 378.56,-299.19 384.78,-285.7\"/>\n",
       "<polygon fill=\"black\" stroke=\"black\" points=\"388.14,-286.78 389.14,-276.23 381.78,-283.85 388.14,-286.78\"/>\n",
       "<text text-anchor=\"middle\" x=\"384.5\" y=\"-297.8\" font-family=\"Times,serif\" font-size=\"14.00\">2</text>\n",
       "</g>\n",
       "<!-- 8&#45;&gt;10 -->\n",
       "<g id=\"edge10\" class=\"edge\">\n",
       "<title>8&#45;&gt;10</title>\n",
       "<path fill=\"none\" stroke=\"black\" d=\"M484.74,-326.76C470.15,-313.47 452.2,-297.12 436.66,-282.98\"/>\n",
       "<polygon fill=\"black\" stroke=\"black\" points=\"439,-280.38 429.25,-276.23 434.29,-285.55 439,-280.38\"/>\n",
       "<text text-anchor=\"middle\" x=\"467.5\" y=\"-297.8\" font-family=\"Times,serif\" font-size=\"14.00\">1</text>\n",
       "</g>\n",
       "<!-- 13 -->\n",
       "<g id=\"node13\" class=\"node\">\n",
       "<title>13</title>\n",
       "<polygon fill=\"none\" stroke=\"black\" points=\"429,-172 373,-172 373,-134 429,-134 429,-172\"/>\n",
       "<text text-anchor=\"middle\" x=\"401\" y=\"-156.8\" font-family=\"Times,serif\" font-size=\"14.00\">[13]</text>\n",
       "<text text-anchor=\"middle\" x=\"401\" y=\"-141.8\" font-family=\"Times,serif\" font-size=\"14.00\">2&#45;[ ... ]</text>\n",
       "</g>\n",
       "<!-- 9&#45;&gt;13 -->\n",
       "<g id=\"edge16\" class=\"edge\">\n",
       "<title>9&#45;&gt;13</title>\n",
       "<path fill=\"none\" stroke=\"black\" d=\"M297.11,-225.14C318.16,-210.73 345.08,-192.29 366.24,-177.8\"/>\n",
       "<polygon fill=\"black\" stroke=\"black\" points=\"368.36,-180.59 374.63,-172.06 364.4,-174.82 368.36,-180.59\"/>\n",
       "<text text-anchor=\"middle\" x=\"352.5\" y=\"-193.8\" font-family=\"Times,serif\" font-size=\"14.00\">2</text>\n",
       "</g>\n",
       "<!-- 10&#45;&gt;13 -->\n",
       "<g id=\"edge15\" class=\"edge\">\n",
       "<title>10&#45;&gt;13</title>\n",
       "<path fill=\"none\" stroke=\"black\" d=\"M401,-222.68C401,-210.13 401,-195.01 401,-182.17\"/>\n",
       "<polygon fill=\"black\" stroke=\"black\" points=\"404.5,-182.01 401,-172.01 397.5,-182.01 404.5,-182.01\"/>\n",
       "<text text-anchor=\"middle\" x=\"404.5\" y=\"-193.8\" font-family=\"Times,serif\" font-size=\"14.00\">1</text>\n",
       "</g>\n",
       "<!-- 12 -->\n",
       "<g id=\"node12\" class=\"node\">\n",
       "<title>12</title>\n",
       "<polygon fill=\"none\" stroke=\"black\" points=\"713.5,-451 654.5,-451 654.5,-398 713.5,-398 713.5,-451\"/>\n",
       "<text text-anchor=\"middle\" x=\"684\" y=\"-435.8\" font-family=\"Times,serif\" font-size=\"14.00\">[12]</text>\n",
       "<text text-anchor=\"middle\" x=\"684\" y=\"-420.8\" font-family=\"Times,serif\" font-size=\"14.00\">Direct</text>\n",
       "<text text-anchor=\"middle\" x=\"684\" y=\"-405.8\" font-family=\"Times,serif\" font-size=\"14.00\">Product</text>\n",
       "</g>\n",
       "<!-- 11&#45;&gt;12 -->\n",
       "<g id=\"edge14\" class=\"edge\">\n",
       "<title>11&#45;&gt;12</title>\n",
       "<path fill=\"none\" stroke=\"black\" d=\"M684,-558.73C684,-534.72 684,-492.03 684,-461.44\"/>\n",
       "<polygon fill=\"black\" stroke=\"black\" points=\"687.5,-461.18 684,-451.18 680.5,-461.18 687.5,-461.18\"/>\n",
       "</g>\n",
       "<!-- 11&#45;&gt;14 -->\n",
       "<g id=\"edge17\" class=\"edge\">\n",
       "<title>11&#45;&gt;14</title>\n",
       "<path fill=\"none\" stroke=\"black\" d=\"M701.27,-558.76C713.96,-543.4 729,-520.2 729,-496.5 729,-496.5 729,-496.5 729,-152 729,-130.51 719.77,-109.44 708.38,-91.6\"/>\n",
       "<polygon fill=\"black\" stroke=\"black\" points=\"711.15,-89.44 702.65,-83.12 705.35,-93.36 711.15,-89.44\"/>\n",
       "<text text-anchor=\"middle\" x=\"732.5\" y=\"-297.8\" font-family=\"Times,serif\" font-size=\"14.00\">1</text>\n",
       "</g>\n",
       "<!-- 12&#45;&gt;14 -->\n",
       "<g id=\"edge20\" class=\"edge\">\n",
       "<title>12&#45;&gt;14</title>\n",
       "<path fill=\"none\" stroke=\"black\" d=\"M685.35,-397.54C686.51,-373.05 688,-335.29 688,-302.5 688,-302.5 688,-302.5 688,-152 688,-132.53 684.62,-111.49 680.5,-93.1\"/>\n",
       "<polygon fill=\"black\" stroke=\"black\" points=\"683.87,-92.12 678.16,-83.19 677.05,-93.73 683.87,-92.12\"/>\n",
       "<text text-anchor=\"middle\" x=\"691.5\" y=\"-245.8\" font-family=\"Times,serif\" font-size=\"14.00\">4</text>\n",
       "</g>\n",
       "<!-- 13&#45;&gt;14 -->\n",
       "<g id=\"edge19\" class=\"edge\">\n",
       "<title>13&#45;&gt;14</title>\n",
       "<path fill=\"none\" stroke=\"black\" d=\"M429.36,-140.28C468.03,-124.3 538.67,-95.12 592.73,-72.77\"/>\n",
       "<polygon fill=\"black\" stroke=\"black\" points=\"594.38,-75.88 602.28,-68.83 591.7,-69.41 594.38,-75.88\"/>\n",
       "<text text-anchor=\"middle\" x=\"521.5\" y=\"-104.8\" font-family=\"Times,serif\" font-size=\"14.00\">3</text>\n",
       "</g>\n",
       "</g>\n",
       "</svg>\n"
      ]
     },
     "metadata": {},
     "output_type": "display_data"
    }
   ],
   "source": [
    "Visualize( Gγ_ab )"
   ]
  },
  {
   "cell_type": "code",
   "execution_count": 43,
   "id": "1cad3753",
   "metadata": {},
   "outputs": [
    {
     "data": {
      "text/plain": [
       "GAP: <An evaluated object in LazyCategory( FiniteStrictProductCompletion( FreeCategory( RightQuiver( \"Q(a,b)[]\" ) ) ) )>"
      ]
     },
     "execution_count": 43,
     "metadata": {},
     "output_type": "execute_result"
    }
   ],
   "source": [
    "La = LPC.a"
   ]
  },
  {
   "cell_type": "code",
   "execution_count": 44,
   "id": "2668bf3f",
   "metadata": {},
   "outputs": [
    {
     "data": {
      "text/plain": [
       "GAP: <An evaluated object in LazyCategory( FiniteStrictProductCompletion( FreeCategory( RightQuiver( \"Q(a,b)[]\" ) ) ) )>"
      ]
     },
     "execution_count": 44,
     "metadata": {},
     "output_type": "execute_result"
    }
   ],
   "source": [
    "Lb = LPC.b"
   ]
  },
  {
   "cell_type": "code",
   "execution_count": 45,
   "id": "ee8a9e30",
   "metadata": {},
   "outputs": [
    {
     "data": {
      "image/svg+xml": [
       "<?xml version=\"1.0\" encoding=\"UTF-8\" standalone=\"no\"?>\n",
       "<!DOCTYPE svg PUBLIC \"-//W3C//DTD SVG 1.1//EN\"\n",
       " \"http://www.w3.org/Graphics/SVG/1.1/DTD/svg11.dtd\">\n",
       "<!-- Generated by graphviz version 2.50.0 (20211204.2007)\n",
       " -->\n",
       "<!-- Title: DigraphOfEvaluation Pages: 1 -->\n",
       "<svg width=\"561pt\" height=\"605pt\"\n",
       " viewBox=\"0.00 0.00 561.00 605.00\" xmlns=\"http://www.w3.org/2000/svg\" xmlns:xlink=\"http://www.w3.org/1999/xlink\">\n",
       "<g id=\"graph0\" class=\"graph\" transform=\"scale(1 1) rotate(0) translate(4 601)\">\n",
       "<title>DigraphOfEvaluation</title>\n",
       "<polygon fill=\"white\" stroke=\"transparent\" points=\"-4,4 -4,-601 557,-601 557,4 -4,4\"/>\n",
       "<!-- 1 -->\n",
       "<g id=\"node1\" class=\"node\">\n",
       "<title>1</title>\n",
       "<polygon fill=\"none\" stroke=\"black\" points=\"445.5,-597 378.5,-597 378.5,-544 445.5,-544 445.5,-597\"/>\n",
       "<text text-anchor=\"middle\" x=\"412\" y=\"-581.8\" font-family=\"Times,serif\" font-size=\"14.00\">[1]</text>\n",
       "<text text-anchor=\"middle\" x=\"412\" y=\"-566.8\" font-family=\"Times,serif\" font-size=\"14.00\">primitive</text>\n",
       "<text text-anchor=\"middle\" x=\"412\" y=\"-551.8\" font-family=\"Times,serif\" font-size=\"14.00\">object</text>\n",
       "</g>\n",
       "<!-- 3 -->\n",
       "<g id=\"node3\" class=\"node\">\n",
       "<title>3</title>\n",
       "<polygon fill=\"none\" stroke=\"black\" points=\"438,-493 382,-493 382,-455 438,-455 438,-493\"/>\n",
       "<text text-anchor=\"middle\" x=\"410\" y=\"-477.8\" font-family=\"Times,serif\" font-size=\"14.00\">[3]</text>\n",
       "<text text-anchor=\"middle\" x=\"410\" y=\"-462.8\" font-family=\"Times,serif\" font-size=\"14.00\">2&#45;[ ... ]</text>\n",
       "</g>\n",
       "<!-- 1&#45;&gt;3 -->\n",
       "<g id=\"edge1\" class=\"edge\">\n",
       "<title>1&#45;&gt;3</title>\n",
       "<path fill=\"none\" stroke=\"black\" d=\"M411.45,-543.68C411.19,-531.13 410.87,-516.01 410.6,-503.17\"/>\n",
       "<polygon fill=\"black\" stroke=\"black\" points=\"414.09,-502.93 410.38,-493.01 407.09,-503.08 414.09,-502.93\"/>\n",
       "<text text-anchor=\"middle\" x=\"414.5\" y=\"-514.8\" font-family=\"Times,serif\" font-size=\"14.00\">1</text>\n",
       "</g>\n",
       "<!-- 7 -->\n",
       "<g id=\"node7\" class=\"node\">\n",
       "<title>7</title>\n",
       "<polygon fill=\"none\" stroke=\"black\" points=\"528,-493 472,-493 472,-455 528,-455 528,-493\"/>\n",
       "<text text-anchor=\"middle\" x=\"500\" y=\"-477.8\" font-family=\"Times,serif\" font-size=\"14.00\">[7]</text>\n",
       "<text text-anchor=\"middle\" x=\"500\" y=\"-462.8\" font-family=\"Times,serif\" font-size=\"14.00\">2&#45;[ ... ]</text>\n",
       "</g>\n",
       "<!-- 1&#45;&gt;7 -->\n",
       "<g id=\"edge9\" class=\"edge\">\n",
       "<title>1&#45;&gt;7</title>\n",
       "<path fill=\"none\" stroke=\"black\" d=\"M422.09,-543.76C427.22,-532.82 434.25,-520.44 443,-511 448.83,-504.71 456,-499.06 463.26,-494.22\"/>\n",
       "<polygon fill=\"black\" stroke=\"black\" points=\"465.13,-497.18 471.75,-488.9 461.41,-491.24 465.13,-497.18\"/>\n",
       "<text text-anchor=\"middle\" x=\"446.5\" y=\"-514.8\" font-family=\"Times,serif\" font-size=\"14.00\">2</text>\n",
       "</g>\n",
       "<!-- 2 -->\n",
       "<g id=\"node2\" class=\"node\">\n",
       "<title>2</title>\n",
       "<polygon fill=\"none\" stroke=\"black\" points=\"531.5,-597 464.5,-597 464.5,-544 531.5,-544 531.5,-597\"/>\n",
       "<text text-anchor=\"middle\" x=\"498\" y=\"-581.8\" font-family=\"Times,serif\" font-size=\"14.00\">[2]</text>\n",
       "<text text-anchor=\"middle\" x=\"498\" y=\"-566.8\" font-family=\"Times,serif\" font-size=\"14.00\">primitive</text>\n",
       "<text text-anchor=\"middle\" x=\"498\" y=\"-551.8\" font-family=\"Times,serif\" font-size=\"14.00\">object</text>\n",
       "</g>\n",
       "<!-- 2&#45;&gt;3 -->\n",
       "<g id=\"edge2\" class=\"edge\">\n",
       "<title>2&#45;&gt;3</title>\n",
       "<path fill=\"none\" stroke=\"black\" d=\"M477.15,-543.94C468.39,-533.51 457.94,-521.46 448,-511 444.66,-507.48 441.05,-503.86 437.44,-500.34\"/>\n",
       "<polygon fill=\"black\" stroke=\"black\" points=\"439.75,-497.7 430.11,-493.3 434.9,-502.75 439.75,-497.7\"/>\n",
       "<text text-anchor=\"middle\" x=\"463.5\" y=\"-514.8\" font-family=\"Times,serif\" font-size=\"14.00\">2</text>\n",
       "</g>\n",
       "<!-- 2&#45;&gt;7 -->\n",
       "<g id=\"edge8\" class=\"edge\">\n",
       "<title>2&#45;&gt;7</title>\n",
       "<path fill=\"none\" stroke=\"black\" d=\"M498.55,-543.68C498.81,-531.13 499.13,-516.01 499.4,-503.17\"/>\n",
       "<polygon fill=\"black\" stroke=\"black\" points=\"502.91,-503.08 499.62,-493.01 495.91,-502.93 502.91,-503.08\"/>\n",
       "<text text-anchor=\"middle\" x=\"502.5\" y=\"-514.8\" font-family=\"Times,serif\" font-size=\"14.00\">1</text>\n",
       "</g>\n",
       "<!-- 4 -->\n",
       "<g id=\"node4\" class=\"node\">\n",
       "<title>4</title>\n",
       "<polygon fill=\"none\" stroke=\"black\" points=\"390.5,-418 331.5,-418 331.5,-365 390.5,-365 390.5,-418\"/>\n",
       "<text text-anchor=\"middle\" x=\"361\" y=\"-402.8\" font-family=\"Times,serif\" font-size=\"14.00\">[4]</text>\n",
       "<text text-anchor=\"middle\" x=\"361\" y=\"-387.8\" font-family=\"Times,serif\" font-size=\"14.00\">Direct</text>\n",
       "<text text-anchor=\"middle\" x=\"361\" y=\"-372.8\" font-family=\"Times,serif\" font-size=\"14.00\">Product</text>\n",
       "</g>\n",
       "<!-- 3&#45;&gt;4 -->\n",
       "<g id=\"edge3\" class=\"edge\">\n",
       "<title>3&#45;&gt;4</title>\n",
       "<path fill=\"none\" stroke=\"black\" d=\"M398.88,-454.73C393.82,-446.42 387.67,-436.31 381.8,-426.67\"/>\n",
       "<polygon fill=\"black\" stroke=\"black\" points=\"384.72,-424.74 376.53,-418.02 378.74,-428.38 384.72,-424.74\"/>\n",
       "</g>\n",
       "<!-- 5 -->\n",
       "<g id=\"node5\" class=\"node\">\n",
       "<title>5</title>\n",
       "<polygon fill=\"none\" stroke=\"black\" points=\"208,-276 0,-276 0,-223 208,-223 208,-276\"/>\n",
       "<text text-anchor=\"middle\" x=\"104\" y=\"-260.8\" font-family=\"Times,serif\" font-size=\"14.00\">[5]</text>\n",
       "<text text-anchor=\"middle\" x=\"104\" y=\"-245.8\" font-family=\"Times,serif\" font-size=\"14.00\">ProjectionInFactorOfDirectProduct</text>\n",
       "<text text-anchor=\"middle\" x=\"104\" y=\"-230.8\" font-family=\"Times,serif\" font-size=\"14.00\">WithGivenDirectProduct( 1 )</text>\n",
       "</g>\n",
       "<!-- 3&#45;&gt;5 -->\n",
       "<g id=\"edge4\" class=\"edge\">\n",
       "<title>3&#45;&gt;5</title>\n",
       "<path fill=\"none\" stroke=\"black\" d=\"M381.71,-461.48C336.56,-442.22 246.83,-400.3 183,-347 161.33,-328.91 141.25,-304.21 126.75,-284.34\"/>\n",
       "<polygon fill=\"black\" stroke=\"black\" points=\"129.55,-282.24 120.89,-276.15 123.86,-286.31 129.55,-282.24\"/>\n",
       "<text text-anchor=\"middle\" x=\"290.5\" y=\"-387.8\" font-family=\"Times,serif\" font-size=\"14.00\">1</text>\n",
       "</g>\n",
       "<!-- 6 -->\n",
       "<g id=\"node6\" class=\"node\">\n",
       "<title>6</title>\n",
       "<polygon fill=\"none\" stroke=\"black\" points=\"434,-276 226,-276 226,-223 434,-223 434,-276\"/>\n",
       "<text text-anchor=\"middle\" x=\"330\" y=\"-260.8\" font-family=\"Times,serif\" font-size=\"14.00\">[6]</text>\n",
       "<text text-anchor=\"middle\" x=\"330\" y=\"-245.8\" font-family=\"Times,serif\" font-size=\"14.00\">ProjectionInFactorOfDirectProduct</text>\n",
       "<text text-anchor=\"middle\" x=\"330\" y=\"-230.8\" font-family=\"Times,serif\" font-size=\"14.00\">WithGivenDirectProduct( 2 )</text>\n",
       "</g>\n",
       "<!-- 3&#45;&gt;6 -->\n",
       "<g id=\"edge6\" class=\"edge\">\n",
       "<title>3&#45;&gt;6</title>\n",
       "<path fill=\"none\" stroke=\"black\" d=\"M410.55,-454.99C410.71,-433.19 409.38,-395.61 400,-365 391.02,-335.7 372.79,-306.28 357.18,-284.6\"/>\n",
       "<polygon fill=\"black\" stroke=\"black\" points=\"359.88,-282.36 351.13,-276.39 354.25,-286.52 359.88,-282.36\"/>\n",
       "<text text-anchor=\"middle\" x=\"412.5\" y=\"-387.8\" font-family=\"Times,serif\" font-size=\"14.00\">1</text>\n",
       "</g>\n",
       "<!-- 4&#45;&gt;5 -->\n",
       "<g id=\"edge5\" class=\"edge\">\n",
       "<title>4&#45;&gt;5</title>\n",
       "<path fill=\"none\" stroke=\"black\" d=\"M331.27,-374.3C289.43,-351.51 212.4,-309.55 159.72,-280.85\"/>\n",
       "<polygon fill=\"black\" stroke=\"black\" points=\"161.29,-277.72 150.83,-276.01 157.94,-283.87 161.29,-277.72\"/>\n",
       "<text text-anchor=\"middle\" x=\"280.5\" y=\"-316.8\" font-family=\"Times,serif\" font-size=\"14.00\">2</text>\n",
       "</g>\n",
       "<!-- 4&#45;&gt;6 -->\n",
       "<g id=\"edge7\" class=\"edge\">\n",
       "<title>4&#45;&gt;6</title>\n",
       "<path fill=\"none\" stroke=\"black\" d=\"M355.31,-364.82C350.42,-342.72 343.31,-310.6 337.87,-286.03\"/>\n",
       "<polygon fill=\"black\" stroke=\"black\" points=\"341.23,-285.02 335.65,-276.02 334.39,-286.54 341.23,-285.02\"/>\n",
       "<text text-anchor=\"middle\" x=\"353.5\" y=\"-316.8\" font-family=\"Times,serif\" font-size=\"14.00\">2</text>\n",
       "</g>\n",
       "<!-- 10 -->\n",
       "<g id=\"node10\" class=\"node\">\n",
       "<title>10</title>\n",
       "<polygon fill=\"none\" stroke=\"black\" points=\"544.5,-83 417.5,-83 417.5,0 544.5,0 544.5,-83\"/>\n",
       "<text text-anchor=\"middle\" x=\"481\" y=\"-67.8\" font-family=\"Times,serif\" font-size=\"14.00\">[10]</text>\n",
       "<text text-anchor=\"middle\" x=\"481\" y=\"-52.8\" font-family=\"Times,serif\" font-size=\"14.00\">UniversalMorphism</text>\n",
       "<text text-anchor=\"middle\" x=\"481\" y=\"-37.8\" font-family=\"Times,serif\" font-size=\"14.00\">IntoDirectProduct</text>\n",
       "<text text-anchor=\"middle\" x=\"481\" y=\"-22.8\" font-family=\"Times,serif\" font-size=\"14.00\">WithGiven</text>\n",
       "<text text-anchor=\"middle\" x=\"481\" y=\"-7.8\" font-family=\"Times,serif\" font-size=\"14.00\">DirectProduct</text>\n",
       "</g>\n",
       "<!-- 4&#45;&gt;10 -->\n",
       "<g id=\"edge14\" class=\"edge\">\n",
       "<title>4&#45;&gt;10</title>\n",
       "<path fill=\"none\" stroke=\"black\" d=\"M384.72,-364.86C403.6,-342.94 429.1,-309.68 443,-276 467.6,-216.4 476.32,-142.09 479.38,-93.53\"/>\n",
       "<polygon fill=\"black\" stroke=\"black\" points=\"482.89,-93.45 479.97,-83.27 475.9,-93.05 482.89,-93.45\"/>\n",
       "<text text-anchor=\"middle\" x=\"470.5\" y=\"-193.8\" font-family=\"Times,serif\" font-size=\"14.00\">2</text>\n",
       "</g>\n",
       "<!-- 9 -->\n",
       "<g id=\"node9\" class=\"node\">\n",
       "<title>9</title>\n",
       "<polygon fill=\"none\" stroke=\"black\" points=\"358,-172 302,-172 302,-134 358,-134 358,-172\"/>\n",
       "<text text-anchor=\"middle\" x=\"330\" y=\"-156.8\" font-family=\"Times,serif\" font-size=\"14.00\">[9]</text>\n",
       "<text text-anchor=\"middle\" x=\"330\" y=\"-141.8\" font-family=\"Times,serif\" font-size=\"14.00\">2&#45;[ ... ]</text>\n",
       "</g>\n",
       "<!-- 5&#45;&gt;9 -->\n",
       "<g id=\"edge12\" class=\"edge\">\n",
       "<title>5&#45;&gt;9</title>\n",
       "<path fill=\"none\" stroke=\"black\" d=\"M165.16,-222.93C205.79,-205.94 257.83,-184.18 292.46,-169.7\"/>\n",
       "<polygon fill=\"black\" stroke=\"black\" points=\"293.86,-172.9 301.74,-165.82 291.16,-166.45 293.86,-172.9\"/>\n",
       "<text text-anchor=\"middle\" x=\"246.5\" y=\"-193.8\" font-family=\"Times,serif\" font-size=\"14.00\">2</text>\n",
       "</g>\n",
       "<!-- 6&#45;&gt;9 -->\n",
       "<g id=\"edge11\" class=\"edge\">\n",
       "<title>6&#45;&gt;9</title>\n",
       "<path fill=\"none\" stroke=\"black\" d=\"M330,-222.68C330,-210.13 330,-195.01 330,-182.17\"/>\n",
       "<polygon fill=\"black\" stroke=\"black\" points=\"333.5,-182.01 330,-172.01 326.5,-182.01 333.5,-182.01\"/>\n",
       "<text text-anchor=\"middle\" x=\"333.5\" y=\"-193.8\" font-family=\"Times,serif\" font-size=\"14.00\">1</text>\n",
       "</g>\n",
       "<!-- 8 -->\n",
       "<g id=\"node8\" class=\"node\">\n",
       "<title>8</title>\n",
       "<polygon fill=\"none\" stroke=\"black\" points=\"529.5,-347 470.5,-347 470.5,-294 529.5,-294 529.5,-347\"/>\n",
       "<text text-anchor=\"middle\" x=\"500\" y=\"-331.8\" font-family=\"Times,serif\" font-size=\"14.00\">[8]</text>\n",
       "<text text-anchor=\"middle\" x=\"500\" y=\"-316.8\" font-family=\"Times,serif\" font-size=\"14.00\">Direct</text>\n",
       "<text text-anchor=\"middle\" x=\"500\" y=\"-301.8\" font-family=\"Times,serif\" font-size=\"14.00\">Product</text>\n",
       "</g>\n",
       "<!-- 7&#45;&gt;8 -->\n",
       "<g id=\"edge10\" class=\"edge\">\n",
       "<title>7&#45;&gt;8</title>\n",
       "<path fill=\"none\" stroke=\"black\" d=\"M500,-454.73C500,-430.72 500,-388.03 500,-357.44\"/>\n",
       "<polygon fill=\"black\" stroke=\"black\" points=\"503.5,-357.18 500,-347.18 496.5,-357.18 503.5,-357.18\"/>\n",
       "</g>\n",
       "<!-- 7&#45;&gt;10 -->\n",
       "<g id=\"edge13\" class=\"edge\">\n",
       "<title>7&#45;&gt;10</title>\n",
       "<path fill=\"none\" stroke=\"black\" d=\"M517.65,-454.83C530.63,-439.51 546,-416.32 546,-392.5 546,-392.5 546,-392.5 546,-152 546,-130.44 536.56,-109.41 524.88,-91.64\"/>\n",
       "<polygon fill=\"black\" stroke=\"black\" points=\"527.59,-89.4 519,-83.19 521.84,-93.4 527.59,-89.4\"/>\n",
       "<text text-anchor=\"middle\" x=\"549.5\" y=\"-245.8\" font-family=\"Times,serif\" font-size=\"14.00\">1</text>\n",
       "</g>\n",
       "<!-- 8&#45;&gt;10 -->\n",
       "<g id=\"edge16\" class=\"edge\">\n",
       "<title>8&#45;&gt;10</title>\n",
       "<path fill=\"none\" stroke=\"black\" d=\"M498.25,-293.94C495.13,-248.45 488.56,-152.68 484.49,-93.35\"/>\n",
       "<polygon fill=\"black\" stroke=\"black\" points=\"487.96,-92.81 483.78,-83.07 480.98,-93.29 487.96,-92.81\"/>\n",
       "<text text-anchor=\"middle\" x=\"495.5\" y=\"-193.8\" font-family=\"Times,serif\" font-size=\"14.00\">4</text>\n",
       "</g>\n",
       "<!-- 9&#45;&gt;10 -->\n",
       "<g id=\"edge15\" class=\"edge\">\n",
       "<title>9&#45;&gt;10</title>\n",
       "<path fill=\"none\" stroke=\"black\" d=\"M354.93,-133.92C371.8,-121.69 394.88,-104.95 416.7,-89.13\"/>\n",
       "<polygon fill=\"black\" stroke=\"black\" points=\"418.94,-91.83 424.98,-83.13 414.83,-86.16 418.94,-91.83\"/>\n",
       "<text text-anchor=\"middle\" x=\"399.5\" y=\"-104.8\" font-family=\"Times,serif\" font-size=\"14.00\">3</text>\n",
       "</g>\n",
       "</g>\n",
       "</svg>\n"
      ]
     },
     "metadata": {},
     "output_type": "display_data"
    }
   ],
   "source": [
    "Visualize( CartesianBraiding( La, Lb ) )"
   ]
  }
 ],
 "metadata": {
  "@webio": {
   "lastCommId": null,
   "lastKernelId": null
  },
  "kernelspec": {
   "display_name": "Julia 1.11.6",
   "language": "julia",
   "name": "julia-1.11"
  },
  "language_info": {
   "file_extension": ".jl",
   "mimetype": "application/julia",
   "name": "julia",
   "version": "1.11.6"
  }
 },
 "nbformat": 4,
 "nbformat_minor": 5
}
