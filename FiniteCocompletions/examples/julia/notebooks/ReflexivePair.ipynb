{
 "cells": [
  {
   "cell_type": "markdown",
   "id": "27d736b7",
   "metadata": {},
   "source": [
    "In this notebook we show how a pair morphisms $s,t:V \\leftleftarrows A$ in a category with finite coproducts induces a [reflexive pair](https://ncatlab.org/nlab/show/reflexive+coequalizer). This is used to show that to universally add coequalizers to a category with finite coproducts it suffices to add [reflexive coequalizers](https://ncatlab.org/nlab/show/reflexive+coequalizer). The dual version was proved in [1].\n",
    "\n",
    "[1] S. A. Huq and R. Cornu, [A remark on the existence of limits in categories.](https://doi.org/10.1002/mana.19730550111) Mathematische Nachrichten, **55** (1973), 223-224."
   ]
  },
  {
   "cell_type": "code",
   "execution_count": 1,
   "id": "256e81b7",
   "metadata": {},
   "outputs": [
    {
     "name": "stdout",
     "output_type": "stream",
     "text": [
      "CapAndHomalg v\u001b[32m1.6.4\u001b[39m\n",
      "Imported OSCAR's components GAP and Singular_jll\n",
      "Type: ?CapAndHomalg for more information\n"
     ]
    }
   ],
   "source": [
    "using CapAndHomalg"
   ]
  },
  {
   "cell_type": "code",
   "execution_count": 2,
   "id": "9309acbe",
   "metadata": {},
   "outputs": [],
   "source": [
    "LoadPackage( \"Algebroids\" )"
   ]
  },
  {
   "cell_type": "code",
   "execution_count": 3,
   "id": "734c4247",
   "metadata": {},
   "outputs": [],
   "source": [
    "LoadPackage( \"FiniteCocompletions\" )"
   ]
  },
  {
   "cell_type": "code",
   "execution_count": 4,
   "id": "d657e5bb",
   "metadata": {},
   "outputs": [],
   "source": [
    "LoadPackage( \"LazyCategories\" )"
   ]
  },
  {
   "cell_type": "code",
   "execution_count": 5,
   "id": "e1029929",
   "metadata": {},
   "outputs": [
    {
     "data": {
      "text/plain": [
       "GAP: Q(V,A)[s:A->V,t:A->V]"
      ]
     },
     "execution_count": 5,
     "metadata": {},
     "output_type": "execute_result"
    }
   ],
   "source": [
    "Q = RightQuiver( \"Q(V,A)[s:A->V,t:A->V]\" )"
   ]
  },
  {
   "cell_type": "code",
   "execution_count": 6,
   "id": "d6aa8950",
   "metadata": {},
   "outputs": [
    {
     "data": {
      "text/plain": [
       "GAP: FreeCategory( RightQuiver( \"Q(V,A)[s:A->V,t:A->V]\" ) )"
      ]
     },
     "execution_count": 6,
     "metadata": {},
     "output_type": "execute_result"
    }
   ],
   "source": [
    "C = FreeCategory( Q )"
   ]
  },
  {
   "cell_type": "code",
   "execution_count": 7,
   "id": "ad24ce04",
   "metadata": {},
   "outputs": [],
   "source": [
    "#C = CategoryFromDataTables( C )"
   ]
  },
  {
   "cell_type": "code",
   "execution_count": 8,
   "id": "439ac720",
   "metadata": {},
   "outputs": [
    {
     "data": {
      "text/plain": [
       "GAP: FiniteStrictCoproductCompletion( FreeCategory( RightQuiver( \"Q(V,A)[s:A->V,t:A->V]\" ) ) )"
      ]
     },
     "execution_count": 8,
     "metadata": {},
     "output_type": "execute_result"
    }
   ],
   "source": [
    "UC = FiniteStrictCoproductCompletion( C )"
   ]
  },
  {
   "cell_type": "code",
   "execution_count": 9,
   "id": "c6bf53c1",
   "metadata": {},
   "outputs": [
    {
     "data": {
      "text/plain": [
       "GAP: <An object in FiniteStrictCoproductCompletion( FreeCategory( RightQuiver( \"Q(V,A)[s:A->V,t:A->V]\" ) ) )>"
      ]
     },
     "execution_count": 9,
     "metadata": {},
     "output_type": "execute_result"
    }
   ],
   "source": [
    "V = UC.V"
   ]
  },
  {
   "cell_type": "code",
   "execution_count": 10,
   "id": "3fcc3001",
   "metadata": {},
   "outputs": [],
   "source": [
    "SetLabel( V, g\"V\" )"
   ]
  },
  {
   "cell_type": "code",
   "execution_count": 11,
   "id": "67db1a95",
   "metadata": {},
   "outputs": [
    {
     "name": "stdout",
     "output_type": "stream",
     "text": [
      "[ 1, [ <(V)> ] ]\n",
      "\n",
      "An object in FiniteStrictCoproductCompletion( FreeCategory( RightQuiver( \"Q(V,A)[s:A->V,t:A->V]\" ) ) ) given by the above data\n"
     ]
    }
   ],
   "source": [
    "Display( V )"
   ]
  },
  {
   "cell_type": "code",
   "execution_count": 12,
   "id": "14a50987",
   "metadata": {},
   "outputs": [
    {
     "data": {
      "text/plain": [
       "GAP: <An object in FiniteStrictCoproductCompletion( FreeCategory( RightQuiver( \"Q(V,A)[s:A->V,t:A->V]\" ) ) )>"
      ]
     },
     "execution_count": 12,
     "metadata": {},
     "output_type": "execute_result"
    }
   ],
   "source": [
    "A = UC.A"
   ]
  },
  {
   "cell_type": "code",
   "execution_count": 13,
   "id": "c15f32a2",
   "metadata": {},
   "outputs": [],
   "source": [
    "SetLabel( A, g\"A\" )"
   ]
  },
  {
   "cell_type": "code",
   "execution_count": 14,
   "id": "25a91360",
   "metadata": {},
   "outputs": [
    {
     "name": "stdout",
     "output_type": "stream",
     "text": [
      "[ 1, [ <(A)> ] ]\n",
      "\n",
      "An object in FiniteStrictCoproductCompletion( FreeCategory( RightQuiver( \"Q(V,A)[s:A->V,t:A->V]\" ) ) ) given by the above data\n"
     ]
    }
   ],
   "source": [
    "Display( A )"
   ]
  },
  {
   "cell_type": "code",
   "execution_count": 15,
   "id": "7aaf2661",
   "metadata": {},
   "outputs": [
    {
     "data": {
      "text/plain": [
       "GAP: <A morphism in FiniteStrictCoproductCompletion( FreeCategory( RightQuiver( \"Q(V,A)[s:A->V,t:A->V]\" ) ) )>"
      ]
     },
     "execution_count": 15,
     "metadata": {},
     "output_type": "execute_result"
    }
   ],
   "source": [
    "s = UC.s"
   ]
  },
  {
   "cell_type": "code",
   "execution_count": 16,
   "id": "a0d54b43",
   "metadata": {},
   "outputs": [
    {
     "data": {
      "text/plain": [
       "GAP: <A morphism in FiniteStrictCoproductCompletion( FreeCategory( RightQuiver( \"Q(V,A)[s:A->V,t:A->V]\" ) ) )>"
      ]
     },
     "execution_count": 16,
     "metadata": {},
     "output_type": "execute_result"
    }
   ],
   "source": [
    "t = UC.t"
   ]
  },
  {
   "cell_type": "code",
   "execution_count": 17,
   "id": "0240393c",
   "metadata": {},
   "outputs": [],
   "source": [
    "SetLabel( s, g\"s\" ); SetLabel( t, g\"t\" )"
   ]
  },
  {
   "cell_type": "code",
   "execution_count": 18,
   "id": "1c1f298b",
   "metadata": {},
   "outputs": [
    {
     "data": {
      "text/plain": [
       "GAP: [ [ 0 ], [ (A)-[(t)]->(V) ] ]"
      ]
     },
     "execution_count": 18,
     "metadata": {},
     "output_type": "execute_result"
    }
   ],
   "source": [
    "MorphismDatum( t )"
   ]
  },
  {
   "cell_type": "code",
   "execution_count": 19,
   "id": "d2646a69",
   "metadata": {},
   "outputs": [
    {
     "data": {
      "text/plain": [
       "GAP: [ [ 0 ], [ (A)-[(s)]->(V) ] ]"
      ]
     },
     "execution_count": 19,
     "metadata": {},
     "output_type": "execute_result"
    }
   ],
   "source": [
    "MorphismDatum( s )"
   ]
  },
  {
   "cell_type": "code",
   "execution_count": 20,
   "id": "546fa57f",
   "metadata": {},
   "outputs": [
    {
     "data": {
      "text/plain": [
       "false"
      ]
     },
     "execution_count": 20,
     "metadata": {},
     "output_type": "execute_result"
    }
   ],
   "source": [
    "IsSplitEpimorphism( s )"
   ]
  },
  {
   "cell_type": "code",
   "execution_count": 21,
   "id": "10279bfe",
   "metadata": {},
   "outputs": [
    {
     "data": {
      "text/plain": [
       "false"
      ]
     },
     "execution_count": 21,
     "metadata": {},
     "output_type": "execute_result"
    }
   ],
   "source": [
    "IsSplitEpimorphism( t )"
   ]
  },
  {
   "cell_type": "code",
   "execution_count": 22,
   "id": "495c952f",
   "metadata": {},
   "outputs": [
    {
     "data": {
      "text/plain": [
       "GAP: <An object in FiniteStrictCoproductCompletion( FreeCategory( RightQuiver( \"Q(V,A)[s:A->V,t:A->V]\" ) ) )>"
      ]
     },
     "execution_count": 22,
     "metadata": {},
     "output_type": "execute_result"
    }
   ],
   "source": [
    "AuV = Coproduct( A, V )"
   ]
  },
  {
   "cell_type": "code",
   "execution_count": 23,
   "id": "2fbd5e61",
   "metadata": {},
   "outputs": [
    {
     "data": {
      "text/plain": [
       "GAP: |2|"
      ]
     },
     "execution_count": 23,
     "metadata": {},
     "output_type": "execute_result"
    }
   ],
   "source": [
    "HomStructure( AuV, V )"
   ]
  },
  {
   "cell_type": "code",
   "execution_count": 24,
   "id": "eaa5a1f7",
   "metadata": {},
   "outputs": [
    {
     "data": {
      "text/plain": [
       "GAP: [ <A morphism in FiniteStrictCoproductCompletion( FreeCategory( RightQuiver( \"Q(V,A)[s:A->V,t:A->V]\" ) ) )>, <A morphism in FiniteStrictCoproductCompletion( FreeCategory( RightQuiver( \"Q(V,A)[s:A->V,t:A->V]\" ) ) )> ]"
      ]
     },
     "execution_count": 24,
     "metadata": {},
     "output_type": "execute_result"
    }
   ],
   "source": [
    "hom = MorphismsOfExternalHom( AuV, V )"
   ]
  },
  {
   "cell_type": "code",
   "execution_count": 25,
   "id": "0f7e243e",
   "metadata": {},
   "outputs": [
    {
     "data": {
      "text/plain": [
       "GAP: <A morphism in FiniteStrictCoproductCompletion( FreeCategory( RightQuiver( \"Q(V,A)[s:A->V,t:A->V]\" ) ) )>"
      ]
     },
     "execution_count": 25,
     "metadata": {},
     "output_type": "execute_result"
    }
   ],
   "source": [
    "ss = hom[1]"
   ]
  },
  {
   "cell_type": "code",
   "execution_count": 26,
   "id": "ed16799c",
   "metadata": {},
   "outputs": [
    {
     "data": {
      "text/plain": [
       "GAP: <A morphism in FiniteStrictCoproductCompletion( FreeCategory( RightQuiver( \"Q(V,A)[s:A->V,t:A->V]\" ) ) )>"
      ]
     },
     "execution_count": 26,
     "metadata": {},
     "output_type": "execute_result"
    }
   ],
   "source": [
    "tt = hom[2]"
   ]
  },
  {
   "cell_type": "code",
   "execution_count": 27,
   "id": "d9f28283",
   "metadata": {},
   "outputs": [
    {
     "data": {
      "text/plain": [
       "false"
      ]
     },
     "execution_count": 27,
     "metadata": {},
     "output_type": "execute_result"
    }
   ],
   "source": [
    "ss == tt"
   ]
  },
  {
   "cell_type": "code",
   "execution_count": 28,
   "id": "6c76923d",
   "metadata": {},
   "outputs": [
    {
     "data": {
      "text/plain": [
       "true"
      ]
     },
     "execution_count": 28,
     "metadata": {},
     "output_type": "execute_result"
    }
   ],
   "source": [
    "IsSplitEpimorphism( ss )"
   ]
  },
  {
   "cell_type": "code",
   "execution_count": 29,
   "id": "669ab8f1",
   "metadata": {},
   "outputs": [
    {
     "data": {
      "text/plain": [
       "true"
      ]
     },
     "execution_count": 29,
     "metadata": {},
     "output_type": "execute_result"
    }
   ],
   "source": [
    "IsSplitEpimorphism( tt )"
   ]
  },
  {
   "cell_type": "code",
   "execution_count": 30,
   "id": "e6f31c3e",
   "metadata": {},
   "outputs": [
    {
     "data": {
      "text/plain": [
       "GAP: [ [ 0, 0 ], [ (A)-[(s)]->(V), (V)-[(V)]->(V) ] ]"
      ]
     },
     "execution_count": 30,
     "metadata": {},
     "output_type": "execute_result"
    }
   ],
   "source": [
    "MorphismDatum( ss )"
   ]
  },
  {
   "cell_type": "code",
   "execution_count": 31,
   "id": "21dc72d8",
   "metadata": {},
   "outputs": [
    {
     "data": {
      "text/plain": [
       "GAP: [ [ 0, 0 ], [ (A)-[(t)]->(V), (V)-[(V)]->(V) ] ]"
      ]
     },
     "execution_count": 31,
     "metadata": {},
     "output_type": "execute_result"
    }
   ],
   "source": [
    "MorphismDatum( tt )"
   ]
  },
  {
   "cell_type": "code",
   "execution_count": 32,
   "id": "5de6c2a9",
   "metadata": {},
   "outputs": [
    {
     "data": {
      "text/plain": [
       "GAP: |1|"
      ]
     },
     "execution_count": 32,
     "metadata": {},
     "output_type": "execute_result"
    }
   ],
   "source": [
    "HomStructure( V, AuV )"
   ]
  },
  {
   "cell_type": "code",
   "execution_count": 33,
   "id": "c6875174",
   "metadata": {},
   "outputs": [
    {
     "data": {
      "text/plain": [
       "GAP: <A morphism in FiniteStrictCoproductCompletion( FreeCategory( RightQuiver( \"Q(V,A)[s:A->V,t:A->V]\" ) ) )>"
      ]
     },
     "execution_count": 33,
     "metadata": {},
     "output_type": "execute_result"
    }
   ],
   "source": [
    "ii = MorphismsOfExternalHom( V, AuV )[1]"
   ]
  },
  {
   "cell_type": "code",
   "execution_count": 34,
   "id": "e0182407",
   "metadata": {},
   "outputs": [
    {
     "data": {
      "text/plain": [
       "true"
      ]
     },
     "execution_count": 34,
     "metadata": {},
     "output_type": "execute_result"
    }
   ],
   "source": [
    "ii == InjectionOfCofactorOfCoproduct( [ A, V ], 2 )"
   ]
  },
  {
   "cell_type": "code",
   "execution_count": 35,
   "id": "833d5c3a",
   "metadata": {},
   "outputs": [
    {
     "data": {
      "text/plain": [
       "true"
      ]
     },
     "execution_count": 35,
     "metadata": {},
     "output_type": "execute_result"
    }
   ],
   "source": [
    "s == ComponentOfMorphismFromCoproduct( ss, [ A, V ], 1 )"
   ]
  },
  {
   "cell_type": "code",
   "execution_count": 36,
   "id": "3d946116",
   "metadata": {},
   "outputs": [
    {
     "data": {
      "text/plain": [
       "true"
      ]
     },
     "execution_count": 36,
     "metadata": {},
     "output_type": "execute_result"
    }
   ],
   "source": [
    "IdentityMorphism( V ) == ComponentOfMorphismFromCoproduct( ss, [ A, V ], 2 )"
   ]
  },
  {
   "cell_type": "code",
   "execution_count": 37,
   "id": "6f342826",
   "metadata": {},
   "outputs": [
    {
     "data": {
      "text/plain": [
       "true"
      ]
     },
     "execution_count": 37,
     "metadata": {},
     "output_type": "execute_result"
    }
   ],
   "source": [
    "t == ComponentOfMorphismFromCoproduct( tt, [ A, V ], 1  )"
   ]
  },
  {
   "cell_type": "code",
   "execution_count": 38,
   "id": "3a316e2e",
   "metadata": {},
   "outputs": [
    {
     "data": {
      "text/plain": [
       "true"
      ]
     },
     "execution_count": 38,
     "metadata": {},
     "output_type": "execute_result"
    }
   ],
   "source": [
    "IdentityMorphism( V ) == ComponentOfMorphismFromCoproduct( tt, [ A, V ], 2 )"
   ]
  },
  {
   "cell_type": "markdown",
   "id": "65228475",
   "metadata": {},
   "source": [
    "---"
   ]
  },
  {
   "cell_type": "code",
   "execution_count": 39,
   "id": "03e310c6",
   "metadata": {},
   "outputs": [
    {
     "data": {
      "text/plain": [
       "GAP: LazyCategory( FiniteStrictCoproductCompletion( FreeCategory( RightQuiver( \"Q(V,A)[s:A->V,t:A->V]\" ) ) ) )"
      ]
     },
     "execution_count": 39,
     "metadata": {},
     "output_type": "execute_result"
    }
   ],
   "source": [
    "LUC = LazyCategory( UC )"
   ]
  },
  {
   "cell_type": "code",
   "execution_count": 40,
   "id": "1da09305",
   "metadata": {},
   "outputs": [
    {
     "data": {
      "text/plain": [
       "GAP: Embedding functor into lazy category"
      ]
     },
     "execution_count": 40,
     "metadata": {},
     "output_type": "execute_result"
    }
   ],
   "source": [
    "Emb = EmbeddingFunctorOfUnderlyingCategory( LUC )"
   ]
  },
  {
   "cell_type": "code",
   "execution_count": 41,
   "id": "b704a864",
   "metadata": {},
   "outputs": [
    {
     "name": "stdout",
     "output_type": "stream",
     "text": [
      "Embedding functor into lazy category:\n",
      "\n",
      "FiniteStrictCoproductCompletion( FreeCategory( RightQuiver( \"Q(V,A)[s:A->V,t:A->V]\" ) ) )\n",
      "  |\n",
      "  V\n",
      "LazyCategory( FiniteStrictCoproductCompletion( FreeCategory( RightQuiver( \"Q(V,A)[s:A->V,t:A->V]\" ) ) ) )\n"
     ]
    }
   ],
   "source": [
    "Display( Emb )"
   ]
  },
  {
   "cell_type": "code",
   "execution_count": 42,
   "id": "862cdf72",
   "metadata": {},
   "outputs": [
    {
     "data": {
      "text/plain": [
       "GAP: Precomposition of Embedding functor into a finite strict coproduct cocompletion category and Embedding functor into lazy category"
      ]
     },
     "execution_count": 42,
     "metadata": {},
     "output_type": "execute_result"
    }
   ],
   "source": [
    "F = PreCompose( EmbeddingOfUnderlyingCategory( UC ), Emb )"
   ]
  },
  {
   "cell_type": "code",
   "execution_count": 43,
   "id": "4b683b37",
   "metadata": {},
   "outputs": [
    {
     "name": "stdout",
     "output_type": "stream",
     "text": [
      "Precomposition of Embedding functor into a finite strict coproduct cocompletion category and Embedding functor into lazy category:\n",
      "\n",
      "FreeCategory( RightQuiver( \"Q(V,A)[s:A->V,t:A->V]\" ) )\n",
      "  |\n",
      "  V\n",
      "LazyCategory( FiniteStrictCoproductCompletion( FreeCategory( RightQuiver( \"Q(V,A)[s:A->V,t:A->V]\" ) ) ) )\n"
     ]
    }
   ],
   "source": [
    "Display( F )"
   ]
  },
  {
   "cell_type": "code",
   "execution_count": 44,
   "id": "bcbe45bf",
   "metadata": {},
   "outputs": [
    {
     "data": {
      "text/plain": [
       "GAP: Extension to FiniteStrictCoproductCompletion( Source( Precomposition of Embedding functor into a finite strict coproduct cocompletion category and Embedding functor into lazy category ) )"
      ]
     },
     "execution_count": 44,
     "metadata": {},
     "output_type": "execute_result"
    }
   ],
   "source": [
    "G = ExtendFunctorToFiniteStrictCoproductCompletion( F )"
   ]
  },
  {
   "cell_type": "code",
   "execution_count": 45,
   "id": "db01d194",
   "metadata": {},
   "outputs": [
    {
     "name": "stdout",
     "output_type": "stream",
     "text": [
      "Extension to FiniteStrictCoproductCompletion( Source( Precomposition of Embedding functor into a finite strict coproduct cocompletion category and Embedding functor into lazy category ) ):\n",
      "\n",
      "FiniteStrictCoproductCompletion( FreeCategory( RightQuiver( \"Q(V,A)[s:A->V,t:A->V]\" ) ) )\n",
      "  |\n",
      "  V\n",
      "LazyCategory( FiniteStrictCoproductCompletion( FreeCategory( RightQuiver( \"Q(V,A)[s:A->V,t:A->V]\" ) ) ) )\n"
     ]
    }
   ],
   "source": [
    "Display( G )"
   ]
  },
  {
   "cell_type": "code",
   "execution_count": 46,
   "id": "e5ab639d",
   "metadata": {},
   "outputs": [
    {
     "data": {
      "text/plain": [
       "GAP: <A morphism in LazyCategory( FiniteStrictCoproductCompletion( FreeCategory( RightQuiver( \"Q(V,A)[s:A->V,t:A->V]\" ) ) ) )>"
      ]
     },
     "execution_count": 46,
     "metadata": {},
     "output_type": "execute_result"
    }
   ],
   "source": [
    "Gss = G( ss )"
   ]
  },
  {
   "cell_type": "code",
   "execution_count": 47,
   "id": "62fe9937",
   "metadata": {},
   "outputs": [
    {
     "data": {
      "text/plain": [
       "true"
      ]
     },
     "execution_count": 47,
     "metadata": {},
     "output_type": "execute_result"
    }
   ],
   "source": [
    "IsWellDefined( Gss )"
   ]
  },
  {
   "cell_type": "code",
   "execution_count": 48,
   "id": "84ec8303",
   "metadata": {},
   "outputs": [
    {
     "data": {
      "text/plain": [
       "GAP: <A morphism in LazyCategory( FiniteStrictCoproductCompletion( FreeCategory( RightQuiver( \"Q(V,A)[s:A->V,t:A->V]\" ) ) ) )>"
      ]
     },
     "execution_count": 48,
     "metadata": {},
     "output_type": "execute_result"
    }
   ],
   "source": [
    "Gtt = G( tt )"
   ]
  },
  {
   "cell_type": "code",
   "execution_count": 49,
   "id": "24b17f43",
   "metadata": {},
   "outputs": [
    {
     "data": {
      "text/plain": [
       "true"
      ]
     },
     "execution_count": 49,
     "metadata": {},
     "output_type": "execute_result"
    }
   ],
   "source": [
    "IsWellDefined( Gtt )"
   ]
  },
  {
   "cell_type": "code",
   "execution_count": 50,
   "id": "b43240d8",
   "metadata": {},
   "outputs": [
    {
     "data": {
      "text/plain": [
       "GAP: [ [ 0, 0 ], [ (A)-[(s)]->(V), (V)-[(V)]->(V) ] ]"
      ]
     },
     "execution_count": 50,
     "metadata": {},
     "output_type": "execute_result"
    }
   ],
   "source": [
    "MorphismDatum( EvaluatedCell( Gss ) )"
   ]
  },
  {
   "cell_type": "code",
   "execution_count": 51,
   "id": "bbd20347",
   "metadata": {},
   "outputs": [
    {
     "data": {
      "text/plain": [
       "GAP: [ [ 0, 0 ], [ (A)-[(t)]->(V), (V)-[(V)]->(V) ] ]"
      ]
     },
     "execution_count": 51,
     "metadata": {},
     "output_type": "execute_result"
    }
   ],
   "source": [
    "MorphismDatum( EvaluatedCell( Gtt ) )"
   ]
  }
 ],
 "metadata": {
  "@webio": {
   "lastCommId": null,
   "lastKernelId": null
  },
  "kernelspec": {
   "display_name": "Julia 1.11.7",
   "language": "julia",
   "name": "julia-1.11"
  },
  "language_info": {
   "file_extension": ".jl",
   "mimetype": "application/julia",
   "name": "julia",
   "version": "1.11.7"
  }
 },
 "nbformat": 4,
 "nbformat_minor": 5
}
