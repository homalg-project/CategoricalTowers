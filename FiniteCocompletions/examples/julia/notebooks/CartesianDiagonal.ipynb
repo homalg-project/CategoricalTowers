{
 "cells": [
  {
   "cell_type": "markdown",
   "id": "95c34773",
   "metadata": {},
   "source": [
    "In this notebook we *compute* the algorithm computing the diagonal morphism from $\\delta: a \\to a \\times a$ in a cartesian (monoidal) category, i.e., a category with finite products:"
   ]
  },
  {
   "cell_type": "code",
   "execution_count": 1,
   "id": "a385b10d",
   "metadata": {},
   "outputs": [
    {
     "name": "stdout",
     "output_type": "stream",
     "text": [
      "CapAndHomalg v\u001b[32m1.6.4\u001b[39m\n",
      "Imported OSCAR's components GAP and Singular_jll\n",
      "Type: ?CapAndHomalg for more information\n"
     ]
    }
   ],
   "source": [
    "using CapAndHomalg"
   ]
  },
  {
   "cell_type": "code",
   "execution_count": 2,
   "id": "4716c104",
   "metadata": {},
   "outputs": [],
   "source": [
    "LoadPackage( \"FiniteCocompletions\" )"
   ]
  },
  {
   "cell_type": "code",
   "execution_count": 3,
   "id": "41362df1",
   "metadata": {},
   "outputs": [],
   "source": [
    "LoadPackage( \"Algebroids\" )"
   ]
  },
  {
   "cell_type": "code",
   "execution_count": 4,
   "id": "2f4b0d11",
   "metadata": {},
   "outputs": [],
   "source": [
    "LoadPackage( \"LazyCategories\" )"
   ]
  },
  {
   "cell_type": "code",
   "execution_count": 5,
   "id": "040a8e6b",
   "metadata": {},
   "outputs": [
    {
     "data": {
      "text/plain": [
       "GAP: Q(a)[]"
      ]
     },
     "execution_count": 5,
     "metadata": {},
     "output_type": "execute_result"
    }
   ],
   "source": [
    "Q = RightQuiver( \"Q(a)[]\" )"
   ]
  },
  {
   "cell_type": "code",
   "execution_count": 6,
   "id": "8ed15101",
   "metadata": {},
   "outputs": [
    {
     "data": {
      "text/plain": [
       "GAP: FreeCategory( RightQuiver( \"Q(a)[]\" ) )"
      ]
     },
     "execution_count": 6,
     "metadata": {},
     "output_type": "execute_result"
    }
   ],
   "source": [
    "C = FreeCategory( Q )"
   ]
  },
  {
   "cell_type": "code",
   "execution_count": 7,
   "id": "113b7d35",
   "metadata": {},
   "outputs": [
    {
     "data": {
      "text/plain": [
       "GAP: FiniteStrictProductCompletion( FreeCategory( RightQuiver( \"Q(a)[]\" ) ) )"
      ]
     },
     "execution_count": 7,
     "metadata": {},
     "output_type": "execute_result"
    }
   ],
   "source": [
    "PC = FiniteStrictProductCompletion( C )"
   ]
  },
  {
   "cell_type": "code",
   "execution_count": 8,
   "id": "27d259c5",
   "metadata": {},
   "outputs": [
    {
     "name": "stdout",
     "output_type": "stream",
     "text": [
      "A CAP category with name FiniteStrictProductCompletion( FreeCategory( RightQuiver( \"Q(a)[]\" ) ) ):\n",
      "\n",
      "28 primitive operations were used to derive 89 operations for this category which algorithmically\n",
      "* IsCategoryWithDecidableColifts\n",
      "* IsCategoryWithDecidableLifts\n",
      "* IsCartesianCategory\n",
      "* IsEquippedWithHomomorphismStructure\n",
      "and furthermore mathematically\n",
      "* IsStrictCartesianCategory\n"
     ]
    }
   ],
   "source": [
    "Display( PC )"
   ]
  },
  {
   "cell_type": "code",
   "execution_count": 9,
   "id": "dda189d0",
   "metadata": {},
   "outputs": [
    {
     "data": {
      "text/plain": [
       "GAP: Opposite( FiniteStrictCoproductCompletion( Opposite( FreeCategory( RightQuiver( \"Q(a)[]\" ) ) ) ) )"
      ]
     },
     "execution_count": 9,
     "metadata": {},
     "output_type": "execute_result"
    }
   ],
   "source": [
    "ModelingCategory( PC )"
   ]
  },
  {
   "cell_type": "code",
   "execution_count": 10,
   "id": "133cd658",
   "metadata": {},
   "outputs": [
    {
     "data": {
      "text/plain": [
       "GAP: <An object in FiniteStrictProductCompletion( FreeCategory( RightQuiver( \"Q(a)[]\" ) ) )>"
      ]
     },
     "execution_count": 10,
     "metadata": {},
     "output_type": "execute_result"
    }
   ],
   "source": [
    "a = PC.a"
   ]
  },
  {
   "cell_type": "code",
   "execution_count": 11,
   "id": "7c4afd9e",
   "metadata": {},
   "outputs": [
    {
     "data": {
      "text/plain": [
       "GAP: <An object in FiniteStrictProductCompletion( FreeCategory( RightQuiver( \"Q(a)[]\" ) ) )>"
      ]
     },
     "execution_count": 11,
     "metadata": {},
     "output_type": "execute_result"
    }
   ],
   "source": [
    "aa = DirectProduct( a, a )"
   ]
  },
  {
   "cell_type": "code",
   "execution_count": 12,
   "id": "a2c03779",
   "metadata": {},
   "outputs": [
    {
     "data": {
      "text/plain": [
       "GAP: |2|"
      ]
     },
     "execution_count": 12,
     "metadata": {},
     "output_type": "execute_result"
    }
   ],
   "source": [
    "HomStructure( aa, a )"
   ]
  },
  {
   "cell_type": "code",
   "execution_count": 13,
   "id": "c9d7754f",
   "metadata": {},
   "outputs": [
    {
     "data": {
      "text/plain": [
       "GAP: [ <A morphism in FiniteStrictProductCompletion( FreeCategory( RightQuiver( \"Q(a)[]\" ) ) )>, <A morphism in FiniteStrictProductCompletion( FreeCategory( RightQuiver( \"Q(a)[]\" ) ) )> ]"
      ]
     },
     "execution_count": 13,
     "metadata": {},
     "output_type": "execute_result"
    }
   ],
   "source": [
    "hom_aa_a = MorphismsOfExternalHom( aa, a )"
   ]
  },
  {
   "cell_type": "code",
   "execution_count": 14,
   "id": "a92c661d",
   "metadata": {},
   "outputs": [
    {
     "data": {
      "text/plain": [
       "true"
      ]
     },
     "execution_count": 14,
     "metadata": {},
     "output_type": "execute_result"
    }
   ],
   "source": [
    "hom_aa_a[1] == ProjectionInFactorOfDirectProduct( [ a, a ], 1 )"
   ]
  },
  {
   "cell_type": "code",
   "execution_count": 15,
   "id": "a0037508",
   "metadata": {},
   "outputs": [
    {
     "data": {
      "text/plain": [
       "true"
      ]
     },
     "execution_count": 15,
     "metadata": {},
     "output_type": "execute_result"
    }
   ],
   "source": [
    "hom_aa_a[2] == ProjectionInFactorOfDirectProduct( [ a, a ], 2 )"
   ]
  },
  {
   "cell_type": "code",
   "execution_count": 16,
   "id": "9e629931",
   "metadata": {},
   "outputs": [
    {
     "data": {
      "text/plain": [
       "GAP: |1|"
      ]
     },
     "execution_count": 16,
     "metadata": {},
     "output_type": "execute_result"
    }
   ],
   "source": [
    "HomStructure( a, aa )"
   ]
  },
  {
   "cell_type": "code",
   "execution_count": 17,
   "id": "e0cfb922",
   "metadata": {},
   "outputs": [
    {
     "data": {
      "text/plain": [
       "GAP: [ <A morphism in FiniteStrictProductCompletion( FreeCategory( RightQuiver( \"Q(a)[]\" ) ) )> ]"
      ]
     },
     "execution_count": 17,
     "metadata": {},
     "output_type": "execute_result"
    }
   ],
   "source": [
    "hom_a_aa = MorphismsOfExternalHom( a, aa )"
   ]
  },
  {
   "cell_type": "code",
   "execution_count": 18,
   "id": "de56cb9f",
   "metadata": {},
   "outputs": [
    {
     "data": {
      "text/plain": [
       "GAP: <A morphism in FiniteStrictProductCompletion( FreeCategory( RightQuiver( \"Q(a)[]\" ) ) )>"
      ]
     },
     "execution_count": 18,
     "metadata": {},
     "output_type": "execute_result"
    }
   ],
   "source": [
    "δ = hom_a_aa[1]"
   ]
  },
  {
   "cell_type": "code",
   "execution_count": 19,
   "id": "5945f480",
   "metadata": {},
   "outputs": [
    {
     "data": {
      "text/plain": [
       "true"
      ]
     },
     "execution_count": 19,
     "metadata": {},
     "output_type": "execute_result"
    }
   ],
   "source": [
    "Source( δ ) == a"
   ]
  },
  {
   "cell_type": "code",
   "execution_count": 20,
   "id": "29163cfa",
   "metadata": {},
   "outputs": [
    {
     "data": {
      "text/plain": [
       "true"
      ]
     },
     "execution_count": 20,
     "metadata": {},
     "output_type": "execute_result"
    }
   ],
   "source": [
    "Target( δ ) == aa"
   ]
  },
  {
   "cell_type": "code",
   "execution_count": 21,
   "id": "efdaf4d5",
   "metadata": {},
   "outputs": [
    {
     "data": {
      "text/plain": [
       "true"
      ]
     },
     "execution_count": 21,
     "metadata": {},
     "output_type": "execute_result"
    }
   ],
   "source": [
    "IsOne( ComponentOfMorphismIntoDirectProduct( δ, [ a, a ], 1 ) )"
   ]
  },
  {
   "cell_type": "code",
   "execution_count": 22,
   "id": "9f3619ee",
   "metadata": {},
   "outputs": [
    {
     "data": {
      "text/plain": [
       "true"
      ]
     },
     "execution_count": 22,
     "metadata": {},
     "output_type": "execute_result"
    }
   ],
   "source": [
    "IsOne( ComponentOfMorphismIntoDirectProduct( δ, [ a, a ], 2 ) )"
   ]
  },
  {
   "cell_type": "code",
   "execution_count": 23,
   "id": "fe9d434f",
   "metadata": {},
   "outputs": [
    {
     "data": {
      "text/plain": [
       "true"
      ]
     },
     "execution_count": 23,
     "metadata": {},
     "output_type": "execute_result"
    }
   ],
   "source": [
    "IsWellDefined( δ )"
   ]
  },
  {
   "cell_type": "code",
   "execution_count": 24,
   "id": "f7dcf793",
   "metadata": {},
   "outputs": [
    {
     "name": "stdout",
     "output_type": "stream",
     "text": [
      "{ 0, 1 } ⱶ[ 0, 0 ]→ { 0 }\n",
      "\n",
      "[ (a)-[(a)]->(a), (a)-[(a)]->(a) ]\n",
      "\n",
      "A morphism in FiniteStrictProductCompletion( FreeCategory( RightQuiver( \"Q(a)[]\" ) ) ) given by the above data\n"
     ]
    }
   ],
   "source": [
    "Display( δ )"
   ]
  },
  {
   "cell_type": "code",
   "execution_count": 25,
   "id": "806b1bf3",
   "metadata": {},
   "outputs": [
    {
     "data": {
      "text/plain": [
       "true"
      ]
     },
     "execution_count": 25,
     "metadata": {},
     "output_type": "execute_result"
    }
   ],
   "source": [
    "δ == CartesianDiagonal( a, 2 )"
   ]
  },
  {
   "cell_type": "code",
   "execution_count": 26,
   "id": "ecc2df1d",
   "metadata": {},
   "outputs": [
    {
     "data": {
      "text/plain": [
       "GAP: LazyCategory( FiniteStrictProductCompletion( FreeCategory( RightQuiver( \"Q(a)[]\" ) ) ) )"
      ]
     },
     "execution_count": 26,
     "metadata": {},
     "output_type": "execute_result"
    }
   ],
   "source": [
    "LPC = LazyCategory( PC, primitive_operations = true )"
   ]
  },
  {
   "cell_type": "code",
   "execution_count": 27,
   "id": "42717e4f",
   "metadata": {},
   "outputs": [
    {
     "data": {
      "text/plain": [
       "GAP: Embedding functor into lazy category"
      ]
     },
     "execution_count": 27,
     "metadata": {},
     "output_type": "execute_result"
    }
   ],
   "source": [
    "Emb = EmbeddingFunctorOfUnderlyingCategory( LPC )"
   ]
  },
  {
   "cell_type": "code",
   "execution_count": 28,
   "id": "c2d58587",
   "metadata": {},
   "outputs": [
    {
     "name": "stdout",
     "output_type": "stream",
     "text": [
      "Embedding functor into lazy category:\n",
      "\n",
      "FiniteStrictProductCompletion( FreeCategory( RightQuiver( \"Q(a)[]\" ) ) )\n",
      "  |\n",
      "  V\n",
      "LazyCategory( FiniteStrictProductCompletion( FreeCategory( RightQuiver( \"Q(a)[]\" ) ) ) )\n"
     ]
    }
   ],
   "source": [
    "Display( Emb )"
   ]
  },
  {
   "cell_type": "code",
   "execution_count": 29,
   "id": "c84bfc36",
   "metadata": {},
   "outputs": [
    {
     "data": {
      "text/plain": [
       "GAP: Precomposition of Embedding functor into a finite strict product completion category and Embedding functor into lazy category"
      ]
     },
     "execution_count": 29,
     "metadata": {},
     "output_type": "execute_result"
    }
   ],
   "source": [
    "F = PreCompose( EmbeddingOfUnderlyingCategory( PC ), Emb )"
   ]
  },
  {
   "cell_type": "code",
   "execution_count": 30,
   "id": "ae8e41d0",
   "metadata": {},
   "outputs": [
    {
     "name": "stdout",
     "output_type": "stream",
     "text": [
      "Precomposition of Embedding functor into a finite strict product completion category and Embedding functor into lazy category:\n",
      "\n",
      "FreeCategory( RightQuiver( \"Q(a)[]\" ) )\n",
      "  |\n",
      "  V\n",
      "LazyCategory( FiniteStrictProductCompletion( FreeCategory( RightQuiver( \"Q(a)[]\" ) ) ) )\n"
     ]
    }
   ],
   "source": [
    "Display( F )"
   ]
  },
  {
   "cell_type": "code",
   "execution_count": 31,
   "id": "5c2007af",
   "metadata": {},
   "outputs": [
    {
     "data": {
      "text/plain": [
       "GAP: Extension to FiniteStrictProductCompletion( Source( Precomposition of Embedding functor into a finite strict product completion category and Embedding functor into lazy category ) )"
      ]
     },
     "execution_count": 31,
     "metadata": {},
     "output_type": "execute_result"
    }
   ],
   "source": [
    "G = ExtendFunctorToFiniteStrictProductCompletion( F )"
   ]
  },
  {
   "cell_type": "code",
   "execution_count": 32,
   "id": "a80b3570",
   "metadata": {},
   "outputs": [
    {
     "name": "stdout",
     "output_type": "stream",
     "text": [
      "Extension to FiniteStrictProductCompletion( Source( Precomposition of Embedding functor into a finite strict product completion category and Embedding functor into lazy category ) ):\n",
      "\n",
      "FiniteStrictProductCompletion( FreeCategory( RightQuiver( \"Q(a)[]\" ) ) )\n",
      "  |\n",
      "  V\n",
      "LazyCategory( FiniteStrictProductCompletion( FreeCategory( RightQuiver( \"Q(a)[]\" ) ) ) )\n"
     ]
    }
   ],
   "source": [
    "Display( G )"
   ]
  },
  {
   "cell_type": "code",
   "execution_count": 33,
   "id": "b086bbeb",
   "metadata": {},
   "outputs": [
    {
     "data": {
      "text/plain": [
       "GAP: <A morphism in LazyCategory( FiniteStrictProductCompletion( FreeCategory( RightQuiver( \"Q(a)[]\" ) ) ) )>"
      ]
     },
     "execution_count": 33,
     "metadata": {},
     "output_type": "execute_result"
    }
   ],
   "source": [
    "Gδ = G( δ )"
   ]
  },
  {
   "cell_type": "code",
   "execution_count": 34,
   "id": "a825a3e4",
   "metadata": {},
   "outputs": [
    {
     "data": {
      "text/plain": [
       "true"
      ]
     },
     "execution_count": 34,
     "metadata": {},
     "output_type": "execute_result"
    }
   ],
   "source": [
    "IsWellDefined( Gδ )"
   ]
  },
  {
   "cell_type": "code",
   "execution_count": 35,
   "id": "90c36289",
   "metadata": {},
   "outputs": [
    {
     "data": {
      "image/svg+xml": [
       "<?xml version=\"1.0\" encoding=\"UTF-8\" standalone=\"no\"?>\n",
       "<!DOCTYPE svg PUBLIC \"-//W3C//DTD SVG 1.1//EN\"\n",
       " \"http://www.w3.org/Graphics/SVG/1.1/DTD/svg11.dtd\">\n",
       "<!-- Generated by graphviz version 2.50.0 (20211204.2007)\n",
       " -->\n",
       "<!-- Title: DigraphOfEvaluation Pages: 1 -->\n",
       "<svg width=\"439pt\" height=\"681pt\"\n",
       " viewBox=\"0.00 0.00 438.50 681.00\" xmlns=\"http://www.w3.org/2000/svg\" xmlns:xlink=\"http://www.w3.org/1999/xlink\">\n",
       "<g id=\"graph0\" class=\"graph\" transform=\"scale(1 1) rotate(0) translate(4 677)\">\n",
       "<title>DigraphOfEvaluation</title>\n",
       "<polygon fill=\"white\" stroke=\"transparent\" points=\"-4,4 -4,-677 434.5,-677 434.5,4 -4,4\"/>\n",
       "<!-- 1 -->\n",
       "<g id=\"node1\" class=\"node\">\n",
       "<title>1</title>\n",
       "<polygon fill=\"none\" stroke=\"black\" points=\"327.5,-366 254.5,-366 254.5,-313 327.5,-313 327.5,-366\"/>\n",
       "<text text-anchor=\"middle\" x=\"291\" y=\"-350.8\" font-family=\"Times,serif\" font-size=\"14.00\">[1]</text>\n",
       "<text text-anchor=\"middle\" x=\"291\" y=\"-335.8\" font-family=\"Times,serif\" font-size=\"14.00\">primitive</text>\n",
       "<text text-anchor=\"middle\" x=\"291\" y=\"-320.8\" font-family=\"Times,serif\" font-size=\"14.00\">morphism</text>\n",
       "</g>\n",
       "<!-- 6 -->\n",
       "<g id=\"node6\" class=\"node\">\n",
       "<title>6</title>\n",
       "<polygon fill=\"none\" stroke=\"black\" points=\"325,-262 257,-262 257,-209 325,-209 325,-262\"/>\n",
       "<text text-anchor=\"middle\" x=\"291\" y=\"-246.8\" font-family=\"Times,serif\" font-size=\"14.00\">[6]</text>\n",
       "<text text-anchor=\"middle\" x=\"291\" y=\"-231.8\" font-family=\"Times,serif\" font-size=\"14.00\">Pre</text>\n",
       "<text text-anchor=\"middle\" x=\"291\" y=\"-216.8\" font-family=\"Times,serif\" font-size=\"14.00\">Compose</text>\n",
       "</g>\n",
       "<!-- 1&#45;&gt;6 -->\n",
       "<g id=\"edge6\" class=\"edge\">\n",
       "<title>1&#45;&gt;6</title>\n",
       "<path fill=\"none\" stroke=\"black\" d=\"M291,-312.76C291,-300.56 291,-285.78 291,-272.49\"/>\n",
       "<polygon fill=\"black\" stroke=\"black\" points=\"294.5,-272.23 291,-262.23 287.5,-272.23 294.5,-272.23\"/>\n",
       "<text text-anchor=\"middle\" x=\"294.5\" y=\"-283.8\" font-family=\"Times,serif\" font-size=\"14.00\">2</text>\n",
       "</g>\n",
       "<!-- 2 -->\n",
       "<g id=\"node2\" class=\"node\">\n",
       "<title>2</title>\n",
       "<polygon fill=\"none\" stroke=\"black\" points=\"389.5,-673 322.5,-673 322.5,-620 389.5,-620 389.5,-673\"/>\n",
       "<text text-anchor=\"middle\" x=\"356\" y=\"-657.8\" font-family=\"Times,serif\" font-size=\"14.00\">[2]</text>\n",
       "<text text-anchor=\"middle\" x=\"356\" y=\"-642.8\" font-family=\"Times,serif\" font-size=\"14.00\">primitive</text>\n",
       "<text text-anchor=\"middle\" x=\"356\" y=\"-627.8\" font-family=\"Times,serif\" font-size=\"14.00\">object</text>\n",
       "</g>\n",
       "<!-- 3 -->\n",
       "<g id=\"node3\" class=\"node\">\n",
       "<title>3</title>\n",
       "<polygon fill=\"none\" stroke=\"black\" points=\"182,-583 126,-583 126,-545 182,-545 182,-583\"/>\n",
       "<text text-anchor=\"middle\" x=\"154\" y=\"-567.8\" font-family=\"Times,serif\" font-size=\"14.00\">[3]</text>\n",
       "<text text-anchor=\"middle\" x=\"154\" y=\"-552.8\" font-family=\"Times,serif\" font-size=\"14.00\">1&#45;[ ... ]</text>\n",
       "</g>\n",
       "<!-- 2&#45;&gt;3 -->\n",
       "<g id=\"edge1\" class=\"edge\">\n",
       "<title>2&#45;&gt;3</title>\n",
       "<path fill=\"none\" stroke=\"black\" d=\"M322.19,-632.03C286.1,-617.65 229.08,-594.92 191.6,-579.98\"/>\n",
       "<polygon fill=\"black\" stroke=\"black\" points=\"192.64,-576.63 182.05,-576.18 190.05,-583.13 192.64,-576.63\"/>\n",
       "</g>\n",
       "<!-- 7 -->\n",
       "<g id=\"node7\" class=\"node\">\n",
       "<title>7</title>\n",
       "<polygon fill=\"none\" stroke=\"black\" points=\"384,-583 328,-583 328,-545 384,-545 384,-583\"/>\n",
       "<text text-anchor=\"middle\" x=\"356\" y=\"-567.8\" font-family=\"Times,serif\" font-size=\"14.00\">[7]</text>\n",
       "<text text-anchor=\"middle\" x=\"356\" y=\"-552.8\" font-family=\"Times,serif\" font-size=\"14.00\">2&#45;[ ... ]</text>\n",
       "</g>\n",
       "<!-- 2&#45;&gt;7 -->\n",
       "<g id=\"edge7\" class=\"edge\">\n",
       "<title>2&#45;&gt;7</title>\n",
       "<path fill=\"none\" stroke=\"black\" d=\"M349.65,-619.59C349.17,-611.31 349.12,-602.11 349.51,-593.65\"/>\n",
       "<polygon fill=\"black\" stroke=\"black\" points=\"353.01,-593.69 350.22,-583.47 346.03,-593.2 353.01,-593.69\"/>\n",
       "</g>\n",
       "<!-- 2&#45;&gt;7 -->\n",
       "<g id=\"edge8\" class=\"edge\">\n",
       "<title>2&#45;&gt;7</title>\n",
       "<path fill=\"none\" stroke=\"black\" d=\"M362.35,-619.59C362.83,-611.31 362.88,-602.11 362.49,-593.65\"/>\n",
       "<polygon fill=\"black\" stroke=\"black\" points=\"365.97,-593.2 361.78,-583.47 358.99,-593.69 365.97,-593.2\"/>\n",
       "</g>\n",
       "<!-- 4 -->\n",
       "<g id=\"node4\" class=\"node\">\n",
       "<title>4</title>\n",
       "<polygon fill=\"none\" stroke=\"black\" points=\"117.5,-508 58.5,-508 58.5,-455 117.5,-455 117.5,-508\"/>\n",
       "<text text-anchor=\"middle\" x=\"88\" y=\"-492.8\" font-family=\"Times,serif\" font-size=\"14.00\">[4]</text>\n",
       "<text text-anchor=\"middle\" x=\"88\" y=\"-477.8\" font-family=\"Times,serif\" font-size=\"14.00\">Direct</text>\n",
       "<text text-anchor=\"middle\" x=\"88\" y=\"-462.8\" font-family=\"Times,serif\" font-size=\"14.00\">Product</text>\n",
       "</g>\n",
       "<!-- 3&#45;&gt;4 -->\n",
       "<g id=\"edge2\" class=\"edge\">\n",
       "<title>3&#45;&gt;4</title>\n",
       "<path fill=\"none\" stroke=\"black\" d=\"M139.02,-544.73C132,-536.17 123.41,-525.69 115.29,-515.79\"/>\n",
       "<polygon fill=\"black\" stroke=\"black\" points=\"117.97,-513.53 108.92,-508.02 112.55,-517.97 117.97,-513.53\"/>\n",
       "</g>\n",
       "<!-- 5 -->\n",
       "<g id=\"node5\" class=\"node\">\n",
       "<title>5</title>\n",
       "<polygon fill=\"none\" stroke=\"black\" points=\"236,-366 28,-366 28,-313 236,-313 236,-366\"/>\n",
       "<text text-anchor=\"middle\" x=\"132\" y=\"-350.8\" font-family=\"Times,serif\" font-size=\"14.00\">[5]</text>\n",
       "<text text-anchor=\"middle\" x=\"132\" y=\"-335.8\" font-family=\"Times,serif\" font-size=\"14.00\">ProjectionInFactorOfDirectProduct</text>\n",
       "<text text-anchor=\"middle\" x=\"132\" y=\"-320.8\" font-family=\"Times,serif\" font-size=\"14.00\">WithGivenDirectProduct( 1 )</text>\n",
       "</g>\n",
       "<!-- 3&#45;&gt;5 -->\n",
       "<g id=\"edge3\" class=\"edge\">\n",
       "<title>3&#45;&gt;5</title>\n",
       "<path fill=\"none\" stroke=\"black\" d=\"M152.2,-544.79C148.56,-507.95 140.26,-424 135.51,-375.97\"/>\n",
       "<polygon fill=\"black\" stroke=\"black\" points=\"138.99,-375.62 134.52,-366.01 132.02,-376.31 138.99,-375.62\"/>\n",
       "<text text-anchor=\"middle\" x=\"152.5\" y=\"-477.8\" font-family=\"Times,serif\" font-size=\"14.00\">1</text>\n",
       "</g>\n",
       "<!-- 4&#45;&gt;5 -->\n",
       "<g id=\"edge4\" class=\"edge\">\n",
       "<title>4&#45;&gt;5</title>\n",
       "<path fill=\"none\" stroke=\"black\" d=\"M96.07,-454.82C103.05,-432.62 113.2,-400.31 120.94,-375.7\"/>\n",
       "<polygon fill=\"black\" stroke=\"black\" points=\"124.32,-376.6 123.98,-366.02 117.64,-374.51 124.32,-376.6\"/>\n",
       "<text text-anchor=\"middle\" x=\"121.5\" y=\"-406.8\" font-family=\"Times,serif\" font-size=\"14.00\">2</text>\n",
       "</g>\n",
       "<!-- 10 -->\n",
       "<g id=\"node10\" class=\"node\">\n",
       "<title>10</title>\n",
       "<polygon fill=\"none\" stroke=\"black\" points=\"402.5,-83 275.5,-83 275.5,0 402.5,0 402.5,-83\"/>\n",
       "<text text-anchor=\"middle\" x=\"339\" y=\"-67.8\" font-family=\"Times,serif\" font-size=\"14.00\">[10]</text>\n",
       "<text text-anchor=\"middle\" x=\"339\" y=\"-52.8\" font-family=\"Times,serif\" font-size=\"14.00\">UniversalMorphism</text>\n",
       "<text text-anchor=\"middle\" x=\"339\" y=\"-37.8\" font-family=\"Times,serif\" font-size=\"14.00\">IntoDirectProduct</text>\n",
       "<text text-anchor=\"middle\" x=\"339\" y=\"-22.8\" font-family=\"Times,serif\" font-size=\"14.00\">WithGiven</text>\n",
       "<text text-anchor=\"middle\" x=\"339\" y=\"-7.8\" font-family=\"Times,serif\" font-size=\"14.00\">DirectProduct</text>\n",
       "</g>\n",
       "<!-- 4&#45;&gt;10 -->\n",
       "<g id=\"edge13\" class=\"edge\">\n",
       "<title>4&#45;&gt;10</title>\n",
       "<path fill=\"none\" stroke=\"black\" d=\"M59.19,-454.6C33.52,-428.56 0,-385.86 0,-340.5 0,-340.5 0,-340.5 0,-152 0,-96.69 165.48,-65.22 265.2,-51.27\"/>\n",
       "<polygon fill=\"black\" stroke=\"black\" points=\"265.8,-54.72 275.24,-49.89 264.85,-47.78 265.8,-54.72\"/>\n",
       "<text text-anchor=\"middle\" x=\"3.5\" y=\"-231.8\" font-family=\"Times,serif\" font-size=\"14.00\">2</text>\n",
       "</g>\n",
       "<!-- 5&#45;&gt;6 -->\n",
       "<g id=\"edge5\" class=\"edge\">\n",
       "<title>5&#45;&gt;6</title>\n",
       "<path fill=\"none\" stroke=\"black\" d=\"M172.12,-312.76C195.39,-297.83 224.68,-279.04 248.37,-263.85\"/>\n",
       "<polygon fill=\"black\" stroke=\"black\" points=\"250.29,-266.77 256.82,-258.43 246.51,-260.88 250.29,-266.77\"/>\n",
       "<text text-anchor=\"middle\" x=\"225.5\" y=\"-283.8\" font-family=\"Times,serif\" font-size=\"14.00\">1</text>\n",
       "</g>\n",
       "<!-- 9 -->\n",
       "<g id=\"node9\" class=\"node\">\n",
       "<title>9</title>\n",
       "<polygon fill=\"none\" stroke=\"black\" points=\"319,-172 263,-172 263,-134 319,-134 319,-172\"/>\n",
       "<text text-anchor=\"middle\" x=\"291\" y=\"-156.8\" font-family=\"Times,serif\" font-size=\"14.00\">[9]</text>\n",
       "<text text-anchor=\"middle\" x=\"291\" y=\"-141.8\" font-family=\"Times,serif\" font-size=\"14.00\">2&#45;[ ... ]</text>\n",
       "</g>\n",
       "<!-- 6&#45;&gt;9 -->\n",
       "<g id=\"edge10\" class=\"edge\">\n",
       "<title>6&#45;&gt;9</title>\n",
       "<path fill=\"none\" stroke=\"black\" d=\"M284.65,-208.59C284.17,-200.31 284.12,-191.11 284.51,-182.65\"/>\n",
       "<polygon fill=\"black\" stroke=\"black\" points=\"288.01,-182.69 285.22,-172.47 281.03,-182.2 288.01,-182.69\"/>\n",
       "</g>\n",
       "<!-- 6&#45;&gt;9 -->\n",
       "<g id=\"edge11\" class=\"edge\">\n",
       "<title>6&#45;&gt;9</title>\n",
       "<path fill=\"none\" stroke=\"black\" d=\"M297.35,-208.59C297.83,-200.31 297.88,-191.11 297.49,-182.65\"/>\n",
       "<polygon fill=\"black\" stroke=\"black\" points=\"300.97,-182.2 296.78,-172.47 293.99,-182.69 300.97,-182.2\"/>\n",
       "</g>\n",
       "<!-- 8 -->\n",
       "<g id=\"node8\" class=\"node\">\n",
       "<title>8</title>\n",
       "<polygon fill=\"none\" stroke=\"black\" points=\"430.5,-437 371.5,-437 371.5,-384 430.5,-384 430.5,-437\"/>\n",
       "<text text-anchor=\"middle\" x=\"401\" y=\"-421.8\" font-family=\"Times,serif\" font-size=\"14.00\">[8]</text>\n",
       "<text text-anchor=\"middle\" x=\"401\" y=\"-406.8\" font-family=\"Times,serif\" font-size=\"14.00\">Direct</text>\n",
       "<text text-anchor=\"middle\" x=\"401\" y=\"-391.8\" font-family=\"Times,serif\" font-size=\"14.00\">Product</text>\n",
       "</g>\n",
       "<!-- 7&#45;&gt;8 -->\n",
       "<g id=\"edge9\" class=\"edge\">\n",
       "<title>7&#45;&gt;8</title>\n",
       "<path fill=\"none\" stroke=\"black\" d=\"M363.51,-544.82C365.73,-539.16 368.08,-532.86 370,-527 378.63,-500.65 386.69,-470.36 392.43,-447.41\"/>\n",
       "<polygon fill=\"black\" stroke=\"black\" points=\"395.9,-447.97 394.9,-437.43 389.1,-446.29 395.9,-447.97\"/>\n",
       "</g>\n",
       "<!-- 7&#45;&gt;10 -->\n",
       "<g id=\"edge12\" class=\"edge\">\n",
       "<title>7&#45;&gt;10</title>\n",
       "<path fill=\"none\" stroke=\"black\" d=\"M356,-544.78C356,-528.46 356,-503.88 356,-482.5 356,-482.5 356,-482.5 356,-152 356,-132.6 353.36,-111.5 350.17,-93.04\"/>\n",
       "<polygon fill=\"black\" stroke=\"black\" points=\"353.59,-92.29 348.35,-83.09 346.7,-93.55 353.59,-92.29\"/>\n",
       "<text text-anchor=\"middle\" x=\"359.5\" y=\"-283.8\" font-family=\"Times,serif\" font-size=\"14.00\">1</text>\n",
       "</g>\n",
       "<!-- 8&#45;&gt;10 -->\n",
       "<g id=\"edge15\" class=\"edge\">\n",
       "<title>8&#45;&gt;10</title>\n",
       "<path fill=\"none\" stroke=\"black\" d=\"M401.34,-383.54C401.63,-359.03 402,-321.27 402,-288.5 402,-288.5 402,-288.5 402,-152 402,-130.51 392.77,-109.44 381.38,-91.6\"/>\n",
       "<polygon fill=\"black\" stroke=\"black\" points=\"384.15,-89.44 375.65,-83.12 378.35,-93.36 384.15,-89.44\"/>\n",
       "<text text-anchor=\"middle\" x=\"405.5\" y=\"-231.8\" font-family=\"Times,serif\" font-size=\"14.00\">4</text>\n",
       "</g>\n",
       "<!-- 9&#45;&gt;10 -->\n",
       "<g id=\"edge14\" class=\"edge\">\n",
       "<title>9&#45;&gt;10</title>\n",
       "<path fill=\"none\" stroke=\"black\" d=\"M298.93,-133.92C303.86,-122.66 310.48,-107.56 316.91,-92.89\"/>\n",
       "<polygon fill=\"black\" stroke=\"black\" points=\"320.28,-93.92 321.09,-83.36 313.87,-91.11 320.28,-93.92\"/>\n",
       "<text text-anchor=\"middle\" x=\"316.5\" y=\"-104.8\" font-family=\"Times,serif\" font-size=\"14.00\">3</text>\n",
       "</g>\n",
       "</g>\n",
       "</svg>\n"
      ]
     },
     "metadata": {},
     "output_type": "display_data"
    }
   ],
   "source": [
    "Visualize( Gδ )"
   ]
  },
  {
   "cell_type": "code",
   "execution_count": 36,
   "id": "85c15720",
   "metadata": {},
   "outputs": [
    {
     "data": {
      "image/svg+xml": [
       "<?xml version=\"1.0\" encoding=\"UTF-8\" standalone=\"no\"?>\n",
       "<!DOCTYPE svg PUBLIC \"-//W3C//DTD SVG 1.1//EN\"\n",
       " \"http://www.w3.org/Graphics/SVG/1.1/DTD/svg11.dtd\">\n",
       "<!-- Generated by graphviz version 2.50.0 (20211204.2007)\n",
       " -->\n",
       "<!-- Title: DigraphOfEvaluation Pages: 1 -->\n",
       "<svg width=\"234pt\" height=\"389pt\"\n",
       " viewBox=\"0.00 0.00 233.50 389.00\" xmlns=\"http://www.w3.org/2000/svg\" xmlns:xlink=\"http://www.w3.org/1999/xlink\">\n",
       "<g id=\"graph0\" class=\"graph\" transform=\"scale(1 1) rotate(0) translate(4 385)\">\n",
       "<title>DigraphOfEvaluation</title>\n",
       "<polygon fill=\"white\" stroke=\"transparent\" points=\"-4,4 -4,-385 229.5,-385 229.5,4 -4,4\"/>\n",
       "<!-- 1 -->\n",
       "<g id=\"node1\" class=\"node\">\n",
       "<title>1</title>\n",
       "<polygon fill=\"none\" stroke=\"black\" points=\"172.5,-381 105.5,-381 105.5,-328 172.5,-328 172.5,-381\"/>\n",
       "<text text-anchor=\"middle\" x=\"139\" y=\"-365.8\" font-family=\"Times,serif\" font-size=\"14.00\">[1]</text>\n",
       "<text text-anchor=\"middle\" x=\"139\" y=\"-350.8\" font-family=\"Times,serif\" font-size=\"14.00\">primitive</text>\n",
       "<text text-anchor=\"middle\" x=\"139\" y=\"-335.8\" font-family=\"Times,serif\" font-size=\"14.00\">object</text>\n",
       "</g>\n",
       "<!-- 2 -->\n",
       "<g id=\"node2\" class=\"node\">\n",
       "<title>2</title>\n",
       "<polygon fill=\"none\" stroke=\"black\" points=\"74,-291 0,-291 0,-238 74,-238 74,-291\"/>\n",
       "<text text-anchor=\"middle\" x=\"37\" y=\"-275.8\" font-family=\"Times,serif\" font-size=\"14.00\">[2]</text>\n",
       "<text text-anchor=\"middle\" x=\"37\" y=\"-260.8\" font-family=\"Times,serif\" font-size=\"14.00\">Identity</text>\n",
       "<text text-anchor=\"middle\" x=\"37\" y=\"-245.8\" font-family=\"Times,serif\" font-size=\"14.00\">Morphism</text>\n",
       "</g>\n",
       "<!-- 1&#45;&gt;2 -->\n",
       "<g id=\"edge1\" class=\"edge\">\n",
       "<title>1&#45;&gt;2</title>\n",
       "<path fill=\"none\" stroke=\"black\" d=\"M109.22,-327.81C98.33,-318.41 85.86,-307.66 74.39,-297.76\"/>\n",
       "<polygon fill=\"black\" stroke=\"black\" points=\"76.5,-294.95 66.64,-291.07 71.92,-300.25 76.5,-294.95\"/>\n",
       "</g>\n",
       "<!-- 3 -->\n",
       "<g id=\"node3\" class=\"node\">\n",
       "<title>3</title>\n",
       "<polygon fill=\"none\" stroke=\"black\" points=\"167,-283.5 111,-283.5 111,-245.5 167,-245.5 167,-283.5\"/>\n",
       "<text text-anchor=\"middle\" x=\"139\" y=\"-268.3\" font-family=\"Times,serif\" font-size=\"14.00\">[3]</text>\n",
       "<text text-anchor=\"middle\" x=\"139\" y=\"-253.3\" font-family=\"Times,serif\" font-size=\"14.00\">2&#45;[ ... ]</text>\n",
       "</g>\n",
       "<!-- 1&#45;&gt;3 -->\n",
       "<g id=\"edge2\" class=\"edge\">\n",
       "<title>1&#45;&gt;3</title>\n",
       "<path fill=\"none\" stroke=\"black\" d=\"M132.78,-327.57C132.12,-317 132.08,-304.75 132.64,-293.93\"/>\n",
       "<polygon fill=\"black\" stroke=\"black\" points=\"136.15,-293.95 133.41,-283.71 129.17,-293.42 136.15,-293.95\"/>\n",
       "</g>\n",
       "<!-- 1&#45;&gt;3 -->\n",
       "<g id=\"edge3\" class=\"edge\">\n",
       "<title>1&#45;&gt;3</title>\n",
       "<path fill=\"none\" stroke=\"black\" d=\"M145.22,-327.57C145.88,-317 145.92,-304.75 145.36,-293.93\"/>\n",
       "<polygon fill=\"black\" stroke=\"black\" points=\"148.83,-293.42 144.59,-283.71 141.85,-293.95 148.83,-293.42\"/>\n",
       "</g>\n",
       "<!-- 6 -->\n",
       "<g id=\"node6\" class=\"node\">\n",
       "<title>6</title>\n",
       "<polygon fill=\"none\" stroke=\"black\" points=\"225.5,-83 98.5,-83 98.5,0 225.5,0 225.5,-83\"/>\n",
       "<text text-anchor=\"middle\" x=\"162\" y=\"-67.8\" font-family=\"Times,serif\" font-size=\"14.00\">[6]</text>\n",
       "<text text-anchor=\"middle\" x=\"162\" y=\"-52.8\" font-family=\"Times,serif\" font-size=\"14.00\">UniversalMorphism</text>\n",
       "<text text-anchor=\"middle\" x=\"162\" y=\"-37.8\" font-family=\"Times,serif\" font-size=\"14.00\">IntoDirectProduct</text>\n",
       "<text text-anchor=\"middle\" x=\"162\" y=\"-22.8\" font-family=\"Times,serif\" font-size=\"14.00\">WithGiven</text>\n",
       "<text text-anchor=\"middle\" x=\"162\" y=\"-7.8\" font-family=\"Times,serif\" font-size=\"14.00\">DirectProduct</text>\n",
       "</g>\n",
       "<!-- 1&#45;&gt;6 -->\n",
       "<g id=\"edge8\" class=\"edge\">\n",
       "<title>1&#45;&gt;6</title>\n",
       "<path fill=\"none\" stroke=\"black\" d=\"M158.39,-327.85C165.39,-317.07 172.44,-304.01 176,-291 194.2,-224.52 184.29,-144.41 174.22,-93.46\"/>\n",
       "<polygon fill=\"black\" stroke=\"black\" points=\"177.59,-92.46 172.15,-83.36 170.73,-93.86 177.59,-92.46\"/>\n",
       "<text text-anchor=\"middle\" x=\"189.5\" y=\"-208.8\" font-family=\"Times,serif\" font-size=\"14.00\">2</text>\n",
       "</g>\n",
       "<!-- 5 -->\n",
       "<g id=\"node5\" class=\"node\">\n",
       "<title>5</title>\n",
       "<polygon fill=\"none\" stroke=\"black\" points=\"65,-179.5 9,-179.5 9,-141.5 65,-141.5 65,-179.5\"/>\n",
       "<text text-anchor=\"middle\" x=\"37\" y=\"-164.3\" font-family=\"Times,serif\" font-size=\"14.00\">[5]</text>\n",
       "<text text-anchor=\"middle\" x=\"37\" y=\"-149.3\" font-family=\"Times,serif\" font-size=\"14.00\">2&#45;[ ... ]</text>\n",
       "</g>\n",
       "<!-- 2&#45;&gt;5 -->\n",
       "<g id=\"edge5\" class=\"edge\">\n",
       "<title>2&#45;&gt;5</title>\n",
       "<path fill=\"none\" stroke=\"black\" d=\"M31.05,-237.76C30.04,-223.13 29.99,-204.8 30.89,-189.77\"/>\n",
       "<polygon fill=\"black\" stroke=\"black\" points=\"34.4,-189.76 31.71,-179.52 27.42,-189.2 34.4,-189.76\"/>\n",
       "</g>\n",
       "<!-- 2&#45;&gt;5 -->\n",
       "<g id=\"edge6\" class=\"edge\">\n",
       "<title>2&#45;&gt;5</title>\n",
       "<path fill=\"none\" stroke=\"black\" d=\"M42.95,-237.76C43.96,-223.13 44.01,-204.8 43.11,-189.77\"/>\n",
       "<polygon fill=\"black\" stroke=\"black\" points=\"46.58,-189.2 42.29,-179.52 39.6,-189.76 46.58,-189.2\"/>\n",
       "</g>\n",
       "<!-- 4 -->\n",
       "<g id=\"node4\" class=\"node\">\n",
       "<title>4</title>\n",
       "<polygon fill=\"none\" stroke=\"black\" points=\"142.5,-187 83.5,-187 83.5,-134 142.5,-134 142.5,-187\"/>\n",
       "<text text-anchor=\"middle\" x=\"113\" y=\"-171.8\" font-family=\"Times,serif\" font-size=\"14.00\">[4]</text>\n",
       "<text text-anchor=\"middle\" x=\"113\" y=\"-156.8\" font-family=\"Times,serif\" font-size=\"14.00\">Direct</text>\n",
       "<text text-anchor=\"middle\" x=\"113\" y=\"-141.8\" font-family=\"Times,serif\" font-size=\"14.00\">Product</text>\n",
       "</g>\n",
       "<!-- 3&#45;&gt;4 -->\n",
       "<g id=\"edge4\" class=\"edge\">\n",
       "<title>3&#45;&gt;4</title>\n",
       "<path fill=\"none\" stroke=\"black\" d=\"M134.35,-245.26C130.94,-231.88 126.2,-213.28 122.05,-197.01\"/>\n",
       "<polygon fill=\"black\" stroke=\"black\" points=\"125.42,-196.07 119.56,-187.24 118.64,-197.8 125.42,-196.07\"/>\n",
       "</g>\n",
       "<!-- 3&#45;&gt;6 -->\n",
       "<g id=\"edge7\" class=\"edge\">\n",
       "<title>3&#45;&gt;6</title>\n",
       "<path fill=\"none\" stroke=\"black\" d=\"M142.61,-245.33C145.55,-229.88 149.61,-207.07 152,-187 155.7,-156 158.16,-121.09 159.72,-93.35\"/>\n",
       "<polygon fill=\"black\" stroke=\"black\" points=\"163.23,-93.26 160.27,-83.09 156.24,-92.88 163.23,-93.26\"/>\n",
       "<text text-anchor=\"middle\" x=\"160.5\" y=\"-156.8\" font-family=\"Times,serif\" font-size=\"14.00\">1</text>\n",
       "</g>\n",
       "<!-- 4&#45;&gt;6 -->\n",
       "<g id=\"edge10\" class=\"edge\">\n",
       "<title>4&#45;&gt;6</title>\n",
       "<path fill=\"none\" stroke=\"black\" d=\"M123.75,-133.82C128.84,-121.68 135.09,-106.76 141.05,-92.51\"/>\n",
       "<polygon fill=\"black\" stroke=\"black\" points=\"144.28,-93.87 144.92,-83.29 137.83,-91.16 144.28,-93.87\"/>\n",
       "<text text-anchor=\"middle\" x=\"140.5\" y=\"-104.8\" font-family=\"Times,serif\" font-size=\"14.00\">4</text>\n",
       "</g>\n",
       "<!-- 5&#45;&gt;6 -->\n",
       "<g id=\"edge9\" class=\"edge\">\n",
       "<title>5&#45;&gt;6</title>\n",
       "<path fill=\"none\" stroke=\"black\" d=\"M56.26,-141.48C70.95,-127.72 91.9,-108.11 111.29,-89.97\"/>\n",
       "<polygon fill=\"black\" stroke=\"black\" points=\"113.71,-92.49 118.62,-83.1 108.93,-87.38 113.71,-92.49\"/>\n",
       "<text text-anchor=\"middle\" x=\"103.5\" y=\"-104.8\" font-family=\"Times,serif\" font-size=\"14.00\">3</text>\n",
       "</g>\n",
       "</g>\n",
       "</svg>\n"
      ]
     },
     "metadata": {},
     "output_type": "display_data"
    }
   ],
   "source": [
    "Visualize( CartesianDiagonal( LPC.a, 2 ) )"
   ]
  }
 ],
 "metadata": {
  "@webio": {
   "lastCommId": null,
   "lastKernelId": null
  },
  "kernelspec": {
   "display_name": "Julia 1.12.1",
   "language": "julia",
   "name": "julia-1.12"
  },
  "language_info": {
   "file_extension": ".jl",
   "mimetype": "application/julia",
   "name": "julia",
   "version": "1.12.1"
  }
 },
 "nbformat": 4,
 "nbformat_minor": 5
}
