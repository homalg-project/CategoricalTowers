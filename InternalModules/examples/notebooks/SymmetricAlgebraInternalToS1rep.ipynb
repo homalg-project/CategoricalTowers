{
 "cells": [
  {
   "cell_type": "markdown",
   "id": "fb722c08",
   "metadata": {},
   "source": [
    "This is an example for explicit computations in the symmetric algebra $\\mathrm{S}W$ internal to the positively graded closure $\\mathrm{srep}_k(G)_+$ of the tensor category $\\mathrm{srep}_k(G)$, where $G$ is the trvial group and $k = \\mathbb{Q}$, its minimal splitting field.\n",
    "Let $𝟙$ denote the trivial character.\n",
    "\n",
    "The character table of the trivial group is\n",
    "$$\n",
    "\\begin{array}{c|r}\n",
    "  & (1) \\\\\n",
    "  \\hline\n",
    "  𝟙 & 1\n",
    "\\end{array}\n",
    "$$\n",
    "\n",
    "with componentwise addition and multiplication determines the structure of $\\mathrm{srep}_k(1)$ as a skeletal semisimple $\\mathbb{Q}$-linear Abelian category with bifunctor $\\otimes$.\n"
   ]
  },
  {
   "cell_type": "code",
   "execution_count": 1,
   "id": "ccad8be9",
   "metadata": {},
   "outputs": [
    {
     "name": "stdout",
     "output_type": "stream",
     "text": [
      "CapAndHomalg v\u001b[32m1.6.4\u001b[39m\n",
      "Imported OSCAR's components GAP and Singular_jll\n",
      "Type: ?CapAndHomalg for more information\n"
     ]
    }
   ],
   "source": [
    "using CapAndHomalg"
   ]
  },
  {
   "cell_type": "markdown",
   "id": "a0b7c413",
   "metadata": {},
   "source": [
    "---\n",
    "Using the package [$\\mathtt{GroupRepresentationsForCAP}$](https://github.com/homalg-project/CAP_project/tree/master/GroupRepresentationsForCAP) we now construct $\\mathrm{srep}_k(G)$, even as a tensor category over $\\mathbb{Q}$:\n"
   ]
  },
  {
   "cell_type": "code",
   "execution_count": 2,
   "id": "c1f34630",
   "metadata": {},
   "outputs": [],
   "source": [
    "LoadPackage( \"InternalModules\" )"
   ]
  },
  {
   "cell_type": "code",
   "execution_count": 3,
   "id": "feb0da9a",
   "metadata": {},
   "outputs": [
    {
     "data": {
      "text/plain": [
       "GAP: <pc group of size 1 with 0 generators>"
      ]
     },
     "execution_count": 3,
     "metadata": {},
     "output_type": "execute_result"
    }
   ],
   "source": [
    "G = TrivialGroup( )"
   ]
  },
  {
   "cell_type": "code",
   "execution_count": 4,
   "id": "3e6c4fb3",
   "metadata": {},
   "outputs": [
    {
     "data": {
      "text/plain": [
       "GAP: The representation category of Group( <identity> of ... )"
      ]
     },
     "execution_count": 4,
     "metadata": {},
     "output_type": "execute_result"
    }
   ],
   "source": [
    "srepG = RepresentationCategory( G )"
   ]
  },
  {
   "cell_type": "code",
   "execution_count": 5,
   "id": "d4af7e28",
   "metadata": {},
   "outputs": [
    {
     "name": "stdout",
     "output_type": "stream",
     "text": [
      "A CAP category with name The representation category of Group( <identity> of ... ):\n",
      "\n",
      "44 primitive operations were used to derive 357 operations for this category which algorithmically\n",
      "* IsEquippedWithHomomorphismStructure\n",
      "* IsLinearCategoryOverCommutativeRing\n",
      "* IsAbelianCategory\n",
      "* IsRigidSymmetricClosedMonoidalCategory\n",
      "* IsAdditiveMonoidalCategory\n",
      "and furthermore mathematically\n",
      "* IsSkeletalCategory\n"
     ]
    }
   ],
   "source": [
    "Display( srepG )"
   ]
  },
  {
   "cell_type": "code",
   "execution_count": 6,
   "id": "22ae8796",
   "metadata": {},
   "outputs": [
    {
     "data": {
      "text/plain": [
       "GAP: Q"
      ]
     },
     "execution_count": 6,
     "metadata": {},
     "output_type": "execute_result"
    }
   ],
   "source": [
    "CommutativeRingOfLinearCategory( srepG )"
   ]
  },
  {
   "cell_type": "code",
   "execution_count": 7,
   "id": "2fa78b01",
   "metadata": {},
   "outputs": [],
   "source": [
    "irr = Irr( G );"
   ]
  },
  {
   "cell_type": "code",
   "execution_count": 8,
   "id": "59348e90",
   "metadata": {},
   "outputs": [
    {
     "data": {
      "text/latex": [
       "$$𝟙$$"
      ],
      "text/plain": [
       "GAP: 1*(𝟙)"
      ]
     },
     "execution_count": 8,
     "metadata": {},
     "output_type": "execute_result"
    }
   ],
   "source": [
    "𝟙 = RepresentationCategoryObject( irr[1], srepG, \"𝟙\" )"
   ]
  },
  {
   "cell_type": "markdown",
   "id": "5a1df0fd",
   "metadata": {},
   "source": [
    "---\n",
    "All associators and braidings are given by identities:"
   ]
  },
  {
   "cell_type": "markdown",
   "id": "08d441b7",
   "metadata": {},
   "source": [
    "We compute the tensor product $(𝟙 \\otimes 𝟙) \\otimes 𝟙 = 𝟙$:"
   ]
  },
  {
   "cell_type": "code",
   "execution_count": 9,
   "id": "3d2e6a29",
   "metadata": {},
   "outputs": [
    {
     "data": {
      "text/latex": [
       "$$𝟙$$"
      ],
      "text/plain": [
       "GAP: 1*(𝟙)"
      ]
     },
     "execution_count": 9,
     "metadata": {},
     "output_type": "execute_result"
    }
   ],
   "source": [
    "TensorProduct( 𝟙, 𝟙, 𝟙 )"
   ]
  },
  {
   "cell_type": "markdown",
   "id": "58326d81",
   "metadata": {},
   "source": [
    "The associator $α_{𝟙𝟙𝟙}: 𝟙 \\otimes (𝟙 \\otimes 𝟙) = 𝟙 \\to 𝟙 = (𝟙 \\otimes 𝟙) \\otimes 𝟙$ is the identity:"
   ]
  },
  {
   "cell_type": "code",
   "execution_count": 10,
   "id": "0c028b1e",
   "metadata": {},
   "outputs": [
    {
     "data": {
      "text/latex": [
       "$$𝟙 \\xrightarrow{\\operatorname{diag}(1)} 𝟙$$"
      ],
      "text/plain": [
       "GAP: <A morphism in The representation category of Group( <identity> of ... )>"
      ]
     },
     "execution_count": 10,
     "metadata": {},
     "output_type": "execute_result"
    }
   ],
   "source": [
    "α_𝟙𝟙𝟙 = AssociatorRightToLeft( 𝟙, 𝟙, 𝟙 )"
   ]
  },
  {
   "cell_type": "markdown",
   "id": "997b90a5",
   "metadata": {},
   "source": [
    "We compute the tensor product $𝟙 \\otimes 𝟙 = 𝟙$:"
   ]
  },
  {
   "cell_type": "markdown",
   "id": "db79dff9",
   "metadata": {},
   "source": [
    "The braiding $γ_{𝟙𝟙}: 𝟙 \\otimes 𝟙 = 𝟙 \\to 𝟙 = 𝟙 \\otimes 𝟙$ is the identity:"
   ]
  },
  {
   "cell_type": "code",
   "execution_count": 11,
   "id": "fdbbcf91",
   "metadata": {},
   "outputs": [
    {
     "data": {
      "text/latex": [
       "$$𝟙 \\xrightarrow{\\operatorname{diag}(1)} 𝟙$$"
      ],
      "text/plain": [
       "GAP: <A morphism in The representation category of Group( <identity> of ... )>"
      ]
     },
     "execution_count": 11,
     "metadata": {},
     "output_type": "execute_result"
    }
   ],
   "source": [
    "γ_𝟙𝟙 = Braiding( 𝟙, 𝟙 )"
   ]
  },
  {
   "cell_type": "markdown",
   "id": "6bd47156",
   "metadata": {},
   "source": [
    "---\n",
    "Using the package [$\\mathtt{GradedCategories}$](https://github.com/homalg-project/GradedCategories) we now construct the positively graded closure $\\mathrm{srep}_k(G)_+$ of $\\mathrm{srep}_k(G)$.\n"
   ]
  },
  {
   "cell_type": "code",
   "execution_count": 12,
   "id": "3bce2dfc",
   "metadata": {},
   "outputs": [
    {
     "data": {
      "text/plain": [
       "GAP: PositivelyZGradedClosureCategory( The representation category of Group( <identity> of ... ) )"
      ]
     },
     "execution_count": 12,
     "metadata": {},
     "output_type": "execute_result"
    }
   ],
   "source": [
    "ZsrepG = PositivelyZGradedClosureCategory( srepG )"
   ]
  },
  {
   "cell_type": "markdown",
   "id": "3f17cd40",
   "metadata": {},
   "source": [
    "---\n",
    "For $W = 3 \\cdot 𝟙 \\equiv 3 \\cdot 𝟙^{\\{1\\}} \\in \\operatorname{srep}_k(G)_+$ we use the package [$\\mathtt{InternalModules}$](https://github.com/homalg-project/InternalModules) to construct the symmetric algebra of $W$ internal to $\\operatorname{srep}_k(G)_+$:\n",
    "\n",
    "The objects in $\\mathrm{S}^i W$ are given by binomial coefficients:\n",
    "\n",
    "\\begin{align*}\n",
    "  \\mathrm{S}W &= \\underbrace{𝟙^{\\{0\\}}}_{\\mathrm{S}^0 W} \\oplus \\underbrace{3 \\cdot 𝟙^{\\{0\\}}}_{\\mathrm{S}^1 W} \\oplus \\underbrace{6 \\cdot 𝟙^{\\{0\\}}}_{\\mathrm{S}^2 W} \\oplus \\underbrace{10 \\cdot 𝟙^{\\{0\\}}}_{\\mathrm{S}^3 W} \\oplus \\underbrace{15 \\cdot 𝟙^{\\{0\\}}}_{\\mathrm{S}^4 W} \\oplus \\cdots\n",
    "\\end{align*}\n",
    "\n"
   ]
  },
  {
   "cell_type": "code",
   "execution_count": 13,
   "id": "57bd6e84",
   "metadata": {},
   "outputs": [
    {
     "data": {
      "text/latex": [
       "$$3 \\cdot 𝟙$$"
      ],
      "text/plain": [
       "GAP: 3*(𝟙)"
      ]
     },
     "execution_count": 13,
     "metadata": {},
     "output_type": "execute_result"
    }
   ],
   "source": [
    "W = DirectSum( 𝟙, 𝟙, 𝟙 )"
   ]
  },
  {
   "cell_type": "code",
   "execution_count": 14,
   "id": "ee8c73e7",
   "metadata": {},
   "outputs": [
    {
     "data": {
      "text/plain": [
       "GAP: Abelian category of left modules over the internal symmetric algebra of 3*(𝟙) with undecidable (mathematical) equality of morphisms and uncomputable lifts and colifts"
      ]
     },
     "execution_count": 14,
     "metadata": {},
     "output_type": "execute_result"
    }
   ],
   "source": [
    "SWMod = CategoryOfLeftSModules( W )"
   ]
  },
  {
   "cell_type": "code",
   "execution_count": 15,
   "id": "2b8cae12",
   "metadata": {},
   "outputs": [
    {
     "data": {
      "text/plain": [
       "GAP: <An object in PositivelyZGradedClosureCategory( The representation category of Group( <identity> of ... ) )>"
      ]
     },
     "execution_count": 15,
     "metadata": {},
     "output_type": "execute_result"
    }
   ],
   "source": [
    "SW = UnderlyingActingObject( SWMod )"
   ]
  },
  {
   "cell_type": "code",
   "execution_count": 16,
   "id": "bc1c318d",
   "metadata": {},
   "outputs": [
    {
     "data": {
      "text/latex": [
       "$$𝟙$$"
      ],
      "text/plain": [
       "GAP: 1*(𝟙)"
      ]
     },
     "execution_count": 16,
     "metadata": {},
     "output_type": "execute_result"
    }
   ],
   "source": [
    "SW[0]"
   ]
  },
  {
   "cell_type": "code",
   "execution_count": 17,
   "id": "e362119f",
   "metadata": {},
   "outputs": [
    {
     "data": {
      "text/latex": [
       "$$3 \\cdot 𝟙$$"
      ],
      "text/plain": [
       "GAP: 3*(𝟙)"
      ]
     },
     "execution_count": 17,
     "metadata": {},
     "output_type": "execute_result"
    }
   ],
   "source": [
    "SW[1]"
   ]
  },
  {
   "cell_type": "code",
   "execution_count": 18,
   "id": "b603f24c",
   "metadata": {},
   "outputs": [
    {
     "data": {
      "text/latex": [
       "$$6 \\cdot 𝟙$$"
      ],
      "text/plain": [
       "GAP: 6*(𝟙)"
      ]
     },
     "execution_count": 18,
     "metadata": {},
     "output_type": "execute_result"
    }
   ],
   "source": [
    "SW[2]"
   ]
  },
  {
   "cell_type": "code",
   "execution_count": 19,
   "id": "cbb649a0",
   "metadata": {},
   "outputs": [
    {
     "data": {
      "text/latex": [
       "$$10 \\cdot 𝟙$$"
      ],
      "text/plain": [
       "GAP: 10*(𝟙)"
      ]
     },
     "execution_count": 19,
     "metadata": {},
     "output_type": "execute_result"
    }
   ],
   "source": [
    "SW[3]"
   ]
  },
  {
   "cell_type": "code",
   "execution_count": 20,
   "id": "3bb7653e",
   "metadata": {},
   "outputs": [
    {
     "data": {
      "text/latex": [
       "$$15 \\cdot 𝟙$$"
      ],
      "text/plain": [
       "GAP: 15*(𝟙)"
      ]
     },
     "execution_count": 20,
     "metadata": {},
     "output_type": "execute_result"
    }
   ],
   "source": [
    "SW[4]"
   ]
  },
  {
   "cell_type": "markdown",
   "id": "e95c8896",
   "metadata": {},
   "source": [
    "---\n",
    "However, computing the multiplications $\\mu^{i,j}: \\mathrm{S}^i W \\otimes \\mathrm{S}^j W \\to \\mathrm{S}^{i+j} W$ goes beyond the augmented character table and needs the associator and braiding of $\\mathrm{srep}_k(G)_+$.\n",
    "For computing them we currently still need an explicit irreducible representation affording each irreducible character.\n"
   ]
  },
  {
   "cell_type": "code",
   "execution_count": 21,
   "id": "d0cbb573",
   "metadata": {
    "scrolled": true
   },
   "outputs": [
    {
     "data": {
      "text/latex": [
       "$$\\left( \\begin{array}{rrr}\n",
       " 1 & \\cdot & \\cdot \n",
       "\\end{array} \\right) 𝟙^{\\{1\\}}$$"
      ],
      "text/plain": [
       "GAP: degree: 1\n",
       "\n",
       "Component: (𝟙)\n",
       "\n",
       "1,0,0\n",
       "\n",
       "A morphism in Category of matrices over Q\n",
       "\n",
       "------------------------\n"
      ]
     },
     "execution_count": 21,
     "metadata": {},
     "output_type": "execute_result"
    }
   ],
   "source": [
    "x = InternalElement( SW, 𝟙, 1, 1 )"
   ]
  },
  {
   "cell_type": "code",
   "execution_count": 22,
   "id": "786bac70",
   "metadata": {},
   "outputs": [
    {
     "data": {
      "text/latex": [
       "$$\\left( \\begin{array}{rrr}\n",
       " \\cdot & 1 & \\cdot \n",
       "\\end{array} \\right) 𝟙^{\\{1\\}}$$"
      ],
      "text/plain": [
       "GAP: degree: 1\n",
       "\n",
       "Component: (𝟙)\n",
       "\n",
       "0,1,0\n",
       "\n",
       "A morphism in Category of matrices over Q\n",
       "\n",
       "------------------------\n"
      ]
     },
     "execution_count": 22,
     "metadata": {},
     "output_type": "execute_result"
    }
   ],
   "source": [
    "y = InternalElement( SW, 𝟙, 1, 2 )"
   ]
  },
  {
   "cell_type": "code",
   "execution_count": 23,
   "id": "521b2b52",
   "metadata": {},
   "outputs": [
    {
     "data": {
      "text/latex": [
       "$$\\left( \\begin{array}{rrr}\n",
       " \\cdot & \\cdot & 1 \n",
       "\\end{array} \\right) 𝟙^{\\{1\\}}$$"
      ],
      "text/plain": [
       "GAP: degree: 1\n",
       "\n",
       "Component: (𝟙)\n",
       "\n",
       "0,0,1\n",
       "\n",
       "A morphism in Category of matrices over Q\n",
       "\n",
       "------------------------\n"
      ]
     },
     "execution_count": 23,
     "metadata": {},
     "output_type": "execute_result"
    }
   ],
   "source": [
    "z = InternalElement( SW, 𝟙, 1, 3 )"
   ]
  },
  {
   "cell_type": "markdown",
   "id": "2a7ba306",
   "metadata": {},
   "source": [
    "---\n",
    "Computing products of elements in $(\\mathrm{S}W)^\\in$ we get in primitive decomposition:"
   ]
  },
  {
   "cell_type": "code",
   "execution_count": 24,
   "id": "01a94173",
   "metadata": {},
   "outputs": [
    {
     "data": {
      "text/latex": [
       "$$\\left( \\begin{array}{rrrrrr}\n",
       " \\cdot & \\cdot & \\cdot & \\cdot & \\cdot & 1 \n",
       "\\end{array} \\right) 𝟙^{\\{2\\}}$$"
      ],
      "text/plain": [
       "GAP: degree: 2\n",
       "\n",
       "Component: (𝟙)\n",
       "\n",
       "0,0,0,0,0,1\n",
       "\n",
       "A morphism in Category of matrices over Q\n",
       "\n",
       "------------------------\n"
      ]
     },
     "execution_count": 24,
     "metadata": {},
     "output_type": "execute_result"
    }
   ],
   "source": [
    "x * x"
   ]
  },
  {
   "cell_type": "code",
   "execution_count": 25,
   "id": "6ee9fd4d",
   "metadata": {},
   "outputs": [
    {
     "data": {
      "text/latex": [
       "$$\\left( \\begin{array}{rrrrrr}\n",
       " \\cdot & \\cdot & \\cdot & \\cdot & 1 & \\cdot \n",
       "\\end{array} \\right) 𝟙^{\\{2\\}}$$"
      ],
      "text/plain": [
       "GAP: degree: 2\n",
       "\n",
       "Component: (𝟙)\n",
       "\n",
       "0,0,0,0,1,0\n",
       "\n",
       "A morphism in Category of matrices over Q\n",
       "\n",
       "------------------------\n"
      ]
     },
     "execution_count": 25,
     "metadata": {},
     "output_type": "execute_result"
    }
   ],
   "source": [
    "x * y"
   ]
  },
  {
   "cell_type": "code",
   "execution_count": 26,
   "id": "a67db069",
   "metadata": {},
   "outputs": [
    {
     "data": {
      "text/latex": [
       "$$\\left( \\begin{array}{rrrrrr}\n",
       " \\cdot & \\cdot & \\cdot & 1 & \\cdot & \\cdot \n",
       "\\end{array} \\right) 𝟙^{\\{2\\}}$$"
      ],
      "text/plain": [
       "GAP: degree: 2\n",
       "\n",
       "Component: (𝟙)\n",
       "\n",
       "0,0,0,1,0,0\n",
       "\n",
       "A morphism in Category of matrices over Q\n",
       "\n",
       "------------------------\n"
      ]
     },
     "execution_count": 26,
     "metadata": {},
     "output_type": "execute_result"
    }
   ],
   "source": [
    "x * z"
   ]
  },
  {
   "cell_type": "code",
   "execution_count": 27,
   "id": "2665c17e",
   "metadata": {},
   "outputs": [
    {
     "data": {
      "text/latex": [
       "$$\\left( \\begin{array}{rrrrrr}\n",
       " \\cdot & \\cdot & 1 & \\cdot & \\cdot & \\cdot \n",
       "\\end{array} \\right) 𝟙^{\\{2\\}}$$"
      ],
      "text/plain": [
       "GAP: degree: 2\n",
       "\n",
       "Component: (𝟙)\n",
       "\n",
       "0,0,1,0,0,0\n",
       "\n",
       "A morphism in Category of matrices over Q\n",
       "\n",
       "------------------------\n"
      ]
     },
     "execution_count": 27,
     "metadata": {},
     "output_type": "execute_result"
    }
   ],
   "source": [
    "y * y"
   ]
  },
  {
   "cell_type": "code",
   "execution_count": 28,
   "id": "0bf9073e",
   "metadata": {},
   "outputs": [
    {
     "data": {
      "text/latex": [
       "$$\\left( \\begin{array}{rrrrrr}\n",
       " \\cdot & 1 & \\cdot & \\cdot & \\cdot & \\cdot \n",
       "\\end{array} \\right) 𝟙^{\\{2\\}}$$"
      ],
      "text/plain": [
       "GAP: degree: 2\n",
       "\n",
       "Component: (𝟙)\n",
       "\n",
       "0,1,0,0,0,0\n",
       "\n",
       "A morphism in Category of matrices over Q\n",
       "\n",
       "------------------------\n"
      ]
     },
     "execution_count": 28,
     "metadata": {},
     "output_type": "execute_result"
    }
   ],
   "source": [
    "y * z"
   ]
  },
  {
   "cell_type": "code",
   "execution_count": 29,
   "id": "847a3c55",
   "metadata": {},
   "outputs": [
    {
     "data": {
      "text/latex": [
       "$$\\left( \\begin{array}{rrrrrr}\n",
       " 1 & \\cdot & \\cdot & \\cdot & \\cdot & \\cdot \n",
       "\\end{array} \\right) 𝟙^{\\{2\\}}$$"
      ],
      "text/plain": [
       "GAP: degree: 2\n",
       "\n",
       "Component: (𝟙)\n",
       "\n",
       "1,0,0,0,0,0\n",
       "\n",
       "A morphism in Category of matrices over Q\n",
       "\n",
       "------------------------\n"
      ]
     },
     "execution_count": 29,
     "metadata": {},
     "output_type": "execute_result"
    }
   ],
   "source": [
    "z * z"
   ]
  },
  {
   "cell_type": "code",
   "execution_count": 30,
   "id": "de022609",
   "metadata": {},
   "outputs": [
    {
     "data": {
      "text/latex": [
       "$$\\left( \\begin{array}{rrrrrrrrrr}\n",
       " 1 & \\cdot & \\cdot & \\cdot & \\cdot & \\cdot & \\cdot & \\cdot & \\cdot & \\cdot \n",
       "\\end{array} \\right) 𝟙^{\\{3\\}}$$"
      ],
      "text/plain": [
       "GAP: degree: 3\n",
       "\n",
       "Component: (𝟙)\n",
       "\n",
       "1,0,0,0,0,0,0,0,0,0\n",
       "\n",
       "A morphism in Category of matrices over Q\n",
       "\n",
       "------------------------\n"
      ]
     },
     "execution_count": 30,
     "metadata": {},
     "output_type": "execute_result"
    }
   ],
   "source": [
    "x * x * x"
   ]
  },
  {
   "cell_type": "code",
   "execution_count": 31,
   "id": "849d5d66",
   "metadata": {},
   "outputs": [
    {
     "data": {
      "text/latex": [
       "$$\\left( \\begin{array}{rrrrrrrrrr}\n",
       " \\cdot & 1 & \\cdot & \\cdot & \\cdot & \\cdot & \\cdot & \\cdot & \\cdot & \\cdot \n",
       "\\end{array} \\right) 𝟙^{\\{3\\}}$$"
      ],
      "text/plain": [
       "GAP: degree: 3\n",
       "\n",
       "Component: (𝟙)\n",
       "\n",
       "0,1,0,0,0,0,0,0,0,0\n",
       "\n",
       "A morphism in Category of matrices over Q\n",
       "\n",
       "------------------------\n"
      ]
     },
     "execution_count": 31,
     "metadata": {},
     "output_type": "execute_result"
    }
   ],
   "source": [
    "x * x * y"
   ]
  },
  {
   "cell_type": "code",
   "execution_count": 32,
   "id": "dd538f2e",
   "metadata": {},
   "outputs": [
    {
     "data": {
      "text/latex": [
       "$$\\left( \\begin{array}{rrrrrrrrrr}\n",
       " \\cdot & \\cdot & 1 & \\cdot & \\cdot & \\cdot & \\cdot & \\cdot & \\cdot & \\cdot \n",
       "\\end{array} \\right) 𝟙^{\\{3\\}}$$"
      ],
      "text/plain": [
       "GAP: degree: 3\n",
       "\n",
       "Component: (𝟙)\n",
       "\n",
       "0,0,1,0,0,0,0,0,0,0\n",
       "\n",
       "A morphism in Category of matrices over Q\n",
       "\n",
       "------------------------\n"
      ]
     },
     "execution_count": 32,
     "metadata": {},
     "output_type": "execute_result"
    }
   ],
   "source": [
    "x * x * z"
   ]
  },
  {
   "cell_type": "code",
   "execution_count": 33,
   "id": "9244daa7",
   "metadata": {},
   "outputs": [
    {
     "data": {
      "text/latex": [
       "$$\\left( \\begin{array}{rrrrrrrrrr}\n",
       " \\cdot & \\cdot & \\cdot & \\cdot & 1 & \\cdot & \\cdot & \\cdot & \\cdot & \\cdot \n",
       "\\end{array} \\right) 𝟙^{\\{3\\}}$$"
      ],
      "text/plain": [
       "GAP: degree: 3\n",
       "\n",
       "Component: (𝟙)\n",
       "\n",
       "0,0,0,0,1,0,0,0,0,0\n",
       "\n",
       "A morphism in Category of matrices over Q\n",
       "\n",
       "------------------------\n"
      ]
     },
     "execution_count": 33,
     "metadata": {},
     "output_type": "execute_result"
    }
   ],
   "source": [
    "x * y * y"
   ]
  },
  {
   "cell_type": "code",
   "execution_count": 34,
   "id": "2fa7f3e8",
   "metadata": {},
   "outputs": [
    {
     "data": {
      "text/latex": [
       "$$\\left( \\begin{array}{rrrrrrrrrr}\n",
       " \\cdot & \\cdot & \\cdot & \\cdot & \\cdot & \\cdot & 1 & \\cdot & \\cdot & \\cdot \n",
       "\\end{array} \\right) 𝟙^{\\{3\\}}$$"
      ],
      "text/plain": [
       "GAP: degree: 3\n",
       "\n",
       "Component: (𝟙)\n",
       "\n",
       "0,0,0,0,0,0,1,0,0,0\n",
       "\n",
       "A morphism in Category of matrices over Q\n",
       "\n",
       "------------------------\n"
      ]
     },
     "execution_count": 34,
     "metadata": {},
     "output_type": "execute_result"
    }
   ],
   "source": [
    "x * y * z"
   ]
  },
  {
   "cell_type": "code",
   "execution_count": 35,
   "id": "106589af",
   "metadata": {},
   "outputs": [
    {
     "data": {
      "text/latex": [
       "$$\\left( \\begin{array}{rrrrrrrrrr}\n",
       " \\cdot & \\cdot & \\cdot & \\cdot & \\cdot & \\cdot & \\cdot & \\cdot & \\cdot & 1 \n",
       "\\end{array} \\right) 𝟙^{\\{3\\}}$$"
      ],
      "text/plain": [
       "GAP: degree: 3\n",
       "\n",
       "Component: (𝟙)\n",
       "\n",
       "0,0,0,0,0,0,0,0,0,1\n",
       "\n",
       "A morphism in Category of matrices over Q\n",
       "\n",
       "------------------------\n"
      ]
     },
     "execution_count": 35,
     "metadata": {},
     "output_type": "execute_result"
    }
   ],
   "source": [
    "x * z * z"
   ]
  },
  {
   "cell_type": "code",
   "execution_count": 36,
   "id": "4c3ae15e",
   "metadata": {},
   "outputs": [
    {
     "data": {
      "text/latex": [
       "$$\\left( \\begin{array}{rrrrrrrrrr}\n",
       " \\cdot & \\cdot & \\cdot & 1 & \\cdot & \\cdot & \\cdot & \\cdot & \\cdot & \\cdot \n",
       "\\end{array} \\right) 𝟙^{\\{3\\}}$$"
      ],
      "text/plain": [
       "GAP: degree: 3\n",
       "\n",
       "Component: (𝟙)\n",
       "\n",
       "0,0,0,1,0,0,0,0,0,0\n",
       "\n",
       "A morphism in Category of matrices over Q\n",
       "\n",
       "------------------------\n"
      ]
     },
     "execution_count": 36,
     "metadata": {},
     "output_type": "execute_result"
    }
   ],
   "source": [
    "y * y * y"
   ]
  },
  {
   "cell_type": "code",
   "execution_count": 37,
   "id": "4cb3e9a7",
   "metadata": {},
   "outputs": [
    {
     "data": {
      "text/latex": [
       "$$\\left( \\begin{array}{rrrrrrrrrr}\n",
       " \\cdot & \\cdot & \\cdot & \\cdot & \\cdot & 1 & \\cdot & \\cdot & \\cdot & \\cdot \n",
       "\\end{array} \\right) 𝟙^{\\{3\\}}$$"
      ],
      "text/plain": [
       "GAP: degree: 3\n",
       "\n",
       "Component: (𝟙)\n",
       "\n",
       "0,0,0,0,0,1,0,0,0,0\n",
       "\n",
       "A morphism in Category of matrices over Q\n",
       "\n",
       "------------------------\n"
      ]
     },
     "execution_count": 37,
     "metadata": {},
     "output_type": "execute_result"
    }
   ],
   "source": [
    "y * y * z"
   ]
  },
  {
   "cell_type": "code",
   "execution_count": 38,
   "id": "9a38d9cd",
   "metadata": {},
   "outputs": [
    {
     "data": {
      "text/latex": [
       "$$\\left( \\begin{array}{rrrrrrrrrr}\n",
       " \\cdot & \\cdot & \\cdot & \\cdot & \\cdot & \\cdot & \\cdot & \\cdot & 1 & \\cdot \n",
       "\\end{array} \\right) 𝟙^{\\{3\\}}$$"
      ],
      "text/plain": [
       "GAP: degree: 3\n",
       "\n",
       "Component: (𝟙)\n",
       "\n",
       "0,0,0,0,0,0,0,0,1,0\n",
       "\n",
       "A morphism in Category of matrices over Q\n",
       "\n",
       "------------------------\n"
      ]
     },
     "execution_count": 38,
     "metadata": {},
     "output_type": "execute_result"
    }
   ],
   "source": [
    "y * z * z"
   ]
  },
  {
   "cell_type": "code",
   "execution_count": 39,
   "id": "936bc421",
   "metadata": {},
   "outputs": [
    {
     "data": {
      "text/latex": [
       "$$\\left( \\begin{array}{rrrrrrrrrr}\n",
       " \\cdot & \\cdot & \\cdot & \\cdot & \\cdot & \\cdot & \\cdot & 1 & \\cdot & \\cdot \n",
       "\\end{array} \\right) 𝟙^{\\{3\\}}$$"
      ],
      "text/plain": [
       "GAP: degree: 3\n",
       "\n",
       "Component: (𝟙)\n",
       "\n",
       "0,0,0,0,0,0,0,1,0,0\n",
       "\n",
       "A morphism in Category of matrices over Q\n",
       "\n",
       "------------------------\n"
      ]
     },
     "execution_count": 39,
     "metadata": {},
     "output_type": "execute_result"
    }
   ],
   "source": [
    "z * z * z"
   ]
  },
  {
   "cell_type": "code",
   "execution_count": 40,
   "id": "289307e6",
   "metadata": {},
   "outputs": [
    {
     "data": {
      "text/latex": [
       "$$\\left( \\begin{array}{rrrrrrrrrrrrrrr}\n",
       " \\cdot & \\cdot & \\cdot & \\cdot & \\cdot & \\cdot & \\cdot & \\cdot & \\cdot & \\cdot & 1 & \\cdot & \\cdot & \\cdot & \\cdot \n",
       "\\end{array} \\right) 𝟙^{\\{4\\}}$$"
      ],
      "text/plain": [
       "GAP: degree: 4\n",
       "\n",
       "Component: (𝟙)\n",
       "\n",
       "0,0,0,0,0,0,0,0,0,0,1,0,0,0,0\n",
       "\n",
       "A morphism in Category of matrices over Q\n",
       "\n",
       "------------------------\n"
      ]
     },
     "execution_count": 40,
     "metadata": {},
     "output_type": "execute_result"
    }
   ],
   "source": [
    "x * y * z * x"
   ]
  }
 ],
 "metadata": {
  "@webio": {
   "lastCommId": null,
   "lastKernelId": null
  },
  "kernelspec": {
   "display_name": "Julia 1.11.7",
   "language": "julia",
   "name": "julia-1.11"
  },
  "language_info": {
   "file_extension": ".jl",
   "mimetype": "application/julia",
   "name": "julia",
   "version": "1.11.7"
  }
 },
 "nbformat": 4,
 "nbformat_minor": 5
}
