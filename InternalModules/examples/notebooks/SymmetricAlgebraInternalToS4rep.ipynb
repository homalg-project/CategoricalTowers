{
 "cells": [
  {
   "cell_type": "markdown",
   "id": "4740058f",
   "metadata": {},
   "source": [
    "This is an example for explicit computations in the symmetric algebra $\\mathrm{S}W$ internal to the positively graded closure $\\mathrm{srep}_k(G)_+$ of the skeletal tensor category $\\mathrm{srep}_k(G)$ of finite dimensional $k$-linear representations of $G$, where $G := S_4$ is the symmetric group on four points and $k = \\mathbb{Q}$, its minimal splitting field.\n",
    "The natural permutation character on four points is the sum of the irreducible characters $𝟙+ν$, where $𝟙$ denotes the trivial character.\n",
    "Denote the irreducible degree $2$ character by $ρ$, the sign-character by $σ$, and set $χ := \\sigma ν$.\n",
    "The character table of $S_4$\n",
    "$$\n",
    "\\begin{array}{c|rrrrr}\n",
    "  & (1) & (12) & (12)(34) & (123) & (1234) \\\\\n",
    "  \\hline\n",
    "  𝟙 & 1 & 1 & 1 & 1 & 1 \\\\\n",
    "  σ & 1 & -1 & 1 & 1 & -1 \\\\\n",
    "  ρ & 2 & \\cdot & 2 & -1 & \\cdot \\\\\n",
    "  ν & 3 & 1 & -1 & \\cdot & -1 \\\\\n",
    "  χ & 3 & -1 & -1 & \\cdot & 1\n",
    "\\end{array}\n",
    "$$\n",
    "\n",
    "with componentwise addition and multiplication determines the structure of $\\mathrm{srep}_k(S_4)$ as a skeletal semisimple $\\mathbb{Q}$-linear Abelian category with bifunctor $\\otimes$.\n"
   ]
  },
  {
   "cell_type": "code",
   "execution_count": 1,
   "id": "98b215ed",
   "metadata": {},
   "outputs": [
    {
     "name": "stdout",
     "output_type": "stream",
     "text": [
      "CapAndHomalg v\u001b[32m1.6.4\u001b[39m\n",
      "Imported OSCAR's components GAP and Singular_jll\n",
      "Type: ?CapAndHomalg for more information\n"
     ]
    }
   ],
   "source": [
    "using CapAndHomalg"
   ]
  },
  {
   "cell_type": "code",
   "execution_count": 2,
   "id": "6f180b15",
   "metadata": {},
   "outputs": [],
   "source": [
    "LoadPackage( \"InternalModules\" )"
   ]
  },
  {
   "cell_type": "markdown",
   "id": "bbe70a11",
   "metadata": {},
   "source": [
    "---\n",
    "Using the package [$\\mathtt{GroupRepresentationsForCAP}$](https://github.com/homalg-project/CAP_project/tree/master/GroupRepresentationsForCAP) we now construct $\\mathrm{srep}_k(S_4)$, even as a tensor category over $\\mathbb{Q}$:\n"
   ]
  },
  {
   "cell_type": "code",
   "execution_count": 3,
   "id": "204916a4",
   "metadata": {},
   "outputs": [
    {
     "data": {
      "text/plain": [
       "GAP: Sym( [ 1 .. 4 ] )"
      ]
     },
     "execution_count": 3,
     "metadata": {},
     "output_type": "execute_result"
    }
   ],
   "source": [
    "G = SymmetricGroup( 4 )"
   ]
  },
  {
   "cell_type": "code",
   "execution_count": 4,
   "id": "4f51caf0",
   "metadata": {},
   "outputs": [
    {
     "data": {
      "text/plain": [
       "GAP: The representation category of SymmetricGroup( [ 1 .. 4 ] )"
      ]
     },
     "execution_count": 4,
     "metadata": {},
     "output_type": "execute_result"
    }
   ],
   "source": [
    "srepG = RepresentationCategory( G )"
   ]
  },
  {
   "cell_type": "code",
   "execution_count": 5,
   "id": "3971e1f4",
   "metadata": {},
   "outputs": [
    {
     "name": "stdout",
     "output_type": "stream",
     "text": [
      "A CAP category with name The representation category of SymmetricGroup( [ 1 .. 4 ] ):\n",
      "\n",
      "44 primitive operations were used to derive 357 operations for this category which algorithmically\n",
      "* IsEquippedWithHomomorphismStructure\n",
      "* IsLinearCategoryOverCommutativeRing\n",
      "* IsAbelianCategory\n",
      "* IsRigidSymmetricClosedMonoidalCategory\n",
      "* IsAdditiveMonoidalCategory\n",
      "and furthermore mathematically\n",
      "* IsSkeletalCategory\n"
     ]
    }
   ],
   "source": [
    "Display( srepG )"
   ]
  },
  {
   "cell_type": "code",
   "execution_count": 6,
   "id": "0ebe6a64",
   "metadata": {},
   "outputs": [
    {
     "data": {
      "text/plain": [
       "GAP: Q"
      ]
     },
     "execution_count": 6,
     "metadata": {},
     "output_type": "execute_result"
    }
   ],
   "source": [
    "CommutativeRingOfLinearCategory( srepG )"
   ]
  },
  {
   "cell_type": "code",
   "execution_count": 7,
   "id": "26892aa4",
   "metadata": {},
   "outputs": [],
   "source": [
    "irr = Irr( G );"
   ]
  },
  {
   "cell_type": "code",
   "execution_count": 8,
   "id": "ae7f7263",
   "metadata": {},
   "outputs": [
    {
     "data": {
      "text/latex": [
       "$$𝟙$$"
      ],
      "text/plain": [
       "GAP: 1*(𝟙)"
      ]
     },
     "execution_count": 8,
     "metadata": {},
     "output_type": "execute_result"
    }
   ],
   "source": [
    "𝟙 = RepresentationCategoryObject( irr[5], srepG, \"𝟙\" )"
   ]
  },
  {
   "cell_type": "code",
   "execution_count": 9,
   "id": "0794a62a",
   "metadata": {},
   "outputs": [
    {
     "data": {
      "text/latex": [
       "$$σ$$"
      ],
      "text/plain": [
       "GAP: 1*(σ)"
      ]
     },
     "execution_count": 9,
     "metadata": {},
     "output_type": "execute_result"
    }
   ],
   "source": [
    "σ = RepresentationCategoryObject( irr[1], srepG, \"σ\" )"
   ]
  },
  {
   "cell_type": "code",
   "execution_count": 10,
   "id": "575b3db5",
   "metadata": {},
   "outputs": [
    {
     "data": {
      "text/latex": [
       "$$ρ$$"
      ],
      "text/plain": [
       "GAP: 1*(ρ)"
      ]
     },
     "execution_count": 10,
     "metadata": {},
     "output_type": "execute_result"
    }
   ],
   "source": [
    "ρ = RepresentationCategoryObject( irr[3], srepG, \"ρ\" )"
   ]
  },
  {
   "cell_type": "code",
   "execution_count": 11,
   "id": "e7f54bdf",
   "metadata": {},
   "outputs": [
    {
     "data": {
      "text/latex": [
       "$$ν$$"
      ],
      "text/plain": [
       "GAP: 1*(ν)"
      ]
     },
     "execution_count": 11,
     "metadata": {},
     "output_type": "execute_result"
    }
   ],
   "source": [
    "ν = RepresentationCategoryObject( irr[4], srepG, \"ν\" )"
   ]
  },
  {
   "cell_type": "code",
   "execution_count": 12,
   "id": "dfb476a8",
   "metadata": {
    "scrolled": true
   },
   "outputs": [
    {
     "data": {
      "text/latex": [
       "$$χ$$"
      ],
      "text/plain": [
       "GAP: 1*(χ)"
      ]
     },
     "execution_count": 12,
     "metadata": {},
     "output_type": "execute_result"
    }
   ],
   "source": [
    "χ = RepresentationCategoryObject( irr[2], srepG, \"χ\" )"
   ]
  },
  {
   "cell_type": "markdown",
   "id": "c9ea8f7b",
   "metadata": {},
   "source": [
    "---\n",
    "Regardless of which choices we make, the associator and braiding cannot be given by identities. For example:"
   ]
  },
  {
   "cell_type": "markdown",
   "id": "5253544d",
   "metadata": {},
   "source": [
    "We compute the tensor product $(ρ \\otimes σ) \\otimes ρ = σ \\oplus ρ \\oplus 𝟙$:"
   ]
  },
  {
   "cell_type": "code",
   "execution_count": 13,
   "id": "07535784",
   "metadata": {},
   "outputs": [
    {
     "data": {
      "text/latex": [
       "$$σ \\oplus ρ \\oplus 𝟙$$"
      ],
      "text/plain": [
       "GAP: 1*(σ) + 1*(ρ) + 1*(𝟙)"
      ]
     },
     "execution_count": 13,
     "metadata": {},
     "output_type": "execute_result"
    }
   ],
   "source": [
    "TensorProduct( ρ, σ, ρ )"
   ]
  },
  {
   "cell_type": "markdown",
   "id": "c495a487",
   "metadata": {},
   "source": [
    "The associator $α_{ρσρ}: ρ \\otimes (σ \\otimes ρ) = σ \\oplus ρ \\oplus 𝟙 \\to σ \\oplus ρ \\oplus 𝟙 = (ρ \\otimes σ) \\otimes ρ$ is nontrivial:"
   ]
  },
  {
   "cell_type": "code",
   "execution_count": 14,
   "id": "f56cc29f",
   "metadata": {},
   "outputs": [
    {
     "data": {
      "text/latex": [
       "$$σ \\oplus ρ \\oplus 𝟙 \\xrightarrow{\\operatorname{diag}(-1,1,-1)} σ \\oplus ρ \\oplus 𝟙$$"
      ],
      "text/plain": [
       "GAP: <A morphism in The representation category of SymmetricGroup( [ 1 .. 4 ] )>"
      ]
     },
     "execution_count": 14,
     "metadata": {},
     "output_type": "execute_result"
    }
   ],
   "source": [
    "α_ρσρ = AssociatorRightToLeft( ρ, σ, ρ )"
   ]
  },
  {
   "cell_type": "markdown",
   "id": "1514d82d",
   "metadata": {},
   "source": [
    "We compute the tensor product $ρ \\otimes ρ = σ \\oplus ρ \\oplus 𝟙$:"
   ]
  },
  {
   "cell_type": "code",
   "execution_count": 15,
   "id": "a5489a5f",
   "metadata": {},
   "outputs": [
    {
     "data": {
      "text/latex": [
       "$$σ \\oplus ρ \\oplus 𝟙$$"
      ],
      "text/plain": [
       "GAP: 1*(σ) + 1*(ρ) + 1*(𝟙)"
      ]
     },
     "execution_count": 15,
     "metadata": {},
     "output_type": "execute_result"
    }
   ],
   "source": [
    "TensorProduct( ρ, ρ )"
   ]
  },
  {
   "cell_type": "markdown",
   "id": "45824dda",
   "metadata": {},
   "source": [
    "The braiding $γ_{ρρ}: ρ \\otimes ρ = σ \\oplus ρ \\oplus 𝟙 \\to σ \\oplus ρ \\oplus 𝟙 = ρ \\otimes ρ$ is nontrivial:"
   ]
  },
  {
   "cell_type": "code",
   "execution_count": 16,
   "id": "ef8f07ab",
   "metadata": {},
   "outputs": [
    {
     "data": {
      "text/latex": [
       "$$σ \\oplus ρ \\oplus 𝟙 \\xrightarrow{\\operatorname{diag}(-1,1,1)} σ \\oplus ρ \\oplus 𝟙$$"
      ],
      "text/plain": [
       "GAP: <A morphism in The representation category of SymmetricGroup( [ 1 .. 4 ] )>"
      ]
     },
     "execution_count": 16,
     "metadata": {},
     "output_type": "execute_result"
    }
   ],
   "source": [
    "γ_ρρ = Braiding( ρ, ρ )"
   ]
  },
  {
   "cell_type": "markdown",
   "id": "ea50f183",
   "metadata": {},
   "source": [
    "---\n",
    "Using the package [$\\mathtt{GradedCategories}$](https://github.com/homalg-project/GradedCategories) we now construct the positively graded closure $\\mathrm{srep}_k(S_4)_+$ of $\\mathrm{srep}_k(S_4)$.\n"
   ]
  },
  {
   "cell_type": "code",
   "execution_count": 17,
   "id": "4131bdba",
   "metadata": {},
   "outputs": [
    {
     "data": {
      "text/plain": [
       "GAP: PositivelyZGradedClosureCategory( The representation category of SymmetricGroup( [ 1 .. 4 ] ) )"
      ]
     },
     "execution_count": 17,
     "metadata": {},
     "output_type": "execute_result"
    }
   ],
   "source": [
    "ZsrepG = PositivelyZGradedClosureCategory( srepG )"
   ]
  },
  {
   "cell_type": "markdown",
   "id": "4d73b825",
   "metadata": {},
   "source": [
    "---\n",
    "For $W = χ \\equiv χ^{\\{1\\}} \\in \\operatorname{srep}_k(S_4)_+$ we use the package [$\\mathtt{InternalModules}$](https://github.com/homalg-project/InternalModules) to construct the symmetric algebra of $W$ internal to $\\operatorname{srep}_k(S_4)_+$:\n",
    "\n",
    "The objects in $\\mathrm{S}^i W$ can be computed using the character table of $S_4$ augmented with the power maps:\n",
    "\n",
    "\\begin{align*}\n",
    "  \\mathrm{S}W &= \\underbrace{𝟙^{\\{0\\}}}_{\\mathrm{S}^0 W} \\oplus \\underbrace{χ^{\\{1\\}}}_{\\mathrm{S}^1 W} \\oplus \\underbrace{\\left( ρ^{\\{2\\}} \\oplus ν^{\\{2\\}} \\oplus 𝟙^{\\{2\\}} \\right)}_{\\mathrm{S}^2 W} \\oplus \\underbrace{\\left( σ^{\\{3\\}} \\oplus 2 \\cdot χ^{\\{3\\}} \\oplus ν^{\\{3\\}} \\right)}_{\\mathrm{S}^3 W} \\\\\n",
    "  & \\oplus \\underbrace{\\left( χ^{\\{4\\}} \\oplus 2 \\cdot ρ^{\\{4\\}} \\oplus 2 \\cdot ν^{\\{4\\}} \\oplus 2 \\cdot 𝟙^{\\{4\\}} \\right)}_{\\mathrm{S}^4 W} \\oplus \\cdots\n",
    "\\end{align*}\n",
    "\n"
   ]
  },
  {
   "cell_type": "code",
   "execution_count": 18,
   "id": "c365a460",
   "metadata": {},
   "outputs": [
    {
     "data": {
      "text/latex": [
       "$$χ$$"
      ],
      "text/plain": [
       "GAP: 1*(χ)"
      ]
     },
     "execution_count": 18,
     "metadata": {},
     "output_type": "execute_result"
    }
   ],
   "source": [
    "W = χ"
   ]
  },
  {
   "cell_type": "code",
   "execution_count": 19,
   "id": "07ab87e1",
   "metadata": {},
   "outputs": [
    {
     "data": {
      "text/plain": [
       "GAP: Abelian category of left modules over the internal symmetric algebra of 1*(χ) with undecidable (mathematical) equality of morphisms and uncomputable lifts and colifts"
      ]
     },
     "execution_count": 19,
     "metadata": {},
     "output_type": "execute_result"
    }
   ],
   "source": [
    "SWMod = CategoryOfLeftSModules( W )"
   ]
  },
  {
   "cell_type": "code",
   "execution_count": 20,
   "id": "df7406d4",
   "metadata": {},
   "outputs": [
    {
     "data": {
      "text/plain": [
       "GAP: <An object in PositivelyZGradedClosureCategory( The representation category of SymmetricGroup( [ 1 .. 4 ] ) )>"
      ]
     },
     "execution_count": 20,
     "metadata": {},
     "output_type": "execute_result"
    }
   ],
   "source": [
    "SW = UnderlyingActingObject( SWMod )"
   ]
  },
  {
   "cell_type": "code",
   "execution_count": 21,
   "id": "cb05f1bc",
   "metadata": {},
   "outputs": [
    {
     "data": {
      "text/latex": [
       "$$𝟙$$"
      ],
      "text/plain": [
       "GAP: 1*(𝟙)"
      ]
     },
     "execution_count": 21,
     "metadata": {},
     "output_type": "execute_result"
    }
   ],
   "source": [
    "SW[0]"
   ]
  },
  {
   "cell_type": "code",
   "execution_count": 22,
   "id": "2437298e",
   "metadata": {},
   "outputs": [
    {
     "data": {
      "text/latex": [
       "$$χ$$"
      ],
      "text/plain": [
       "GAP: 1*(χ)"
      ]
     },
     "execution_count": 22,
     "metadata": {},
     "output_type": "execute_result"
    }
   ],
   "source": [
    "SW[1]"
   ]
  },
  {
   "cell_type": "code",
   "execution_count": 23,
   "id": "e52c9bac",
   "metadata": {},
   "outputs": [
    {
     "data": {
      "text/latex": [
       "$$ρ \\oplus ν \\oplus 𝟙$$"
      ],
      "text/plain": [
       "GAP: 1*(ρ) + 1*(ν) + 1*(𝟙)"
      ]
     },
     "execution_count": 23,
     "metadata": {},
     "output_type": "execute_result"
    }
   ],
   "source": [
    "SW[2]"
   ]
  },
  {
   "cell_type": "code",
   "execution_count": 24,
   "id": "1cae74d2",
   "metadata": {},
   "outputs": [
    {
     "data": {
      "text/latex": [
       "$$σ \\oplus 2 \\cdot χ \\oplus ν$$"
      ],
      "text/plain": [
       "GAP: 1*(σ) + 2*(χ) + 1*(ν)"
      ]
     },
     "execution_count": 24,
     "metadata": {},
     "output_type": "execute_result"
    }
   ],
   "source": [
    "SW[3]"
   ]
  },
  {
   "cell_type": "code",
   "execution_count": 25,
   "id": "cbc4cf6a",
   "metadata": {},
   "outputs": [
    {
     "data": {
      "text/latex": [
       "$$χ \\oplus 2 \\cdot ρ \\oplus 2 \\cdot ν \\oplus 2 \\cdot 𝟙$$"
      ],
      "text/plain": [
       "GAP: 1*(χ) + 2*(ρ) + 2*(ν) + 2*(𝟙)"
      ]
     },
     "execution_count": 25,
     "metadata": {},
     "output_type": "execute_result"
    }
   ],
   "source": [
    "SW[4]"
   ]
  },
  {
   "cell_type": "markdown",
   "id": "fa37a8c8",
   "metadata": {},
   "source": [
    "---\n",
    "However, computing the multiplications $\\mu^{i,j}: \\mathrm{S}^i W \\otimes \\mathrm{S}^j W \\to \\mathrm{S}^{i+j} W$ goes beyond the augmented character table and needs the associator and braiding of $\\mathrm{srep}_k(S_4)_+$.\n",
    "For computing them we currently still need an explicit irreducible representation affording each irreducible character.\n"
   ]
  },
  {
   "cell_type": "code",
   "execution_count": 26,
   "id": "1317b048",
   "metadata": {
    "scrolled": true
   },
   "outputs": [
    {
     "data": {
      "text/latex": [
       "$$\\left( \\begin{array}{r}\n",
       " 1 \n",
       "\\end{array} \\right) χ^{\\{1\\}}$$"
      ],
      "text/plain": [
       "GAP: degree: 1\n",
       "\n",
       "Component: (χ)\n",
       "\n",
       "1\n",
       "\n",
       "A morphism in Category of matrices over Q\n",
       "\n",
       "------------------------\n"
      ]
     },
     "execution_count": 26,
     "metadata": {},
     "output_type": "execute_result"
    }
   ],
   "source": [
    "χ¹ = InternalElement( SW, χ, 1, 1 )"
   ]
  },
  {
   "cell_type": "code",
   "execution_count": 27,
   "id": "625d1074",
   "metadata": {},
   "outputs": [
    {
     "data": {
      "text/latex": [
       "$$\\left( \\begin{array}{r}\n",
       " 1 \n",
       "\\end{array} \\right) ρ^{\\{2\\}}$$"
      ],
      "text/plain": [
       "GAP: degree: 2\n",
       "\n",
       "Component: (ρ)\n",
       "\n",
       "1\n",
       "\n",
       "A morphism in Category of matrices over Q\n",
       "\n",
       "------------------------\n"
      ]
     },
     "execution_count": 27,
     "metadata": {},
     "output_type": "execute_result"
    }
   ],
   "source": [
    "ρ² = InternalElement( SW, ρ, 2, 1 )"
   ]
  },
  {
   "cell_type": "code",
   "execution_count": 28,
   "id": "749726cb",
   "metadata": {},
   "outputs": [
    {
     "data": {
      "text/latex": [
       "$$\\left( \\begin{array}{r}\n",
       " 1 \n",
       "\\end{array} \\right) ν^{\\{2\\}}$$"
      ],
      "text/plain": [
       "GAP: degree: 2\n",
       "\n",
       "Component: (ν)\n",
       "\n",
       "1\n",
       "\n",
       "A morphism in Category of matrices over Q\n",
       "\n",
       "------------------------\n"
      ]
     },
     "execution_count": 28,
     "metadata": {},
     "output_type": "execute_result"
    }
   ],
   "source": [
    "ν² = InternalElement( SW, ν, 2, 1 )"
   ]
  },
  {
   "cell_type": "code",
   "execution_count": 29,
   "id": "d8d7f458",
   "metadata": {},
   "outputs": [
    {
     "data": {
      "text/latex": [
       "$$\\left( \\begin{array}{r}\n",
       " 1 \n",
       "\\end{array} \\right) ν^{\\{3\\}}$$"
      ],
      "text/plain": [
       "GAP: degree: 3\n",
       "\n",
       "Component: (ν)\n",
       "\n",
       "1\n",
       "\n",
       "A morphism in Category of matrices over Q\n",
       "\n",
       "------------------------\n"
      ]
     },
     "execution_count": 29,
     "metadata": {},
     "output_type": "execute_result"
    }
   ],
   "source": [
    "ν³ = InternalElement( SW, ν, 3, 1 )"
   ]
  },
  {
   "cell_type": "markdown",
   "id": "b0d4968f",
   "metadata": {},
   "source": [
    "---\n",
    "Computing products of elements in $(\\mathrm{S}W)^\\in$ we get in primitive decomposition:"
   ]
  },
  {
   "cell_type": "code",
   "execution_count": 30,
   "id": "61354b87",
   "metadata": {},
   "outputs": [
    {
     "data": {
      "text/latex": [
       "$$\\left( \\begin{array}{r}\n",
       " 1 \n",
       "\\end{array} \\right) ρ^{\\{2\\}}\n",
       "+\n",
       "\\left( \\begin{array}{r}\n",
       " 1 \n",
       "\\end{array} \\right) ν^{\\{2\\}}\n",
       "+\n",
       "\\left( \\begin{array}{r}\n",
       " 1 \n",
       "\\end{array} \\right) 𝟙^{\\{2\\}}$$"
      ],
      "text/plain": [
       "GAP: degree: 2\n",
       "\n",
       "Component: (ρ)\n",
       "\n",
       "1\n",
       "\n",
       "A morphism in Category of matrices over Q\n",
       "\n",
       "------------------------\n",
       "Component: (ν)\n",
       "\n",
       "1\n",
       "\n",
       "A morphism in Category of matrices over Q\n",
       "\n",
       "------------------------\n",
       "Component: (𝟙)\n",
       "\n",
       "1\n",
       "\n",
       "A morphism in Category of matrices over Q\n",
       "\n",
       "------------------------\n"
      ]
     },
     "execution_count": 30,
     "metadata": {},
     "output_type": "execute_result"
    }
   ],
   "source": [
    "χ¹ * χ¹"
   ]
  },
  {
   "cell_type": "code",
   "execution_count": 31,
   "id": "ceb54dbc",
   "metadata": {},
   "outputs": [
    {
     "data": {
      "text/latex": [
       "$$\\left( \\begin{array}{r}\n",
       " 1 \n",
       "\\end{array} \\right) σ^{\\{3\\}}\n",
       "+\n",
       "\\left( \\begin{array}{rr}\n",
       " 5 & 3 \n",
       "\\end{array} \\right) χ^{\\{3\\}}\n",
       "+\n",
       "\\left( \\begin{array}{r}\n",
       " 3 \n",
       "\\end{array} \\right) ν^{\\{3\\}}$$"
      ],
      "text/plain": [
       "GAP: degree: 3\n",
       "\n",
       "Component: (σ)\n",
       "\n",
       "1\n",
       "\n",
       "A morphism in Category of matrices over Q\n",
       "\n",
       "------------------------\n",
       "Component: (χ)\n",
       "\n",
       "5,3\n",
       "\n",
       "A morphism in Category of matrices over Q\n",
       "\n",
       "------------------------\n",
       "Component: (ν)\n",
       "\n",
       "3\n",
       "\n",
       "A morphism in Category of matrices over Q\n",
       "\n",
       "------------------------\n"
      ]
     },
     "execution_count": 31,
     "metadata": {},
     "output_type": "execute_result"
    }
   ],
   "source": [
    "χ¹ * (χ¹ * χ¹)"
   ]
  },
  {
   "cell_type": "code",
   "execution_count": 32,
   "id": "512840d0",
   "metadata": {},
   "outputs": [
    {
     "data": {
      "text/plain": [
       "true"
      ]
     },
     "execution_count": 32,
     "metadata": {},
     "output_type": "execute_result"
    }
   ],
   "source": [
    "χ¹ * (χ¹ * χ¹) == (χ¹ * χ¹) * χ¹"
   ]
  },
  {
   "cell_type": "code",
   "execution_count": 33,
   "id": "20bbc7aa",
   "metadata": {},
   "outputs": [
    {
     "data": {
      "text/latex": [
       "$$\\left( \\begin{array}{rr}\n",
       " \\cdot & 2 \n",
       "\\end{array} \\right) χ^{\\{3\\}}\n",
       "+\n",
       "\\left( \\begin{array}{r}\n",
       " 1 \n",
       "\\end{array} \\right) ν^{\\{3\\}}$$"
      ],
      "text/plain": [
       "GAP: degree: 3\n",
       "\n",
       "Component: (χ)\n",
       "\n",
       "0,2\n",
       "\n",
       "A morphism in Category of matrices over Q\n",
       "\n",
       "------------------------\n",
       "Component: (ν)\n",
       "\n",
       "1\n",
       "\n",
       "A morphism in Category of matrices over Q\n",
       "\n",
       "------------------------\n"
      ]
     },
     "execution_count": 33,
     "metadata": {},
     "output_type": "execute_result"
    }
   ],
   "source": [
    "χ¹ * ρ²"
   ]
  },
  {
   "cell_type": "code",
   "execution_count": 34,
   "id": "f2820924",
   "metadata": {},
   "outputs": [
    {
     "data": {
      "text/plain": [
       "true"
      ]
     },
     "execution_count": 34,
     "metadata": {},
     "output_type": "execute_result"
    }
   ],
   "source": [
    "χ¹ * ρ² == ρ² * χ¹"
   ]
  },
  {
   "cell_type": "code",
   "execution_count": 35,
   "id": "022238f2",
   "metadata": {},
   "outputs": [
    {
     "data": {
      "text/latex": [
       "$$\\left( \\begin{array}{r}\n",
       " 1 \n",
       "\\end{array} \\right) σ^{\\{3\\}}\n",
       "+\n",
       "\\left( \\begin{array}{rr}\n",
       " 8 & \\cdot \n",
       "\\end{array} \\right) χ^{\\{3\\}}\n",
       "+\n",
       "\\left( \\begin{array}{r}\n",
       " 2 \n",
       "\\end{array} \\right) ν^{\\{3\\}}$$"
      ],
      "text/plain": [
       "GAP: degree: 3\n",
       "\n",
       "Component: (σ)\n",
       "\n",
       "1\n",
       "\n",
       "A morphism in Category of matrices over Q\n",
       "\n",
       "------------------------\n",
       "Component: (χ)\n",
       "\n",
       "8,0\n",
       "\n",
       "A morphism in Category of matrices over Q\n",
       "\n",
       "------------------------\n",
       "Component: (ν)\n",
       "\n",
       "2\n",
       "\n",
       "A morphism in Category of matrices over Q\n",
       "\n",
       "------------------------\n"
      ]
     },
     "execution_count": 35,
     "metadata": {},
     "output_type": "execute_result"
    }
   ],
   "source": [
    "χ¹ * ν²"
   ]
  },
  {
   "cell_type": "code",
   "execution_count": 36,
   "id": "b3b2cefe",
   "metadata": {},
   "outputs": [
    {
     "data": {
      "text/plain": [
       "true"
      ]
     },
     "execution_count": 36,
     "metadata": {},
     "output_type": "execute_result"
    }
   ],
   "source": [
    "χ¹ * ν² == ν² * χ¹"
   ]
  },
  {
   "cell_type": "code",
   "execution_count": 37,
   "id": "a696238d",
   "metadata": {},
   "outputs": [
    {
     "data": {
      "text/latex": [
       "$$\\left( \\begin{array}{r}\n",
       " -2 \n",
       "\\end{array} \\right) χ^{\\{4\\}}\n",
       "+\n",
       "\\left( \\begin{array}{rr}\n",
       " 3 & -31 \n",
       "\\end{array} \\right) ρ^{\\{4\\}}\n",
       "+\n",
       "\\left( \\begin{array}{rr}\n",
       " 5 & 6 \n",
       "\\end{array} \\right) ν^{\\{4\\}}\n",
       "+\n",
       "\\left( \\begin{array}{rr}\n",
       " 5 & 3 \n",
       "\\end{array} \\right) 𝟙^{\\{4\\}}$$"
      ],
      "text/plain": [
       "GAP: degree: 4\n",
       "\n",
       "Component: (χ)\n",
       "\n",
       "-2\n",
       "\n",
       "A morphism in Category of matrices over Q\n",
       "\n",
       "------------------------\n",
       "Component: (ρ)\n",
       "\n",
       "3,-31\n",
       "\n",
       "  ⋮\n",
       "5,6\n",
       "\n",
       "A morphism in Category of matrices over Q\n",
       "\n",
       "------------------------\n",
       "Component: (𝟙)\n",
       "\n",
       "5,3\n",
       "\n",
       "A morphism in Category of matrices over Q\n",
       "\n",
       "------------------------\n"
      ]
     },
     "execution_count": 37,
     "metadata": {},
     "output_type": "execute_result"
    }
   ],
   "source": [
    "χ¹ * (χ¹ * (χ¹ * χ¹))"
   ]
  },
  {
   "cell_type": "code",
   "execution_count": 38,
   "id": "04a89885",
   "metadata": {},
   "outputs": [
    {
     "data": {
      "text/latex": [
       "$$\\left( \\begin{array}{r}\n",
       " 8 \n",
       "\\end{array} \\right) χ^{\\{4\\}}\n",
       "+\n",
       "\\left( \\begin{array}{rr}\n",
       " \\frac{9}{4} & \\frac{43}{4} \n",
       "\\end{array} \\right) ρ^{\\{4\\}}\n",
       "+\n",
       "\\left( \\begin{array}{rr}\n",
       " -16 & -6 \n",
       "\\end{array} \\right) ν^{\\{4\\}}\n",
       "+\n",
       "\\left( \\begin{array}{rr}\n",
       " -7 & \\frac{9}{8} \n",
       "\\end{array} \\right) 𝟙^{\\{4\\}}$$"
      ],
      "text/plain": [
       "GAP: degree: 4\n",
       "\n",
       "Component: (χ)\n",
       "\n",
       "8\n",
       "\n",
       "A morphism in Category of matrices over Q\n",
       "\n",
       "------------------------\n",
       "Component: (ρ)\n",
       "\n",
       "9/4,43/4\n",
       "\n",
       "  ⋮\n",
       "-16,-6\n",
       "\n",
       "A morphism in Category of matrices over Q\n",
       "\n",
       "------------------------\n",
       "Component: (𝟙)\n",
       "\n",
       "-7,9/8\n",
       "\n",
       "A morphism in Category of matrices over Q\n",
       "\n",
       "------------------------\n"
      ]
     },
     "execution_count": 38,
     "metadata": {},
     "output_type": "execute_result"
    }
   ],
   "source": [
    "(χ¹ * χ¹) * (χ¹ * χ¹)"
   ]
  },
  {
   "cell_type": "code",
   "execution_count": 39,
   "id": "89491445",
   "metadata": {},
   "outputs": [
    {
     "data": {
      "text/latex": [
       "$$\\left( \\begin{array}{r}\n",
       " 26 \n",
       "\\end{array} \\right) χ^{\\{4\\}}\n",
       "+\n",
       "\\left( \\begin{array}{rr}\n",
       " 3 & -31 \n",
       "\\end{array} \\right) ρ^{\\{4\\}}\n",
       "+\n",
       "\\left( \\begin{array}{rr}\n",
       " 5 & 6 \n",
       "\\end{array} \\right) ν^{\\{4\\}}\n",
       "+\n",
       "\\left( \\begin{array}{rr}\n",
       " 5 & 3 \n",
       "\\end{array} \\right) 𝟙^{\\{4\\}}$$"
      ],
      "text/plain": [
       "GAP: degree: 4\n",
       "\n",
       "Component: (χ)\n",
       "\n",
       "26\n",
       "\n",
       "A morphism in Category of matrices over Q\n",
       "\n",
       "------------------------\n",
       "Component: (ρ)\n",
       "\n",
       "3,-31\n",
       "\n",
       "  ⋮\n",
       "5,6\n",
       "\n",
       "A morphism in Category of matrices over Q\n",
       "\n",
       "------------------------\n",
       "Component: (𝟙)\n",
       "\n",
       "5,3\n",
       "\n",
       "A morphism in Category of matrices over Q\n",
       "\n",
       "------------------------\n"
      ]
     },
     "execution_count": 39,
     "metadata": {},
     "output_type": "execute_result"
    }
   ],
   "source": [
    "((χ¹ * χ¹) * χ¹) * χ¹"
   ]
  },
  {
   "cell_type": "code",
   "execution_count": 40,
   "id": "0d2982e9",
   "metadata": {},
   "outputs": [
    {
     "data": {
      "text/latex": [
       "$$\\left( \\begin{array}{r}\n",
       " 4 \n",
       "\\end{array} \\right) χ^{\\{4\\}}\n",
       "+\n",
       "\\left( \\begin{array}{rr}\n",
       " \\frac{5}{4} & -\\frac{9}{4} \n",
       "\\end{array} \\right) ρ^{\\{4\\}}\n",
       "+\n",
       "\\left( \\begin{array}{rr}\n",
       " -4 & -4 \n",
       "\\end{array} \\right) ν^{\\{4\\}}\n",
       "+\n",
       "\\left( \\begin{array}{rr}\n",
       " \\cdot & \\frac{1}{8} \n",
       "\\end{array} \\right) 𝟙^{\\{4\\}}$$"
      ],
      "text/plain": [
       "GAP: degree: 4\n",
       "\n",
       "Component: (χ)\n",
       "\n",
       "4\n",
       "\n",
       "A morphism in Category of matrices over Q\n",
       "\n",
       "------------------------\n",
       "Component: (ρ)\n",
       "\n",
       "5/4,-9/4\n",
       "\n",
       "  ⋮\n",
       "-4,-4\n",
       "\n",
       "A morphism in Category of matrices over Q\n",
       "\n",
       "------------------------\n",
       "Component: (𝟙)\n",
       "\n",
       "0,1/8\n",
       "\n",
       "A morphism in Category of matrices over Q\n",
       "\n",
       "------------------------\n"
      ]
     },
     "execution_count": 40,
     "metadata": {},
     "output_type": "execute_result"
    }
   ],
   "source": [
    "(χ¹ * χ¹) * ρ²"
   ]
  },
  {
   "cell_type": "code",
   "execution_count": 41,
   "id": "b544defa",
   "metadata": {},
   "outputs": [
    {
     "data": {
      "text/latex": [
       "$$\\left( \\begin{array}{r}\n",
       " -2 \n",
       "\\end{array} \\right) χ^{\\{4\\}}\n",
       "+\n",
       "\\left( \\begin{array}{rr}\n",
       " 2 & -12 \n",
       "\\end{array} \\right) ρ^{\\{4\\}}\n",
       "+\n",
       "\\left( \\begin{array}{rr}\n",
       " -1 & -1 \n",
       "\\end{array} \\right) ν^{\\{4\\}}\n",
       "+\n",
       "\\left( \\begin{array}{rr}\n",
       " \\cdot & 2 \n",
       "\\end{array} \\right) 𝟙^{\\{4\\}}$$"
      ],
      "text/plain": [
       "GAP: degree: 4\n",
       "\n",
       "Component: (χ)\n",
       "\n",
       "-2\n",
       "\n",
       "A morphism in Category of matrices over Q\n",
       "\n",
       "------------------------\n",
       "Component: (ρ)\n",
       "\n",
       "2,-12\n",
       "\n",
       "  ⋮\n",
       "-1,-1\n",
       "\n",
       "A morphism in Category of matrices over Q\n",
       "\n",
       "------------------------\n",
       "Component: (𝟙)\n",
       "\n",
       "0,2\n",
       "\n",
       "A morphism in Category of matrices over Q\n",
       "\n",
       "------------------------\n"
      ]
     },
     "execution_count": 41,
     "metadata": {},
     "output_type": "execute_result"
    }
   ],
   "source": [
    "χ¹ * (χ¹ * ρ²)"
   ]
  },
  {
   "cell_type": "code",
   "execution_count": 42,
   "id": "90f8ecd2",
   "metadata": {
    "scrolled": false
   },
   "outputs": [
    {
     "data": {
      "text/latex": [
       "$$\\left( \\begin{array}{r}\n",
       " 4 \n",
       "\\end{array} \\right) χ^{\\{4\\}}\n",
       "+\n",
       "\\left( \\begin{array}{rr}\n",
       " \\cdot & 16 \n",
       "\\end{array} \\right) ρ^{\\{4\\}}\n",
       "+\n",
       "\\left( \\begin{array}{rr}\n",
       " -8 & -1 \n",
       "\\end{array} \\right) ν^{\\{4\\}}\n",
       "+\n",
       "\\left( \\begin{array}{rr}\n",
       " -4 & \\cdot \n",
       "\\end{array} \\right) 𝟙^{\\{4\\}}$$"
      ],
      "text/plain": [
       "GAP: degree: 4\n",
       "\n",
       "Component: (χ)\n",
       "\n",
       "4\n",
       "\n",
       "A morphism in Category of matrices over Q\n",
       "\n",
       "------------------------\n",
       "Component: (ρ)\n",
       "\n",
       "0,16\n",
       "\n",
       "  ⋮\n",
       "-8,-1\n",
       "\n",
       "A morphism in Category of matrices over Q\n",
       "\n",
       "------------------------\n",
       "Component: (𝟙)\n",
       "\n",
       "-4,0\n",
       "\n",
       "A morphism in Category of matrices over Q\n",
       "\n",
       "------------------------\n"
      ]
     },
     "execution_count": 42,
     "metadata": {},
     "output_type": "execute_result"
    }
   ],
   "source": [
    "(χ¹ * χ¹) * ν²"
   ]
  },
  {
   "cell_type": "code",
   "execution_count": 43,
   "id": "5e27b52a",
   "metadata": {},
   "outputs": [
    {
     "data": {
      "text/latex": [
       "$$\\left( \\begin{array}{r}\n",
       " 4 \n",
       "\\end{array} \\right) χ^{\\{4\\}}\n",
       "+\n",
       "\\left( \\begin{array}{rr}\n",
       " \\cdot & -12 \n",
       "\\end{array} \\right) ρ^{\\{4\\}}\n",
       "+\n",
       "\\left( \\begin{array}{rr}\n",
       " 1 & 1 \n",
       "\\end{array} \\right) ν^{\\{4\\}}$$"
      ],
      "text/plain": [
       "GAP: degree: 4\n",
       "\n",
       "Component: (χ)\n",
       "\n",
       "4\n",
       "\n",
       "A morphism in Category of matrices over Q\n",
       "\n",
       "------------------------\n",
       "Component: (ρ)\n",
       "\n",
       "0,-12\n",
       "\n",
       "A morphism in Category of matrices over Q\n",
       "\n",
       "------------------------\n",
       "Component: (ν)\n",
       "\n",
       "1,1\n",
       "\n",
       "A morphism in Category of matrices over Q\n",
       "\n",
       "------------------------\n"
      ]
     },
     "execution_count": 43,
     "metadata": {},
     "output_type": "execute_result"
    }
   ],
   "source": [
    "χ¹ * ν³"
   ]
  },
  {
   "cell_type": "code",
   "execution_count": 44,
   "id": "f70bbe8d",
   "metadata": {},
   "outputs": [
    {
     "data": {
      "text/plain": [
       "true"
      ]
     },
     "execution_count": 44,
     "metadata": {},
     "output_type": "execute_result"
    }
   ],
   "source": [
    "χ¹ * ν³ == ν³ * χ¹"
   ]
  },
  {
   "cell_type": "markdown",
   "id": "d2718cfb",
   "metadata": {},
   "source": [
    "We see from the above computations that"
   ]
  },
  {
   "cell_type": "code",
   "execution_count": 45,
   "id": "684193bd",
   "metadata": {},
   "outputs": [
    {
     "data": {
      "text/plain": [
       "true"
      ]
     },
     "execution_count": 45,
     "metadata": {},
     "output_type": "execute_result"
    }
   ],
   "source": [
    "χ¹ * (χ¹ * (χ¹ * χ¹)) ≠ ((χ¹ * χ¹) * χ¹) * χ¹"
   ]
  },
  {
   "cell_type": "markdown",
   "id": "3166a2ea",
   "metadata": {},
   "source": [
    "so, as expected, the product is neither associative nor commutative as each of the two properties would imply equality.\n"
   ]
  }
 ],
 "metadata": {
  "@webio": {
   "lastCommId": null,
   "lastKernelId": null
  },
  "kernelspec": {
   "display_name": "Julia 1.12.1",
   "language": "julia",
   "name": "julia-1.12"
  },
  "language_info": {
   "file_extension": ".jl",
   "mimetype": "application/julia",
   "name": "julia",
   "version": "1.12.1"
  }
 },
 "nbformat": 4,
 "nbformat_minor": 5
}
