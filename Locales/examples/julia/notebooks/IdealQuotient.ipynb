{
 "cells": [
  {
   "cell_type": "code",
   "execution_count": 1,
   "metadata": {},
   "outputs": [
    {
     "name": "stdout",
     "output_type": "stream",
     "text": [
      "CapAndHomalg v\u001b[32m1.6.4\u001b[39m\n",
      "Imported OSCAR's components GAP and Singular_jll\n",
      "Type: ?CapAndHomalg for more information\n"
     ]
    }
   ],
   "source": [
    "using CapAndHomalg"
   ]
  },
  {
   "cell_type": "code",
   "execution_count": 2,
   "metadata": {},
   "outputs": [],
   "source": [
    "LoadPackage( \"FreydCategoriesForCAP\" )"
   ]
  },
  {
   "cell_type": "code",
   "execution_count": 3,
   "metadata": {},
   "outputs": [],
   "source": [
    "LoadPackage( \"SubcategoriesForCAP\" )"
   ]
  },
  {
   "cell_type": "code",
   "execution_count": 4,
   "metadata": {},
   "outputs": [],
   "source": [
    "LoadPackage( \"Locales\" )"
   ]
  },
  {
   "cell_type": "code",
   "execution_count": 5,
   "metadata": {},
   "outputs": [],
   "source": [
    "LoadPackage( \"LazyCategories\" )"
   ]
  },
  {
   "cell_type": "code",
   "execution_count": 6,
   "metadata": {},
   "outputs": [
    {
     "data": {
      "text/plain": [
       "GAP: Q"
      ]
     },
     "execution_count": 6,
     "metadata": {},
     "output_type": "execute_result"
    }
   ],
   "source": [
    "Q = HomalgFieldOfRationalsInSingular( )"
   ]
  },
  {
   "cell_type": "code",
   "execution_count": 7,
   "metadata": {},
   "outputs": [
    {
     "data": {
      "text/plain": [
       "GAP: Q[x,y]"
      ]
     },
     "execution_count": 7,
     "metadata": {},
     "output_type": "execute_result"
    }
   ],
   "source": [
    "R = Q[\"x,y\"]"
   ]
  },
  {
   "cell_type": "code",
   "execution_count": 8,
   "metadata": {},
   "outputs": [
    {
     "data": {
      "text/plain": [
       "GAP: <A 2 x 1 matrix over an external ring>"
      ]
     },
     "execution_count": 8,
     "metadata": {},
     "output_type": "execute_result"
    }
   ],
   "source": [
    "K = HomalgMatrix( \"[ x, -x ]\", 2, 1, R )"
   ]
  },
  {
   "cell_type": "code",
   "execution_count": 9,
   "metadata": {},
   "outputs": [
    {
     "data": {
      "text/plain": [
       "GAP: <A 2 x 1 matrix over an external ring>"
      ]
     },
     "execution_count": 9,
     "metadata": {},
     "output_type": "execute_result"
    }
   ],
   "source": [
    "J = HomalgMatrix( \"[ x, y ]\", 2, 1, R )"
   ]
  },
  {
   "cell_type": "code",
   "execution_count": 10,
   "metadata": {},
   "outputs": [
    {
     "data": {
      "text/plain": [
       "GAP: <An unevaluated 4 x 1 matrix over an external ring>"
      ]
     },
     "execution_count": 10,
     "metadata": {},
     "output_type": "execute_result"
    }
   ],
   "source": [
    "I = KroneckerMat( K, J )"
   ]
  },
  {
   "cell_type": "code",
   "execution_count": 11,
   "metadata": {},
   "outputs": [
    {
     "data": {
      "text/plain": [
       "GAP: Rows( Q[x,y] )"
      ]
     },
     "execution_count": 11,
     "metadata": {},
     "output_type": "execute_result"
    }
   ],
   "source": [
    "P = CategoryOfRows( R )"
   ]
  },
  {
   "cell_type": "code",
   "execution_count": 12,
   "metadata": {},
   "outputs": [
    {
     "data": {
      "text/plain": [
       "GAP: LazyCategory( Rows( Q[x,y] ) )"
      ]
     },
     "execution_count": 12,
     "metadata": {},
     "output_type": "execute_result"
    }
   ],
   "source": [
    "P = LazyCategory( P, show_evaluation = true )"
   ]
  },
  {
   "cell_type": "code",
   "execution_count": 13,
   "metadata": {},
   "outputs": [
    {
     "data": {
      "text/plain": [
       "GAP: <An evaluated morphism in LazyCategory( Rows( Q[x,y] ) )>"
      ]
     },
     "execution_count": 13,
     "metadata": {},
     "output_type": "execute_result"
    }
   ],
   "source": [
    "I = I / P"
   ]
  },
  {
   "cell_type": "code",
   "execution_count": 14,
   "metadata": {},
   "outputs": [],
   "source": [
    "SetLabel( I, \"I\" ); SetLabel( Source( I ), \"R^i\" )"
   ]
  },
  {
   "cell_type": "code",
   "execution_count": 15,
   "metadata": {},
   "outputs": [
    {
     "data": {
      "text/plain": [
       "GAP: <An evaluated object in LazyCategory( Rows( Q[x,y] ) )>"
      ]
     },
     "execution_count": 15,
     "metadata": {},
     "output_type": "execute_result"
    }
   ],
   "source": [
    "R = Target( I )"
   ]
  },
  {
   "cell_type": "code",
   "execution_count": 16,
   "metadata": {},
   "outputs": [],
   "source": [
    "SetLabel( R, \"R\" )"
   ]
  },
  {
   "cell_type": "code",
   "execution_count": 17,
   "metadata": {},
   "outputs": [
    {
     "data": {
      "text/plain": [
       "GAP: <An evaluated morphism in LazyCategory( Rows( Q[x,y] ) )>"
      ]
     },
     "execution_count": 17,
     "metadata": {},
     "output_type": "execute_result"
    }
   ],
   "source": [
    "J = J / P"
   ]
  },
  {
   "cell_type": "code",
   "execution_count": 18,
   "metadata": {},
   "outputs": [],
   "source": [
    "SetLabel( J, \"J\" ); SetLabel( Source( J ), \"R^j\" )"
   ]
  },
  {
   "cell_type": "code",
   "execution_count": 19,
   "metadata": {},
   "outputs": [
    {
     "data": {
      "text/plain": [
       "GAP: <An evaluated morphism in LazyCategory( Rows( Q[x,y] ) )>"
      ]
     },
     "execution_count": 19,
     "metadata": {},
     "output_type": "execute_result"
    }
   ],
   "source": [
    "K = K / P"
   ]
  },
  {
   "cell_type": "code",
   "execution_count": 20,
   "metadata": {},
   "outputs": [
    {
     "data": {
      "text/plain": [
       "GAP: SliceCategoryOverTensorUnit( LazyCategory( Rows( Q[x,y] ) ) )"
      ]
     },
     "execution_count": 20,
     "metadata": {},
     "output_type": "execute_result"
    }
   ],
   "source": [
    "S = SliceCategoryOverTensorUnit( P )"
   ]
  },
  {
   "cell_type": "code",
   "execution_count": 21,
   "metadata": {},
   "outputs": [
    {
     "data": {
      "text/plain": [
       "GAP: PosetOfCategory( SliceCategoryOverTensorUnit( LazyCategory( Rows( Q[x,y] ) ) ) )"
      ]
     },
     "execution_count": 21,
     "metadata": {},
     "output_type": "execute_result"
    }
   ],
   "source": [
    "L = PosetOfCategory( S )"
   ]
  },
  {
   "cell_type": "code",
   "execution_count": 22,
   "metadata": {},
   "outputs": [
    {
     "data": {
      "text/plain": [
       "GAP: An object in the poset given by: An object in the slice category given by: <An evaluated morphism in LazyCatego\\\n",
       "ry( Rows( Q[x,y] ) )>"
      ]
     },
     "execution_count": 22,
     "metadata": {},
     "output_type": "execute_result"
    }
   ],
   "source": [
    "I = I / S / L"
   ]
  },
  {
   "cell_type": "code",
   "execution_count": 23,
   "metadata": {},
   "outputs": [
    {
     "data": {
      "text/plain": [
       "GAP: An object in the poset given by: An object in the slice category given by: <An evaluated morphism in LazyCatego\\\n",
       "ry( Rows( Q[x,y] ) )>"
      ]
     },
     "execution_count": 23,
     "metadata": {},
     "output_type": "execute_result"
    }
   ],
   "source": [
    "J = J / S / L"
   ]
  },
  {
   "cell_type": "code",
   "execution_count": 24,
   "metadata": {},
   "outputs": [
    {
     "data": {
      "text/plain": [
       "GAP: An object in the poset given by: An object in the slice category given by: <An evaluated morphism in LazyCatego\\\n",
       "ry( Rows( Q[x,y] ) )>"
      ]
     },
     "execution_count": 24,
     "metadata": {},
     "output_type": "execute_result"
    }
   ],
   "source": [
    "K = K / S / L"
   ]
  },
  {
   "cell_type": "code",
   "execution_count": 25,
   "metadata": {},
   "outputs": [
    {
     "data": {
      "text/plain": [
       "GAP: An object in the poset given by: An object in the slice category given by: <A morphism in LazyCategory( Rows( Q\\\n",
       "[x,y] ) )>"
      ]
     },
     "execution_count": 25,
     "metadata": {},
     "output_type": "execute_result"
    }
   ],
   "source": [
    "IqJ = InternalHom( J, I )"
   ]
  },
  {
   "cell_type": "code",
   "execution_count": 26,
   "metadata": {
    "scrolled": false
   },
   "outputs": [
    {
     "data": {
      "image/svg+xml": [
       "<?xml version=\"1.0\" encoding=\"UTF-8\" standalone=\"no\"?>\n",
       "<!DOCTYPE svg PUBLIC \"-//W3C//DTD SVG 1.1//EN\"\n",
       " \"http://www.w3.org/Graphics/SVG/1.1/DTD/svg11.dtd\">\n",
       "<!-- Generated by graphviz version 2.50.0 (20211204.2007)\n",
       " -->\n",
       "<!-- Title: DigraphOfEvaluation Pages: 1 -->\n",
       "<svg width=\"972pt\" height=\"715pt\"\n",
       " viewBox=\"0.00 0.00 972.28 715.00\" xmlns=\"http://www.w3.org/2000/svg\" xmlns:xlink=\"http://www.w3.org/1999/xlink\">\n",
       "<g id=\"graph0\" class=\"graph\" transform=\"scale(1 1) rotate(0) translate(4 711)\">\n",
       "<title>DigraphOfEvaluation</title>\n",
       "<polygon fill=\"white\" stroke=\"transparent\" points=\"-4,4 -4,-711 968.28,-711 968.28,4 -4,4\"/>\n",
       "<!-- 1 -->\n",
       "<g id=\"node1\" class=\"node\">\n",
       "<title>1</title>\n",
       "<polygon fill=\"none\" stroke=\"black\" points=\"265.28,-692 187.28,-692 187.28,-654 265.28,-654 265.28,-692\"/>\n",
       "<text text-anchor=\"middle\" x=\"226.28\" y=\"-676.8\" font-family=\"Times,serif\" font-size=\"14.00\">[1]</text>\n",
       "<text text-anchor=\"middle\" x=\"226.28\" y=\"-661.8\" font-family=\"Times,serif\" font-size=\"14.00\">TensorUnit</text>\n",
       "</g>\n",
       "<!-- 2 -->\n",
       "<g id=\"node2\" class=\"node\">\n",
       "<title>2</title>\n",
       "<polygon fill=\"none\" stroke=\"black\" points=\"198.28,-573 44.28,-573 44.28,-535 198.28,-535 198.28,-573\"/>\n",
       "<text text-anchor=\"middle\" x=\"121.28\" y=\"-557.8\" font-family=\"Times,serif\" font-size=\"14.00\">[2]</text>\n",
       "<text text-anchor=\"middle\" x=\"121.28\" y=\"-542.8\" font-family=\"Times,serif\" font-size=\"14.00\">TensorProductOnObjects</text>\n",
       "</g>\n",
       "<!-- 1&#45;&gt;2 -->\n",
       "<g id=\"edge1\" class=\"edge\">\n",
       "<title>1&#45;&gt;2</title>\n",
       "<path fill=\"none\" stroke=\"black\" d=\"M205.07,-653.98C185.61,-634.54 157.43,-603.4 139.1,-581.25\"/>\n",
       "<polygon fill=\"black\" stroke=\"black\" points=\"141.61,-578.79 132.59,-573.24 136.18,-583.21 141.61,-578.79\"/>\n",
       "</g>\n",
       "<!-- 1&#45;&gt;2 -->\n",
       "<g id=\"edge2\" class=\"edge\">\n",
       "<title>1&#45;&gt;2</title>\n",
       "<path fill=\"none\" stroke=\"black\" d=\"M215.14,-653.98C199.51,-634.28 171.28,-602.58 149.73,-580.37\"/>\n",
       "<polygon fill=\"black\" stroke=\"black\" points=\"152.22,-577.91 142.71,-573.24 147.23,-582.82 152.22,-577.91\"/>\n",
       "</g>\n",
       "<!-- 5 -->\n",
       "<g id=\"node5\" class=\"node\">\n",
       "<title>5</title>\n",
       "<polygon fill=\"none\" stroke=\"black\" points=\"448.28,-580.5 374.28,-580.5 374.28,-527.5 448.28,-527.5 448.28,-580.5\"/>\n",
       "<text text-anchor=\"middle\" x=\"411.28\" y=\"-565.3\" font-family=\"Times,serif\" font-size=\"14.00\">[5]</text>\n",
       "<text text-anchor=\"middle\" x=\"411.28\" y=\"-550.3\" font-family=\"Times,serif\" font-size=\"14.00\">Identity</text>\n",
       "<text text-anchor=\"middle\" x=\"411.28\" y=\"-535.3\" font-family=\"Times,serif\" font-size=\"14.00\">Morphism</text>\n",
       "</g>\n",
       "<!-- 1&#45;&gt;5 -->\n",
       "<g id=\"edge3\" class=\"edge\">\n",
       "<title>1&#45;&gt;5</title>\n",
       "<path fill=\"none\" stroke=\"black\" d=\"M257.91,-653.84C286.37,-637.28 329.15,-611.83 365.28,-588 366.19,-587.4 367.1,-586.8 368.01,-586.19\"/>\n",
       "<polygon fill=\"black\" stroke=\"black\" points=\"370.04,-589.04 376.32,-580.51 366.09,-583.26 370.04,-589.04\"/>\n",
       "</g>\n",
       "<!-- 7 -->\n",
       "<g id=\"node7\" class=\"node\">\n",
       "<title>7</title>\n",
       "<polygon fill=\"none\" stroke=\"black\" points=\"356.28,-580.5 254.28,-580.5 254.28,-527.5 356.28,-527.5 356.28,-580.5\"/>\n",
       "<text text-anchor=\"middle\" x=\"305.28\" y=\"-565.3\" font-family=\"Times,serif\" font-size=\"14.00\">[7]</text>\n",
       "<text text-anchor=\"middle\" x=\"305.28\" y=\"-550.3\" font-family=\"Times,serif\" font-size=\"14.00\">Internal</text>\n",
       "<text text-anchor=\"middle\" x=\"305.28\" y=\"-535.3\" font-family=\"Times,serif\" font-size=\"14.00\">HomOnObjects</text>\n",
       "</g>\n",
       "<!-- 1&#45;&gt;7 -->\n",
       "<g id=\"edge4\" class=\"edge\">\n",
       "<title>1&#45;&gt;7</title>\n",
       "<path fill=\"none\" stroke=\"black\" d=\"M233.42,-653.98C243.31,-636.66 260.89,-610.06 276.28,-588.8\"/>\n",
       "<polygon fill=\"black\" stroke=\"black\" points=\"279.17,-590.78 282.27,-580.65 273.53,-586.63 279.17,-590.78\"/>\n",
       "</g>\n",
       "<!-- 1&#45;&gt;7 -->\n",
       "<g id=\"edge5\" class=\"edge\">\n",
       "<title>1&#45;&gt;7</title>\n",
       "<path fill=\"none\" stroke=\"black\" d=\"M243.49,-653.98C256.86,-636.81 275,-610.53 288.29,-589.37\"/>\n",
       "<polygon fill=\"black\" stroke=\"black\" points=\"291.4,-591 293.66,-580.65 285.44,-587.32 291.4,-591\"/>\n",
       "</g>\n",
       "<!-- 8 -->\n",
       "<g id=\"node8\" class=\"node\">\n",
       "<title>8</title>\n",
       "<polygon fill=\"none\" stroke=\"black\" points=\"169.28,-469 73.28,-469 73.28,-401 169.28,-401 169.28,-469\"/>\n",
       "<text text-anchor=\"middle\" x=\"121.28\" y=\"-453.8\" font-family=\"Times,serif\" font-size=\"14.00\">[8]</text>\n",
       "<text text-anchor=\"middle\" x=\"121.28\" y=\"-438.8\" font-family=\"Times,serif\" font-size=\"14.00\">LeftUnitor</text>\n",
       "<text text-anchor=\"middle\" x=\"121.28\" y=\"-423.8\" font-family=\"Times,serif\" font-size=\"14.00\">WithGiven</text>\n",
       "<text text-anchor=\"middle\" x=\"121.28\" y=\"-408.8\" font-family=\"Times,serif\" font-size=\"14.00\">TensorProduct</text>\n",
       "</g>\n",
       "<!-- 1&#45;&gt;8 -->\n",
       "<g id=\"edge6\" class=\"edge\">\n",
       "<title>1&#45;&gt;8</title>\n",
       "<path fill=\"none\" stroke=\"black\" d=\"M186.95,-667.98C140.03,-660.84 63.53,-641.24 28.28,-588 11.6,-562.8 16.01,-547.62 28.28,-520 36.33,-501.88 50.43,-486.02 65.26,-473.1\"/>\n",
       "<polygon fill=\"black\" stroke=\"black\" points=\"67.6,-475.71 73.05,-466.62 63.12,-470.33 67.6,-475.71\"/>\n",
       "<text text-anchor=\"middle\" x=\"31.78\" y=\"-550.3\" font-family=\"Times,serif\" font-size=\"14.00\">1</text>\n",
       "</g>\n",
       "<!-- 9 -->\n",
       "<g id=\"node9\" class=\"node\">\n",
       "<title>9</title>\n",
       "<polygon fill=\"none\" stroke=\"black\" points=\"660.28,-580.5 558.28,-580.5 558.28,-527.5 660.28,-527.5 660.28,-580.5\"/>\n",
       "<text text-anchor=\"middle\" x=\"609.28\" y=\"-565.3\" font-family=\"Times,serif\" font-size=\"14.00\">[9]</text>\n",
       "<text text-anchor=\"middle\" x=\"609.28\" y=\"-550.3\" font-family=\"Times,serif\" font-size=\"14.00\">Internal</text>\n",
       "<text text-anchor=\"middle\" x=\"609.28\" y=\"-535.3\" font-family=\"Times,serif\" font-size=\"14.00\">HomOnObjects</text>\n",
       "</g>\n",
       "<!-- 1&#45;&gt;9 -->\n",
       "<g id=\"edge9\" class=\"edge\">\n",
       "<title>1&#45;&gt;9</title>\n",
       "<path fill=\"none\" stroke=\"black\" d=\"M265.3,-665.11C327.03,-653.49 450.36,-627.36 549.28,-588 551.65,-587.06 554.04,-586.04 556.44,-584.97\"/>\n",
       "<polygon fill=\"black\" stroke=\"black\" points=\"558.11,-588.05 565.65,-580.61 555.12,-581.73 558.11,-588.05\"/>\n",
       "<text text-anchor=\"middle\" x=\"500.78\" y=\"-609.8\" font-family=\"Times,serif\" font-size=\"14.00\">2</text>\n",
       "</g>\n",
       "<!-- 14 -->\n",
       "<g id=\"node14\" class=\"node\">\n",
       "<title>14</title>\n",
       "<polygon fill=\"none\" stroke=\"black\" points=\"378.78,-350 73.78,-350 73.78,-297 378.78,-297 378.78,-350\"/>\n",
       "<text text-anchor=\"middle\" x=\"226.28\" y=\"-334.8\" font-family=\"Times,serif\" font-size=\"14.00\">[14]</text>\n",
       "<text text-anchor=\"middle\" x=\"226.28\" y=\"-319.8\" font-family=\"Times,serif\" font-size=\"14.00\">TensorProductToInternalHomLeftAdjunctMorphism</text>\n",
       "<text text-anchor=\"middle\" x=\"226.28\" y=\"-304.8\" font-family=\"Times,serif\" font-size=\"14.00\">WithGivenInternalHom</text>\n",
       "</g>\n",
       "<!-- 1&#45;&gt;14 -->\n",
       "<g id=\"edge17\" class=\"edge\">\n",
       "<title>1&#45;&gt;14</title>\n",
       "<path fill=\"none\" stroke=\"black\" d=\"M187.02,-671.98C132.34,-669.46 37.27,-655.2 13.28,-588 -15.68,-506.87 4.48,-463.01 64.28,-401 83.51,-381.06 108.97,-365.74 133.99,-354.23\"/>\n",
       "<polygon fill=\"black\" stroke=\"black\" points=\"135.45,-357.41 143.18,-350.16 132.62,-351.01 135.45,-357.41\"/>\n",
       "<text text-anchor=\"middle\" x=\"9.78\" y=\"-490.8\" font-family=\"Times,serif\" font-size=\"14.00\">1</text>\n",
       "</g>\n",
       "<!-- 1&#45;&gt;14 -->\n",
       "<g id=\"edge18\" class=\"edge\">\n",
       "<title>1&#45;&gt;14</title>\n",
       "<path fill=\"none\" stroke=\"black\" d=\"M226.28,-653.81C226.28,-598.83 226.28,-433.74 226.28,-360.34\"/>\n",
       "<polygon fill=\"black\" stroke=\"black\" points=\"229.78,-360.21 226.28,-350.21 222.78,-360.21 229.78,-360.21\"/>\n",
       "<text text-anchor=\"middle\" x=\"229.78\" y=\"-490.8\" font-family=\"Times,serif\" font-size=\"14.00\">2</text>\n",
       "</g>\n",
       "<!-- 2&#45;&gt;8 -->\n",
       "<g id=\"edge7\" class=\"edge\">\n",
       "<title>2&#45;&gt;8</title>\n",
       "<path fill=\"none\" stroke=\"black\" d=\"M121.28,-534.98C121.28,-520.2 121.28,-498.66 121.28,-479.44\"/>\n",
       "<polygon fill=\"black\" stroke=\"black\" points=\"124.78,-479.36 121.28,-469.36 117.78,-479.36 124.78,-479.36\"/>\n",
       "<text text-anchor=\"middle\" x=\"124.78\" y=\"-490.8\" font-family=\"Times,serif\" font-size=\"14.00\">2</text>\n",
       "</g>\n",
       "<!-- 3 -->\n",
       "<g id=\"node3\" class=\"node\">\n",
       "<title>3</title>\n",
       "<polygon fill=\"none\" stroke=\"black\" points=\"875.78,-707 808.78,-707 808.78,-639 875.78,-639 875.78,-707\"/>\n",
       "<text text-anchor=\"middle\" x=\"842.28\" y=\"-691.8\" font-family=\"Times,serif\" font-size=\"14.00\">[3]</text>\n",
       "<text text-anchor=\"middle\" x=\"842.28\" y=\"-676.8\" font-family=\"Times,serif\" font-size=\"14.00\">primitive</text>\n",
       "<text text-anchor=\"middle\" x=\"842.28\" y=\"-661.8\" font-family=\"Times,serif\" font-size=\"14.00\">object</text>\n",
       "<text text-anchor=\"middle\" x=\"842.28\" y=\"-646.8\" font-family=\"Times,serif\" font-size=\"14.00\">&lt;R^i&gt;</text>\n",
       "</g>\n",
       "<!-- 12 -->\n",
       "<g id=\"node12\" class=\"node\">\n",
       "<title>12</title>\n",
       "<polygon fill=\"none\" stroke=\"black\" points=\"872.28,-580.5 770.28,-580.5 770.28,-527.5 872.28,-527.5 872.28,-580.5\"/>\n",
       "<text text-anchor=\"middle\" x=\"821.28\" y=\"-565.3\" font-family=\"Times,serif\" font-size=\"14.00\">[12]</text>\n",
       "<text text-anchor=\"middle\" x=\"821.28\" y=\"-550.3\" font-family=\"Times,serif\" font-size=\"14.00\">Internal</text>\n",
       "<text text-anchor=\"middle\" x=\"821.28\" y=\"-535.3\" font-family=\"Times,serif\" font-size=\"14.00\">HomOnObjects</text>\n",
       "</g>\n",
       "<!-- 3&#45;&gt;12 -->\n",
       "<g id=\"edge12\" class=\"edge\">\n",
       "<title>3&#45;&gt;12</title>\n",
       "<path fill=\"none\" stroke=\"black\" d=\"M836.32,-638.79C833.64,-623.85 830.47,-606.2 827.74,-590.96\"/>\n",
       "<polygon fill=\"black\" stroke=\"black\" points=\"831.14,-590.08 825.92,-580.86 824.25,-591.32 831.14,-590.08\"/>\n",
       "<text text-anchor=\"middle\" x=\"835.78\" y=\"-609.8\" font-family=\"Times,serif\" font-size=\"14.00\">2</text>\n",
       "</g>\n",
       "<!-- 4 -->\n",
       "<g id=\"node4\" class=\"node\">\n",
       "<title>4</title>\n",
       "<polygon fill=\"none\" stroke=\"black\" points=\"790.78,-707 723.78,-707 723.78,-639 790.78,-639 790.78,-707\"/>\n",
       "<text text-anchor=\"middle\" x=\"757.28\" y=\"-691.8\" font-family=\"Times,serif\" font-size=\"14.00\">[4]</text>\n",
       "<text text-anchor=\"middle\" x=\"757.28\" y=\"-676.8\" font-family=\"Times,serif\" font-size=\"14.00\">primitive</text>\n",
       "<text text-anchor=\"middle\" x=\"757.28\" y=\"-661.8\" font-family=\"Times,serif\" font-size=\"14.00\">object</text>\n",
       "<text text-anchor=\"middle\" x=\"757.28\" y=\"-646.8\" font-family=\"Times,serif\" font-size=\"14.00\">&lt;R^j&gt;</text>\n",
       "</g>\n",
       "<!-- 4&#45;&gt;9 -->\n",
       "<g id=\"edge8\" class=\"edge\">\n",
       "<title>4&#45;&gt;9</title>\n",
       "<path fill=\"none\" stroke=\"black\" d=\"M723.7,-645.45C701.73,-628.08 672.9,-605.29 649.68,-586.93\"/>\n",
       "<polygon fill=\"black\" stroke=\"black\" points=\"651.73,-584.1 641.72,-580.64 647.39,-589.59 651.73,-584.1\"/>\n",
       "<text text-anchor=\"middle\" x=\"694.78\" y=\"-609.8\" font-family=\"Times,serif\" font-size=\"14.00\">1</text>\n",
       "</g>\n",
       "<!-- 11 -->\n",
       "<g id=\"node11\" class=\"node\">\n",
       "<title>11</title>\n",
       "<polygon fill=\"none\" stroke=\"black\" points=\"964.28,-580.5 890.28,-580.5 890.28,-527.5 964.28,-527.5 964.28,-580.5\"/>\n",
       "<text text-anchor=\"middle\" x=\"927.28\" y=\"-565.3\" font-family=\"Times,serif\" font-size=\"14.00\">[11]</text>\n",
       "<text text-anchor=\"middle\" x=\"927.28\" y=\"-550.3\" font-family=\"Times,serif\" font-size=\"14.00\">Identity</text>\n",
       "<text text-anchor=\"middle\" x=\"927.28\" y=\"-535.3\" font-family=\"Times,serif\" font-size=\"14.00\">Morphism</text>\n",
       "</g>\n",
       "<!-- 4&#45;&gt;11 -->\n",
       "<g id=\"edge10\" class=\"edge\">\n",
       "<title>4&#45;&gt;11</title>\n",
       "<path fill=\"none\" stroke=\"black\" d=\"M790.99,-644.87C794.07,-642.78 797.19,-640.79 800.28,-639 818.21,-628.61 825.42,-631.5 843.28,-621 859.72,-611.34 876.51,-598.79 890.71,-587.24\"/>\n",
       "<polygon fill=\"black\" stroke=\"black\" points=\"893.28,-589.65 898.75,-580.58 888.82,-584.26 893.28,-589.65\"/>\n",
       "</g>\n",
       "<!-- 4&#45;&gt;12 -->\n",
       "<g id=\"edge11\" class=\"edge\">\n",
       "<title>4&#45;&gt;12</title>\n",
       "<path fill=\"none\" stroke=\"black\" d=\"M775.45,-638.79C783.85,-623.42 793.83,-605.18 802.33,-589.65\"/>\n",
       "<polygon fill=\"black\" stroke=\"black\" points=\"805.41,-591.31 807.14,-580.86 799.27,-587.95 805.41,-591.31\"/>\n",
       "<text text-anchor=\"middle\" x=\"795.78\" y=\"-609.8\" font-family=\"Times,serif\" font-size=\"14.00\">1</text>\n",
       "</g>\n",
       "<!-- 13 -->\n",
       "<g id=\"node13\" class=\"node\">\n",
       "<title>13</title>\n",
       "<polygon fill=\"none\" stroke=\"black\" points=\"586.28,-461.5 420.28,-461.5 420.28,-408.5 586.28,-408.5 586.28,-461.5\"/>\n",
       "<text text-anchor=\"middle\" x=\"503.28\" y=\"-446.3\" font-family=\"Times,serif\" font-size=\"14.00\">[13]</text>\n",
       "<text text-anchor=\"middle\" x=\"503.28\" y=\"-431.3\" font-family=\"Times,serif\" font-size=\"14.00\">InternalHomOnMorphisms</text>\n",
       "<text text-anchor=\"middle\" x=\"503.28\" y=\"-416.3\" font-family=\"Times,serif\" font-size=\"14.00\">WithGivenInternalHoms</text>\n",
       "</g>\n",
       "<!-- 5&#45;&gt;13 -->\n",
       "<g id=\"edge15\" class=\"edge\">\n",
       "<title>5&#45;&gt;13</title>\n",
       "<path fill=\"none\" stroke=\"black\" d=\"M431.47,-527.32C444.77,-510.41 462.33,-488.08 476.76,-469.73\"/>\n",
       "<polygon fill=\"black\" stroke=\"black\" points=\"479.71,-471.64 483.14,-461.62 474.21,-467.31 479.71,-471.64\"/>\n",
       "<text text-anchor=\"middle\" x=\"465.78\" y=\"-490.8\" font-family=\"Times,serif\" font-size=\"14.00\">3</text>\n",
       "</g>\n",
       "<!-- 6 -->\n",
       "<g id=\"node6\" class=\"node\">\n",
       "<title>6</title>\n",
       "<polygon fill=\"none\" stroke=\"black\" points=\"539.78,-588 466.78,-588 466.78,-520 539.78,-520 539.78,-588\"/>\n",
       "<text text-anchor=\"middle\" x=\"503.28\" y=\"-572.8\" font-family=\"Times,serif\" font-size=\"14.00\">[6]</text>\n",
       "<text text-anchor=\"middle\" x=\"503.28\" y=\"-557.8\" font-family=\"Times,serif\" font-size=\"14.00\">primitive</text>\n",
       "<text text-anchor=\"middle\" x=\"503.28\" y=\"-542.8\" font-family=\"Times,serif\" font-size=\"14.00\">morphism</text>\n",
       "<text text-anchor=\"middle\" x=\"503.28\" y=\"-527.8\" font-family=\"Times,serif\" font-size=\"14.00\">&lt;J&gt;</text>\n",
       "</g>\n",
       "<!-- 6&#45;&gt;13 -->\n",
       "<g id=\"edge14\" class=\"edge\">\n",
       "<title>6&#45;&gt;13</title>\n",
       "<path fill=\"none\" stroke=\"black\" d=\"M503.28,-519.79C503.28,-504.85 503.28,-487.2 503.28,-471.96\"/>\n",
       "<polygon fill=\"black\" stroke=\"black\" points=\"506.78,-471.86 503.28,-461.86 499.78,-471.86 506.78,-471.86\"/>\n",
       "<text text-anchor=\"middle\" x=\"506.78\" y=\"-490.8\" font-family=\"Times,serif\" font-size=\"14.00\">2</text>\n",
       "</g>\n",
       "<!-- 7&#45;&gt;13 -->\n",
       "<g id=\"edge13\" class=\"edge\">\n",
       "<title>7&#45;&gt;13</title>\n",
       "<path fill=\"none\" stroke=\"black\" d=\"M348.73,-527.32C378.91,-509.49 419.27,-485.65 451.17,-466.79\"/>\n",
       "<polygon fill=\"black\" stroke=\"black\" points=\"453.1,-469.72 459.93,-461.62 449.54,-463.69 453.1,-469.72\"/>\n",
       "<text text-anchor=\"middle\" x=\"418.78\" y=\"-490.8\" font-family=\"Times,serif\" font-size=\"14.00\">1</text>\n",
       "</g>\n",
       "<!-- 7&#45;&gt;14 -->\n",
       "<g id=\"edge20\" class=\"edge\">\n",
       "<title>7&#45;&gt;14</title>\n",
       "<path fill=\"none\" stroke=\"black\" d=\"M296.37,-527.23C282.2,-486.24 254.49,-406.08 238.48,-359.79\"/>\n",
       "<polygon fill=\"black\" stroke=\"black\" points=\"241.73,-358.48 235.16,-350.17 235.12,-360.77 241.73,-358.48\"/>\n",
       "<text text-anchor=\"middle\" x=\"278.78\" y=\"-431.3\" font-family=\"Times,serif\" font-size=\"14.00\">4</text>\n",
       "</g>\n",
       "<!-- 8&#45;&gt;14 -->\n",
       "<g id=\"edge19\" class=\"edge\">\n",
       "<title>8&#45;&gt;14</title>\n",
       "<path fill=\"none\" stroke=\"black\" d=\"M153.07,-400.85C166.21,-387.15 181.41,-371.29 194.55,-357.6\"/>\n",
       "<polygon fill=\"black\" stroke=\"black\" points=\"197.21,-359.88 201.6,-350.24 192.16,-355.03 197.21,-359.88\"/>\n",
       "<text text-anchor=\"middle\" x=\"185.78\" y=\"-371.8\" font-family=\"Times,serif\" font-size=\"14.00\">3</text>\n",
       "</g>\n",
       "<!-- 9&#45;&gt;13 -->\n",
       "<g id=\"edge16\" class=\"edge\">\n",
       "<title>9&#45;&gt;13</title>\n",
       "<path fill=\"none\" stroke=\"black\" d=\"M586.02,-527.32C570.56,-510.25 550.1,-487.67 533.39,-469.24\"/>\n",
       "<polygon fill=\"black\" stroke=\"black\" points=\"535.8,-466.68 526.49,-461.62 530.61,-471.38 535.8,-466.68\"/>\n",
       "<text text-anchor=\"middle\" x=\"565.78\" y=\"-490.8\" font-family=\"Times,serif\" font-size=\"14.00\">4</text>\n",
       "</g>\n",
       "<!-- 16 -->\n",
       "<g id=\"node16\" class=\"node\">\n",
       "<title>16</title>\n",
       "<polygon fill=\"none\" stroke=\"black\" points=\"798.28,-461.5 632.28,-461.5 632.28,-408.5 798.28,-408.5 798.28,-461.5\"/>\n",
       "<text text-anchor=\"middle\" x=\"715.28\" y=\"-446.3\" font-family=\"Times,serif\" font-size=\"14.00\">[16]</text>\n",
       "<text text-anchor=\"middle\" x=\"715.28\" y=\"-431.3\" font-family=\"Times,serif\" font-size=\"14.00\">InternalHomOnMorphisms</text>\n",
       "<text text-anchor=\"middle\" x=\"715.28\" y=\"-416.3\" font-family=\"Times,serif\" font-size=\"14.00\">WithGivenInternalHoms</text>\n",
       "</g>\n",
       "<!-- 9&#45;&gt;16 -->\n",
       "<g id=\"edge26\" class=\"edge\">\n",
       "<title>9&#45;&gt;16</title>\n",
       "<path fill=\"none\" stroke=\"black\" d=\"M632.54,-527.32C648.01,-510.25 668.47,-487.67 685.17,-469.24\"/>\n",
       "<polygon fill=\"black\" stroke=\"black\" points=\"687.95,-471.38 692.07,-461.62 682.77,-466.68 687.95,-471.38\"/>\n",
       "<text text-anchor=\"middle\" x=\"671.78\" y=\"-490.8\" font-family=\"Times,serif\" font-size=\"14.00\">4</text>\n",
       "</g>\n",
       "<!-- 10 -->\n",
       "<g id=\"node10\" class=\"node\">\n",
       "<title>10</title>\n",
       "<polygon fill=\"none\" stroke=\"black\" points=\"751.78,-588 678.78,-588 678.78,-520 751.78,-520 751.78,-588\"/>\n",
       "<text text-anchor=\"middle\" x=\"715.28\" y=\"-572.8\" font-family=\"Times,serif\" font-size=\"14.00\">[10]</text>\n",
       "<text text-anchor=\"middle\" x=\"715.28\" y=\"-557.8\" font-family=\"Times,serif\" font-size=\"14.00\">primitive</text>\n",
       "<text text-anchor=\"middle\" x=\"715.28\" y=\"-542.8\" font-family=\"Times,serif\" font-size=\"14.00\">morphism</text>\n",
       "<text text-anchor=\"middle\" x=\"715.28\" y=\"-527.8\" font-family=\"Times,serif\" font-size=\"14.00\">&lt;I&gt;</text>\n",
       "</g>\n",
       "<!-- 10&#45;&gt;16 -->\n",
       "<g id=\"edge25\" class=\"edge\">\n",
       "<title>10&#45;&gt;16</title>\n",
       "<path fill=\"none\" stroke=\"black\" d=\"M715.28,-519.79C715.28,-504.85 715.28,-487.2 715.28,-471.96\"/>\n",
       "<polygon fill=\"black\" stroke=\"black\" points=\"718.78,-471.86 715.28,-461.86 711.78,-471.86 718.78,-471.86\"/>\n",
       "<text text-anchor=\"middle\" x=\"718.78\" y=\"-490.8\" font-family=\"Times,serif\" font-size=\"14.00\">3</text>\n",
       "</g>\n",
       "<!-- 11&#45;&gt;16 -->\n",
       "<g id=\"edge24\" class=\"edge\">\n",
       "<title>11&#45;&gt;16</title>\n",
       "<path fill=\"none\" stroke=\"black\" d=\"M892.75,-527.38C888.94,-524.8 885.06,-522.29 881.28,-520 848.86,-500.33 811.26,-481.03 780.05,-465.9\"/>\n",
       "<polygon fill=\"black\" stroke=\"black\" points=\"781.54,-462.73 771.01,-461.55 778.5,-469.04 781.54,-462.73\"/>\n",
       "<text text-anchor=\"middle\" x=\"848.78\" y=\"-490.8\" font-family=\"Times,serif\" font-size=\"14.00\">2</text>\n",
       "</g>\n",
       "<!-- 12&#45;&gt;16 -->\n",
       "<g id=\"edge23\" class=\"edge\">\n",
       "<title>12&#45;&gt;16</title>\n",
       "<path fill=\"none\" stroke=\"black\" d=\"M798.02,-527.32C782.56,-510.25 762.1,-487.67 745.39,-469.24\"/>\n",
       "<polygon fill=\"black\" stroke=\"black\" points=\"747.8,-466.68 738.49,-461.62 742.61,-471.38 747.8,-466.68\"/>\n",
       "<text text-anchor=\"middle\" x=\"777.78\" y=\"-490.8\" font-family=\"Times,serif\" font-size=\"14.00\">1</text>\n",
       "</g>\n",
       "<!-- 15 -->\n",
       "<g id=\"node15\" class=\"node\">\n",
       "<title>15</title>\n",
       "<polygon fill=\"none\" stroke=\"black\" points=\"537.28,-246 469.28,-246 469.28,-193 537.28,-193 537.28,-246\"/>\n",
       "<text text-anchor=\"middle\" x=\"503.28\" y=\"-230.8\" font-family=\"Times,serif\" font-size=\"14.00\">[15]</text>\n",
       "<text text-anchor=\"middle\" x=\"503.28\" y=\"-215.8\" font-family=\"Times,serif\" font-size=\"14.00\">Pre</text>\n",
       "<text text-anchor=\"middle\" x=\"503.28\" y=\"-200.8\" font-family=\"Times,serif\" font-size=\"14.00\">Compose</text>\n",
       "</g>\n",
       "<!-- 13&#45;&gt;15 -->\n",
       "<g id=\"edge22\" class=\"edge\">\n",
       "<title>13&#45;&gt;15</title>\n",
       "<path fill=\"none\" stroke=\"black\" d=\"M503.28,-408.25C503.28,-370.23 503.28,-298.98 503.28,-256.03\"/>\n",
       "<polygon fill=\"black\" stroke=\"black\" points=\"506.78,-256.01 503.28,-246.01 499.78,-256.01 506.78,-256.01\"/>\n",
       "<text text-anchor=\"middle\" x=\"506.78\" y=\"-319.8\" font-family=\"Times,serif\" font-size=\"14.00\">2</text>\n",
       "</g>\n",
       "<!-- 14&#45;&gt;15 -->\n",
       "<g id=\"edge21\" class=\"edge\">\n",
       "<title>14&#45;&gt;15</title>\n",
       "<path fill=\"none\" stroke=\"black\" d=\"M295.82,-296.89C347.23,-277.96 415.64,-252.77 459.58,-236.59\"/>\n",
       "<polygon fill=\"black\" stroke=\"black\" points=\"460.94,-239.82 469.11,-233.08 458.52,-233.25 460.94,-239.82\"/>\n",
       "<text text-anchor=\"middle\" x=\"384.78\" y=\"-267.8\" font-family=\"Times,serif\" font-size=\"14.00\">1</text>\n",
       "</g>\n",
       "<!-- 17 -->\n",
       "<g id=\"node17\" class=\"node\">\n",
       "<title>17</title>\n",
       "<polygon fill=\"none\" stroke=\"black\" points=\"685.78,-142 530.78,-142 530.78,-104 685.78,-104 685.78,-142\"/>\n",
       "<text text-anchor=\"middle\" x=\"608.28\" y=\"-126.8\" font-family=\"Times,serif\" font-size=\"14.00\">[17]</text>\n",
       "<text text-anchor=\"middle\" x=\"608.28\" y=\"-111.8\" font-family=\"Times,serif\" font-size=\"14.00\">BiasedWeakFiberProduct</text>\n",
       "</g>\n",
       "<!-- 15&#45;&gt;17 -->\n",
       "<g id=\"edge27\" class=\"edge\">\n",
       "<title>15&#45;&gt;17</title>\n",
       "<path fill=\"none\" stroke=\"black\" d=\"M531.7,-192.93C546.9,-179.24 565.55,-162.46 580.64,-148.88\"/>\n",
       "<polygon fill=\"black\" stroke=\"black\" points=\"583.07,-151.4 588.16,-142.11 578.39,-146.19 583.07,-151.4\"/>\n",
       "<text text-anchor=\"middle\" x=\"570.78\" y=\"-163.8\" font-family=\"Times,serif\" font-size=\"14.00\">1</text>\n",
       "</g>\n",
       "<!-- 18 -->\n",
       "<g id=\"node18\" class=\"node\">\n",
       "<title>18</title>\n",
       "<polygon fill=\"none\" stroke=\"black\" points=\"720.78,-53 495.78,-53 495.78,0 720.78,0 720.78,-53\"/>\n",
       "<text text-anchor=\"middle\" x=\"608.28\" y=\"-37.8\" font-family=\"Times,serif\" font-size=\"14.00\">[18]</text>\n",
       "<text text-anchor=\"middle\" x=\"608.28\" y=\"-22.8\" font-family=\"Times,serif\" font-size=\"14.00\">ProjectionOfBiasedWeakFiberProduct</text>\n",
       "<text text-anchor=\"middle\" x=\"608.28\" y=\"-7.8\" font-family=\"Times,serif\" font-size=\"14.00\">WithGivenBiasedWeakFiberProduct</text>\n",
       "</g>\n",
       "<!-- 15&#45;&gt;18 -->\n",
       "<g id=\"edge29\" class=\"edge\">\n",
       "<title>15&#45;&gt;18</title>\n",
       "<path fill=\"none\" stroke=\"black\" d=\"M500.61,-192.77C499.27,-168.44 500.42,-131.64 515.28,-104 524.73,-86.44 540.04,-71.34 555.54,-59.32\"/>\n",
       "<polygon fill=\"black\" stroke=\"black\" points=\"557.69,-62.08 563.64,-53.31 553.52,-56.46 557.69,-62.08\"/>\n",
       "<text text-anchor=\"middle\" x=\"518.78\" y=\"-119.3\" font-family=\"Times,serif\" font-size=\"14.00\">1</text>\n",
       "</g>\n",
       "<!-- 16&#45;&gt;17 -->\n",
       "<g id=\"edge28\" class=\"edge\">\n",
       "<title>16&#45;&gt;17</title>\n",
       "<path fill=\"none\" stroke=\"black\" d=\"M706.44,-408.37C686.56,-350.77 638.49,-211.5 617.9,-151.86\"/>\n",
       "<polygon fill=\"black\" stroke=\"black\" points=\"621.19,-150.65 614.61,-142.34 614.57,-152.94 621.19,-150.65\"/>\n",
       "<text text-anchor=\"middle\" x=\"664.78\" y=\"-267.8\" font-family=\"Times,serif\" font-size=\"14.00\">2</text>\n",
       "</g>\n",
       "<!-- 16&#45;&gt;18 -->\n",
       "<g id=\"edge30\" class=\"edge\">\n",
       "<title>16&#45;&gt;18</title>\n",
       "<path fill=\"none\" stroke=\"black\" d=\"M714.92,-408.34C714.63,-386.15 714.28,-353.21 714.28,-324.5 714.28,-324.5 714.28,-324.5 714.28,-122 714.28,-95.22 695.2,-74.15 673.23,-58.77\"/>\n",
       "<polygon fill=\"black\" stroke=\"black\" points=\"674.97,-55.73 664.7,-53.15 671.12,-61.58 674.97,-55.73\"/>\n",
       "<text text-anchor=\"middle\" x=\"717.78\" y=\"-215.8\" font-family=\"Times,serif\" font-size=\"14.00\">2</text>\n",
       "</g>\n",
       "<!-- 17&#45;&gt;18 -->\n",
       "<g id=\"edge31\" class=\"edge\">\n",
       "<title>17&#45;&gt;18</title>\n",
       "<path fill=\"none\" stroke=\"black\" d=\"M608.28,-103.78C608.28,-92.33 608.28,-77.16 608.28,-63.36\"/>\n",
       "<polygon fill=\"black\" stroke=\"black\" points=\"611.78,-63.17 608.28,-53.17 604.78,-63.17 611.78,-63.17\"/>\n",
       "<text text-anchor=\"middle\" x=\"611.78\" y=\"-74.8\" font-family=\"Times,serif\" font-size=\"14.00\">3</text>\n",
       "</g>\n",
       "</g>\n",
       "</svg>\n"
      ]
     },
     "metadata": {},
     "output_type": "display_data"
    }
   ],
   "source": [
    "Visualize( UnderlyingMorphism( UnderlyingObject( IqJ ) ) )"
   ]
  },
  {
   "cell_type": "code",
   "execution_count": 27,
   "metadata": {},
   "outputs": [
    {
     "name": "stdout",
     "output_type": "stream",
     "text": [
      "1.      -> evaluating in Rows( Q[x,y] ).........................: ProjectionOf\\\n",
      "BiasedWeakFiberProductWithGivenBiasedWeakFiberProduct\n",
      "2.       -> evaluating in Rows( Q[x,y] ).........................: PreCompose\n",
      "3.       -> evaluating in Rows( Q[x,y] ).........................: TensorProdu\\\n",
      "ctToInternalHomLeftAdjunctMorphismWithGivenInternalHom\n",
      "4.        -> evaluating in Rows( Q[x,y] ).........................: TensorUnit\n",
      "4.        <- evaluated in Rows( Q[x,y] ).........................: TensorUnit\n",
      "5.        -> evaluating in Rows( Q[x,y] ).........................: LeftUnitor\\\n",
      "WithGivenTensorProduct\n",
      "6.        -> evaluating in Rows( Q[x,y] ).........................: TensorProd\\\n",
      "uctOnObjects\n",
      "6.        <- evaluated in Rows( Q[x,y] ).........................: TensorProdu\\\n",
      "ctOnObjects\n",
      "5.        <- evaluated in Rows( Q[x,y] ).........................: LeftUnitorW\\\n",
      "ithGivenTensorProduct\n",
      "7.        -> evaluating in Rows( Q[x,y] ).........................: InternalHo\\\n",
      "mOnObjects\n",
      "7.        <- evaluated in Rows( Q[x,y] ).........................: InternalHom\\\n",
      "OnObjects\n",
      "3.       <- evaluated in Rows( Q[x,y] ).........................: TensorProduc\\\n",
      "tToInternalHomLeftAdjunctMorphismWithGivenInternalHom\n",
      "8.         -> evaluating in Rows( Q[x,y] ).........................: InternalH\\\n",
      "omOnMorphismsWithGivenInternalHoms\n",
      "9.         -> evaluating in Rows( Q[x,y] ).........................: IdentityM\\\n",
      "orphism\n",
      "9.         <- evaluated in Rows( Q[x,y] ).........................: IdentityMo\\\n",
      "rphism\n",
      "10\n",
      " .        -> evaluating in Rows( Q[x,y] ).........................: InternalHo\\\n",
      "mOnObjects\n",
      "10\n",
      " .        <- evaluated in Rows( Q[x,y] ).........................: InternalHom\\\n",
      "OnObjects\n",
      "8.         <- evaluated in Rows( Q[x,y] ).........................: InternalHo\\\n",
      "mOnMorphismsWithGivenInternalHoms\n",
      "2.       <- evaluated in Rows( Q[x,y] ).........................: PreCompose\n",
      "11\n",
      " .        -> evaluating in Rows( Q[x,y] ).........................: InternalHo\\\n",
      "mOnMorphismsWithGivenInternalHoms\n",
      "12\n",
      " .        -> evaluating in Rows( Q[x,y] ).........................: InternalHo\\\n",
      "mOnObjects\n",
      "12\n",
      " .        <- evaluated in Rows( Q[x,y] ).........................: InternalHom\\\n",
      "OnObjects\n",
      "13\n",
      " .        -> evaluating in Rows( Q[x,y] ).........................: IdentityMo\\\n",
      "rphism\n",
      "13\n",
      " .        <- evaluated in Rows( Q[x,y] ).........................: IdentityMor\\\n",
      "phism\n",
      "11\n",
      " .        <- evaluated in Rows( Q[x,y] ).........................: InternalHom\\\n",
      "OnMorphismsWithGivenInternalHoms\n",
      "14\n",
      " .        -> evaluating in Rows( Q[x,y] ).........................: BiasedWeak\\\n",
      "FiberProduct\n",
      "14\n",
      " .        <- evaluated in Rows( Q[x,y] ).........................: BiasedWeakF\\\n",
      "iberProduct\n",
      "1.      <- evaluated in Rows( Q[x,y] ).........................: ProjectionOfB\\\n",
      "iasedWeakFiberProductWithGivenBiasedWeakFiberProduct\n"
     ]
    },
    {
     "data": {
      "text/plain": [
       "true"
      ]
     },
     "execution_count": 27,
     "metadata": {},
     "output_type": "execute_result"
    }
   ],
   "source": [
    "K == IqJ"
   ]
  }
 ],
 "metadata": {
  "@webio": {
   "lastCommId": null,
   "lastKernelId": null
  },
  "kernelspec": {
   "display_name": "Julia 1.12.1",
   "language": "julia",
   "name": "julia-1.12"
  },
  "language_info": {
   "file_extension": ".jl",
   "mimetype": "application/julia",
   "name": "julia",
   "version": "1.12.1"
  }
 },
 "nbformat": 4,
 "nbformat_minor": 2
}
