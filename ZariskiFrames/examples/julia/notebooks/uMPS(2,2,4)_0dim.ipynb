{
 "cells": [
  {
   "cell_type": "markdown",
   "metadata": {
    "slideshow": {
     "slide_type": "slide"
    }
   },
   "source": [
    "## The locus $uMPS(D,d,N)$ of uniform matrix product states is defined as the constructible image of the polynomial map $$ (\\mathbb{C}^{D \\times D})^d \\to (\\mathbb{C}^d)^{\\otimes N}, (M_0, \\ldots, M_{d-1}) \\mapsto \\sum_{0 \\leq i_1, \\ldots, i_N \\leq d-1} tr(M_{i_1} \\cdots M_{i_N}) e_{i_1} \\otimes \\cdots \\otimes e_{i_N} \\mbox{.}$$\n",
    "## Here we consider the case $(D,d,N) = (2,2,4)$.\n",
    "\n",
    "Our implementation $\\mathtt{ConstructibleImage}$ finishes in less than 15 seconds and outperforms\n",
    "* $\\mathtt{totalImage}$ (Macaulay2 package $\\mathtt{TotalImage}$ [HMS18,CMS])\n",
    "* $\\mathtt{grobcov}$ (Singular package $\\mathtt{grobcov.lib}$ [MW10])\n",
    "* $\\mathtt{PolynomialMapImage}$ ($\\mathsf{Maple}$ package $\\mathtt{RegularChains}$ [CGL+07])\n",
    "* $\\mathtt{Comprehensive}$ ($\\mathsf{Maple}$ package $\\mathtt{AlgebraicThomas}$ [BGLHR12])\n",
    "\n",
    "which did not finish after a day.\n",
    "\n",
    "\n",
    "[HMS18] Corey Harris, Mateusz Michałek, and Emre Can Sertöz, Computing images of polynomial maps, (arXiv:1801.00827), 2018.\n",
    "\n",
    "[CMS] Adam Czaplin ́ski, Mateusz Michałek, and Tim Seynnaeve, Uniform matrix product states from an algebraic geometer’s point of view.\n",
    "\n",
    "[MW10] Antonio Montes and Michael Wibmer, Gröbner bases for polynomial systems with parameters, J. Symbolic Comput. 45 (2010), no. 12, 1391–1425. MR 2733386\n",
    "\n",
    "[CGL+07] Changbo Chen, Oleg Golubitsky, François Lemaire, Marc Moreno Maza, and Wei Pan, Com- prehensive triangular decomposition, Computer Algebra in Scientific Computing (Berlin, Heidelberg) (Victor G. Ganzha, Ernst W. Mayr, and Evgenii V. Vorozhtsov, eds.), Springer Berlin Heidelberg, 2007, pp. 73–101.\n",
    "\n",
    "[BGLHR12] Thomas Bächler, Vladimir Gerdt, Markus Lange-Hegermann, and Daniel Robertz, Algorithmic Thomas decomposition of algebraic and differential systems, J. Symbolic Comput. 47 (2012), no. 10, 1233–1266, (arXiv:1108.0817). MR 2926124"
   ]
  },
  {
   "cell_type": "code",
   "execution_count": 1,
   "metadata": {
    "slideshow": {
     "slide_type": "slide"
    }
   },
   "outputs": [
    {
     "name": "stdout",
     "output_type": "stream",
     "text": [
      "CapAndHomalg v\u001b[32m1.6.4\u001b[39m\n",
      "Imported OSCAR's components GAP and Singular_jll\n",
      "Type: ?CapAndHomalg for more information\n"
     ]
    }
   ],
   "source": [
    "using CapAndHomalg"
   ]
  },
  {
   "cell_type": "code",
   "execution_count": 2,
   "metadata": {
    "slideshow": {
     "slide_type": "-"
    }
   },
   "outputs": [],
   "source": [
    "LoadPackage( \"ZariskiFrames\" )"
   ]
  },
  {
   "cell_type": "code",
   "execution_count": 3,
   "metadata": {},
   "outputs": [
    {
     "data": {
      "text/plain": [
       "GAP: Q"
      ]
     },
     "execution_count": 3,
     "metadata": {},
     "output_type": "execute_result"
    }
   ],
   "source": [
    "ℚ = HomalgFieldOfRationalsInSingular( )"
   ]
  },
  {
   "cell_type": "code",
   "execution_count": 4,
   "metadata": {},
   "outputs": [
    {
     "data": {
      "text/plain": [
       "GAP: Q[t0000,t0001,t0011,t0111,t1111,t0101]"
      ]
     },
     "execution_count": 4,
     "metadata": {},
     "output_type": "execute_result"
    }
   ],
   "source": [
    "B = ℚ[\"t0000,t0001,t0011,t0111,t1111,t0101\"]"
   ]
  },
  {
   "cell_type": "code",
   "execution_count": 5,
   "metadata": {},
   "outputs": [
    {
     "data": {
      "text/plain": [
       "GAP: Q[s_0,s_1,s_2,s_3,s_4]"
      ]
     },
     "execution_count": 5,
     "metadata": {},
     "output_type": "execute_result"
    }
   ],
   "source": [
    "T = ℚ[\"s_0..4\"]"
   ]
  },
  {
   "cell_type": "code",
   "execution_count": 6,
   "metadata": {
    "slideshow": {
     "slide_type": "slide"
    }
   },
   "outputs": [],
   "source": [
    "ϕ = RingMap(\n",
    "    HomalgMatrix( \"\"\"[\n",
    "        -(1/2)*s_0^4+s_0^2*s_2+(1/2)*s_2^2,\n",
    "        -(1/2)*s_0^3*s_1+(1/2)*s_0*s_1*s_2+(1/2)*s_0^2*s_3+(1/2)*s_2*s_3,\n",
    "        -(1/2)*s_0^2*s_1^2+s_0*s_1*s_3+(1/2)*s_2*s_4,\n",
    "        -(1/2)*s_0*s_1^3+(1/2)*s_1^2*s_3+(1/2)*s_0*s_1*s_4+(1/2)*s_3*s_4,\n",
    "        -(1/2)*s_1^4+s_1^2*s_4+(1/2)*s_4^2,\n",
    "        -(1/2)*s_0^2*s_1^2+(1/2)*s_1^2*s_2+(1/2)*s_0^2*s_4+s_3^2-(1/2)*s_2*s_4 ]\"\"\",\n",
    "        Length( Indeterminates( B ) ), 1, T ),  B, T );"
   ]
  },
  {
   "cell_type": "code",
   "execution_count": 7,
   "metadata": {},
   "outputs": [
    {
     "name": "stdout",
     "output_type": "stream",
     "text": [
      "Q[s_0,s_1,s_2,s_3,s_4]\n",
      "  ^\n",
      "  |\n",
      "[ -1/2*s_0^4+s_0^2*s_2+1/2*s_2^2, -1/2*s_0^3*s_1+1/2*s_0*s_1*s_2+1/2*s_0^2*s_3+1/2*s_2*s_3, -1/2*s_0^2*s_1^2+s_0*s_1*s_3+1/2*s_2*s_4, -1/2*s_0*s_1^3+1/2*s_1^2*s_3+1/2*s_0*s_1*s_4+1/2*s_3*s_4, -1/2*s_1^4+s_1^2*s_4+1/2*s_4^2, -1/2*s_0^2*s_1^2+1/2*s_1^2*s_2+1/2*s_0^2*s_4+s_3^2-1/2*s_2*s_4 ]\n",
      "  |\n",
      "  |\n",
      "Q[t0000,t0001,t0011,t0111,t1111,t0101]\n"
     ]
    }
   ],
   "source": [
    "Display( ϕ )"
   ]
  },
  {
   "cell_type": "code",
   "execution_count": 8,
   "metadata": {},
   "outputs": [
    {
     "data": {
      "text/plain": [
       "GAP: ( V_{Q[t0000,t0001,t0011,t0111,t1111,t0101]}( I1 ) \\ V_{Q[t0000,t0001,t0011,t0111,t1111,t0101]}( J1_1 ) \\ V_{Q[t0000,t0001,t0011,t0111,t1111,t0101]}( J1_2 ) ) ∪ ( V_{Q[t0000,t0001,t0011,t0111,t1111,t0101]}( I2 ) \\ V_{Q[t0000,t0001,t0011,t0111,t1111,t0101]}( J2_1 ) )"
      ]
     },
     "execution_count": 8,
     "metadata": {},
     "output_type": "execute_result"
    }
   ],
   "source": [
    "im = ConstructibleImage( ϕ )"
   ]
  },
  {
   "cell_type": "code",
   "execution_count": 9,
   "metadata": {
    "scrolled": false
   },
   "outputs": [
    {
     "name": "stdout",
     "output_type": "stream",
     "text": [
      "( V( <2*t0011^6-12*t0001*t0011^4*t0111+16*t0001^2*t0011^2*t0111^2+4*t0000*t0011^3*t0111^2-8*t0000*t0001*t0011*t0111^3+t0000^2*t0111^4+4*t0001^2*t0011^3*t1111-t0000*t0011^4*t1111-8*t0001^3*t0011*t0111*t1111+2*t0000*t0001^2*t0111^2*t1111+t0001^4*t1111^2+8*t0001*t0011^3*t0111*t0101-16*t0001^2*t0011*t0111^2*t0101-4*t0000*t0011^2*t0111^2*t0101+4*t0000*t0001*t0111^3*t0101-4*t0001^2*t0011^2*t1111*t0101+4*t0001^3*t0111*t1111*t0101+8*t0000*t0001*t0011*t0111*t1111*t0101-2*t0000^2*t0111^2*t1111*t0101-2*t0000*t0001^2*t1111^2*t0101-t0011^4*t0101^2+4*t0001^2*t0111^2*t0101^2+4*t0000*t0011*t0111^2*t0101^2+4*t0001^2*t0011*t1111*t0101^2-2*t0000*t0011^2*t1111*t0101^2-4*t0000*t0001*t0111*t1111*t0101^2+t0000^2*t1111^2*t0101^2-2*t0000*t0111^2*t0101^3-2*t0001^2*t1111*t0101^3+t0000*t1111*t0101^4> )\n",
      "\n",
      "\\ V( <t0011-t0101,4*t0001*t0111^3+t0001^2*t1111^2-6*t0001*t0111*t1111*t0101-3*t0111^2*t0101^2+4*t1111*t0101^3,-4*t0001*t0111+t0000*t1111+3*t0101^2,t0000*t0111^2+t0001^2*t1111-6*t0001*t0111*t0101+4*t0101^3> )\n",
      "\n",
      "\\ V( <-2*t0111^4+t0011^2*t1111^2+4*t0111^2*t1111*t0101-2*t0011*t1111^2*t0101-t1111^2*t0101^2,2*t0111^3-2*t0011*t0111*t1111+t0001*t1111^2-t0111*t1111*t0101,-2*t0011*t0111^2+t0011^2*t1111+t0001*t0111*t1111+3*t0111^2*t0101-2*t0011*t1111*t0101-t1111*t0101^2,2*t0011^2*t0111^2+2*t0001*t0111^3-2*t0011^3*t1111-12*t0011*t0111^2*t0101+7*t0011^2*t1111*t0101+10*t0111^2*t0101^2-4*t0011*t1111*t0101^2-3*t1111*t0101^3,-2*t0011^2*t0111+2*t0001*t0111^2+2*t0001*t0011*t1111-3*t0001*t1111*t0101+t0111*t0101^2,-2*t0011^4+4*t0001*t0011^2*t0111+2*t0001^2*t0111^2+4*t0011^3*t0101-16*t0001*t0011*t0111*t0101+3*t0011^2*t0101^2+8*t0001*t0111*t0101^2-2*t0011*t0101^3-t0101^4,-16*t0011^3+48*t0001*t0011*t0111-16*t0001^2*t1111-6*t0011^2*t0101-28*t0001*t0111*t0101+7*t0000*t1111*t0101+8*t0011*t0101^2+3*t0101^3,8*t0011*t0111^2-6*t0011^2*t1111+t0000*t1111^2-4*t0111^2*t0101+t1111*t0101^2,-4*t0001*t0011^3+12*t0001^2*t0011*t0111-4*t0001^3*t1111+2*t0001*t0011^2*t0101-14*t0001^2*t0111*t0101+2*t0001*t0011*t0101^2+7*t0000*t0111*t0101^2-t0001*t0101^3,-2*t0011^2*t0111+4*t0001*t0111^2+t0000*t0111*t1111-4*t0001*t1111*t0101+t0111*t0101^2,t0000*t0111^2-t0001^2*t1111,-38*t0011^3+100*t0001*t0011*t0111-24*t0001^2*t1111+7*t0000*t0011*t1111-16*t0011^2*t0101-56*t0001*t0111*t0101+19*t0011*t0101^2+8*t0101^3,-2*t0001*t0011^2+2*t0001^2*t0111+2*t0000*t0011*t0111-3*t0000*t0111*t0101+t0001*t0101^2,4*t0001^2*t0011^3-12*t0001^3*t0011*t0111+4*t0001^4*t1111-2*t0001^2*t0011^2*t0101+14*t0001^3*t0111*t0101-16*t0001^2*t0011*t0101^2+7*t0000*t0011^2*t0101^2+22*t0001^2*t0101^3-14*t0000*t0011*t0101^3-7*t0000*t0101^4,-2*t0001^2*t0011^2+2*t0000*t0011^3-2*t0001^3*t0111+12*t0001^2*t0011*t0101-7*t0000*t0011^2*t0101-10*t0001^2*t0101^2+4*t0000*t0011*t0101^2+3*t0000*t0101^3,-2*t0001*t0011^2+4*t0001^2*t0111+t0000*t0001*t1111-4*t0000*t0111*t0101+t0001*t0101^2,-2*t0001^2*t0011+t0000*t0011^2+t0000*t0001*t0111+3*t0001^2*t0101-2*t0000*t0011*t0101-t0000*t0101^2,8*t0001^2*t0011-6*t0000*t0011^2+t0000^2*t1111-4*t0001^2*t0101+t0000*t0101^2,2*t0001^3-2*t0000*t0001*t0011+t0000^2*t0111-t0000*t0001*t0101,-2*t0001^4+t0000^2*t0011^2+4*t0000*t0001^2*t0101-2*t0000^2*t0011*t0101-t0000^2*t0101^2> ) )\n",
      "\n",
      "∪\n",
      "\n",
      "( V( <t0011-t0101,t0001*t1111-t0111*t0101,t0000*t1111-t0101^2,t0111^2-t1111*t0101,t0001*t0111-t0101^2,t0000*t0111-t0001*t0101,t0001^2-t0000*t0101> )\n",
      "\n",
      "\\ ∅ )\n"
     ]
    }
   ],
   "source": [
    "Display( im )"
   ]
  },
  {
   "cell_type": "code",
   "execution_count": 10,
   "metadata": {
    "slideshow": {
     "slide_type": "slide"
    }
   },
   "outputs": [
    {
     "data": {
      "image/svg+xml": [
       "<?xml version=\"1.0\" encoding=\"UTF-8\" standalone=\"no\"?>\n",
       "<!DOCTYPE svg PUBLIC \"-//W3C//DTD SVG 1.1//EN\"\n",
       " \"http://www.w3.org/Graphics/SVG/1.1/DTD/svg11.dtd\">\n",
       "<!-- Generated by graphviz version 2.50.0 (20211204.2007)\n",
       " -->\n",
       "<!-- Title: subobject_lattice Pages: 1 -->\n",
       "<svg width=\"120pt\" height=\"234pt\"\n",
       " viewBox=\"0.00 0.00 119.67 234.15\" xmlns=\"http://www.w3.org/2000/svg\" xmlns:xlink=\"http://www.w3.org/1999/xlink\">\n",
       "<g id=\"graph0\" class=\"graph\" transform=\"scale(1 1) rotate(0) translate(4 230.15)\">\n",
       "<title>subobject_lattice</title>\n",
       "<polygon fill=\"white\" stroke=\"transparent\" points=\"-4,4 -4,-230.15 115.67,-230.15 115.67,4 -4,4\"/>\n",
       "<!-- 1 -->\n",
       "<g id=\"node1\" class=\"node\">\n",
       "<title>1</title>\n",
       "<ellipse fill=\"none\" stroke=\"black\" cx=\"55.33\" cy=\"-26.87\" rx=\"26.74\" ry=\"26.74\"/>\n",
       "<text text-anchor=\"middle\" x=\"55.33\" y=\"-23.77\" font-family=\"DejaVu Serif,serif\" font-size=\"12.00\">1 (+5)</text>\n",
       "</g>\n",
       "<!-- 2 -->\n",
       "<g id=\"node2\" class=\"node\">\n",
       "<title>2</title>\n",
       "<ellipse fill=\"none\" stroke=\"black\" cx=\"55.33\" cy=\"-199.28\" rx=\"26.74\" ry=\"26.74\"/>\n",
       "<text text-anchor=\"middle\" x=\"55.33\" y=\"-196.18\" font-family=\"DejaVu Serif,serif\" font-size=\"12.00\">6 (+2)</text>\n",
       "</g>\n",
       "<!-- 3 -->\n",
       "<g id=\"node3\" class=\"node\">\n",
       "<title>3</title>\n",
       "<ellipse fill=\"none\" stroke=\"black\" cx=\"23.33\" cy=\"-113.07\" rx=\"23.17\" ry=\"23.17\"/>\n",
       "<text text-anchor=\"middle\" x=\"23.33\" y=\"-109.97\" font-family=\"DejaVu Serif,serif\" font-size=\"12.00\">4 (&#45;3)</text>\n",
       "</g>\n",
       "<!-- 2&#45;&gt;3 -->\n",
       "<g id=\"edge1\" class=\"edge\">\n",
       "<title>2&#45;&gt;3</title>\n",
       "<path fill=\"none\" stroke=\"black\" d=\"M46.08,-173.92C42.05,-163.31 37.31,-150.85 33.21,-140.06\"/>\n",
       "<polygon fill=\"black\" stroke=\"black\" points=\"34.79,-139.28 31.37,-135.23 31.52,-140.53 34.79,-139.28\"/>\n",
       "</g>\n",
       "<!-- 4 -->\n",
       "<g id=\"node4\" class=\"node\">\n",
       "<title>4</title>\n",
       "<ellipse fill=\"none\" stroke=\"black\" cx=\"88.33\" cy=\"-113.07\" rx=\"23.17\" ry=\"23.17\"/>\n",
       "<text text-anchor=\"middle\" x=\"88.33\" y=\"-109.97\" font-family=\"DejaVu Serif,serif\" font-size=\"12.00\">5 (&#45;3)</text>\n",
       "</g>\n",
       "<!-- 2&#45;&gt;4 -->\n",
       "<g id=\"edge2\" class=\"edge\">\n",
       "<title>2&#45;&gt;4</title>\n",
       "<path fill=\"none\" stroke=\"black\" d=\"M64.88,-173.92C69.07,-163.23 74,-150.65 78.25,-139.8\"/>\n",
       "<polygon fill=\"black\" stroke=\"black\" points=\"79.96,-140.25 80.15,-134.95 76.7,-138.97 79.96,-140.25\"/>\n",
       "</g>\n",
       "<!-- 3&#45;&gt;1 -->\n",
       "<g id=\"edge3\" class=\"edge\">\n",
       "<title>3&#45;&gt;1</title>\n",
       "<path fill=\"none\" stroke=\"black\" d=\"M31.41,-90.83C35.26,-80.69 39.94,-68.39 44.13,-57.36\"/>\n",
       "<polygon fill=\"black\" stroke=\"black\" points=\"45.87,-57.69 46.01,-52.4 42.6,-56.45 45.87,-57.69\"/>\n",
       "</g>\n",
       "<!-- 4&#45;&gt;1 -->\n",
       "<g id=\"edge4\" class=\"edge\">\n",
       "<title>4&#45;&gt;1</title>\n",
       "<path fill=\"none\" stroke=\"black\" d=\"M80.01,-90.83C75.96,-80.51 71.05,-67.96 66.67,-56.78\"/>\n",
       "<polygon fill=\"black\" stroke=\"black\" points=\"68.28,-56.11 64.83,-52.09 65.02,-57.39 68.28,-56.11\"/>\n",
       "</g>\n",
       "</g>\n",
       "</svg>\n"
      ]
     },
     "metadata": {},
     "output_type": "display_data"
    }
   ],
   "source": [
    "Visualize( im )"
   ]
  },
  {
   "cell_type": "code",
   "execution_count": 11,
   "metadata": {
    "slideshow": {
     "slide_type": "slide"
    }
   },
   "outputs": [
    {
     "data": {
      "image/svg+xml": [
       "<?xml version=\"1.0\" encoding=\"UTF-8\" standalone=\"no\"?>\n",
       "<!DOCTYPE svg PUBLIC \"-//W3C//DTD SVG 1.1//EN\"\n",
       " \"http://www.w3.org/Graphics/SVG/1.1/DTD/svg11.dtd\">\n",
       "<!-- Generated by graphviz version 2.50.0 (20211204.2007)\n",
       " -->\n",
       "<!-- Title: subobject_lattice Pages: 1 -->\n",
       "<svg width=\"148pt\" height=\"804pt\"\n",
       " viewBox=\"0.00 0.00 147.81 803.70\" xmlns=\"http://www.w3.org/2000/svg\" xmlns:xlink=\"http://www.w3.org/1999/xlink\">\n",
       "<g id=\"graph0\" class=\"graph\" transform=\"scale(1 1) rotate(0) translate(4 799.7)\">\n",
       "<title>subobject_lattice</title>\n",
       "<polygon fill=\"white\" stroke=\"transparent\" points=\"-4,4 -4,-799.7 143.81,-799.7 143.81,4 -4,4\"/>\n",
       "<!-- 1 -->\n",
       "<g id=\"node1\" class=\"node\">\n",
       "<title>1</title>\n",
       "<ellipse fill=\"none\" stroke=\"black\" cx=\"69.41\" cy=\"-33.94\" rx=\"33.88\" ry=\"33.88\"/>\n",
       "<text text-anchor=\"middle\" x=\"69.41\" y=\"-30.84\" font-family=\"DejaVu Serif,serif\" font-size=\"12.00\">@1 (+5)</text>\n",
       "</g>\n",
       "<!-- 2 -->\n",
       "<g id=\"node2\" class=\"node\">\n",
       "<title>2</title>\n",
       "<ellipse fill=\"none\" stroke=\"black\" cx=\"69.41\" cy=\"-127.22\" rx=\"23.17\" ry=\"23.17\"/>\n",
       "<text text-anchor=\"middle\" x=\"69.41\" y=\"-124.12\" font-family=\"DejaVu Serif,serif\" font-size=\"12.00\">2 (&#45;4)</text>\n",
       "</g>\n",
       "<!-- 2&#45;&gt;1 -->\n",
       "<g id=\"edge1\" class=\"edge\">\n",
       "<title>2&#45;&gt;1</title>\n",
       "<path fill=\"none\" stroke=\"black\" d=\"M69.41,-103.65C69.41,-94.4 69.41,-83.43 69.41,-73\"/>\n",
       "<polygon fill=\"black\" stroke=\"black\" points=\"71.16,-72.93 69.41,-67.93 67.66,-72.93 71.16,-72.93\"/>\n",
       "</g>\n",
       "<!-- 3 -->\n",
       "<g id=\"node3\" class=\"node\">\n",
       "<title>3</title>\n",
       "<ellipse fill=\"none\" stroke=\"black\" cx=\"69.41\" cy=\"-213.42\" rx=\"26.74\" ry=\"26.74\"/>\n",
       "<text text-anchor=\"middle\" x=\"69.41\" y=\"-210.32\" font-family=\"DejaVu Serif,serif\" font-size=\"12.00\">3 (+4)</text>\n",
       "</g>\n",
       "<!-- 3&#45;&gt;2 -->\n",
       "<g id=\"edge2\" class=\"edge\">\n",
       "<title>3&#45;&gt;2</title>\n",
       "<path fill=\"none\" stroke=\"black\" d=\"M63.16,-187.16C62.52,-177.09 62.49,-165.49 63.06,-155.25\"/>\n",
       "<polygon fill=\"black\" stroke=\"black\" points=\"64.82,-155.15 63.41,-150.04 61.32,-154.91 64.82,-155.15\"/>\n",
       "</g>\n",
       "<!-- 3&#45;&gt;2 -->\n",
       "<g id=\"edge3\" class=\"edge\">\n",
       "<title>3&#45;&gt;2</title>\n",
       "<path fill=\"none\" stroke=\"black\" d=\"M75.65,-187.16C76.29,-177.09 76.32,-165.49 75.76,-155.25\"/>\n",
       "<polygon fill=\"black\" stroke=\"black\" points=\"77.49,-154.91 75.41,-150.04 73.99,-155.15 77.49,-154.91\"/>\n",
       "</g>\n",
       "<!-- 4 -->\n",
       "<g id=\"node4\" class=\"node\">\n",
       "<title>4</title>\n",
       "<ellipse fill=\"none\" stroke=\"black\" cx=\"30.41\" cy=\"-306.7\" rx=\"30.31\" ry=\"30.31\"/>\n",
       "<text text-anchor=\"middle\" x=\"30.41\" y=\"-303.6\" font-family=\"DejaVu Serif,serif\" font-size=\"12.00\">@4 (&#45;3)</text>\n",
       "</g>\n",
       "<!-- 4&#45;&gt;3 -->\n",
       "<g id=\"edge4\" class=\"edge\">\n",
       "<title>4&#45;&gt;3</title>\n",
       "<path fill=\"none\" stroke=\"black\" d=\"M42.11,-278.31C46.86,-267.19 52.35,-254.34 57.15,-243.09\"/>\n",
       "<polygon fill=\"black\" stroke=\"black\" points=\"58.81,-243.67 59.17,-238.38 55.59,-242.29 58.81,-243.67\"/>\n",
       "</g>\n",
       "<!-- 5 -->\n",
       "<g id=\"node5\" class=\"node\">\n",
       "<title>5</title>\n",
       "<ellipse fill=\"none\" stroke=\"black\" cx=\"109.41\" cy=\"-306.7\" rx=\"30.31\" ry=\"30.31\"/>\n",
       "<text text-anchor=\"middle\" x=\"109.41\" y=\"-303.6\" font-family=\"DejaVu Serif,serif\" font-size=\"12.00\">@5 (&#45;3)</text>\n",
       "</g>\n",
       "<!-- 5&#45;&gt;3 -->\n",
       "<g id=\"edge5\" class=\"edge\">\n",
       "<title>5&#45;&gt;3</title>\n",
       "<path fill=\"none\" stroke=\"black\" d=\"M97.4,-278.31C92.53,-267.19 86.9,-254.34 81.97,-243.09\"/>\n",
       "<polygon fill=\"black\" stroke=\"black\" points=\"83.52,-242.26 79.91,-238.38 80.31,-243.66 83.52,-242.26\"/>\n",
       "</g>\n",
       "<!-- 6 -->\n",
       "<g id=\"node6\" class=\"node\">\n",
       "<title>6</title>\n",
       "<ellipse fill=\"none\" stroke=\"black\" cx=\"69.41\" cy=\"-407.04\" rx=\"33.88\" ry=\"33.88\"/>\n",
       "<text text-anchor=\"middle\" x=\"69.41\" y=\"-403.94\" font-family=\"DejaVu Serif,serif\" font-size=\"12.00\">@6 (+2)</text>\n",
       "</g>\n",
       "<!-- 6&#45;&gt;4 -->\n",
       "<g id=\"edge6\" class=\"edge\">\n",
       "<title>6&#45;&gt;4</title>\n",
       "<path fill=\"none\" stroke=\"black\" d=\"M57.17,-375.2C52.72,-363.96 47.67,-351.23 43.17,-339.88\"/>\n",
       "<polygon fill=\"black\" stroke=\"black\" points=\"44.74,-339.11 41.27,-335.11 41.49,-340.4 44.74,-339.11\"/>\n",
       "</g>\n",
       "<!-- 6&#45;&gt;5 -->\n",
       "<g id=\"edge7\" class=\"edge\">\n",
       "<title>6&#45;&gt;5</title>\n",
       "<path fill=\"none\" stroke=\"black\" d=\"M81.95,-375.2C86.52,-363.96 91.7,-351.23 96.32,-339.88\"/>\n",
       "<polygon fill=\"black\" stroke=\"black\" points=\"97.99,-340.4 98.26,-335.11 94.75,-339.08 97.99,-340.4\"/>\n",
       "</g>\n",
       "<!-- 7 -->\n",
       "<g id=\"node7\" class=\"node\">\n",
       "<title>7</title>\n",
       "<ellipse fill=\"none\" stroke=\"black\" cx=\"69.41\" cy=\"-500.32\" rx=\"23.17\" ry=\"23.17\"/>\n",
       "<text text-anchor=\"middle\" x=\"69.41\" y=\"-497.22\" font-family=\"DejaVu Serif,serif\" font-size=\"12.00\">7 (&#45;1)</text>\n",
       "</g>\n",
       "<!-- 7&#45;&gt;6 -->\n",
       "<g id=\"edge8\" class=\"edge\">\n",
       "<title>7&#45;&gt;6</title>\n",
       "<path fill=\"none\" stroke=\"black\" d=\"M69.41,-476.76C69.41,-467.5 69.41,-456.53 69.41,-446.1\"/>\n",
       "<polygon fill=\"black\" stroke=\"black\" points=\"71.16,-446.03 69.41,-441.03 67.66,-446.03 71.16,-446.03\"/>\n",
       "</g>\n",
       "<!-- 8 -->\n",
       "<g id=\"node8\" class=\"node\">\n",
       "<title>8</title>\n",
       "<ellipse fill=\"none\" stroke=\"black\" cx=\"69.41\" cy=\"-586.52\" rx=\"26.74\" ry=\"26.74\"/>\n",
       "<text text-anchor=\"middle\" x=\"69.41\" y=\"-583.42\" font-family=\"DejaVu Serif,serif\" font-size=\"12.00\">8 (+1)</text>\n",
       "</g>\n",
       "<!-- 8&#45;&gt;7 -->\n",
       "<g id=\"edge9\" class=\"edge\">\n",
       "<title>8&#45;&gt;7</title>\n",
       "<path fill=\"none\" stroke=\"black\" d=\"M63.16,-560.26C62.52,-550.19 62.49,-538.59 63.06,-528.36\"/>\n",
       "<polygon fill=\"black\" stroke=\"black\" points=\"64.82,-528.25 63.41,-523.14 61.32,-528.02 64.82,-528.25\"/>\n",
       "</g>\n",
       "<!-- 8&#45;&gt;7 -->\n",
       "<g id=\"edge10\" class=\"edge\">\n",
       "<title>8&#45;&gt;7</title>\n",
       "<path fill=\"none\" stroke=\"black\" d=\"M75.65,-560.26C76.29,-550.19 76.32,-538.59 75.76,-528.36\"/>\n",
       "<polygon fill=\"black\" stroke=\"black\" points=\"77.49,-528.02 75.41,-523.14 73.99,-528.25 77.49,-528.02\"/>\n",
       "</g>\n",
       "<!-- 9 -->\n",
       "<g id=\"node9\" class=\"node\">\n",
       "<title>9</title>\n",
       "<ellipse fill=\"none\" stroke=\"black\" cx=\"69.41\" cy=\"-672.73\" rx=\"23.17\" ry=\"23.17\"/>\n",
       "<text text-anchor=\"middle\" x=\"69.41\" y=\"-669.63\" font-family=\"DejaVu Serif,serif\" font-size=\"12.00\">9 (&#45;0)</text>\n",
       "</g>\n",
       "<!-- 9&#45;&gt;8 -->\n",
       "<g id=\"edge11\" class=\"edge\">\n",
       "<title>9&#45;&gt;8</title>\n",
       "<path fill=\"none\" stroke=\"black\" d=\"M69.41,-649.16C69.41,-639.79 69.41,-628.75 69.41,-618.63\"/>\n",
       "<polygon fill=\"black\" stroke=\"black\" points=\"71.16,-618.43 69.41,-613.43 67.66,-618.43 71.16,-618.43\"/>\n",
       "</g>\n",
       "<!-- 10 -->\n",
       "<g id=\"node10\" class=\"node\">\n",
       "<title>10</title>\n",
       "<ellipse fill=\"none\" stroke=\"black\" cx=\"69.41\" cy=\"-763.88\" rx=\"31.64\" ry=\"31.64\"/>\n",
       "<text text-anchor=\"middle\" x=\"69.41\" y=\"-760.78\" font-family=\"DejaVu Serif,serif\" font-size=\"12.00\">10 (+0)</text>\n",
       "</g>\n",
       "<!-- 10&#45;&gt;9 -->\n",
       "<g id=\"edge12\" class=\"edge\">\n",
       "<title>10&#45;&gt;9</title>\n",
       "<path fill=\"none\" stroke=\"black\" d=\"M62.98,-732.7C62.5,-722.29 62.55,-710.71 63.15,-700.58\"/>\n",
       "<polygon fill=\"black\" stroke=\"black\" points=\"64.91,-700.54 63.52,-695.43 61.42,-700.3 64.91,-700.54\"/>\n",
       "</g>\n",
       "<!-- 10&#45;&gt;9 -->\n",
       "<g id=\"edge13\" class=\"edge\">\n",
       "<title>10&#45;&gt;9</title>\n",
       "<path fill=\"none\" stroke=\"black\" d=\"M75.83,-732.7C76.32,-722.29 76.26,-710.71 75.66,-700.58\"/>\n",
       "<polygon fill=\"black\" stroke=\"black\" points=\"77.39,-700.3 75.29,-695.43 73.9,-700.54 77.39,-700.3\"/>\n",
       "</g>\n",
       "</g>\n",
       "</svg>\n"
      ]
     },
     "metadata": {},
     "output_type": "display_data"
    }
   ],
   "source": [
    "Visualize( im, all = true )"
   ]
  }
 ],
 "metadata": {
  "@webio": {
   "lastCommId": null,
   "lastKernelId": null
  },
  "celltoolbar": "Slideshow",
  "kernelspec": {
   "display_name": "Julia 1.12.1",
   "language": "julia",
   "name": "julia-1.12"
  },
  "language_info": {
   "file_extension": ".jl",
   "mimetype": "application/julia",
   "name": "julia",
   "version": "1.12.1"
  }
 },
 "nbformat": 4,
 "nbformat_minor": 2
}
