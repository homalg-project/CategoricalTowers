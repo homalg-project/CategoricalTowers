{
 "cells": [
  {
   "cell_type": "markdown",
   "metadata": {
    "slideshow": {
     "slide_type": "slide"
    }
   },
   "source": [
    "## The nilpotent orbit of $$\\begin{pmatrix} 0 & 1 \\\\ 0 & 0 \\end{pmatrix}$$ under the $\\operatorname{SL}_2$."
   ]
  },
  {
   "cell_type": "code",
   "execution_count": 1,
   "metadata": {
    "scrolled": true
   },
   "outputs": [
    {
     "name": "stdout",
     "output_type": "stream",
     "text": [
      "CapAndHomalg v\u001b[32m1.6.4\u001b[39m\n",
      "Imported OSCAR's components GAP and Singular_jll\n",
      "Type: ?CapAndHomalg for more information\n"
     ]
    }
   ],
   "source": [
    "using CapAndHomalg"
   ]
  },
  {
   "cell_type": "code",
   "execution_count": 2,
   "metadata": {
    "slideshow": {
     "slide_type": "-"
    }
   },
   "outputs": [],
   "source": [
    "LoadPackage( \"ZariskiFrames\" )"
   ]
  },
  {
   "cell_type": "code",
   "execution_count": 3,
   "metadata": {
    "slideshow": {
     "slide_type": "slide"
    }
   },
   "outputs": [
    {
     "data": {
      "text/plain": [
       "GAP: Z"
      ]
     },
     "execution_count": 3,
     "metadata": {},
     "output_type": "execute_result"
    }
   ],
   "source": [
    "ℤ = HomalgRingOfIntegersInSingular( )"
   ]
  },
  {
   "cell_type": "code",
   "execution_count": 4,
   "metadata": {},
   "outputs": [
    {
     "data": {
      "text/plain": [
       "GAP: Z[a11,a12,a21,a22]"
      ]
     },
     "execution_count": 4,
     "metadata": {},
     "output_type": "execute_result"
    }
   ],
   "source": [
    "B = ℤ[\"a11,a12,a21,a22\"]"
   ]
  },
  {
   "cell_type": "code",
   "execution_count": 5,
   "metadata": {},
   "outputs": [
    {
     "data": {
      "text/plain": [
       "GAP: Z[g11,g12,g21,g22]"
      ]
     },
     "execution_count": 5,
     "metadata": {},
     "output_type": "execute_result"
    }
   ],
   "source": [
    "T = ℤ[\"g11,g12,g21,g22\"]"
   ]
  },
  {
   "cell_type": "code",
   "execution_count": 6,
   "metadata": {},
   "outputs": [
    {
     "data": {
      "text/plain": [
       "GAP: <A 2 x 2 matrix over an external ring>"
      ]
     },
     "execution_count": 6,
     "metadata": {},
     "output_type": "execute_result"
    }
   ],
   "source": [
    "a = HomalgMatrix( \"[a11,a12,a21,a22]\", 2, 2, B )"
   ]
  },
  {
   "cell_type": "code",
   "execution_count": 7,
   "metadata": {},
   "outputs": [
    {
     "data": {
      "text/plain": [
       "GAP: <A 2 x 2 matrix over an external ring>"
      ]
     },
     "execution_count": 7,
     "metadata": {},
     "output_type": "execute_result"
    }
   ],
   "source": [
    "g = HomalgMatrix( \"[g11,g12,g21,g22]\", 2, 2, T )"
   ]
  },
  {
   "cell_type": "code",
   "execution_count": 8,
   "metadata": {},
   "outputs": [
    {
     "data": {
      "text/plain": [
       "GAP: <A 2 x 2 matrix over an external ring>"
      ]
     },
     "execution_count": 8,
     "metadata": {},
     "output_type": "execute_result"
    }
   ],
   "source": [
    "b = HomalgMatrix( \"[0,1,0,0]\", 2, 2, T )"
   ]
  },
  {
   "cell_type": "code",
   "execution_count": 9,
   "metadata": {},
   "outputs": [
    {
     "data": {
      "text/plain": [
       "GAP: [ -g11*g21, g11^2, -g21^2, g11*g21 ]"
      ]
     },
     "execution_count": 9,
     "metadata": {},
     "output_type": "execute_result"
    }
   ],
   "source": [
    "ϕ = EntriesOfHomalgMatrix( g * b * AdjunctMatrix( g ) )"
   ]
  },
  {
   "cell_type": "code",
   "execution_count": 10,
   "metadata": {},
   "outputs": [
    {
     "data": {
      "text/plain": [
       "GAP: Z[g11,g12,g21,g22]/( -g12*g21+g11*g22-1 )"
      ]
     },
     "execution_count": 10,
     "metadata": {},
     "output_type": "execute_result"
    }
   ],
   "source": [
    "T = T / ( Determinant( g ) - 1 )"
   ]
  },
  {
   "cell_type": "code",
   "execution_count": 11,
   "metadata": {},
   "outputs": [],
   "source": [
    "ϕ = RingMap( ϕ, B, T ); SetIsMorphism( ϕ, true )"
   ]
  },
  {
   "cell_type": "code",
   "execution_count": 12,
   "metadata": {},
   "outputs": [
    {
     "data": {
      "text/plain": [
       "GAP: <A homomorphism of rings>"
      ]
     },
     "execution_count": 12,
     "metadata": {},
     "output_type": "execute_result"
    }
   ],
   "source": [
    "ϕ"
   ]
  },
  {
   "cell_type": "code",
   "execution_count": 13,
   "metadata": {},
   "outputs": [
    {
     "name": "stdout",
     "output_type": "stream",
     "text": [
      "Z[g11,g12,g21,g22]/( -g12*g21+g11*g22-1 )\n",
      "  ^\n",
      "  |\n",
      "[ -g11*g21, g11^2, -g21^2, g11*g21 ]\n",
      "  |\n",
      "  |\n",
      "Z[a11,a12,a21,a22]\n"
     ]
    }
   ],
   "source": [
    "Display( ϕ )"
   ]
  },
  {
   "cell_type": "code",
   "execution_count": 14,
   "metadata": {
    "slideshow": {
     "slide_type": "slide"
    }
   },
   "outputs": [
    {
     "data": {
      "text/plain": [
       "GAP: ( V_{Z[a11,a12,a21,a22]}( I1 ) \\ V_{Z[a11,a12,a21,a22]}( J1_1 ) )"
      ]
     },
     "execution_count": 14,
     "metadata": {},
     "output_type": "execute_result"
    }
   ],
   "source": [
    "im = ConstructibleImage( ϕ )"
   ]
  },
  {
   "cell_type": "code",
   "execution_count": 15,
   "metadata": {},
   "outputs": [
    {
     "name": "stdout",
     "output_type": "stream",
     "text": [
      "( V( <a11+a22,a12*a21+a22^2> )\n",
      "\n",
      "\\ V( <a22,a21,a12,a11> ) )\n"
     ]
    }
   ],
   "source": [
    "Display( im )"
   ]
  },
  {
   "cell_type": "code",
   "execution_count": 16,
   "metadata": {
    "slideshow": {
     "slide_type": "-"
    }
   },
   "outputs": [
    {
     "data": {
      "image/svg+xml": [
       "<?xml version=\"1.0\" encoding=\"UTF-8\" standalone=\"no\"?>\n",
       "<!DOCTYPE svg PUBLIC \"-//W3C//DTD SVG 1.1//EN\"\n",
       " \"http://www.w3.org/Graphics/SVG/1.1/DTD/svg11.dtd\">\n",
       "<!-- Generated by graphviz version 2.40.1 (20161225.0304)\n",
       " -->\n",
       "<!-- Title: hgn Pages: 1 -->\n",
       "<svg width=\"72pt\" height=\"168pt\"\n",
       " viewBox=\"0.00 0.00 72.08 168.07\" xmlns=\"http://www.w3.org/2000/svg\" xmlns:xlink=\"http://www.w3.org/1999/xlink\">\n",
       "<g id=\"graph0\" class=\"graph\" transform=\"scale(1 1) rotate(0) translate(4 164.0688)\">\n",
       "<title>hgn</title>\n",
       "<polygon fill=\"#ffffff\" stroke=\"transparent\" points=\"-4,4 -4,-164.0688 68.0769,-164.0688 68.0769,4 -4,4\"/>\n",
       "<!-- 1 -->\n",
       "<g id=\"node1\" class=\"node\">\n",
       "<title>1</title>\n",
       "<ellipse fill=\"none\" stroke=\"#000000\" cx=\"32.0384\" cy=\"-32.0384\" rx=\"32.0769\" ry=\"32.0769\"/>\n",
       "<text text-anchor=\"middle\" x=\"32.0384\" y=\"-27.8384\" font-family=\"Times,serif\" font-size=\"14.00\" fill=\"#000000\">1 (+3)</text>\n",
       "</g>\n",
       "<!-- 2 -->\n",
       "<g id=\"node2\" class=\"node\">\n",
       "<title>2</title>\n",
       "<ellipse fill=\"none\" stroke=\"#000000\" cx=\"32.0384\" cy=\"-130.0729\" rx=\"29.992\" ry=\"29.992\"/>\n",
       "<text text-anchor=\"middle\" x=\"32.0384\" y=\"-125.8729\" font-family=\"Times,serif\" font-size=\"14.00\" fill=\"#000000\">4 (&#45;1)</text>\n",
       "</g>\n",
       "<!-- 2&#45;&gt;1 -->\n",
       "<g id=\"edge1\" class=\"edge\">\n",
       "<title>2&#45;&gt;1</title>\n",
       "<path fill=\"none\" stroke=\"#000000\" d=\"M32.0384,-99.8594C32.0384,-91.86 32.0384,-83.0731 32.0384,-74.553\"/>\n",
       "<polygon fill=\"#000000\" stroke=\"#000000\" points=\"35.5385,-74.3635 32.0384,-64.3635 28.5385,-74.3636 35.5385,-74.3635\"/>\n",
       "</g>\n",
       "</g>\n",
       "</svg>\n"
      ]
     },
     "metadata": {},
     "output_type": "display_data"
    }
   ],
   "source": [
    "Visualize( im )"
   ]
  },
  {
   "cell_type": "code",
   "execution_count": 17,
   "metadata": {
    "slideshow": {
     "slide_type": "slide"
    }
   },
   "outputs": [
    {
     "data": {
      "image/svg+xml": [
       "<?xml version=\"1.0\" encoding=\"UTF-8\" standalone=\"no\"?>\n",
       "<!DOCTYPE svg PUBLIC \"-//W3C//DTD SVG 1.1//EN\"\n",
       " \"http://www.w3.org/Graphics/SVG/1.1/DTD/svg11.dtd\">\n",
       "<!-- Generated by graphviz version 2.40.1 (20161225.0304)\n",
       " -->\n",
       "<!-- Title: hgn Pages: 1 -->\n",
       "<svg width=\"88pt\" height=\"397pt\"\n",
       " viewBox=\"0.00 0.00 88.36 396.71\" xmlns=\"http://www.w3.org/2000/svg\" xmlns:xlink=\"http://www.w3.org/1999/xlink\">\n",
       "<g id=\"graph0\" class=\"graph\" transform=\"scale(1 1) rotate(0) translate(4 392.7134)\">\n",
       "<title>hgn</title>\n",
       "<polygon fill=\"#ffffff\" stroke=\"transparent\" points=\"-4,4 -4,-392.7134 84.3648,-392.7134 84.3648,4 -4,4\"/>\n",
       "<!-- 1 -->\n",
       "<g id=\"node1\" class=\"node\">\n",
       "<title>1</title>\n",
       "<ellipse fill=\"none\" stroke=\"#000000\" cx=\"40.1824\" cy=\"-40.1824\" rx=\"40.3656\" ry=\"40.3656\"/>\n",
       "<text text-anchor=\"middle\" x=\"40.1824\" y=\"-35.9824\" font-family=\"Times,serif\" font-size=\"14.00\" fill=\"#000000\">@1 (+3)</text>\n",
       "</g>\n",
       "<!-- 2 -->\n",
       "<g id=\"node2\" class=\"node\">\n",
       "<title>2</title>\n",
       "<ellipse fill=\"none\" stroke=\"#000000\" cx=\"40.1824\" cy=\"-146.3607\" rx=\"29.992\" ry=\"29.992\"/>\n",
       "<text text-anchor=\"middle\" x=\"40.1824\" y=\"-142.1607\" font-family=\"Times,serif\" font-size=\"14.00\" fill=\"#000000\">2 (&#45;2)</text>\n",
       "</g>\n",
       "<!-- 2&#45;&gt;1 -->\n",
       "<g id=\"edge1\" class=\"edge\">\n",
       "<title>2&#45;&gt;1</title>\n",
       "<path fill=\"none\" stroke=\"#000000\" d=\"M40.1824,-116.2183C40.1824,-108.2862 40.1824,-99.5079 40.1824,-90.8175\"/>\n",
       "<polygon fill=\"#000000\" stroke=\"#000000\" points=\"43.6825,-90.712 40.1824,-80.712 36.6825,-90.712 43.6825,-90.712\"/>\n",
       "</g>\n",
       "<!-- 3 -->\n",
       "<g id=\"node3\" class=\"node\">\n",
       "<title>3</title>\n",
       "<ellipse fill=\"none\" stroke=\"#000000\" cx=\"40.1824\" cy=\"-244.3952\" rx=\"32.0769\" ry=\"32.0769\"/>\n",
       "<text text-anchor=\"middle\" x=\"40.1824\" y=\"-240.1952\" font-family=\"Times,serif\" font-size=\"14.00\" fill=\"#000000\">3 (+2)</text>\n",
       "</g>\n",
       "<!-- 3&#45;&gt;2 -->\n",
       "<g id=\"edge2\" class=\"edge\">\n",
       "<title>3&#45;&gt;2</title>\n",
       "<path fill=\"none\" stroke=\"#000000\" d=\"M33.8283,-212.8368C33.4254,-204.3078 33.33,-194.9676 33.5421,-186.0544\"/>\n",
       "<polygon fill=\"#000000\" stroke=\"#000000\" points=\"37.0471,-185.9881 33.9323,-175.8615 30.0522,-185.7203 37.0471,-185.9881\"/>\n",
       "</g>\n",
       "<!-- 3&#45;&gt;2 -->\n",
       "<g id=\"edge3\" class=\"edge\">\n",
       "<title>3&#45;&gt;2</title>\n",
       "<path fill=\"none\" stroke=\"#000000\" d=\"M46.5365,-212.8368C46.9394,-204.3078 47.0348,-194.9676 46.8227,-186.0544\"/>\n",
       "<polygon fill=\"#000000\" stroke=\"#000000\" points=\"50.3125,-185.7203 46.4324,-175.8615 43.3176,-185.9881 50.3125,-185.7203\"/>\n",
       "</g>\n",
       "<!-- 4 -->\n",
       "<g id=\"node4\" class=\"node\">\n",
       "<title>4</title>\n",
       "<ellipse fill=\"none\" stroke=\"#000000\" cx=\"40.1824\" cy=\"-350.5735\" rx=\"38.2803\" ry=\"38.2803\"/>\n",
       "<text text-anchor=\"middle\" x=\"40.1824\" y=\"-346.3735\" font-family=\"Times,serif\" font-size=\"14.00\" fill=\"#000000\">@4 (&#45;1)</text>\n",
       "</g>\n",
       "<!-- 4&#45;&gt;3 -->\n",
       "<g id=\"edge4\" class=\"edge\">\n",
       "<title>4&#45;&gt;3</title>\n",
       "<path fill=\"none\" stroke=\"#000000\" d=\"M40.1824,-312.2407C40.1824,-303.9635 40.1824,-295.1664 40.1824,-286.7455\"/>\n",
       "<polygon fill=\"#000000\" stroke=\"#000000\" points=\"43.6825,-286.7207 40.1824,-276.7207 36.6825,-286.7208 43.6825,-286.7207\"/>\n",
       "</g>\n",
       "</g>\n",
       "</svg>\n"
      ]
     },
     "metadata": {},
     "output_type": "display_data"
    }
   ],
   "source": [
    "Visualize( im, all = true )"
   ]
  },
  {
   "cell_type": "code",
   "execution_count": 16,
   "metadata": {
    "slideshow": {
     "slide_type": "slide"
    }
   },
   "outputs": [
    {
     "data": {
      "text/plain": [
       "GAP: ( V_{Z[a11,a12,a21,a22]}( I1 ) \\ V_{Z[a11,a12,a21,a22]}( J1_1 ) ) ∪ ( V_{Z[a11,a12,a21,a22]}( I2 ) \\ V_{Z[a11,a12,a21,a22]}( J2_1 ) )"
      ]
     },
     "execution_count": 16,
     "metadata": {},
     "output_type": "execute_result"
    }
   ],
   "source": [
    "im2 = ConstructibleImage( ϕ, squash = false )"
   ]
  },
  {
   "cell_type": "code",
   "execution_count": 17,
   "metadata": {},
   "outputs": [
    {
     "name": "stdout",
     "output_type": "stream",
     "text": [
      "( V( <a11+a22,a12*a21+a22^2> )\n",
      "\n",
      "\\ V( <a12,a11+a22,a22^2> ) )\n",
      "\n",
      "∪\n",
      "\n",
      "( V( <a22,a12,a11> )\n",
      "\n",
      "\\ V( <a22,a21,a12,a11> ) )\n"
     ]
    }
   ],
   "source": [
    "Display( im2 )"
   ]
  },
  {
   "cell_type": "code",
   "execution_count": 18,
   "metadata": {},
   "outputs": [
    {
     "data": {
      "text/plain": [
       "GAP: ( V_{Z[a11,a12,a21,a22]}( I1 ) \\ V_{Z[a11,a12,a21,a22]}( J1_1 ) ) ∪ ( V_{Z[a11,a12,a21,a22]}( I2 ) \\ V_{Z[a11,a12,a21,a22]}( J2_1 ) )"
      ]
     },
     "execution_count": 18,
     "metadata": {},
     "output_type": "execute_result"
    }
   ],
   "source": [
    "StandardizeObject( im2 )"
   ]
  },
  {
   "cell_type": "code",
   "execution_count": 19,
   "metadata": {},
   "outputs": [
    {
     "name": "stdout",
     "output_type": "stream",
     "text": [
      "( V( <a11+a22,a12*a21+a22^2> )\n",
      "\n",
      "\\ V( <a22,a12,a11> ) )\n",
      "\n",
      "∪\n",
      "\n",
      "( V( <a22,a12,a11> )\n",
      "\n",
      "\\ V( <a22,a21,a12,a11> ) )\n"
     ]
    }
   ],
   "source": [
    "Display( im2 )"
   ]
  }
 ],
 "metadata": {
  "@webio": {
   "lastCommId": null,
   "lastKernelId": null
  },
  "celltoolbar": "Slideshow",
  "kernelspec": {
   "display_name": "Julia 1.12.1",
   "language": "julia",
   "name": "julia-1.12"
  },
  "language_info": {
   "file_extension": ".jl",
   "mimetype": "application/julia",
   "name": "julia",
   "version": "1.12.1"
  }
 },
 "nbformat": 4,
 "nbformat_minor": 2
}
