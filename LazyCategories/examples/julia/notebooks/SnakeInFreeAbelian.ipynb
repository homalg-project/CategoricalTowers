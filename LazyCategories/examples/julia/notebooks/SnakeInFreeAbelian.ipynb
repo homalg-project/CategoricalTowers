{
 "cells": [
  {
   "cell_type": "code",
   "execution_count": 1,
   "id": "c840924f",
   "metadata": {},
   "outputs": [
    {
     "name": "stdout",
     "output_type": "stream",
     "text": [
      "CapAndHomalg v\u001b[32m1.6.4\u001b[39m\n",
      "Imported OSCAR's components GAP and Singular_jll\n",
      "Type: ?CapAndHomalg for more information\n"
     ]
    }
   ],
   "source": [
    "using CapAndHomalg"
   ]
  },
  {
   "cell_type": "code",
   "execution_count": 2,
   "id": "c7cbfdbc",
   "metadata": {},
   "outputs": [],
   "source": [
    "LoadPackage( \"Algebroid\" )"
   ]
  },
  {
   "cell_type": "code",
   "execution_count": 3,
   "id": "40a12ba1",
   "metadata": {},
   "outputs": [
    {
     "data": {
      "text/plain": [
       "GAP: q(4)[a:1->2,b:2->3,c:3->4]"
      ]
     },
     "execution_count": 3,
     "metadata": {},
     "output_type": "execute_result"
    }
   ],
   "source": [
    "q = RightQuiver( \"q(4)[a:1->2,b:2->3,c:3->4]\" )"
   ]
  },
  {
   "cell_type": "code",
   "execution_count": 4,
   "id": "b3b23b01",
   "metadata": {},
   "outputs": [
    {
     "data": {
      "text/plain": [
       "GAP: FreeCategory( RightQuiver( \"q(4)[a:1->2,b:2->3,c:3->4]\" ) )"
      ]
     },
     "execution_count": 4,
     "metadata": {},
     "output_type": "execute_result"
    }
   ],
   "source": [
    "Fq = FreeCategory( q )"
   ]
  },
  {
   "cell_type": "code",
   "execution_count": 5,
   "id": "99872a4c",
   "metadata": {},
   "outputs": [
    {
     "data": {
      "text/plain": [
       "GAP: Z"
      ]
     },
     "execution_count": 5,
     "metadata": {},
     "output_type": "execute_result"
    }
   ],
   "source": [
    "ℤ = HomalgRingOfIntegers( )"
   ]
  },
  {
   "cell_type": "code",
   "execution_count": 6,
   "id": "8500cd4f",
   "metadata": {},
   "outputs": [
    {
     "data": {
      "text/plain": [
       "GAP: Algebroid( Z, FreeCategory( RightQuiver( \"q(4)[a:1->2,b:2->3,c:3->4]\" ) ) )"
      ]
     },
     "execution_count": 6,
     "metadata": {},
     "output_type": "execute_result"
    }
   ],
   "source": [
    "ℤq = ℤ[Fq]"
   ]
  },
  {
   "cell_type": "code",
   "execution_count": 7,
   "id": "370618b5",
   "metadata": {},
   "outputs": [
    {
     "data": {
      "text/plain": [
       "GAP: Algebroid( Z, FreeCategory( RightQuiver( \"q(4)[a:1->2,b:2->3,c:3->4]\" ) ) ) / relations"
      ]
     },
     "execution_count": 7,
     "metadata": {},
     "output_type": "execute_result"
    }
   ],
   "source": [
    "A = ℤq / [ ℤq.abc ]"
   ]
  },
  {
   "cell_type": "code",
   "execution_count": 8,
   "id": "646c977e",
   "metadata": {},
   "outputs": [],
   "source": [
    "LoadPackage( \"FreydCategoriesForCAP\" )"
   ]
  },
  {
   "cell_type": "code",
   "execution_count": 9,
   "id": "7e25abac",
   "metadata": {},
   "outputs": [
    {
     "data": {
      "text/plain": [
       "GAP: AdditiveClosure( Algebroid( Z, FreeCategory( RightQuiver( \"q(4)[a:1->2,b:2->3,c:3->4]\" ) ) ) / relations )"
      ]
     },
     "execution_count": 9,
     "metadata": {},
     "output_type": "execute_result"
    }
   ],
   "source": [
    "A_add = AdditiveClosure( A )"
   ]
  },
  {
   "cell_type": "code",
   "execution_count": 10,
   "id": "69bd636c",
   "metadata": {},
   "outputs": [
    {
     "data": {
      "text/plain": [
       "GAP: Adelman category( AdditiveClosure( Algebroid( Z, FreeCategory( RightQuiver( \"q(4)[a:1->2,b:2->3,c:3->4]\" ) ) ) / relations ) )"
      ]
     },
     "execution_count": 10,
     "metadata": {},
     "output_type": "execute_result"
    }
   ],
   "source": [
    "A_abel = AdelmanCategory( A_add )"
   ]
  },
  {
   "cell_type": "code",
   "execution_count": 11,
   "id": "a7e930b2",
   "metadata": {},
   "outputs": [],
   "source": [
    "LoadPackage( \"LazyCategories\" )"
   ]
  },
  {
   "cell_type": "code",
   "execution_count": 12,
   "id": "d12eb407",
   "metadata": {},
   "outputs": [
    {
     "data": {
      "text/plain": [
       "GAP: LazyCategory( Adelman category( AdditiveClosure( Algebroid( Z, FreeCategory( RightQuiver( \"q(4)[a:1->2,b:2->3,c:3->4]\" ) ) ) / relations ) ) )"
      ]
     },
     "execution_count": 12,
     "metadata": {},
     "output_type": "execute_result"
    }
   ],
   "source": [
    "Lazy = LazyCategory( A_abel, show_evaluation = true )"
   ]
  },
  {
   "cell_type": "code",
   "execution_count": 13,
   "id": "ec39a95a",
   "metadata": {},
   "outputs": [
    {
     "data": {
      "text/plain": [
       "GAP: <An evaluated morphism in LazyCategory( Adelman category( AdditiveClosure( Algebroid( Z, FreeCategory( RightQuiver( \"q(4)[a:1->2,b:2->3,c:3->4]\" ) ) ) / relations ) ) )>"
      ]
     },
     "execution_count": 13,
     "metadata": {},
     "output_type": "execute_result"
    }
   ],
   "source": [
    "a = A.a / A_add / A_abel / Lazy"
   ]
  },
  {
   "cell_type": "code",
   "execution_count": 14,
   "id": "1850c625",
   "metadata": {},
   "outputs": [
    {
     "data": {
      "text/plain": [
       "GAP: <An evaluated morphism in LazyCategory( Adelman category( AdditiveClosure( Algebroid( Z, FreeCategory( RightQuiver( \"q(4)[a:1->2,b:2->3,c:3->4]\" ) ) ) / relations ) ) )>"
      ]
     },
     "execution_count": 14,
     "metadata": {},
     "output_type": "execute_result"
    }
   ],
   "source": [
    "b = A.b / A_add / A_abel / Lazy"
   ]
  },
  {
   "cell_type": "code",
   "execution_count": 15,
   "id": "c07c921f",
   "metadata": {},
   "outputs": [
    {
     "data": {
      "text/plain": [
       "GAP: <An evaluated morphism in LazyCategory( Adelman category( AdditiveClosure( Algebroid( Z, FreeCategory( RightQuiver( \"q(4)[a:1->2,b:2->3,c:3->4]\" ) ) ) / relations ) ) )>"
      ]
     },
     "execution_count": 15,
     "metadata": {},
     "output_type": "execute_result"
    }
   ],
   "source": [
    "c = A.c / A_add / A_abel / Lazy"
   ]
  },
  {
   "cell_type": "code",
   "execution_count": 16,
   "id": "7728490f",
   "metadata": {},
   "outputs": [],
   "source": [
    "SetLabel( a, \"a\" )\n",
    "SetLabel( b, \"b\" )\n",
    "SetLabel( c, \"c\" )"
   ]
  },
  {
   "cell_type": "code",
   "execution_count": 17,
   "id": "5c12c128",
   "metadata": {},
   "outputs": [],
   "source": [
    "SetLabel( Source( a ), \"1\" )\n",
    "SetLabel( Source( b ), \"2\" )\n",
    "SetLabel( Target( b ), \"3\" )\n",
    "SetLabel( Target( c ), \"4\" )"
   ]
  },
  {
   "cell_type": "code",
   "execution_count": 18,
   "id": "7095b67a",
   "metadata": {},
   "outputs": [
    {
     "data": {
      "text/plain": [
       "GAP: <An epimorphism in LazyCategory( Adelman category( AdditiveClosure( Algebroid( Z, FreeCategory( RightQuiver( \"q(4)[a:1->2,b:2->3,c:3->4]\" ) ) ) / relations ) ) )>"
      ]
     },
     "execution_count": 18,
     "metadata": {},
     "output_type": "execute_result"
    }
   ],
   "source": [
    "d = CokernelProjection( a )"
   ]
  },
  {
   "cell_type": "code",
   "execution_count": 19,
   "id": "f0e24588",
   "metadata": {},
   "outputs": [
    {
     "data": {
      "text/plain": [
       "GAP: <A morphism in LazyCategory( Adelman category( AdditiveClosure( Algebroid( Z, FreeCategory( RightQuiver( \"q(4)[a:1->2,b:2->3,c:3->4]\" ) ) ) / relations ) ) )>"
      ]
     },
     "execution_count": 19,
     "metadata": {},
     "output_type": "execute_result"
    }
   ],
   "source": [
    "e = CokernelColift( a, PreCompose( b, c ) )"
   ]
  },
  {
   "cell_type": "code",
   "execution_count": 20,
   "id": "93657878",
   "metadata": {},
   "outputs": [
    {
     "data": {
      "text/plain": [
       "GAP: <A monomorphism in LazyCategory( Adelman category( AdditiveClosure( Algebroid( Z, FreeCategory( RightQuiver( \"q(4)[a:1->2,b:2->3,c:3->4]\" ) ) ) / relations ) ) )>"
      ]
     },
     "execution_count": 20,
     "metadata": {},
     "output_type": "execute_result"
    }
   ],
   "source": [
    "f = KernelEmbedding( e )"
   ]
  },
  {
   "cell_type": "code",
   "execution_count": 21,
   "id": "dbbd5c41",
   "metadata": {},
   "outputs": [
    {
     "data": {
      "text/plain": [
       "GAP: <A monomorphism in LazyCategory( Adelman category( AdditiveClosure( Algebroid( Z, FreeCategory( RightQuiver( \"q(4)[a:1->2,b:2->3,c:3->4]\" ) ) ) / relations ) ) )>"
      ]
     },
     "execution_count": 21,
     "metadata": {},
     "output_type": "execute_result"
    }
   ],
   "source": [
    "g = KernelEmbedding( c )"
   ]
  },
  {
   "cell_type": "code",
   "execution_count": 22,
   "id": "207e2743",
   "metadata": {},
   "outputs": [
    {
     "data": {
      "text/plain": [
       "GAP: <A morphism in LazyCategory( Adelman category( AdditiveClosure( Algebroid( Z, FreeCategory( RightQuiver( \"q(4)[a:1->2,b:2->3,c:3->4]\" ) ) ) / relations ) ) )>"
      ]
     },
     "execution_count": 22,
     "metadata": {},
     "output_type": "execute_result"
    }
   ],
   "source": [
    "h = KernelLift( c, PreCompose( a, b ) )"
   ]
  },
  {
   "cell_type": "code",
   "execution_count": 23,
   "id": "c83761ef",
   "metadata": {},
   "outputs": [
    {
     "data": {
      "text/plain": [
       "GAP: <An epimorphism in LazyCategory( Adelman category( AdditiveClosure( Algebroid( Z, FreeCategory( RightQuiver( \"q(4)[a:1->2,b:2->3,c:3->4]\" ) ) ) / relations ) ) )>"
      ]
     },
     "execution_count": 23,
     "metadata": {},
     "output_type": "execute_result"
    }
   ],
   "source": [
    "i = CokernelProjection( h )"
   ]
  },
  {
   "cell_type": "code",
   "execution_count": 24,
   "id": "6ad68520",
   "metadata": {},
   "outputs": [],
   "source": [
    "LoadPackage( \"GeneralizedMorphismsForCAP\" )"
   ]
  },
  {
   "cell_type": "code",
   "execution_count": 25,
   "id": "5d6cbe76",
   "metadata": {},
   "outputs": [],
   "source": [
    "SwitchGeneralizedMorphismStandard( g\"cospan\" )"
   ]
  },
  {
   "cell_type": "code",
   "execution_count": 26,
   "id": "2a64d37c",
   "metadata": {},
   "outputs": [
    {
     "data": {
      "text/plain": [
       "GAP: <A morphism in Generalized morphism category of LazyCategory( Adelman category( AdditiveClosure( Algebroid( Z, FreeCategory( RightQuiver( \"q(4)[a:1->2,b:2->3,c:3->4]\" ) ) ) / relations ) ) ) by cospan>"
      ]
     },
     "execution_count": 26,
     "metadata": {},
     "output_type": "execute_result"
    }
   ],
   "source": [
    "ff = AsGeneralizedMorphism( f )"
   ]
  },
  {
   "cell_type": "code",
   "execution_count": 27,
   "id": "f9b7b6de",
   "metadata": {},
   "outputs": [
    {
     "data": {
      "text/plain": [
       "GAP: <A morphism in Generalized morphism category of LazyCategory( Adelman category( AdditiveClosure( Algebroid( Z, FreeCategory( RightQuiver( \"q(4)[a:1->2,b:2->3,c:3->4]\" ) ) ) / relations ) ) ) by cospan>"
      ]
     },
     "execution_count": 27,
     "metadata": {},
     "output_type": "execute_result"
    }
   ],
   "source": [
    "dd = AsGeneralizedMorphism( d )"
   ]
  },
  {
   "cell_type": "code",
   "execution_count": 28,
   "id": "790f769f",
   "metadata": {},
   "outputs": [
    {
     "data": {
      "text/plain": [
       "GAP: <A morphism in Generalized morphism category of LazyCategory( Adelman category( AdditiveClosure( Algebroid( Z, FreeCategory( RightQuiver( \"q(4)[a:1->2,b:2->3,c:3->4]\" ) ) ) / relations ) ) ) by cospan>"
      ]
     },
     "execution_count": 28,
     "metadata": {},
     "output_type": "execute_result"
    }
   ],
   "source": [
    "bb = AsGeneralizedMorphism( b )"
   ]
  },
  {
   "cell_type": "code",
   "execution_count": 29,
   "id": "8fea72af",
   "metadata": {},
   "outputs": [
    {
     "data": {
      "text/plain": [
       "GAP: <A morphism in Generalized morphism category of LazyCategory( Adelman category( AdditiveClosure( Algebroid( Z, FreeCategory( RightQuiver( \"q(4)[a:1->2,b:2->3,c:3->4]\" ) ) ) / relations ) ) ) by cospan>"
      ]
     },
     "execution_count": 29,
     "metadata": {},
     "output_type": "execute_result"
    }
   ],
   "source": [
    "gg = AsGeneralizedMorphism( g )"
   ]
  },
  {
   "cell_type": "code",
   "execution_count": 30,
   "id": "ebd60d23",
   "metadata": {},
   "outputs": [
    {
     "data": {
      "text/plain": [
       "GAP: <A morphism in Generalized morphism category of LazyCategory( Adelman category( AdditiveClosure( Algebroid( Z, FreeCategory( RightQuiver( \"q(4)[a:1->2,b:2->3,c:3->4]\" ) ) ) / relations ) ) ) by cospan>"
      ]
     },
     "execution_count": 30,
     "metadata": {},
     "output_type": "execute_result"
    }
   ],
   "source": [
    "ii = AsGeneralizedMorphism( i )"
   ]
  },
  {
   "cell_type": "code",
   "execution_count": 31,
   "id": "d7daa2b3",
   "metadata": {},
   "outputs": [
    {
     "data": {
      "text/plain": [
       "GAP: <A morphism in Generalized morphism category of LazyCategory( Adelman category( AdditiveClosure( Algebroid( Z, FreeCategory( RightQuiver( \"q(4)[a:1->2,b:2->3,c:3->4]\" ) ) ) / relations ) ) ) by cospan>"
      ]
     },
     "execution_count": 31,
     "metadata": {},
     "output_type": "execute_result"
    }
   ],
   "source": [
    "ss = PreCompose( [ ff, PseudoInverse( dd ), bb, PseudoInverse( gg ), ii ] )"
   ]
  },
  {
   "cell_type": "code",
   "execution_count": 32,
   "id": "3955cd97",
   "metadata": {},
   "outputs": [
    {
     "data": {
      "text/plain": [
       "GAP: <A morphism in LazyCategory( Adelman category( AdditiveClosure( Algebroid( Z, FreeCategory( RightQuiver( \"q(4)[a:1->2,b:2->3,c:3->4]\" ) ) ) / relations ) ) )>"
      ]
     },
     "execution_count": 32,
     "metadata": {},
     "output_type": "execute_result"
    }
   ],
   "source": [
    "s = HonestRepresentative( ss )"
   ]
  },
  {
   "cell_type": "code",
   "execution_count": 33,
   "id": "9cbbbbd7",
   "metadata": {
    "scrolled": false
   },
   "outputs": [
    {
     "data": {
      "image/svg+xml": [
       "<?xml version=\"1.0\" encoding=\"UTF-8\" standalone=\"no\"?>\n",
       "<!DOCTYPE svg PUBLIC \"-//W3C//DTD SVG 1.1//EN\"\n",
       " \"http://www.w3.org/Graphics/SVG/1.1/DTD/svg11.dtd\">\n",
       "<!-- Generated by graphviz version 2.50.0 (20211204.2007)\n",
       " -->\n",
       "<!-- Title: DigraphOfEvaluation Pages: 1 -->\n",
       "<svg width=\"798pt\" height=\"1849pt\"\n",
       " viewBox=\"0.00 0.00 797.50 1849.00\" xmlns=\"http://www.w3.org/2000/svg\" xmlns:xlink=\"http://www.w3.org/1999/xlink\">\n",
       "<g id=\"graph0\" class=\"graph\" transform=\"scale(1 1) rotate(0) translate(4 1845)\">\n",
       "<title>DigraphOfEvaluation</title>\n",
       "<polygon fill=\"white\" stroke=\"transparent\" points=\"-4,4 -4,-1845 793.5,-1845 793.5,4 -4,4\"/>\n",
       "<!-- 1 -->\n",
       "<g id=\"node1\" class=\"node\">\n",
       "<title>1</title>\n",
       "<polygon fill=\"none\" stroke=\"black\" points=\"246,-1841 173,-1841 173,-1773 246,-1773 246,-1841\"/>\n",
       "<text text-anchor=\"middle\" x=\"209.5\" y=\"-1825.8\" font-family=\"Times,serif\" font-size=\"14.00\">[1]</text>\n",
       "<text text-anchor=\"middle\" x=\"209.5\" y=\"-1810.8\" font-family=\"Times,serif\" font-size=\"14.00\">primitive</text>\n",
       "<text text-anchor=\"middle\" x=\"209.5\" y=\"-1795.8\" font-family=\"Times,serif\" font-size=\"14.00\">morphism</text>\n",
       "<text text-anchor=\"middle\" x=\"209.5\" y=\"-1780.8\" font-family=\"Times,serif\" font-size=\"14.00\">&lt;a&gt;</text>\n",
       "</g>\n",
       "<!-- 3 -->\n",
       "<g id=\"node3\" class=\"node\">\n",
       "<title>3</title>\n",
       "<polygon fill=\"none\" stroke=\"black\" points=\"589.5,-1609.5 521.5,-1609.5 521.5,-1556.5 589.5,-1556.5 589.5,-1609.5\"/>\n",
       "<text text-anchor=\"middle\" x=\"555.5\" y=\"-1594.3\" font-family=\"Times,serif\" font-size=\"14.00\">[3]</text>\n",
       "<text text-anchor=\"middle\" x=\"555.5\" y=\"-1579.3\" font-family=\"Times,serif\" font-size=\"14.00\">Pre</text>\n",
       "<text text-anchor=\"middle\" x=\"555.5\" y=\"-1564.3\" font-family=\"Times,serif\" font-size=\"14.00\">Compose</text>\n",
       "</g>\n",
       "<!-- 1&#45;&gt;3 -->\n",
       "<g id=\"edge1\" class=\"edge\">\n",
       "<title>1&#45;&gt;3</title>\n",
       "<path fill=\"none\" stroke=\"black\" d=\"M246.35,-1803.49C297.74,-1798.34 391.78,-1782.76 455.5,-1736 496.47,-1705.94 525.44,-1653.63 541.31,-1618.91\"/>\n",
       "<polygon fill=\"black\" stroke=\"black\" points=\"544.58,-1620.18 545.44,-1609.62 538.18,-1617.34 544.58,-1620.18\"/>\n",
       "<text text-anchor=\"middle\" x=\"518\" y=\"-1698.3\" font-family=\"Times,serif\" font-size=\"14.00\">1</text>\n",
       "</g>\n",
       "<!-- 7 -->\n",
       "<g id=\"node7\" class=\"node\">\n",
       "<title>7</title>\n",
       "<polygon fill=\"none\" stroke=\"black\" points=\"191.5,-1728.5 125.5,-1728.5 125.5,-1675.5 191.5,-1675.5 191.5,-1728.5\"/>\n",
       "<text text-anchor=\"middle\" x=\"158.5\" y=\"-1713.3\" font-family=\"Times,serif\" font-size=\"14.00\">[7]</text>\n",
       "<text text-anchor=\"middle\" x=\"158.5\" y=\"-1698.3\" font-family=\"Times,serif\" font-size=\"14.00\">Cokernel</text>\n",
       "<text text-anchor=\"middle\" x=\"158.5\" y=\"-1683.3\" font-family=\"Times,serif\" font-size=\"14.00\">Object</text>\n",
       "</g>\n",
       "<!-- 1&#45;&gt;7 -->\n",
       "<g id=\"edge4\" class=\"edge\">\n",
       "<title>1&#45;&gt;7</title>\n",
       "<path fill=\"none\" stroke=\"black\" d=\"M193.08,-1772.84C187.53,-1761.63 181.32,-1749.09 175.71,-1737.76\"/>\n",
       "<polygon fill=\"black\" stroke=\"black\" points=\"178.74,-1735.99 171.17,-1728.58 172.47,-1739.1 178.74,-1735.99\"/>\n",
       "</g>\n",
       "<!-- 8 -->\n",
       "<g id=\"node8\" class=\"node\">\n",
       "<title>8</title>\n",
       "<polygon fill=\"none\" stroke=\"black\" points=\"288.5,-1617 166.5,-1617 166.5,-1549 288.5,-1549 288.5,-1617\"/>\n",
       "<text text-anchor=\"middle\" x=\"227.5\" y=\"-1601.8\" font-family=\"Times,serif\" font-size=\"14.00\">[8]</text>\n",
       "<text text-anchor=\"middle\" x=\"227.5\" y=\"-1586.8\" font-family=\"Times,serif\" font-size=\"14.00\">CokernelProjection</text>\n",
       "<text text-anchor=\"middle\" x=\"227.5\" y=\"-1571.8\" font-family=\"Times,serif\" font-size=\"14.00\">WithGiven</text>\n",
       "<text text-anchor=\"middle\" x=\"227.5\" y=\"-1556.8\" font-family=\"Times,serif\" font-size=\"14.00\">CokernelObject</text>\n",
       "</g>\n",
       "<!-- 1&#45;&gt;8 -->\n",
       "<g id=\"edge5\" class=\"edge\">\n",
       "<title>1&#45;&gt;8</title>\n",
       "<path fill=\"none\" stroke=\"black\" d=\"M212.19,-1772.76C215.34,-1733.99 220.55,-1669.77 224,-1627.17\"/>\n",
       "<polygon fill=\"black\" stroke=\"black\" points=\"227.5,-1627.35 224.82,-1617.1 220.52,-1626.78 227.5,-1627.35\"/>\n",
       "<text text-anchor=\"middle\" x=\"225\" y=\"-1698.3\" font-family=\"Times,serif\" font-size=\"14.00\">1</text>\n",
       "</g>\n",
       "<!-- 17 -->\n",
       "<g id=\"node17\" class=\"node\">\n",
       "<title>17</title>\n",
       "<polygon fill=\"none\" stroke=\"black\" points=\"156.5,-1498 54.5,-1498 54.5,-1430 156.5,-1430 156.5,-1498\"/>\n",
       "<text text-anchor=\"middle\" x=\"105.5\" y=\"-1482.8\" font-family=\"Times,serif\" font-size=\"14.00\">[17]</text>\n",
       "<text text-anchor=\"middle\" x=\"105.5\" y=\"-1467.8\" font-family=\"Times,serif\" font-size=\"14.00\">CokernelColift</text>\n",
       "<text text-anchor=\"middle\" x=\"105.5\" y=\"-1452.8\" font-family=\"Times,serif\" font-size=\"14.00\">WithGiven</text>\n",
       "<text text-anchor=\"middle\" x=\"105.5\" y=\"-1437.8\" font-family=\"Times,serif\" font-size=\"14.00\">CokernelObject</text>\n",
       "</g>\n",
       "<!-- 1&#45;&gt;17 -->\n",
       "<g id=\"edge21\" class=\"edge\">\n",
       "<title>1&#45;&gt;17</title>\n",
       "<path fill=\"none\" stroke=\"black\" d=\"M172.96,-1788.73C152.49,-1776.95 128.7,-1759.26 116.5,-1736 78.41,-1663.38 87.05,-1564.14 96.47,-1508.11\"/>\n",
       "<polygon fill=\"black\" stroke=\"black\" points=\"99.94,-1508.63 98.23,-1498.17 93.04,-1507.41 99.94,-1508.63\"/>\n",
       "<text text-anchor=\"middle\" x=\"95\" y=\"-1638.8\" font-family=\"Times,serif\" font-size=\"14.00\">1</text>\n",
       "</g>\n",
       "<!-- 2 -->\n",
       "<g id=\"node2\" class=\"node\">\n",
       "<title>2</title>\n",
       "<polygon fill=\"none\" stroke=\"black\" points=\"447,-1736 374,-1736 374,-1668 447,-1668 447,-1736\"/>\n",
       "<text text-anchor=\"middle\" x=\"410.5\" y=\"-1720.8\" font-family=\"Times,serif\" font-size=\"14.00\">[2]</text>\n",
       "<text text-anchor=\"middle\" x=\"410.5\" y=\"-1705.8\" font-family=\"Times,serif\" font-size=\"14.00\">primitive</text>\n",
       "<text text-anchor=\"middle\" x=\"410.5\" y=\"-1690.8\" font-family=\"Times,serif\" font-size=\"14.00\">morphism</text>\n",
       "<text text-anchor=\"middle\" x=\"410.5\" y=\"-1675.8\" font-family=\"Times,serif\" font-size=\"14.00\">&lt;b&gt;</text>\n",
       "</g>\n",
       "<!-- 2&#45;&gt;3 -->\n",
       "<g id=\"edge2\" class=\"edge\">\n",
       "<title>2&#45;&gt;3</title>\n",
       "<path fill=\"none\" stroke=\"black\" d=\"M447.09,-1671.48C468.07,-1654.55 494.41,-1633.29 515.88,-1615.97\"/>\n",
       "<polygon fill=\"black\" stroke=\"black\" points=\"518.26,-1618.54 523.85,-1609.54 513.87,-1613.1 518.26,-1618.54\"/>\n",
       "<text text-anchor=\"middle\" x=\"495\" y=\"-1638.8\" font-family=\"Times,serif\" font-size=\"14.00\">2</text>\n",
       "</g>\n",
       "<!-- 9 -->\n",
       "<g id=\"node9\" class=\"node\">\n",
       "<title>9</title>\n",
       "<polygon fill=\"none\" stroke=\"black\" points=\"374.5,-1609.5 306.5,-1609.5 306.5,-1556.5 374.5,-1556.5 374.5,-1609.5\"/>\n",
       "<text text-anchor=\"middle\" x=\"340.5\" y=\"-1594.3\" font-family=\"Times,serif\" font-size=\"14.00\">[9]</text>\n",
       "<text text-anchor=\"middle\" x=\"340.5\" y=\"-1579.3\" font-family=\"Times,serif\" font-size=\"14.00\">Pre</text>\n",
       "<text text-anchor=\"middle\" x=\"340.5\" y=\"-1564.3\" font-family=\"Times,serif\" font-size=\"14.00\">Compose</text>\n",
       "</g>\n",
       "<!-- 2&#45;&gt;9 -->\n",
       "<g id=\"edge7\" class=\"edge\">\n",
       "<title>2&#45;&gt;9</title>\n",
       "<path fill=\"none\" stroke=\"black\" d=\"M373.83,-1676.99C364.87,-1669.4 356.22,-1660.27 350.5,-1650 345.42,-1640.89 342.68,-1630.03 341.26,-1619.77\"/>\n",
       "<polygon fill=\"black\" stroke=\"black\" points=\"344.74,-1619.4 340.24,-1609.8 337.77,-1620.11 344.74,-1619.4\"/>\n",
       "<text text-anchor=\"middle\" x=\"354\" y=\"-1638.8\" font-family=\"Times,serif\" font-size=\"14.00\">1</text>\n",
       "</g>\n",
       "<!-- 13 -->\n",
       "<g id=\"node13\" class=\"node\">\n",
       "<title>13</title>\n",
       "<polygon fill=\"none\" stroke=\"black\" points=\"395.5,-1483 339.5,-1483 339.5,-1445 395.5,-1445 395.5,-1483\"/>\n",
       "<text text-anchor=\"middle\" x=\"367.5\" y=\"-1467.8\" font-family=\"Times,serif\" font-size=\"14.00\">[13]</text>\n",
       "<text text-anchor=\"middle\" x=\"367.5\" y=\"-1452.8\" font-family=\"Times,serif\" font-size=\"14.00\">2&#45;[ ... ]</text>\n",
       "</g>\n",
       "<!-- 2&#45;&gt;13 -->\n",
       "<g id=\"edge15\" class=\"edge\">\n",
       "<title>2&#45;&gt;13</title>\n",
       "<path fill=\"none\" stroke=\"black\" d=\"M404.72,-1667.77C399.33,-1636.96 391.02,-1589.86 383.5,-1549 380.06,-1530.32 376.06,-1509.32 372.92,-1493\"/>\n",
       "<polygon fill=\"black\" stroke=\"black\" points=\"376.33,-1492.17 371,-1483.01 369.45,-1493.49 376.33,-1492.17\"/>\n",
       "<text text-anchor=\"middle\" x=\"400\" y=\"-1579.3\" font-family=\"Times,serif\" font-size=\"14.00\">2</text>\n",
       "</g>\n",
       "<!-- 11 -->\n",
       "<g id=\"node11\" class=\"node\">\n",
       "<title>11</title>\n",
       "<polygon fill=\"none\" stroke=\"black\" points=\"651,-1498 562,-1498 562,-1430 651,-1430 651,-1498\"/>\n",
       "<text text-anchor=\"middle\" x=\"606.5\" y=\"-1482.8\" font-family=\"Times,serif\" font-size=\"14.00\">[11]</text>\n",
       "<text text-anchor=\"middle\" x=\"606.5\" y=\"-1467.8\" font-family=\"Times,serif\" font-size=\"14.00\">KernelLift</text>\n",
       "<text text-anchor=\"middle\" x=\"606.5\" y=\"-1452.8\" font-family=\"Times,serif\" font-size=\"14.00\">WithGiven</text>\n",
       "<text text-anchor=\"middle\" x=\"606.5\" y=\"-1437.8\" font-family=\"Times,serif\" font-size=\"14.00\">KernelObject</text>\n",
       "</g>\n",
       "<!-- 3&#45;&gt;11 -->\n",
       "<g id=\"edge11\" class=\"edge\">\n",
       "<title>3&#45;&gt;11</title>\n",
       "<path fill=\"none\" stroke=\"black\" d=\"M566.69,-1556.32C572.92,-1542.04 580.83,-1523.9 587.95,-1507.55\"/>\n",
       "<polygon fill=\"black\" stroke=\"black\" points=\"591.25,-1508.75 592.04,-1498.18 584.83,-1505.95 591.25,-1508.75\"/>\n",
       "<text text-anchor=\"middle\" x=\"587\" y=\"-1519.8\" font-family=\"Times,serif\" font-size=\"14.00\">3</text>\n",
       "</g>\n",
       "<!-- 4 -->\n",
       "<g id=\"node4\" class=\"node\">\n",
       "<title>4</title>\n",
       "<polygon fill=\"none\" stroke=\"black\" points=\"503,-1617 436,-1617 436,-1549 503,-1549 503,-1617\"/>\n",
       "<text text-anchor=\"middle\" x=\"469.5\" y=\"-1601.8\" font-family=\"Times,serif\" font-size=\"14.00\">[4]</text>\n",
       "<text text-anchor=\"middle\" x=\"469.5\" y=\"-1586.8\" font-family=\"Times,serif\" font-size=\"14.00\">primitive</text>\n",
       "<text text-anchor=\"middle\" x=\"469.5\" y=\"-1571.8\" font-family=\"Times,serif\" font-size=\"14.00\">object</text>\n",
       "<text text-anchor=\"middle\" x=\"469.5\" y=\"-1556.8\" font-family=\"Times,serif\" font-size=\"14.00\">&lt;1&gt;</text>\n",
       "</g>\n",
       "<!-- 4&#45;&gt;11 -->\n",
       "<g id=\"edge10\" class=\"edge\">\n",
       "<title>4&#45;&gt;11</title>\n",
       "<path fill=\"none\" stroke=\"black\" d=\"M503.01,-1553.38C520.07,-1538.82 541.07,-1520.88 559.69,-1504.98\"/>\n",
       "<polygon fill=\"black\" stroke=\"black\" points=\"562.17,-1507.46 567.51,-1498.3 557.63,-1502.13 562.17,-1507.46\"/>\n",
       "<text text-anchor=\"middle\" x=\"549\" y=\"-1519.8\" font-family=\"Times,serif\" font-size=\"14.00\">2</text>\n",
       "</g>\n",
       "<!-- 5 -->\n",
       "<g id=\"node5\" class=\"node\">\n",
       "<title>5</title>\n",
       "<polygon fill=\"none\" stroke=\"black\" points=\"681,-1736 608,-1736 608,-1668 681,-1668 681,-1736\"/>\n",
       "<text text-anchor=\"middle\" x=\"644.5\" y=\"-1720.8\" font-family=\"Times,serif\" font-size=\"14.00\">[5]</text>\n",
       "<text text-anchor=\"middle\" x=\"644.5\" y=\"-1705.8\" font-family=\"Times,serif\" font-size=\"14.00\">primitive</text>\n",
       "<text text-anchor=\"middle\" x=\"644.5\" y=\"-1690.8\" font-family=\"Times,serif\" font-size=\"14.00\">morphism</text>\n",
       "<text text-anchor=\"middle\" x=\"644.5\" y=\"-1675.8\" font-family=\"Times,serif\" font-size=\"14.00\">&lt;c&gt;</text>\n",
       "</g>\n",
       "<!-- 6 -->\n",
       "<g id=\"node6\" class=\"node\">\n",
       "<title>6</title>\n",
       "<polygon fill=\"none\" stroke=\"black\" points=\"704.5,-1609.5 650.5,-1609.5 650.5,-1556.5 704.5,-1556.5 704.5,-1609.5\"/>\n",
       "<text text-anchor=\"middle\" x=\"677.5\" y=\"-1594.3\" font-family=\"Times,serif\" font-size=\"14.00\">[6]</text>\n",
       "<text text-anchor=\"middle\" x=\"677.5\" y=\"-1579.3\" font-family=\"Times,serif\" font-size=\"14.00\">Kernel</text>\n",
       "<text text-anchor=\"middle\" x=\"677.5\" y=\"-1564.3\" font-family=\"Times,serif\" font-size=\"14.00\">Object</text>\n",
       "</g>\n",
       "<!-- 5&#45;&gt;6 -->\n",
       "<g id=\"edge3\" class=\"edge\">\n",
       "<title>5&#45;&gt;6</title>\n",
       "<path fill=\"none\" stroke=\"black\" d=\"M653.87,-1667.79C658.12,-1652.71 663.15,-1634.86 667.48,-1619.52\"/>\n",
       "<polygon fill=\"black\" stroke=\"black\" points=\"670.86,-1620.43 670.21,-1609.86 664.12,-1618.53 670.86,-1620.43\"/>\n",
       "</g>\n",
       "<!-- 5&#45;&gt;9 -->\n",
       "<g id=\"edge8\" class=\"edge\">\n",
       "<title>5&#45;&gt;9</title>\n",
       "<path fill=\"none\" stroke=\"black\" d=\"M607.85,-1690.16C585.53,-1683.61 556.41,-1675.18 530.5,-1668 500.37,-1659.65 491.98,-1660.4 462.5,-1650 428.54,-1638.02 419.91,-1634.61 388.5,-1617 386.78,-1616.04 385.04,-1615.03 383.3,-1613.99\"/>\n",
       "<polygon fill=\"black\" stroke=\"black\" points=\"384.96,-1610.9 374.62,-1608.57 381.25,-1616.83 384.96,-1610.9\"/>\n",
       "<text text-anchor=\"middle\" x=\"466\" y=\"-1638.8\" font-family=\"Times,serif\" font-size=\"14.00\">2</text>\n",
       "</g>\n",
       "<!-- 5&#45;&gt;11 -->\n",
       "<g id=\"edge9\" class=\"edge\">\n",
       "<title>5&#45;&gt;11</title>\n",
       "<path fill=\"none\" stroke=\"black\" d=\"M639.18,-1667.94C632.45,-1626.19 620.87,-1554.26 613.46,-1508.2\"/>\n",
       "<polygon fill=\"black\" stroke=\"black\" points=\"616.89,-1507.54 611.85,-1498.22 609.98,-1508.65 616.89,-1507.54\"/>\n",
       "<text text-anchor=\"middle\" x=\"634\" y=\"-1579.3\" font-family=\"Times,serif\" font-size=\"14.00\">1</text>\n",
       "</g>\n",
       "<!-- 16 -->\n",
       "<g id=\"node16\" class=\"node\">\n",
       "<title>16</title>\n",
       "<polygon fill=\"none\" stroke=\"black\" points=\"789.5,-1498 673.5,-1498 673.5,-1430 789.5,-1430 789.5,-1498\"/>\n",
       "<text text-anchor=\"middle\" x=\"731.5\" y=\"-1482.8\" font-family=\"Times,serif\" font-size=\"14.00\">[16]</text>\n",
       "<text text-anchor=\"middle\" x=\"731.5\" y=\"-1467.8\" font-family=\"Times,serif\" font-size=\"14.00\">KernelEmbedding</text>\n",
       "<text text-anchor=\"middle\" x=\"731.5\" y=\"-1452.8\" font-family=\"Times,serif\" font-size=\"14.00\">WithGiven</text>\n",
       "<text text-anchor=\"middle\" x=\"731.5\" y=\"-1437.8\" font-family=\"Times,serif\" font-size=\"14.00\">KernelObject</text>\n",
       "</g>\n",
       "<!-- 5&#45;&gt;16 -->\n",
       "<g id=\"edge19\" class=\"edge\">\n",
       "<title>5&#45;&gt;16</title>\n",
       "<path fill=\"none\" stroke=\"black\" d=\"M679.37,-1667.64C692.23,-1653.3 705.58,-1635.58 713.5,-1617 728.24,-1582.41 732.18,-1539.62 732.76,-1508.26\"/>\n",
       "<polygon fill=\"black\" stroke=\"black\" points=\"736.26,-1508.12 732.84,-1498.09 729.27,-1508.06 736.26,-1508.12\"/>\n",
       "<text text-anchor=\"middle\" x=\"733\" y=\"-1579.3\" font-family=\"Times,serif\" font-size=\"14.00\">1</text>\n",
       "</g>\n",
       "<!-- 6&#45;&gt;11 -->\n",
       "<g id=\"edge12\" class=\"edge\">\n",
       "<title>6&#45;&gt;11</title>\n",
       "<path fill=\"none\" stroke=\"black\" d=\"M663.19,-1556.43C656.19,-1544.12 647.56,-1529.2 639.5,-1516 637.6,-1512.89 635.61,-1509.69 633.6,-1506.49\"/>\n",
       "<polygon fill=\"black\" stroke=\"black\" points=\"636.55,-1504.6 628.23,-1498.04 630.64,-1508.35 636.55,-1504.6\"/>\n",
       "<text text-anchor=\"middle\" x=\"651\" y=\"-1519.8\" font-family=\"Times,serif\" font-size=\"14.00\">4</text>\n",
       "</g>\n",
       "<!-- 6&#45;&gt;16 -->\n",
       "<g id=\"edge20\" class=\"edge\">\n",
       "<title>6&#45;&gt;16</title>\n",
       "<path fill=\"none\" stroke=\"black\" d=\"M689.35,-1556.32C695.94,-1542.04 704.32,-1523.9 711.86,-1507.55\"/>\n",
       "<polygon fill=\"black\" stroke=\"black\" points=\"715.17,-1508.73 716.19,-1498.18 708.82,-1505.79 715.17,-1508.73\"/>\n",
       "<text text-anchor=\"middle\" x=\"711\" y=\"-1519.8\" font-family=\"Times,serif\" font-size=\"14.00\">2</text>\n",
       "</g>\n",
       "<!-- 7&#45;&gt;8 -->\n",
       "<g id=\"edge6\" class=\"edge\">\n",
       "<title>7&#45;&gt;8</title>\n",
       "<path fill=\"none\" stroke=\"black\" d=\"M173.64,-1675.32C182.14,-1660.91 192.96,-1642.56 202.67,-1626.1\"/>\n",
       "<polygon fill=\"black\" stroke=\"black\" points=\"205.87,-1627.57 207.93,-1617.18 199.84,-1624.02 205.87,-1627.57\"/>\n",
       "<text text-anchor=\"middle\" x=\"201\" y=\"-1638.8\" font-family=\"Times,serif\" font-size=\"14.00\">2</text>\n",
       "</g>\n",
       "<!-- 7&#45;&gt;17 -->\n",
       "<g id=\"edge24\" class=\"edge\">\n",
       "<title>7&#45;&gt;17</title>\n",
       "<path fill=\"none\" stroke=\"black\" d=\"M152.73,-1675.29C143.71,-1635.14 126.18,-1557.09 115.2,-1508.19\"/>\n",
       "<polygon fill=\"black\" stroke=\"black\" points=\"118.57,-1507.22 112.96,-1498.23 111.74,-1508.75 118.57,-1507.22\"/>\n",
       "<text text-anchor=\"middle\" x=\"143\" y=\"-1579.3\" font-family=\"Times,serif\" font-size=\"14.00\">4</text>\n",
       "</g>\n",
       "<!-- 8&#45;&gt;13 -->\n",
       "<g id=\"edge14\" class=\"edge\">\n",
       "<title>8&#45;&gt;13</title>\n",
       "<path fill=\"none\" stroke=\"black\" d=\"M244.47,-1548.94C251.44,-1537.54 260.29,-1525.3 270.5,-1516 287.71,-1500.33 310.62,-1487.99 329.86,-1479.37\"/>\n",
       "<polygon fill=\"black\" stroke=\"black\" points=\"331.44,-1482.5 339.24,-1475.33 328.68,-1476.07 331.44,-1482.5\"/>\n",
       "<text text-anchor=\"middle\" x=\"274\" y=\"-1519.8\" font-family=\"Times,serif\" font-size=\"14.00\">1</text>\n",
       "</g>\n",
       "<!-- 9&#45;&gt;17 -->\n",
       "<g id=\"edge23\" class=\"edge\">\n",
       "<title>9&#45;&gt;17</title>\n",
       "<path fill=\"none\" stroke=\"black\" d=\"M321.44,-1556.28C310.06,-1542.56 294.53,-1526.41 277.5,-1516 243.63,-1495.31 200.87,-1482.58 166.45,-1475.01\"/>\n",
       "<polygon fill=\"black\" stroke=\"black\" points=\"167.03,-1471.56 156.52,-1472.92 165.59,-1478.41 167.03,-1471.56\"/>\n",
       "<text text-anchor=\"middle\" x=\"301\" y=\"-1519.8\" font-family=\"Times,serif\" font-size=\"14.00\">3</text>\n",
       "</g>\n",
       "<!-- 10 -->\n",
       "<g id=\"node10\" class=\"node\">\n",
       "<title>10</title>\n",
       "<polygon fill=\"none\" stroke=\"black\" points=\"67,-1617 0,-1617 0,-1549 67,-1549 67,-1617\"/>\n",
       "<text text-anchor=\"middle\" x=\"33.5\" y=\"-1601.8\" font-family=\"Times,serif\" font-size=\"14.00\">[10]</text>\n",
       "<text text-anchor=\"middle\" x=\"33.5\" y=\"-1586.8\" font-family=\"Times,serif\" font-size=\"14.00\">primitive</text>\n",
       "<text text-anchor=\"middle\" x=\"33.5\" y=\"-1571.8\" font-family=\"Times,serif\" font-size=\"14.00\">object</text>\n",
       "<text text-anchor=\"middle\" x=\"33.5\" y=\"-1556.8\" font-family=\"Times,serif\" font-size=\"14.00\">&lt;4&gt;</text>\n",
       "</g>\n",
       "<!-- 10&#45;&gt;17 -->\n",
       "<g id=\"edge22\" class=\"edge\">\n",
       "<title>10&#45;&gt;17</title>\n",
       "<path fill=\"none\" stroke=\"black\" d=\"M53.94,-1548.79C61.92,-1535.82 71.16,-1520.8 79.6,-1507.08\"/>\n",
       "<polygon fill=\"black\" stroke=\"black\" points=\"82.75,-1508.65 85.01,-1498.3 76.79,-1504.98 82.75,-1508.65\"/>\n",
       "<text text-anchor=\"middle\" x=\"78\" y=\"-1519.8\" font-family=\"Times,serif\" font-size=\"14.00\">2</text>\n",
       "</g>\n",
       "<!-- 12 -->\n",
       "<g id=\"node12\" class=\"node\">\n",
       "<title>12</title>\n",
       "<polygon fill=\"none\" stroke=\"black\" points=\"630.5,-1393 564.5,-1393 564.5,-1340 630.5,-1340 630.5,-1393\"/>\n",
       "<text text-anchor=\"middle\" x=\"597.5\" y=\"-1377.8\" font-family=\"Times,serif\" font-size=\"14.00\">[12]</text>\n",
       "<text text-anchor=\"middle\" x=\"597.5\" y=\"-1362.8\" font-family=\"Times,serif\" font-size=\"14.00\">Cokernel</text>\n",
       "<text text-anchor=\"middle\" x=\"597.5\" y=\"-1347.8\" font-family=\"Times,serif\" font-size=\"14.00\">Object</text>\n",
       "</g>\n",
       "<!-- 11&#45;&gt;12 -->\n",
       "<g id=\"edge13\" class=\"edge\">\n",
       "<title>11&#45;&gt;12</title>\n",
       "<path fill=\"none\" stroke=\"black\" d=\"M603.38,-1429.87C602.56,-1421.19 601.68,-1411.81 600.85,-1403.02\"/>\n",
       "<polygon fill=\"black\" stroke=\"black\" points=\"604.33,-1402.67 599.91,-1393.05 597.36,-1403.33 604.33,-1402.67\"/>\n",
       "</g>\n",
       "<!-- 19 -->\n",
       "<g id=\"node19\" class=\"node\">\n",
       "<title>19</title>\n",
       "<polygon fill=\"none\" stroke=\"black\" points=\"703.5,-1289 581.5,-1289 581.5,-1221 703.5,-1221 703.5,-1289\"/>\n",
       "<text text-anchor=\"middle\" x=\"642.5\" y=\"-1273.8\" font-family=\"Times,serif\" font-size=\"14.00\">[19]</text>\n",
       "<text text-anchor=\"middle\" x=\"642.5\" y=\"-1258.8\" font-family=\"Times,serif\" font-size=\"14.00\">CokernelProjection</text>\n",
       "<text text-anchor=\"middle\" x=\"642.5\" y=\"-1243.8\" font-family=\"Times,serif\" font-size=\"14.00\">WithGiven</text>\n",
       "<text text-anchor=\"middle\" x=\"642.5\" y=\"-1228.8\" font-family=\"Times,serif\" font-size=\"14.00\">CokernelObject</text>\n",
       "</g>\n",
       "<!-- 11&#45;&gt;19 -->\n",
       "<g id=\"edge26\" class=\"edge\">\n",
       "<title>11&#45;&gt;19</title>\n",
       "<path fill=\"none\" stroke=\"black\" d=\"M625.59,-1429.86C631.16,-1418.54 636.54,-1405.55 639.5,-1393 646.75,-1362.2 647.28,-1326.42 646.11,-1299.15\"/>\n",
       "<polygon fill=\"black\" stroke=\"black\" points=\"649.6,-1298.95 645.59,-1289.15 642.61,-1299.32 649.6,-1298.95\"/>\n",
       "<text text-anchor=\"middle\" x=\"649\" y=\"-1362.8\" font-family=\"Times,serif\" font-size=\"14.00\">1</text>\n",
       "</g>\n",
       "<!-- 12&#45;&gt;19 -->\n",
       "<g id=\"edge27\" class=\"edge\">\n",
       "<title>12&#45;&gt;19</title>\n",
       "<path fill=\"none\" stroke=\"black\" d=\"M608.05,-1339.83C613.07,-1327.6 619.22,-1312.66 624.92,-1298.78\"/>\n",
       "<polygon fill=\"black\" stroke=\"black\" points=\"628.21,-1299.98 628.77,-1289.4 621.74,-1297.32 628.21,-1299.98\"/>\n",
       "<text text-anchor=\"middle\" x=\"624\" y=\"-1310.8\" font-family=\"Times,serif\" font-size=\"14.00\">2</text>\n",
       "</g>\n",
       "<!-- 14 -->\n",
       "<g id=\"node14\" class=\"node\">\n",
       "<title>14</title>\n",
       "<polygon fill=\"none\" stroke=\"black\" points=\"397.5,-1385.5 337.5,-1385.5 337.5,-1347.5 397.5,-1347.5 397.5,-1385.5\"/>\n",
       "<text text-anchor=\"middle\" x=\"367.5\" y=\"-1370.3\" font-family=\"Times,serif\" font-size=\"14.00\">[14]</text>\n",
       "<text text-anchor=\"middle\" x=\"367.5\" y=\"-1355.3\" font-family=\"Times,serif\" font-size=\"14.00\">Pushout</text>\n",
       "</g>\n",
       "<!-- 13&#45;&gt;14 -->\n",
       "<g id=\"edge16\" class=\"edge\">\n",
       "<title>13&#45;&gt;14</title>\n",
       "<path fill=\"none\" stroke=\"black\" d=\"M367.5,-1444.59C367.5,-1430.76 367.5,-1411.57 367.5,-1395.8\"/>\n",
       "<polygon fill=\"black\" stroke=\"black\" points=\"371,-1395.53 367.5,-1385.53 364,-1395.53 371,-1395.53\"/>\n",
       "</g>\n",
       "<!-- 15 -->\n",
       "<g id=\"node15\" class=\"node\">\n",
       "<title>15</title>\n",
       "<polygon fill=\"none\" stroke=\"black\" points=\"563.5,-1281.5 379.5,-1281.5 379.5,-1228.5 563.5,-1228.5 563.5,-1281.5\"/>\n",
       "<text text-anchor=\"middle\" x=\"471.5\" y=\"-1266.3\" font-family=\"Times,serif\" font-size=\"14.00\">[15]</text>\n",
       "<text text-anchor=\"middle\" x=\"471.5\" y=\"-1251.3\" font-family=\"Times,serif\" font-size=\"14.00\">InjectionOfCofactorOfPushout</text>\n",
       "<text text-anchor=\"middle\" x=\"471.5\" y=\"-1236.3\" font-family=\"Times,serif\" font-size=\"14.00\">WithGivenPushout( 2 )</text>\n",
       "</g>\n",
       "<!-- 13&#45;&gt;15 -->\n",
       "<g id=\"edge17\" class=\"edge\">\n",
       "<title>13&#45;&gt;15</title>\n",
       "<path fill=\"none\" stroke=\"black\" d=\"M378.1,-1444.75C386.13,-1430.73 397.33,-1410.81 406.5,-1393 424.13,-1358.77 442.83,-1318.94 455.63,-1291.07\"/>\n",
       "<polygon fill=\"black\" stroke=\"black\" points=\"458.92,-1292.3 459.89,-1281.75 452.55,-1289.38 458.92,-1292.3\"/>\n",
       "<text text-anchor=\"middle\" x=\"436\" y=\"-1362.8\" font-family=\"Times,serif\" font-size=\"14.00\">1</text>\n",
       "</g>\n",
       "<!-- 21 -->\n",
       "<g id=\"node21\" class=\"node\">\n",
       "<title>21</title>\n",
       "<polygon fill=\"none\" stroke=\"black\" points=\"361.5,-1281.5 177.5,-1281.5 177.5,-1228.5 361.5,-1228.5 361.5,-1281.5\"/>\n",
       "<text text-anchor=\"middle\" x=\"269.5\" y=\"-1266.3\" font-family=\"Times,serif\" font-size=\"14.00\">[21]</text>\n",
       "<text text-anchor=\"middle\" x=\"269.5\" y=\"-1251.3\" font-family=\"Times,serif\" font-size=\"14.00\">InjectionOfCofactorOfPushout</text>\n",
       "<text text-anchor=\"middle\" x=\"269.5\" y=\"-1236.3\" font-family=\"Times,serif\" font-size=\"14.00\">WithGivenPushout( 1 )</text>\n",
       "</g>\n",
       "<!-- 13&#45;&gt;21 -->\n",
       "<g id=\"edge30\" class=\"edge\">\n",
       "<title>13&#45;&gt;21</title>\n",
       "<path fill=\"none\" stroke=\"black\" d=\"M354.05,-1444.95C344.2,-1431.19 330.96,-1411.52 321.5,-1393 304.55,-1359.8 289.97,-1319.73 280.6,-1291.53\"/>\n",
       "<polygon fill=\"black\" stroke=\"black\" points=\"283.82,-1290.13 277.39,-1281.71 277.17,-1292.3 283.82,-1290.13\"/>\n",
       "<text text-anchor=\"middle\" x=\"325\" y=\"-1362.8\" font-family=\"Times,serif\" font-size=\"14.00\">1</text>\n",
       "</g>\n",
       "<!-- 14&#45;&gt;15 -->\n",
       "<g id=\"edge18\" class=\"edge\">\n",
       "<title>14&#45;&gt;15</title>\n",
       "<path fill=\"none\" stroke=\"black\" d=\"M384.67,-1347.42C399.65,-1331.65 421.75,-1308.38 439.91,-1289.26\"/>\n",
       "<polygon fill=\"black\" stroke=\"black\" points=\"442.56,-1291.55 446.91,-1281.89 437.48,-1286.73 442.56,-1291.55\"/>\n",
       "<text text-anchor=\"middle\" x=\"427\" y=\"-1310.8\" font-family=\"Times,serif\" font-size=\"14.00\">2</text>\n",
       "</g>\n",
       "<!-- 14&#45;&gt;21 -->\n",
       "<g id=\"edge31\" class=\"edge\">\n",
       "<title>14&#45;&gt;21</title>\n",
       "<path fill=\"none\" stroke=\"black\" d=\"M351.32,-1347.42C337.27,-1331.72 316.56,-1308.58 299.49,-1289.51\"/>\n",
       "<polygon fill=\"black\" stroke=\"black\" points=\"301.95,-1287.01 292.67,-1281.89 296.74,-1291.68 301.95,-1287.01\"/>\n",
       "<text text-anchor=\"middle\" x=\"331\" y=\"-1310.8\" font-family=\"Times,serif\" font-size=\"14.00\">2</text>\n",
       "</g>\n",
       "<!-- 20 -->\n",
       "<g id=\"node20\" class=\"node\">\n",
       "<title>20</title>\n",
       "<polygon fill=\"none\" stroke=\"black\" points=\"697.5,-1170 629.5,-1170 629.5,-1117 697.5,-1117 697.5,-1170\"/>\n",
       "<text text-anchor=\"middle\" x=\"663.5\" y=\"-1154.8\" font-family=\"Times,serif\" font-size=\"14.00\">[20]</text>\n",
       "<text text-anchor=\"middle\" x=\"663.5\" y=\"-1139.8\" font-family=\"Times,serif\" font-size=\"14.00\">Pre</text>\n",
       "<text text-anchor=\"middle\" x=\"663.5\" y=\"-1124.8\" font-family=\"Times,serif\" font-size=\"14.00\">Compose</text>\n",
       "</g>\n",
       "<!-- 15&#45;&gt;20 -->\n",
       "<g id=\"edge29\" class=\"edge\">\n",
       "<title>15&#45;&gt;20</title>\n",
       "<path fill=\"none\" stroke=\"black\" d=\"M516.52,-1228.33C547.89,-1210.43 589.5,-1186.7 620.44,-1169.06\"/>\n",
       "<polygon fill=\"black\" stroke=\"black\" points=\"622.31,-1172.02 629.27,-1164.02 618.84,-1165.94 622.31,-1172.02\"/>\n",
       "<text text-anchor=\"middle\" x=\"588\" y=\"-1191.8\" font-family=\"Times,serif\" font-size=\"14.00\">2</text>\n",
       "</g>\n",
       "<!-- 16&#45;&gt;20 -->\n",
       "<g id=\"edge28\" class=\"edge\">\n",
       "<title>16&#45;&gt;20</title>\n",
       "<path fill=\"none\" stroke=\"black\" d=\"M733.9,-1429.9C736.24,-1382.33 736.52,-1292.51 712.5,-1221 707.48,-1206.06 698.91,-1191.12 690.33,-1178.47\"/>\n",
       "<polygon fill=\"black\" stroke=\"black\" points=\"693.06,-1176.26 684.43,-1170.1 687.33,-1180.29 693.06,-1176.26\"/>\n",
       "<text text-anchor=\"middle\" x=\"735\" y=\"-1310.8\" font-family=\"Times,serif\" font-size=\"14.00\">1</text>\n",
       "</g>\n",
       "<!-- 18 -->\n",
       "<g id=\"node18\" class=\"node\">\n",
       "<title>18</title>\n",
       "<polygon fill=\"none\" stroke=\"black\" points=\"87.5,-1393 33.5,-1393 33.5,-1340 87.5,-1340 87.5,-1393\"/>\n",
       "<text text-anchor=\"middle\" x=\"60.5\" y=\"-1377.8\" font-family=\"Times,serif\" font-size=\"14.00\">[18]</text>\n",
       "<text text-anchor=\"middle\" x=\"60.5\" y=\"-1362.8\" font-family=\"Times,serif\" font-size=\"14.00\">Kernel</text>\n",
       "<text text-anchor=\"middle\" x=\"60.5\" y=\"-1347.8\" font-family=\"Times,serif\" font-size=\"14.00\">Object</text>\n",
       "</g>\n",
       "<!-- 17&#45;&gt;18 -->\n",
       "<g id=\"edge25\" class=\"edge\">\n",
       "<title>17&#45;&gt;18</title>\n",
       "<path fill=\"none\" stroke=\"black\" d=\"M89.89,-1429.87C85.67,-1420.91 81.09,-1411.19 76.83,-1402.16\"/>\n",
       "<polygon fill=\"black\" stroke=\"black\" points=\"79.97,-1400.6 72.54,-1393.05 73.63,-1403.58 79.97,-1400.6\"/>\n",
       "</g>\n",
       "<!-- 22 -->\n",
       "<g id=\"node22\" class=\"node\">\n",
       "<title>22</title>\n",
       "<polygon fill=\"none\" stroke=\"black\" points=\"159.5,-1289 43.5,-1289 43.5,-1221 159.5,-1221 159.5,-1289\"/>\n",
       "<text text-anchor=\"middle\" x=\"101.5\" y=\"-1273.8\" font-family=\"Times,serif\" font-size=\"14.00\">[22]</text>\n",
       "<text text-anchor=\"middle\" x=\"101.5\" y=\"-1258.8\" font-family=\"Times,serif\" font-size=\"14.00\">KernelEmbedding</text>\n",
       "<text text-anchor=\"middle\" x=\"101.5\" y=\"-1243.8\" font-family=\"Times,serif\" font-size=\"14.00\">WithGiven</text>\n",
       "<text text-anchor=\"middle\" x=\"101.5\" y=\"-1228.8\" font-family=\"Times,serif\" font-size=\"14.00\">KernelObject</text>\n",
       "</g>\n",
       "<!-- 17&#45;&gt;22 -->\n",
       "<g id=\"edge32\" class=\"edge\">\n",
       "<title>17&#45;&gt;22</title>\n",
       "<path fill=\"none\" stroke=\"black\" d=\"M104.86,-1429.74C104.18,-1394.43 103.09,-1338.47 102.34,-1299.64\"/>\n",
       "<polygon fill=\"black\" stroke=\"black\" points=\"105.83,-1299.11 102.14,-1289.18 98.84,-1299.24 105.83,-1299.11\"/>\n",
       "<text text-anchor=\"middle\" x=\"108\" y=\"-1362.8\" font-family=\"Times,serif\" font-size=\"14.00\">1</text>\n",
       "</g>\n",
       "<!-- 18&#45;&gt;22 -->\n",
       "<g id=\"edge33\" class=\"edge\">\n",
       "<title>18&#45;&gt;22</title>\n",
       "<path fill=\"none\" stroke=\"black\" d=\"M70.11,-1339.83C74.69,-1327.6 80.29,-1312.66 85.48,-1298.78\"/>\n",
       "<polygon fill=\"black\" stroke=\"black\" points=\"88.76,-1299.99 88.99,-1289.4 82.21,-1297.54 88.76,-1299.99\"/>\n",
       "<text text-anchor=\"middle\" x=\"86\" y=\"-1310.8\" font-family=\"Times,serif\" font-size=\"14.00\">2</text>\n",
       "</g>\n",
       "<!-- 23 -->\n",
       "<g id=\"node23\" class=\"node\">\n",
       "<title>23</title>\n",
       "<polygon fill=\"none\" stroke=\"black\" points=\"632.5,-1066 576.5,-1066 576.5,-1028 632.5,-1028 632.5,-1066\"/>\n",
       "<text text-anchor=\"middle\" x=\"604.5\" y=\"-1050.8\" font-family=\"Times,serif\" font-size=\"14.00\">[23]</text>\n",
       "<text text-anchor=\"middle\" x=\"604.5\" y=\"-1035.8\" font-family=\"Times,serif\" font-size=\"14.00\">2&#45;[ ... ]</text>\n",
       "</g>\n",
       "<!-- 19&#45;&gt;23 -->\n",
       "<g id=\"edge35\" class=\"edge\">\n",
       "<title>19&#45;&gt;23</title>\n",
       "<path fill=\"none\" stroke=\"black\" d=\"M628.75,-1220.64C623.08,-1205.44 617.02,-1187.08 613.5,-1170 607.01,-1138.47 605.05,-1101.51 604.53,-1076.6\"/>\n",
       "<polygon fill=\"black\" stroke=\"black\" points=\"608.03,-1076.34 604.39,-1066.39 601.03,-1076.44 608.03,-1076.34\"/>\n",
       "<text text-anchor=\"middle\" x=\"617\" y=\"-1139.8\" font-family=\"Times,serif\" font-size=\"14.00\">2</text>\n",
       "</g>\n",
       "<!-- 20&#45;&gt;23 -->\n",
       "<g id=\"edge34\" class=\"edge\">\n",
       "<title>20&#45;&gt;23</title>\n",
       "<path fill=\"none\" stroke=\"black\" d=\"M647.38,-1116.68C639.23,-1103.62 629.35,-1087.8 621.13,-1074.64\"/>\n",
       "<polygon fill=\"black\" stroke=\"black\" points=\"624.01,-1072.64 615.75,-1066.01 618.07,-1076.35 624.01,-1072.64\"/>\n",
       "<text text-anchor=\"middle\" x=\"639\" y=\"-1087.8\" font-family=\"Times,serif\" font-size=\"14.00\">1</text>\n",
       "</g>\n",
       "<!-- 26 -->\n",
       "<g id=\"node26\" class=\"node\">\n",
       "<title>26</title>\n",
       "<polygon fill=\"none\" stroke=\"black\" points=\"303.5,-1170 235.5,-1170 235.5,-1117 303.5,-1117 303.5,-1170\"/>\n",
       "<text text-anchor=\"middle\" x=\"269.5\" y=\"-1154.8\" font-family=\"Times,serif\" font-size=\"14.00\">[26]</text>\n",
       "<text text-anchor=\"middle\" x=\"269.5\" y=\"-1139.8\" font-family=\"Times,serif\" font-size=\"14.00\">Pre</text>\n",
       "<text text-anchor=\"middle\" x=\"269.5\" y=\"-1124.8\" font-family=\"Times,serif\" font-size=\"14.00\">Compose</text>\n",
       "</g>\n",
       "<!-- 21&#45;&gt;26 -->\n",
       "<g id=\"edge40\" class=\"edge\">\n",
       "<title>21&#45;&gt;26</title>\n",
       "<path fill=\"none\" stroke=\"black\" d=\"M269.5,-1228.33C269.5,-1214.05 269.5,-1196.05 269.5,-1180.4\"/>\n",
       "<polygon fill=\"black\" stroke=\"black\" points=\"273,-1180.01 269.5,-1170.01 266,-1180.01 273,-1180.01\"/>\n",
       "<text text-anchor=\"middle\" x=\"273\" y=\"-1191.8\" font-family=\"Times,serif\" font-size=\"14.00\">2</text>\n",
       "</g>\n",
       "<!-- 22&#45;&gt;26 -->\n",
       "<g id=\"edge39\" class=\"edge\">\n",
       "<title>22&#45;&gt;26</title>\n",
       "<path fill=\"none\" stroke=\"black\" d=\"M152.36,-1220.85C176.17,-1205.33 204.2,-1187.06 226.88,-1172.28\"/>\n",
       "<polygon fill=\"black\" stroke=\"black\" points=\"228.82,-1175.19 235.29,-1166.8 225,-1169.33 228.82,-1175.19\"/>\n",
       "<text text-anchor=\"middle\" x=\"205\" y=\"-1191.8\" font-family=\"Times,serif\" font-size=\"14.00\">1</text>\n",
       "</g>\n",
       "<!-- 24 -->\n",
       "<g id=\"node24\" class=\"node\">\n",
       "<title>24</title>\n",
       "<polygon fill=\"none\" stroke=\"black\" points=\"604.5,-991 544.5,-991 544.5,-953 604.5,-953 604.5,-991\"/>\n",
       "<text text-anchor=\"middle\" x=\"574.5\" y=\"-975.8\" font-family=\"Times,serif\" font-size=\"14.00\">[24]</text>\n",
       "<text text-anchor=\"middle\" x=\"574.5\" y=\"-960.8\" font-family=\"Times,serif\" font-size=\"14.00\">Pushout</text>\n",
       "</g>\n",
       "<!-- 23&#45;&gt;24 -->\n",
       "<g id=\"edge36\" class=\"edge\">\n",
       "<title>23&#45;&gt;24</title>\n",
       "<path fill=\"none\" stroke=\"black\" d=\"M597.08,-1027.96C593.69,-1019.71 589.6,-1009.75 585.84,-1000.6\"/>\n",
       "<polygon fill=\"black\" stroke=\"black\" points=\"588.97,-999.01 581.93,-991.09 582.5,-1001.67 588.97,-999.01\"/>\n",
       "</g>\n",
       "<!-- 25 -->\n",
       "<g id=\"node25\" class=\"node\">\n",
       "<title>25</title>\n",
       "<polygon fill=\"none\" stroke=\"black\" points=\"530.5,-902 346.5,-902 346.5,-849 530.5,-849 530.5,-902\"/>\n",
       "<text text-anchor=\"middle\" x=\"438.5\" y=\"-886.8\" font-family=\"Times,serif\" font-size=\"14.00\">[25]</text>\n",
       "<text text-anchor=\"middle\" x=\"438.5\" y=\"-871.8\" font-family=\"Times,serif\" font-size=\"14.00\">InjectionOfCofactorOfPushout</text>\n",
       "<text text-anchor=\"middle\" x=\"438.5\" y=\"-856.8\" font-family=\"Times,serif\" font-size=\"14.00\">WithGivenPushout( 1 )</text>\n",
       "</g>\n",
       "<!-- 23&#45;&gt;25 -->\n",
       "<g id=\"edge37\" class=\"edge\">\n",
       "<title>23&#45;&gt;25</title>\n",
       "<path fill=\"none\" stroke=\"black\" d=\"M576.33,-1028.37C561.35,-1018.34 543.06,-1004.99 528.5,-991 503.01,-966.5 478.51,-934.61 461.53,-910.7\"/>\n",
       "<polygon fill=\"black\" stroke=\"black\" points=\"464.24,-908.46 455.63,-902.29 458.51,-912.48 464.24,-908.46\"/>\n",
       "<text text-anchor=\"middle\" x=\"532\" y=\"-968.3\" font-family=\"Times,serif\" font-size=\"14.00\">1</text>\n",
       "</g>\n",
       "<!-- 27 -->\n",
       "<g id=\"node27\" class=\"node\">\n",
       "<title>27</title>\n",
       "<polygon fill=\"none\" stroke=\"black\" points=\"732.5,-902 548.5,-902 548.5,-849 732.5,-849 732.5,-902\"/>\n",
       "<text text-anchor=\"middle\" x=\"640.5\" y=\"-886.8\" font-family=\"Times,serif\" font-size=\"14.00\">[27]</text>\n",
       "<text text-anchor=\"middle\" x=\"640.5\" y=\"-871.8\" font-family=\"Times,serif\" font-size=\"14.00\">InjectionOfCofactorOfPushout</text>\n",
       "<text text-anchor=\"middle\" x=\"640.5\" y=\"-856.8\" font-family=\"Times,serif\" font-size=\"14.00\">WithGivenPushout( 2 )</text>\n",
       "</g>\n",
       "<!-- 23&#45;&gt;27 -->\n",
       "<g id=\"edge41\" class=\"edge\">\n",
       "<title>23&#45;&gt;27</title>\n",
       "<path fill=\"none\" stroke=\"black\" d=\"M608.35,-1027.86C614.2,-1000.34 625.42,-947.52 632.93,-912.14\"/>\n",
       "<polygon fill=\"black\" stroke=\"black\" points=\"636.39,-912.72 635.04,-902.21 629.54,-911.26 636.39,-912.72\"/>\n",
       "<text text-anchor=\"middle\" x=\"627\" y=\"-968.3\" font-family=\"Times,serif\" font-size=\"14.00\">1</text>\n",
       "</g>\n",
       "<!-- 24&#45;&gt;25 -->\n",
       "<g id=\"edge38\" class=\"edge\">\n",
       "<title>24&#45;&gt;25</title>\n",
       "<path fill=\"none\" stroke=\"black\" d=\"M548.28,-952.78C530.02,-940.09 505.19,-922.84 483.77,-907.95\"/>\n",
       "<polygon fill=\"black\" stroke=\"black\" points=\"485.65,-905 475.44,-902.17 481.65,-910.75 485.65,-905\"/>\n",
       "<text text-anchor=\"middle\" x=\"526\" y=\"-923.8\" font-family=\"Times,serif\" font-size=\"14.00\">2</text>\n",
       "</g>\n",
       "<!-- 24&#45;&gt;27 -->\n",
       "<g id=\"edge42\" class=\"edge\">\n",
       "<title>24&#45;&gt;27</title>\n",
       "<path fill=\"none\" stroke=\"black\" d=\"M587.23,-952.78C595.54,-940.88 606.66,-924.96 616.58,-910.75\"/>\n",
       "<polygon fill=\"black\" stroke=\"black\" points=\"619.72,-912.37 622.57,-902.17 613.98,-908.36 619.72,-912.37\"/>\n",
       "<text text-anchor=\"middle\" x=\"612\" y=\"-923.8\" font-family=\"Times,serif\" font-size=\"14.00\">2</text>\n",
       "</g>\n",
       "<!-- 28 -->\n",
       "<g id=\"node28\" class=\"node\">\n",
       "<title>28</title>\n",
       "<polygon fill=\"none\" stroke=\"black\" points=\"472.5,-798 404.5,-798 404.5,-745 472.5,-745 472.5,-798\"/>\n",
       "<text text-anchor=\"middle\" x=\"438.5\" y=\"-782.8\" font-family=\"Times,serif\" font-size=\"14.00\">[28]</text>\n",
       "<text text-anchor=\"middle\" x=\"438.5\" y=\"-767.8\" font-family=\"Times,serif\" font-size=\"14.00\">Pre</text>\n",
       "<text text-anchor=\"middle\" x=\"438.5\" y=\"-752.8\" font-family=\"Times,serif\" font-size=\"14.00\">Compose</text>\n",
       "</g>\n",
       "<!-- 25&#45;&gt;28 -->\n",
       "<g id=\"edge44\" class=\"edge\">\n",
       "<title>25&#45;&gt;28</title>\n",
       "<path fill=\"none\" stroke=\"black\" d=\"M438.5,-848.76C438.5,-836.56 438.5,-821.78 438.5,-808.49\"/>\n",
       "<polygon fill=\"black\" stroke=\"black\" points=\"442,-808.23 438.5,-798.23 435,-808.23 442,-808.23\"/>\n",
       "<text text-anchor=\"middle\" x=\"442\" y=\"-819.8\" font-family=\"Times,serif\" font-size=\"14.00\">2</text>\n",
       "</g>\n",
       "<!-- 26&#45;&gt;28 -->\n",
       "<g id=\"edge43\" class=\"edge\">\n",
       "<title>26&#45;&gt;28</title>\n",
       "<path fill=\"none\" stroke=\"black\" d=\"M282.4,-1116.72C290.53,-1098.1 299.5,-1072.1 299.5,-1048 299.5,-1048 299.5,-1048 299.5,-874.5 299.5,-826.42 354.22,-798.52 394.99,-784.4\"/>\n",
       "<polygon fill=\"black\" stroke=\"black\" points=\"396.1,-787.73 404.5,-781.27 393.9,-781.08 396.1,-787.73\"/>\n",
       "<text text-anchor=\"middle\" x=\"303\" y=\"-968.3\" font-family=\"Times,serif\" font-size=\"14.00\">1</text>\n",
       "</g>\n",
       "<!-- 29 -->\n",
       "<g id=\"node29\" class=\"node\">\n",
       "<title>29</title>\n",
       "<polygon fill=\"none\" stroke=\"black\" points=\"567.5,-694 511.5,-694 511.5,-656 567.5,-656 567.5,-694\"/>\n",
       "<text text-anchor=\"middle\" x=\"539.5\" y=\"-678.8\" font-family=\"Times,serif\" font-size=\"14.00\">[29]</text>\n",
       "<text text-anchor=\"middle\" x=\"539.5\" y=\"-663.8\" font-family=\"Times,serif\" font-size=\"14.00\">2&#45;[ ... ]</text>\n",
       "</g>\n",
       "<!-- 27&#45;&gt;29 -->\n",
       "<g id=\"edge46\" class=\"edge\">\n",
       "<title>27&#45;&gt;29</title>\n",
       "<path fill=\"none\" stroke=\"black\" d=\"M627.5,-848.96C608.4,-811.41 572.88,-741.61 553.32,-703.16\"/>\n",
       "<polygon fill=\"black\" stroke=\"black\" points=\"556.36,-701.42 548.71,-694.1 550.12,-704.6 556.36,-701.42\"/>\n",
       "<text text-anchor=\"middle\" x=\"603\" y=\"-767.8\" font-family=\"Times,serif\" font-size=\"14.00\">2</text>\n",
       "</g>\n",
       "<!-- 28&#45;&gt;29 -->\n",
       "<g id=\"edge45\" class=\"edge\">\n",
       "<title>28&#45;&gt;29</title>\n",
       "<path fill=\"none\" stroke=\"black\" d=\"M465.83,-744.93C480.32,-731.37 498.07,-714.77 512.51,-701.26\"/>\n",
       "<polygon fill=\"black\" stroke=\"black\" points=\"515.24,-703.49 520.15,-694.11 510.46,-698.38 515.24,-703.49\"/>\n",
       "<text text-anchor=\"middle\" x=\"504\" y=\"-715.8\" font-family=\"Times,serif\" font-size=\"14.00\">1</text>\n",
       "</g>\n",
       "<!-- 30 -->\n",
       "<g id=\"node30\" class=\"node\">\n",
       "<title>30</title>\n",
       "<polygon fill=\"none\" stroke=\"black\" points=\"569,-619 510,-619 510,-566 569,-566 569,-619\"/>\n",
       "<text text-anchor=\"middle\" x=\"539.5\" y=\"-603.8\" font-family=\"Times,serif\" font-size=\"14.00\">[30]</text>\n",
       "<text text-anchor=\"middle\" x=\"539.5\" y=\"-588.8\" font-family=\"Times,serif\" font-size=\"14.00\">Fiber</text>\n",
       "<text text-anchor=\"middle\" x=\"539.5\" y=\"-573.8\" font-family=\"Times,serif\" font-size=\"14.00\">Product</text>\n",
       "</g>\n",
       "<!-- 29&#45;&gt;30 -->\n",
       "<g id=\"edge47\" class=\"edge\">\n",
       "<title>29&#45;&gt;30</title>\n",
       "<path fill=\"none\" stroke=\"black\" d=\"M539.5,-655.73C539.5,-647.85 539.5,-638.34 539.5,-629.15\"/>\n",
       "<polygon fill=\"black\" stroke=\"black\" points=\"543,-629.02 539.5,-619.02 536,-629.02 543,-629.02\"/>\n",
       "</g>\n",
       "<!-- 31 -->\n",
       "<g id=\"node31\" class=\"node\">\n",
       "<title>31</title>\n",
       "<polygon fill=\"none\" stroke=\"black\" points=\"511,-515 308,-515 308,-462 511,-462 511,-515\"/>\n",
       "<text text-anchor=\"middle\" x=\"409.5\" y=\"-499.8\" font-family=\"Times,serif\" font-size=\"14.00\">[31]</text>\n",
       "<text text-anchor=\"middle\" x=\"409.5\" y=\"-484.8\" font-family=\"Times,serif\" font-size=\"14.00\">ProjectionInFactorOfFiberProduct</text>\n",
       "<text text-anchor=\"middle\" x=\"409.5\" y=\"-469.8\" font-family=\"Times,serif\" font-size=\"14.00\">WithGivenFiberProduct( 2 )</text>\n",
       "</g>\n",
       "<!-- 29&#45;&gt;31 -->\n",
       "<g id=\"edge48\" class=\"edge\">\n",
       "<title>29&#45;&gt;31</title>\n",
       "<path fill=\"none\" stroke=\"black\" d=\"M523.8,-655.8C514.92,-645.26 503.77,-631.63 494.5,-619 471.48,-587.64 447.34,-550.38 430.69,-523.89\"/>\n",
       "<polygon fill=\"black\" stroke=\"black\" points=\"433.61,-521.97 425.34,-515.35 427.68,-525.68 433.61,-521.97\"/>\n",
       "<text text-anchor=\"middle\" x=\"498\" y=\"-588.8\" font-family=\"Times,serif\" font-size=\"14.00\">1</text>\n",
       "</g>\n",
       "<!-- 32 -->\n",
       "<g id=\"node32\" class=\"node\">\n",
       "<title>32</title>\n",
       "<polygon fill=\"none\" stroke=\"black\" points=\"732,-515 529,-515 529,-462 732,-462 732,-515\"/>\n",
       "<text text-anchor=\"middle\" x=\"630.5\" y=\"-499.8\" font-family=\"Times,serif\" font-size=\"14.00\">[32]</text>\n",
       "<text text-anchor=\"middle\" x=\"630.5\" y=\"-484.8\" font-family=\"Times,serif\" font-size=\"14.00\">ProjectionInFactorOfFiberProduct</text>\n",
       "<text text-anchor=\"middle\" x=\"630.5\" y=\"-469.8\" font-family=\"Times,serif\" font-size=\"14.00\">WithGivenFiberProduct( 1 )</text>\n",
       "</g>\n",
       "<!-- 29&#45;&gt;32 -->\n",
       "<g id=\"edge50\" class=\"edge\">\n",
       "<title>29&#45;&gt;32</title>\n",
       "<path fill=\"none\" stroke=\"black\" d=\"M553.99,-655.87C561.88,-645.47 571.44,-631.95 578.5,-619 595.16,-588.45 609.5,-551.41 618.87,-524.78\"/>\n",
       "<polygon fill=\"black\" stroke=\"black\" points=\"622.25,-525.72 622.22,-515.12 615.64,-523.43 622.25,-525.72\"/>\n",
       "<text text-anchor=\"middle\" x=\"606\" y=\"-588.8\" font-family=\"Times,serif\" font-size=\"14.00\">1</text>\n",
       "</g>\n",
       "<!-- 30&#45;&gt;31 -->\n",
       "<g id=\"edge49\" class=\"edge\">\n",
       "<title>30&#45;&gt;31</title>\n",
       "<path fill=\"none\" stroke=\"black\" d=\"M512.24,-565.92C500.59,-555.37 486.67,-543.25 473.5,-533 468.42,-529.05 463,-525.05 457.55,-521.17\"/>\n",
       "<polygon fill=\"black\" stroke=\"black\" points=\"459.19,-518.04 448.99,-515.17 455.17,-523.78 459.19,-518.04\"/>\n",
       "<text text-anchor=\"middle\" x=\"493\" y=\"-536.8\" font-family=\"Times,serif\" font-size=\"14.00\">2</text>\n",
       "</g>\n",
       "<!-- 30&#45;&gt;32 -->\n",
       "<g id=\"edge51\" class=\"edge\">\n",
       "<title>30&#45;&gt;32</title>\n",
       "<path fill=\"none\" stroke=\"black\" d=\"M562.46,-565.76C574.1,-552.71 588.37,-536.72 600.84,-522.75\"/>\n",
       "<polygon fill=\"black\" stroke=\"black\" points=\"603.5,-525.02 607.54,-515.23 598.28,-520.36 603.5,-525.02\"/>\n",
       "<text text-anchor=\"middle\" x=\"593\" y=\"-536.8\" font-family=\"Times,serif\" font-size=\"14.00\">2</text>\n",
       "</g>\n",
       "<!-- 33 -->\n",
       "<g id=\"node33\" class=\"node\">\n",
       "<title>33</title>\n",
       "<polygon fill=\"none\" stroke=\"black\" points=\"547.5,-411 491.5,-411 491.5,-373 547.5,-373 547.5,-411\"/>\n",
       "<text text-anchor=\"middle\" x=\"519.5\" y=\"-395.8\" font-family=\"Times,serif\" font-size=\"14.00\">[33]</text>\n",
       "<text text-anchor=\"middle\" x=\"519.5\" y=\"-380.8\" font-family=\"Times,serif\" font-size=\"14.00\">2&#45;[ ... ]</text>\n",
       "</g>\n",
       "<!-- 31&#45;&gt;33 -->\n",
       "<g id=\"edge53\" class=\"edge\">\n",
       "<title>31&#45;&gt;33</title>\n",
       "<path fill=\"none\" stroke=\"black\" d=\"M439.27,-461.93C455.2,-448.24 474.73,-431.46 490.54,-417.88\"/>\n",
       "<polygon fill=\"black\" stroke=\"black\" points=\"493.12,-420.28 498.42,-411.11 488.56,-414.97 493.12,-420.28\"/>\n",
       "<text text-anchor=\"middle\" x=\"481\" y=\"-432.8\" font-family=\"Times,serif\" font-size=\"14.00\">2</text>\n",
       "</g>\n",
       "<!-- 32&#45;&gt;33 -->\n",
       "<g id=\"edge52\" class=\"edge\">\n",
       "<title>32&#45;&gt;33</title>\n",
       "<path fill=\"none\" stroke=\"black\" d=\"M600.46,-461.93C584.39,-448.24 564.67,-431.46 548.73,-417.88\"/>\n",
       "<polygon fill=\"black\" stroke=\"black\" points=\"550.65,-414.92 540.77,-411.11 546.11,-420.25 550.65,-414.92\"/>\n",
       "<text text-anchor=\"middle\" x=\"581\" y=\"-432.8\" font-family=\"Times,serif\" font-size=\"14.00\">1</text>\n",
       "</g>\n",
       "<!-- 34 -->\n",
       "<g id=\"node34\" class=\"node\">\n",
       "<title>34</title>\n",
       "<polygon fill=\"none\" stroke=\"black\" points=\"549.5,-336 489.5,-336 489.5,-298 549.5,-298 549.5,-336\"/>\n",
       "<text text-anchor=\"middle\" x=\"519.5\" y=\"-320.8\" font-family=\"Times,serif\" font-size=\"14.00\">[34]</text>\n",
       "<text text-anchor=\"middle\" x=\"519.5\" y=\"-305.8\" font-family=\"Times,serif\" font-size=\"14.00\">Pushout</text>\n",
       "</g>\n",
       "<!-- 33&#45;&gt;34 -->\n",
       "<g id=\"edge54\" class=\"edge\">\n",
       "<title>33&#45;&gt;34</title>\n",
       "<path fill=\"none\" stroke=\"black\" d=\"M519.5,-372.96C519.5,-364.88 519.5,-355.18 519.5,-346.18\"/>\n",
       "<polygon fill=\"black\" stroke=\"black\" points=\"523,-346.09 519.5,-336.09 516,-346.09 523,-346.09\"/>\n",
       "</g>\n",
       "<!-- 35 -->\n",
       "<g id=\"node35\" class=\"node\">\n",
       "<title>35</title>\n",
       "<polygon fill=\"none\" stroke=\"black\" points=\"496.5,-247 312.5,-247 312.5,-194 496.5,-194 496.5,-247\"/>\n",
       "<text text-anchor=\"middle\" x=\"404.5\" y=\"-231.8\" font-family=\"Times,serif\" font-size=\"14.00\">[35]</text>\n",
       "<text text-anchor=\"middle\" x=\"404.5\" y=\"-216.8\" font-family=\"Times,serif\" font-size=\"14.00\">InjectionOfCofactorOfPushout</text>\n",
       "<text text-anchor=\"middle\" x=\"404.5\" y=\"-201.8\" font-family=\"Times,serif\" font-size=\"14.00\">WithGivenPushout( 2 )</text>\n",
       "</g>\n",
       "<!-- 33&#45;&gt;35 -->\n",
       "<g id=\"edge55\" class=\"edge\">\n",
       "<title>33&#45;&gt;35</title>\n",
       "<path fill=\"none\" stroke=\"black\" d=\"M503.01,-372.74C493.89,-362.29 482.61,-348.77 473.5,-336 455.06,-310.14 436.62,-279.21 423.45,-256.02\"/>\n",
       "<polygon fill=\"black\" stroke=\"black\" points=\"426.45,-254.22 418.49,-247.23 420.35,-257.66 426.45,-254.22\"/>\n",
       "<text text-anchor=\"middle\" x=\"477\" y=\"-313.3\" font-family=\"Times,serif\" font-size=\"14.00\">1</text>\n",
       "</g>\n",
       "<!-- 37 -->\n",
       "<g id=\"node37\" class=\"node\">\n",
       "<title>37</title>\n",
       "<polygon fill=\"none\" stroke=\"black\" points=\"698.5,-247 514.5,-247 514.5,-194 698.5,-194 698.5,-247\"/>\n",
       "<text text-anchor=\"middle\" x=\"606.5\" y=\"-231.8\" font-family=\"Times,serif\" font-size=\"14.00\">[37]</text>\n",
       "<text text-anchor=\"middle\" x=\"606.5\" y=\"-216.8\" font-family=\"Times,serif\" font-size=\"14.00\">InjectionOfCofactorOfPushout</text>\n",
       "<text text-anchor=\"middle\" x=\"606.5\" y=\"-201.8\" font-family=\"Times,serif\" font-size=\"14.00\">WithGivenPushout( 1 )</text>\n",
       "</g>\n",
       "<!-- 33&#45;&gt;37 -->\n",
       "<g id=\"edge58\" class=\"edge\">\n",
       "<title>33&#45;&gt;37</title>\n",
       "<path fill=\"none\" stroke=\"black\" d=\"M533.92,-372.83C541.78,-362.42 551.34,-348.89 558.5,-336 572.69,-310.44 585.32,-279.83 594.06,-256.69\"/>\n",
       "<polygon fill=\"black\" stroke=\"black\" points=\"597.35,-257.86 597.55,-247.26 590.79,-255.42 597.35,-257.86\"/>\n",
       "<text text-anchor=\"middle\" x=\"580\" y=\"-313.3\" font-family=\"Times,serif\" font-size=\"14.00\">1</text>\n",
       "</g>\n",
       "<!-- 34&#45;&gt;35 -->\n",
       "<g id=\"edge56\" class=\"edge\">\n",
       "<title>34&#45;&gt;35</title>\n",
       "<path fill=\"none\" stroke=\"black\" d=\"M498.12,-297.97C486.46,-288.16 471.73,-275.86 458.5,-265 453.97,-261.28 449.21,-257.4 444.47,-253.56\"/>\n",
       "<polygon fill=\"black\" stroke=\"black\" points=\"446.54,-250.73 436.56,-247.17 442.13,-256.18 446.54,-250.73\"/>\n",
       "<text text-anchor=\"middle\" x=\"478\" y=\"-268.8\" font-family=\"Times,serif\" font-size=\"14.00\">2</text>\n",
       "</g>\n",
       "<!-- 34&#45;&gt;37 -->\n",
       "<g id=\"edge59\" class=\"edge\">\n",
       "<title>34&#45;&gt;37</title>\n",
       "<path fill=\"none\" stroke=\"black\" d=\"M536.27,-297.78C547.54,-285.54 562.72,-269.06 576.08,-254.54\"/>\n",
       "<polygon fill=\"black\" stroke=\"black\" points=\"578.67,-256.89 582.87,-247.17 573.52,-252.15 578.67,-256.89\"/>\n",
       "<text text-anchor=\"middle\" x=\"569\" y=\"-268.8\" font-family=\"Times,serif\" font-size=\"14.00\">2</text>\n",
       "</g>\n",
       "<!-- 36 -->\n",
       "<g id=\"node36\" class=\"node\">\n",
       "<title>36</title>\n",
       "<polygon fill=\"none\" stroke=\"black\" points=\"540.5,-157 442.5,-157 442.5,-104 540.5,-104 540.5,-157\"/>\n",
       "<text text-anchor=\"middle\" x=\"491.5\" y=\"-141.8\" font-family=\"Times,serif\" font-size=\"14.00\">[36]</text>\n",
       "<text text-anchor=\"middle\" x=\"491.5\" y=\"-126.8\" font-family=\"Times,serif\" font-size=\"14.00\">Inverse</text>\n",
       "<text text-anchor=\"middle\" x=\"491.5\" y=\"-111.8\" font-family=\"Times,serif\" font-size=\"14.00\">ForMorphisms</text>\n",
       "</g>\n",
       "<!-- 35&#45;&gt;36 -->\n",
       "<g id=\"edge57\" class=\"edge\">\n",
       "<title>35&#45;&gt;36</title>\n",
       "<path fill=\"none\" stroke=\"black\" d=\"M430.13,-193.57C439.16,-184.44 449.43,-174.06 458.95,-164.43\"/>\n",
       "<polygon fill=\"black\" stroke=\"black\" points=\"461.51,-166.81 466.05,-157.24 456.53,-161.89 461.51,-166.81\"/>\n",
       "</g>\n",
       "<!-- 38 -->\n",
       "<g id=\"node38\" class=\"node\">\n",
       "<title>38</title>\n",
       "<polygon fill=\"none\" stroke=\"black\" points=\"583.5,-53 515.5,-53 515.5,0 583.5,0 583.5,-53\"/>\n",
       "<text text-anchor=\"middle\" x=\"549.5\" y=\"-37.8\" font-family=\"Times,serif\" font-size=\"14.00\">[38]</text>\n",
       "<text text-anchor=\"middle\" x=\"549.5\" y=\"-22.8\" font-family=\"Times,serif\" font-size=\"14.00\">Pre</text>\n",
       "<text text-anchor=\"middle\" x=\"549.5\" y=\"-7.8\" font-family=\"Times,serif\" font-size=\"14.00\">Compose</text>\n",
       "</g>\n",
       "<!-- 36&#45;&gt;38 -->\n",
       "<g id=\"edge61\" class=\"edge\">\n",
       "<title>36&#45;&gt;38</title>\n",
       "<path fill=\"none\" stroke=\"black\" d=\"M506.14,-103.76C513.28,-91.2 521.98,-75.9 529.71,-62.31\"/>\n",
       "<polygon fill=\"black\" stroke=\"black\" points=\"532.97,-63.65 534.87,-53.23 526.88,-60.19 532.97,-63.65\"/>\n",
       "<text text-anchor=\"middle\" x=\"527\" y=\"-74.8\" font-family=\"Times,serif\" font-size=\"14.00\">2</text>\n",
       "</g>\n",
       "<!-- 37&#45;&gt;38 -->\n",
       "<g id=\"edge60\" class=\"edge\">\n",
       "<title>37&#45;&gt;38</title>\n",
       "<path fill=\"none\" stroke=\"black\" d=\"M598.81,-193.61C588.8,-159.87 571.25,-100.75 560.01,-62.89\"/>\n",
       "<polygon fill=\"black\" stroke=\"black\" points=\"563.36,-61.88 557.16,-53.29 556.65,-63.87 563.36,-61.88\"/>\n",
       "<text text-anchor=\"middle\" x=\"590\" y=\"-126.8\" font-family=\"Times,serif\" font-size=\"14.00\">1</text>\n",
       "</g>\n",
       "</g>\n",
       "</svg>\n"
      ]
     },
     "metadata": {},
     "output_type": "display_data"
    }
   ],
   "source": [
    "Visualize( s )"
   ]
  },
  {
   "cell_type": "code",
   "execution_count": 34,
   "id": "4569259d",
   "metadata": {},
   "outputs": [
    {
     "data": {
      "text/plain": [
       "GAP: \"PreCompose\""
      ]
     },
     "execution_count": 34,
     "metadata": {},
     "output_type": "execute_result"
    }
   ],
   "source": [
    "sO = GenesisOfCellOperation( s )"
   ]
  },
  {
   "cell_type": "code",
   "execution_count": 35,
   "id": "3567582b",
   "metadata": {},
   "outputs": [
    {
     "data": {
      "text/plain": [
       "GAP: [ LazyCategory( Adelman category( AdditiveClosure( Algebroid( Z, FreeCategory( RightQuiver( \"q(4)[a:1->2,b:2->3,c:3->4]\" ) ) ) / relations ) ) ), <A morphism in LazyCategory( Adelman category( AdditiveClosure( Algebroid( Z, FreeCategory( RightQuiver( \"q(4)[a:1->2,b:2->3,c:3->4]\" ) ) ) / relations ) ) )>, <A morphism in LazyCategory( Adelman category( AdditiveClosure( Algebroid( Z, FreeCategory( RightQuiver( \"q(4)[a:1->2,b:2->3,c:3->4]\" ) ) ) / relations ) ) )> ]"
      ]
     },
     "execution_count": 35,
     "metadata": {},
     "output_type": "execute_result"
    }
   ],
   "source": [
    "sA = GenesisOfCellArguments( s )"
   ]
  },
  {
   "cell_type": "code",
   "execution_count": 36,
   "id": "b8101e4c",
   "metadata": {},
   "outputs": [
    {
     "data": {
      "text/plain": [
       "GAP: \"InjectionOfCofactorOfPushoutWithGivenPushout\""
      ]
     },
     "execution_count": 36,
     "metadata": {},
     "output_type": "execute_result"
    }
   ],
   "source": [
    "GenesisOfCellOperation( sA[2] )"
   ]
  },
  {
   "cell_type": "code",
   "execution_count": 37,
   "id": "7d6286fa",
   "metadata": {},
   "outputs": [
    {
     "data": {
      "text/plain": [
       "GAP: [ LazyCategory( Adelman category( AdditiveClosure( Algebroid( Z, FreeCategory( RightQuiver( \"q(4)[a:1->2,b:2->3,c:3->4]\" ) ) ) / relations ) ) ), [ <A morphism in LazyCategory( Adelman category( AdditiveClosure( Algebroid( Z, FreeCategory( RightQuiver( \"q(4)[a:1->2,b:2->3,c:3->4]\" ) ) ) / relations ) ) )>, <A morphism in LazyCategory( Adelman category( AdditiveClosure( Algebroid( Z, FreeCategory( RightQuiver( \"q(4)[a:1->2,b:2->3,c:3->4]\" ) ) ) / relations ) ) )> ], 1, <An object in LazyCategory( Adelman category( AdditiveClosure( Algebroid( Z, FreeCategory( RightQuiver( \"q(4)[a:1->2,b:2->3,c:3->4]\" ) ) ) / relations ) ) )> ]"
      ]
     },
     "execution_count": 37,
     "metadata": {},
     "output_type": "execute_result"
    }
   ],
   "source": [
    "GenesisOfCellArguments( sA[2] )"
   ]
  },
  {
   "cell_type": "code",
   "execution_count": 38,
   "id": "92dc6c30",
   "metadata": {},
   "outputs": [
    {
     "data": {
      "text/plain": [
       "GAP: \"InverseForMorphisms\""
      ]
     },
     "execution_count": 38,
     "metadata": {},
     "output_type": "execute_result"
    }
   ],
   "source": [
    "GenesisOfCellOperation( sA[3] )"
   ]
  },
  {
   "cell_type": "code",
   "execution_count": 39,
   "id": "c16ca435",
   "metadata": {},
   "outputs": [
    {
     "data": {
      "text/plain": [
       "GAP: [ LazyCategory( Adelman category( AdditiveClosure( Algebroid( Z, FreeCategory( RightQuiver( \"q(4)[a:1->2,b:2->3,c:3->4]\" ) ) ) / relations ) ) ), <A morphism in LazyCategory( Adelman category( AdditiveClosure( Algebroid( Z, FreeCategory( RightQuiver( \"q(4)[a:1->2,b:2->3,c:3->4]\" ) ) ) / relations ) ) )> ]"
      ]
     },
     "execution_count": 39,
     "metadata": {},
     "output_type": "execute_result"
    }
   ],
   "source": [
    "GenesisOfCellArguments( sA[3] )"
   ]
  },
  {
   "cell_type": "code",
   "execution_count": 40,
   "id": "23258d3e",
   "metadata": {},
   "outputs": [
    {
     "data": {
      "text/plain": [
       "false"
      ]
     },
     "execution_count": 40,
     "metadata": {},
     "output_type": "execute_result"
    }
   ],
   "source": [
    "HasGenesisOfCell( a )"
   ]
  },
  {
   "cell_type": "code",
   "execution_count": 41,
   "id": "bf6727f2",
   "metadata": {},
   "outputs": [
    {
     "data": {
      "text/plain": [
       "false"
      ]
     },
     "execution_count": 41,
     "metadata": {},
     "output_type": "execute_result"
    }
   ],
   "source": [
    "HasGenesisOfCell( a )"
   ]
  },
  {
   "cell_type": "code",
   "execution_count": 42,
   "id": "fe428d8f",
   "metadata": {},
   "outputs": [
    {
     "data": {
      "text/plain": [
       "GAP: <A morphism in LazyCategory( Adelman category( AdditiveClosure( Algebroid( Z, FreeCategory( RightQuiver( \"q(4)[a:1->2,b:2->3,c:3->4]\" ) ) ) / relations ) ) )>"
      ]
     },
     "execution_count": 42,
     "metadata": {},
     "output_type": "execute_result"
    }
   ],
   "source": [
    "j = KernelObjectFunctorial( b, d, e )"
   ]
  },
  {
   "cell_type": "code",
   "execution_count": 43,
   "id": "c64ca9e3",
   "metadata": {},
   "outputs": [
    {
     "data": {
      "text/plain": [
       "GAP: <A morphism in LazyCategory( Adelman category( AdditiveClosure( Algebroid( Z, FreeCategory( RightQuiver( \"q(4)[a:1->2,b:2->3,c:3->4]\" ) ) ) / relations ) ) )>"
      ]
     },
     "execution_count": 43,
     "metadata": {},
     "output_type": "execute_result"
    }
   ],
   "source": [
    "k = CokernelObjectFunctorial( h, g, b )"
   ]
  },
  {
   "cell_type": "code",
   "execution_count": 44,
   "id": "4e0ec477",
   "metadata": {},
   "outputs": [
    {
     "data": {
      "text/plain": [
       "GAP: <An object in LazyCategory( Adelman category( AdditiveClosure( Algebroid( Z, FreeCategory( RightQuiver( \"q(4)[a:1->2,b:2->3,c:3->4]\" ) ) ) / relations ) ) )>"
      ]
     },
     "execution_count": 44,
     "metadata": {},
     "output_type": "execute_result"
    }
   ],
   "source": [
    "HK = HomologyObject( j, s )"
   ]
  },
  {
   "cell_type": "code",
   "execution_count": 45,
   "id": "a2f439ae",
   "metadata": {},
   "outputs": [
    {
     "data": {
      "text/plain": [
       "GAP: <An object in LazyCategory( Adelman category( AdditiveClosure( Algebroid( Z, FreeCategory( RightQuiver( \"q(4)[a:1->2,b:2->3,c:3->4]\" ) ) ) / relations ) ) )>"
      ]
     },
     "execution_count": 45,
     "metadata": {},
     "output_type": "execute_result"
    }
   ],
   "source": [
    "HC = HomologyObject( s, k )"
   ]
  }
 ],
 "metadata": {
  "@webio": {
   "lastCommId": null,
   "lastKernelId": null
  },
  "kernelspec": {
   "display_name": "Julia 1.11.7",
   "language": "julia",
   "name": "julia-1.11"
  },
  "language_info": {
   "file_extension": ".jl",
   "mimetype": "application/julia",
   "name": "julia",
   "version": "1.11.7"
  }
 },
 "nbformat": 4,
 "nbformat_minor": 5
}
