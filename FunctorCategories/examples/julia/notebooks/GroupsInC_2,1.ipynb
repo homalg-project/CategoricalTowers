{
 "cells": [
  {
   "cell_type": "code",
   "execution_count": 1,
   "id": "3ac8b60f-d45d-4c85-a8d6-4443e84235c7",
   "metadata": {},
   "outputs": [
    {
     "name": "stdout",
     "output_type": "stream",
     "text": [
      "CapAndHomalg v\u001b[32m1.6.3\u001b[39m\n",
      "Imported OSCAR's components GAP and Singular_jll\n",
      "Type: ?CapAndHomalg for more information\n"
     ]
    }
   ],
   "source": [
    "using CapAndHomalg"
   ]
  },
  {
   "cell_type": "code",
   "execution_count": 2,
   "id": "20a3e551-423f-4f84-88f6-452e972cf9a9",
   "metadata": {},
   "outputs": [],
   "source": [
    "LoadPackage( \"FunctorCategories\" )"
   ]
  },
  {
   "cell_type": "code",
   "execution_count": 3,
   "id": "012f31f9-4371-4856-bf00-5762312f26ac",
   "metadata": {},
   "outputs": [
    {
     "data": {
      "text/plain": [
       "GAP: FinQuiver( \"q(o)[e:o→o]\" )"
      ]
     },
     "execution_count": 3,
     "metadata": {},
     "output_type": "execute_result"
    }
   ],
   "source": [
    "q = FinQuiver( \"q(o)[e:o->o]\" )"
   ]
  },
  {
   "cell_type": "code",
   "execution_count": 4,
   "id": "e968ff14-4647-48fa-8668-d08f82a119fb",
   "metadata": {},
   "outputs": [
    {
     "data": {
      "text/plain": [
       "GAP: PathCategory( FinQuiver( \"q(o)[e:o→o]\" ) )"
      ]
     },
     "execution_count": 4,
     "metadata": {},
     "output_type": "execute_result"
    }
   ],
   "source": [
    "P = PathCategory( q )"
   ]
  },
  {
   "cell_type": "code",
   "execution_count": 5,
   "id": "e2e1eaf4-59bf-4619-94a9-f5e4bc3bcfe4",
   "metadata": {},
   "outputs": [
    {
     "data": {
      "text/plain": [
       "GAP: PathCategory( FinQuiver( \"q(o)[e:o→o]\" ) ) / [ e^2 = e ]"
      ]
     },
     "execution_count": 5,
     "metadata": {},
     "output_type": "execute_result"
    }
   ],
   "source": [
    "C = P / [ [ P.ee, P.e ] ]"
   ]
  },
  {
   "cell_type": "code",
   "execution_count": 6,
   "id": "6d96ff3c-f19f-4a5d-9926-717e7654528a",
   "metadata": {},
   "outputs": [
    {
     "data": {
      "text/plain": [
       "GAP: PreSheaves( PathCategory( FinQuiver( \"q(o)[e:o→o]\" ) ) / [ e^2 = e ], SkeletalFinSets )"
      ]
     },
     "execution_count": 6,
     "metadata": {},
     "output_type": "execute_result"
    }
   ],
   "source": [
    "PSh = PreSheaves( C )"
   ]
  },
  {
   "cell_type": "code",
   "execution_count": 7,
   "id": "5b5b3e75-1db2-46c3-9192-45a3e67d5476",
   "metadata": {},
   "outputs": [
    {
     "name": "stdout",
     "output_type": "stream",
     "text": [
      "A CAP category with name PreSheaves( PathCategory( FinQuiver( \"q(o)[e:o→o]\" ) ) / [ e^2 = e ], SkeletalFinSets ):\n",
      "\n",
      "52 primitive operations were used to derive 356 operations for this category which algorithmically\n",
      "* IsCategoryWithDecidableColifts\n",
      "* IsCategoryWithDecidableLifts\n",
      "* IsEquippedWithHomomorphismStructure\n",
      "* IsSymmetricMonoidalCategory\n",
      "* IsElementaryTopos\n",
      "and furthermore mathematically\n",
      "* IsSymmetricMonoidalCategoryStructureGivenByDirectProduct\n"
     ]
    }
   ],
   "source": [
    "Display( PSh )"
   ]
  },
  {
   "cell_type": "code",
   "execution_count": 8,
   "id": "f05cf9ac-b92e-41d1-9fe8-e8be28d697e2",
   "metadata": {},
   "outputs": [
    {
     "data": {
      "text/plain": [
       "GAP: <An object in PreSheaves( PathCategory( FinQuiver( \"q(o)[e:o→o]\" ) ) / [ e^2 = e ], SkeletalFinSets )>"
      ]
     },
     "execution_count": 8,
     "metadata": {},
     "output_type": "execute_result"
    }
   ],
   "source": [
    "T = TerminalObject( PSh )"
   ]
  },
  {
   "cell_type": "code",
   "execution_count": 9,
   "id": "e8a28881-6ef5-490b-9e0a-d0d2b389ba1c",
   "metadata": {},
   "outputs": [
    {
     "data": {
      "text/plain": [
       "GAP: <An object in PreSheaves( PathCategory( FinQuiver( \"q(o)[e:o→o]\" ) ) / [ e^2 = e ], SkeletalFinSets )>"
      ]
     },
     "execution_count": 9,
     "metadata": {},
     "output_type": "execute_result"
    }
   ],
   "source": [
    "InitialObject( PSh )"
   ]
  },
  {
   "cell_type": "code",
   "execution_count": 10,
   "id": "4b830586-0281-403b-8c96-0626e76b00a7",
   "metadata": {},
   "outputs": [
    {
     "data": {
      "text/plain": [
       "GAP: <An object in PreSheaves( PathCategory( FinQuiver( \"q(o)[e:o→o]\" ) ) / [ e^2 = e ], SkeletalFinSets )>"
      ]
     },
     "execution_count": 10,
     "metadata": {},
     "output_type": "execute_result"
    }
   ],
   "source": [
    "Ω = SubobjectClassifier( PSh )"
   ]
  },
  {
   "cell_type": "code",
   "execution_count": 11,
   "id": "de0232e0-133a-453e-ae74-a3d904721073",
   "metadata": {},
   "outputs": [
    {
     "data": {
      "text/plain": [
       "GAP: <An object in PreSheaves( PathCategory( FinQuiver( \"q(o)[e:o→o]\" ) ) / [ e^2 = e ], SkeletalFinSets )>"
      ]
     },
     "execution_count": 11,
     "metadata": {},
     "output_type": "execute_result"
    }
   ],
   "source": [
    "SomeProjectiveObject( Ω )"
   ]
  },
  {
   "cell_type": "code",
   "execution_count": 12,
   "id": "97853c05-8202-4c28-af0c-59d42453435f",
   "metadata": {},
   "outputs": [
    {
     "data": {
      "text/plain": [
       "GAP: <A morphism in PreSheaves( PathCategory( FinQuiver( \"q(o)[e:o→o]\" ) ) / [ e^2 = e ], SkeletalFinSets )>"
      ]
     },
     "execution_count": 12,
     "metadata": {},
     "output_type": "execute_result"
    }
   ],
   "source": [
    "EpimorphismFromSomeProjectiveObject( Ω )"
   ]
  },
  {
   "cell_type": "code",
   "execution_count": 13,
   "id": "9e6a3c15-d119-44cb-9e6b-4eb8914fba76",
   "metadata": {},
   "outputs": [
    {
     "data": {
      "text/plain": [
       "GAP: <An object in PreSheaves( PathCategory( FinQuiver( \"q(o)[e:o→o]\" ) ) / [ e^2 = e ], SkeletalFinSets )>"
      ]
     },
     "execution_count": 13,
     "metadata": {},
     "output_type": "execute_result"
    }
   ],
   "source": [
    "Ω2 = DirectProduct( Ω, Ω )"
   ]
  },
  {
   "cell_type": "code",
   "execution_count": 14,
   "id": "bbaafd8c-5f9d-4f27-9c67-92bc49860b5c",
   "metadata": {},
   "outputs": [
    {
     "data": {
      "text/plain": [
       "GAP: |162|"
      ]
     },
     "execution_count": 14,
     "metadata": {},
     "output_type": "execute_result"
    }
   ],
   "source": [
    "HomStructure( Ω2, Ω )"
   ]
  },
  {
   "cell_type": "code",
   "execution_count": 15,
   "id": "c0ad3c55-d844-47ac-be8c-723c97e1786f",
   "metadata": {},
   "outputs": [],
   "source": [
    "homs = MorphismsOfExternalHom( Ω2, Ω );"
   ]
  },
  {
   "cell_type": "code",
   "execution_count": 16,
   "id": "9acccaa6-21c4-44eb-9365-829aa0964fc2",
   "metadata": {},
   "outputs": [
    {
     "data": {
      "text/plain": [
       "GAP: <A morphism in PreSheaves( PathCategory( FinQuiver( \"q(o)[e:o→o]\" ) ) / [ e^2 = e ], SkeletalFinSets )>"
      ]
     },
     "execution_count": 16,
     "metadata": {},
     "output_type": "execute_result"
    }
   ],
   "source": [
    "p1 = ProjectionInFactorOfDirectProduct( [ Ω, Ω ], 1 )"
   ]
  },
  {
   "cell_type": "code",
   "execution_count": 17,
   "id": "bf71e1c8-0c64-4744-82c7-57f7abd6e0d2",
   "metadata": {},
   "outputs": [
    {
     "data": {
      "text/plain": [
       "GAP: <A morphism in PreSheaves( PathCategory( FinQuiver( \"q(o)[e:o→o]\" ) ) / [ e^2 = e ], SkeletalFinSets )>"
      ]
     },
     "execution_count": 17,
     "metadata": {},
     "output_type": "execute_result"
    }
   ],
   "source": [
    "p2 = ProjectionInFactorOfDirectProduct( [ Ω, Ω ], 2 )"
   ]
  },
  {
   "cell_type": "code",
   "execution_count": 18,
   "id": "d23dad44-20f1-4f51-9bc1-e8c521ac0446",
   "metadata": {},
   "outputs": [
    {
     "data": {
      "text/plain": [
       "33"
      ]
     },
     "execution_count": 18,
     "metadata": {},
     "output_type": "execute_result"
    }
   ],
   "source": [
    "Position( homs, p1 )"
   ]
  },
  {
   "cell_type": "code",
   "execution_count": 19,
   "id": "08d6f8f9-4707-47c5-b529-20b711bfb508",
   "metadata": {},
   "outputs": [
    {
     "data": {
      "text/plain": [
       "115"
      ]
     },
     "execution_count": 19,
     "metadata": {},
     "output_type": "execute_result"
    }
   ],
   "source": [
    "Position( homs, p2 )"
   ]
  },
  {
   "cell_type": "code",
   "execution_count": 20,
   "id": "2543225c-0092-4f34-a2c5-99c3c0e265c8",
   "metadata": {},
   "outputs": [],
   "source": [
    "assoc = Filtered( homs, mult -> AssociativitiyLawOfMonoid( PSh, Ω, mult ) );"
   ]
  },
  {
   "cell_type": "code",
   "execution_count": 21,
   "id": "001aaf19-f4ab-4afa-9bcd-a9de0344df99",
   "metadata": {},
   "outputs": [
    {
     "data": {
      "text/plain": [
       "34"
      ]
     },
     "execution_count": 21,
     "metadata": {},
     "output_type": "execute_result"
    }
   ],
   "source": [
    "Length( assoc )"
   ]
  },
  {
   "cell_type": "code",
   "execution_count": 22,
   "id": "c48171f1-889f-42cb-881a-5c4daed5a865",
   "metadata": {},
   "outputs": [],
   "source": [
    "units = MorphismsOfExternalHom( T, Ω );"
   ]
  },
  {
   "cell_type": "code",
   "execution_count": 23,
   "id": "99a2cada-cb0c-485d-8d48-a385831b4d04",
   "metadata": {},
   "outputs": [
    {
     "data": {
      "text/plain": [
       "GAP: [ true, true ]"
      ]
     },
     "execution_count": 23,
     "metadata": {},
     "output_type": "execute_result"
    }
   ],
   "source": [
    "List( units, IsMonomorphism )"
   ]
  },
  {
   "cell_type": "code",
   "execution_count": 24,
   "id": "a16cd8e9-0444-488f-9f94-e18a236980dd",
   "metadata": {},
   "outputs": [],
   "source": [
    "cart = Cartesian( units, assoc );"
   ]
  },
  {
   "cell_type": "code",
   "execution_count": 25,
   "id": "4da2cb2d-f6a8-4ae5-aad8-aa4e199c13ac",
   "metadata": {},
   "outputs": [],
   "source": [
    "left = Filtered( cart, pair -> LeftUnitLawOfMonoid( PSh, Ω, pair[1], pair[2] ) );"
   ]
  },
  {
   "cell_type": "code",
   "execution_count": 26,
   "id": "56264067-c75b-425a-bee9-6ca389d48687",
   "metadata": {},
   "outputs": [
    {
     "data": {
      "text/plain": [
       "13"
      ]
     },
     "execution_count": 26,
     "metadata": {},
     "output_type": "execute_result"
    }
   ],
   "source": [
    "Length( left )"
   ]
  },
  {
   "cell_type": "code",
   "execution_count": 27,
   "id": "11bbcddf-c7bf-40d4-b1d0-f8259d177856",
   "metadata": {},
   "outputs": [],
   "source": [
    "right = Filtered( left, pair -> RightUnitLawOfMonoid( PSh, Ω, pair[1], pair[2] ) );"
   ]
  },
  {
   "cell_type": "code",
   "execution_count": 28,
   "id": "68fe4563-ce53-4546-9835-1694c1855d3b",
   "metadata": {},
   "outputs": [
    {
     "data": {
      "text/plain": [
       "8"
      ]
     },
     "execution_count": 28,
     "metadata": {},
     "output_type": "execute_result"
    }
   ],
   "source": [
    "Length( right )"
   ]
  },
  {
   "cell_type": "code",
   "execution_count": 29,
   "id": "af70a13b-37c2-4bff-a147-d08efa525c0e",
   "metadata": {},
   "outputs": [
    {
     "data": {
      "text/plain": [
       "GAP: CategoryOfHopfMonoids( PreSheaves( PathCategory( FinQuiver( \"q(o)[e:o→o]\" ) ) / [ e^2 = e ], SkeletalFinSets ) )"
      ]
     },
     "execution_count": 29,
     "metadata": {},
     "output_type": "execute_result"
    }
   ],
   "source": [
    "Hmon = CategoryOfHopfMonoids( PSh )"
   ]
  },
  {
   "cell_type": "code",
   "execution_count": 30,
   "id": "28b45342-58ba-4829-8fd2-784e1eea884f",
   "metadata": {},
   "outputs": [
    {
     "data": {
      "text/plain": [
       "GAP: CategoryOfBimonoids( PreSheaves( PathCategory( FinQuiver( \"q(o)[e:o→o]\" ) ) / [ e^2 = e ], SkeletalFinSets ) )"
      ]
     },
     "execution_count": 30,
     "metadata": {},
     "output_type": "execute_result"
    }
   ],
   "source": [
    "Bimon = AssociatedCategoryOfBimonoids( Hmon )"
   ]
  },
  {
   "cell_type": "code",
   "execution_count": 31,
   "id": "06d6bad1-67d2-44ee-981c-d2edf6810f4b",
   "metadata": {},
   "outputs": [
    {
     "data": {
      "text/plain": [
       "GAP: CategoryOfMonoids( PreSheaves( PathCategory( FinQuiver( \"q(o)[e:o→o]\" ) ) / [ e^2 = e ], SkeletalFinSets ) )"
      ]
     },
     "execution_count": 31,
     "metadata": {},
     "output_type": "execute_result"
    }
   ],
   "source": [
    "Mon = AssociatedCategoryOfMonoids( Bimon )"
   ]
  },
  {
   "cell_type": "code",
   "execution_count": 32,
   "id": "1d6b9767-4853-4974-bf09-907c5f6869d7",
   "metadata": {},
   "outputs": [
    {
     "data": {
      "text/plain": [
       "GAP: <A morphism in PreSheaves( PathCategory( FinQuiver( \"q(o)[e:o→o]\" ) ) / [ e^2 = e ], SkeletalFinSets )>"
      ]
     },
     "execution_count": 32,
     "metadata": {},
     "output_type": "execute_result"
    }
   ],
   "source": [
    "t = UniversalMorphismIntoTerminalObject( Ω )"
   ]
  },
  {
   "cell_type": "code",
   "execution_count": 33,
   "id": "caed95a3-bc64-46fe-9c23-744b68abb158",
   "metadata": {},
   "outputs": [
    {
     "data": {
      "text/plain": [
       "GAP: <A morphism in PreSheaves( PathCategory( FinQuiver( \"q(o)[e:o→o]\" ) ) / [ e^2 = e ], SkeletalFinSets )>"
      ]
     },
     "execution_count": 33,
     "metadata": {},
     "output_type": "execute_result"
    }
   ],
   "source": [
    "Δ = CartesianDiagonal( Ω, 2 )"
   ]
  },
  {
   "cell_type": "code",
   "execution_count": 34,
   "id": "97f4d340-6793-484a-a674-49997d26cb6c",
   "metadata": {},
   "outputs": [],
   "source": [
    "bimonoids = List( right, pair -> Bimonoid( Bimon, Triple( Ω, pair[1], pair[2] ) / Mon, t, Δ ) );"
   ]
  },
  {
   "cell_type": "code",
   "execution_count": 35,
   "id": "43c502aa-c2af-46c2-a1c7-e5ba88d0a9be",
   "metadata": {},
   "outputs": [
    {
     "data": {
      "text/plain": [
       "8"
      ]
     },
     "execution_count": 35,
     "metadata": {},
     "output_type": "execute_result"
    }
   ],
   "source": [
    "Length( bimonoids )"
   ]
  },
  {
   "cell_type": "code",
   "execution_count": 36,
   "id": "62b18cdb-c85d-4a83-977a-b4128579cc69",
   "metadata": {},
   "outputs": [
    {
     "data": {
      "text/plain": [
       "true"
      ]
     },
     "execution_count": 36,
     "metadata": {},
     "output_type": "execute_result"
    }
   ],
   "source": [
    "ForAll( bimonoids, IsWellDefined )"
   ]
  },
  {
   "cell_type": "code",
   "execution_count": 37,
   "id": "2b5158d2-161c-4596-b377-c383c44f0f74",
   "metadata": {},
   "outputs": [
    {
     "data": {
      "text/plain": [
       "GAP: [ <An isomorphism in PreSheaves( PathCategory( FinQuiver( \"q(o)[e:o→o]\" ) ) / [ e^2 = e ], SkeletalFinSets )> ]"
      ]
     },
     "execution_count": 37,
     "metadata": {},
     "output_type": "execute_result"
    }
   ],
   "source": [
    "isos = Filtered( MorphismsOfExternalHom( Ω, Ω ), IsIsomorphism )"
   ]
  },
  {
   "cell_type": "code",
   "execution_count": 38,
   "id": "ccef16ad-ee8a-4253-bb80-00242a629194",
   "metadata": {},
   "outputs": [],
   "source": [
    "cart2 = Cartesian( bimonoids, isos );"
   ]
  },
  {
   "cell_type": "code",
   "execution_count": 39,
   "id": "0f827d9b-100f-4c2a-aade-59a8a35b3164",
   "metadata": {},
   "outputs": [],
   "source": [
    "left2 = Filtered( cart2, pair -> LeftAntipodeLawOfHopfMonoid( Bimon, pair[1], pair[2] ) );"
   ]
  },
  {
   "cell_type": "code",
   "execution_count": 40,
   "id": "8689269b-2bab-4601-b533-dff548c35584",
   "metadata": {},
   "outputs": [
    {
     "data": {
      "text/plain": [
       "0"
      ]
     },
     "execution_count": 40,
     "metadata": {},
     "output_type": "execute_result"
    }
   ],
   "source": [
    "Length( left2 )"
   ]
  },
  {
   "cell_type": "code",
   "execution_count": 41,
   "id": "f25675ef-3ac8-4343-99dc-9de7694fa7e0",
   "metadata": {},
   "outputs": [],
   "source": [
    "right2 = Filtered( left2, pair -> RightAntipodeLawOfHopfMonoid( Bimon, pair[1], pair[2] ) );"
   ]
  },
  {
   "cell_type": "code",
   "execution_count": 42,
   "id": "ece5877d-76c3-4ddc-9c88-35c5716a00a1",
   "metadata": {},
   "outputs": [
    {
     "data": {
      "text/plain": [
       "0"
      ]
     },
     "execution_count": 42,
     "metadata": {},
     "output_type": "execute_result"
    }
   ],
   "source": [
    "Length( right2 )"
   ]
  },
  {
   "cell_type": "code",
   "execution_count": 43,
   "id": "053f8d48-8087-4f2e-9ecb-63a5b1d59d24",
   "metadata": {},
   "outputs": [
    {
     "data": {
      "text/plain": [
       "GAP: [  ]"
      ]
     },
     "execution_count": 43,
     "metadata": {},
     "output_type": "execute_result"
    }
   ],
   "source": [
    "groups = List( right2, pair -> HopfMonoid( Hmon, pair[1], pair[2] ) )"
   ]
  },
  {
   "cell_type": "code",
   "execution_count": 44,
   "id": "28aa3ac6-e6ce-4464-9e51-777ef9e7baee",
   "metadata": {},
   "outputs": [
    {
     "data": {
      "text/plain": [
       "0"
      ]
     },
     "execution_count": 44,
     "metadata": {},
     "output_type": "execute_result"
    }
   ],
   "source": [
    "Length( groups )"
   ]
  },
  {
   "cell_type": "code",
   "execution_count": 45,
   "id": "e5b2760a-ee63-44e3-a505-8d9c7da7ca64",
   "metadata": {},
   "outputs": [
    {
     "data": {
      "text/plain": [
       "true"
      ]
     },
     "execution_count": 45,
     "metadata": {},
     "output_type": "execute_result"
    }
   ],
   "source": [
    "ForAll( groups, IsWellDefined )"
   ]
  },
  {
   "cell_type": "code",
   "execution_count": null,
   "id": "d29be7a1-4a1d-403c-bc01-119040f887ff",
   "metadata": {},
   "outputs": [],
   "source": []
  }
 ],
 "metadata": {
  "kernelspec": {
   "display_name": "Julia 1.11.6",
   "language": "julia",
   "name": "julia-1.11"
  },
  "language_info": {
   "file_extension": ".jl",
   "mimetype": "application/julia",
   "name": "julia",
   "version": "1.11.6"
  }
 },
 "nbformat": 4,
 "nbformat_minor": 5
}
