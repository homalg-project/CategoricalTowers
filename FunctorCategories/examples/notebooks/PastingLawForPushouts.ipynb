{
 "cells": [
  {
   "cell_type": "markdown",
   "id": "c6cf1fdd",
   "metadata": {},
   "source": [
    "## Proving one direction of the  [pasting law for pushouts](https://ncatlab.org/nlab/show/pasting+law+for+pullbacks) by a computation in a suitable *free* finitely cocomplete category:"
   ]
  },
  {
   "cell_type": "code",
   "execution_count": 1,
   "id": "8e3ff16c",
   "metadata": {},
   "outputs": [
    {
     "name": "stdout",
     "output_type": "stream",
     "text": [
      "CapAndHomalg v\u001b[32m1.6.4\u001b[39m\n",
      "Imported OSCAR's components GAP and Singular_jll\n",
      "Type: ?CapAndHomalg for more information\n"
     ]
    }
   ],
   "source": [
    "using CapAndHomalg"
   ]
  },
  {
   "cell_type": "code",
   "execution_count": 2,
   "id": "543a4728",
   "metadata": {},
   "outputs": [],
   "source": [
    "LoadPackage( \"FunctorCategories\" )"
   ]
  },
  {
   "cell_type": "code",
   "execution_count": 3,
   "id": "f61d226b",
   "metadata": {},
   "outputs": [
    {
     "data": {
      "text/plain": [
       "GAP: q(A1,A2,A3,B1)[a1:A1->A2,a2:A2->A3,v1:A1->B1]"
      ]
     },
     "execution_count": 3,
     "metadata": {},
     "output_type": "execute_result"
    }
   ],
   "source": [
    "q = RightQuiver( \"q(A1,A2,A3,B1)[a1:A1->A2,a2:A2->A3,v1:A1->B1]\" )"
   ]
  },
  {
   "cell_type": "code",
   "execution_count": 4,
   "id": "4f3a3d3a",
   "metadata": {},
   "outputs": [
    {
     "data": {
      "text/plain": [
       "GAP: FreeCategory( RightQuiver( \"q(A1,A2,A3,B1)[a1:A1->A2,a2:A2->A3,v1:A1->B1]\" ) )"
      ]
     },
     "execution_count": 4,
     "metadata": {},
     "output_type": "execute_result"
    }
   ],
   "source": [
    "C = FreeCategory( q )"
   ]
  },
  {
   "cell_type": "code",
   "execution_count": 5,
   "id": "b52f8b41",
   "metadata": {},
   "outputs": [
    {
     "data": {
      "text/plain": [
       "GAP: FiniteCocompletion( FreeCategory( RightQuiver( \"q(A1,A2,A3,B1)[a1:A1->A2,a2:A2->A3,v1:A1->B1]\" ) ) )"
      ]
     },
     "execution_count": 5,
     "metadata": {},
     "output_type": "execute_result"
    }
   ],
   "source": [
    "Ĉ = FiniteCocompletion( C )"
   ]
  },
  {
   "cell_type": "code",
   "execution_count": 6,
   "id": "1bded5ba",
   "metadata": {},
   "outputs": [
    {
     "data": {
      "text/plain": [
       "GAP: PreSheaves( FreeCategory( RightQuiver( \"q(A1,A2,A3,B1)[a1:A1->A2,a2:A2->A3,v1:A1->B1]\" ) ), SkeletalFinSets )"
      ]
     },
     "execution_count": 6,
     "metadata": {},
     "output_type": "execute_result"
    }
   ],
   "source": [
    "ModelingCategory( Ĉ )"
   ]
  },
  {
   "cell_type": "code",
   "execution_count": 7,
   "id": "2bb8d4e9",
   "metadata": {},
   "outputs": [
    {
     "data": {
      "text/plain": [
       "GAP: <A morphism in FiniteCocompletion( FreeCategory( RightQuiver( \"q(A1,A2,A3,B1)[a1:A1->A2,a2:A2->A3,v1:A1->B1]\" ) ) )>"
      ]
     },
     "execution_count": 7,
     "metadata": {},
     "output_type": "execute_result"
    }
   ],
   "source": [
    "a1 = Ĉ.a1"
   ]
  },
  {
   "cell_type": "code",
   "execution_count": 8,
   "id": "d7afeb2c",
   "metadata": {},
   "outputs": [
    {
     "data": {
      "text/plain": [
       "GAP: <A morphism in FiniteCocompletion( FreeCategory( RightQuiver( \"q(A1,A2,A3,B1)[a1:A1->A2,a2:A2->A3,v1:A1->B1]\" ) ) )>"
      ]
     },
     "execution_count": 8,
     "metadata": {},
     "output_type": "execute_result"
    }
   ],
   "source": [
    "a2 = Ĉ.a2"
   ]
  },
  {
   "cell_type": "code",
   "execution_count": 9,
   "id": "fb5249b4",
   "metadata": {},
   "outputs": [
    {
     "data": {
      "text/plain": [
       "GAP: <A morphism in FiniteCocompletion( FreeCategory( RightQuiver( \"q(A1,A2,A3,B1)[a1:A1->A2,a2:A2->A3,v1:A1->B1]\" ) ) )>"
      ]
     },
     "execution_count": 9,
     "metadata": {},
     "output_type": "execute_result"
    }
   ],
   "source": [
    "v1 = Ĉ.v1"
   ]
  },
  {
   "cell_type": "code",
   "execution_count": 10,
   "id": "689c394b",
   "metadata": {},
   "outputs": [
    {
     "data": {
      "text/plain": [
       "GAP: <A morphism in FiniteCocompletion( FreeCategory( RightQuiver( \"q(A1,A2,A3,B1)[a1:A1->A2,a2:A2->A3,v1:A1->B1]\" ) ) )>"
      ]
     },
     "execution_count": 10,
     "metadata": {},
     "output_type": "execute_result"
    }
   ],
   "source": [
    "v2 = InjectionOfCofactorOfPushout( [ a1, v1 ], 1 )"
   ]
  },
  {
   "cell_type": "code",
   "execution_count": 11,
   "id": "aa910a60",
   "metadata": {},
   "outputs": [
    {
     "data": {
      "text/plain": [
       "GAP: <A morphism in FiniteCocompletion( FreeCategory( RightQuiver( \"q(A1,A2,A3,B1)[a1:A1->A2,a2:A2->A3,v1:A1->B1]\" ) ) )>"
      ]
     },
     "execution_count": 11,
     "metadata": {},
     "output_type": "execute_result"
    }
   ],
   "source": [
    "b1 = InjectionOfCofactorOfPushout( [ a1, v1 ], 2 )"
   ]
  },
  {
   "cell_type": "code",
   "execution_count": 12,
   "id": "cdc38f1e",
   "metadata": {},
   "outputs": [
    {
     "data": {
      "text/plain": [
       "GAP: <A morphism in FiniteCocompletion( FreeCategory( RightQuiver( \"q(A1,A2,A3,B1)[a1:A1->A2,a2:A2->A3,v1:A1->B1]\" ) ) )>"
      ]
     },
     "execution_count": 12,
     "metadata": {},
     "output_type": "execute_result"
    }
   ],
   "source": [
    "v3 = InjectionOfCofactorOfPushout( [ a2, v2 ], 1 )"
   ]
  },
  {
   "cell_type": "code",
   "execution_count": 13,
   "id": "ca2a0754",
   "metadata": {},
   "outputs": [
    {
     "data": {
      "text/plain": [
       "GAP: <A morphism in FiniteCocompletion( FreeCategory( RightQuiver( \"q(A1,A2,A3,B1)[a1:A1->A2,a2:A2->A3,v1:A1->B1]\" ) ) )>"
      ]
     },
     "execution_count": 13,
     "metadata": {},
     "output_type": "execute_result"
    }
   ],
   "source": [
    "b2 = InjectionOfCofactorOfPushout( [ a2, v2 ], 2 )"
   ]
  },
  {
   "cell_type": "code",
   "execution_count": 14,
   "id": "8da15846",
   "metadata": {},
   "outputs": [
    {
     "data": {
      "text/plain": [
       "GAP: <A morphism in FiniteCocompletion( FreeCategory( RightQuiver( \"q(A1,A2,A3,B1)[a1:A1->A2,a2:A2->A3,v1:A1->B1]\" ) ) )>"
      ]
     },
     "execution_count": 14,
     "metadata": {},
     "output_type": "execute_result"
    }
   ],
   "source": [
    "a1a2 = PreCompose( a1, a2 )"
   ]
  },
  {
   "cell_type": "code",
   "execution_count": 15,
   "id": "bcc37f21",
   "metadata": {},
   "outputs": [
    {
     "data": {
      "text/plain": [
       "GAP: <A morphism in FiniteCocompletion( FreeCategory( RightQuiver( \"q(A1,A2,A3,B1)[a1:A1->A2,a2:A2->A3,v1:A1->B1]\" ) ) )>"
      ]
     },
     "execution_count": 15,
     "metadata": {},
     "output_type": "execute_result"
    }
   ],
   "source": [
    "b1b2 = PreCompose( b1, b2 )"
   ]
  },
  {
   "cell_type": "code",
   "execution_count": 16,
   "id": "5767ee6b",
   "metadata": {},
   "outputs": [
    {
     "data": {
      "text/plain": [
       "GAP: <A morphism in FiniteCocompletion( FreeCategory( RightQuiver( \"q(A1,A2,A3,B1)[a1:A1->A2,a2:A2->A3,v1:A1->B1]\" ) ) )>"
      ]
     },
     "execution_count": 16,
     "metadata": {},
     "output_type": "execute_result"
    }
   ],
   "source": [
    "u = UniversalMorphismFromPushout( [ a1a2, v1 ], [ v3, b1b2 ] )"
   ]
  },
  {
   "cell_type": "code",
   "execution_count": 17,
   "id": "9a826b94",
   "metadata": {},
   "outputs": [
    {
     "data": {
      "text/plain": [
       "true"
      ]
     },
     "execution_count": 17,
     "metadata": {},
     "output_type": "execute_result"
    }
   ],
   "source": [
    "IsIsomorphism( u )"
   ]
  }
 ],
 "metadata": {
  "@webio": {
   "lastCommId": null,
   "lastKernelId": null
  },
  "kernelspec": {
   "display_name": "Julia 1.12.1",
   "language": "julia",
   "name": "julia-1.12"
  },
  "language_info": {
   "file_extension": ".jl",
   "mimetype": "application/julia",
   "name": "julia",
   "version": "1.12.1"
  }
 },
 "nbformat": 4,
 "nbformat_minor": 5
}
