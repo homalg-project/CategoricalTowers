{
 "cells": [
  {
   "cell_type": "code",
   "execution_count": 1,
   "metadata": {},
   "outputs": [],
   "source": [
    "using TikzPictures"
   ]
  },
  {
   "cell_type": "code",
   "execution_count": 2,
   "metadata": {},
   "outputs": [],
   "source": [
    "tp = TikzPicture(L\"\"\"\n",
    "    \\coordinate(r) at (2.5,0);\n",
    "    \\coordinate(d) at (0,-1.5);\n",
    "    \n",
    "    \\node(B1) {$\\boldsymbol{B_1}$};\n",
    "    \\node(B2) at ($(B1)+(r)$) {$\\boldsymbol{B_2}$};\n",
    "    \\node(B3) at ($(B2)+(r)$) {$\\boldsymbol{B_3}$};\n",
    "    \\node(A3) at ($(B3)-(d)$) {$\\boldsymbol{A_3}$};\n",
    "    \n",
    "    \\draw[->,very thick] (B1) -- node[above]{$\\boldsymbol{b_1}$} (B2);\n",
    "    \\draw[->,very thick] (B2) -- node[above]{$\\boldsymbol{b_2}$} (B3);\n",
    "    \\draw[->,very thick] (A3) -- node[left]{$\\boldsymbol{v_3}$} (B3);\n",
    "    \"\"\"\n",
    ", options=\"scale=1\", preamble=\"\\\\usepackage{amssymb,bm}\\\\usetikzlibrary{arrows,calc}\");\n",
    "\n",
    "save(SVG(\"pullbacks_b1b2v3\"),tp)"
   ]
  },
  {
   "cell_type": "markdown",
   "metadata": {},
   "source": [
    "<img src=\"pullbacks_b1b2v3.svg\" alt=\"drawing\" width=\"300\"/>"
   ]
  },
  {
   "cell_type": "code",
   "execution_count": 3,
   "metadata": {},
   "outputs": [],
   "source": [
    "tp = TikzPicture(L\"\"\"\n",
    "    \\coordinate(r) at (2.5,0);\n",
    "    \\coordinate(d) at (0,-1.5);\n",
    "    \n",
    "    \\node(B1) {$\\boldsymbol{B_1}$};\n",
    "    \\node(B2) at ($(B1)+(r)$) {$\\boldsymbol{B_2}$};\n",
    "    \\node(B3) at ($(B2)+(r)$) {$\\boldsymbol{B_3}$};\n",
    "    \\node(A3) at ($(B3)-(d)$) {$\\boldsymbol{A_3}$};\n",
    "    \n",
    "    \\draw[->,very thick] (B1) -- node[above]{$\\boldsymbol{b_1}$} (B2);\n",
    "    \\draw[->,very thick,color=black!10!red] (B2) -- node[above]{$\\boldsymbol{b_2}$} (B3);\n",
    "    \\draw[->,very thick,color=black!10!red] (A3) -- node[left]{$\\boldsymbol{v_3}$} (B3);\n",
    "    \n",
    "    \\node(A2) at ($(B2)-(d)$) {$\\color{blue} A_2$};\n",
    "    \\draw[->,thick,color=blue] (A2) -- node[above]{$a_2$} (A3);\n",
    "    \\draw[->,thick,color=blue] (A2) -- node[left]{$v_2$} (B2);\n",
    "    \"\"\"\n",
    ", options=\"scale=1\", preamble=\"\\\\usepackage{amssymb,bm}\\\\usetikzlibrary{arrows,calc}\");\n",
    "\n",
    "save(SVG(\"pullbacks_a2v2\"),tp)"
   ]
  },
  {
   "cell_type": "markdown",
   "metadata": {},
   "source": [
    "<img src=\"pullbacks_a2v2.svg\" alt=\"drawing\" width=\"300\"/>"
   ]
  },
  {
   "cell_type": "code",
   "execution_count": 4,
   "metadata": {},
   "outputs": [],
   "source": [
    "tp = TikzPicture(L\"\"\"\n",
    "    \\coordinate(r) at (2.5,0);\n",
    "    \\coordinate(d) at (0,-1.5);\n",
    "    \n",
    "    \\node(B1) {$\\boldsymbol{B_1}$};\n",
    "    \\node(B2) at ($(B1)+(r)$) {$\\boldsymbol{B_2}$};\n",
    "    \\node(B3) at ($(B2)+(r)$) {$\\boldsymbol{B_3}$};\n",
    "    \\node(A3) at ($(B3)-(d)$) {$\\boldsymbol{A_3}$};\n",
    "    \n",
    "    \\draw[->,very thick,color=black!10!red] (B1) -- node[above]{$\\boldsymbol{b_1}$} (B2);\n",
    "    \\draw[->,very thick] (B2) -- node[above]{$\\boldsymbol{b_2}$} (B3);\n",
    "    \\draw[->,very thick] (A3) -- node[left]{$\\boldsymbol{v_3}$} (B3);\n",
    "    \n",
    "    \\node(A2) at ($(B2)-(d)$) {$A_2$};\n",
    "    \\draw[->] (A2) -- node[above]{$a_2$} (A3);\n",
    "    \\draw[->,thick,color=black!10!red] (A2) -- node[right]{$v_2$} (B2);\n",
    "    \n",
    "    \\node(A1) at ($(B1)-(d)$) {$\\color{blue} A_1$};\n",
    "    \\draw[->,thick,color=blue] (A1) -- node[above]{$a_1$} (A2);\n",
    "    \\draw[->,thick,color=blue] (A1) -- node[left]{$v_1$} (B1);\n",
    "    \"\"\"\n",
    ", options=\"scale=1\", preamble=\"\\\\usepackage{amssymb,bm}\\\\usetikzlibrary{arrows,calc}\");\n",
    "\n",
    "save(SVG(\"pullbacks_a1v1\"),tp)"
   ]
  },
  {
   "cell_type": "markdown",
   "metadata": {},
   "source": [
    "<img src=\"pullbacks_a1v1.svg\" alt=\"drawing\" width=\"300\"/>"
   ]
  },
  {
   "cell_type": "code",
   "execution_count": 5,
   "metadata": {},
   "outputs": [],
   "source": [
    "tp = TikzPicture(L\"\"\"\n",
    "    \\coordinate(r) at (2.5,0);\n",
    "    \\coordinate(d) at (0,-1.5);\n",
    "    \n",
    "    \\node(B1) {$B_1$};\n",
    "    \\node(B2) at ($(B1)+(r)$) {$B_2$};\n",
    "    \\node(B3) at ($(B2)+(r)$) {$B_3$};\n",
    "    \\node(A3) at ($(B3)-(d)$) {$A_3$};\n",
    "    \n",
    "    \\draw[->] (B1) -- node[above]{$b_1$} (B2);\n",
    "    \\draw[->] (B2) -- node[above]{$b_2$} (B3);\n",
    "    \\draw[->] (A3) -- node[left]{$v_3$} (B3);\n",
    "    \n",
    "    \\node(A2) at ($(B2)-(d)$) {$A_2$};\n",
    "    \\draw[->] (A2) -- node[above]{$a_2$} (A3);\n",
    "    \\draw[->] (A2) -- node[left]{$v_2$} (B2);\n",
    "    \n",
    "    \\node(A1) at ($(B1)-(d)$) {$A_1$};\n",
    "    \\draw[->] (A1) -- node[above]{$a_1$} (A2);\n",
    "    \\draw[->] (A1) -- node[left]{$v_1$} (B1);\n",
    "    \"\"\"\n",
    ", options=\"scale=1\", preamble=\"\\\\usepackage{amssymb,amsmath,bm}\\\\usetikzlibrary{arrows,calc}\");\n",
    "\n",
    "save(SVG(\"pullbacks\"),tp)"
   ]
  },
  {
   "cell_type": "markdown",
   "metadata": {},
   "source": [
    "<img src=\"pullbacks.svg\" alt=\"drawing\" width=\"300\"/>"
   ]
  },
  {
   "cell_type": "code",
   "execution_count": 6,
   "metadata": {},
   "outputs": [],
   "source": [
    "tp = TikzPicture(L\"\"\"\n",
    "    \\coordinate(r) at (2.5,0);\n",
    "    \\coordinate(d) at (0,-1.5);\n",
    "    \n",
    "    \\node(B1) {$\\boldsymbol{B_1}$};\n",
    "    \\node(B2) at ($(B1)+(r)$) {$\\boldsymbol{B_2}$};\n",
    "    \\node(B3) at ($(B2)+(r)$) {$\\boldsymbol{B_3}$};\n",
    "    \\node(A3) at ($(B3)-(d)$) {$\\boldsymbol{A_3}$};\n",
    "    \n",
    "    \\draw[->,very thick] (B1) -- node[above]{$\\boldsymbol{b_1}$} (B2);\n",
    "    \\draw[->,very thick] (B2) -- node[above]{$\\boldsymbol{b_2}$} (B3);\n",
    "    \\draw[->,very thick] (A3) -- node[left]{$\\boldsymbol{v_3}$} (B3);\n",
    "    \n",
    "    \\node(A2) at ($(B2)-(d)$) {$A_2$};\n",
    "    \\draw[->] (A2) -- node[above]{$a_2$} (A3);\n",
    "    \\draw[->] (A2) -- node[left]{$v_2$} (B2);\n",
    "    \n",
    "    \\node(A1) at ($(B1)-(d)$) {$A_1$};\n",
    "    \\draw[->] (A1) -- node[above]{$a_1$} (A2);\n",
    "    \\draw[->] (A1) -- node[left]{$v_1$} (B1);\n",
    "    \n",
    "    \\draw[->,thick,color=blue] (A1.north east) to [out=30,in=150] node[above]{$a_1 a_2$} (A3.north west);\n",
    "    \\draw[->,thick,color=blue] (B1.south east) to [out=-30,in=-150] node[below]{$b_1 b_2$} (B3.south west);\n",
    "    \"\"\"\n",
    ", options=\"scale=1\", preamble=\"\\\\usepackage{amssymb,amsmath,bm}\\\\usetikzlibrary{arrows,calc}\");\n",
    "\n",
    "save(SVG(\"pullbacks_a1a2b1b2\"),tp)"
   ]
  },
  {
   "cell_type": "markdown",
   "metadata": {},
   "source": [
    "<img src=\"pullbacks_a1a2b1b2.svg\" alt=\"drawing\" width=\"300\"/>"
   ]
  },
  {
   "cell_type": "code",
   "execution_count": 7,
   "metadata": {},
   "outputs": [],
   "source": [
    "tp = TikzPicture(L\"\"\"\n",
    "    \\coordinate(r) at (2.5,0);\n",
    "    \\coordinate(d) at (0,-1.5);\n",
    "    \n",
    "    \\node(B1) {$\\boldsymbol{B_1}$};\n",
    "    \\node(B2) at ($(B1)+(r)$) {$\\boldsymbol{B_2}$};\n",
    "    \\node(B3) at ($(B2)+(r)$) {$\\boldsymbol{B_3}$};\n",
    "    \\node(A3) at ($(B3)-(d)$) {$\\boldsymbol{A_3}$};\n",
    "    \n",
    "    \\draw[->,very thick] (B1) -- node[above]{$\\boldsymbol{b_1}$} (B2);\n",
    "    \\draw[->,very thick] (B2) -- node[above]{$\\boldsymbol{b_2}$} (B3);\n",
    "    \\draw[->,very thick,color=black!10!red] (A3) -- node[left]{$\\boldsymbol{v_3}$} (B3);\n",
    "    \n",
    "    \\node(A2) at ($(B2)-(d)$) {$A_2$};\n",
    "    \\draw[->] (A2) -- node[above]{$a_2$} (A3);\n",
    "    \\draw[->] (A2) -- node[left]{$v_2$} (B2);\n",
    "    \n",
    "    \\node(A1) at ($(B1)-(d)$) {$A_1$};\n",
    "    \\draw[->] (A1) -- node[above]{$a_1$} (A2);\n",
    "    \\draw[->] (A1) -- node[left]{$v_1$} (B1);\n",
    "    \n",
    "    \\draw[->] (A1.north east) to [out=30,in=150] node[above]{$a_1 a_2$} (A3.north west);\n",
    "    \\draw[->,thick,color=black!10!red] (B1.south east) to [out=-30,in=-150] node[below]{$b_1 b_2$} (B3.south west);\n",
    "    \n",
    "    \\node(P) at ($(A1)-1.2*(d)$) {$\\color{blue} P := \\mathrm{FiberProduct}({\\color{black} B_1} {\\color{black!10!red}\\xrightarrow{b_1 b_2}} {\\color{black} B_2} {\\color{black!10!red}\\xleftarrow{v_3}} {\\color{black} A_3})$};\n",
    "    \\draw[->,color=blue] (P.east) to [out=0,in=90] (A3.north);\n",
    "    \\draw[->,color=blue] (P.south west) to [out=-150,in=180] (B1.west);\n",
    "    \\draw[->,thick,color=blue] (A1) to [out=150,in=-150] node[left]{$\\color{blue} u$} (P);\n",
    "    \"\"\"\n",
    ", options=\"scale=1\", preamble=\"\\\\usepackage{amssymb,amsmath,mathtools,bm}\\\\usetikzlibrary{arrows,calc}\");\n",
    "\n",
    "save(SVG(\"pullbacks_u\"),tp)"
   ]
  },
  {
   "cell_type": "markdown",
   "metadata": {},
   "source": [
    "<img src=\"pullbacks_u.svg\" alt=\"drawing\" width=\"500\"/>"
   ]
  }
 ],
 "metadata": {
  "@webio": {
   "lastCommId": null,
   "lastKernelId": null
  },
  "celltoolbar": "Slideshow",
  "kernelspec": {
   "display_name": "Julia 1.11.7",
   "language": "julia",
   "name": "julia-1.11"
  },
  "language_info": {
   "file_extension": ".jl",
   "mimetype": "application/julia",
   "name": "julia",
   "version": "1.11.7"
  }
 },
 "nbformat": 4,
 "nbformat_minor": 2
}
