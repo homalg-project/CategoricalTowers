{
 "cells": [
  {
   "cell_type": "code",
   "execution_count": 1,
   "metadata": {},
   "outputs": [],
   "source": [
    "using TikzPictures"
   ]
  },
  {
   "cell_type": "code",
   "execution_count": 2,
   "metadata": {},
   "outputs": [],
   "source": [
    "tp = TikzPicture(L\"\"\"\n",
    "    \\coordinate(r) at (2.5,0);\n",
    "    \\coordinate(d) at (0,-1.5);\n",
    "    \n",
    "    \\node(A) {$\\boldsymbol{A}$};\n",
    "    \\node(B) at ($(A)+(r)$) {$\\boldsymbol{B}$};\n",
    "    \\node(C) at ($(B)+(d)$) {$\\boldsymbol{C}$};\n",
    "    \\node(D) at ($(C)+(r)$) {$\\boldsymbol{D}$};\n",
    "    \\draw[->,very thick] (A) -- node[above]{$\\boldsymbol{a}$} (B);\n",
    "    \\draw[->,very thick] (B) -- node[left]{$\\boldsymbol{b}$} (C);\n",
    "    \\draw[->,very thick] (C) -- node[above]{$\\boldsymbol{c}$} (D);\n",
    "    \"\"\"\n",
    ", options=\"scale=1\", preamble=\"\\\\usepackage{amssymb,bm}\\\\usetikzlibrary{arrows,calc}\");\n",
    "\n",
    "save(SVG(\"snake_abc\"),tp)"
   ]
  },
  {
   "cell_type": "markdown",
   "metadata": {},
   "source": [
    "<img src=\"snake_abc.svg\" alt=\"drawing\" width=\"300\"/>"
   ]
  },
  {
   "cell_type": "code",
   "execution_count": 3,
   "metadata": {},
   "outputs": [],
   "source": [
    "tp = TikzPicture(L\"\"\"\n",
    "    \\coordinate(r) at (2.5,0);\n",
    "    \\coordinate(d) at (0,-1.5);\n",
    "    \n",
    "    \\node(A) {$\\boldsymbol{A}$};\n",
    "    \\node(B) at ($(A)+(r)$) {$\\boldsymbol{B}$};\n",
    "    \\node(C) at ($(B)+(d)$) {$\\boldsymbol{C}$};\n",
    "    \\node(D) at ($(C)+(r)$) {$\\boldsymbol{D}$};\n",
    "    \\draw[->,very thick] (A) -- node[above]{$\\boldsymbol{a}$} (B);\n",
    "    \\draw[->,very thick] (B) -- node[left]{$\\boldsymbol{b}$} (C);\n",
    "    \\draw[->,very thick] (C) -- node[above]{$\\boldsymbol{c}$} (D);\n",
    "    \n",
    "    \\node(coker_a) at ($(B)+(r)$) {\\color{blue} $\\mathrm{coker}(a)$};\n",
    "    \\draw[->>,thick,blue] (B) -- node[above]{$d$} (coker_a);\n",
    "    \"\"\"\n",
    ", options=\"scale=1\", preamble=\"\\\\usepackage{amssymb,bm}\\\\usetikzlibrary{arrows,calc}\");\n",
    "\n",
    "save(SVG(\"snake_d\"),tp)"
   ]
  },
  {
   "cell_type": "markdown",
   "metadata": {},
   "source": [
    "<img src=\"snake_d.svg\" alt=\"drawing\" width=\"300\"/>"
   ]
  },
  {
   "cell_type": "code",
   "execution_count": 4,
   "metadata": {},
   "outputs": [],
   "source": [
    "tp = TikzPicture(L\"\"\"\n",
    "    \\coordinate(r) at (2.5,0);\n",
    "    \\coordinate(d) at (0,-1.5);\n",
    "    \n",
    "    \\node(A) {$\\boldsymbol{A}$};\n",
    "    \\node(B) at ($(A)+(r)$) {$\\boldsymbol{B}$};\n",
    "    \\node(C) at ($(B)+(d)$) {$\\boldsymbol{C}$};\n",
    "    \\node(D) at ($(C)+(r)$) {$\\boldsymbol{D}$};\n",
    "    \\draw[->,very thick] (A) -- node[above]{$\\boldsymbol{a}$} (B);\n",
    "    \\draw[->,very thick] (B) -- node[left]{$\\boldsymbol{b}$} (C);\n",
    "    \\draw[->,very thick] (C) -- node[above]{$\\boldsymbol{c}$} (D);\n",
    "    \n",
    "    \\node(coker_a) at ($(B)+(r)$) {$\\mathrm{coker}(a)$};\n",
    "    \\draw[->>] (B) -- node[above]{$d$} (coker_a);\n",
    "    \\draw[->,thick,blue] (coker_a) -- node[left]{$e$} (D);\n",
    "    \"\"\"\n",
    ", options=\"scale=1\", preamble=\"\\\\usepackage{amssymb,bm}\\\\usetikzlibrary{arrows,calc}\");\n",
    "\n",
    "save(SVG(\"snake_e\"),tp)"
   ]
  },
  {
   "cell_type": "markdown",
   "metadata": {},
   "source": [
    "<img src=\"snake_e.svg\" alt=\"drawing\" width=\"300\"/>"
   ]
  },
  {
   "cell_type": "code",
   "execution_count": 5,
   "metadata": {},
   "outputs": [],
   "source": [
    "tp = TikzPicture(L\"\"\"\n",
    "    \\coordinate(r) at (2.5,0);\n",
    "    \\coordinate(d) at (0,-1.5);\n",
    "    \n",
    "    \\node(A) {$\\boldsymbol{A}$};\n",
    "    \\node(B) at ($(A)+(r)$) {$\\boldsymbol{B}$};\n",
    "    \\node(C) at ($(B)+(d)$) {$\\boldsymbol{C}$};\n",
    "    \\node(D) at ($(C)+(r)$) {$\\boldsymbol{D}$};\n",
    "    \\draw[->,very thick] (A) -- node[above]{$\\boldsymbol{a}$} (B);\n",
    "    \\draw[->,very thick] (B) -- node[left]{$\\boldsymbol{b}$} (C);\n",
    "    \\draw[->,very thick] (C) -- node[above]{$\\boldsymbol{c}$} (D);\n",
    "    \n",
    "    \\node(coker_a) at ($(B)+(r)$) {$\\mathrm{coker}(a)$};\n",
    "    \\draw[->>] (B) -- node[above]{$d$} (coker_a);\n",
    "    \\draw[->] (coker_a) -- node[left]{$e$} (D);\n",
    "    \n",
    "    \\node(ker_e) at ($(coker_a)-(d)$) {\\color{blue} $\\mathrm{ker}(e)$};\n",
    "    \\draw[right hook->,thick,blue] (ker_e) -- node[left]{$f$} (coker_a);\n",
    "    \"\"\"\n",
    ", options=\"scale=1\", preamble=\"\\\\usepackage{amssymb,bm}\\\\usetikzlibrary{arrows,calc}\");\n",
    "\n",
    "save(SVG(\"snake_f\"),tp)"
   ]
  },
  {
   "cell_type": "markdown",
   "metadata": {},
   "source": [
    "<img src=\"snake_f.svg\" alt=\"drawing\" width=\"300\"/>"
   ]
  },
  {
   "cell_type": "code",
   "execution_count": 6,
   "metadata": {},
   "outputs": [],
   "source": [
    "tp = TikzPicture(L\"\"\"\n",
    "    \\coordinate(r) at (2.5,0);\n",
    "    \\coordinate(d) at (0,-1.5);\n",
    "    \n",
    "    \\node(A) {$\\boldsymbol{A}$};\n",
    "    \\node(B) at ($(A)+(r)$) {$\\boldsymbol{B}$};\n",
    "    \\node(C) at ($(B)+(d)$) {$\\boldsymbol{C}$};\n",
    "    \\node(D) at ($(C)+(r)$) {$\\boldsymbol{D}$};\n",
    "    \\draw[->,very thick] (A) -- node[above]{$\\boldsymbol{a}$} (B);\n",
    "    \\draw[->,very thick] (B) -- node[left]{$\\boldsymbol{b}$} (C);\n",
    "    \\draw[->,very thick] (C) -- node[above]{$\\boldsymbol{c}$} (D);\n",
    "    \n",
    "    \\node(coker_a) at ($(B)+(r)$) {$\\mathrm{coker}(a)$};\n",
    "    \\draw[->>] (B) -- node[above]{$d$} (coker_a);\n",
    "    \\draw[->] (coker_a) -- node[left]{$e$} (D);\n",
    "    \n",
    "    \\node(ker_e) at ($(coker_a)-(d)$) {$\\mathrm{ker}(e)$};\n",
    "    \\draw[right hook->] (ker_e) -- node[left]{$f$} (coker_a);\n",
    "    \n",
    "    \\node(ker_c) at ($(A)+(d)$) {\\color{blue} $\\mathrm{ker}(c)$};\n",
    "    \\draw[right hook->,thick,blue] (ker_c) -- node[above]{$g$} (C);\n",
    "    \"\"\"\n",
    ", options=\"scale=1\", preamble=\"\\\\usepackage{amssymb,bm}\\\\usetikzlibrary{arrows,calc}\");\n",
    "\n",
    "save(SVG(\"snake_g\"),tp)"
   ]
  },
  {
   "cell_type": "markdown",
   "metadata": {},
   "source": [
    "<img src=\"snake_g.svg\" alt=\"drawing\" width=\"300\"/>"
   ]
  },
  {
   "cell_type": "code",
   "execution_count": 7,
   "metadata": {},
   "outputs": [],
   "source": [
    "tp = TikzPicture(L\"\"\"\n",
    "    \\coordinate(r) at (2.5,0);\n",
    "    \\coordinate(d) at (0,-1.5);\n",
    "    \n",
    "    \\node(A) {$\\boldsymbol{A}$};\n",
    "    \\node(B) at ($(A)+(r)$) {$\\boldsymbol{B}$};\n",
    "    \\node(C) at ($(B)+(d)$) {$\\boldsymbol{C}$};\n",
    "    \\node(D) at ($(C)+(r)$) {$\\boldsymbol{D}$};\n",
    "    \\draw[->,very thick] (A) -- node[above]{$\\boldsymbol{a}$} (B);\n",
    "    \\draw[->,very thick] (B) -- node[left]{$\\boldsymbol{b}$} (C);\n",
    "    \\draw[->,very thick] (C) -- node[above]{$\\boldsymbol{c}$} (D);\n",
    "    \n",
    "    \\node(coker_a) at ($(B)+(r)$) {$\\mathrm{coker}(a)$};\n",
    "    \\draw[->>] (B) -- node[above]{$d$} (coker_a);\n",
    "    \\draw[->] (coker_a) -- node[left]{$e$} (D);\n",
    "    \n",
    "    \\node(ker_e) at ($(coker_a)-(d)$) {$\\mathrm{ker}(e)$};\n",
    "    \\draw[right hook->] (ker_e) -- node[left]{$f$} (coker_a);\n",
    "    \n",
    "    \\node(ker_c) at ($(A)+(d)$) {$\\mathrm{ker}(c)$};\n",
    "    \\draw[right hook->] (ker_c) -- node[above]{$g$} (C);\n",
    "    \\draw[->,thick,blue] (A) -- node[left]{$h$} (ker_c);\n",
    "    \"\"\"\n",
    ", options=\"scale=1\", preamble=\"\\\\usepackage{amssymb,bm}\\\\usetikzlibrary{arrows,calc}\");\n",
    "\n",
    "save(SVG(\"snake_h\"),tp)"
   ]
  },
  {
   "cell_type": "markdown",
   "metadata": {},
   "source": [
    "<img src=\"snake_h.svg\" alt=\"drawing\" width=\"300\"/>"
   ]
  },
  {
   "cell_type": "code",
   "execution_count": 8,
   "metadata": {},
   "outputs": [],
   "source": [
    "tp = TikzPicture(L\"\"\"\n",
    "    \\coordinate(r) at (2.5,0);\n",
    "    \\coordinate(d) at (0,-1.5);\n",
    "    \n",
    "    \\node(A) {$\\boldsymbol{A}$};\n",
    "    \\node(B) at ($(A)+(r)$) {$\\boldsymbol{B}$};\n",
    "    \\node(C) at ($(B)+(d)$) {$\\boldsymbol{C}$};\n",
    "    \\node(D) at ($(C)+(r)$) {$\\boldsymbol{D}$};\n",
    "    \\draw[->,very thick] (A) -- node[above]{$\\boldsymbol{a}$} (B);\n",
    "    \\draw[->,very thick] (B) -- node[left]{$\\boldsymbol{b}$} (C);\n",
    "    \\draw[->,very thick] (C) -- node[above]{$\\boldsymbol{c}$} (D);\n",
    "    \n",
    "    \\node(coker_a) at ($(B)+(r)$) {$\\mathrm{coker}(a)$};\n",
    "    \\draw[->>] (B) -- node[above]{$d$} (coker_a);\n",
    "    \\draw[->] (coker_a) -- node[left]{$e$} (D);\n",
    "    \n",
    "    \\node(ker_e) at ($(coker_a)-(d)$) {$\\mathrm{ker}(e)$};\n",
    "    \\draw[right hook->] (ker_e) -- node[left]{$f$} (coker_a);\n",
    "    \n",
    "    \\node(ker_c) at ($(A)+(d)$) {$\\mathrm{ker}(c)$};\n",
    "    \\draw[right hook->] (ker_c) -- node[above]{$g$} (C);\n",
    "    \\draw[->] (A) -- node[left]{$h$} (ker_c);\n",
    "    \n",
    "    \\node(coker_h) at ($(ker_c)+(d)$) {\\color{blue} $\\mathrm{coker}(h)$};\n",
    "    \\draw[->>,thick,blue] (ker_c) -- node[left]{$i$} (coker_h);\n",
    "    \"\"\"\n",
    ", options=\"scale=1\", preamble=\"\\\\usepackage{amssymb,bm}\\\\usetikzlibrary{arrows,calc}\");\n",
    "\n",
    "save(SVG(\"snake_i\"),tp)"
   ]
  },
  {
   "cell_type": "markdown",
   "metadata": {},
   "source": [
    "<img src=\"snake_i.svg\" alt=\"drawing\" width=\"300\"/>"
   ]
  },
  {
   "cell_type": "code",
   "execution_count": 9,
   "metadata": {},
   "outputs": [],
   "source": [
    "tp = TikzPicture(L\"\"\"\n",
    "    \\coordinate(r) at (2.5,0);\n",
    "    \\coordinate(d) at (0,-1.5);\n",
    "    \n",
    "    \\node(A) {$\\boldsymbol{A}$};\n",
    "    \\node(B) at ($(A)+(r)$) {$\\boldsymbol{B}$};\n",
    "    \\node(C) at ($(B)+(d)$) {$\\boldsymbol{C}$};\n",
    "    \\node(D) at ($(C)+(r)$) {$\\boldsymbol{D}$};\n",
    "    \\draw[->,very thick] (A) -- node[above]{$\\boldsymbol{a}$} (B);\n",
    "    \\draw[->,very thick] (B) -- node[left]{$\\boldsymbol{b}$} (C);\n",
    "    \\draw[->,very thick] (C) -- node[above]{$\\boldsymbol{c}$} (D);\n",
    "    \n",
    "    \\node(coker_a) at ($(B)+(r)$) {$\\mathrm{coker}(a)$};\n",
    "    \\draw[->>] (B) -- node[above]{$d$} (coker_a);\n",
    "    \\draw[->] (coker_a) -- node[left]{$e$} (D);\n",
    "    \n",
    "    \\node(ker_e) at ($(coker_a)-(d)$) {$\\mathrm{ker}(e)$};\n",
    "    \\draw[right hook->] (ker_e) -- node[left]{$f$} (coker_a);\n",
    "    \n",
    "    \\node(ker_c) at ($(A)+(d)$) {$\\mathrm{ker}(c)$};\n",
    "    \\draw[right hook->] (ker_c) -- node[above]{$g$} (C);\n",
    "    \\draw[->] (A) -- node[left]{$h$} (ker_c);\n",
    "    \n",
    "    \\node(coker_h) at ($(ker_c)+(d)$) {$\\mathrm{coker}(h)$};\n",
    "    \\draw[->>] (ker_c) -- node[left]{$i$} (coker_h);\n",
    "    \n",
    "    \\draw[->,red,thick,rounded corners] ($(ker_e)+0.3*(r)$) -- ($(ker_e)+0.4*(r)$) -- ($(coker_a)+0.4*(r)+0.25*(d)$) -- ($(B)+0.2*(r)+0.25*(d)$) -- ($(C)+0.2*(r)+0.25*(d)$) --  node[below]{$s$} ($(ker_c)+0.1*(r)+0.25*(d)$) -- ($(coker_h)+0.1*(r)-0.2*(d)$);\n",
    "    \"\"\"\n",
    ", options=\"scale=1\", preamble=\"\\\\usepackage{amssymb,bm}\\\\usetikzlibrary{arrows,calc}\");\n",
    "\n",
    "save(SVG(\"snake_s\"),tp)"
   ]
  },
  {
   "cell_type": "markdown",
   "metadata": {},
   "source": [
    "<img src=\"snake_s.svg\" alt=\"drawing\" width=\"300\"/>"
   ]
  },
  {
   "cell_type": "code",
   "execution_count": 10,
   "metadata": {},
   "outputs": [],
   "source": [
    "tp = TikzPicture(L\"\"\"\n",
    "    \\coordinate(r) at (2.5,0);\n",
    "    \\coordinate(d) at (0,-1.5);\n",
    "    \n",
    "    \\node(A) {$\\boldsymbol{A}$};\n",
    "    \\node(B) at ($(A)+(r)$) {$\\boldsymbol{B}$};\n",
    "    \\node(C) at ($(B)+(d)$) {$\\boldsymbol{C}$};\n",
    "    \\node(D) at ($(C)+(r)$) {$\\boldsymbol{D}$};\n",
    "    \\draw[->,very thick] (A) -- node[above]{$\\boldsymbol{a}$} (B);\n",
    "    \\draw[->,very thick] (B) -- node[left]{$\\boldsymbol{b}$} (C);\n",
    "    \\draw[->,very thick] (C) -- node[above]{$\\boldsymbol{c}$} (D);\n",
    "    \n",
    "    \\node(coker_a) at ($(B)+(r)$) {$\\mathrm{coker}(a)$};\n",
    "    \\draw[->>] (B) -- node[above]{$d$} (coker_a);\n",
    "    \\draw[->] (coker_a) -- node[left]{$e$} (D);\n",
    "    \n",
    "    \\node(ker_e) at ($(coker_a)-(d)$) {$\\mathrm{ker}(e)$};\n",
    "    \\draw[right hook->] (ker_e) -- node[left]{$f$} (coker_a);\n",
    "    \n",
    "    \\node(ker_c) at ($(A)+(d)$) {$\\mathrm{ker}(c)$};\n",
    "    \\draw[right hook->] (ker_c) -- node[above]{$g$} (C);\n",
    "    \\draw[->] (A) -- node[left]{$h$} (ker_c);\n",
    "    \n",
    "    \\node(coker_h) at ($(ker_c)+(d)$) {$\\mathrm{coker}(h)$};\n",
    "    \\draw[->>] (ker_c) -- node[left]{$i$} (coker_h);\n",
    "    \n",
    "    \\node(ker_b) at ($(B)-(d)$) {\\color{blue} $\\mathrm{ker}(b)$};\n",
    "    \\draw[right hook->,dashed] (ker_b) -- (B);\n",
    "    \\draw[->,thick,blue] (ker_b) -- node[above]{\\color{blue} $j$} (ker_e);\n",
    "    \n",
    "    \n",
    "    \\draw[->,red,thick,rounded corners] ($(ker_e)+0.3*(r)$) -- ($(ker_e)+0.4*(r)$) -- ($(coker_a)+0.4*(r)+0.25*(d)$) -- ($(B)+0.2*(r)+0.25*(d)$) -- ($(C)+0.2*(r)+0.25*(d)$) --  node[below]{$s$} ($(ker_c)+0.1*(r)+0.25*(d)$) -- ($(coker_h)+0.1*(r)-0.2*(d)$);\n",
    "    \"\"\"\n",
    ", options=\"scale=1\", preamble=\"\\\\usepackage{amssymb,bm}\\\\usetikzlibrary{arrows,calc}\");\n",
    "\n",
    "save(SVG(\"snake_j\"),tp)"
   ]
  },
  {
   "cell_type": "markdown",
   "metadata": {},
   "source": [
    "<img src=\"snake_j.svg\" alt=\"drawing\" width=\"300\"/>"
   ]
  },
  {
   "cell_type": "code",
   "execution_count": 11,
   "metadata": {},
   "outputs": [],
   "source": [
    "tp = TikzPicture(L\"\"\"\n",
    "    \\coordinate(r) at (2.5,0);\n",
    "    \\coordinate(d) at (0,-1.5);\n",
    "    \n",
    "    \\node(A) {$\\boldsymbol{A}$};\n",
    "    \\node(B) at ($(A)+(r)$) {$\\boldsymbol{B}$};\n",
    "    \\node(C) at ($(B)+(d)$) {$\\boldsymbol{C}$};\n",
    "    \\node(D) at ($(C)+(r)$) {$\\boldsymbol{D}$};\n",
    "    \\draw[->,very thick] (A) -- node[above]{$\\boldsymbol{a}$} (B);\n",
    "    \\draw[->,very thick] (B) -- node[left]{$\\boldsymbol{b}$} (C);\n",
    "    \\draw[->,very thick] (C) -- node[above]{$\\boldsymbol{c}$} (D);\n",
    "    \n",
    "    \\node(coker_a) at ($(B)+(r)$) {$\\mathrm{coker}(a)$};\n",
    "    \\draw[->>] (B) -- node[above]{$d$} (coker_a);\n",
    "    \\draw[->] (coker_a) -- node[left]{$e$} (D);\n",
    "    \n",
    "    \\node(ker_e) at ($(coker_a)-(d)$) {$\\mathrm{ker}(e)$};\n",
    "    \\draw[right hook->] (ker_e) -- node[left]{$f$} (coker_a);\n",
    "    \n",
    "    \\node(ker_c) at ($(A)+(d)$) {$\\mathrm{ker}(c)$};\n",
    "    \\draw[right hook->] (ker_c) -- node[above]{$g$} (C);\n",
    "    \\draw[->] (A) -- node[left]{$h$} (ker_c);\n",
    "    \n",
    "    \\node(coker_h) at ($(ker_c)+(d)$) {$\\mathrm{coker}(h)$};\n",
    "    \\draw[->>] (ker_c) -- node[left]{$i$} (coker_h);\n",
    "    \n",
    "    \\node(ker_b) at ($(B)-(d)$) {$\\mathrm{ker}(b)$};\n",
    "    \\draw[right hook->,dashed] (ker_b) -- (B);\n",
    "    \\draw[->] (ker_b) -- node[above]{$j$} (ker_e);\n",
    "    \n",
    "    \n",
    "    \\node(coker_b) at ($(C)+(d)$) {\\color{blue} $\\mathrm{coker}(b)$};\n",
    "    \\draw[->>,dashed] (C) -- (coker_b);\n",
    "    \\draw[->,thick,blue] (coker_h) -- node[above]{\\color{blue} $k$} (coker_b);\n",
    "    \n",
    "    \n",
    "    \\draw[->,red,thick,rounded corners] ($(ker_e)+0.3*(r)$) -- ($(ker_e)+0.4*(r)$) -- ($(coker_a)+0.4*(r)+0.25*(d)$) -- ($(B)+0.2*(r)+0.25*(d)$) -- ($(C)+0.2*(r)+0.25*(d)$) --  node[below]{$s$} ($(ker_c)+0.1*(r)+0.25*(d)$) -- ($(coker_h)+0.1*(r)-0.2*(d)$);\n",
    "    \"\"\"\n",
    ", options=\"scale=1\", preamble=\"\\\\usepackage{amssymb,bm}\\\\usetikzlibrary{arrows,calc}\");\n",
    "\n",
    "save(SVG(\"snake_k\"),tp)"
   ]
  },
  {
   "cell_type": "markdown",
   "metadata": {},
   "source": [
    "<img src=\"snake_k.svg\" alt=\"drawing\" width=\"300\"/>"
   ]
  },
  {
   "cell_type": "code",
   "execution_count": 12,
   "metadata": {},
   "outputs": [],
   "source": [
    "tp = TikzPicture(L\"\"\"\n",
    "    \\coordinate(r) at (2.5,0);\n",
    "    \\coordinate(d) at (0,-1.5);\n",
    "    \n",
    "    \\node(A) {$\\boldsymbol{A}$};\n",
    "    \\node(B) at ($(A)+(r)$) {$\\boldsymbol{B}$};\n",
    "    \\node(C) at ($(B)+(d)$) {$\\boldsymbol{C}$};\n",
    "    \\node(D) at ($(C)+(r)$) {$\\boldsymbol{D}$};\n",
    "    \\draw[->,very thick] (A) -- node[above]{$\\boldsymbol{a}$} (B);\n",
    "    \\draw[->,very thick] (B) -- node[left]{$\\boldsymbol{b}$} (C);\n",
    "    \\draw[->,very thick] (C) -- node[above]{$\\boldsymbol{c}$} (D);\n",
    "    \n",
    "    \\node(coker_a) at ($(B)+(r)$) {$\\mathrm{coker}(a)$};\n",
    "    \\draw[->>] (B) -- node[above]{$d$} (coker_a);\n",
    "    \\draw[->] (coker_a) -- node[left]{$e$} (D);\n",
    "    \n",
    "    \\node(ker_e) at ($(coker_a)-(d)$) {$\\mathrm{ker}(e)$};\n",
    "    \\draw[right hook->] (ker_e) -- node[left]{$f$} (coker_a);\n",
    "    \n",
    "    \\node(ker_c) at ($(A)+(d)$) {$\\mathrm{ker}(c)$};\n",
    "    \\draw[right hook->] (ker_c) -- node[above]{$g$} (C);\n",
    "    \\draw[->] (A) -- node[left]{$h$} (ker_c);\n",
    "    \n",
    "    \\node(coker_h) at ($(ker_c)+(d)$) {$\\mathrm{coker}(h)$};\n",
    "    \\draw[->>] (ker_c) -- node[left]{$i$} (coker_h);\n",
    "    \n",
    "    \\node(ker_b) at ($(B)-(d)$) {$\\mathrm{ker}(b)$};\n",
    "    \\draw[right hook->,dashed] (ker_b) -- (B);\n",
    "    \\draw[->] (ker_b) -- node[above]{$j$} (ker_e);\n",
    "    \n",
    "    \n",
    "    \\node(coker_b) at ($(C)+(d)$) {$\\mathrm{coker}(b)$};\n",
    "    \\draw[->>,dashed] (C) -- (coker_b);\n",
    "    \\draw[->,thick] (coker_h) -- node[above]{$k$} (coker_b);\n",
    "    \n",
    "    \n",
    "    \\draw[->,red,thick,rounded corners] ($(ker_e)+0.3*(r)$) -- ($(ker_e)+0.4*(r)$) -- ($(coker_a)+0.4*(r)+0.25*(d)$) -- ($(B)+0.2*(r)+0.25*(d)$) -- ($(C)+0.2*(r)+0.25*(d)$) --  node[below]{$s$} ($(ker_c)+0.1*(r)+0.25*(d)$) -- ($(coker_h)+0.1*(r)-0.2*(d)$);\n",
    "    \"\"\"\n",
    ", options=\"scale=1\", preamble=\"\\\\usepackage{amssymb,bm}\\\\usetikzlibrary{arrows,calc}\");\n",
    "\n",
    "save(SVG(\"snake\"),tp)"
   ]
  },
  {
   "cell_type": "markdown",
   "metadata": {},
   "source": [
    "<img src=\"snake.svg\" alt=\"drawing\" width=\"300\"/>"
   ]
  }
 ],
 "metadata": {
  "@webio": {
   "lastCommId": null,
   "lastKernelId": null
  },
  "celltoolbar": "Slideshow",
  "kernelspec": {
   "display_name": "Julia 1.11.7",
   "language": "julia",
   "name": "julia-1.11"
  },
  "language_info": {
   "file_extension": ".jl",
   "mimetype": "application/julia",
   "name": "julia",
   "version": "1.11.7"
  }
 },
 "nbformat": 4,
 "nbformat_minor": 2
}
