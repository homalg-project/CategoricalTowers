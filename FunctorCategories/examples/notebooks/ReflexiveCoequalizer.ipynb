{
 "cells": [
  {
   "cell_type": "markdown",
   "id": "35e7ecbd",
   "metadata": {},
   "source": [
    "In this notebook we prove *by a computation* that two equivalent morphisms $f_0,f_1: A \\to B$ of two [*reflexive* coequalizer pairs](https://ncatlab.org/nlab/show/reflexive+coequalizer) $\\rho_0^A, \\rho_1^A:A \\leftleftarrows RA$, $\\rho_0^B, \\rho_1^B:B \\leftleftarrows RB$ induce equal morphisms $\\phi_0, \\phi_1: \\mathrm{coeq}(\\rho_0^A, \\rho_1^A) \\to \\mathrm{coeq}(\\rho_0^B, \\rho_1^B)$ between the respective coequalizers."
   ]
  },
  {
   "cell_type": "code",
   "execution_count": 1,
   "id": "e4c8b8f8",
   "metadata": {},
   "outputs": [
    {
     "name": "stdout",
     "output_type": "stream",
     "text": [
      "CapAndHomalg v\u001b[32m1.6.4\u001b[39m\n",
      "Imported OSCAR's components GAP and Singular_jll\n",
      "Type: ?CapAndHomalg for more information\n"
     ]
    }
   ],
   "source": [
    "using CapAndHomalg"
   ]
  },
  {
   "cell_type": "code",
   "execution_count": 2,
   "id": "23732ae7",
   "metadata": {},
   "outputs": [],
   "source": [
    "LoadPackage( \"FunctorCategories\" )"
   ]
  },
  {
   "cell_type": "code",
   "execution_count": 3,
   "id": "cde3a8c1",
   "metadata": {},
   "outputs": [
    {
     "data": {
      "text/plain": [
       "GAP: q(A,RA,B,RB)[ρ₀ᴬ:RA->A,ρ₁ᴬ:RA->A,ιᴬ:A->RA,ρ₀ᴮ:RB->B,ρ₁ᴮ:RB->B,ιᴮ:B->RB,f₀:A->B,f₁:A->B,g₀:RA->RB,g₁:RA->RB,λ:A->RB]"
      ]
     },
     "execution_count": 3,
     "metadata": {},
     "output_type": "execute_result"
    }
   ],
   "source": [
    "Q = RightQuiver( \"q(A,RA,B,RB)[\\\n",
    "ρ₀ᴬ:RA->A,ρ₁ᴬ:RA->A,\\\n",
    "ιᴬ:A->RA,\\\n",
    "ρ₀ᴮ:RB->B,ρ₁ᴮ:RB->B,\\\n",
    "ιᴮ:B->RB,\\\n",
    "f₀:A->B,f₁:A->B,\\\n",
    "g₀:RA->RB,g₁:RA->RB,\\\n",
    "λ:A->RB]\" )"
   ]
  },
  {
   "cell_type": "code",
   "execution_count": 4,
   "id": "3b0eef7b",
   "metadata": {},
   "outputs": [
    {
     "data": {
      "text/plain": [
       "GAP: FreeCategory( RightQuiver( \"q(A,RA,B,RB)[ρ₀ᴬ:RA->A,ρ₁ᴬ:RA->A,ιᴬ:A->RA,ρ₀ᴮ:RB->B,ρ₁ᴮ:RB->B,ιᴮ:B->RB,f₀:A->B,f₁:A->B,g₀:RA->RB,g₁:RA->RB,λ:A->RB]\" ) )"
      ]
     },
     "execution_count": 4,
     "metadata": {},
     "output_type": "execute_result"
    }
   ],
   "source": [
    "F = FreeCategory( Q )"
   ]
  },
  {
   "cell_type": "code",
   "execution_count": 5,
   "id": "8ec34131",
   "metadata": {},
   "outputs": [
    {
     "data": {
      "text/plain": [
       "GAP: FreeCategory( RightQuiver( \"q(A,RA,B,RB)[ρ₀ᴬ:RA->A,ρ₁ᴬ:RA->A,ιᴬ:A->RA,ρ₀ᴮ:RB->B,ρ₁ᴮ:RB->B,ιᴮ:B->RB,f₀:A->B,f₁:A->B,g₀:RA->RB,g₁:RA->RB,λ:A->RB]\" ) ) / relations"
      ]
     },
     "execution_count": 5,
     "metadata": {},
     "output_type": "execute_result"
    }
   ],
   "source": [
    "C = F / [ [ PreCompose( F.ιᴬ, F.ρ₀ᴬ ), F.A ],\n",
    "          [ PreCompose( F.ιᴬ, F.ρ₁ᴬ ), F.A ],\n",
    "          [ PreCompose( F.ιᴮ, F.ρ₀ᴮ ), F.B ],\n",
    "          [ PreCompose( F.ιᴮ, F.ρ₁ᴮ ), F.B ],\n",
    "          [ PreCompose( F.ρ₀ᴬ, F.f₀ ), PreCompose( F.g₀, F.ρ₀ᴮ ) ],\n",
    "          [ PreCompose( F.ρ₁ᴬ, F.f₀ ), PreCompose( F.g₀, F.ρ₁ᴮ ) ],\n",
    "          [ PreCompose( F.ιᴬ, F.g₀ ), PreCompose( F.f₀, F.ιᴮ ) ],\n",
    "          [ PreCompose( F.ρ₀ᴬ, F.f₁ ), PreCompose( F.g₁, F.ρ₀ᴮ ) ],\n",
    "          [ PreCompose( F.ρ₁ᴬ, F.f₁ ), PreCompose( F.g₁, F.ρ₁ᴮ ) ],\n",
    "          [ PreCompose( F.ιᴬ, F.g₁ ), PreCompose( F.f₁, F.ιᴮ ) ],\n",
    "          [ PreCompose( F.λ, F.ρ₀ᴮ ), F.f₀ ],\n",
    "          [ PreCompose( F.λ, F.ρ₁ᴮ ), F.f₁ ],\n",
    "          ]"
   ]
  },
  {
   "cell_type": "code",
   "execution_count": 6,
   "id": "00cd9e10",
   "metadata": {},
   "outputs": [
    {
     "data": {
      "text/plain": [
       "GAP: [ |4|, |31|, |182| ]"
      ]
     },
     "execution_count": 6,
     "metadata": {},
     "output_type": "execute_result"
    }
   ],
   "source": [
    "NerveTruncatedInDegree2Data( C )[1]"
   ]
  },
  {
   "cell_type": "code",
   "execution_count": 7,
   "id": "39b53885",
   "metadata": {},
   "outputs": [
    {
     "data": {
      "text/plain": [
       "GAP: FiniteCocompletion( FreeCategory( RightQuiver( \"q(A,RA,B,RB)[ρ₀ᴬ:RA->A,ρ₁ᴬ:RA->A,ιᴬ:A->RA,ρ₀ᴮ:RB->B,ρ₁ᴮ:RB->B,ιᴮ:B->RB,f₀:A->B,f₁:A->B,g₀:RA->RB,g₁:RA->RB,λ:A->RB]\" ) ) / relations )"
      ]
     },
     "execution_count": 7,
     "metadata": {},
     "output_type": "execute_result"
    }
   ],
   "source": [
    "Ĉ = FiniteCocompletion( C )"
   ]
  },
  {
   "cell_type": "code",
   "execution_count": 8,
   "id": "5ab6a374",
   "metadata": {},
   "outputs": [],
   "source": [
    "ρ₀ᴬ = Ĉ.ρ₀ᴬ; ρ₁ᴬ = Ĉ.ρ₁ᴬ; ιᴬ = Ĉ.ιᴬ;\n",
    "ρ₀ᴮ = Ĉ.ρ₀ᴮ; ρ₁ᴮ = Ĉ.ρ₁ᴮ; ιᴮ = Ĉ.ιᴮ;\n",
    "f₀ = Ĉ.f₀; f₁ = Ĉ.f₁;\n",
    "g₀ = Ĉ.g₀; g₁ = Ĉ.g₁;\n",
    "λ = Ĉ.λ;"
   ]
  },
  {
   "cell_type": "code",
   "execution_count": 9,
   "id": "666b1ac8",
   "metadata": {},
   "outputs": [
    {
     "data": {
      "text/plain": [
       "true"
      ]
     },
     "execution_count": 9,
     "metadata": {},
     "output_type": "execute_result"
    }
   ],
   "source": [
    "PreCompose( ρ₀ᴬ, f₀ ) == PreCompose( g₀, ρ₀ᴮ )"
   ]
  },
  {
   "cell_type": "code",
   "execution_count": 10,
   "id": "5dbe0651",
   "metadata": {},
   "outputs": [
    {
     "data": {
      "text/plain": [
       "true"
      ]
     },
     "execution_count": 10,
     "metadata": {},
     "output_type": "execute_result"
    }
   ],
   "source": [
    "PreCompose( ρ₁ᴬ, f₀ ) == PreCompose( g₀, ρ₁ᴮ )"
   ]
  },
  {
   "cell_type": "code",
   "execution_count": 11,
   "id": "112c1b59",
   "metadata": {},
   "outputs": [
    {
     "data": {
      "text/plain": [
       "true"
      ]
     },
     "execution_count": 11,
     "metadata": {},
     "output_type": "execute_result"
    }
   ],
   "source": [
    "PreCompose( ιᴬ, g₀ ) == PreCompose( f₀, ιᴮ )"
   ]
  },
  {
   "cell_type": "code",
   "execution_count": 12,
   "id": "48f50aeb",
   "metadata": {},
   "outputs": [
    {
     "data": {
      "text/plain": [
       "true"
      ]
     },
     "execution_count": 12,
     "metadata": {},
     "output_type": "execute_result"
    }
   ],
   "source": [
    "PreCompose( ρ₀ᴬ, f₁ ) == PreCompose( g₁, ρ₀ᴮ )"
   ]
  },
  {
   "cell_type": "code",
   "execution_count": 13,
   "id": "3a113a16",
   "metadata": {},
   "outputs": [
    {
     "data": {
      "text/plain": [
       "true"
      ]
     },
     "execution_count": 13,
     "metadata": {},
     "output_type": "execute_result"
    }
   ],
   "source": [
    "PreCompose( ρ₁ᴬ, f₁ ) == PreCompose( g₁, ρ₁ᴮ )"
   ]
  },
  {
   "cell_type": "code",
   "execution_count": 14,
   "id": "5d86e044",
   "metadata": {},
   "outputs": [
    {
     "data": {
      "text/plain": [
       "true"
      ]
     },
     "execution_count": 14,
     "metadata": {},
     "output_type": "execute_result"
    }
   ],
   "source": [
    "PreCompose( ιᴬ, g₁ ) == PreCompose( f₁, ιᴮ )"
   ]
  },
  {
   "cell_type": "code",
   "execution_count": 15,
   "id": "cae36818",
   "metadata": {},
   "outputs": [
    {
     "data": {
      "text/plain": [
       "GAP: <A morphism in FiniteCocompletion( FreeCategory( RightQuiver( \"q(A,RA,B,RB)[ρ₀ᴬ:RA->A,ρ₁ᴬ:RA->A,ιᴬ:A->RA,ρ₀ᴮ:RB->B,ρ₁ᴮ:RB->B,ιᴮ:B->RB,f₀:A->B,f₁:A->B,g₀:RA->RB,g₁:RA->RB,λ:A->RB]\" ) ) / relations )>"
      ]
     },
     "execution_count": 15,
     "metadata": {},
     "output_type": "execute_result"
    }
   ],
   "source": [
    "φ₀ = CoequalizerFunctorial( [ ρ₀ᴬ, ρ₁ᴬ ], f₀, [ ρ₀ᴮ, ρ₁ᴮ ] )"
   ]
  },
  {
   "cell_type": "code",
   "execution_count": 16,
   "id": "8bacc02e",
   "metadata": {},
   "outputs": [
    {
     "data": {
      "text/plain": [
       "GAP: <A morphism in FiniteCocompletion( FreeCategory( RightQuiver( \"q(A,RA,B,RB)[ρ₀ᴬ:RA->A,ρ₁ᴬ:RA->A,ιᴬ:A->RA,ρ₀ᴮ:RB->B,ρ₁ᴮ:RB->B,ιᴮ:B->RB,f₀:A->B,f₁:A->B,g₀:RA->RB,g₁:RA->RB,λ:A->RB]\" ) ) / relations )>"
      ]
     },
     "execution_count": 16,
     "metadata": {},
     "output_type": "execute_result"
    }
   ],
   "source": [
    "φ₁ = CoequalizerFunctorial( [ ρ₀ᴬ, ρ₁ᴬ ], f₁, [ ρ₀ᴮ, ρ₁ᴮ ] )"
   ]
  },
  {
   "cell_type": "code",
   "execution_count": 17,
   "id": "408a2d75",
   "metadata": {},
   "outputs": [
    {
     "data": {
      "text/plain": [
       "true"
      ]
     },
     "execution_count": 17,
     "metadata": {},
     "output_type": "execute_result"
    }
   ],
   "source": [
    "φ₀ == φ₁"
   ]
  }
 ],
 "metadata": {
  "@webio": {
   "lastCommId": null,
   "lastKernelId": null
  },
  "kernelspec": {
   "display_name": "Julia 1.12.1",
   "language": "julia",
   "name": "julia-1.12"
  },
  "language_info": {
   "file_extension": ".jl",
   "mimetype": "application/julia",
   "name": "julia",
   "version": "1.12.1"
  }
 },
 "nbformat": 4,
 "nbformat_minor": 5
}
