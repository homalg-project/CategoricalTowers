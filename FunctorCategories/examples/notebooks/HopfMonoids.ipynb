{
 "cells": [
  {
   "cell_type": "code",
   "execution_count": 1,
   "id": "b6e9e991-33c8-419d-9827-7c394f34097e",
   "metadata": {},
   "outputs": [
    {
     "name": "stdout",
     "output_type": "stream",
     "text": [
      "CapAndHomalg v\u001b[32m1.6.4\u001b[39m\n",
      "Imported OSCAR's components GAP and Singular_jll\n",
      "Type: ?CapAndHomalg for more information\n"
     ]
    }
   ],
   "source": [
    "using CapAndHomalg"
   ]
  },
  {
   "cell_type": "code",
   "execution_count": 2,
   "id": "7a817cdf-2545-49e4-bef6-7ec2694080d9",
   "metadata": {},
   "outputs": [],
   "source": [
    "LoadPackage( \"FunctorCategories\" )"
   ]
  },
  {
   "cell_type": "code",
   "execution_count": 3,
   "id": "81b402aa-210a-46a6-96e8-4318ad98ae6d",
   "metadata": {},
   "outputs": [
    {
     "data": {
      "text/plain": [
       "GAP: FinQuiver( \"q(o)[g:o→o,x:o→o]\" )"
      ]
     },
     "execution_count": 3,
     "metadata": {},
     "output_type": "execute_result"
    }
   ],
   "source": [
    "q = FinQuiver( \"q(o)[g:o->o,x:o->o]\" )"
   ]
  },
  {
   "cell_type": "code",
   "execution_count": 4,
   "id": "6c71d63e-a64d-4854-9ec8-89d553dce0e9",
   "metadata": {},
   "outputs": [
    {
     "data": {
      "text/plain": [
       "GAP: PathCategory( FinQuiver( \"q(o)[g:o→o,x:o→o]\" ) )"
      ]
     },
     "execution_count": 4,
     "metadata": {},
     "output_type": "execute_result"
    }
   ],
   "source": [
    "P = PathCategory( q )"
   ]
  },
  {
   "cell_type": "code",
   "execution_count": 5,
   "id": "1b6cf3e1-dfe2-456d-bc80-285a65862174",
   "metadata": {},
   "outputs": [
    {
     "data": {
      "text/plain": [
       "GAP: GF(3)"
      ]
     },
     "execution_count": 5,
     "metadata": {},
     "output_type": "execute_result"
    }
   ],
   "source": [
    "F = HomalgRingOfIntegersInSingular( 3 )"
   ]
  },
  {
   "cell_type": "code",
   "execution_count": 6,
   "id": "9f973ed1-eb31-4b82-8108-1d3b856f0faf",
   "metadata": {},
   "outputs": [
    {
     "data": {
      "text/plain": [
       "GAP: GF(3)-LinearClosure( PathCategory( FinQuiver( \"q(o)[g:o→o,x:o→o]\" ) ) )"
      ]
     },
     "execution_count": 6,
     "metadata": {},
     "output_type": "execute_result"
    }
   ],
   "source": [
    "L = F[P]"
   ]
  },
  {
   "cell_type": "code",
   "execution_count": 7,
   "id": "c188ecc1-3e50-4831-a3b9-de305f9a4ecd",
   "metadata": {},
   "outputs": [
    {
     "data": {
      "text/plain": [
       "GAP: GF(3)-LinearClosure( PathCategory( FinQuiver( \"q(o)[g:o→o,x:o→o]\" ) ) ) / [ 1*g^2 - 1*id(o), 1*x^3 - 1*x, 1*x⋅g + 1*g⋅x ]"
      ]
     },
     "execution_count": 7,
     "metadata": {},
     "output_type": "execute_result"
    }
   ],
   "source": [
    "Q = L / [ L.g^2-L.id_o, L.x^3-L.x, L.gx+L.xg ]"
   ]
  },
  {
   "cell_type": "code",
   "execution_count": 8,
   "id": "aa75f446-6439-4dca-8f1a-1a274ad0fdaa",
   "metadata": {},
   "outputs": [
    {
     "data": {
      "text/plain": [
       "GAP: <An object in CategoryOfMonoids( Rows( GF(3) ) )>"
      ]
     },
     "execution_count": 8,
     "metadata": {},
     "output_type": "execute_result"
    }
   ],
   "source": [
    "a = LinearCategoryOnOneObjectAsInternalMonoid( Q )"
   ]
  },
  {
   "cell_type": "code",
   "execution_count": 9,
   "id": "ba52f854-d605-4cd2-ad0a-6b0cbdd63f42",
   "metadata": {},
   "outputs": [
    {
     "data": {
      "text/plain": [
       "true"
      ]
     },
     "execution_count": 9,
     "metadata": {},
     "output_type": "execute_result"
    }
   ],
   "source": [
    "IsWellDefined( a )"
   ]
  },
  {
   "cell_type": "code",
   "execution_count": 10,
   "id": "26469936-d2f0-4631-81fb-b13c2c93255e",
   "metadata": {},
   "outputs": [
    {
     "data": {
      "text/plain": [
       "GAP: CategoryOfMonoids( Rows( GF(3) ) )"
      ]
     },
     "execution_count": 10,
     "metadata": {},
     "output_type": "execute_result"
    }
   ],
   "source": [
    "Mon_F = CapCategory( a )"
   ]
  },
  {
   "cell_type": "code",
   "execution_count": 11,
   "id": "34244424-6880-450f-871c-a204a757833e",
   "metadata": {},
   "outputs": [
    {
     "data": {
      "text/plain": [
       "GAP: Rows( GF(3) )"
      ]
     },
     "execution_count": 11,
     "metadata": {},
     "output_type": "execute_result"
    }
   ],
   "source": [
    "Mat_F = UnderlyingCategory( Mon_F )"
   ]
  },
  {
   "cell_type": "code",
   "execution_count": 12,
   "id": "1b56a0e7-0a1e-4708-ab37-d81749ca34d3",
   "metadata": {},
   "outputs": [
    {
     "data": {
      "text/plain": [
       "GAP: CategoryOfFpAlgebras( GF(3) )"
      ]
     },
     "execution_count": 12,
     "metadata": {},
     "output_type": "execute_result"
    }
   ],
   "source": [
    "Alg_F = CategoryOfFpAlgebras( Mat_F )"
   ]
  },
  {
   "cell_type": "code",
   "execution_count": 13,
   "id": "a633f1da-c4a8-456c-8f7d-1e2dcc0f450f",
   "metadata": {},
   "outputs": [
    {
     "data": {
      "text/plain": [
       "GAP: <An object in CategoryOfFpAlgebras( GF(3) )>"
      ]
     },
     "execution_count": 13,
     "metadata": {},
     "output_type": "execute_result"
    }
   ],
   "source": [
    "A = Q / Alg_F"
   ]
  },
  {
   "cell_type": "code",
   "execution_count": 14,
   "id": "6bb61781-9f0d-4a61-a417-fbfebaa4c094",
   "metadata": {},
   "outputs": [
    {
     "data": {
      "text/plain": [
       "true"
      ]
     },
     "execution_count": 14,
     "metadata": {},
     "output_type": "execute_result"
    }
   ],
   "source": [
    "FpAlgebraAsInternalMonoid( A ) == a"
   ]
  },
  {
   "cell_type": "code",
   "execution_count": 15,
   "id": "2a61a961-5a80-4294-aa78-57354033872a",
   "metadata": {},
   "outputs": [
    {
     "data": {
      "text/plain": [
       "GAP: 1*id(o):(o) → (o)"
      ]
     },
     "execution_count": 15,
     "metadata": {},
     "output_type": "execute_result"
    }
   ],
   "source": [
    "o = A.id_o"
   ]
  },
  {
   "cell_type": "code",
   "execution_count": 16,
   "id": "8ab721cc-1198-41ba-9d3c-7dd1547c3412",
   "metadata": {},
   "outputs": [
    {
     "data": {
      "text/plain": [
       "GAP: 1*g:(o) → (o)"
      ]
     },
     "execution_count": 16,
     "metadata": {},
     "output_type": "execute_result"
    }
   ],
   "source": [
    "g = A.g"
   ]
  },
  {
   "cell_type": "code",
   "execution_count": 17,
   "id": "ab699c3b-57b7-47d4-b08f-553afe8f173f",
   "metadata": {},
   "outputs": [
    {
     "data": {
      "text/plain": [
       "GAP: 1*x:(o) → (o)"
      ]
     },
     "execution_count": 17,
     "metadata": {},
     "output_type": "execute_result"
    }
   ],
   "source": [
    "x = A.x"
   ]
  },
  {
   "cell_type": "code",
   "execution_count": 18,
   "id": "c5f0117b-1cb4-4c72-9af3-8fa695d3202b",
   "metadata": {},
   "outputs": [
    {
     "data": {
      "text/plain": [
       "GAP: rec( g := 1, x := 0 )"
      ]
     },
     "execution_count": 18,
     "metadata": {},
     "output_type": "execute_result"
    }
   ],
   "source": [
    "counit = GAP.Obj( Dict( :g => 1, :x => 0 ) )"
   ]
  },
  {
   "cell_type": "code",
   "execution_count": 19,
   "id": "73d2d880-2153-4b19-9bda-70f44e241688",
   "metadata": {},
   "outputs": [
    {
     "data": {
      "text/plain": [
       "GAP: rec( g := [ [ 1*g:(o) → (o), 1*g:(o) → (o) ] ], x := [ [ 1*id(o):(o) → (o), 1*x:(o) → (o) ], [ 1*x:(o) → (o), 1*id(o):(o) → (o) ] ] )"
      ]
     },
     "execution_count": 19,
     "metadata": {},
     "output_type": "execute_result"
    }
   ],
   "source": [
    "comult = GAP.Obj( Dict(\n",
    "      :g => [ [ g, g ] ],\n",
    "      :x => [ [ o, x ], [ x, o ] ] ); recursive=true )"
   ]
  },
  {
   "cell_type": "code",
   "execution_count": 20,
   "id": "400895a8-3506-4807-b6f7-dd029f1d4be0",
   "metadata": {},
   "outputs": [
    {
     "data": {
      "text/plain": [
       "GAP: CategoryOfFpBialgebras( GF(3) )"
      ]
     },
     "execution_count": 20,
     "metadata": {},
     "output_type": "execute_result"
    }
   ],
   "source": [
    "Bialg_F = CategoryOfFpBialgebras( Alg_F )"
   ]
  },
  {
   "cell_type": "code",
   "execution_count": 21,
   "id": "2d2b226e-7932-4920-bb6e-14bb663b3d08",
   "metadata": {},
   "outputs": [
    {
     "data": {
      "text/plain": [
       "GAP: <An object in CategoryOfFpBialgebras( GF(3) )>"
      ]
     },
     "execution_count": 21,
     "metadata": {},
     "output_type": "execute_result"
    }
   ],
   "source": [
    "B = Bimonoid( A, counit, comult )"
   ]
  },
  {
   "cell_type": "code",
   "execution_count": 22,
   "id": "a46f76fd-b9de-4b63-815b-e2ee917a89c9",
   "metadata": {},
   "outputs": [
    {
     "data": {
      "text/plain": [
       "true"
      ]
     },
     "execution_count": 22,
     "metadata": {},
     "output_type": "execute_result"
    }
   ],
   "source": [
    "IsWellDefined( B )"
   ]
  },
  {
   "cell_type": "code",
   "execution_count": 23,
   "id": "0ea51c0f-c46a-413f-bfad-641304357678",
   "metadata": {},
   "outputs": [
    {
     "data": {
      "text/plain": [
       "GAP: <An object in CategoryOfBimonoids( Rows( GF(3) ) )>"
      ]
     },
     "execution_count": 23,
     "metadata": {},
     "output_type": "execute_result"
    }
   ],
   "source": [
    "b = FpBialgebraAsInternalBimonoid( B )"
   ]
  },
  {
   "cell_type": "code",
   "execution_count": 24,
   "id": "1561d027-641a-4b92-bc58-e3a6276f7a3f",
   "metadata": {},
   "outputs": [
    {
     "data": {
      "text/plain": [
       "true"
      ]
     },
     "execution_count": 24,
     "metadata": {},
     "output_type": "execute_result"
    }
   ],
   "source": [
    "IsWellDefined( b )"
   ]
  },
  {
   "cell_type": "code",
   "execution_count": 25,
   "id": "a0f3b8ed-ff0a-41b7-9fba-f85ae75b764c",
   "metadata": {},
   "outputs": [
    {
     "data": {
      "text/plain": [
       "GAP: rec( g := 1*g:(o) → (o), x := -1*x:(o) → (o) )"
      ]
     },
     "execution_count": 25,
     "metadata": {},
     "output_type": "execute_result"
    }
   ],
   "source": [
    "antipode = GAP.Obj( Dict(\n",
    "        :g => g,\n",
    "        :x => -x ) )"
   ]
  },
  {
   "cell_type": "code",
   "execution_count": 26,
   "id": "115b76a0-2e25-4fbc-aabf-848bc6bc3934",
   "metadata": {},
   "outputs": [
    {
     "data": {
      "text/plain": [
       "GAP: <An object in CategoryOfFpHopfAlgebras( GF(3) )>"
      ]
     },
     "execution_count": 26,
     "metadata": {},
     "output_type": "execute_result"
    }
   ],
   "source": [
    "H = HopfMonoid( A, counit, comult, antipode )"
   ]
  },
  {
   "cell_type": "code",
   "execution_count": 27,
   "id": "68ebfda6-94d2-4ba0-af31-beb7cb6280ac",
   "metadata": {},
   "outputs": [
    {
     "data": {
      "text/plain": [
       "true"
      ]
     },
     "execution_count": 27,
     "metadata": {},
     "output_type": "execute_result"
    }
   ],
   "source": [
    "IsWellDefined( H )"
   ]
  },
  {
   "cell_type": "code",
   "execution_count": 28,
   "id": "8ac9c892-ea9f-4aa7-8a50-bc01aee22c35",
   "metadata": {},
   "outputs": [
    {
     "data": {
      "text/plain": [
       "GAP: <An object in CategoryOfHopfMonoids( Rows( GF(3) ) )>"
      ]
     },
     "execution_count": 28,
     "metadata": {},
     "output_type": "execute_result"
    }
   ],
   "source": [
    "h = FpHopfAlgebraAsInternalHopfMonoid( H )"
   ]
  },
  {
   "cell_type": "code",
   "execution_count": 29,
   "id": "cd3eda46-7981-4bb5-8744-514121ae8fb3",
   "metadata": {},
   "outputs": [
    {
     "data": {
      "text/plain": [
       "true"
      ]
     },
     "execution_count": 29,
     "metadata": {},
     "output_type": "execute_result"
    }
   ],
   "source": [
    "IsWellDefined( h )"
   ]
  },
  {
   "cell_type": "code",
   "execution_count": 30,
   "id": "932ac6b1-ae71-46fd-8f2b-f20e5e0170f2",
   "metadata": {},
   "outputs": [
    {
     "data": {
      "text/plain": [
       "GAP: <An object in CategoryOfFpMatrixAlgebras( GF(3) )>"
      ]
     },
     "execution_count": 30,
     "metadata": {},
     "output_type": "execute_result"
    }
   ],
   "source": [
    "YA = YonedaFpMatrixAlgebra( A )"
   ]
  },
  {
   "cell_type": "code",
   "execution_count": 31,
   "id": "74843aa2-d059-474e-aa44-c07da53cc5c3",
   "metadata": {},
   "outputs": [
    {
     "data": {
      "text/plain": [
       "true"
      ]
     },
     "execution_count": 31,
     "metadata": {},
     "output_type": "execute_result"
    }
   ],
   "source": [
    "IsWellDefined( YA )"
   ]
  },
  {
   "cell_type": "code",
   "execution_count": 32,
   "id": "c8082bcb-b838-41bc-b28a-bebb6f10f24d",
   "metadata": {},
   "outputs": [
    {
     "data": {
      "text/plain": [
       "GAP: <An object in CategoryOfFpMatrixBialgebras( GF(3) )>"
      ]
     },
     "execution_count": 32,
     "metadata": {},
     "output_type": "execute_result"
    }
   ],
   "source": [
    "YB = YonedaFpMatrixBialgebra( B )"
   ]
  },
  {
   "cell_type": "code",
   "execution_count": 33,
   "id": "d3b43e3f-98ba-47bd-bf0e-80dc8e849e39",
   "metadata": {},
   "outputs": [
    {
     "data": {
      "text/plain": [
       "true"
      ]
     },
     "execution_count": 33,
     "metadata": {},
     "output_type": "execute_result"
    }
   ],
   "source": [
    "IsWellDefined( YB )"
   ]
  },
  {
   "cell_type": "code",
   "execution_count": 34,
   "id": "662a6bd8-91c8-4e94-856f-1e480af79607",
   "metadata": {},
   "outputs": [
    {
     "data": {
      "text/plain": [
       "GAP: <An object in CategoryOfFpMatrixHopfAlgebras( GF(3) )>"
      ]
     },
     "execution_count": 34,
     "metadata": {},
     "output_type": "execute_result"
    }
   ],
   "source": [
    "YH = YonedaFpMatrixHopfAlgebra( H )"
   ]
  },
  {
   "cell_type": "code",
   "execution_count": 35,
   "id": "dbac0d3b-1708-4bc5-a92c-6c36f2a64e65",
   "metadata": {},
   "outputs": [
    {
     "data": {
      "text/plain": [
       "true"
      ]
     },
     "execution_count": 35,
     "metadata": {},
     "output_type": "execute_result"
    }
   ],
   "source": [
    "IsWellDefined( YH )"
   ]
  },
  {
   "cell_type": "code",
   "execution_count": 36,
   "id": "8a604f2b-330e-4899-af92-731a8132fda9",
   "metadata": {},
   "outputs": [
    {
     "data": {
      "text/plain": [
       "GAP: CategoryOfFpMatrixAlgebras( GF(3) )"
      ]
     },
     "execution_count": 36,
     "metadata": {},
     "output_type": "execute_result"
    }
   ],
   "source": [
    "MatAlg_F = CapCategory( YA )"
   ]
  },
  {
   "cell_type": "code",
   "execution_count": 37,
   "id": "89674dd3-c6af-4b67-a49f-a53b563280c4",
   "metadata": {},
   "outputs": [
    {
     "data": {
      "text/plain": [
       "GAP: <A morphism in Rows( GF(3) )>"
      ]
     },
     "execution_count": 37,
     "metadata": {},
     "output_type": "execute_result"
    }
   ],
   "source": [
    "mg = HomalgDiagonalMatrix( @gap([ 1, -1, 1, -1 ]), F ) / Mat_F"
   ]
  },
  {
   "cell_type": "code",
   "execution_count": 38,
   "id": "58f4d79c-cccd-4d61-9c92-ccef87c089e6",
   "metadata": {},
   "outputs": [
    {
     "data": {
      "text/plain": [
       "GAP: <A morphism in Rows( GF(3) )>"
      ]
     },
     "execution_count": 38,
     "metadata": {},
     "output_type": "execute_result"
    }
   ],
   "source": [
    "mx = DiagMat( ConvertJuliaToGAP([ HomalgZeroMatrix( 2, 2, F ),\n",
    "                     CertainRows( HomalgIdentityMatrix( 2, F ), [ 2, 1 ] ) ]) ) / Mat_F"
   ]
  },
  {
   "cell_type": "code",
   "execution_count": 39,
   "id": "18faee47-18ac-47f0-a6f7-6c043b992a80",
   "metadata": {},
   "outputs": [
    {
     "data": {
      "text/plain": [
       "GAP: [ <A row module over GF(3) of rank 4>, [ <A morphism in Rows( GF(3) )>, <A morphism in Rows( GF(3) )> ] ]"
      ]
     },
     "execution_count": 39,
     "metadata": {},
     "output_type": "execute_result"
    }
   ],
   "source": [
    "matrix_generators = ConvertJuliaToGAP( [ 4 / Mat_F, [ mg, mx ] ] )"
   ]
  },
  {
   "cell_type": "code",
   "execution_count": 40,
   "id": "754809b8-14b3-4bc5-89e5-521529fc0694",
   "metadata": {},
   "outputs": [
    {
     "data": {
      "text/plain": [
       "GAP: <An object in CategoryOfFpMatrixAlgebras( GF(3) )>"
      ]
     },
     "execution_count": 40,
     "metadata": {},
     "output_type": "execute_result"
    }
   ],
   "source": [
    "M = ConvertJuliaToGAP([ A, matrix_generators ]) / MatAlg_F"
   ]
  },
  {
   "cell_type": "code",
   "execution_count": 41,
   "id": "164a3ab8-cc56-4cca-b32d-6ff3e54fb08d",
   "metadata": {},
   "outputs": [
    {
     "name": "stdout",
     "output_type": "stream",
     "text": [
      "1,0, 0,0,\n",
      "0,-1,0,0,\n",
      "0,0, 1,0,\n",
      "0,0, 0,-1\n",
      "\n",
      "0,0,0,0,\n",
      "0,0,0,0,\n",
      "0,0,0,1,\n",
      "0,0,1,0 \n",
      "\n",
      "GF(3)<g,x> / [ 1*g^2 - 1*id(o), 1*x^3 - 1*x, 1*x⋅g + 1*g⋅x ]\n",
      "\n",
      "A finitely presented matrix algebra with the above matrix generators\n"
     ]
    }
   ],
   "source": [
    "Display( M )"
   ]
  },
  {
   "cell_type": "code",
   "execution_count": 42,
   "id": "cfb4f5ec-8f10-46cc-ace3-46578552f5e5",
   "metadata": {},
   "outputs": [
    {
     "data": {
      "text/plain": [
       "true"
      ]
     },
     "execution_count": 42,
     "metadata": {},
     "output_type": "execute_result"
    }
   ],
   "source": [
    "IsWellDefined( FpMatrixAlgebraAsInternalMonoid( M ) )"
   ]
  },
  {
   "cell_type": "code",
   "execution_count": 43,
   "id": "0e997f2c-a58d-4458-8cfa-958fa9bffae6",
   "metadata": {},
   "outputs": [
    {
     "data": {
      "text/plain": [
       "GAP: CategoryOfFpMatrixBialgebras( GF(3) )"
      ]
     },
     "execution_count": 43,
     "metadata": {},
     "output_type": "execute_result"
    }
   ],
   "source": [
    "MatBialg_F = CategoryOfFpMatrixBialgebras( MatAlg_F )"
   ]
  },
  {
   "cell_type": "code",
   "execution_count": 44,
   "id": "69ef73cf-b4ab-408a-92d3-b76f1176fd57",
   "metadata": {},
   "outputs": [
    {
     "data": {
      "text/plain": [
       "GAP: <An object in CategoryOfFpMatrixBialgebras( GF(3) )>"
      ]
     },
     "execution_count": 44,
     "metadata": {},
     "output_type": "execute_result"
    }
   ],
   "source": [
    "MB = Bimonoid( M, counit, comult )"
   ]
  },
  {
   "cell_type": "code",
   "execution_count": 45,
   "id": "7dca87a5-f024-461d-87c8-2edecf22e478",
   "metadata": {},
   "outputs": [
    {
     "data": {
      "text/plain": [
       "true"
      ]
     },
     "execution_count": 45,
     "metadata": {},
     "output_type": "execute_result"
    }
   ],
   "source": [
    "IsWellDefined( MB )"
   ]
  },
  {
   "cell_type": "code",
   "execution_count": 46,
   "id": "69b9c204-edf7-4df8-9ae6-98e9c8e1e033",
   "metadata": {},
   "outputs": [
    {
     "data": {
      "text/plain": [
       "true"
      ]
     },
     "execution_count": 46,
     "metadata": {},
     "output_type": "execute_result"
    }
   ],
   "source": [
    "FpMatrixBialgebraAsInternalBimonoid( MB ) == b"
   ]
  },
  {
   "cell_type": "code",
   "execution_count": 47,
   "id": "9894b4f6-d002-4214-aab7-05362664765a",
   "metadata": {},
   "outputs": [
    {
     "data": {
      "text/plain": [
       "GAP: CategoryOfFpMatrixHopfAlgebras( GF(3) )"
      ]
     },
     "execution_count": 47,
     "metadata": {},
     "output_type": "execute_result"
    }
   ],
   "source": [
    "HopfMatAlg_F = CategoryOfFpMatrixHopfAlgebras( MatBialg_F )"
   ]
  },
  {
   "cell_type": "code",
   "execution_count": 48,
   "id": "680d334b-34ac-4336-87c2-880f2c1efe0c",
   "metadata": {},
   "outputs": [
    {
     "data": {
      "text/plain": [
       "GAP: <An object in CategoryOfFpMatrixHopfAlgebras( GF(3) )>"
      ]
     },
     "execution_count": 48,
     "metadata": {},
     "output_type": "execute_result"
    }
   ],
   "source": [
    "MH = HopfMonoid( M, counit, comult, antipode )"
   ]
  },
  {
   "cell_type": "code",
   "execution_count": 49,
   "id": "468e5fb6-9599-4b17-9ec8-0bddbf495ff5",
   "metadata": {},
   "outputs": [
    {
     "data": {
      "text/plain": [
       "true"
      ]
     },
     "execution_count": 49,
     "metadata": {},
     "output_type": "execute_result"
    }
   ],
   "source": [
    "IsWellDefined( MH )"
   ]
  },
  {
   "cell_type": "code",
   "execution_count": 50,
   "id": "916aa671-2a30-447d-a163-0a5e541ef90a",
   "metadata": {},
   "outputs": [
    {
     "data": {
      "text/plain": [
       "true"
      ]
     },
     "execution_count": 50,
     "metadata": {},
     "output_type": "execute_result"
    }
   ],
   "source": [
    "FpMatrixHopfAlgebraAsInternalHopfMonoid( MH ) == h"
   ]
  },
  {
   "cell_type": "code",
   "execution_count": 51,
   "id": "8ab61531-b9ed-438b-a1d5-701f13d494a9",
   "metadata": {},
   "outputs": [
    {
     "data": {
      "text/plain": [
       "GAP: rec( g := [ [ 1*g:(o) → (o), 1*g:(o) → (o) ] ] )"
      ]
     },
     "execution_count": 51,
     "metadata": {},
     "output_type": "execute_result"
    }
   ],
   "source": [
    "partial_comult = GAP.Obj( Dict( :g => [ [ g, g ] ] ); recursive=true )"
   ]
  },
  {
   "cell_type": "code",
   "execution_count": 52,
   "id": "3b3df320-f6b2-4f98-870d-ab1e40135a68",
   "metadata": {},
   "outputs": [
    {
     "data": {
      "text/plain": [
       "GAP: rec( g := 1*g:(o) → (o) )"
      ]
     },
     "execution_count": 52,
     "metadata": {},
     "output_type": "execute_result"
    }
   ],
   "source": [
    "partial_antipode = GAP.Obj( Dict( :g => g ) )"
   ]
  },
  {
   "cell_type": "code",
   "execution_count": 53,
   "id": "c63cfacb-5f46-4b2b-a441-797dec276fad",
   "metadata": {},
   "outputs": [
    {
     "data": {
      "text/plain": [
       "GAP: V_{GF(3)[c_x_1,...,c_x_36]}( <...> )"
      ]
     },
     "execution_count": 53,
     "metadata": {},
     "output_type": "execute_result"
    }
   ],
   "source": [
    "bimonoid_variety = AffineVarietyOfBimonoids( a, counit, partial_comult )"
   ]
  },
  {
   "cell_type": "code",
   "execution_count": 54,
   "id": "291338c2-5ab0-4844-a13e-f6c3c216be65",
   "metadata": {},
   "outputs": [
    {
     "data": {
      "text/plain": [
       "GAP: V_{GF(3)[c_x_1,...,c_x_36]}( <...> )"
      ]
     },
     "execution_count": 54,
     "metadata": {},
     "output_type": "execute_result"
    }
   ],
   "source": [
    "MBimonoid_variety = AffineVarietyOfBimonoids( M, counit, partial_comult )"
   ]
  },
  {
   "cell_type": "code",
   "execution_count": 55,
   "id": "e47c85ae-6378-48cb-b0eb-6990ae991d63",
   "metadata": {},
   "outputs": [
    {
     "data": {
      "text/plain": [
       "GAP: V_{GF(3)[c_x_1,...,s_x_6]}( <...> )"
      ]
     },
     "execution_count": 55,
     "metadata": {},
     "output_type": "execute_result"
    }
   ],
   "source": [
    "hopf_monoid_variety = AffineVarietyOfHopfMonoids( a, counit, partial_comult, partial_antipode )"
   ]
  },
  {
   "cell_type": "code",
   "execution_count": 56,
   "id": "5f4e8a83-210a-42e6-a2a0-69d47a73390e",
   "metadata": {},
   "outputs": [
    {
     "data": {
      "text/plain": [
       "GAP: V_{GF(3)[c_x_1,...,s_x_6]}( <...> )"
      ]
     },
     "execution_count": 56,
     "metadata": {},
     "output_type": "execute_result"
    }
   ],
   "source": [
    "MHopf_monoid_variety = AffineVarietyOfHopfMonoids( M, counit, partial_comult, partial_antipode )"
   ]
  },
  {
   "cell_type": "code",
   "execution_count": 57,
   "id": "4f5c7567-1c9a-4d86-81ab-0f41df8374d7",
   "metadata": {},
   "outputs": [
    {
     "data": {
      "text/plain": [
       "GAP: V_{GF(3)[c_x_1,...,s_x_6]}( <...> )"
      ]
     },
     "execution_count": 57,
     "metadata": {},
     "output_type": "execute_result"
    }
   ],
   "source": [
    "StandardizeObject( MHopf_monoid_variety )"
   ]
  },
  {
   "cell_type": "code",
   "execution_count": 58,
   "id": "cf4a964c-253a-4301-b933-4704d909b6a3",
   "metadata": {},
   "outputs": [
    {
     "data": {
      "text/plain": [
       "GAP: V_{GF(3)[s_x_3,s_x_4]}( <...> )"
      ]
     },
     "execution_count": 58,
     "metadata": {},
     "output_type": "execute_result"
    }
   ],
   "source": [
    "MHopf_monoid_variety_smaller_embedding = EmbedInSmallerAmbientSpace( MHopf_monoid_variety )"
   ]
  },
  {
   "cell_type": "code",
   "execution_count": 59,
   "id": "fb995379-4b87-46f6-bbce-a573a97867ed",
   "metadata": {},
   "outputs": [
    {
     "data": {
      "text/plain": [
       "GAP: V_{GF(3)[s_x_3,s_x_4]}( <...> )"
      ]
     },
     "execution_count": 59,
     "metadata": {},
     "output_type": "execute_result"
    }
   ],
   "source": [
    "StandardizeObject( MHopf_monoid_variety_smaller_embedding )"
   ]
  },
  {
   "cell_type": "code",
   "execution_count": 60,
   "id": "6c80707f-10a4-468e-8fc0-47773c2cb26f",
   "metadata": {},
   "outputs": [
    {
     "data": {
      "text/plain": [
       "GAP: <An object in CategoryOfFpMatrixHopfAlgebras( GF(3)[s_x_3,s_x_4]/( s_x_3^2-s_x_4^2-1 ) )>"
      ]
     },
     "execution_count": 60,
     "metadata": {},
     "output_type": "execute_result"
    }
   ],
   "source": [
    "family = ParametrizedObject( MHopf_monoid_variety_smaller_embedding )"
   ]
  },
  {
   "cell_type": "code",
   "execution_count": 61,
   "id": "56a683ce-9e20-4d75-b024-85e6de083e2b",
   "metadata": {},
   "outputs": [
    {
     "name": "stdout",
     "output_type": "stream",
     "text": [
      "GF(3)[s_x_3,s_x_4]/( s_x_3^2-s_x_4^2-1 ) / [  ]\n",
      " ^\n",
      " |\n",
      "[ 1*id(o), 0 ]\n",
      " |\n",
      "GF(3)[s_x_3,s_x_4]/( s_x_3^2-s_x_4^2-1 )<g,x> / [ 1*g^2 - 1*id(o), 1*x^3 - 1*x, 1*x⋅g + 1*g⋅x ]\n",
      "\n",
      "Counit given by the above morphism\n",
      "\n",
      "GF(3)[s_x_3,s_x_4]/( s_x_3^2-s_x_4^2-1 )<a1,a2,a3,a4> / [ 1*a1^2 - 1*id(o), 1*a2^3 - 1*a2, 1*a2⋅a1 + 1*a1⋅a2, ... ]\n",
      " ^\n",
      " |\n",
      "[ 1*a1⋅a3, -s_x_4*a1⋅a2⋅a3 - s_x_4*a1⋅a3⋅a4 + s_x_4*a1⋅a2 - s_x_3-1*a2⋅a3 - s_x_3-1*a1⋅a4 + s_x_4*a3⋅a4 + s_x_3-1*a2 + s_x_3-1*a4 ]\n",
      " |\n",
      "GF(3)[s_x_3,s_x_4]/( s_x_3^2-s_x_4^2-1 )<g,x> / [ 1*g^2 - 1*id(o), 1*x^3 - 1*x, 1*x⋅g + 1*g⋅x ]\n",
      "\n",
      "Comultiplication given by the above morphism\n",
      "\n",
      "GF(3)[s_x_3,s_x_4]/( s_x_3^2-s_x_4^2-1 )<g,x> / [ 1*g^2 - 1*id(o), 1*x^3 - 1*x, 1*x⋅g + 1*g⋅x ]\n",
      " ^\n",
      " |\n",
      "[ 1*g, s_x_4*g⋅x + s_x_3*x ]\n",
      " |\n",
      "GF(3)[s_x_3,s_x_4]/( s_x_3^2-s_x_4^2-1 )<g,x> / [ 1*g^2 - 1*id(o), 1*x^3 - 1*x, 1*x⋅g + 1*g⋅x ]\n",
      "\n",
      "Antipode given by the above morphism\n",
      "\n",
      "1,0, 0,0,\n",
      "0,-1,0,0,\n",
      "0,0, 1,0,\n",
      "0,0, 0,-1\n",
      "\n",
      "modulo [ s_x_3^2-s_x_4^2-1 ]\n",
      "\n",
      "0,0,0,0,\n",
      "0,0,0,0,\n",
      "0,0,0,1,\n",
      "0,0,1,0 \n",
      "\n",
      "modulo [ s_x_3^2-s_x_4^2-1 ]\n",
      "\n",
      "GF(3)[s_x_3,s_x_4]/( s_x_3^2-s_x_4^2-1 )<g,x> / [ 1*g^2 - 1*id(o), 1*x^3 - 1*x, 1*x⋅g + 1*g⋅x ]\n",
      "\n",
      "A finitely presented matrix algebra with the above matrix generators\n",
      "\n",
      "A finitely presented matrix Hopf algebra given by the above data\n"
     ]
    }
   ],
   "source": [
    "Display( family )"
   ]
  },
  {
   "cell_type": "code",
   "execution_count": null,
   "id": "f718d2e6-7847-44e7-952f-d56177a8772f",
   "metadata": {},
   "outputs": [],
   "source": []
  }
 ],
 "metadata": {
  "kernelspec": {
   "display_name": "Julia 1.11.6",
   "language": "julia",
   "name": "julia-1.11"
  },
  "language_info": {
   "file_extension": ".jl",
   "mimetype": "application/julia",
   "name": "julia",
   "version": "1.11.6"
  }
 },
 "nbformat": 4,
 "nbformat_minor": 5
}
