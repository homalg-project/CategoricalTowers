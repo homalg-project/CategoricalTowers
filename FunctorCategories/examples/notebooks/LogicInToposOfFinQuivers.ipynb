{
 "cells": [
  {
   "cell_type": "markdown",
   "id": "e044784f",
   "metadata": {},
   "source": [
    "## The topos of finite quivers\n",
    "\n",
    "This notebook demonstrates computations in the (elementary) topos of finite quivers which is modeled here as a finite (colimit) cocompletion, itself modeled as a presheaf topos.\n",
    "\n",
    "The code is far from optimized and not yet compiled.\n",
    "\n",
    "Any presheaf topos is a bi-Heyting topos. We did not yet implement the co-Heyting structure on the subobject lattices. In particular, the notebook does not yet treat complements $S \\setminus T$, Lawvere's non-$S$ operation $\\sim\\!\\! S$, nor modalities. These are treated in the nice blog post of Myers and Patterson cited below.\n",
    "\n",
    "1. Marie La Palme Reyes, Gonzalo E. Reyes, and Houman Zolfaghari, [Generic figures and their glueings: A constructive approach to functor categories](https://marieetgonzalo.files.wordpress.com/2004/06/generic-figures.pdf), 2004.\n",
    "2. Blog post by David Jaz Myers and Evan Patterson, [Graphs and C-sets IV: The propositional logic of subgraphs and sub-C-sets](https://www.algebraicjulia.org/blog/post/2021/09/cset-graphs-4/), September 23, 2021."
   ]
  },
  {
   "cell_type": "code",
   "execution_count": 1,
   "id": "ca02fe8d",
   "metadata": {},
   "outputs": [
    {
     "name": "stdout",
     "output_type": "stream",
     "text": [
      "CapAndHomalg v\u001b[32m1.6.4\u001b[39m\n",
      "Imported OSCAR's components GAP and Singular_jll\n",
      "Type: ?CapAndHomalg for more information\n"
     ]
    }
   ],
   "source": [
    "using CapAndHomalg"
   ]
  },
  {
   "cell_type": "code",
   "execution_count": 2,
   "id": "c110995e",
   "metadata": {},
   "outputs": [],
   "source": [
    "LoadPackage( \"FunctorCategories\" )"
   ]
  },
  {
   "cell_type": "markdown",
   "id": "1b45d107",
   "metadata": {},
   "source": [
    "The category $\\mathbf{FinQuivers}$ of finite quivers:"
   ]
  },
  {
   "cell_type": "code",
   "execution_count": 3,
   "id": "a0723787",
   "metadata": {},
   "outputs": [
    {
     "data": {
      "text/plain": [
       "GAP: FinQuivers"
      ]
     },
     "execution_count": 3,
     "metadata": {},
     "output_type": "execute_result"
    }
   ],
   "source": [
    "FinQuivers"
   ]
  },
  {
   "cell_type": "code",
   "execution_count": 4,
   "id": "81c3b878",
   "metadata": {},
   "outputs": [
    {
     "name": "stdout",
     "output_type": "stream",
     "text": [
      "A CAP category with name FinQuivers:\n",
      "\n",
      "52 primitive operations were used to derive 356 operations for this category which algorithmically\n",
      "* IsCategoryWithDecidableColifts\n",
      "* IsCategoryWithDecidableLifts\n",
      "* IsEquippedWithHomomorphismStructure\n",
      "* IsSymmetricMonoidalCategory\n",
      "* IsElementaryTopos\n",
      "and furthermore mathematically\n",
      "* IsSymmetricMonoidalCategoryStructureGivenByDirectProduct\n"
     ]
    }
   ],
   "source": [
    "Display( FinQuivers )"
   ]
  },
  {
   "cell_type": "markdown",
   "id": "a736b769",
   "metadata": {},
   "source": [
    "The category $\\mathbf{FinQuivers}$ is modeled as the finite (colimit) cocompletion $\\hat{\\mathbf{C}}$ of the finitely presented category $\\mathbf{C}$, where $\\mathbf{C}$ is called the categoy of **abstract generic figures**:"
   ]
  },
  {
   "cell_type": "code",
   "execution_count": 5,
   "id": "b2166932",
   "metadata": {},
   "outputs": [
    {
     "data": {
      "text/plain": [
       "GAP: PathCategory( FinQuiver( \"q(V,A)[s:V→A,t:V→A]\" ) )"
      ]
     },
     "execution_count": 5,
     "metadata": {},
     "output_type": "execute_result"
    }
   ],
   "source": [
    "C = UnderlyingCategory( FinQuivers )"
   ]
  },
  {
   "cell_type": "code",
   "execution_count": 6,
   "id": "9fd016ae",
   "metadata": {},
   "outputs": [
    {
     "data": {
      "text/plain": [
       "GAP: FiniteCocompletion( PathCategory( FinQuiver( \"q(V,A)[s:V→A,t:V→A]\" ) ) )"
      ]
     },
     "execution_count": 6,
     "metadata": {},
     "output_type": "execute_result"
    }
   ],
   "source": [
    "Ĉ = ModelingCategory( FinQuivers )"
   ]
  },
  {
   "cell_type": "markdown",
   "id": "e6673dca",
   "metadata": {},
   "source": [
    "The finite (colimit) cocompletion $\\hat{\\mathbf{C}}$ is itself modeled as the **presheaf topos** with values in $\\mathbf{SkeletalFinSets}$:\n",
    "\n",
    "$$\\hat{\\mathbf{C}} := \\mathbf{PreSheaves}(\\mathbf{C},\\mathbf{SkeletalFinSets}) := \\mathbf{FunctorCategory}(\\mathbf{C}^\\mathrm{op},\\mathbf{SkeletalFinSets})$$"
   ]
  },
  {
   "cell_type": "code",
   "execution_count": 7,
   "id": "dee3c66d",
   "metadata": {},
   "outputs": [
    {
     "data": {
      "text/plain": [
       "GAP: PreSheaves( PathCategory( FinQuiver( \"q(V,A)[s:V→A,t:V→A]\" ) ), SkeletalFinSets )"
      ]
     },
     "execution_count": 7,
     "metadata": {},
     "output_type": "execute_result"
    }
   ],
   "source": [
    "PSh = ModelingCategory( Ĉ )"
   ]
  },
  {
   "cell_type": "markdown",
   "id": "6484fd87",
   "metadata": {},
   "source": [
    "We call the objects of $\\mathbf{C}$ the **abstract generic figures**:"
   ]
  },
  {
   "cell_type": "markdown",
   "id": "105f8aef",
   "metadata": {},
   "source": [
    "The object $V \\in \\mathbf{C}$ is referred to as the abstract generic figure named \"*the vertex*\":"
   ]
  },
  {
   "cell_type": "code",
   "execution_count": 8,
   "id": "09b9fdf0",
   "metadata": {},
   "outputs": [
    {
     "data": {
      "text/plain": [
       "GAP: <(V)>"
      ]
     },
     "execution_count": 8,
     "metadata": {},
     "output_type": "execute_result"
    }
   ],
   "source": [
    "C.V"
   ]
  },
  {
   "cell_type": "markdown",
   "id": "7b0d5122",
   "metadata": {},
   "source": [
    "The object $A \\in \\mathbf{C}$ is referred to as the abstract generic figure named \"*the arrow*\":"
   ]
  },
  {
   "cell_type": "code",
   "execution_count": 9,
   "id": "09a563a2",
   "metadata": {},
   "outputs": [
    {
     "data": {
      "text/plain": [
       "GAP: <(A)>"
      ]
     },
     "execution_count": 9,
     "metadata": {},
     "output_type": "execute_result"
    }
   ],
   "source": [
    "C.A"
   ]
  },
  {
   "cell_type": "markdown",
   "id": "2b9ebc94",
   "metadata": {},
   "source": [
    "We call the morphisms of $\\mathbf{C}$ the **abstract actions** (or the **abstract change of figures**):"
   ]
  },
  {
   "cell_type": "markdown",
   "id": "3887c984",
   "metadata": {},
   "source": [
    "The morphsim $s \\in \\mathbf{C}$ is referred to as the abstract action named \"*source*\":"
   ]
  },
  {
   "cell_type": "code",
   "execution_count": 10,
   "id": "f0a0df11",
   "metadata": {},
   "outputs": [
    {
     "data": {
      "text/plain": [
       "GAP: (V)-[(s)]->(A)"
      ]
     },
     "execution_count": 10,
     "metadata": {},
     "output_type": "execute_result"
    }
   ],
   "source": [
    "C.s"
   ]
  },
  {
   "cell_type": "markdown",
   "id": "29e681d9",
   "metadata": {},
   "source": [
    "The morphsim $t \\in \\mathbf{C}$ is referred to as the abstract action named \"*target*\":"
   ]
  },
  {
   "cell_type": "code",
   "execution_count": 11,
   "id": "13cb99f9",
   "metadata": {},
   "outputs": [
    {
     "data": {
      "text/plain": [
       "GAP: (V)-[(t)]->(A)"
      ]
     },
     "execution_count": 11,
     "metadata": {},
     "output_type": "execute_result"
    }
   ],
   "source": [
    "C.t"
   ]
  },
  {
   "cell_type": "markdown",
   "id": "32e6db49",
   "metadata": {},
   "source": [
    "---\n",
    "The Yoneda functor $Y$ is a full embedding of the category $\\mathbf{C}$ of abstract generic figures into the presheaf topos $\\mathbf{FinQuivers}$.\n",
    "The images of the objects in $\\mathbf{C}$ under $Y$ are called the **generic figures** of the presheaf topos:"
   ]
  },
  {
   "cell_type": "markdown",
   "id": "3f4cae0f",
   "metadata": {},
   "source": [
    "The image of the abstract generic figure $V \\in \\mathbf{C}$ under $Y$ is the generic figure $V \\in \\mathbf{FinQuivers}$, again called \"*the vertex*\":"
   ]
  },
  {
   "cell_type": "code",
   "execution_count": 12,
   "id": "c82e940b",
   "metadata": {},
   "outputs": [
    {
     "data": {
      "image/svg+xml": [
       "<?xml version=\"1.0\" encoding=\"UTF-8\" standalone=\"no\"?>\n",
       "<!DOCTYPE svg PUBLIC \"-//W3C//DTD SVG 1.1//EN\"\n",
       " \"http://www.w3.org/Graphics/SVG/1.1/DTD/svg11.dtd\">\n",
       "<!-- Generated by graphviz version 2.50.0 (20211204.2007)\n",
       " -->\n",
       "<!-- Title: quiver Pages: 1 -->\n",
       "<svg width=\"29pt\" height=\"29pt\"\n",
       " viewBox=\"0.00 0.00 29.21 29.21\" xmlns=\"http://www.w3.org/2000/svg\" xmlns:xlink=\"http://www.w3.org/1999/xlink\">\n",
       "<g id=\"graph0\" class=\"graph\" transform=\"scale(1 1) rotate(0) translate(4 25.21)\">\n",
       "<title>quiver</title>\n",
       "<polygon fill=\"white\" stroke=\"transparent\" points=\"-4,4 -4,-25.21 25.21,-25.21 25.21,4 -4,4\"/>\n",
       "<!-- 0 -->\n",
       "<g id=\"node1\" class=\"node\">\n",
       "<title>0</title>\n",
       "<ellipse fill=\"none\" stroke=\"black\" cx=\"10.61\" cy=\"-10.61\" rx=\"10.71\" ry=\"10.71\"/>\n",
       "<text text-anchor=\"middle\" x=\"10.61\" y=\"-7.51\" font-family=\"DejaVu Serif,serif\" font-size=\"12.00\">0</text>\n",
       "</g>\n",
       "</g>\n",
       "</svg>\n"
      ],
      "text/plain": [
       "GAP: <A projective object in FinQuivers>"
      ]
     },
     "execution_count": 12,
     "metadata": {},
     "output_type": "execute_result"
    }
   ],
   "source": [
    "V = FinQuivers.V"
   ]
  },
  {
   "cell_type": "code",
   "execution_count": 13,
   "id": "8adb2ebe",
   "metadata": {},
   "outputs": [
    {
     "name": "stdout",
     "output_type": "stream",
     "text": [
      "( { 0 }, { } )\n"
     ]
    }
   ],
   "source": [
    "Display( V )"
   ]
  },
  {
   "cell_type": "markdown",
   "id": "45693c0a",
   "metadata": {},
   "source": [
    "The image of the abstract generic figure $A \\in \\mathbf{C}$ under $Y$ is the generic figure $A \\in \\mathbf{FinQuivers}$, again called \"*the arrow*\":"
   ]
  },
  {
   "cell_type": "code",
   "execution_count": 14,
   "id": "27dce462",
   "metadata": {},
   "outputs": [
    {
     "data": {
      "image/svg+xml": [
       "<?xml version=\"1.0\" encoding=\"UTF-8\" standalone=\"no\"?>\n",
       "<!DOCTYPE svg PUBLIC \"-//W3C//DTD SVG 1.1//EN\"\n",
       " \"http://www.w3.org/Graphics/SVG/1.1/DTD/svg11.dtd\">\n",
       "<!-- Generated by graphviz version 2.50.0 (20211204.2007)\n",
       " -->\n",
       "<!-- Title: quiver Pages: 1 -->\n",
       "<svg width=\"93pt\" height=\"30pt\"\n",
       " viewBox=\"0.00 0.00 93.43 29.61\" xmlns=\"http://www.w3.org/2000/svg\" xmlns:xlink=\"http://www.w3.org/1999/xlink\">\n",
       "<g id=\"graph0\" class=\"graph\" transform=\"scale(1 1) rotate(0) translate(4 25.61)\">\n",
       "<title>quiver</title>\n",
       "<polygon fill=\"white\" stroke=\"transparent\" points=\"-4,4 -4,-25.61 89.43,-25.61 89.43,4 -4,4\"/>\n",
       "<!-- 0 -->\n",
       "<g id=\"node1\" class=\"node\">\n",
       "<title>0</title>\n",
       "<ellipse fill=\"none\" stroke=\"black\" cx=\"10.61\" cy=\"-10.61\" rx=\"10.71\" ry=\"10.71\"/>\n",
       "<text text-anchor=\"middle\" x=\"10.61\" y=\"-7.51\" font-family=\"DejaVu Serif,serif\" font-size=\"12.00\">0</text>\n",
       "</g>\n",
       "<!-- 1 -->\n",
       "<g id=\"node2\" class=\"node\">\n",
       "<title>1</title>\n",
       "<ellipse fill=\"none\" stroke=\"black\" cx=\"74.82\" cy=\"-10.61\" rx=\"10.71\" ry=\"10.71\"/>\n",
       "<text text-anchor=\"middle\" x=\"74.82\" y=\"-7.51\" font-family=\"DejaVu Serif,serif\" font-size=\"12.00\">1</text>\n",
       "</g>\n",
       "<!-- 0&#45;&gt;1 -->\n",
       "<g id=\"edge1\" class=\"edge\">\n",
       "<title>0&#45;&gt;1</title>\n",
       "<path fill=\"none\" stroke=\"black\" d=\"M21.33,-10.61C31.4,-10.61 47.28,-10.61 58.94,-10.61\"/>\n",
       "<polygon fill=\"black\" stroke=\"black\" points=\"58.96,-12.36 63.96,-10.61 58.96,-8.86 58.96,-12.36\"/>\n",
       "<text text-anchor=\"middle\" x=\"42.71\" y=\"-13.61\" font-family=\"DejaVu Serif,serif\" font-size=\"10.00\">0</text>\n",
       "</g>\n",
       "</g>\n",
       "</svg>\n"
      ],
      "text/plain": [
       "GAP: <A projective object in FinQuivers>"
      ]
     },
     "execution_count": 14,
     "metadata": {},
     "output_type": "execute_result"
    }
   ],
   "source": [
    "A = FinQuivers.A"
   ]
  },
  {
   "cell_type": "code",
   "execution_count": 15,
   "id": "c96edb70",
   "metadata": {},
   "outputs": [
    {
     "name": "stdout",
     "output_type": "stream",
     "text": [
      "( { 0, 1 }, { 0 := [ 0, 1 ] } )\n"
     ]
    }
   ],
   "source": [
    "Display( A )"
   ]
  },
  {
   "cell_type": "markdown",
   "id": "b7f5def9",
   "metadata": {},
   "source": [
    "The images of of the abstract actions in $\\mathbf{C}$ under the Yoneda embedding are called the **actions** of the presheaf topos:"
   ]
  },
  {
   "cell_type": "markdown",
   "id": "2dfec3bf",
   "metadata": {},
   "source": [
    "The image of the abstract action $s \\in C$ under $Y$ is the action $s \\in \\mathbf{FinQuivers}$, again called \"*source*\":"
   ]
  },
  {
   "cell_type": "code",
   "execution_count": 16,
   "id": "3a28c016",
   "metadata": {},
   "outputs": [
    {
     "data": {
      "image/svg+xml": [
       "<?xml version=\"1.0\" encoding=\"UTF-8\" standalone=\"no\"?>\n",
       "<!DOCTYPE svg PUBLIC \"-//W3C//DTD SVG 1.1//EN\"\n",
       " \"http://www.w3.org/Graphics/SVG/1.1/DTD/svg11.dtd\">\n",
       "<!-- Generated by graphviz version 2.50.0 (20211204.2007)\n",
       " -->\n",
       "<!-- Title: subquiver Pages: 1 -->\n",
       "<svg width=\"93pt\" height=\"30pt\"\n",
       " viewBox=\"0.00 0.00 93.43 29.61\" xmlns=\"http://www.w3.org/2000/svg\" xmlns:xlink=\"http://www.w3.org/1999/xlink\">\n",
       "<g id=\"graph0\" class=\"graph\" transform=\"scale(1 1) rotate(0) translate(4 25.61)\">\n",
       "<title>subquiver</title>\n",
       "<polygon fill=\"white\" stroke=\"transparent\" points=\"-4,4 -4,-25.61 89.43,-25.61 89.43,4 -4,4\"/>\n",
       "<!-- 0 -->\n",
       "<g id=\"node1\" class=\"node\">\n",
       "<title>0</title>\n",
       "<ellipse fill=\"none\" stroke=\"black\" cx=\"10.61\" cy=\"-10.61\" rx=\"10.71\" ry=\"10.71\"/>\n",
       "<text text-anchor=\"middle\" x=\"10.61\" y=\"-7.51\" font-family=\"DejaVu Serif,serif\" font-size=\"12.00\">0</text>\n",
       "</g>\n",
       "<!-- 1 -->\n",
       "<g id=\"node2\" class=\"node\">\n",
       "<title>1</title>\n",
       "<ellipse fill=\"none\" stroke=\"#c1cdcd\" cx=\"74.82\" cy=\"-10.61\" rx=\"10.71\" ry=\"10.71\"/>\n",
       "<text text-anchor=\"middle\" x=\"74.82\" y=\"-7.51\" font-family=\"DejaVu Serif,serif\" font-size=\"12.00\" fill=\"#c1cdcd\">1</text>\n",
       "</g>\n",
       "<!-- 0&#45;&gt;1 -->\n",
       "<g id=\"edge1\" class=\"edge\">\n",
       "<title>0&#45;&gt;1</title>\n",
       "<path fill=\"none\" stroke=\"#c1cdcd\" d=\"M21.33,-10.61C31.4,-10.61 47.28,-10.61 58.94,-10.61\"/>\n",
       "<polygon fill=\"#c1cdcd\" stroke=\"#c1cdcd\" points=\"58.96,-12.36 63.96,-10.61 58.96,-8.86 58.96,-12.36\"/>\n",
       "<text text-anchor=\"middle\" x=\"42.71\" y=\"-13.61\" font-family=\"DejaVu Serif,serif\" font-size=\"10.00\" fill=\"#c1cdcd\">0</text>\n",
       "</g>\n",
       "</g>\n",
       "</svg>\n"
      ],
      "text/plain": [
       "GAP: <A monomorphism in FinQuivers>"
      ]
     },
     "execution_count": 16,
     "metadata": {},
     "output_type": "execute_result"
    }
   ],
   "source": [
    "s = FinQuivers.s"
   ]
  },
  {
   "cell_type": "code",
   "execution_count": 17,
   "id": "4f16a1cc",
   "metadata": {},
   "outputs": [
    {
     "name": "stdout",
     "output_type": "stream",
     "text": [
      "Image of <(V)>:\n",
      "{ 0 } ⱶ[ 0 ]→ { 0, 1 }\n",
      "\n",
      "Image of <(A)>:\n",
      "∅ ⱶ[  ]→ { 0 }\n",
      "\n",
      "A morphism in FinQuivers given by the above data\n"
     ]
    }
   ],
   "source": [
    "Display( s )"
   ]
  },
  {
   "cell_type": "markdown",
   "id": "9d0f3fa6",
   "metadata": {},
   "source": [
    "The image of the abstract action $t \\in C$ under $Y$ is the action $t \\in \\mathbf{FinQuivers}$, again called \"*target*\":"
   ]
  },
  {
   "cell_type": "code",
   "execution_count": 18,
   "id": "8e6f62e2",
   "metadata": {},
   "outputs": [
    {
     "data": {
      "image/svg+xml": [
       "<?xml version=\"1.0\" encoding=\"UTF-8\" standalone=\"no\"?>\n",
       "<!DOCTYPE svg PUBLIC \"-//W3C//DTD SVG 1.1//EN\"\n",
       " \"http://www.w3.org/Graphics/SVG/1.1/DTD/svg11.dtd\">\n",
       "<!-- Generated by graphviz version 2.50.0 (20211204.2007)\n",
       " -->\n",
       "<!-- Title: subquiver Pages: 1 -->\n",
       "<svg width=\"93pt\" height=\"30pt\"\n",
       " viewBox=\"0.00 0.00 93.43 29.61\" xmlns=\"http://www.w3.org/2000/svg\" xmlns:xlink=\"http://www.w3.org/1999/xlink\">\n",
       "<g id=\"graph0\" class=\"graph\" transform=\"scale(1 1) rotate(0) translate(4 25.61)\">\n",
       "<title>subquiver</title>\n",
       "<polygon fill=\"white\" stroke=\"transparent\" points=\"-4,4 -4,-25.61 89.43,-25.61 89.43,4 -4,4\"/>\n",
       "<!-- 0 -->\n",
       "<g id=\"node1\" class=\"node\">\n",
       "<title>0</title>\n",
       "<ellipse fill=\"none\" stroke=\"#c1cdcd\" cx=\"10.61\" cy=\"-10.61\" rx=\"10.71\" ry=\"10.71\"/>\n",
       "<text text-anchor=\"middle\" x=\"10.61\" y=\"-7.51\" font-family=\"DejaVu Serif,serif\" font-size=\"12.00\" fill=\"#c1cdcd\">0</text>\n",
       "</g>\n",
       "<!-- 1 -->\n",
       "<g id=\"node2\" class=\"node\">\n",
       "<title>1</title>\n",
       "<ellipse fill=\"none\" stroke=\"black\" cx=\"74.82\" cy=\"-10.61\" rx=\"10.71\" ry=\"10.71\"/>\n",
       "<text text-anchor=\"middle\" x=\"74.82\" y=\"-7.51\" font-family=\"DejaVu Serif,serif\" font-size=\"12.00\">1</text>\n",
       "</g>\n",
       "<!-- 0&#45;&gt;1 -->\n",
       "<g id=\"edge1\" class=\"edge\">\n",
       "<title>0&#45;&gt;1</title>\n",
       "<path fill=\"none\" stroke=\"#c1cdcd\" d=\"M21.33,-10.61C31.4,-10.61 47.28,-10.61 58.94,-10.61\"/>\n",
       "<polygon fill=\"#c1cdcd\" stroke=\"#c1cdcd\" points=\"58.96,-12.36 63.96,-10.61 58.96,-8.86 58.96,-12.36\"/>\n",
       "<text text-anchor=\"middle\" x=\"42.71\" y=\"-13.61\" font-family=\"DejaVu Serif,serif\" font-size=\"10.00\" fill=\"#c1cdcd\">0</text>\n",
       "</g>\n",
       "</g>\n",
       "</svg>\n"
      ],
      "text/plain": [
       "GAP: <A monomorphism in FinQuivers>"
      ]
     },
     "execution_count": 18,
     "metadata": {},
     "output_type": "execute_result"
    }
   ],
   "source": [
    "t = FinQuivers.t"
   ]
  },
  {
   "cell_type": "code",
   "execution_count": 19,
   "id": "ee488e32",
   "metadata": {},
   "outputs": [
    {
     "name": "stdout",
     "output_type": "stream",
     "text": [
      "Image of <(V)>:\n",
      "{ 0 } ⱶ[ 1 ]→ { 0, 1 }\n",
      "\n",
      "Image of <(A)>:\n",
      "∅ ⱶ[  ]→ { 0 }\n",
      "\n",
      "A morphism in FinQuivers given by the above data\n"
     ]
    }
   ],
   "source": [
    "Display( t )"
   ]
  },
  {
   "cell_type": "markdown",
   "id": "be685114",
   "metadata": {},
   "source": [
    "---\n",
    "The generic figures $V$ and $A$ were prior to the compilation modeled as *presheaves* $\\mathbf{C}^\\mathrm{op} \\to \\mathbf{SkeletalFinSets}$ with the following internal data:"
   ]
  },
  {
   "cell_type": "code",
   "execution_count": 20,
   "id": "9ce8c9b7",
   "metadata": {},
   "outputs": [
    {
     "name": "stdout",
     "output_type": "stream",
     "text": [
      "Image of <(V)>:\n",
      "{ 0 }\n",
      "\n",
      "Image of <(A)>:\n",
      "∅\n",
      "\n",
      "Image of (V)-[(s)]->(A):\n",
      "∅ ⱶ[  ]→ { 0 }\n",
      "\n",
      "Image of (V)-[(t)]->(A):\n",
      "∅ ⱶ[  ]→ { 0 }\n",
      "\n",
      "An object in PreSheaves( PathCategory( FinQuiver( \"q(V,A)[s:V→A,t:V→A]\" ) ), SkeletalFinSets ) given by the above data\n",
      "\n",
      "An object in FiniteCocompletion( PathCategory( FinQuiver( \"q(V,A)[s:V→A,t:V→A]\" ) ) ) given by the above data\n"
     ]
    }
   ],
   "source": [
    "Display( ModelingObject( FinQuivers, V ) )"
   ]
  },
  {
   "cell_type": "code",
   "execution_count": 21,
   "id": "2cfc9615",
   "metadata": {},
   "outputs": [
    {
     "name": "stdout",
     "output_type": "stream",
     "text": [
      "Image of <(V)>:\n",
      "{ 0, 1 }\n",
      "\n",
      "Image of <(A)>:\n",
      "{ 0 }\n",
      "\n",
      "Image of (V)-[(s)]->(A):\n",
      "{ 0 } ⱶ[ 0 ]→ { 0, 1 }\n",
      "\n",
      "Image of (V)-[(t)]->(A):\n",
      "{ 0 } ⱶ[ 1 ]→ { 0, 1 }\n",
      "\n",
      "An object in PreSheaves( PathCategory( FinQuiver( \"q(V,A)[s:V→A,t:V→A]\" ) ), SkeletalFinSets ) given by the above data\n",
      "\n",
      "An object in FiniteCocompletion( PathCategory( FinQuiver( \"q(V,A)[s:V→A,t:V→A]\" ) ) ) given by the above data\n"
     ]
    }
   ],
   "source": [
    "Display( ModelingObject( FinQuivers, A ) )"
   ]
  },
  {
   "cell_type": "markdown",
   "id": "962c3e58",
   "metadata": {},
   "source": [
    "---\n",
    "The actions $s$ and $t$ were were prior to the compilation modeled as *natural transformation* between the presheaves $V$ and $A$ with the following internal data:"
   ]
  },
  {
   "cell_type": "code",
   "execution_count": 22,
   "id": "8e9b2e46",
   "metadata": {},
   "outputs": [
    {
     "name": "stdout",
     "output_type": "stream",
     "text": [
      "Image of <(V)>:\n",
      "{ 0 } ⱶ[ 0 ]→ { 0, 1 }\n",
      "\n",
      "Image of <(A)>:\n",
      "∅ ⱶ[  ]→ { 0 }\n",
      "\n",
      "A morphism in PreSheaves( PathCategory( FinQuiver( \"q(V,A)[s:V→A,t:V→A]\" ) ), SkeletalFinSets ) given by the above data\n",
      "\n",
      "A morphism in FiniteCocompletion( PathCategory( FinQuiver( \"q(V,A)[s:V→A,t:V→A]\" ) ) ) given by the above data\n"
     ]
    }
   ],
   "source": [
    "Display( ModelingMorphism( FinQuivers, s ) )"
   ]
  },
  {
   "cell_type": "code",
   "execution_count": 23,
   "id": "2f950845",
   "metadata": {},
   "outputs": [
    {
     "name": "stdout",
     "output_type": "stream",
     "text": [
      "Image of <(V)>:\n",
      "{ 0 } ⱶ[ 1 ]→ { 0, 1 }\n",
      "\n",
      "Image of <(A)>:\n",
      "∅ ⱶ[  ]→ { 0 }\n",
      "\n",
      "A morphism in PreSheaves( PathCategory( FinQuiver( \"q(V,A)[s:V→A,t:V→A]\" ) ), SkeletalFinSets ) given by the above data\n",
      "\n",
      "A morphism in FiniteCocompletion( PathCategory( FinQuiver( \"q(V,A)[s:V→A,t:V→A]\" ) ) ) given by the above data\n"
     ]
    }
   ],
   "source": [
    "Display( ModelingMorphism( FinQuivers, t ) )"
   ]
  },
  {
   "cell_type": "markdown",
   "id": "c6f4b605",
   "metadata": {},
   "source": [
    "---\n",
    "As mentioned above, the topos $\\mathbf{FinQuivers}$ is the finite (colimit) cocompletion of $\\mathbf{C}$. Hence, all objects in $\\mathbf{FinQuivers}$ are colimits of diagrams in $\\mathbf{FinQuivers}$ only involving (copies of) the generic figures and the actions. One says, all objects in $\\mathbf{FinQuivers}$ can be constructed out of copies of generic figures glued togehter using the actions:"
   ]
  },
  {
   "cell_type": "markdown",
   "id": "244743c4",
   "metadata": {},
   "source": [
    "One can recover the loop by gluing the ends of the arrow $A$ to the same vertex $V$:"
   ]
  },
  {
   "cell_type": "code",
   "execution_count": 24,
   "id": "7de70d59-6847-46cc-8fc4-692e93976c27",
   "metadata": {},
   "outputs": [
    {
     "data": {
      "image/svg+xml": [
       "<?xml version=\"1.0\" encoding=\"UTF-8\" standalone=\"no\"?>\n",
       "<!DOCTYPE svg PUBLIC \"-//W3C//DTD SVG 1.1//EN\"\n",
       " \"http://www.w3.org/Graphics/SVG/1.1/DTD/svg11.dtd\">\n",
       "<!-- Generated by graphviz version 2.50.0 (20211204.2007)\n",
       " -->\n",
       "<!-- Title: quiver Pages: 1 -->\n",
       "<svg width=\"29pt\" height=\"58pt\"\n",
       " viewBox=\"0.00 0.00 29.21 58.21\" xmlns=\"http://www.w3.org/2000/svg\" xmlns:xlink=\"http://www.w3.org/1999/xlink\">\n",
       "<g id=\"graph0\" class=\"graph\" transform=\"scale(1 1) rotate(0) translate(4 54.21)\">\n",
       "<title>quiver</title>\n",
       "<polygon fill=\"white\" stroke=\"transparent\" points=\"-4,4 -4,-54.21 25.21,-54.21 25.21,4 -4,4\"/>\n",
       "<!-- 0 -->\n",
       "<g id=\"node1\" class=\"node\">\n",
       "<title>0</title>\n",
       "<ellipse fill=\"none\" stroke=\"black\" cx=\"10.61\" cy=\"-10.61\" rx=\"10.71\" ry=\"10.71\"/>\n",
       "<text text-anchor=\"middle\" x=\"10.61\" y=\"-7.51\" font-family=\"DejaVu Serif,serif\" font-size=\"12.00\">0</text>\n",
       "</g>\n",
       "<!-- 0&#45;&gt;0 -->\n",
       "<g id=\"edge1\" class=\"edge\">\n",
       "<title>0&#45;&gt;0</title>\n",
       "<path fill=\"none\" stroke=\"black\" d=\"M7.48,-20.87C6.05,-29.78 7.09,-39.21 10.61,-39.21 13.46,-39.21 14.69,-32.99 14.28,-25.87\"/>\n",
       "<polygon fill=\"black\" stroke=\"black\" points=\"16.02,-25.65 13.74,-20.87 12.54,-26.03 16.02,-25.65\"/>\n",
       "<text text-anchor=\"middle\" x=\"10.61\" y=\"-42.21\" font-family=\"DejaVu Serif,serif\" font-size=\"10.00\">0</text>\n",
       "</g>\n",
       "</g>\n",
       "</svg>\n"
      ],
      "text/plain": [
       "GAP: <An object in FinQuivers>"
      ]
     },
     "execution_count": 24,
     "metadata": {},
     "output_type": "execute_result"
    }
   ],
   "source": [
    "T = TerminalObject( FinQuivers )"
   ]
  },
  {
   "cell_type": "code",
   "execution_count": 25,
   "id": "b3775d8d",
   "metadata": {},
   "outputs": [
    {
     "data": {
      "image/svg+xml": [
       "<?xml version=\"1.0\" encoding=\"UTF-8\" standalone=\"no\"?>\n",
       "<!DOCTYPE svg PUBLIC \"-//W3C//DTD SVG 1.1//EN\"\n",
       " \"http://www.w3.org/Graphics/SVG/1.1/DTD/svg11.dtd\">\n",
       "<!-- Generated by graphviz version 2.50.0 (20211204.2007)\n",
       " -->\n",
       "<!-- Title: quiver Pages: 1 -->\n",
       "<svg width=\"29pt\" height=\"58pt\"\n",
       " viewBox=\"0.00 0.00 29.21 58.21\" xmlns=\"http://www.w3.org/2000/svg\" xmlns:xlink=\"http://www.w3.org/1999/xlink\">\n",
       "<g id=\"graph0\" class=\"graph\" transform=\"scale(1 1) rotate(0) translate(4 54.21)\">\n",
       "<title>quiver</title>\n",
       "<polygon fill=\"white\" stroke=\"transparent\" points=\"-4,4 -4,-54.21 25.21,-54.21 25.21,4 -4,4\"/>\n",
       "<!-- 0 -->\n",
       "<g id=\"node1\" class=\"node\">\n",
       "<title>0</title>\n",
       "<ellipse fill=\"none\" stroke=\"black\" cx=\"10.61\" cy=\"-10.61\" rx=\"10.71\" ry=\"10.71\"/>\n",
       "<text text-anchor=\"middle\" x=\"10.61\" y=\"-7.51\" font-family=\"DejaVu Serif,serif\" font-size=\"12.00\">0</text>\n",
       "</g>\n",
       "<!-- 0&#45;&gt;0 -->\n",
       "<g id=\"edge1\" class=\"edge\">\n",
       "<title>0&#45;&gt;0</title>\n",
       "<path fill=\"none\" stroke=\"black\" d=\"M7.48,-20.87C6.05,-29.78 7.09,-39.21 10.61,-39.21 13.46,-39.21 14.69,-32.99 14.28,-25.87\"/>\n",
       "<polygon fill=\"black\" stroke=\"black\" points=\"16.02,-25.65 13.74,-20.87 12.54,-26.03 16.02,-25.65\"/>\n",
       "<text text-anchor=\"middle\" x=\"10.61\" y=\"-42.21\" font-family=\"DejaVu Serif,serif\" font-size=\"10.00\">0</text>\n",
       "</g>\n",
       "</g>\n",
       "</svg>\n"
      ],
      "text/plain": [
       "GAP: <An object in FinQuivers>"
      ]
     },
     "execution_count": 25,
     "metadata": {},
     "output_type": "execute_result"
    }
   ],
   "source": [
    "Colimit( [ V,   # the object named 0 is the generic figure V (\"the vertex\")\n",
    "           A ], # the object named 1 is the generic figure A (\"the arrow\")\n",
    "         [ [ 0, s, 1 ], [ 0, t, 1 ] # 0=V is the source and target of 1=A\n",
    "         ] )"
   ]
  },
  {
   "cell_type": "code",
   "execution_count": 26,
   "id": "71e31ba9",
   "metadata": {},
   "outputs": [
    {
     "data": {
      "image/svg+xml": [
       "<?xml version=\"1.0\" encoding=\"UTF-8\" standalone=\"no\"?>\n",
       "<!DOCTYPE svg PUBLIC \"-//W3C//DTD SVG 1.1//EN\"\n",
       " \"http://www.w3.org/Graphics/SVG/1.1/DTD/svg11.dtd\">\n",
       "<!-- Generated by graphviz version 2.50.0 (20211204.2007)\n",
       " -->\n",
       "<!-- Title: quiver Pages: 1 -->\n",
       "<svg width=\"158pt\" height=\"30pt\"\n",
       " viewBox=\"0.00 0.00 157.64 29.61\" xmlns=\"http://www.w3.org/2000/svg\" xmlns:xlink=\"http://www.w3.org/1999/xlink\">\n",
       "<g id=\"graph0\" class=\"graph\" transform=\"scale(1 1) rotate(0) translate(4 25.61)\">\n",
       "<title>quiver</title>\n",
       "<polygon fill=\"white\" stroke=\"transparent\" points=\"-4,4 -4,-25.61 153.64,-25.61 153.64,4 -4,4\"/>\n",
       "<!-- 0 -->\n",
       "<g id=\"node1\" class=\"node\">\n",
       "<title>0</title>\n",
       "<ellipse fill=\"none\" stroke=\"black\" cx=\"10.61\" cy=\"-10.61\" rx=\"10.71\" ry=\"10.71\"/>\n",
       "<text text-anchor=\"middle\" x=\"10.61\" y=\"-7.51\" font-family=\"DejaVu Serif,serif\" font-size=\"12.00\">0</text>\n",
       "</g>\n",
       "<!-- 1 -->\n",
       "<g id=\"node2\" class=\"node\">\n",
       "<title>1</title>\n",
       "<ellipse fill=\"none\" stroke=\"black\" cx=\"74.82\" cy=\"-10.61\" rx=\"10.71\" ry=\"10.71\"/>\n",
       "<text text-anchor=\"middle\" x=\"74.82\" y=\"-7.51\" font-family=\"DejaVu Serif,serif\" font-size=\"12.00\">1</text>\n",
       "</g>\n",
       "<!-- 0&#45;&gt;1 -->\n",
       "<g id=\"edge1\" class=\"edge\">\n",
       "<title>0&#45;&gt;1</title>\n",
       "<path fill=\"none\" stroke=\"black\" d=\"M21.33,-10.61C31.4,-10.61 47.28,-10.61 58.94,-10.61\"/>\n",
       "<polygon fill=\"black\" stroke=\"black\" points=\"58.96,-12.36 63.96,-10.61 58.96,-8.86 58.96,-12.36\"/>\n",
       "<text text-anchor=\"middle\" x=\"42.71\" y=\"-13.61\" font-family=\"DejaVu Serif,serif\" font-size=\"10.00\">0</text>\n",
       "</g>\n",
       "<!-- 2 -->\n",
       "<g id=\"node3\" class=\"node\">\n",
       "<title>2</title>\n",
       "<ellipse fill=\"none\" stroke=\"black\" cx=\"139.03\" cy=\"-10.61\" rx=\"10.71\" ry=\"10.71\"/>\n",
       "<text text-anchor=\"middle\" x=\"139.03\" y=\"-7.51\" font-family=\"DejaVu Serif,serif\" font-size=\"12.00\">2</text>\n",
       "</g>\n",
       "<!-- 1&#45;&gt;2 -->\n",
       "<g id=\"edge2\" class=\"edge\">\n",
       "<title>1&#45;&gt;2</title>\n",
       "<path fill=\"none\" stroke=\"black\" d=\"M85.54,-10.61C95.62,-10.61 111.5,-10.61 123.15,-10.61\"/>\n",
       "<polygon fill=\"black\" stroke=\"black\" points=\"123.18,-12.36 128.18,-10.61 123.18,-8.86 123.18,-12.36\"/>\n",
       "<text text-anchor=\"middle\" x=\"106.93\" y=\"-13.61\" font-family=\"DejaVu Serif,serif\" font-size=\"10.00\">1</text>\n",
       "</g>\n",
       "</g>\n",
       "</svg>\n"
      ],
      "text/plain": [
       "GAP: <An object in FinQuivers>"
      ]
     },
     "execution_count": 26,
     "metadata": {},
     "output_type": "execute_result"
    }
   ],
   "source": [
    "Colimit( [ V, V, V, # the objects named 0,1,2 are copies of the generic figure V\n",
    "           A, A ],  # the objects named 3,4 are copies the generic figure A\n",
    "         [ [ 0, s, 3 ], [ 1, t, 3 ], # 0=V is the source of 3=A and 1=V is the target of 3=A\n",
    "           [ 1, s, 4 ], [ 2, t, 4 ]  # 1=V is the source of 4=A and 2=V is the target of 4=A\n",
    "         ] )"
   ]
  },
  {
   "cell_type": "markdown",
   "id": "fc4caccc",
   "metadata": {},
   "source": [
    "One can recover the above figure using less gluings of less generic figures:"
   ]
  },
  {
   "cell_type": "code",
   "execution_count": 27,
   "id": "981194a9",
   "metadata": {},
   "outputs": [
    {
     "data": {
      "image/svg+xml": [
       "<?xml version=\"1.0\" encoding=\"UTF-8\" standalone=\"no\"?>\n",
       "<!DOCTYPE svg PUBLIC \"-//W3C//DTD SVG 1.1//EN\"\n",
       " \"http://www.w3.org/Graphics/SVG/1.1/DTD/svg11.dtd\">\n",
       "<!-- Generated by graphviz version 2.50.0 (20211204.2007)\n",
       " -->\n",
       "<!-- Title: quiver Pages: 1 -->\n",
       "<svg width=\"158pt\" height=\"30pt\"\n",
       " viewBox=\"0.00 0.00 157.64 29.61\" xmlns=\"http://www.w3.org/2000/svg\" xmlns:xlink=\"http://www.w3.org/1999/xlink\">\n",
       "<g id=\"graph0\" class=\"graph\" transform=\"scale(1 1) rotate(0) translate(4 25.61)\">\n",
       "<title>quiver</title>\n",
       "<polygon fill=\"white\" stroke=\"transparent\" points=\"-4,4 -4,-25.61 153.64,-25.61 153.64,4 -4,4\"/>\n",
       "<!-- 0 -->\n",
       "<g id=\"node1\" class=\"node\">\n",
       "<title>0</title>\n",
       "<ellipse fill=\"none\" stroke=\"black\" cx=\"10.61\" cy=\"-10.61\" rx=\"10.71\" ry=\"10.71\"/>\n",
       "<text text-anchor=\"middle\" x=\"10.61\" y=\"-7.51\" font-family=\"DejaVu Serif,serif\" font-size=\"12.00\">0</text>\n",
       "</g>\n",
       "<!-- 1 -->\n",
       "<g id=\"node2\" class=\"node\">\n",
       "<title>1</title>\n",
       "<ellipse fill=\"none\" stroke=\"black\" cx=\"74.82\" cy=\"-10.61\" rx=\"10.71\" ry=\"10.71\"/>\n",
       "<text text-anchor=\"middle\" x=\"74.82\" y=\"-7.51\" font-family=\"DejaVu Serif,serif\" font-size=\"12.00\">1</text>\n",
       "</g>\n",
       "<!-- 0&#45;&gt;1 -->\n",
       "<g id=\"edge1\" class=\"edge\">\n",
       "<title>0&#45;&gt;1</title>\n",
       "<path fill=\"none\" stroke=\"black\" d=\"M21.33,-10.61C31.4,-10.61 47.28,-10.61 58.94,-10.61\"/>\n",
       "<polygon fill=\"black\" stroke=\"black\" points=\"58.96,-12.36 63.96,-10.61 58.96,-8.86 58.96,-12.36\"/>\n",
       "<text text-anchor=\"middle\" x=\"42.71\" y=\"-13.61\" font-family=\"DejaVu Serif,serif\" font-size=\"10.00\">0</text>\n",
       "</g>\n",
       "<!-- 2 -->\n",
       "<g id=\"node3\" class=\"node\">\n",
       "<title>2</title>\n",
       "<ellipse fill=\"none\" stroke=\"black\" cx=\"139.03\" cy=\"-10.61\" rx=\"10.71\" ry=\"10.71\"/>\n",
       "<text text-anchor=\"middle\" x=\"139.03\" y=\"-7.51\" font-family=\"DejaVu Serif,serif\" font-size=\"12.00\">2</text>\n",
       "</g>\n",
       "<!-- 1&#45;&gt;2 -->\n",
       "<g id=\"edge2\" class=\"edge\">\n",
       "<title>1&#45;&gt;2</title>\n",
       "<path fill=\"none\" stroke=\"black\" d=\"M85.54,-10.61C95.62,-10.61 111.5,-10.61 123.15,-10.61\"/>\n",
       "<polygon fill=\"black\" stroke=\"black\" points=\"123.18,-12.36 128.18,-10.61 123.18,-8.86 123.18,-12.36\"/>\n",
       "<text text-anchor=\"middle\" x=\"106.93\" y=\"-13.61\" font-family=\"DejaVu Serif,serif\" font-size=\"10.00\">1</text>\n",
       "</g>\n",
       "</g>\n",
       "</svg>\n"
      ],
      "text/plain": [
       "GAP: <An object in FinQuivers>"
      ]
     },
     "execution_count": 27,
     "metadata": {},
     "output_type": "execute_result"
    }
   ],
   "source": [
    "Colimit( [ A, V, A ],\n",
    "         [ [ 1, t, 0 ], # 1=V is the target of 0=A\n",
    "           [ 1, s, 2 ]  # 1=V is the source of 2=A\n",
    "         ] )"
   ]
  },
  {
   "cell_type": "markdown",
   "id": "105a78dc",
   "metadata": {},
   "source": [
    "More figures through gluings:"
   ]
  },
  {
   "cell_type": "code",
   "execution_count": 28,
   "id": "c30dc766",
   "metadata": {},
   "outputs": [
    {
     "data": {
      "image/svg+xml": [
       "<?xml version=\"1.0\" encoding=\"UTF-8\" standalone=\"no\"?>\n",
       "<!DOCTYPE svg PUBLIC \"-//W3C//DTD SVG 1.1//EN\"\n",
       " \"http://www.w3.org/Graphics/SVG/1.1/DTD/svg11.dtd\">\n",
       "<!-- Generated by graphviz version 2.50.0 (20211204.2007)\n",
       " -->\n",
       "<!-- Title: quiver Pages: 1 -->\n",
       "<svg width=\"93pt\" height=\"68pt\"\n",
       " viewBox=\"0.00 0.00 93.43 68.21\" xmlns=\"http://www.w3.org/2000/svg\" xmlns:xlink=\"http://www.w3.org/1999/xlink\">\n",
       "<g id=\"graph0\" class=\"graph\" transform=\"scale(1 1) rotate(0) translate(4 64.21)\">\n",
       "<title>quiver</title>\n",
       "<polygon fill=\"white\" stroke=\"transparent\" points=\"-4,4 -4,-64.21 89.43,-64.21 89.43,4 -4,4\"/>\n",
       "<!-- 0 -->\n",
       "<g id=\"node1\" class=\"node\">\n",
       "<title>0</title>\n",
       "<ellipse fill=\"none\" stroke=\"black\" cx=\"10.61\" cy=\"-29.61\" rx=\"10.71\" ry=\"10.71\"/>\n",
       "<text text-anchor=\"middle\" x=\"10.61\" y=\"-26.51\" font-family=\"DejaVu Serif,serif\" font-size=\"12.00\">0</text>\n",
       "</g>\n",
       "<!-- 1 -->\n",
       "<g id=\"node2\" class=\"node\">\n",
       "<title>1</title>\n",
       "<ellipse fill=\"none\" stroke=\"black\" cx=\"74.82\" cy=\"-49.61\" rx=\"10.71\" ry=\"10.71\"/>\n",
       "<text text-anchor=\"middle\" x=\"74.82\" y=\"-46.51\" font-family=\"DejaVu Serif,serif\" font-size=\"12.00\">1</text>\n",
       "</g>\n",
       "<!-- 0&#45;&gt;1 -->\n",
       "<g id=\"edge1\" class=\"edge\">\n",
       "<title>0&#45;&gt;1</title>\n",
       "<path fill=\"none\" stroke=\"black\" d=\"M21.06,-32.64C31.2,-35.9 47.43,-41.12 59.22,-44.91\"/>\n",
       "<polygon fill=\"black\" stroke=\"black\" points=\"58.99,-46.68 64.28,-46.54 60.06,-43.34 58.99,-46.68\"/>\n",
       "<text text-anchor=\"middle\" x=\"42.71\" y=\"-42.61\" font-family=\"DejaVu Serif,serif\" font-size=\"10.00\">0</text>\n",
       "</g>\n",
       "<!-- 2 -->\n",
       "<g id=\"node3\" class=\"node\">\n",
       "<title>2</title>\n",
       "<ellipse fill=\"none\" stroke=\"black\" cx=\"74.82\" cy=\"-10.61\" rx=\"10.71\" ry=\"10.71\"/>\n",
       "<text text-anchor=\"middle\" x=\"74.82\" y=\"-7.51\" font-family=\"DejaVu Serif,serif\" font-size=\"12.00\">2</text>\n",
       "</g>\n",
       "<!-- 0&#45;&gt;2 -->\n",
       "<g id=\"edge2\" class=\"edge\">\n",
       "<title>0&#45;&gt;2</title>\n",
       "<path fill=\"none\" stroke=\"black\" d=\"M20.56,-24.64C25.85,-21.9 32.75,-18.65 39.21,-16.61 45.66,-14.57 53.02,-13.17 59.29,-12.24\"/>\n",
       "<polygon fill=\"black\" stroke=\"black\" points=\"59.54,-13.97 64.26,-11.57 59.07,-10.51 59.54,-13.97\"/>\n",
       "<text text-anchor=\"middle\" x=\"42.71\" y=\"-19.61\" font-family=\"DejaVu Serif,serif\" font-size=\"10.00\">1</text>\n",
       "</g>\n",
       "</g>\n",
       "</svg>\n"
      ],
      "text/plain": [
       "GAP: <An object in FinQuivers>"
      ]
     },
     "execution_count": 28,
     "metadata": {},
     "output_type": "execute_result"
    }
   ],
   "source": [
    "Colimit( [ V, A, A ],\n",
    "         [ [ 0, s, 1 ], [ 0, s, 2 ] ] )"
   ]
  },
  {
   "cell_type": "code",
   "execution_count": 29,
   "id": "a18f32cb",
   "metadata": {},
   "outputs": [
    {
     "data": {
      "image/svg+xml": [
       "<?xml version=\"1.0\" encoding=\"UTF-8\" standalone=\"no\"?>\n",
       "<!DOCTYPE svg PUBLIC \"-//W3C//DTD SVG 1.1//EN\"\n",
       " \"http://www.w3.org/Graphics/SVG/1.1/DTD/svg11.dtd\">\n",
       "<!-- Generated by graphviz version 2.50.0 (20211204.2007)\n",
       " -->\n",
       "<!-- Title: quiver Pages: 1 -->\n",
       "<svg width=\"93pt\" height=\"68pt\"\n",
       " viewBox=\"0.00 0.00 93.43 68.21\" xmlns=\"http://www.w3.org/2000/svg\" xmlns:xlink=\"http://www.w3.org/1999/xlink\">\n",
       "<g id=\"graph0\" class=\"graph\" transform=\"scale(1 1) rotate(0) translate(4 64.21)\">\n",
       "<title>quiver</title>\n",
       "<polygon fill=\"white\" stroke=\"transparent\" points=\"-4,4 -4,-64.21 89.43,-64.21 89.43,4 -4,4\"/>\n",
       "<!-- 0 -->\n",
       "<g id=\"node1\" class=\"node\">\n",
       "<title>0</title>\n",
       "<ellipse fill=\"none\" stroke=\"black\" cx=\"74.82\" cy=\"-29.61\" rx=\"10.71\" ry=\"10.71\"/>\n",
       "<text text-anchor=\"middle\" x=\"74.82\" y=\"-26.51\" font-family=\"DejaVu Serif,serif\" font-size=\"12.00\">0</text>\n",
       "</g>\n",
       "<!-- 1 -->\n",
       "<g id=\"node2\" class=\"node\">\n",
       "<title>1</title>\n",
       "<ellipse fill=\"none\" stroke=\"black\" cx=\"10.61\" cy=\"-49.61\" rx=\"10.71\" ry=\"10.71\"/>\n",
       "<text text-anchor=\"middle\" x=\"10.61\" y=\"-46.51\" font-family=\"DejaVu Serif,serif\" font-size=\"12.00\">1</text>\n",
       "</g>\n",
       "<!-- 1&#45;&gt;0 -->\n",
       "<g id=\"edge1\" class=\"edge\">\n",
       "<title>1&#45;&gt;0</title>\n",
       "<path fill=\"none\" stroke=\"black\" d=\"M21.06,-46.57C31.2,-43.31 47.43,-38.09 59.22,-34.3\"/>\n",
       "<polygon fill=\"black\" stroke=\"black\" points=\"60.06,-35.87 64.28,-32.67 58.99,-32.54 60.06,-35.87\"/>\n",
       "<text text-anchor=\"middle\" x=\"42.71\" y=\"-42.61\" font-family=\"DejaVu Serif,serif\" font-size=\"10.00\">0</text>\n",
       "</g>\n",
       "<!-- 2 -->\n",
       "<g id=\"node3\" class=\"node\">\n",
       "<title>2</title>\n",
       "<ellipse fill=\"none\" stroke=\"black\" cx=\"10.61\" cy=\"-10.61\" rx=\"10.71\" ry=\"10.71\"/>\n",
       "<text text-anchor=\"middle\" x=\"10.61\" y=\"-7.51\" font-family=\"DejaVu Serif,serif\" font-size=\"12.00\">2</text>\n",
       "</g>\n",
       "<!-- 2&#45;&gt;0 -->\n",
       "<g id=\"edge2\" class=\"edge\">\n",
       "<title>2&#45;&gt;0</title>\n",
       "<path fill=\"none\" stroke=\"black\" d=\"M21.17,-11.57C28.21,-12.44 37.96,-14 46.21,-16.61 50.96,-18.11 55.95,-20.26 60.35,-22.38\"/>\n",
       "<polygon fill=\"black\" stroke=\"black\" points=\"59.61,-23.97 64.87,-24.64 61.18,-20.84 59.61,-23.97\"/>\n",
       "<text text-anchor=\"middle\" x=\"42.71\" y=\"-19.61\" font-family=\"DejaVu Serif,serif\" font-size=\"10.00\">1</text>\n",
       "</g>\n",
       "</g>\n",
       "</svg>\n"
      ],
      "text/plain": [
       "GAP: <An object in FinQuivers>"
      ]
     },
     "execution_count": 29,
     "metadata": {},
     "output_type": "execute_result"
    }
   ],
   "source": [
    "Colimit( [ V, A, A ],\n",
    "         [ [ 0, t, 1 ], [ 0, t, 2 ] ] )"
   ]
  },
  {
   "cell_type": "markdown",
   "id": "19faa962",
   "metadata": {},
   "source": [
    "Now we construct a quiver $G$ using the standard object constructor of the category $\\mathbf{FinQuivers}$:"
   ]
  },
  {
   "cell_type": "code",
   "execution_count": 30,
   "id": "a6267c9d",
   "metadata": {},
   "outputs": [
    {
     "data": {
      "image/svg+xml": [
       "<?xml version=\"1.0\" encoding=\"UTF-8\" standalone=\"no\"?>\n",
       "<!DOCTYPE svg PUBLIC \"-//W3C//DTD SVG 1.1//EN\"\n",
       " \"http://www.w3.org/Graphics/SVG/1.1/DTD/svg11.dtd\">\n",
       "<!-- Generated by graphviz version 2.50.0 (20211204.2007)\n",
       " -->\n",
       "<!-- Title: quiver Pages: 1 -->\n",
       "<svg width=\"222pt\" height=\"131pt\"\n",
       " viewBox=\"0.00 0.00 221.85 131.21\" xmlns=\"http://www.w3.org/2000/svg\" xmlns:xlink=\"http://www.w3.org/1999/xlink\">\n",
       "<g id=\"graph0\" class=\"graph\" transform=\"scale(1 1) rotate(0) translate(4 127.21)\">\n",
       "<title>quiver</title>\n",
       "<polygon fill=\"white\" stroke=\"transparent\" points=\"-4,4 -4,-127.21 217.85,-127.21 217.85,4 -4,4\"/>\n",
       "<!-- 0 -->\n",
       "<g id=\"node1\" class=\"node\">\n",
       "<title>0</title>\n",
       "<ellipse fill=\"none\" stroke=\"black\" cx=\"10.61\" cy=\"-15.61\" rx=\"10.71\" ry=\"10.71\"/>\n",
       "<text text-anchor=\"middle\" x=\"10.61\" y=\"-12.51\" font-family=\"DejaVu Serif,serif\" font-size=\"12.00\">0</text>\n",
       "</g>\n",
       "<!-- 1 -->\n",
       "<g id=\"node2\" class=\"node\">\n",
       "<title>1</title>\n",
       "<ellipse fill=\"none\" stroke=\"black\" cx=\"74.82\" cy=\"-33.61\" rx=\"10.71\" ry=\"10.71\"/>\n",
       "<text text-anchor=\"middle\" x=\"74.82\" y=\"-30.51\" font-family=\"DejaVu Serif,serif\" font-size=\"12.00\">1</text>\n",
       "</g>\n",
       "<!-- 0&#45;&gt;1 -->\n",
       "<g id=\"edge1\" class=\"edge\">\n",
       "<title>0&#45;&gt;1</title>\n",
       "<path fill=\"none\" stroke=\"black\" d=\"M21.06,-18.34C31.2,-21.27 47.43,-25.97 59.22,-29.38\"/>\n",
       "<polygon fill=\"black\" stroke=\"black\" points=\"58.99,-31.14 64.28,-30.85 59.97,-27.78 58.99,-31.14\"/>\n",
       "<text text-anchor=\"middle\" x=\"42.71\" y=\"-28.61\" font-family=\"DejaVu Serif,serif\" font-size=\"10.00\">0</text>\n",
       "</g>\n",
       "<!-- 2 -->\n",
       "<g id=\"node3\" class=\"node\">\n",
       "<title>2</title>\n",
       "<ellipse fill=\"none\" stroke=\"black\" cx=\"139.03\" cy=\"-40.61\" rx=\"10.71\" ry=\"10.71\"/>\n",
       "<text text-anchor=\"middle\" x=\"139.03\" y=\"-37.51\" font-family=\"DejaVu Serif,serif\" font-size=\"12.00\">2</text>\n",
       "</g>\n",
       "<!-- 1&#45;&gt;2 -->\n",
       "<g id=\"edge2\" class=\"edge\">\n",
       "<title>1&#45;&gt;2</title>\n",
       "<path fill=\"none\" stroke=\"black\" d=\"M85.54,-34.7C95.62,-35.83 111.5,-37.62 123.15,-38.93\"/>\n",
       "<polygon fill=\"black\" stroke=\"black\" points=\"123.01,-40.68 128.18,-39.5 123.4,-37.2 123.01,-40.68\"/>\n",
       "<text text-anchor=\"middle\" x=\"106.93\" y=\"-40.61\" font-family=\"DejaVu Serif,serif\" font-size=\"10.00\">1</text>\n",
       "</g>\n",
       "<!-- 3 -->\n",
       "<g id=\"node4\" class=\"node\">\n",
       "<title>3</title>\n",
       "<ellipse fill=\"none\" stroke=\"black\" cx=\"203.25\" cy=\"-10.61\" rx=\"10.71\" ry=\"10.71\"/>\n",
       "<text text-anchor=\"middle\" x=\"203.25\" y=\"-7.51\" font-family=\"DejaVu Serif,serif\" font-size=\"12.00\">3</text>\n",
       "</g>\n",
       "<!-- 2&#45;&gt;3 -->\n",
       "<g id=\"edge3\" class=\"edge\">\n",
       "<title>2&#45;&gt;3</title>\n",
       "<path fill=\"none\" stroke=\"black\" d=\"M148.95,-36.31C159.3,-31.32 176.48,-23.03 188.53,-17.22\"/>\n",
       "<polygon fill=\"black\" stroke=\"black\" points=\"189.61,-18.65 193.35,-14.9 188.09,-15.49 189.61,-18.65\"/>\n",
       "<text text-anchor=\"middle\" x=\"171.14\" y=\"-29.61\" font-family=\"DejaVu Serif,serif\" font-size=\"10.00\">2</text>\n",
       "</g>\n",
       "<!-- 7 -->\n",
       "<g id=\"node8\" class=\"node\">\n",
       "<title>7</title>\n",
       "<ellipse fill=\"none\" stroke=\"black\" cx=\"203.25\" cy=\"-63.61\" rx=\"10.71\" ry=\"10.71\"/>\n",
       "<text text-anchor=\"middle\" x=\"203.25\" y=\"-60.51\" font-family=\"DejaVu Serif,serif\" font-size=\"12.00\">7</text>\n",
       "</g>\n",
       "<!-- 2&#45;&gt;7 -->\n",
       "<g id=\"edge7\" class=\"edge\">\n",
       "<title>2&#45;&gt;7</title>\n",
       "<path fill=\"none\" stroke=\"black\" d=\"M149.21,-44C159.5,-47.81 176.31,-54.02 188.25,-58.43\"/>\n",
       "<polygon fill=\"black\" stroke=\"black\" points=\"187.73,-60.11 193.03,-60.2 188.95,-56.82 187.73,-60.11\"/>\n",
       "<text text-anchor=\"middle\" x=\"171.14\" y=\"-56.61\" font-family=\"DejaVu Serif,serif\" font-size=\"10.00\">6</text>\n",
       "</g>\n",
       "<!-- 2&#45;&gt;7 -->\n",
       "<g id=\"edge9\" class=\"edge\">\n",
       "<title>2&#45;&gt;7</title>\n",
       "<path fill=\"none\" stroke=\"black\" d=\"M146.2,-49.17C151.19,-55.32 158.83,-63.11 167.64,-66.61 173.95,-69.11 181.39,-68.83 187.76,-67.74\"/>\n",
       "<polygon fill=\"black\" stroke=\"black\" points=\"188.28,-69.42 192.81,-66.67 187.55,-65.99 188.28,-69.42\"/>\n",
       "<text text-anchor=\"middle\" x=\"171.14\" y=\"-71.61\" font-family=\"DejaVu Serif,serif\" font-size=\"10.00\">8</text>\n",
       "</g>\n",
       "<!-- 3&#45;&gt;0 -->\n",
       "<g id=\"edge4\" class=\"edge\">\n",
       "<title>3&#45;&gt;0</title>\n",
       "<path fill=\"none\" stroke=\"black\" d=\"M192.54,-10.76C170,-11.14 112.37,-12.17 64.21,-13.61 51.45,-13.99 36.96,-14.55 26.42,-14.98\"/>\n",
       "<polygon fill=\"black\" stroke=\"black\" points=\"26.22,-13.24 21.3,-15.19 26.37,-16.73 26.22,-13.24\"/>\n",
       "<text text-anchor=\"middle\" x=\"106.93\" y=\"-15.61\" font-family=\"DejaVu Serif,serif\" font-size=\"10.00\">3</text>\n",
       "</g>\n",
       "<!-- 4 -->\n",
       "<g id=\"node5\" class=\"node\">\n",
       "<title>4</title>\n",
       "<ellipse fill=\"none\" stroke=\"black\" cx=\"10.61\" cy=\"-68.61\" rx=\"10.71\" ry=\"10.71\"/>\n",
       "<text text-anchor=\"middle\" x=\"10.61\" y=\"-65.51\" font-family=\"DejaVu Serif,serif\" font-size=\"12.00\">4</text>\n",
       "</g>\n",
       "<!-- 5 -->\n",
       "<g id=\"node6\" class=\"node\">\n",
       "<title>5</title>\n",
       "<ellipse fill=\"none\" stroke=\"black\" cx=\"74.82\" cy=\"-83.61\" rx=\"10.71\" ry=\"10.71\"/>\n",
       "<text text-anchor=\"middle\" x=\"74.82\" y=\"-80.51\" font-family=\"DejaVu Serif,serif\" font-size=\"12.00\">5</text>\n",
       "</g>\n",
       "<!-- 4&#45;&gt;5 -->\n",
       "<g id=\"edge5\" class=\"edge\">\n",
       "<title>4&#45;&gt;5</title>\n",
       "<path fill=\"none\" stroke=\"black\" d=\"M21.06,-70.88C31.2,-73.33 47.43,-77.24 59.22,-80.09\"/>\n",
       "<polygon fill=\"black\" stroke=\"black\" points=\"59.01,-81.84 64.28,-81.31 59.83,-78.43 59.01,-81.84\"/>\n",
       "<text text-anchor=\"middle\" x=\"42.71\" y=\"-78.61\" font-family=\"DejaVu Serif,serif\" font-size=\"10.00\">4</text>\n",
       "</g>\n",
       "<!-- 5&#45;&gt;4 -->\n",
       "<g id=\"edge8\" class=\"edge\">\n",
       "<title>5&#45;&gt;4</title>\n",
       "<path fill=\"none\" stroke=\"black\" d=\"M67.01,-75.55C61.91,-70.18 54.43,-63.58 46.21,-60.61 39.37,-58.13 31.49,-59.63 24.98,-61.98\"/>\n",
       "<polygon fill=\"black\" stroke=\"black\" points=\"24.28,-60.37 20.31,-63.88 25.6,-63.61 24.28,-60.37\"/>\n",
       "<text text-anchor=\"middle\" x=\"42.71\" y=\"-63.61\" font-family=\"DejaVu Serif,serif\" font-size=\"10.00\">7</text>\n",
       "</g>\n",
       "<!-- 5&#45;&gt;5 -->\n",
       "<g id=\"edge6\" class=\"edge\">\n",
       "<title>5&#45;&gt;5</title>\n",
       "<path fill=\"none\" stroke=\"black\" d=\"M69.97,-93.28C67.45,-102.36 69.07,-112.21 74.82,-112.21 79.49,-112.21 81.44,-105.71 80.65,-98.4\"/>\n",
       "<polygon fill=\"black\" stroke=\"black\" points=\"82.33,-97.86 79.67,-93.28 78.89,-98.52 82.33,-97.86\"/>\n",
       "<text text-anchor=\"middle\" x=\"74.82\" y=\"-115.21\" font-family=\"DejaVu Serif,serif\" font-size=\"10.00\">5</text>\n",
       "</g>\n",
       "<!-- 6 -->\n",
       "<g id=\"node7\" class=\"node\">\n",
       "<title>6</title>\n",
       "<ellipse fill=\"none\" stroke=\"black\" cx=\"10.61\" cy=\"-107.61\" rx=\"10.71\" ry=\"10.71\"/>\n",
       "<text text-anchor=\"middle\" x=\"10.61\" y=\"-104.51\" font-family=\"DejaVu Serif,serif\" font-size=\"12.00\">6</text>\n",
       "</g>\n",
       "</g>\n",
       "</svg>\n"
      ],
      "text/plain": [
       "GAP: <An object in FinQuivers>"
      ]
     },
     "execution_count": 30,
     "metadata": {},
     "output_type": "execute_result"
    }
   ],
   "source": [
    "G = CreateQuiver( 8, [ 0,1,  1,2,  2,3,  3,0,  4,5,  5,5,  2,7,  5,4,  2,7 ] )"
   ]
  },
  {
   "cell_type": "markdown",
   "id": "527f263b",
   "metadata": {},
   "source": [
    "One can (re)construct any figure (here $G \\in \\mathbf{FinQuivers}$) by gluing together copies of the generic figures (here $V,A$) using the actions (here $s,t$).\n",
    "\n",
    "The objects $0,\\ldots,7$ are $8$ copies of the generic figure $V$ and the objects $8,\\ldots,16$ are $9$ copies of the generic figure $A$:"
   ]
  },
  {
   "cell_type": "code",
   "execution_count": 31,
   "id": "9ca777e7",
   "metadata": {},
   "outputs": [
    {
     "data": {
      "image/svg+xml": [
       "<?xml version=\"1.0\" encoding=\"UTF-8\" standalone=\"no\"?>\n",
       "<!DOCTYPE svg PUBLIC \"-//W3C//DTD SVG 1.1//EN\"\n",
       " \"http://www.w3.org/Graphics/SVG/1.1/DTD/svg11.dtd\">\n",
       "<!-- Generated by graphviz version 2.50.0 (20211204.2007)\n",
       " -->\n",
       "<!-- Title: quiver Pages: 1 -->\n",
       "<svg width=\"222pt\" height=\"131pt\"\n",
       " viewBox=\"0.00 0.00 221.85 131.21\" xmlns=\"http://www.w3.org/2000/svg\" xmlns:xlink=\"http://www.w3.org/1999/xlink\">\n",
       "<g id=\"graph0\" class=\"graph\" transform=\"scale(1 1) rotate(0) translate(4 127.21)\">\n",
       "<title>quiver</title>\n",
       "<polygon fill=\"white\" stroke=\"transparent\" points=\"-4,4 -4,-127.21 217.85,-127.21 217.85,4 -4,4\"/>\n",
       "<!-- 0 -->\n",
       "<g id=\"node1\" class=\"node\">\n",
       "<title>0</title>\n",
       "<ellipse fill=\"none\" stroke=\"black\" cx=\"10.61\" cy=\"-15.61\" rx=\"10.71\" ry=\"10.71\"/>\n",
       "<text text-anchor=\"middle\" x=\"10.61\" y=\"-12.51\" font-family=\"DejaVu Serif,serif\" font-size=\"12.00\">0</text>\n",
       "</g>\n",
       "<!-- 1 -->\n",
       "<g id=\"node2\" class=\"node\">\n",
       "<title>1</title>\n",
       "<ellipse fill=\"none\" stroke=\"black\" cx=\"74.82\" cy=\"-33.61\" rx=\"10.71\" ry=\"10.71\"/>\n",
       "<text text-anchor=\"middle\" x=\"74.82\" y=\"-30.51\" font-family=\"DejaVu Serif,serif\" font-size=\"12.00\">1</text>\n",
       "</g>\n",
       "<!-- 0&#45;&gt;1 -->\n",
       "<g id=\"edge1\" class=\"edge\">\n",
       "<title>0&#45;&gt;1</title>\n",
       "<path fill=\"none\" stroke=\"black\" d=\"M21.06,-18.34C31.2,-21.27 47.43,-25.97 59.22,-29.38\"/>\n",
       "<polygon fill=\"black\" stroke=\"black\" points=\"58.99,-31.14 64.28,-30.85 59.97,-27.78 58.99,-31.14\"/>\n",
       "<text text-anchor=\"middle\" x=\"42.71\" y=\"-28.61\" font-family=\"DejaVu Serif,serif\" font-size=\"10.00\">0</text>\n",
       "</g>\n",
       "<!-- 2 -->\n",
       "<g id=\"node3\" class=\"node\">\n",
       "<title>2</title>\n",
       "<ellipse fill=\"none\" stroke=\"black\" cx=\"139.03\" cy=\"-40.61\" rx=\"10.71\" ry=\"10.71\"/>\n",
       "<text text-anchor=\"middle\" x=\"139.03\" y=\"-37.51\" font-family=\"DejaVu Serif,serif\" font-size=\"12.00\">2</text>\n",
       "</g>\n",
       "<!-- 1&#45;&gt;2 -->\n",
       "<g id=\"edge2\" class=\"edge\">\n",
       "<title>1&#45;&gt;2</title>\n",
       "<path fill=\"none\" stroke=\"black\" d=\"M85.54,-34.7C95.62,-35.83 111.5,-37.62 123.15,-38.93\"/>\n",
       "<polygon fill=\"black\" stroke=\"black\" points=\"123.01,-40.68 128.18,-39.5 123.4,-37.2 123.01,-40.68\"/>\n",
       "<text text-anchor=\"middle\" x=\"106.93\" y=\"-40.61\" font-family=\"DejaVu Serif,serif\" font-size=\"10.00\">1</text>\n",
       "</g>\n",
       "<!-- 3 -->\n",
       "<g id=\"node4\" class=\"node\">\n",
       "<title>3</title>\n",
       "<ellipse fill=\"none\" stroke=\"black\" cx=\"203.25\" cy=\"-10.61\" rx=\"10.71\" ry=\"10.71\"/>\n",
       "<text text-anchor=\"middle\" x=\"203.25\" y=\"-7.51\" font-family=\"DejaVu Serif,serif\" font-size=\"12.00\">3</text>\n",
       "</g>\n",
       "<!-- 2&#45;&gt;3 -->\n",
       "<g id=\"edge3\" class=\"edge\">\n",
       "<title>2&#45;&gt;3</title>\n",
       "<path fill=\"none\" stroke=\"black\" d=\"M148.95,-36.31C159.3,-31.32 176.48,-23.03 188.53,-17.22\"/>\n",
       "<polygon fill=\"black\" stroke=\"black\" points=\"189.61,-18.65 193.35,-14.9 188.09,-15.49 189.61,-18.65\"/>\n",
       "<text text-anchor=\"middle\" x=\"171.14\" y=\"-29.61\" font-family=\"DejaVu Serif,serif\" font-size=\"10.00\">2</text>\n",
       "</g>\n",
       "<!-- 7 -->\n",
       "<g id=\"node8\" class=\"node\">\n",
       "<title>7</title>\n",
       "<ellipse fill=\"none\" stroke=\"black\" cx=\"203.25\" cy=\"-63.61\" rx=\"10.71\" ry=\"10.71\"/>\n",
       "<text text-anchor=\"middle\" x=\"203.25\" y=\"-60.51\" font-family=\"DejaVu Serif,serif\" font-size=\"12.00\">7</text>\n",
       "</g>\n",
       "<!-- 2&#45;&gt;7 -->\n",
       "<g id=\"edge7\" class=\"edge\">\n",
       "<title>2&#45;&gt;7</title>\n",
       "<path fill=\"none\" stroke=\"black\" d=\"M149.21,-44C159.5,-47.81 176.31,-54.02 188.25,-58.43\"/>\n",
       "<polygon fill=\"black\" stroke=\"black\" points=\"187.73,-60.11 193.03,-60.2 188.95,-56.82 187.73,-60.11\"/>\n",
       "<text text-anchor=\"middle\" x=\"171.14\" y=\"-56.61\" font-family=\"DejaVu Serif,serif\" font-size=\"10.00\">6</text>\n",
       "</g>\n",
       "<!-- 2&#45;&gt;7 -->\n",
       "<g id=\"edge9\" class=\"edge\">\n",
       "<title>2&#45;&gt;7</title>\n",
       "<path fill=\"none\" stroke=\"black\" d=\"M146.2,-49.17C151.19,-55.32 158.83,-63.11 167.64,-66.61 173.95,-69.11 181.39,-68.83 187.76,-67.74\"/>\n",
       "<polygon fill=\"black\" stroke=\"black\" points=\"188.28,-69.42 192.81,-66.67 187.55,-65.99 188.28,-69.42\"/>\n",
       "<text text-anchor=\"middle\" x=\"171.14\" y=\"-71.61\" font-family=\"DejaVu Serif,serif\" font-size=\"10.00\">8</text>\n",
       "</g>\n",
       "<!-- 3&#45;&gt;0 -->\n",
       "<g id=\"edge4\" class=\"edge\">\n",
       "<title>3&#45;&gt;0</title>\n",
       "<path fill=\"none\" stroke=\"black\" d=\"M192.54,-10.76C170,-11.14 112.37,-12.17 64.21,-13.61 51.45,-13.99 36.96,-14.55 26.42,-14.98\"/>\n",
       "<polygon fill=\"black\" stroke=\"black\" points=\"26.22,-13.24 21.3,-15.19 26.37,-16.73 26.22,-13.24\"/>\n",
       "<text text-anchor=\"middle\" x=\"106.93\" y=\"-15.61\" font-family=\"DejaVu Serif,serif\" font-size=\"10.00\">3</text>\n",
       "</g>\n",
       "<!-- 4 -->\n",
       "<g id=\"node5\" class=\"node\">\n",
       "<title>4</title>\n",
       "<ellipse fill=\"none\" stroke=\"black\" cx=\"10.61\" cy=\"-68.61\" rx=\"10.71\" ry=\"10.71\"/>\n",
       "<text text-anchor=\"middle\" x=\"10.61\" y=\"-65.51\" font-family=\"DejaVu Serif,serif\" font-size=\"12.00\">4</text>\n",
       "</g>\n",
       "<!-- 5 -->\n",
       "<g id=\"node6\" class=\"node\">\n",
       "<title>5</title>\n",
       "<ellipse fill=\"none\" stroke=\"black\" cx=\"74.82\" cy=\"-83.61\" rx=\"10.71\" ry=\"10.71\"/>\n",
       "<text text-anchor=\"middle\" x=\"74.82\" y=\"-80.51\" font-family=\"DejaVu Serif,serif\" font-size=\"12.00\">5</text>\n",
       "</g>\n",
       "<!-- 4&#45;&gt;5 -->\n",
       "<g id=\"edge5\" class=\"edge\">\n",
       "<title>4&#45;&gt;5</title>\n",
       "<path fill=\"none\" stroke=\"black\" d=\"M21.06,-70.88C31.2,-73.33 47.43,-77.24 59.22,-80.09\"/>\n",
       "<polygon fill=\"black\" stroke=\"black\" points=\"59.01,-81.84 64.28,-81.31 59.83,-78.43 59.01,-81.84\"/>\n",
       "<text text-anchor=\"middle\" x=\"42.71\" y=\"-78.61\" font-family=\"DejaVu Serif,serif\" font-size=\"10.00\">4</text>\n",
       "</g>\n",
       "<!-- 5&#45;&gt;4 -->\n",
       "<g id=\"edge8\" class=\"edge\">\n",
       "<title>5&#45;&gt;4</title>\n",
       "<path fill=\"none\" stroke=\"black\" d=\"M67.01,-75.55C61.91,-70.18 54.43,-63.58 46.21,-60.61 39.37,-58.13 31.49,-59.63 24.98,-61.98\"/>\n",
       "<polygon fill=\"black\" stroke=\"black\" points=\"24.28,-60.37 20.31,-63.88 25.6,-63.61 24.28,-60.37\"/>\n",
       "<text text-anchor=\"middle\" x=\"42.71\" y=\"-63.61\" font-family=\"DejaVu Serif,serif\" font-size=\"10.00\">7</text>\n",
       "</g>\n",
       "<!-- 5&#45;&gt;5 -->\n",
       "<g id=\"edge6\" class=\"edge\">\n",
       "<title>5&#45;&gt;5</title>\n",
       "<path fill=\"none\" stroke=\"black\" d=\"M69.97,-93.28C67.45,-102.36 69.07,-112.21 74.82,-112.21 79.49,-112.21 81.44,-105.71 80.65,-98.4\"/>\n",
       "<polygon fill=\"black\" stroke=\"black\" points=\"82.33,-97.86 79.67,-93.28 78.89,-98.52 82.33,-97.86\"/>\n",
       "<text text-anchor=\"middle\" x=\"74.82\" y=\"-115.21\" font-family=\"DejaVu Serif,serif\" font-size=\"10.00\">5</text>\n",
       "</g>\n",
       "<!-- 6 -->\n",
       "<g id=\"node7\" class=\"node\">\n",
       "<title>6</title>\n",
       "<ellipse fill=\"none\" stroke=\"black\" cx=\"10.61\" cy=\"-107.61\" rx=\"10.71\" ry=\"10.71\"/>\n",
       "<text text-anchor=\"middle\" x=\"10.61\" y=\"-104.51\" font-family=\"DejaVu Serif,serif\" font-size=\"12.00\">6</text>\n",
       "</g>\n",
       "</g>\n",
       "</svg>\n"
      ],
      "text/plain": [
       "GAP: <An object in FinQuivers>"
      ]
     },
     "execution_count": 31,
     "metadata": {},
     "output_type": "execute_result"
    }
   ],
   "source": [
    "H = Colimit( [ V, V, V, V, V, V, V, V,\n",
    "               A, A, A, A, A, A, A, A, A ],\n",
    "             [ [ 0, s, 8 ],  [ 1, t, 8 ],\n",
    "               [ 1, s, 9 ],  [ 2, t, 9 ],\n",
    "               [ 2, s, 10 ], [ 3, t, 10 ],\n",
    "               [ 3, s, 11 ], [ 0, t, 11 ],\n",
    "               [ 4, s, 12 ], [ 5, t, 12 ],\n",
    "               [ 5, s, 13 ], [ 5, t, 13 ],\n",
    "               [ 2, s, 14 ], [ 7, t, 14 ],\n",
    "               [ 5, s, 15 ], [ 4, t, 15 ],\n",
    "               [ 2, s, 16 ], [ 7, t, 16 ],\n",
    "             ] )"
   ]
  },
  {
   "cell_type": "code",
   "execution_count": 32,
   "id": "a5f8c8db",
   "metadata": {},
   "outputs": [
    {
     "data": {
      "text/plain": [
       "true"
      ]
     },
     "execution_count": 32,
     "metadata": {},
     "output_type": "execute_result"
    }
   ],
   "source": [
    "G == H"
   ]
  },
  {
   "cell_type": "code",
   "execution_count": 33,
   "id": "9dba8891",
   "metadata": {},
   "outputs": [
    {
     "name": "stdout",
     "output_type": "stream",
     "text": [
      "( { 0,..., 7 }, { 0 := [ 0, 1 ], 1 := [ 1, 2 ], 2 := [ 2, 3 ], 3 := [ 3, 0 ], 4 := [ 4, 5 ], 5 := [ 5, 5 ], 6 := [ 2, 7 ], 7 := [ 5, 4 ], 8 := [ 2, 7 ] } )\n"
     ]
    }
   ],
   "source": [
    "Display( G )"
   ]
  },
  {
   "cell_type": "markdown",
   "id": "555ba4b9",
   "metadata": {},
   "source": [
    "Here is the data structure of the presheaf $\\mathbf{C}^\\mathrm{op} \\to \\mathbf{SkeletalFinSets}$ underlying $G$:"
   ]
  },
  {
   "cell_type": "code",
   "execution_count": 34,
   "id": "ba72eb81",
   "metadata": {},
   "outputs": [
    {
     "name": "stdout",
     "output_type": "stream",
     "text": [
      "Image of <(V)>:\n",
      "{ 0,..., 7 }\n",
      "\n",
      "Image of <(A)>:\n",
      "{ 0,..., 8 }\n",
      "\n",
      "Image of (V)-[(s)]->(A):\n",
      "{ 0,..., 8 } ⱶ[ 0, 1, 2, 3, 4, 5, 2, 5, 2 ]→ { 0,..., 7 }\n",
      "\n",
      "Image of (V)-[(t)]->(A):\n",
      "{ 0,..., 8 } ⱶ[ 1, 2, 3, 0, 5, 5, 7, 4, 7 ]→ { 0,..., 7 }\n",
      "\n",
      "An object in PreSheaves( PathCategory( FinQuiver( \"q(V,A)[s:V→A,t:V→A]\" ) ), SkeletalFinSets ) given by the above data\n",
      "\n",
      "An object in FiniteCocompletion( PathCategory( FinQuiver( \"q(V,A)[s:V→A,t:V→A]\" ) ) ) given by the above data\n"
     ]
    }
   ],
   "source": [
    "Display( ModelingObject( FinQuivers, G ) )"
   ]
  },
  {
   "cell_type": "markdown",
   "id": "cfdf41cc",
   "metadata": {},
   "source": [
    "---\n",
    "The subobject classifier $\\Omega$ is a quiver with two vertices $0,1$ and five arrows $0,\\ldots,4$. Subquivers of a quiver $G$ are in 1-1 correspondence to natural transformations $\\chi: G \\to \\Omega$, called classifying morphisms:\n",
    "\n",
    "##### Table of truth values for the vertex membership in a subquiver:\n",
    "\n",
    "| $\\chi$(vertex) | vertex    |\n",
    "| -------------- | --------- |\n",
    "| $0$            | **false** |\n",
    "| $1$            | **true**  |\n",
    "\n",
    "##### Table of truth values for the arrow membership in a subquiver:\n",
    "\n",
    "| $\\chi$(arrow)  | source | target | arrow     |\n",
    "| -------------- | -----  | ------ | --------- |\n",
    "| $0$            | false  | false  | **false** |\n",
    "| $1$            | true   | false  | **false** |\n",
    "| $2$            | false  | true   | **false** |\n",
    "| $3$            | true   | true   | **false** |\n",
    "| $4$            | true   | true   | **true**  |"
   ]
  },
  {
   "cell_type": "markdown",
   "id": "37bac243",
   "metadata": {},
   "source": [
    "---\n",
    "As we will see below, the law of excluded middle is not valid in $\\mathbf{FinQuivers}$. Consequently, the (external) axiom of choice cannot be valid in $\\mathbf{FinQuivers}$ either:"
   ]
  },
  {
   "cell_type": "code",
   "execution_count": 35,
   "id": "839c84cd",
   "metadata": {},
   "outputs": [
    {
     "data": {
      "text/plain": [
       "GAP: <A morphism in FinQuivers>"
      ]
     },
     "execution_count": 35,
     "metadata": {},
     "output_type": "execute_result"
    }
   ],
   "source": [
    "τ = UniversalMorphismIntoTerminalObject( A )"
   ]
  },
  {
   "cell_type": "code",
   "execution_count": 36,
   "id": "e57e606b",
   "metadata": {},
   "outputs": [
    {
     "data": {
      "text/plain": [
       "true"
      ]
     },
     "execution_count": 36,
     "metadata": {},
     "output_type": "execute_result"
    }
   ],
   "source": [
    "IsEpimorphism( τ )"
   ]
  },
  {
   "cell_type": "code",
   "execution_count": 37,
   "id": "79426f4c",
   "metadata": {},
   "outputs": [
    {
     "data": {
      "text/plain": [
       "false"
      ]
     },
     "execution_count": 37,
     "metadata": {},
     "output_type": "execute_result"
    }
   ],
   "source": [
    "IsSplitEpimorphism( τ )"
   ]
  },
  {
   "cell_type": "code",
   "execution_count": 38,
   "id": "a17b1685",
   "metadata": {},
   "outputs": [
    {
     "data": {
      "image/svg+xml": [
       "<?xml version=\"1.0\" encoding=\"UTF-8\" standalone=\"no\"?>\n",
       "<!DOCTYPE svg PUBLIC \"-//W3C//DTD SVG 1.1//EN\"\n",
       " \"http://www.w3.org/Graphics/SVG/1.1/DTD/svg11.dtd\">\n",
       "<!-- Generated by graphviz version 2.50.0 (20211204.2007)\n",
       " -->\n",
       "<!-- Title: quiver Pages: 1 -->\n",
       "<svg width=\"93pt\" height=\"94pt\"\n",
       " viewBox=\"0.00 0.00 93.43 93.68\" xmlns=\"http://www.w3.org/2000/svg\" xmlns:xlink=\"http://www.w3.org/1999/xlink\">\n",
       "<g id=\"graph0\" class=\"graph\" transform=\"scale(1 1) rotate(0) translate(4 89.68)\">\n",
       "<title>quiver</title>\n",
       "<polygon fill=\"white\" stroke=\"transparent\" points=\"-4,4 -4,-89.68 89.43,-89.68 89.43,4 -4,4\"/>\n",
       "<!-- 0 -->\n",
       "<g id=\"node1\" class=\"node\">\n",
       "<title>0</title>\n",
       "<ellipse fill=\"none\" stroke=\"black\" cx=\"10.61\" cy=\"-17.08\" rx=\"10.71\" ry=\"10.71\"/>\n",
       "<text text-anchor=\"middle\" x=\"10.61\" y=\"-13.98\" font-family=\"DejaVu Serif,serif\" font-size=\"12.00\">0</text>\n",
       "</g>\n",
       "<!-- 0&#45;&gt;0 -->\n",
       "<g id=\"edge1\" class=\"edge\">\n",
       "<title>0&#45;&gt;0</title>\n",
       "<path fill=\"none\" stroke=\"black\" d=\"M5.76,-26.75C3.24,-35.83 4.86,-45.68 10.61,-45.68 15.28,-45.68 17.22,-39.18 16.44,-31.87\"/>\n",
       "<polygon fill=\"black\" stroke=\"black\" points=\"18.12,-31.33 15.46,-26.75 14.68,-31.99 18.12,-31.33\"/>\n",
       "<text text-anchor=\"middle\" x=\"10.61\" y=\"-48.68\" font-family=\"DejaVu Serif,serif\" font-size=\"10.00\">0</text>\n",
       "</g>\n",
       "<!-- 1 -->\n",
       "<g id=\"node2\" class=\"node\">\n",
       "<title>1</title>\n",
       "<ellipse fill=\"none\" stroke=\"black\" cx=\"74.82\" cy=\"-17.08\" rx=\"10.71\" ry=\"10.71\"/>\n",
       "<text text-anchor=\"middle\" x=\"74.82\" y=\"-13.98\" font-family=\"DejaVu Serif,serif\" font-size=\"12.00\">1</text>\n",
       "</g>\n",
       "<!-- 0&#45;&gt;1 -->\n",
       "<g id=\"edge3\" class=\"edge\">\n",
       "<title>0&#45;&gt;1</title>\n",
       "<path fill=\"none\" stroke=\"black\" d=\"M21.33,-17.08C31.4,-17.08 47.28,-17.08 58.94,-17.08\"/>\n",
       "<polygon fill=\"black\" stroke=\"black\" points=\"58.96,-18.83 63.96,-17.08 58.96,-15.33 58.96,-18.83\"/>\n",
       "<text text-anchor=\"middle\" x=\"42.71\" y=\"-20.08\" font-family=\"DejaVu Serif,serif\" font-size=\"10.00\">2</text>\n",
       "</g>\n",
       "<!-- 1&#45;&gt;0 -->\n",
       "<g id=\"edge2\" class=\"edge\">\n",
       "<title>1&#45;&gt;0</title>\n",
       "<path fill=\"none\" stroke=\"black\" d=\"M65.63,-10.79C60.39,-7.17 53.27,-2.97 46.21,-1.08 38.21,1.08 29.77,-2.7 23.22,-7.12\"/>\n",
       "<polygon fill=\"black\" stroke=\"black\" points=\"22.01,-5.84 19.02,-10.22 24.08,-8.66 22.01,-5.84\"/>\n",
       "<text text-anchor=\"middle\" x=\"42.71\" y=\"-4.08\" font-family=\"DejaVu Serif,serif\" font-size=\"10.00\">1</text>\n",
       "</g>\n",
       "<!-- 1&#45;&gt;1 -->\n",
       "<g id=\"edge4\" class=\"edge\">\n",
       "<title>1&#45;&gt;1</title>\n",
       "<path fill=\"none\" stroke=\"black\" d=\"M72.28,-27.64C71.19,-36.46 72.04,-45.68 74.82,-45.68 77.04,-45.68 78.02,-39.83 77.78,-32.98\"/>\n",
       "<polygon fill=\"black\" stroke=\"black\" points=\"79.5,-32.48 77.36,-27.64 76.01,-32.76 79.5,-32.48\"/>\n",
       "<text text-anchor=\"middle\" x=\"74.82\" y=\"-48.68\" font-family=\"DejaVu Serif,serif\" font-size=\"10.00\">3</text>\n",
       "</g>\n",
       "<!-- 1&#45;&gt;1 -->\n",
       "<g id=\"edge5\" class=\"edge\">\n",
       "<title>1&#45;&gt;1</title>\n",
       "<path fill=\"none\" stroke=\"black\" d=\"M71.16,-27.15C67.1,-43.17 68.32,-63.68 74.82,-63.68 80.66,-63.68 82.24,-47.12 79.55,-32.14\"/>\n",
       "<polygon fill=\"black\" stroke=\"black\" points=\"81.24,-31.67 78.48,-27.15 77.82,-32.4 81.24,-31.67\"/>\n",
       "<text text-anchor=\"middle\" x=\"74.82\" y=\"-66.68\" font-family=\"DejaVu Serif,serif\" font-size=\"10.00\">4</text>\n",
       "</g>\n",
       "</g>\n",
       "</svg>\n"
      ],
      "text/plain": [
       "GAP: <An object in FinQuivers>"
      ]
     },
     "execution_count": 38,
     "metadata": {},
     "output_type": "execute_result"
    }
   ],
   "source": [
    "Ω = SubobjectClassifier( FinQuivers )"
   ]
  },
  {
   "cell_type": "markdown",
   "id": "0452b02e",
   "metadata": {},
   "source": [
    "There are oviously $39 = 2^0+2^1+2^2+2^5$ subobjects of $\\Omega$, which we now compute:"
   ]
  },
  {
   "cell_type": "code",
   "execution_count": 39,
   "id": "2e89a89e",
   "metadata": {},
   "outputs": [],
   "source": [
    "subobjects = ListOfSubobjects( Ω );"
   ]
  },
  {
   "cell_type": "markdown",
   "id": "95df4ec7",
   "metadata": {},
   "source": [
    "The bi-Heyting algebra of subobjects of $\\Omega$:"
   ]
  },
  {
   "cell_type": "code",
   "execution_count": 40,
   "id": "4e0f64c0",
   "metadata": {},
   "outputs": [],
   "source": [
    "## DigraphOfSubobjects( Ω )"
   ]
  },
  {
   "cell_type": "markdown",
   "id": "66d57d8a",
   "metadata": {},
   "source": [
    "<img src=\"svg/SubobjectClassifierOfToposOfFinQuivers.svg\" alt=\"drawing\" width=\"500\"/>"
   ]
  },
  {
   "cell_type": "code",
   "execution_count": 41,
   "id": "db071748",
   "metadata": {},
   "outputs": [
    {
     "data": {
      "image/svg+xml": [
       "<?xml version=\"1.0\" encoding=\"UTF-8\" standalone=\"no\"?>\n",
       "<!DOCTYPE svg PUBLIC \"-//W3C//DTD SVG 1.1//EN\"\n",
       " \"http://www.w3.org/Graphics/SVG/1.1/DTD/svg11.dtd\">\n",
       "<!-- Generated by graphviz version 2.50.0 (20211204.2007)\n",
       " -->\n",
       "<!-- Title: subquiver Pages: 1 -->\n",
       "<svg width=\"93pt\" height=\"94pt\"\n",
       " viewBox=\"0.00 0.00 93.43 93.68\" xmlns=\"http://www.w3.org/2000/svg\" xmlns:xlink=\"http://www.w3.org/1999/xlink\">\n",
       "<g id=\"graph0\" class=\"graph\" transform=\"scale(1 1) rotate(0) translate(4 89.68)\">\n",
       "<title>subquiver</title>\n",
       "<polygon fill=\"white\" stroke=\"transparent\" points=\"-4,4 -4,-89.68 89.43,-89.68 89.43,4 -4,4\"/>\n",
       "<!-- 0 -->\n",
       "<g id=\"node1\" class=\"node\">\n",
       "<title>0</title>\n",
       "<ellipse fill=\"none\" stroke=\"#c1cdcd\" cx=\"10.61\" cy=\"-17.08\" rx=\"10.71\" ry=\"10.71\"/>\n",
       "<text text-anchor=\"middle\" x=\"10.61\" y=\"-13.98\" font-family=\"DejaVu Serif,serif\" font-size=\"12.00\" fill=\"#c1cdcd\">0</text>\n",
       "</g>\n",
       "<!-- 0&#45;&gt;0 -->\n",
       "<g id=\"edge1\" class=\"edge\">\n",
       "<title>0&#45;&gt;0</title>\n",
       "<path fill=\"none\" stroke=\"#c1cdcd\" d=\"M5.76,-26.75C3.24,-35.83 4.86,-45.68 10.61,-45.68 15.28,-45.68 17.22,-39.18 16.44,-31.87\"/>\n",
       "<polygon fill=\"#c1cdcd\" stroke=\"#c1cdcd\" points=\"18.12,-31.33 15.46,-26.75 14.68,-31.99 18.12,-31.33\"/>\n",
       "<text text-anchor=\"middle\" x=\"10.61\" y=\"-48.68\" font-family=\"DejaVu Serif,serif\" font-size=\"10.00\" fill=\"#c1cdcd\">0</text>\n",
       "</g>\n",
       "<!-- 1 -->\n",
       "<g id=\"node2\" class=\"node\">\n",
       "<title>1</title>\n",
       "<ellipse fill=\"none\" stroke=\"black\" cx=\"74.82\" cy=\"-17.08\" rx=\"10.71\" ry=\"10.71\"/>\n",
       "<text text-anchor=\"middle\" x=\"74.82\" y=\"-13.98\" font-family=\"DejaVu Serif,serif\" font-size=\"12.00\">1</text>\n",
       "</g>\n",
       "<!-- 0&#45;&gt;1 -->\n",
       "<g id=\"edge3\" class=\"edge\">\n",
       "<title>0&#45;&gt;1</title>\n",
       "<path fill=\"none\" stroke=\"#c1cdcd\" d=\"M21.33,-17.08C31.4,-17.08 47.28,-17.08 58.94,-17.08\"/>\n",
       "<polygon fill=\"#c1cdcd\" stroke=\"#c1cdcd\" points=\"58.96,-18.83 63.96,-17.08 58.96,-15.33 58.96,-18.83\"/>\n",
       "<text text-anchor=\"middle\" x=\"42.71\" y=\"-20.08\" font-family=\"DejaVu Serif,serif\" font-size=\"10.00\" fill=\"#c1cdcd\">2</text>\n",
       "</g>\n",
       "<!-- 1&#45;&gt;0 -->\n",
       "<g id=\"edge2\" class=\"edge\">\n",
       "<title>1&#45;&gt;0</title>\n",
       "<path fill=\"none\" stroke=\"#c1cdcd\" d=\"M65.63,-10.79C60.39,-7.17 53.27,-2.97 46.21,-1.08 38.21,1.08 29.77,-2.7 23.22,-7.12\"/>\n",
       "<polygon fill=\"#c1cdcd\" stroke=\"#c1cdcd\" points=\"22.01,-5.84 19.02,-10.22 24.08,-8.66 22.01,-5.84\"/>\n",
       "<text text-anchor=\"middle\" x=\"42.71\" y=\"-4.08\" font-family=\"DejaVu Serif,serif\" font-size=\"10.00\" fill=\"#c1cdcd\">1</text>\n",
       "</g>\n",
       "<!-- 1&#45;&gt;1 -->\n",
       "<g id=\"edge4\" class=\"edge\">\n",
       "<title>1&#45;&gt;1</title>\n",
       "<path fill=\"none\" stroke=\"black\" d=\"M72.28,-27.64C71.19,-36.46 72.04,-45.68 74.82,-45.68 77.04,-45.68 78.02,-39.83 77.78,-32.98\"/>\n",
       "<polygon fill=\"black\" stroke=\"black\" points=\"79.5,-32.48 77.36,-27.64 76.01,-32.76 79.5,-32.48\"/>\n",
       "<text text-anchor=\"middle\" x=\"74.82\" y=\"-48.68\" font-family=\"DejaVu Serif,serif\" font-size=\"10.00\">3</text>\n",
       "</g>\n",
       "<!-- 1&#45;&gt;1 -->\n",
       "<g id=\"edge5\" class=\"edge\">\n",
       "<title>1&#45;&gt;1</title>\n",
       "<path fill=\"none\" stroke=\"black\" d=\"M71.16,-27.15C67.1,-43.17 68.32,-63.68 74.82,-63.68 80.66,-63.68 82.24,-47.12 79.55,-32.14\"/>\n",
       "<polygon fill=\"black\" stroke=\"black\" points=\"81.24,-31.67 78.48,-27.15 77.82,-32.4 81.24,-31.67\"/>\n",
       "<text text-anchor=\"middle\" x=\"74.82\" y=\"-66.68\" font-family=\"DejaVu Serif,serif\" font-size=\"10.00\">4</text>\n",
       "</g>\n",
       "</g>\n",
       "</svg>\n"
      ],
      "text/plain": [
       "GAP: <A monomorphism in FinQuivers>"
      ]
     },
     "execution_count": 41,
     "metadata": {},
     "output_type": "execute_result"
    }
   ],
   "source": [
    "¬ = TruthMorphismOfNot( FinQuivers ); SubobjectOfClassifyingMorphism( PreCompose( ¬, ¬ ) )"
   ]
  },
  {
   "cell_type": "code",
   "execution_count": 42,
   "id": "7cc5a196",
   "metadata": {},
   "outputs": [
    {
     "data": {
      "text/plain": [
       "4"
      ]
     },
     "execution_count": 42,
     "metadata": {},
     "output_type": "execute_result"
    }
   ],
   "source": [
    "LT = LawvereTierneySubobjects( FinQuivers ); Length( LT )"
   ]
  },
  {
   "cell_type": "code",
   "execution_count": 43,
   "id": "91719b49",
   "metadata": {},
   "outputs": [
    {
     "data": {
      "image/svg+xml": [
       "<?xml version=\"1.0\" encoding=\"UTF-8\" standalone=\"no\"?>\n",
       "<!DOCTYPE svg PUBLIC \"-//W3C//DTD SVG 1.1//EN\"\n",
       " \"http://www.w3.org/Graphics/SVG/1.1/DTD/svg11.dtd\">\n",
       "<!-- Generated by graphviz version 2.50.0 (20211204.2007)\n",
       " -->\n",
       "<!-- Title: subquiver Pages: 1 -->\n",
       "<svg width=\"93pt\" height=\"94pt\"\n",
       " viewBox=\"0.00 0.00 93.43 93.68\" xmlns=\"http://www.w3.org/2000/svg\" xmlns:xlink=\"http://www.w3.org/1999/xlink\">\n",
       "<g id=\"graph0\" class=\"graph\" transform=\"scale(1 1) rotate(0) translate(4 89.68)\">\n",
       "<title>subquiver</title>\n",
       "<polygon fill=\"white\" stroke=\"transparent\" points=\"-4,4 -4,-89.68 89.43,-89.68 89.43,4 -4,4\"/>\n",
       "<!-- 0 -->\n",
       "<g id=\"node1\" class=\"node\">\n",
       "<title>0</title>\n",
       "<ellipse fill=\"none\" stroke=\"#c1cdcd\" cx=\"10.61\" cy=\"-17.08\" rx=\"10.71\" ry=\"10.71\"/>\n",
       "<text text-anchor=\"middle\" x=\"10.61\" y=\"-13.98\" font-family=\"DejaVu Serif,serif\" font-size=\"12.00\" fill=\"#c1cdcd\">0</text>\n",
       "</g>\n",
       "<!-- 0&#45;&gt;0 -->\n",
       "<g id=\"edge1\" class=\"edge\">\n",
       "<title>0&#45;&gt;0</title>\n",
       "<path fill=\"none\" stroke=\"#c1cdcd\" d=\"M5.76,-26.75C3.24,-35.83 4.86,-45.68 10.61,-45.68 15.28,-45.68 17.22,-39.18 16.44,-31.87\"/>\n",
       "<polygon fill=\"#c1cdcd\" stroke=\"#c1cdcd\" points=\"18.12,-31.33 15.46,-26.75 14.68,-31.99 18.12,-31.33\"/>\n",
       "<text text-anchor=\"middle\" x=\"10.61\" y=\"-48.68\" font-family=\"DejaVu Serif,serif\" font-size=\"10.00\" fill=\"#c1cdcd\">0</text>\n",
       "</g>\n",
       "<!-- 1 -->\n",
       "<g id=\"node2\" class=\"node\">\n",
       "<title>1</title>\n",
       "<ellipse fill=\"none\" stroke=\"black\" cx=\"74.82\" cy=\"-17.08\" rx=\"10.71\" ry=\"10.71\"/>\n",
       "<text text-anchor=\"middle\" x=\"74.82\" y=\"-13.98\" font-family=\"DejaVu Serif,serif\" font-size=\"12.00\">1</text>\n",
       "</g>\n",
       "<!-- 0&#45;&gt;1 -->\n",
       "<g id=\"edge3\" class=\"edge\">\n",
       "<title>0&#45;&gt;1</title>\n",
       "<path fill=\"none\" stroke=\"#c1cdcd\" d=\"M21.33,-17.08C31.4,-17.08 47.28,-17.08 58.94,-17.08\"/>\n",
       "<polygon fill=\"#c1cdcd\" stroke=\"#c1cdcd\" points=\"58.96,-18.83 63.96,-17.08 58.96,-15.33 58.96,-18.83\"/>\n",
       "<text text-anchor=\"middle\" x=\"42.71\" y=\"-20.08\" font-family=\"DejaVu Serif,serif\" font-size=\"10.00\" fill=\"#c1cdcd\">2</text>\n",
       "</g>\n",
       "<!-- 1&#45;&gt;0 -->\n",
       "<g id=\"edge2\" class=\"edge\">\n",
       "<title>1&#45;&gt;0</title>\n",
       "<path fill=\"none\" stroke=\"#c1cdcd\" d=\"M65.63,-10.79C60.39,-7.17 53.27,-2.97 46.21,-1.08 38.21,1.08 29.77,-2.7 23.22,-7.12\"/>\n",
       "<polygon fill=\"#c1cdcd\" stroke=\"#c1cdcd\" points=\"22.01,-5.84 19.02,-10.22 24.08,-8.66 22.01,-5.84\"/>\n",
       "<text text-anchor=\"middle\" x=\"42.71\" y=\"-4.08\" font-family=\"DejaVu Serif,serif\" font-size=\"10.00\" fill=\"#c1cdcd\">1</text>\n",
       "</g>\n",
       "<!-- 1&#45;&gt;1 -->\n",
       "<g id=\"edge4\" class=\"edge\">\n",
       "<title>1&#45;&gt;1</title>\n",
       "<path fill=\"none\" stroke=\"#c1cdcd\" d=\"M72.28,-27.64C71.19,-36.46 72.04,-45.68 74.82,-45.68 77.04,-45.68 78.02,-39.83 77.78,-32.98\"/>\n",
       "<polygon fill=\"#c1cdcd\" stroke=\"#c1cdcd\" points=\"79.5,-32.48 77.36,-27.64 76.01,-32.76 79.5,-32.48\"/>\n",
       "<text text-anchor=\"middle\" x=\"74.82\" y=\"-48.68\" font-family=\"DejaVu Serif,serif\" font-size=\"10.00\" fill=\"#c1cdcd\">3</text>\n",
       "</g>\n",
       "<!-- 1&#45;&gt;1 -->\n",
       "<g id=\"edge5\" class=\"edge\">\n",
       "<title>1&#45;&gt;1</title>\n",
       "<path fill=\"none\" stroke=\"black\" d=\"M71.16,-27.15C67.1,-43.17 68.32,-63.68 74.82,-63.68 80.66,-63.68 82.24,-47.12 79.55,-32.14\"/>\n",
       "<polygon fill=\"black\" stroke=\"black\" points=\"81.24,-31.67 78.48,-27.15 77.82,-32.4 81.24,-31.67\"/>\n",
       "<text text-anchor=\"middle\" x=\"74.82\" y=\"-66.68\" font-family=\"DejaVu Serif,serif\" font-size=\"10.00\">4</text>\n",
       "</g>\n",
       "</g>\n",
       "</svg>\n"
      ],
      "text/plain": [
       "GAP: <A monomorphism in FinQuivers>"
      ]
     },
     "execution_count": 43,
     "metadata": {},
     "output_type": "execute_result"
    }
   ],
   "source": [
    "LT[1]"
   ]
  },
  {
   "cell_type": "code",
   "execution_count": 44,
   "id": "e51bf15e",
   "metadata": {},
   "outputs": [
    {
     "data": {
      "image/svg+xml": [
       "<?xml version=\"1.0\" encoding=\"UTF-8\" standalone=\"no\"?>\n",
       "<!DOCTYPE svg PUBLIC \"-//W3C//DTD SVG 1.1//EN\"\n",
       " \"http://www.w3.org/Graphics/SVG/1.1/DTD/svg11.dtd\">\n",
       "<!-- Generated by graphviz version 2.50.0 (20211204.2007)\n",
       " -->\n",
       "<!-- Title: subquiver Pages: 1 -->\n",
       "<svg width=\"93pt\" height=\"94pt\"\n",
       " viewBox=\"0.00 0.00 93.43 93.68\" xmlns=\"http://www.w3.org/2000/svg\" xmlns:xlink=\"http://www.w3.org/1999/xlink\">\n",
       "<g id=\"graph0\" class=\"graph\" transform=\"scale(1 1) rotate(0) translate(4 89.68)\">\n",
       "<title>subquiver</title>\n",
       "<polygon fill=\"white\" stroke=\"transparent\" points=\"-4,4 -4,-89.68 89.43,-89.68 89.43,4 -4,4\"/>\n",
       "<!-- 0 -->\n",
       "<g id=\"node1\" class=\"node\">\n",
       "<title>0</title>\n",
       "<ellipse fill=\"none\" stroke=\"black\" cx=\"10.61\" cy=\"-17.08\" rx=\"10.71\" ry=\"10.71\"/>\n",
       "<text text-anchor=\"middle\" x=\"10.61\" y=\"-13.98\" font-family=\"DejaVu Serif,serif\" font-size=\"12.00\">0</text>\n",
       "</g>\n",
       "<!-- 0&#45;&gt;0 -->\n",
       "<g id=\"edge1\" class=\"edge\">\n",
       "<title>0&#45;&gt;0</title>\n",
       "<path fill=\"none\" stroke=\"#c1cdcd\" d=\"M5.76,-26.75C3.24,-35.83 4.86,-45.68 10.61,-45.68 15.28,-45.68 17.22,-39.18 16.44,-31.87\"/>\n",
       "<polygon fill=\"#c1cdcd\" stroke=\"#c1cdcd\" points=\"18.12,-31.33 15.46,-26.75 14.68,-31.99 18.12,-31.33\"/>\n",
       "<text text-anchor=\"middle\" x=\"10.61\" y=\"-48.68\" font-family=\"DejaVu Serif,serif\" font-size=\"10.00\" fill=\"#c1cdcd\">0</text>\n",
       "</g>\n",
       "<!-- 1 -->\n",
       "<g id=\"node2\" class=\"node\">\n",
       "<title>1</title>\n",
       "<ellipse fill=\"none\" stroke=\"black\" cx=\"74.82\" cy=\"-17.08\" rx=\"10.71\" ry=\"10.71\"/>\n",
       "<text text-anchor=\"middle\" x=\"74.82\" y=\"-13.98\" font-family=\"DejaVu Serif,serif\" font-size=\"12.00\">1</text>\n",
       "</g>\n",
       "<!-- 0&#45;&gt;1 -->\n",
       "<g id=\"edge3\" class=\"edge\">\n",
       "<title>0&#45;&gt;1</title>\n",
       "<path fill=\"none\" stroke=\"#c1cdcd\" d=\"M21.33,-17.08C31.4,-17.08 47.28,-17.08 58.94,-17.08\"/>\n",
       "<polygon fill=\"#c1cdcd\" stroke=\"#c1cdcd\" points=\"58.96,-18.83 63.96,-17.08 58.96,-15.33 58.96,-18.83\"/>\n",
       "<text text-anchor=\"middle\" x=\"42.71\" y=\"-20.08\" font-family=\"DejaVu Serif,serif\" font-size=\"10.00\" fill=\"#c1cdcd\">2</text>\n",
       "</g>\n",
       "<!-- 1&#45;&gt;0 -->\n",
       "<g id=\"edge2\" class=\"edge\">\n",
       "<title>1&#45;&gt;0</title>\n",
       "<path fill=\"none\" stroke=\"#c1cdcd\" d=\"M65.63,-10.79C60.39,-7.17 53.27,-2.97 46.21,-1.08 38.21,1.08 29.77,-2.7 23.22,-7.12\"/>\n",
       "<polygon fill=\"#c1cdcd\" stroke=\"#c1cdcd\" points=\"22.01,-5.84 19.02,-10.22 24.08,-8.66 22.01,-5.84\"/>\n",
       "<text text-anchor=\"middle\" x=\"42.71\" y=\"-4.08\" font-family=\"DejaVu Serif,serif\" font-size=\"10.00\" fill=\"#c1cdcd\">1</text>\n",
       "</g>\n",
       "<!-- 1&#45;&gt;1 -->\n",
       "<g id=\"edge4\" class=\"edge\">\n",
       "<title>1&#45;&gt;1</title>\n",
       "<path fill=\"none\" stroke=\"#c1cdcd\" d=\"M72.28,-27.64C71.19,-36.46 72.04,-45.68 74.82,-45.68 77.04,-45.68 78.02,-39.83 77.78,-32.98\"/>\n",
       "<polygon fill=\"#c1cdcd\" stroke=\"#c1cdcd\" points=\"79.5,-32.48 77.36,-27.64 76.01,-32.76 79.5,-32.48\"/>\n",
       "<text text-anchor=\"middle\" x=\"74.82\" y=\"-48.68\" font-family=\"DejaVu Serif,serif\" font-size=\"10.00\" fill=\"#c1cdcd\">3</text>\n",
       "</g>\n",
       "<!-- 1&#45;&gt;1 -->\n",
       "<g id=\"edge5\" class=\"edge\">\n",
       "<title>1&#45;&gt;1</title>\n",
       "<path fill=\"none\" stroke=\"black\" d=\"M71.16,-27.15C67.1,-43.17 68.32,-63.68 74.82,-63.68 80.66,-63.68 82.24,-47.12 79.55,-32.14\"/>\n",
       "<polygon fill=\"black\" stroke=\"black\" points=\"81.24,-31.67 78.48,-27.15 77.82,-32.4 81.24,-31.67\"/>\n",
       "<text text-anchor=\"middle\" x=\"74.82\" y=\"-66.68\" font-family=\"DejaVu Serif,serif\" font-size=\"10.00\">4</text>\n",
       "</g>\n",
       "</g>\n",
       "</svg>\n"
      ],
      "text/plain": [
       "GAP: <A monomorphism in FinQuivers>"
      ]
     },
     "execution_count": 44,
     "metadata": {},
     "output_type": "execute_result"
    }
   ],
   "source": [
    "LT[2]"
   ]
  },
  {
   "cell_type": "code",
   "execution_count": 45,
   "id": "4d8e8d1d",
   "metadata": {},
   "outputs": [
    {
     "data": {
      "image/svg+xml": [
       "<?xml version=\"1.0\" encoding=\"UTF-8\" standalone=\"no\"?>\n",
       "<!DOCTYPE svg PUBLIC \"-//W3C//DTD SVG 1.1//EN\"\n",
       " \"http://www.w3.org/Graphics/SVG/1.1/DTD/svg11.dtd\">\n",
       "<!-- Generated by graphviz version 2.50.0 (20211204.2007)\n",
       " -->\n",
       "<!-- Title: subquiver Pages: 1 -->\n",
       "<svg width=\"93pt\" height=\"94pt\"\n",
       " viewBox=\"0.00 0.00 93.43 93.68\" xmlns=\"http://www.w3.org/2000/svg\" xmlns:xlink=\"http://www.w3.org/1999/xlink\">\n",
       "<g id=\"graph0\" class=\"graph\" transform=\"scale(1 1) rotate(0) translate(4 89.68)\">\n",
       "<title>subquiver</title>\n",
       "<polygon fill=\"white\" stroke=\"transparent\" points=\"-4,4 -4,-89.68 89.43,-89.68 89.43,4 -4,4\"/>\n",
       "<!-- 0 -->\n",
       "<g id=\"node1\" class=\"node\">\n",
       "<title>0</title>\n",
       "<ellipse fill=\"none\" stroke=\"#c1cdcd\" cx=\"10.61\" cy=\"-17.08\" rx=\"10.71\" ry=\"10.71\"/>\n",
       "<text text-anchor=\"middle\" x=\"10.61\" y=\"-13.98\" font-family=\"DejaVu Serif,serif\" font-size=\"12.00\" fill=\"#c1cdcd\">0</text>\n",
       "</g>\n",
       "<!-- 0&#45;&gt;0 -->\n",
       "<g id=\"edge1\" class=\"edge\">\n",
       "<title>0&#45;&gt;0</title>\n",
       "<path fill=\"none\" stroke=\"#c1cdcd\" d=\"M5.76,-26.75C3.24,-35.83 4.86,-45.68 10.61,-45.68 15.28,-45.68 17.22,-39.18 16.44,-31.87\"/>\n",
       "<polygon fill=\"#c1cdcd\" stroke=\"#c1cdcd\" points=\"18.12,-31.33 15.46,-26.75 14.68,-31.99 18.12,-31.33\"/>\n",
       "<text text-anchor=\"middle\" x=\"10.61\" y=\"-48.68\" font-family=\"DejaVu Serif,serif\" font-size=\"10.00\" fill=\"#c1cdcd\">0</text>\n",
       "</g>\n",
       "<!-- 1 -->\n",
       "<g id=\"node2\" class=\"node\">\n",
       "<title>1</title>\n",
       "<ellipse fill=\"none\" stroke=\"black\" cx=\"74.82\" cy=\"-17.08\" rx=\"10.71\" ry=\"10.71\"/>\n",
       "<text text-anchor=\"middle\" x=\"74.82\" y=\"-13.98\" font-family=\"DejaVu Serif,serif\" font-size=\"12.00\">1</text>\n",
       "</g>\n",
       "<!-- 0&#45;&gt;1 -->\n",
       "<g id=\"edge3\" class=\"edge\">\n",
       "<title>0&#45;&gt;1</title>\n",
       "<path fill=\"none\" stroke=\"#c1cdcd\" d=\"M21.33,-17.08C31.4,-17.08 47.28,-17.08 58.94,-17.08\"/>\n",
       "<polygon fill=\"#c1cdcd\" stroke=\"#c1cdcd\" points=\"58.96,-18.83 63.96,-17.08 58.96,-15.33 58.96,-18.83\"/>\n",
       "<text text-anchor=\"middle\" x=\"42.71\" y=\"-20.08\" font-family=\"DejaVu Serif,serif\" font-size=\"10.00\" fill=\"#c1cdcd\">2</text>\n",
       "</g>\n",
       "<!-- 1&#45;&gt;0 -->\n",
       "<g id=\"edge2\" class=\"edge\">\n",
       "<title>1&#45;&gt;0</title>\n",
       "<path fill=\"none\" stroke=\"#c1cdcd\" d=\"M65.63,-10.79C60.39,-7.17 53.27,-2.97 46.21,-1.08 38.21,1.08 29.77,-2.7 23.22,-7.12\"/>\n",
       "<polygon fill=\"#c1cdcd\" stroke=\"#c1cdcd\" points=\"22.01,-5.84 19.02,-10.22 24.08,-8.66 22.01,-5.84\"/>\n",
       "<text text-anchor=\"middle\" x=\"42.71\" y=\"-4.08\" font-family=\"DejaVu Serif,serif\" font-size=\"10.00\" fill=\"#c1cdcd\">1</text>\n",
       "</g>\n",
       "<!-- 1&#45;&gt;1 -->\n",
       "<g id=\"edge4\" class=\"edge\">\n",
       "<title>1&#45;&gt;1</title>\n",
       "<path fill=\"none\" stroke=\"black\" d=\"M72.28,-27.64C71.19,-36.46 72.04,-45.68 74.82,-45.68 77.04,-45.68 78.02,-39.83 77.78,-32.98\"/>\n",
       "<polygon fill=\"black\" stroke=\"black\" points=\"79.5,-32.48 77.36,-27.64 76.01,-32.76 79.5,-32.48\"/>\n",
       "<text text-anchor=\"middle\" x=\"74.82\" y=\"-48.68\" font-family=\"DejaVu Serif,serif\" font-size=\"10.00\">3</text>\n",
       "</g>\n",
       "<!-- 1&#45;&gt;1 -->\n",
       "<g id=\"edge5\" class=\"edge\">\n",
       "<title>1&#45;&gt;1</title>\n",
       "<path fill=\"none\" stroke=\"black\" d=\"M71.16,-27.15C67.1,-43.17 68.32,-63.68 74.82,-63.68 80.66,-63.68 82.24,-47.12 79.55,-32.14\"/>\n",
       "<polygon fill=\"black\" stroke=\"black\" points=\"81.24,-31.67 78.48,-27.15 77.82,-32.4 81.24,-31.67\"/>\n",
       "<text text-anchor=\"middle\" x=\"74.82\" y=\"-66.68\" font-family=\"DejaVu Serif,serif\" font-size=\"10.00\">4</text>\n",
       "</g>\n",
       "</g>\n",
       "</svg>\n"
      ],
      "text/plain": [
       "GAP: <A monomorphism in FinQuivers>"
      ]
     },
     "execution_count": 45,
     "metadata": {},
     "output_type": "execute_result"
    }
   ],
   "source": [
    "LT[3]"
   ]
  },
  {
   "cell_type": "code",
   "execution_count": 46,
   "id": "5b1afe95",
   "metadata": {},
   "outputs": [
    {
     "data": {
      "image/svg+xml": [
       "<?xml version=\"1.0\" encoding=\"UTF-8\" standalone=\"no\"?>\n",
       "<!DOCTYPE svg PUBLIC \"-//W3C//DTD SVG 1.1//EN\"\n",
       " \"http://www.w3.org/Graphics/SVG/1.1/DTD/svg11.dtd\">\n",
       "<!-- Generated by graphviz version 2.50.0 (20211204.2007)\n",
       " -->\n",
       "<!-- Title: subquiver Pages: 1 -->\n",
       "<svg width=\"93pt\" height=\"94pt\"\n",
       " viewBox=\"0.00 0.00 93.43 93.68\" xmlns=\"http://www.w3.org/2000/svg\" xmlns:xlink=\"http://www.w3.org/1999/xlink\">\n",
       "<g id=\"graph0\" class=\"graph\" transform=\"scale(1 1) rotate(0) translate(4 89.68)\">\n",
       "<title>subquiver</title>\n",
       "<polygon fill=\"white\" stroke=\"transparent\" points=\"-4,4 -4,-89.68 89.43,-89.68 89.43,4 -4,4\"/>\n",
       "<!-- 0 -->\n",
       "<g id=\"node1\" class=\"node\">\n",
       "<title>0</title>\n",
       "<ellipse fill=\"none\" stroke=\"black\" cx=\"10.61\" cy=\"-17.08\" rx=\"10.71\" ry=\"10.71\"/>\n",
       "<text text-anchor=\"middle\" x=\"10.61\" y=\"-13.98\" font-family=\"DejaVu Serif,serif\" font-size=\"12.00\">0</text>\n",
       "</g>\n",
       "<!-- 0&#45;&gt;0 -->\n",
       "<g id=\"edge1\" class=\"edge\">\n",
       "<title>0&#45;&gt;0</title>\n",
       "<path fill=\"none\" stroke=\"black\" d=\"M5.76,-26.75C3.24,-35.83 4.86,-45.68 10.61,-45.68 15.28,-45.68 17.22,-39.18 16.44,-31.87\"/>\n",
       "<polygon fill=\"black\" stroke=\"black\" points=\"18.12,-31.33 15.46,-26.75 14.68,-31.99 18.12,-31.33\"/>\n",
       "<text text-anchor=\"middle\" x=\"10.61\" y=\"-48.68\" font-family=\"DejaVu Serif,serif\" font-size=\"10.00\">0</text>\n",
       "</g>\n",
       "<!-- 1 -->\n",
       "<g id=\"node2\" class=\"node\">\n",
       "<title>1</title>\n",
       "<ellipse fill=\"none\" stroke=\"black\" cx=\"74.82\" cy=\"-17.08\" rx=\"10.71\" ry=\"10.71\"/>\n",
       "<text text-anchor=\"middle\" x=\"74.82\" y=\"-13.98\" font-family=\"DejaVu Serif,serif\" font-size=\"12.00\">1</text>\n",
       "</g>\n",
       "<!-- 0&#45;&gt;1 -->\n",
       "<g id=\"edge3\" class=\"edge\">\n",
       "<title>0&#45;&gt;1</title>\n",
       "<path fill=\"none\" stroke=\"black\" d=\"M21.33,-17.08C31.4,-17.08 47.28,-17.08 58.94,-17.08\"/>\n",
       "<polygon fill=\"black\" stroke=\"black\" points=\"58.96,-18.83 63.96,-17.08 58.96,-15.33 58.96,-18.83\"/>\n",
       "<text text-anchor=\"middle\" x=\"42.71\" y=\"-20.08\" font-family=\"DejaVu Serif,serif\" font-size=\"10.00\">2</text>\n",
       "</g>\n",
       "<!-- 1&#45;&gt;0 -->\n",
       "<g id=\"edge2\" class=\"edge\">\n",
       "<title>1&#45;&gt;0</title>\n",
       "<path fill=\"none\" stroke=\"black\" d=\"M65.63,-10.79C60.39,-7.17 53.27,-2.97 46.21,-1.08 38.21,1.08 29.77,-2.7 23.22,-7.12\"/>\n",
       "<polygon fill=\"black\" stroke=\"black\" points=\"22.01,-5.84 19.02,-10.22 24.08,-8.66 22.01,-5.84\"/>\n",
       "<text text-anchor=\"middle\" x=\"42.71\" y=\"-4.08\" font-family=\"DejaVu Serif,serif\" font-size=\"10.00\">1</text>\n",
       "</g>\n",
       "<!-- 1&#45;&gt;1 -->\n",
       "<g id=\"edge4\" class=\"edge\">\n",
       "<title>1&#45;&gt;1</title>\n",
       "<path fill=\"none\" stroke=\"black\" d=\"M72.28,-27.64C71.19,-36.46 72.04,-45.68 74.82,-45.68 77.04,-45.68 78.02,-39.83 77.78,-32.98\"/>\n",
       "<polygon fill=\"black\" stroke=\"black\" points=\"79.5,-32.48 77.36,-27.64 76.01,-32.76 79.5,-32.48\"/>\n",
       "<text text-anchor=\"middle\" x=\"74.82\" y=\"-48.68\" font-family=\"DejaVu Serif,serif\" font-size=\"10.00\">3</text>\n",
       "</g>\n",
       "<!-- 1&#45;&gt;1 -->\n",
       "<g id=\"edge5\" class=\"edge\">\n",
       "<title>1&#45;&gt;1</title>\n",
       "<path fill=\"none\" stroke=\"black\" d=\"M71.16,-27.15C67.1,-43.17 68.32,-63.68 74.82,-63.68 80.66,-63.68 82.24,-47.12 79.55,-32.14\"/>\n",
       "<polygon fill=\"black\" stroke=\"black\" points=\"81.24,-31.67 78.48,-27.15 77.82,-32.4 81.24,-31.67\"/>\n",
       "<text text-anchor=\"middle\" x=\"74.82\" y=\"-66.68\" font-family=\"DejaVu Serif,serif\" font-size=\"10.00\">4</text>\n",
       "</g>\n",
       "</g>\n",
       "</svg>\n"
      ],
      "text/plain": [
       "GAP: <A monomorphism in FinQuivers>"
      ]
     },
     "execution_count": 46,
     "metadata": {},
     "output_type": "execute_result"
    }
   ],
   "source": [
    "LT[4]"
   ]
  },
  {
   "cell_type": "code",
   "execution_count": 47,
   "id": "f55d490c",
   "metadata": {},
   "outputs": [],
   "source": [
    "Ωs = LawvereTierneyEmbeddingsOfSubobjectClassifiers( FinQuivers );"
   ]
  },
  {
   "cell_type": "code",
   "execution_count": 48,
   "id": "ace8a4cb",
   "metadata": {},
   "outputs": [
    {
     "data": {
      "image/svg+xml": [
       "<?xml version=\"1.0\" encoding=\"UTF-8\" standalone=\"no\"?>\n",
       "<!DOCTYPE svg PUBLIC \"-//W3C//DTD SVG 1.1//EN\"\n",
       " \"http://www.w3.org/Graphics/SVG/1.1/DTD/svg11.dtd\">\n",
       "<!-- Generated by graphviz version 2.50.0 (20211204.2007)\n",
       " -->\n",
       "<!-- Title: subquiver Pages: 1 -->\n",
       "<svg width=\"93pt\" height=\"94pt\"\n",
       " viewBox=\"0.00 0.00 93.43 93.68\" xmlns=\"http://www.w3.org/2000/svg\" xmlns:xlink=\"http://www.w3.org/1999/xlink\">\n",
       "<g id=\"graph0\" class=\"graph\" transform=\"scale(1 1) rotate(0) translate(4 89.68)\">\n",
       "<title>subquiver</title>\n",
       "<polygon fill=\"white\" stroke=\"transparent\" points=\"-4,4 -4,-89.68 89.43,-89.68 89.43,4 -4,4\"/>\n",
       "<!-- 0 -->\n",
       "<g id=\"node1\" class=\"node\">\n",
       "<title>0</title>\n",
       "<ellipse fill=\"none\" stroke=\"black\" cx=\"10.61\" cy=\"-17.08\" rx=\"10.71\" ry=\"10.71\"/>\n",
       "<text text-anchor=\"middle\" x=\"10.61\" y=\"-13.98\" font-family=\"DejaVu Serif,serif\" font-size=\"12.00\">0</text>\n",
       "</g>\n",
       "<!-- 0&#45;&gt;0 -->\n",
       "<g id=\"edge1\" class=\"edge\">\n",
       "<title>0&#45;&gt;0</title>\n",
       "<path fill=\"none\" stroke=\"black\" d=\"M5.76,-26.75C3.24,-35.83 4.86,-45.68 10.61,-45.68 15.28,-45.68 17.22,-39.18 16.44,-31.87\"/>\n",
       "<polygon fill=\"black\" stroke=\"black\" points=\"18.12,-31.33 15.46,-26.75 14.68,-31.99 18.12,-31.33\"/>\n",
       "<text text-anchor=\"middle\" x=\"10.61\" y=\"-48.68\" font-family=\"DejaVu Serif,serif\" font-size=\"10.00\">0</text>\n",
       "</g>\n",
       "<!-- 1 -->\n",
       "<g id=\"node2\" class=\"node\">\n",
       "<title>1</title>\n",
       "<ellipse fill=\"none\" stroke=\"black\" cx=\"74.82\" cy=\"-17.08\" rx=\"10.71\" ry=\"10.71\"/>\n",
       "<text text-anchor=\"middle\" x=\"74.82\" y=\"-13.98\" font-family=\"DejaVu Serif,serif\" font-size=\"12.00\">1</text>\n",
       "</g>\n",
       "<!-- 0&#45;&gt;1 -->\n",
       "<g id=\"edge3\" class=\"edge\">\n",
       "<title>0&#45;&gt;1</title>\n",
       "<path fill=\"none\" stroke=\"black\" d=\"M21.33,-17.08C31.4,-17.08 47.28,-17.08 58.94,-17.08\"/>\n",
       "<polygon fill=\"black\" stroke=\"black\" points=\"58.96,-18.83 63.96,-17.08 58.96,-15.33 58.96,-18.83\"/>\n",
       "<text text-anchor=\"middle\" x=\"42.71\" y=\"-20.08\" font-family=\"DejaVu Serif,serif\" font-size=\"10.00\">2</text>\n",
       "</g>\n",
       "<!-- 1&#45;&gt;0 -->\n",
       "<g id=\"edge2\" class=\"edge\">\n",
       "<title>1&#45;&gt;0</title>\n",
       "<path fill=\"none\" stroke=\"black\" d=\"M65.63,-10.79C60.39,-7.17 53.27,-2.97 46.21,-1.08 38.21,1.08 29.77,-2.7 23.22,-7.12\"/>\n",
       "<polygon fill=\"black\" stroke=\"black\" points=\"22.01,-5.84 19.02,-10.22 24.08,-8.66 22.01,-5.84\"/>\n",
       "<text text-anchor=\"middle\" x=\"42.71\" y=\"-4.08\" font-family=\"DejaVu Serif,serif\" font-size=\"10.00\">1</text>\n",
       "</g>\n",
       "<!-- 1&#45;&gt;1 -->\n",
       "<g id=\"edge4\" class=\"edge\">\n",
       "<title>1&#45;&gt;1</title>\n",
       "<path fill=\"none\" stroke=\"black\" d=\"M72.28,-27.64C71.19,-36.46 72.04,-45.68 74.82,-45.68 77.04,-45.68 78.02,-39.83 77.78,-32.98\"/>\n",
       "<polygon fill=\"black\" stroke=\"black\" points=\"79.5,-32.48 77.36,-27.64 76.01,-32.76 79.5,-32.48\"/>\n",
       "<text text-anchor=\"middle\" x=\"74.82\" y=\"-48.68\" font-family=\"DejaVu Serif,serif\" font-size=\"10.00\">3</text>\n",
       "</g>\n",
       "<!-- 1&#45;&gt;1 -->\n",
       "<g id=\"edge5\" class=\"edge\">\n",
       "<title>1&#45;&gt;1</title>\n",
       "<path fill=\"none\" stroke=\"black\" d=\"M71.16,-27.15C67.1,-43.17 68.32,-63.68 74.82,-63.68 80.66,-63.68 82.24,-47.12 79.55,-32.14\"/>\n",
       "<polygon fill=\"black\" stroke=\"black\" points=\"81.24,-31.67 78.48,-27.15 77.82,-32.4 81.24,-31.67\"/>\n",
       "<text text-anchor=\"middle\" x=\"74.82\" y=\"-66.68\" font-family=\"DejaVu Serif,serif\" font-size=\"10.00\">4</text>\n",
       "</g>\n",
       "</g>\n",
       "</svg>\n"
      ],
      "text/plain": [
       "GAP: <A monomorphism in FinQuivers>"
      ]
     },
     "execution_count": 48,
     "metadata": {},
     "output_type": "execute_result"
    }
   ],
   "source": [
    "Ωs[1]"
   ]
  },
  {
   "cell_type": "code",
   "execution_count": 49,
   "id": "c209060e",
   "metadata": {},
   "outputs": [
    {
     "data": {
      "image/svg+xml": [
       "<?xml version=\"1.0\" encoding=\"UTF-8\" standalone=\"no\"?>\n",
       "<!DOCTYPE svg PUBLIC \"-//W3C//DTD SVG 1.1//EN\"\n",
       " \"http://www.w3.org/Graphics/SVG/1.1/DTD/svg11.dtd\">\n",
       "<!-- Generated by graphviz version 2.50.0 (20211204.2007)\n",
       " -->\n",
       "<!-- Title: subquiver Pages: 1 -->\n",
       "<svg width=\"93pt\" height=\"94pt\"\n",
       " viewBox=\"0.00 0.00 93.43 93.68\" xmlns=\"http://www.w3.org/2000/svg\" xmlns:xlink=\"http://www.w3.org/1999/xlink\">\n",
       "<g id=\"graph0\" class=\"graph\" transform=\"scale(1 1) rotate(0) translate(4 89.68)\">\n",
       "<title>subquiver</title>\n",
       "<polygon fill=\"white\" stroke=\"transparent\" points=\"-4,4 -4,-89.68 89.43,-89.68 89.43,4 -4,4\"/>\n",
       "<!-- 0 -->\n",
       "<g id=\"node1\" class=\"node\">\n",
       "<title>0</title>\n",
       "<ellipse fill=\"none\" stroke=\"#c1cdcd\" cx=\"10.61\" cy=\"-17.08\" rx=\"10.71\" ry=\"10.71\"/>\n",
       "<text text-anchor=\"middle\" x=\"10.61\" y=\"-13.98\" font-family=\"DejaVu Serif,serif\" font-size=\"12.00\" fill=\"#c1cdcd\">0</text>\n",
       "</g>\n",
       "<!-- 0&#45;&gt;0 -->\n",
       "<g id=\"edge1\" class=\"edge\">\n",
       "<title>0&#45;&gt;0</title>\n",
       "<path fill=\"none\" stroke=\"#c1cdcd\" d=\"M5.76,-26.75C3.24,-35.83 4.86,-45.68 10.61,-45.68 15.28,-45.68 17.22,-39.18 16.44,-31.87\"/>\n",
       "<polygon fill=\"#c1cdcd\" stroke=\"#c1cdcd\" points=\"18.12,-31.33 15.46,-26.75 14.68,-31.99 18.12,-31.33\"/>\n",
       "<text text-anchor=\"middle\" x=\"10.61\" y=\"-48.68\" font-family=\"DejaVu Serif,serif\" font-size=\"10.00\" fill=\"#c1cdcd\">0</text>\n",
       "</g>\n",
       "<!-- 1 -->\n",
       "<g id=\"node2\" class=\"node\">\n",
       "<title>1</title>\n",
       "<ellipse fill=\"none\" stroke=\"black\" cx=\"74.82\" cy=\"-17.08\" rx=\"10.71\" ry=\"10.71\"/>\n",
       "<text text-anchor=\"middle\" x=\"74.82\" y=\"-13.98\" font-family=\"DejaVu Serif,serif\" font-size=\"12.00\">1</text>\n",
       "</g>\n",
       "<!-- 0&#45;&gt;1 -->\n",
       "<g id=\"edge3\" class=\"edge\">\n",
       "<title>0&#45;&gt;1</title>\n",
       "<path fill=\"none\" stroke=\"#c1cdcd\" d=\"M21.33,-17.08C31.4,-17.08 47.28,-17.08 58.94,-17.08\"/>\n",
       "<polygon fill=\"#c1cdcd\" stroke=\"#c1cdcd\" points=\"58.96,-18.83 63.96,-17.08 58.96,-15.33 58.96,-18.83\"/>\n",
       "<text text-anchor=\"middle\" x=\"42.71\" y=\"-20.08\" font-family=\"DejaVu Serif,serif\" font-size=\"10.00\" fill=\"#c1cdcd\">2</text>\n",
       "</g>\n",
       "<!-- 1&#45;&gt;0 -->\n",
       "<g id=\"edge2\" class=\"edge\">\n",
       "<title>1&#45;&gt;0</title>\n",
       "<path fill=\"none\" stroke=\"#c1cdcd\" d=\"M65.63,-10.79C60.39,-7.17 53.27,-2.97 46.21,-1.08 38.21,1.08 29.77,-2.7 23.22,-7.12\"/>\n",
       "<polygon fill=\"#c1cdcd\" stroke=\"#c1cdcd\" points=\"22.01,-5.84 19.02,-10.22 24.08,-8.66 22.01,-5.84\"/>\n",
       "<text text-anchor=\"middle\" x=\"42.71\" y=\"-4.08\" font-family=\"DejaVu Serif,serif\" font-size=\"10.00\" fill=\"#c1cdcd\">1</text>\n",
       "</g>\n",
       "<!-- 1&#45;&gt;1 -->\n",
       "<g id=\"edge4\" class=\"edge\">\n",
       "<title>1&#45;&gt;1</title>\n",
       "<path fill=\"none\" stroke=\"black\" d=\"M72.28,-27.64C71.19,-36.46 72.04,-45.68 74.82,-45.68 77.04,-45.68 78.02,-39.83 77.78,-32.98\"/>\n",
       "<polygon fill=\"black\" stroke=\"black\" points=\"79.5,-32.48 77.36,-27.64 76.01,-32.76 79.5,-32.48\"/>\n",
       "<text text-anchor=\"middle\" x=\"74.82\" y=\"-48.68\" font-family=\"DejaVu Serif,serif\" font-size=\"10.00\">3</text>\n",
       "</g>\n",
       "<!-- 1&#45;&gt;1 -->\n",
       "<g id=\"edge5\" class=\"edge\">\n",
       "<title>1&#45;&gt;1</title>\n",
       "<path fill=\"none\" stroke=\"black\" d=\"M71.16,-27.15C67.1,-43.17 68.32,-63.68 74.82,-63.68 80.66,-63.68 82.24,-47.12 79.55,-32.14\"/>\n",
       "<polygon fill=\"black\" stroke=\"black\" points=\"81.24,-31.67 78.48,-27.15 77.82,-32.4 81.24,-31.67\"/>\n",
       "<text text-anchor=\"middle\" x=\"74.82\" y=\"-66.68\" font-family=\"DejaVu Serif,serif\" font-size=\"10.00\">4</text>\n",
       "</g>\n",
       "</g>\n",
       "</svg>\n"
      ],
      "text/plain": [
       "GAP: <A monomorphism in FinQuivers>"
      ]
     },
     "execution_count": 49,
     "metadata": {},
     "output_type": "execute_result"
    }
   ],
   "source": [
    "Ωs[2]"
   ]
  },
  {
   "cell_type": "code",
   "execution_count": 50,
   "id": "fc140dbe",
   "metadata": {},
   "outputs": [
    {
     "data": {
      "image/svg+xml": [
       "<?xml version=\"1.0\" encoding=\"UTF-8\" standalone=\"no\"?>\n",
       "<!DOCTYPE svg PUBLIC \"-//W3C//DTD SVG 1.1//EN\"\n",
       " \"http://www.w3.org/Graphics/SVG/1.1/DTD/svg11.dtd\">\n",
       "<!-- Generated by graphviz version 2.50.0 (20211204.2007)\n",
       " -->\n",
       "<!-- Title: subquiver Pages: 1 -->\n",
       "<svg width=\"93pt\" height=\"94pt\"\n",
       " viewBox=\"0.00 0.00 93.43 93.68\" xmlns=\"http://www.w3.org/2000/svg\" xmlns:xlink=\"http://www.w3.org/1999/xlink\">\n",
       "<g id=\"graph0\" class=\"graph\" transform=\"scale(1 1) rotate(0) translate(4 89.68)\">\n",
       "<title>subquiver</title>\n",
       "<polygon fill=\"white\" stroke=\"transparent\" points=\"-4,4 -4,-89.68 89.43,-89.68 89.43,4 -4,4\"/>\n",
       "<!-- 0 -->\n",
       "<g id=\"node1\" class=\"node\">\n",
       "<title>0</title>\n",
       "<ellipse fill=\"none\" stroke=\"black\" cx=\"10.61\" cy=\"-17.08\" rx=\"10.71\" ry=\"10.71\"/>\n",
       "<text text-anchor=\"middle\" x=\"10.61\" y=\"-13.98\" font-family=\"DejaVu Serif,serif\" font-size=\"12.00\">0</text>\n",
       "</g>\n",
       "<!-- 0&#45;&gt;0 -->\n",
       "<g id=\"edge1\" class=\"edge\">\n",
       "<title>0&#45;&gt;0</title>\n",
       "<path fill=\"none\" stroke=\"black\" d=\"M5.76,-26.75C3.24,-35.83 4.86,-45.68 10.61,-45.68 15.28,-45.68 17.22,-39.18 16.44,-31.87\"/>\n",
       "<polygon fill=\"black\" stroke=\"black\" points=\"18.12,-31.33 15.46,-26.75 14.68,-31.99 18.12,-31.33\"/>\n",
       "<text text-anchor=\"middle\" x=\"10.61\" y=\"-48.68\" font-family=\"DejaVu Serif,serif\" font-size=\"10.00\">0</text>\n",
       "</g>\n",
       "<!-- 1 -->\n",
       "<g id=\"node2\" class=\"node\">\n",
       "<title>1</title>\n",
       "<ellipse fill=\"none\" stroke=\"black\" cx=\"74.82\" cy=\"-17.08\" rx=\"10.71\" ry=\"10.71\"/>\n",
       "<text text-anchor=\"middle\" x=\"74.82\" y=\"-13.98\" font-family=\"DejaVu Serif,serif\" font-size=\"12.00\">1</text>\n",
       "</g>\n",
       "<!-- 0&#45;&gt;1 -->\n",
       "<g id=\"edge3\" class=\"edge\">\n",
       "<title>0&#45;&gt;1</title>\n",
       "<path fill=\"none\" stroke=\"black\" d=\"M21.33,-17.08C31.4,-17.08 47.28,-17.08 58.94,-17.08\"/>\n",
       "<polygon fill=\"black\" stroke=\"black\" points=\"58.96,-18.83 63.96,-17.08 58.96,-15.33 58.96,-18.83\"/>\n",
       "<text text-anchor=\"middle\" x=\"42.71\" y=\"-20.08\" font-family=\"DejaVu Serif,serif\" font-size=\"10.00\">2</text>\n",
       "</g>\n",
       "<!-- 1&#45;&gt;0 -->\n",
       "<g id=\"edge2\" class=\"edge\">\n",
       "<title>1&#45;&gt;0</title>\n",
       "<path fill=\"none\" stroke=\"black\" d=\"M65.63,-10.79C60.39,-7.17 53.27,-2.97 46.21,-1.08 38.21,1.08 29.77,-2.7 23.22,-7.12\"/>\n",
       "<polygon fill=\"black\" stroke=\"black\" points=\"22.01,-5.84 19.02,-10.22 24.08,-8.66 22.01,-5.84\"/>\n",
       "<text text-anchor=\"middle\" x=\"42.71\" y=\"-4.08\" font-family=\"DejaVu Serif,serif\" font-size=\"10.00\">1</text>\n",
       "</g>\n",
       "<!-- 1&#45;&gt;1 -->\n",
       "<g id=\"edge4\" class=\"edge\">\n",
       "<title>1&#45;&gt;1</title>\n",
       "<path fill=\"none\" stroke=\"#c1cdcd\" d=\"M72.28,-27.64C71.19,-36.46 72.04,-45.68 74.82,-45.68 77.04,-45.68 78.02,-39.83 77.78,-32.98\"/>\n",
       "<polygon fill=\"#c1cdcd\" stroke=\"#c1cdcd\" points=\"79.5,-32.48 77.36,-27.64 76.01,-32.76 79.5,-32.48\"/>\n",
       "<text text-anchor=\"middle\" x=\"74.82\" y=\"-48.68\" font-family=\"DejaVu Serif,serif\" font-size=\"10.00\" fill=\"#c1cdcd\">3</text>\n",
       "</g>\n",
       "<!-- 1&#45;&gt;1 -->\n",
       "<g id=\"edge5\" class=\"edge\">\n",
       "<title>1&#45;&gt;1</title>\n",
       "<path fill=\"none\" stroke=\"black\" d=\"M71.16,-27.15C67.1,-43.17 68.32,-63.68 74.82,-63.68 80.66,-63.68 82.24,-47.12 79.55,-32.14\"/>\n",
       "<polygon fill=\"black\" stroke=\"black\" points=\"81.24,-31.67 78.48,-27.15 77.82,-32.4 81.24,-31.67\"/>\n",
       "<text text-anchor=\"middle\" x=\"74.82\" y=\"-66.68\" font-family=\"DejaVu Serif,serif\" font-size=\"10.00\">4</text>\n",
       "</g>\n",
       "</g>\n",
       "</svg>\n"
      ],
      "text/plain": [
       "GAP: <A monomorphism in FinQuivers>"
      ]
     },
     "execution_count": 50,
     "metadata": {},
     "output_type": "execute_result"
    }
   ],
   "source": [
    "Ωs[3]"
   ]
  },
  {
   "cell_type": "code",
   "execution_count": 51,
   "id": "80264bfa",
   "metadata": {},
   "outputs": [
    {
     "data": {
      "image/svg+xml": [
       "<?xml version=\"1.0\" encoding=\"UTF-8\" standalone=\"no\"?>\n",
       "<!DOCTYPE svg PUBLIC \"-//W3C//DTD SVG 1.1//EN\"\n",
       " \"http://www.w3.org/Graphics/SVG/1.1/DTD/svg11.dtd\">\n",
       "<!-- Generated by graphviz version 2.50.0 (20211204.2007)\n",
       " -->\n",
       "<!-- Title: subquiver Pages: 1 -->\n",
       "<svg width=\"93pt\" height=\"94pt\"\n",
       " viewBox=\"0.00 0.00 93.43 93.68\" xmlns=\"http://www.w3.org/2000/svg\" xmlns:xlink=\"http://www.w3.org/1999/xlink\">\n",
       "<g id=\"graph0\" class=\"graph\" transform=\"scale(1 1) rotate(0) translate(4 89.68)\">\n",
       "<title>subquiver</title>\n",
       "<polygon fill=\"white\" stroke=\"transparent\" points=\"-4,4 -4,-89.68 89.43,-89.68 89.43,4 -4,4\"/>\n",
       "<!-- 0 -->\n",
       "<g id=\"node1\" class=\"node\">\n",
       "<title>0</title>\n",
       "<ellipse fill=\"none\" stroke=\"#c1cdcd\" cx=\"10.61\" cy=\"-17.08\" rx=\"10.71\" ry=\"10.71\"/>\n",
       "<text text-anchor=\"middle\" x=\"10.61\" y=\"-13.98\" font-family=\"DejaVu Serif,serif\" font-size=\"12.00\" fill=\"#c1cdcd\">0</text>\n",
       "</g>\n",
       "<!-- 0&#45;&gt;0 -->\n",
       "<g id=\"edge1\" class=\"edge\">\n",
       "<title>0&#45;&gt;0</title>\n",
       "<path fill=\"none\" stroke=\"#c1cdcd\" d=\"M5.76,-26.75C3.24,-35.83 4.86,-45.68 10.61,-45.68 15.28,-45.68 17.22,-39.18 16.44,-31.87\"/>\n",
       "<polygon fill=\"#c1cdcd\" stroke=\"#c1cdcd\" points=\"18.12,-31.33 15.46,-26.75 14.68,-31.99 18.12,-31.33\"/>\n",
       "<text text-anchor=\"middle\" x=\"10.61\" y=\"-48.68\" font-family=\"DejaVu Serif,serif\" font-size=\"10.00\" fill=\"#c1cdcd\">0</text>\n",
       "</g>\n",
       "<!-- 1 -->\n",
       "<g id=\"node2\" class=\"node\">\n",
       "<title>1</title>\n",
       "<ellipse fill=\"none\" stroke=\"black\" cx=\"74.82\" cy=\"-17.08\" rx=\"10.71\" ry=\"10.71\"/>\n",
       "<text text-anchor=\"middle\" x=\"74.82\" y=\"-13.98\" font-family=\"DejaVu Serif,serif\" font-size=\"12.00\">1</text>\n",
       "</g>\n",
       "<!-- 0&#45;&gt;1 -->\n",
       "<g id=\"edge3\" class=\"edge\">\n",
       "<title>0&#45;&gt;1</title>\n",
       "<path fill=\"none\" stroke=\"#c1cdcd\" d=\"M21.33,-17.08C31.4,-17.08 47.28,-17.08 58.94,-17.08\"/>\n",
       "<polygon fill=\"#c1cdcd\" stroke=\"#c1cdcd\" points=\"58.96,-18.83 63.96,-17.08 58.96,-15.33 58.96,-18.83\"/>\n",
       "<text text-anchor=\"middle\" x=\"42.71\" y=\"-20.08\" font-family=\"DejaVu Serif,serif\" font-size=\"10.00\" fill=\"#c1cdcd\">2</text>\n",
       "</g>\n",
       "<!-- 1&#45;&gt;0 -->\n",
       "<g id=\"edge2\" class=\"edge\">\n",
       "<title>1&#45;&gt;0</title>\n",
       "<path fill=\"none\" stroke=\"#c1cdcd\" d=\"M65.63,-10.79C60.39,-7.17 53.27,-2.97 46.21,-1.08 38.21,1.08 29.77,-2.7 23.22,-7.12\"/>\n",
       "<polygon fill=\"#c1cdcd\" stroke=\"#c1cdcd\" points=\"22.01,-5.84 19.02,-10.22 24.08,-8.66 22.01,-5.84\"/>\n",
       "<text text-anchor=\"middle\" x=\"42.71\" y=\"-4.08\" font-family=\"DejaVu Serif,serif\" font-size=\"10.00\" fill=\"#c1cdcd\">1</text>\n",
       "</g>\n",
       "<!-- 1&#45;&gt;1 -->\n",
       "<g id=\"edge4\" class=\"edge\">\n",
       "<title>1&#45;&gt;1</title>\n",
       "<path fill=\"none\" stroke=\"#c1cdcd\" d=\"M72.28,-27.64C71.19,-36.46 72.04,-45.68 74.82,-45.68 77.04,-45.68 78.02,-39.83 77.78,-32.98\"/>\n",
       "<polygon fill=\"#c1cdcd\" stroke=\"#c1cdcd\" points=\"79.5,-32.48 77.36,-27.64 76.01,-32.76 79.5,-32.48\"/>\n",
       "<text text-anchor=\"middle\" x=\"74.82\" y=\"-48.68\" font-family=\"DejaVu Serif,serif\" font-size=\"10.00\" fill=\"#c1cdcd\">3</text>\n",
       "</g>\n",
       "<!-- 1&#45;&gt;1 -->\n",
       "<g id=\"edge5\" class=\"edge\">\n",
       "<title>1&#45;&gt;1</title>\n",
       "<path fill=\"none\" stroke=\"black\" d=\"M71.16,-27.15C67.1,-43.17 68.32,-63.68 74.82,-63.68 80.66,-63.68 82.24,-47.12 79.55,-32.14\"/>\n",
       "<polygon fill=\"black\" stroke=\"black\" points=\"81.24,-31.67 78.48,-27.15 77.82,-32.4 81.24,-31.67\"/>\n",
       "<text text-anchor=\"middle\" x=\"74.82\" y=\"-66.68\" font-family=\"DejaVu Serif,serif\" font-size=\"10.00\">4</text>\n",
       "</g>\n",
       "</g>\n",
       "</svg>\n"
      ],
      "text/plain": [
       "GAP: <A monomorphism in FinQuivers>"
      ]
     },
     "execution_count": 51,
     "metadata": {},
     "output_type": "execute_result"
    }
   ],
   "source": [
    "Ωs[4]"
   ]
  },
  {
   "cell_type": "code",
   "execution_count": 52,
   "id": "fb1e4a8c",
   "metadata": {},
   "outputs": [
    {
     "data": {
      "image/svg+xml": [
       "<?xml version=\"1.0\" encoding=\"UTF-8\" standalone=\"no\"?>\n",
       "<!DOCTYPE svg PUBLIC \"-//W3C//DTD SVG 1.1//EN\"\n",
       " \"http://www.w3.org/Graphics/SVG/1.1/DTD/svg11.dtd\">\n",
       "<!-- Generated by graphviz version 2.50.0 (20211204.2007)\n",
       " -->\n",
       "<!-- Title: subquiver Pages: 1 -->\n",
       "<svg width=\"93pt\" height=\"94pt\"\n",
       " viewBox=\"0.00 0.00 93.43 93.68\" xmlns=\"http://www.w3.org/2000/svg\" xmlns:xlink=\"http://www.w3.org/1999/xlink\">\n",
       "<g id=\"graph0\" class=\"graph\" transform=\"scale(1 1) rotate(0) translate(4 89.68)\">\n",
       "<title>subquiver</title>\n",
       "<polygon fill=\"white\" stroke=\"transparent\" points=\"-4,4 -4,-89.68 89.43,-89.68 89.43,4 -4,4\"/>\n",
       "<!-- 0 -->\n",
       "<g id=\"node1\" class=\"node\">\n",
       "<title>0</title>\n",
       "<ellipse fill=\"none\" stroke=\"#c1cdcd\" cx=\"10.61\" cy=\"-17.08\" rx=\"10.71\" ry=\"10.71\"/>\n",
       "<text text-anchor=\"middle\" x=\"10.61\" y=\"-13.98\" font-family=\"DejaVu Serif,serif\" font-size=\"12.00\" fill=\"#c1cdcd\">0</text>\n",
       "</g>\n",
       "<!-- 0&#45;&gt;0 -->\n",
       "<g id=\"edge1\" class=\"edge\">\n",
       "<title>0&#45;&gt;0</title>\n",
       "<path fill=\"none\" stroke=\"#c1cdcd\" d=\"M5.76,-26.75C3.24,-35.83 4.86,-45.68 10.61,-45.68 15.28,-45.68 17.22,-39.18 16.44,-31.87\"/>\n",
       "<polygon fill=\"#c1cdcd\" stroke=\"#c1cdcd\" points=\"18.12,-31.33 15.46,-26.75 14.68,-31.99 18.12,-31.33\"/>\n",
       "<text text-anchor=\"middle\" x=\"10.61\" y=\"-48.68\" font-family=\"DejaVu Serif,serif\" font-size=\"10.00\" fill=\"#c1cdcd\">0</text>\n",
       "</g>\n",
       "<!-- 1 -->\n",
       "<g id=\"node2\" class=\"node\">\n",
       "<title>1</title>\n",
       "<ellipse fill=\"none\" stroke=\"#c1cdcd\" cx=\"74.82\" cy=\"-17.08\" rx=\"10.71\" ry=\"10.71\"/>\n",
       "<text text-anchor=\"middle\" x=\"74.82\" y=\"-13.98\" font-family=\"DejaVu Serif,serif\" font-size=\"12.00\" fill=\"#c1cdcd\">1</text>\n",
       "</g>\n",
       "<!-- 0&#45;&gt;1 -->\n",
       "<g id=\"edge3\" class=\"edge\">\n",
       "<title>0&#45;&gt;1</title>\n",
       "<path fill=\"none\" stroke=\"#c1cdcd\" d=\"M21.33,-17.08C31.4,-17.08 47.28,-17.08 58.94,-17.08\"/>\n",
       "<polygon fill=\"#c1cdcd\" stroke=\"#c1cdcd\" points=\"58.96,-18.83 63.96,-17.08 58.96,-15.33 58.96,-18.83\"/>\n",
       "<text text-anchor=\"middle\" x=\"42.71\" y=\"-20.08\" font-family=\"DejaVu Serif,serif\" font-size=\"10.00\" fill=\"#c1cdcd\">2</text>\n",
       "</g>\n",
       "<!-- 1&#45;&gt;0 -->\n",
       "<g id=\"edge2\" class=\"edge\">\n",
       "<title>1&#45;&gt;0</title>\n",
       "<path fill=\"none\" stroke=\"#c1cdcd\" d=\"M65.63,-10.79C60.39,-7.17 53.27,-2.97 46.21,-1.08 38.21,1.08 29.77,-2.7 23.22,-7.12\"/>\n",
       "<polygon fill=\"#c1cdcd\" stroke=\"#c1cdcd\" points=\"22.01,-5.84 19.02,-10.22 24.08,-8.66 22.01,-5.84\"/>\n",
       "<text text-anchor=\"middle\" x=\"42.71\" y=\"-4.08\" font-family=\"DejaVu Serif,serif\" font-size=\"10.00\" fill=\"#c1cdcd\">1</text>\n",
       "</g>\n",
       "<!-- 1&#45;&gt;1 -->\n",
       "<g id=\"edge4\" class=\"edge\">\n",
       "<title>1&#45;&gt;1</title>\n",
       "<path fill=\"none\" stroke=\"#c1cdcd\" d=\"M72.28,-27.64C71.19,-36.46 72.04,-45.68 74.82,-45.68 77.04,-45.68 78.02,-39.83 77.78,-32.98\"/>\n",
       "<polygon fill=\"#c1cdcd\" stroke=\"#c1cdcd\" points=\"79.5,-32.48 77.36,-27.64 76.01,-32.76 79.5,-32.48\"/>\n",
       "<text text-anchor=\"middle\" x=\"74.82\" y=\"-48.68\" font-family=\"DejaVu Serif,serif\" font-size=\"10.00\" fill=\"#c1cdcd\">3</text>\n",
       "</g>\n",
       "<!-- 1&#45;&gt;1 -->\n",
       "<g id=\"edge5\" class=\"edge\">\n",
       "<title>1&#45;&gt;1</title>\n",
       "<path fill=\"none\" stroke=\"#c1cdcd\" d=\"M71.16,-27.15C67.1,-43.17 68.32,-63.68 74.82,-63.68 80.66,-63.68 82.24,-47.12 79.55,-32.14\"/>\n",
       "<polygon fill=\"#c1cdcd\" stroke=\"#c1cdcd\" points=\"81.24,-31.67 78.48,-27.15 77.82,-32.4 81.24,-31.67\"/>\n",
       "<text text-anchor=\"middle\" x=\"74.82\" y=\"-66.68\" font-family=\"DejaVu Serif,serif\" font-size=\"10.00\" fill=\"#c1cdcd\">4</text>\n",
       "</g>\n",
       "</g>\n",
       "</svg>\n"
      ],
      "text/plain": [
       "GAP: <A monomorphism in FinQuivers>"
      ]
     },
     "execution_count": 52,
     "metadata": {},
     "output_type": "execute_result"
    }
   ],
   "source": [
    "f = subobjects[1]"
   ]
  },
  {
   "cell_type": "markdown",
   "id": "657ff49b",
   "metadata": {},
   "source": [
    "Specify a subquiver $S$ with no dangling vertices by specfying its arrows:"
   ]
  },
  {
   "cell_type": "code",
   "execution_count": 53,
   "id": "ad9d4b7d",
   "metadata": {},
   "outputs": [
    {
     "data": {
      "image/svg+xml": [
       "<?xml version=\"1.0\" encoding=\"UTF-8\" standalone=\"no\"?>\n",
       "<!DOCTYPE svg PUBLIC \"-//W3C//DTD SVG 1.1//EN\"\n",
       " \"http://www.w3.org/Graphics/SVG/1.1/DTD/svg11.dtd\">\n",
       "<!-- Generated by graphviz version 2.50.0 (20211204.2007)\n",
       " -->\n",
       "<!-- Title: subquiver Pages: 1 -->\n",
       "<svg width=\"93pt\" height=\"94pt\"\n",
       " viewBox=\"0.00 0.00 93.43 93.68\" xmlns=\"http://www.w3.org/2000/svg\" xmlns:xlink=\"http://www.w3.org/1999/xlink\">\n",
       "<g id=\"graph0\" class=\"graph\" transform=\"scale(1 1) rotate(0) translate(4 89.68)\">\n",
       "<title>subquiver</title>\n",
       "<polygon fill=\"white\" stroke=\"transparent\" points=\"-4,4 -4,-89.68 89.43,-89.68 89.43,4 -4,4\"/>\n",
       "<!-- 0 -->\n",
       "<g id=\"node1\" class=\"node\">\n",
       "<title>0</title>\n",
       "<ellipse fill=\"none\" stroke=\"#c1cdcd\" cx=\"10.61\" cy=\"-17.08\" rx=\"10.71\" ry=\"10.71\"/>\n",
       "<text text-anchor=\"middle\" x=\"10.61\" y=\"-13.98\" font-family=\"DejaVu Serif,serif\" font-size=\"12.00\" fill=\"#c1cdcd\">0</text>\n",
       "</g>\n",
       "<!-- 0&#45;&gt;0 -->\n",
       "<g id=\"edge1\" class=\"edge\">\n",
       "<title>0&#45;&gt;0</title>\n",
       "<path fill=\"none\" stroke=\"#c1cdcd\" d=\"M5.76,-26.75C3.24,-35.83 4.86,-45.68 10.61,-45.68 15.28,-45.68 17.22,-39.18 16.44,-31.87\"/>\n",
       "<polygon fill=\"#c1cdcd\" stroke=\"#c1cdcd\" points=\"18.12,-31.33 15.46,-26.75 14.68,-31.99 18.12,-31.33\"/>\n",
       "<text text-anchor=\"middle\" x=\"10.61\" y=\"-48.68\" font-family=\"DejaVu Serif,serif\" font-size=\"10.00\" fill=\"#c1cdcd\">0</text>\n",
       "</g>\n",
       "<!-- 1 -->\n",
       "<g id=\"node2\" class=\"node\">\n",
       "<title>1</title>\n",
       "<ellipse fill=\"none\" stroke=\"black\" cx=\"74.82\" cy=\"-17.08\" rx=\"10.71\" ry=\"10.71\"/>\n",
       "<text text-anchor=\"middle\" x=\"74.82\" y=\"-13.98\" font-family=\"DejaVu Serif,serif\" font-size=\"12.00\">1</text>\n",
       "</g>\n",
       "<!-- 0&#45;&gt;1 -->\n",
       "<g id=\"edge3\" class=\"edge\">\n",
       "<title>0&#45;&gt;1</title>\n",
       "<path fill=\"none\" stroke=\"#c1cdcd\" d=\"M21.33,-17.08C31.4,-17.08 47.28,-17.08 58.94,-17.08\"/>\n",
       "<polygon fill=\"#c1cdcd\" stroke=\"#c1cdcd\" points=\"58.96,-18.83 63.96,-17.08 58.96,-15.33 58.96,-18.83\"/>\n",
       "<text text-anchor=\"middle\" x=\"42.71\" y=\"-20.08\" font-family=\"DejaVu Serif,serif\" font-size=\"10.00\" fill=\"#c1cdcd\">2</text>\n",
       "</g>\n",
       "<!-- 1&#45;&gt;0 -->\n",
       "<g id=\"edge2\" class=\"edge\">\n",
       "<title>1&#45;&gt;0</title>\n",
       "<path fill=\"none\" stroke=\"#c1cdcd\" d=\"M65.63,-10.79C60.39,-7.17 53.27,-2.97 46.21,-1.08 38.21,1.08 29.77,-2.7 23.22,-7.12\"/>\n",
       "<polygon fill=\"#c1cdcd\" stroke=\"#c1cdcd\" points=\"22.01,-5.84 19.02,-10.22 24.08,-8.66 22.01,-5.84\"/>\n",
       "<text text-anchor=\"middle\" x=\"42.71\" y=\"-4.08\" font-family=\"DejaVu Serif,serif\" font-size=\"10.00\" fill=\"#c1cdcd\">1</text>\n",
       "</g>\n",
       "<!-- 1&#45;&gt;1 -->\n",
       "<g id=\"edge4\" class=\"edge\">\n",
       "<title>1&#45;&gt;1</title>\n",
       "<path fill=\"none\" stroke=\"black\" d=\"M72.28,-27.64C71.19,-36.46 72.04,-45.68 74.82,-45.68 77.04,-45.68 78.02,-39.83 77.78,-32.98\"/>\n",
       "<polygon fill=\"black\" stroke=\"black\" points=\"79.5,-32.48 77.36,-27.64 76.01,-32.76 79.5,-32.48\"/>\n",
       "<text text-anchor=\"middle\" x=\"74.82\" y=\"-48.68\" font-family=\"DejaVu Serif,serif\" font-size=\"10.00\">3</text>\n",
       "</g>\n",
       "<!-- 1&#45;&gt;1 -->\n",
       "<g id=\"edge5\" class=\"edge\">\n",
       "<title>1&#45;&gt;1</title>\n",
       "<path fill=\"none\" stroke=\"#c1cdcd\" d=\"M71.16,-27.15C67.1,-43.17 68.32,-63.68 74.82,-63.68 80.66,-63.68 82.24,-47.12 79.55,-32.14\"/>\n",
       "<polygon fill=\"#c1cdcd\" stroke=\"#c1cdcd\" points=\"81.24,-31.67 78.48,-27.15 77.82,-32.4 81.24,-31.67\"/>\n",
       "<text text-anchor=\"middle\" x=\"74.82\" y=\"-66.68\" font-family=\"DejaVu Serif,serif\" font-size=\"10.00\" fill=\"#c1cdcd\">4</text>\n",
       "</g>\n",
       "</g>\n",
       "</svg>\n"
      ],
      "text/plain": [
       "GAP: <A monomorphism in FinQuivers>"
      ]
     },
     "execution_count": 53,
     "metadata": {},
     "output_type": "execute_result"
    }
   ],
   "source": [
    "S = Subobject( Ω, [ 3 ] )"
   ]
  },
  {
   "cell_type": "code",
   "execution_count": 54,
   "id": "2f95f829",
   "metadata": {},
   "outputs": [
    {
     "data": {
      "text/plain": [
       "13"
      ]
     },
     "execution_count": 54,
     "metadata": {},
     "output_type": "execute_result"
    }
   ],
   "source": [
    "posS = Position( subobjects, S )"
   ]
  },
  {
   "cell_type": "code",
   "execution_count": 55,
   "id": "1d912924",
   "metadata": {},
   "outputs": [
    {
     "data": {
      "text/plain": [
       "true"
      ]
     },
     "execution_count": 55,
     "metadata": {},
     "output_type": "execute_result"
    }
   ],
   "source": [
    "S == subobjects[posS]"
   ]
  },
  {
   "cell_type": "code",
   "execution_count": 56,
   "id": "b36856f8",
   "metadata": {},
   "outputs": [
    {
     "data": {
      "image/svg+xml": [
       "<?xml version=\"1.0\" encoding=\"UTF-8\" standalone=\"no\"?>\n",
       "<!DOCTYPE svg PUBLIC \"-//W3C//DTD SVG 1.1//EN\"\n",
       " \"http://www.w3.org/Graphics/SVG/1.1/DTD/svg11.dtd\">\n",
       "<!-- Generated by graphviz version 2.50.0 (20211204.2007)\n",
       " -->\n",
       "<!-- Title: subquiver Pages: 1 -->\n",
       "<svg width=\"93pt\" height=\"94pt\"\n",
       " viewBox=\"0.00 0.00 93.43 93.68\" xmlns=\"http://www.w3.org/2000/svg\" xmlns:xlink=\"http://www.w3.org/1999/xlink\">\n",
       "<g id=\"graph0\" class=\"graph\" transform=\"scale(1 1) rotate(0) translate(4 89.68)\">\n",
       "<title>subquiver</title>\n",
       "<polygon fill=\"white\" stroke=\"transparent\" points=\"-4,4 -4,-89.68 89.43,-89.68 89.43,4 -4,4\"/>\n",
       "<!-- 0 -->\n",
       "<g id=\"node1\" class=\"node\">\n",
       "<title>0</title>\n",
       "<ellipse fill=\"none\" stroke=\"black\" cx=\"10.61\" cy=\"-17.08\" rx=\"10.71\" ry=\"10.71\"/>\n",
       "<text text-anchor=\"middle\" x=\"10.61\" y=\"-13.98\" font-family=\"DejaVu Serif,serif\" font-size=\"12.00\">0</text>\n",
       "</g>\n",
       "<!-- 0&#45;&gt;0 -->\n",
       "<g id=\"edge1\" class=\"edge\">\n",
       "<title>0&#45;&gt;0</title>\n",
       "<path fill=\"none\" stroke=\"black\" d=\"M5.76,-26.75C3.24,-35.83 4.86,-45.68 10.61,-45.68 15.28,-45.68 17.22,-39.18 16.44,-31.87\"/>\n",
       "<polygon fill=\"black\" stroke=\"black\" points=\"18.12,-31.33 15.46,-26.75 14.68,-31.99 18.12,-31.33\"/>\n",
       "<text text-anchor=\"middle\" x=\"10.61\" y=\"-48.68\" font-family=\"DejaVu Serif,serif\" font-size=\"10.00\">0</text>\n",
       "</g>\n",
       "<!-- 1 -->\n",
       "<g id=\"node2\" class=\"node\">\n",
       "<title>1</title>\n",
       "<ellipse fill=\"none\" stroke=\"#c1cdcd\" cx=\"74.82\" cy=\"-17.08\" rx=\"10.71\" ry=\"10.71\"/>\n",
       "<text text-anchor=\"middle\" x=\"74.82\" y=\"-13.98\" font-family=\"DejaVu Serif,serif\" font-size=\"12.00\" fill=\"#c1cdcd\">1</text>\n",
       "</g>\n",
       "<!-- 0&#45;&gt;1 -->\n",
       "<g id=\"edge3\" class=\"edge\">\n",
       "<title>0&#45;&gt;1</title>\n",
       "<path fill=\"none\" stroke=\"#c1cdcd\" d=\"M21.33,-17.08C31.4,-17.08 47.28,-17.08 58.94,-17.08\"/>\n",
       "<polygon fill=\"#c1cdcd\" stroke=\"#c1cdcd\" points=\"58.96,-18.83 63.96,-17.08 58.96,-15.33 58.96,-18.83\"/>\n",
       "<text text-anchor=\"middle\" x=\"42.71\" y=\"-20.08\" font-family=\"DejaVu Serif,serif\" font-size=\"10.00\" fill=\"#c1cdcd\">2</text>\n",
       "</g>\n",
       "<!-- 1&#45;&gt;0 -->\n",
       "<g id=\"edge2\" class=\"edge\">\n",
       "<title>1&#45;&gt;0</title>\n",
       "<path fill=\"none\" stroke=\"#c1cdcd\" d=\"M65.63,-10.79C60.39,-7.17 53.27,-2.97 46.21,-1.08 38.21,1.08 29.77,-2.7 23.22,-7.12\"/>\n",
       "<polygon fill=\"#c1cdcd\" stroke=\"#c1cdcd\" points=\"22.01,-5.84 19.02,-10.22 24.08,-8.66 22.01,-5.84\"/>\n",
       "<text text-anchor=\"middle\" x=\"42.71\" y=\"-4.08\" font-family=\"DejaVu Serif,serif\" font-size=\"10.00\" fill=\"#c1cdcd\">1</text>\n",
       "</g>\n",
       "<!-- 1&#45;&gt;1 -->\n",
       "<g id=\"edge4\" class=\"edge\">\n",
       "<title>1&#45;&gt;1</title>\n",
       "<path fill=\"none\" stroke=\"#c1cdcd\" d=\"M72.28,-27.64C71.19,-36.46 72.04,-45.68 74.82,-45.68 77.04,-45.68 78.02,-39.83 77.78,-32.98\"/>\n",
       "<polygon fill=\"#c1cdcd\" stroke=\"#c1cdcd\" points=\"79.5,-32.48 77.36,-27.64 76.01,-32.76 79.5,-32.48\"/>\n",
       "<text text-anchor=\"middle\" x=\"74.82\" y=\"-48.68\" font-family=\"DejaVu Serif,serif\" font-size=\"10.00\" fill=\"#c1cdcd\">3</text>\n",
       "</g>\n",
       "<!-- 1&#45;&gt;1 -->\n",
       "<g id=\"edge5\" class=\"edge\">\n",
       "<title>1&#45;&gt;1</title>\n",
       "<path fill=\"none\" stroke=\"#c1cdcd\" d=\"M71.16,-27.15C67.1,-43.17 68.32,-63.68 74.82,-63.68 80.66,-63.68 82.24,-47.12 79.55,-32.14\"/>\n",
       "<polygon fill=\"#c1cdcd\" stroke=\"#c1cdcd\" points=\"81.24,-31.67 78.48,-27.15 77.82,-32.4 81.24,-31.67\"/>\n",
       "<text text-anchor=\"middle\" x=\"74.82\" y=\"-66.68\" font-family=\"DejaVu Serif,serif\" font-size=\"10.00\" fill=\"#c1cdcd\">4</text>\n",
       "</g>\n",
       "</g>\n",
       "</svg>\n"
      ],
      "text/plain": [
       "GAP: <A monomorphism in FinQuivers>"
      ]
     },
     "execution_count": 56,
     "metadata": {},
     "output_type": "execute_result"
    }
   ],
   "source": [
    "notS = EmbeddingOfPseudoComplementSubobject( S )"
   ]
  },
  {
   "cell_type": "code",
   "execution_count": 57,
   "id": "51a06f30",
   "metadata": {},
   "outputs": [
    {
     "data": {
      "text/plain": [
       "3"
      ]
     },
     "execution_count": 57,
     "metadata": {},
     "output_type": "execute_result"
    }
   ],
   "source": [
    "pos = Position( subobjects, notS )"
   ]
  },
  {
   "cell_type": "code",
   "execution_count": 58,
   "id": "465af233",
   "metadata": {},
   "outputs": [
    {
     "data": {
      "text/plain": [
       "true"
      ]
     },
     "execution_count": 58,
     "metadata": {},
     "output_type": "execute_result"
    }
   ],
   "source": [
    "notS == subobjects[pos]"
   ]
  },
  {
   "cell_type": "code",
   "execution_count": 59,
   "id": "0245f422",
   "metadata": {},
   "outputs": [
    {
     "data": {
      "image/svg+xml": [
       "<?xml version=\"1.0\" encoding=\"UTF-8\" standalone=\"no\"?>\n",
       "<!DOCTYPE svg PUBLIC \"-//W3C//DTD SVG 1.1//EN\"\n",
       " \"http://www.w3.org/Graphics/SVG/1.1/DTD/svg11.dtd\">\n",
       "<!-- Generated by graphviz version 2.50.0 (20211204.2007)\n",
       " -->\n",
       "<!-- Title: subquiver Pages: 1 -->\n",
       "<svg width=\"93pt\" height=\"94pt\"\n",
       " viewBox=\"0.00 0.00 93.43 93.68\" xmlns=\"http://www.w3.org/2000/svg\" xmlns:xlink=\"http://www.w3.org/1999/xlink\">\n",
       "<g id=\"graph0\" class=\"graph\" transform=\"scale(1 1) rotate(0) translate(4 89.68)\">\n",
       "<title>subquiver</title>\n",
       "<polygon fill=\"white\" stroke=\"transparent\" points=\"-4,4 -4,-89.68 89.43,-89.68 89.43,4 -4,4\"/>\n",
       "<!-- 0 -->\n",
       "<g id=\"node1\" class=\"node\">\n",
       "<title>0</title>\n",
       "<ellipse fill=\"none\" stroke=\"#c1cdcd\" cx=\"10.61\" cy=\"-17.08\" rx=\"10.71\" ry=\"10.71\"/>\n",
       "<text text-anchor=\"middle\" x=\"10.61\" y=\"-13.98\" font-family=\"DejaVu Serif,serif\" font-size=\"12.00\" fill=\"#c1cdcd\">0</text>\n",
       "</g>\n",
       "<!-- 0&#45;&gt;0 -->\n",
       "<g id=\"edge1\" class=\"edge\">\n",
       "<title>0&#45;&gt;0</title>\n",
       "<path fill=\"none\" stroke=\"#c1cdcd\" d=\"M5.76,-26.75C3.24,-35.83 4.86,-45.68 10.61,-45.68 15.28,-45.68 17.22,-39.18 16.44,-31.87\"/>\n",
       "<polygon fill=\"#c1cdcd\" stroke=\"#c1cdcd\" points=\"18.12,-31.33 15.46,-26.75 14.68,-31.99 18.12,-31.33\"/>\n",
       "<text text-anchor=\"middle\" x=\"10.61\" y=\"-48.68\" font-family=\"DejaVu Serif,serif\" font-size=\"10.00\" fill=\"#c1cdcd\">0</text>\n",
       "</g>\n",
       "<!-- 1 -->\n",
       "<g id=\"node2\" class=\"node\">\n",
       "<title>1</title>\n",
       "<ellipse fill=\"none\" stroke=\"black\" cx=\"74.82\" cy=\"-17.08\" rx=\"10.71\" ry=\"10.71\"/>\n",
       "<text text-anchor=\"middle\" x=\"74.82\" y=\"-13.98\" font-family=\"DejaVu Serif,serif\" font-size=\"12.00\">1</text>\n",
       "</g>\n",
       "<!-- 0&#45;&gt;1 -->\n",
       "<g id=\"edge3\" class=\"edge\">\n",
       "<title>0&#45;&gt;1</title>\n",
       "<path fill=\"none\" stroke=\"#c1cdcd\" d=\"M21.33,-17.08C31.4,-17.08 47.28,-17.08 58.94,-17.08\"/>\n",
       "<polygon fill=\"#c1cdcd\" stroke=\"#c1cdcd\" points=\"58.96,-18.83 63.96,-17.08 58.96,-15.33 58.96,-18.83\"/>\n",
       "<text text-anchor=\"middle\" x=\"42.71\" y=\"-20.08\" font-family=\"DejaVu Serif,serif\" font-size=\"10.00\" fill=\"#c1cdcd\">2</text>\n",
       "</g>\n",
       "<!-- 1&#45;&gt;0 -->\n",
       "<g id=\"edge2\" class=\"edge\">\n",
       "<title>1&#45;&gt;0</title>\n",
       "<path fill=\"none\" stroke=\"#c1cdcd\" d=\"M65.63,-10.79C60.39,-7.17 53.27,-2.97 46.21,-1.08 38.21,1.08 29.77,-2.7 23.22,-7.12\"/>\n",
       "<polygon fill=\"#c1cdcd\" stroke=\"#c1cdcd\" points=\"22.01,-5.84 19.02,-10.22 24.08,-8.66 22.01,-5.84\"/>\n",
       "<text text-anchor=\"middle\" x=\"42.71\" y=\"-4.08\" font-family=\"DejaVu Serif,serif\" font-size=\"10.00\" fill=\"#c1cdcd\">1</text>\n",
       "</g>\n",
       "<!-- 1&#45;&gt;1 -->\n",
       "<g id=\"edge4\" class=\"edge\">\n",
       "<title>1&#45;&gt;1</title>\n",
       "<path fill=\"none\" stroke=\"black\" d=\"M72.28,-27.64C71.19,-36.46 72.04,-45.68 74.82,-45.68 77.04,-45.68 78.02,-39.83 77.78,-32.98\"/>\n",
       "<polygon fill=\"black\" stroke=\"black\" points=\"79.5,-32.48 77.36,-27.64 76.01,-32.76 79.5,-32.48\"/>\n",
       "<text text-anchor=\"middle\" x=\"74.82\" y=\"-48.68\" font-family=\"DejaVu Serif,serif\" font-size=\"10.00\">3</text>\n",
       "</g>\n",
       "<!-- 1&#45;&gt;1 -->\n",
       "<g id=\"edge5\" class=\"edge\">\n",
       "<title>1&#45;&gt;1</title>\n",
       "<path fill=\"none\" stroke=\"black\" d=\"M71.16,-27.15C67.1,-43.17 68.32,-63.68 74.82,-63.68 80.66,-63.68 82.24,-47.12 79.55,-32.14\"/>\n",
       "<polygon fill=\"black\" stroke=\"black\" points=\"81.24,-31.67 78.48,-27.15 77.82,-32.4 81.24,-31.67\"/>\n",
       "<text text-anchor=\"middle\" x=\"74.82\" y=\"-66.68\" font-family=\"DejaVu Serif,serif\" font-size=\"10.00\">4</text>\n",
       "</g>\n",
       "</g>\n",
       "</svg>\n"
      ],
      "text/plain": [
       "GAP: <A monomorphism in FinQuivers>"
      ]
     },
     "execution_count": 59,
     "metadata": {},
     "output_type": "execute_result"
    }
   ],
   "source": [
    "notnotS = EmbeddingOfPseudoComplementSubobject( notS )"
   ]
  },
  {
   "cell_type": "code",
   "execution_count": 60,
   "id": "bd0b4ce9",
   "metadata": {},
   "outputs": [
    {
     "data": {
      "text/plain": [
       "31"
      ]
     },
     "execution_count": 60,
     "metadata": {},
     "output_type": "execute_result"
    }
   ],
   "source": [
    "Position( subobjects, notnotS )"
   ]
  },
  {
   "cell_type": "code",
   "execution_count": 61,
   "id": "f2fd724c",
   "metadata": {},
   "outputs": [
    {
     "data": {
      "text/plain": [
       "true"
      ]
     },
     "execution_count": 61,
     "metadata": {},
     "output_type": "execute_result"
    }
   ],
   "source": [
    "IsLiftableAlongMonomorphism( notnotS, S )"
   ]
  },
  {
   "cell_type": "code",
   "execution_count": 62,
   "id": "dfe9fc69",
   "metadata": {},
   "outputs": [
    {
     "data": {
      "text/plain": [
       "false"
      ]
     },
     "execution_count": 62,
     "metadata": {},
     "output_type": "execute_result"
    }
   ],
   "source": [
    "IsLiftableAlongMonomorphism( S, notnotS )"
   ]
  },
  {
   "cell_type": "code",
   "execution_count": 63,
   "id": "09d25900",
   "metadata": {},
   "outputs": [
    {
     "data": {
      "image/svg+xml": [
       "<?xml version=\"1.0\" encoding=\"UTF-8\" standalone=\"no\"?>\n",
       "<!DOCTYPE svg PUBLIC \"-//W3C//DTD SVG 1.1//EN\"\n",
       " \"http://www.w3.org/Graphics/SVG/1.1/DTD/svg11.dtd\">\n",
       "<!-- Generated by graphviz version 2.50.0 (20211204.2007)\n",
       " -->\n",
       "<!-- Title: subquiver Pages: 1 -->\n",
       "<svg width=\"93pt\" height=\"94pt\"\n",
       " viewBox=\"0.00 0.00 93.43 93.68\" xmlns=\"http://www.w3.org/2000/svg\" xmlns:xlink=\"http://www.w3.org/1999/xlink\">\n",
       "<g id=\"graph0\" class=\"graph\" transform=\"scale(1 1) rotate(0) translate(4 89.68)\">\n",
       "<title>subquiver</title>\n",
       "<polygon fill=\"white\" stroke=\"transparent\" points=\"-4,4 -4,-89.68 89.43,-89.68 89.43,4 -4,4\"/>\n",
       "<!-- 0 -->\n",
       "<g id=\"node1\" class=\"node\">\n",
       "<title>0</title>\n",
       "<ellipse fill=\"none\" stroke=\"black\" cx=\"10.61\" cy=\"-17.08\" rx=\"10.71\" ry=\"10.71\"/>\n",
       "<text text-anchor=\"middle\" x=\"10.61\" y=\"-13.98\" font-family=\"DejaVu Serif,serif\" font-size=\"12.00\">0</text>\n",
       "</g>\n",
       "<!-- 0&#45;&gt;0 -->\n",
       "<g id=\"edge1\" class=\"edge\">\n",
       "<title>0&#45;&gt;0</title>\n",
       "<path fill=\"none\" stroke=\"black\" d=\"M5.76,-26.75C3.24,-35.83 4.86,-45.68 10.61,-45.68 15.28,-45.68 17.22,-39.18 16.44,-31.87\"/>\n",
       "<polygon fill=\"black\" stroke=\"black\" points=\"18.12,-31.33 15.46,-26.75 14.68,-31.99 18.12,-31.33\"/>\n",
       "<text text-anchor=\"middle\" x=\"10.61\" y=\"-48.68\" font-family=\"DejaVu Serif,serif\" font-size=\"10.00\">0</text>\n",
       "</g>\n",
       "<!-- 1 -->\n",
       "<g id=\"node2\" class=\"node\">\n",
       "<title>1</title>\n",
       "<ellipse fill=\"none\" stroke=\"#c1cdcd\" cx=\"74.82\" cy=\"-17.08\" rx=\"10.71\" ry=\"10.71\"/>\n",
       "<text text-anchor=\"middle\" x=\"74.82\" y=\"-13.98\" font-family=\"DejaVu Serif,serif\" font-size=\"12.00\" fill=\"#c1cdcd\">1</text>\n",
       "</g>\n",
       "<!-- 0&#45;&gt;1 -->\n",
       "<g id=\"edge3\" class=\"edge\">\n",
       "<title>0&#45;&gt;1</title>\n",
       "<path fill=\"none\" stroke=\"#c1cdcd\" d=\"M21.33,-17.08C31.4,-17.08 47.28,-17.08 58.94,-17.08\"/>\n",
       "<polygon fill=\"#c1cdcd\" stroke=\"#c1cdcd\" points=\"58.96,-18.83 63.96,-17.08 58.96,-15.33 58.96,-18.83\"/>\n",
       "<text text-anchor=\"middle\" x=\"42.71\" y=\"-20.08\" font-family=\"DejaVu Serif,serif\" font-size=\"10.00\" fill=\"#c1cdcd\">2</text>\n",
       "</g>\n",
       "<!-- 1&#45;&gt;0 -->\n",
       "<g id=\"edge2\" class=\"edge\">\n",
       "<title>1&#45;&gt;0</title>\n",
       "<path fill=\"none\" stroke=\"#c1cdcd\" d=\"M65.63,-10.79C60.39,-7.17 53.27,-2.97 46.21,-1.08 38.21,1.08 29.77,-2.7 23.22,-7.12\"/>\n",
       "<polygon fill=\"#c1cdcd\" stroke=\"#c1cdcd\" points=\"22.01,-5.84 19.02,-10.22 24.08,-8.66 22.01,-5.84\"/>\n",
       "<text text-anchor=\"middle\" x=\"42.71\" y=\"-4.08\" font-family=\"DejaVu Serif,serif\" font-size=\"10.00\" fill=\"#c1cdcd\">1</text>\n",
       "</g>\n",
       "<!-- 1&#45;&gt;1 -->\n",
       "<g id=\"edge4\" class=\"edge\">\n",
       "<title>1&#45;&gt;1</title>\n",
       "<path fill=\"none\" stroke=\"#c1cdcd\" d=\"M72.28,-27.64C71.19,-36.46 72.04,-45.68 74.82,-45.68 77.04,-45.68 78.02,-39.83 77.78,-32.98\"/>\n",
       "<polygon fill=\"#c1cdcd\" stroke=\"#c1cdcd\" points=\"79.5,-32.48 77.36,-27.64 76.01,-32.76 79.5,-32.48\"/>\n",
       "<text text-anchor=\"middle\" x=\"74.82\" y=\"-48.68\" font-family=\"DejaVu Serif,serif\" font-size=\"10.00\" fill=\"#c1cdcd\">3</text>\n",
       "</g>\n",
       "<!-- 1&#45;&gt;1 -->\n",
       "<g id=\"edge5\" class=\"edge\">\n",
       "<title>1&#45;&gt;1</title>\n",
       "<path fill=\"none\" stroke=\"#c1cdcd\" d=\"M71.16,-27.15C67.1,-43.17 68.32,-63.68 74.82,-63.68 80.66,-63.68 82.24,-47.12 79.55,-32.14\"/>\n",
       "<polygon fill=\"#c1cdcd\" stroke=\"#c1cdcd\" points=\"81.24,-31.67 78.48,-27.15 77.82,-32.4 81.24,-31.67\"/>\n",
       "<text text-anchor=\"middle\" x=\"74.82\" y=\"-66.68\" font-family=\"DejaVu Serif,serif\" font-size=\"10.00\" fill=\"#c1cdcd\">4</text>\n",
       "</g>\n",
       "</g>\n",
       "</svg>\n"
      ],
      "text/plain": [
       "GAP: <A monomorphism in FinQuivers>"
      ]
     },
     "execution_count": 63,
     "metadata": {},
     "output_type": "execute_result"
    }
   ],
   "source": [
    "notnotnotS = EmbeddingOfPseudoComplementSubobject( notnotS )"
   ]
  },
  {
   "cell_type": "code",
   "execution_count": 64,
   "id": "416c6daf",
   "metadata": {},
   "outputs": [
    {
     "data": {
      "text/plain": [
       "true"
      ]
     },
     "execution_count": 64,
     "metadata": {},
     "output_type": "execute_result"
    }
   ],
   "source": [
    "IsEqualAsSubobjects( notS, notnotnotS )"
   ]
  },
  {
   "cell_type": "code",
   "execution_count": 65,
   "id": "31bef69b",
   "metadata": {},
   "outputs": [
    {
     "data": {
      "image/svg+xml": [
       "<?xml version=\"1.0\" encoding=\"UTF-8\" standalone=\"no\"?>\n",
       "<!DOCTYPE svg PUBLIC \"-//W3C//DTD SVG 1.1//EN\"\n",
       " \"http://www.w3.org/Graphics/SVG/1.1/DTD/svg11.dtd\">\n",
       "<!-- Generated by graphviz version 2.50.0 (20211204.2007)\n",
       " -->\n",
       "<!-- Title: subquiver Pages: 1 -->\n",
       "<svg width=\"93pt\" height=\"94pt\"\n",
       " viewBox=\"0.00 0.00 93.43 93.68\" xmlns=\"http://www.w3.org/2000/svg\" xmlns:xlink=\"http://www.w3.org/1999/xlink\">\n",
       "<g id=\"graph0\" class=\"graph\" transform=\"scale(1 1) rotate(0) translate(4 89.68)\">\n",
       "<title>subquiver</title>\n",
       "<polygon fill=\"white\" stroke=\"transparent\" points=\"-4,4 -4,-89.68 89.43,-89.68 89.43,4 -4,4\"/>\n",
       "<!-- 0 -->\n",
       "<g id=\"node1\" class=\"node\">\n",
       "<title>0</title>\n",
       "<ellipse fill=\"none\" stroke=\"black\" cx=\"10.61\" cy=\"-17.08\" rx=\"10.71\" ry=\"10.71\"/>\n",
       "<text text-anchor=\"middle\" x=\"10.61\" y=\"-13.98\" font-family=\"DejaVu Serif,serif\" font-size=\"12.00\">0</text>\n",
       "</g>\n",
       "<!-- 0&#45;&gt;0 -->\n",
       "<g id=\"edge1\" class=\"edge\">\n",
       "<title>0&#45;&gt;0</title>\n",
       "<path fill=\"none\" stroke=\"black\" d=\"M5.76,-26.75C3.24,-35.83 4.86,-45.68 10.61,-45.68 15.28,-45.68 17.22,-39.18 16.44,-31.87\"/>\n",
       "<polygon fill=\"black\" stroke=\"black\" points=\"18.12,-31.33 15.46,-26.75 14.68,-31.99 18.12,-31.33\"/>\n",
       "<text text-anchor=\"middle\" x=\"10.61\" y=\"-48.68\" font-family=\"DejaVu Serif,serif\" font-size=\"10.00\">0</text>\n",
       "</g>\n",
       "<!-- 1 -->\n",
       "<g id=\"node2\" class=\"node\">\n",
       "<title>1</title>\n",
       "<ellipse fill=\"none\" stroke=\"black\" cx=\"74.82\" cy=\"-17.08\" rx=\"10.71\" ry=\"10.71\"/>\n",
       "<text text-anchor=\"middle\" x=\"74.82\" y=\"-13.98\" font-family=\"DejaVu Serif,serif\" font-size=\"12.00\">1</text>\n",
       "</g>\n",
       "<!-- 0&#45;&gt;1 -->\n",
       "<g id=\"edge3\" class=\"edge\">\n",
       "<title>0&#45;&gt;1</title>\n",
       "<path fill=\"none\" stroke=\"#c1cdcd\" d=\"M21.33,-17.08C31.4,-17.08 47.28,-17.08 58.94,-17.08\"/>\n",
       "<polygon fill=\"#c1cdcd\" stroke=\"#c1cdcd\" points=\"58.96,-18.83 63.96,-17.08 58.96,-15.33 58.96,-18.83\"/>\n",
       "<text text-anchor=\"middle\" x=\"42.71\" y=\"-20.08\" font-family=\"DejaVu Serif,serif\" font-size=\"10.00\" fill=\"#c1cdcd\">2</text>\n",
       "</g>\n",
       "<!-- 1&#45;&gt;0 -->\n",
       "<g id=\"edge2\" class=\"edge\">\n",
       "<title>1&#45;&gt;0</title>\n",
       "<path fill=\"none\" stroke=\"#c1cdcd\" d=\"M65.63,-10.79C60.39,-7.17 53.27,-2.97 46.21,-1.08 38.21,1.08 29.77,-2.7 23.22,-7.12\"/>\n",
       "<polygon fill=\"#c1cdcd\" stroke=\"#c1cdcd\" points=\"22.01,-5.84 19.02,-10.22 24.08,-8.66 22.01,-5.84\"/>\n",
       "<text text-anchor=\"middle\" x=\"42.71\" y=\"-4.08\" font-family=\"DejaVu Serif,serif\" font-size=\"10.00\" fill=\"#c1cdcd\">1</text>\n",
       "</g>\n",
       "<!-- 1&#45;&gt;1 -->\n",
       "<g id=\"edge4\" class=\"edge\">\n",
       "<title>1&#45;&gt;1</title>\n",
       "<path fill=\"none\" stroke=\"black\" d=\"M72.28,-27.64C71.19,-36.46 72.04,-45.68 74.82,-45.68 77.04,-45.68 78.02,-39.83 77.78,-32.98\"/>\n",
       "<polygon fill=\"black\" stroke=\"black\" points=\"79.5,-32.48 77.36,-27.64 76.01,-32.76 79.5,-32.48\"/>\n",
       "<text text-anchor=\"middle\" x=\"74.82\" y=\"-48.68\" font-family=\"DejaVu Serif,serif\" font-size=\"10.00\">3</text>\n",
       "</g>\n",
       "<!-- 1&#45;&gt;1 -->\n",
       "<g id=\"edge5\" class=\"edge\">\n",
       "<title>1&#45;&gt;1</title>\n",
       "<path fill=\"none\" stroke=\"#c1cdcd\" d=\"M71.16,-27.15C67.1,-43.17 68.32,-63.68 74.82,-63.68 80.66,-63.68 82.24,-47.12 79.55,-32.14\"/>\n",
       "<polygon fill=\"#c1cdcd\" stroke=\"#c1cdcd\" points=\"81.24,-31.67 78.48,-27.15 77.82,-32.4 81.24,-31.67\"/>\n",
       "<text text-anchor=\"middle\" x=\"74.82\" y=\"-66.68\" font-family=\"DejaVu Serif,serif\" font-size=\"10.00\" fill=\"#c1cdcd\">4</text>\n",
       "</g>\n",
       "</g>\n",
       "</svg>\n"
      ],
      "text/plain": [
       "GAP: <A monomorphism in FinQuivers>"
      ]
     },
     "execution_count": 65,
     "metadata": {},
     "output_type": "execute_result"
    }
   ],
   "source": [
    "S_or_notS = EmbeddingOfUnionSubobject( S, notS )"
   ]
  },
  {
   "cell_type": "code",
   "execution_count": 66,
   "id": "531ed1ae",
   "metadata": {},
   "outputs": [
    {
     "data": {
      "text/plain": [
       "15"
      ]
     },
     "execution_count": 66,
     "metadata": {},
     "output_type": "execute_result"
    }
   ],
   "source": [
    "Position( subobjects, S_or_notS )"
   ]
  },
  {
   "cell_type": "code",
   "execution_count": 67,
   "id": "403d2fcc",
   "metadata": {},
   "outputs": [
    {
     "data": {
      "image/svg+xml": [
       "<?xml version=\"1.0\" encoding=\"UTF-8\" standalone=\"no\"?>\n",
       "<!DOCTYPE svg PUBLIC \"-//W3C//DTD SVG 1.1//EN\"\n",
       " \"http://www.w3.org/Graphics/SVG/1.1/DTD/svg11.dtd\">\n",
       "<!-- Generated by graphviz version 2.50.0 (20211204.2007)\n",
       " -->\n",
       "<!-- Title: subquiver Pages: 1 -->\n",
       "<svg width=\"93pt\" height=\"94pt\"\n",
       " viewBox=\"0.00 0.00 93.43 93.68\" xmlns=\"http://www.w3.org/2000/svg\" xmlns:xlink=\"http://www.w3.org/1999/xlink\">\n",
       "<g id=\"graph0\" class=\"graph\" transform=\"scale(1 1) rotate(0) translate(4 89.68)\">\n",
       "<title>subquiver</title>\n",
       "<polygon fill=\"white\" stroke=\"transparent\" points=\"-4,4 -4,-89.68 89.43,-89.68 89.43,4 -4,4\"/>\n",
       "<!-- 0 -->\n",
       "<g id=\"node1\" class=\"node\">\n",
       "<title>0</title>\n",
       "<ellipse fill=\"none\" stroke=\"black\" cx=\"10.61\" cy=\"-17.08\" rx=\"10.71\" ry=\"10.71\"/>\n",
       "<text text-anchor=\"middle\" x=\"10.61\" y=\"-13.98\" font-family=\"DejaVu Serif,serif\" font-size=\"12.00\">0</text>\n",
       "</g>\n",
       "<!-- 0&#45;&gt;0 -->\n",
       "<g id=\"edge1\" class=\"edge\">\n",
       "<title>0&#45;&gt;0</title>\n",
       "<path fill=\"none\" stroke=\"black\" d=\"M5.76,-26.75C3.24,-35.83 4.86,-45.68 10.61,-45.68 15.28,-45.68 17.22,-39.18 16.44,-31.87\"/>\n",
       "<polygon fill=\"black\" stroke=\"black\" points=\"18.12,-31.33 15.46,-26.75 14.68,-31.99 18.12,-31.33\"/>\n",
       "<text text-anchor=\"middle\" x=\"10.61\" y=\"-48.68\" font-family=\"DejaVu Serif,serif\" font-size=\"10.00\">0</text>\n",
       "</g>\n",
       "<!-- 1 -->\n",
       "<g id=\"node2\" class=\"node\">\n",
       "<title>1</title>\n",
       "<ellipse fill=\"none\" stroke=\"black\" cx=\"74.82\" cy=\"-17.08\" rx=\"10.71\" ry=\"10.71\"/>\n",
       "<text text-anchor=\"middle\" x=\"74.82\" y=\"-13.98\" font-family=\"DejaVu Serif,serif\" font-size=\"12.00\">1</text>\n",
       "</g>\n",
       "<!-- 0&#45;&gt;1 -->\n",
       "<g id=\"edge3\" class=\"edge\">\n",
       "<title>0&#45;&gt;1</title>\n",
       "<path fill=\"none\" stroke=\"#c1cdcd\" d=\"M21.33,-17.08C31.4,-17.08 47.28,-17.08 58.94,-17.08\"/>\n",
       "<polygon fill=\"#c1cdcd\" stroke=\"#c1cdcd\" points=\"58.96,-18.83 63.96,-17.08 58.96,-15.33 58.96,-18.83\"/>\n",
       "<text text-anchor=\"middle\" x=\"42.71\" y=\"-20.08\" font-family=\"DejaVu Serif,serif\" font-size=\"10.00\" fill=\"#c1cdcd\">2</text>\n",
       "</g>\n",
       "<!-- 1&#45;&gt;0 -->\n",
       "<g id=\"edge2\" class=\"edge\">\n",
       "<title>1&#45;&gt;0</title>\n",
       "<path fill=\"none\" stroke=\"#c1cdcd\" d=\"M65.63,-10.79C60.39,-7.17 53.27,-2.97 46.21,-1.08 38.21,1.08 29.77,-2.7 23.22,-7.12\"/>\n",
       "<polygon fill=\"#c1cdcd\" stroke=\"#c1cdcd\" points=\"22.01,-5.84 19.02,-10.22 24.08,-8.66 22.01,-5.84\"/>\n",
       "<text text-anchor=\"middle\" x=\"42.71\" y=\"-4.08\" font-family=\"DejaVu Serif,serif\" font-size=\"10.00\" fill=\"#c1cdcd\">1</text>\n",
       "</g>\n",
       "<!-- 1&#45;&gt;1 -->\n",
       "<g id=\"edge4\" class=\"edge\">\n",
       "<title>1&#45;&gt;1</title>\n",
       "<path fill=\"none\" stroke=\"black\" d=\"M72.28,-27.64C71.19,-36.46 72.04,-45.68 74.82,-45.68 77.04,-45.68 78.02,-39.83 77.78,-32.98\"/>\n",
       "<polygon fill=\"black\" stroke=\"black\" points=\"79.5,-32.48 77.36,-27.64 76.01,-32.76 79.5,-32.48\"/>\n",
       "<text text-anchor=\"middle\" x=\"74.82\" y=\"-48.68\" font-family=\"DejaVu Serif,serif\" font-size=\"10.00\">3</text>\n",
       "</g>\n",
       "<!-- 1&#45;&gt;1 -->\n",
       "<g id=\"edge5\" class=\"edge\">\n",
       "<title>1&#45;&gt;1</title>\n",
       "<path fill=\"none\" stroke=\"black\" d=\"M71.16,-27.15C67.1,-43.17 68.32,-63.68 74.82,-63.68 80.66,-63.68 82.24,-47.12 79.55,-32.14\"/>\n",
       "<polygon fill=\"black\" stroke=\"black\" points=\"81.24,-31.67 78.48,-27.15 77.82,-32.4 81.24,-31.67\"/>\n",
       "<text text-anchor=\"middle\" x=\"74.82\" y=\"-66.68\" font-family=\"DejaVu Serif,serif\" font-size=\"10.00\">4</text>\n",
       "</g>\n",
       "</g>\n",
       "</svg>\n"
      ],
      "text/plain": [
       "GAP: <A monomorphism in FinQuivers>"
      ]
     },
     "execution_count": 67,
     "metadata": {},
     "output_type": "execute_result"
    }
   ],
   "source": [
    "notS_or_notnotS = EmbeddingOfUnionSubobject( notS, notnotS )"
   ]
  },
  {
   "cell_type": "code",
   "execution_count": 68,
   "id": "dcf2b375",
   "metadata": {},
   "outputs": [
    {
     "data": {
      "text/plain": [
       "33"
      ]
     },
     "execution_count": 68,
     "metadata": {},
     "output_type": "execute_result"
    }
   ],
   "source": [
    "Position( subobjects, notS_or_notnotS )"
   ]
  },
  {
   "cell_type": "code",
   "execution_count": 69,
   "id": "ac58c082",
   "metadata": {},
   "outputs": [
    {
     "data": {
      "image/svg+xml": [
       "<?xml version=\"1.0\" encoding=\"UTF-8\" standalone=\"no\"?>\n",
       "<!DOCTYPE svg PUBLIC \"-//W3C//DTD SVG 1.1//EN\"\n",
       " \"http://www.w3.org/Graphics/SVG/1.1/DTD/svg11.dtd\">\n",
       "<!-- Generated by graphviz version 2.50.0 (20211204.2007)\n",
       " -->\n",
       "<!-- Title: subquiver Pages: 1 -->\n",
       "<svg width=\"93pt\" height=\"94pt\"\n",
       " viewBox=\"0.00 0.00 93.43 93.68\" xmlns=\"http://www.w3.org/2000/svg\" xmlns:xlink=\"http://www.w3.org/1999/xlink\">\n",
       "<g id=\"graph0\" class=\"graph\" transform=\"scale(1 1) rotate(0) translate(4 89.68)\">\n",
       "<title>subquiver</title>\n",
       "<polygon fill=\"white\" stroke=\"transparent\" points=\"-4,4 -4,-89.68 89.43,-89.68 89.43,4 -4,4\"/>\n",
       "<!-- 0 -->\n",
       "<g id=\"node1\" class=\"node\">\n",
       "<title>0</title>\n",
       "<ellipse fill=\"none\" stroke=\"black\" cx=\"10.61\" cy=\"-17.08\" rx=\"10.71\" ry=\"10.71\"/>\n",
       "<text text-anchor=\"middle\" x=\"10.61\" y=\"-13.98\" font-family=\"DejaVu Serif,serif\" font-size=\"12.00\">0</text>\n",
       "</g>\n",
       "<!-- 0&#45;&gt;0 -->\n",
       "<g id=\"edge1\" class=\"edge\">\n",
       "<title>0&#45;&gt;0</title>\n",
       "<path fill=\"none\" stroke=\"black\" d=\"M5.76,-26.75C3.24,-35.83 4.86,-45.68 10.61,-45.68 15.28,-45.68 17.22,-39.18 16.44,-31.87\"/>\n",
       "<polygon fill=\"black\" stroke=\"black\" points=\"18.12,-31.33 15.46,-26.75 14.68,-31.99 18.12,-31.33\"/>\n",
       "<text text-anchor=\"middle\" x=\"10.61\" y=\"-48.68\" font-family=\"DejaVu Serif,serif\" font-size=\"10.00\">0</text>\n",
       "</g>\n",
       "<!-- 1 -->\n",
       "<g id=\"node2\" class=\"node\">\n",
       "<title>1</title>\n",
       "<ellipse fill=\"none\" stroke=\"black\" cx=\"74.82\" cy=\"-17.08\" rx=\"10.71\" ry=\"10.71\"/>\n",
       "<text text-anchor=\"middle\" x=\"74.82\" y=\"-13.98\" font-family=\"DejaVu Serif,serif\" font-size=\"12.00\">1</text>\n",
       "</g>\n",
       "<!-- 0&#45;&gt;1 -->\n",
       "<g id=\"edge3\" class=\"edge\">\n",
       "<title>0&#45;&gt;1</title>\n",
       "<path fill=\"none\" stroke=\"#c1cdcd\" d=\"M21.33,-17.08C31.4,-17.08 47.28,-17.08 58.94,-17.08\"/>\n",
       "<polygon fill=\"#c1cdcd\" stroke=\"#c1cdcd\" points=\"58.96,-18.83 63.96,-17.08 58.96,-15.33 58.96,-18.83\"/>\n",
       "<text text-anchor=\"middle\" x=\"42.71\" y=\"-20.08\" font-family=\"DejaVu Serif,serif\" font-size=\"10.00\" fill=\"#c1cdcd\">2</text>\n",
       "</g>\n",
       "<!-- 1&#45;&gt;0 -->\n",
       "<g id=\"edge2\" class=\"edge\">\n",
       "<title>1&#45;&gt;0</title>\n",
       "<path fill=\"none\" stroke=\"#c1cdcd\" d=\"M65.63,-10.79C60.39,-7.17 53.27,-2.97 46.21,-1.08 38.21,1.08 29.77,-2.7 23.22,-7.12\"/>\n",
       "<polygon fill=\"#c1cdcd\" stroke=\"#c1cdcd\" points=\"22.01,-5.84 19.02,-10.22 24.08,-8.66 22.01,-5.84\"/>\n",
       "<text text-anchor=\"middle\" x=\"42.71\" y=\"-4.08\" font-family=\"DejaVu Serif,serif\" font-size=\"10.00\" fill=\"#c1cdcd\">1</text>\n",
       "</g>\n",
       "<!-- 1&#45;&gt;1 -->\n",
       "<g id=\"edge4\" class=\"edge\">\n",
       "<title>1&#45;&gt;1</title>\n",
       "<path fill=\"none\" stroke=\"black\" d=\"M72.28,-27.64C71.19,-36.46 72.04,-45.68 74.82,-45.68 77.04,-45.68 78.02,-39.83 77.78,-32.98\"/>\n",
       "<polygon fill=\"black\" stroke=\"black\" points=\"79.5,-32.48 77.36,-27.64 76.01,-32.76 79.5,-32.48\"/>\n",
       "<text text-anchor=\"middle\" x=\"74.82\" y=\"-48.68\" font-family=\"DejaVu Serif,serif\" font-size=\"10.00\">3</text>\n",
       "</g>\n",
       "<!-- 1&#45;&gt;1 -->\n",
       "<g id=\"edge5\" class=\"edge\">\n",
       "<title>1&#45;&gt;1</title>\n",
       "<path fill=\"none\" stroke=\"black\" d=\"M71.16,-27.15C67.1,-43.17 68.32,-63.68 74.82,-63.68 80.66,-63.68 82.24,-47.12 79.55,-32.14\"/>\n",
       "<polygon fill=\"black\" stroke=\"black\" points=\"81.24,-31.67 78.48,-27.15 77.82,-32.4 81.24,-31.67\"/>\n",
       "<text text-anchor=\"middle\" x=\"74.82\" y=\"-66.68\" font-family=\"DejaVu Serif,serif\" font-size=\"10.00\">4</text>\n",
       "</g>\n",
       "</g>\n",
       "</svg>\n"
      ],
      "text/plain": [
       "GAP: <A monomorphism in FinQuivers>"
      ]
     },
     "execution_count": 69,
     "metadata": {},
     "output_type": "execute_result"
    }
   ],
   "source": [
    "notnotS_or_notnotnotS = EmbeddingOfUnionSubobject( notS, notnotS )"
   ]
  },
  {
   "cell_type": "code",
   "execution_count": 70,
   "id": "0b624792",
   "metadata": {},
   "outputs": [
    {
     "data": {
      "text/plain": [
       "true"
      ]
     },
     "execution_count": 70,
     "metadata": {},
     "output_type": "execute_result"
    }
   ],
   "source": [
    "IsEqualAsSubobjects( notS_or_notnotS, notnotS_or_notnotnotS )"
   ]
  },
  {
   "cell_type": "markdown",
   "id": "ae671a96",
   "metadata": {},
   "source": [
    "Specify a subquiver $T$ with no dangling vertices by specfying its arrows:"
   ]
  },
  {
   "cell_type": "code",
   "execution_count": 71,
   "id": "53bdb5b0",
   "metadata": {},
   "outputs": [
    {
     "data": {
      "image/svg+xml": [
       "<?xml version=\"1.0\" encoding=\"UTF-8\" standalone=\"no\"?>\n",
       "<!DOCTYPE svg PUBLIC \"-//W3C//DTD SVG 1.1//EN\"\n",
       " \"http://www.w3.org/Graphics/SVG/1.1/DTD/svg11.dtd\">\n",
       "<!-- Generated by graphviz version 2.50.0 (20211204.2007)\n",
       " -->\n",
       "<!-- Title: subquiver Pages: 1 -->\n",
       "<svg width=\"93pt\" height=\"94pt\"\n",
       " viewBox=\"0.00 0.00 93.43 93.68\" xmlns=\"http://www.w3.org/2000/svg\" xmlns:xlink=\"http://www.w3.org/1999/xlink\">\n",
       "<g id=\"graph0\" class=\"graph\" transform=\"scale(1 1) rotate(0) translate(4 89.68)\">\n",
       "<title>subquiver</title>\n",
       "<polygon fill=\"white\" stroke=\"transparent\" points=\"-4,4 -4,-89.68 89.43,-89.68 89.43,4 -4,4\"/>\n",
       "<!-- 0 -->\n",
       "<g id=\"node1\" class=\"node\">\n",
       "<title>0</title>\n",
       "<ellipse fill=\"none\" stroke=\"black\" cx=\"10.61\" cy=\"-17.08\" rx=\"10.71\" ry=\"10.71\"/>\n",
       "<text text-anchor=\"middle\" x=\"10.61\" y=\"-13.98\" font-family=\"DejaVu Serif,serif\" font-size=\"12.00\">0</text>\n",
       "</g>\n",
       "<!-- 0&#45;&gt;0 -->\n",
       "<g id=\"edge1\" class=\"edge\">\n",
       "<title>0&#45;&gt;0</title>\n",
       "<path fill=\"none\" stroke=\"black\" d=\"M5.76,-26.75C3.24,-35.83 4.86,-45.68 10.61,-45.68 15.28,-45.68 17.22,-39.18 16.44,-31.87\"/>\n",
       "<polygon fill=\"black\" stroke=\"black\" points=\"18.12,-31.33 15.46,-26.75 14.68,-31.99 18.12,-31.33\"/>\n",
       "<text text-anchor=\"middle\" x=\"10.61\" y=\"-48.68\" font-family=\"DejaVu Serif,serif\" font-size=\"10.00\">0</text>\n",
       "</g>\n",
       "<!-- 1 -->\n",
       "<g id=\"node2\" class=\"node\">\n",
       "<title>1</title>\n",
       "<ellipse fill=\"none\" stroke=\"black\" cx=\"74.82\" cy=\"-17.08\" rx=\"10.71\" ry=\"10.71\"/>\n",
       "<text text-anchor=\"middle\" x=\"74.82\" y=\"-13.98\" font-family=\"DejaVu Serif,serif\" font-size=\"12.00\">1</text>\n",
       "</g>\n",
       "<!-- 0&#45;&gt;1 -->\n",
       "<g id=\"edge3\" class=\"edge\">\n",
       "<title>0&#45;&gt;1</title>\n",
       "<path fill=\"none\" stroke=\"black\" d=\"M21.33,-17.08C31.4,-17.08 47.28,-17.08 58.94,-17.08\"/>\n",
       "<polygon fill=\"black\" stroke=\"black\" points=\"58.96,-18.83 63.96,-17.08 58.96,-15.33 58.96,-18.83\"/>\n",
       "<text text-anchor=\"middle\" x=\"42.71\" y=\"-20.08\" font-family=\"DejaVu Serif,serif\" font-size=\"10.00\">2</text>\n",
       "</g>\n",
       "<!-- 1&#45;&gt;0 -->\n",
       "<g id=\"edge2\" class=\"edge\">\n",
       "<title>1&#45;&gt;0</title>\n",
       "<path fill=\"none\" stroke=\"#c1cdcd\" d=\"M65.63,-10.79C60.39,-7.17 53.27,-2.97 46.21,-1.08 38.21,1.08 29.77,-2.7 23.22,-7.12\"/>\n",
       "<polygon fill=\"#c1cdcd\" stroke=\"#c1cdcd\" points=\"22.01,-5.84 19.02,-10.22 24.08,-8.66 22.01,-5.84\"/>\n",
       "<text text-anchor=\"middle\" x=\"42.71\" y=\"-4.08\" font-family=\"DejaVu Serif,serif\" font-size=\"10.00\" fill=\"#c1cdcd\">1</text>\n",
       "</g>\n",
       "<!-- 1&#45;&gt;1 -->\n",
       "<g id=\"edge4\" class=\"edge\">\n",
       "<title>1&#45;&gt;1</title>\n",
       "<path fill=\"none\" stroke=\"#c1cdcd\" d=\"M72.28,-27.64C71.19,-36.46 72.04,-45.68 74.82,-45.68 77.04,-45.68 78.02,-39.83 77.78,-32.98\"/>\n",
       "<polygon fill=\"#c1cdcd\" stroke=\"#c1cdcd\" points=\"79.5,-32.48 77.36,-27.64 76.01,-32.76 79.5,-32.48\"/>\n",
       "<text text-anchor=\"middle\" x=\"74.82\" y=\"-48.68\" font-family=\"DejaVu Serif,serif\" font-size=\"10.00\" fill=\"#c1cdcd\">3</text>\n",
       "</g>\n",
       "<!-- 1&#45;&gt;1 -->\n",
       "<g id=\"edge5\" class=\"edge\">\n",
       "<title>1&#45;&gt;1</title>\n",
       "<path fill=\"none\" stroke=\"black\" d=\"M71.16,-27.15C67.1,-43.17 68.32,-63.68 74.82,-63.68 80.66,-63.68 82.24,-47.12 79.55,-32.14\"/>\n",
       "<polygon fill=\"black\" stroke=\"black\" points=\"81.24,-31.67 78.48,-27.15 77.82,-32.4 81.24,-31.67\"/>\n",
       "<text text-anchor=\"middle\" x=\"74.82\" y=\"-66.68\" font-family=\"DejaVu Serif,serif\" font-size=\"10.00\">4</text>\n",
       "</g>\n",
       "</g>\n",
       "</svg>\n"
      ],
      "text/plain": [
       "GAP: <A monomorphism in FinQuivers>"
      ]
     },
     "execution_count": 71,
     "metadata": {},
     "output_type": "execute_result"
    }
   ],
   "source": [
    "T = Subobject( Ω, [ 0, 2, 4 ] )"
   ]
  },
  {
   "cell_type": "code",
   "execution_count": 72,
   "id": "8824e86b",
   "metadata": {},
   "outputs": [
    {
     "data": {
      "text/plain": [
       "28"
      ]
     },
     "execution_count": 72,
     "metadata": {},
     "output_type": "execute_result"
    }
   ],
   "source": [
    "Position( subobjects, T )"
   ]
  },
  {
   "cell_type": "markdown",
   "id": "f7843635",
   "metadata": {},
   "source": [
    "Specify a subquiver $U$ by specifying the dangling object and the arrows:"
   ]
  },
  {
   "cell_type": "code",
   "execution_count": 73,
   "id": "08f2285f",
   "metadata": {},
   "outputs": [
    {
     "data": {
      "image/svg+xml": [
       "<?xml version=\"1.0\" encoding=\"UTF-8\" standalone=\"no\"?>\n",
       "<!DOCTYPE svg PUBLIC \"-//W3C//DTD SVG 1.1//EN\"\n",
       " \"http://www.w3.org/Graphics/SVG/1.1/DTD/svg11.dtd\">\n",
       "<!-- Generated by graphviz version 2.50.0 (20211204.2007)\n",
       " -->\n",
       "<!-- Title: subquiver Pages: 1 -->\n",
       "<svg width=\"93pt\" height=\"94pt\"\n",
       " viewBox=\"0.00 0.00 93.43 93.68\" xmlns=\"http://www.w3.org/2000/svg\" xmlns:xlink=\"http://www.w3.org/1999/xlink\">\n",
       "<g id=\"graph0\" class=\"graph\" transform=\"scale(1 1) rotate(0) translate(4 89.68)\">\n",
       "<title>subquiver</title>\n",
       "<polygon fill=\"white\" stroke=\"transparent\" points=\"-4,4 -4,-89.68 89.43,-89.68 89.43,4 -4,4\"/>\n",
       "<!-- 0 -->\n",
       "<g id=\"node1\" class=\"node\">\n",
       "<title>0</title>\n",
       "<ellipse fill=\"none\" stroke=\"black\" cx=\"10.61\" cy=\"-17.08\" rx=\"10.71\" ry=\"10.71\"/>\n",
       "<text text-anchor=\"middle\" x=\"10.61\" y=\"-13.98\" font-family=\"DejaVu Serif,serif\" font-size=\"12.00\">0</text>\n",
       "</g>\n",
       "<!-- 0&#45;&gt;0 -->\n",
       "<g id=\"edge1\" class=\"edge\">\n",
       "<title>0&#45;&gt;0</title>\n",
       "<path fill=\"none\" stroke=\"black\" d=\"M5.76,-26.75C3.24,-35.83 4.86,-45.68 10.61,-45.68 15.28,-45.68 17.22,-39.18 16.44,-31.87\"/>\n",
       "<polygon fill=\"black\" stroke=\"black\" points=\"18.12,-31.33 15.46,-26.75 14.68,-31.99 18.12,-31.33\"/>\n",
       "<text text-anchor=\"middle\" x=\"10.61\" y=\"-48.68\" font-family=\"DejaVu Serif,serif\" font-size=\"10.00\">0</text>\n",
       "</g>\n",
       "<!-- 1 -->\n",
       "<g id=\"node2\" class=\"node\">\n",
       "<title>1</title>\n",
       "<ellipse fill=\"none\" stroke=\"black\" cx=\"74.82\" cy=\"-17.08\" rx=\"10.71\" ry=\"10.71\"/>\n",
       "<text text-anchor=\"middle\" x=\"74.82\" y=\"-13.98\" font-family=\"DejaVu Serif,serif\" font-size=\"12.00\">1</text>\n",
       "</g>\n",
       "<!-- 0&#45;&gt;1 -->\n",
       "<g id=\"edge3\" class=\"edge\">\n",
       "<title>0&#45;&gt;1</title>\n",
       "<path fill=\"none\" stroke=\"#c1cdcd\" d=\"M21.33,-17.08C31.4,-17.08 47.28,-17.08 58.94,-17.08\"/>\n",
       "<polygon fill=\"#c1cdcd\" stroke=\"#c1cdcd\" points=\"58.96,-18.83 63.96,-17.08 58.96,-15.33 58.96,-18.83\"/>\n",
       "<text text-anchor=\"middle\" x=\"42.71\" y=\"-20.08\" font-family=\"DejaVu Serif,serif\" font-size=\"10.00\" fill=\"#c1cdcd\">2</text>\n",
       "</g>\n",
       "<!-- 1&#45;&gt;0 -->\n",
       "<g id=\"edge2\" class=\"edge\">\n",
       "<title>1&#45;&gt;0</title>\n",
       "<path fill=\"none\" stroke=\"#c1cdcd\" d=\"M65.63,-10.79C60.39,-7.17 53.27,-2.97 46.21,-1.08 38.21,1.08 29.77,-2.7 23.22,-7.12\"/>\n",
       "<polygon fill=\"#c1cdcd\" stroke=\"#c1cdcd\" points=\"22.01,-5.84 19.02,-10.22 24.08,-8.66 22.01,-5.84\"/>\n",
       "<text text-anchor=\"middle\" x=\"42.71\" y=\"-4.08\" font-family=\"DejaVu Serif,serif\" font-size=\"10.00\" fill=\"#c1cdcd\">1</text>\n",
       "</g>\n",
       "<!-- 1&#45;&gt;1 -->\n",
       "<g id=\"edge4\" class=\"edge\">\n",
       "<title>1&#45;&gt;1</title>\n",
       "<path fill=\"none\" stroke=\"black\" d=\"M72.28,-27.64C71.19,-36.46 72.04,-45.68 74.82,-45.68 77.04,-45.68 78.02,-39.83 77.78,-32.98\"/>\n",
       "<polygon fill=\"black\" stroke=\"black\" points=\"79.5,-32.48 77.36,-27.64 76.01,-32.76 79.5,-32.48\"/>\n",
       "<text text-anchor=\"middle\" x=\"74.82\" y=\"-48.68\" font-family=\"DejaVu Serif,serif\" font-size=\"10.00\">3</text>\n",
       "</g>\n",
       "<!-- 1&#45;&gt;1 -->\n",
       "<g id=\"edge5\" class=\"edge\">\n",
       "<title>1&#45;&gt;1</title>\n",
       "<path fill=\"none\" stroke=\"black\" d=\"M71.16,-27.15C67.1,-43.17 68.32,-63.68 74.82,-63.68 80.66,-63.68 82.24,-47.12 79.55,-32.14\"/>\n",
       "<polygon fill=\"black\" stroke=\"black\" points=\"81.24,-31.67 78.48,-27.15 77.82,-32.4 81.24,-31.67\"/>\n",
       "<text text-anchor=\"middle\" x=\"74.82\" y=\"-66.68\" font-family=\"DejaVu Serif,serif\" font-size=\"10.00\">4</text>\n",
       "</g>\n",
       "</g>\n",
       "</svg>\n"
      ],
      "text/plain": [
       "GAP: <A monomorphism in FinQuivers>"
      ]
     },
     "execution_count": 73,
     "metadata": {},
     "output_type": "execute_result"
    }
   ],
   "source": [
    "U = Subobject( Ω, [ 0 ], [ 0, 3, 4 ] )"
   ]
  },
  {
   "cell_type": "code",
   "execution_count": 74,
   "id": "7f459b48",
   "metadata": {},
   "outputs": [
    {
     "data": {
      "text/plain": [
       "33"
      ]
     },
     "execution_count": 74,
     "metadata": {},
     "output_type": "execute_result"
    }
   ],
   "source": [
    "Position( subobjects, U )"
   ]
  },
  {
   "cell_type": "code",
   "execution_count": 75,
   "id": "2b98593b",
   "metadata": {},
   "outputs": [
    {
     "data": {
      "image/svg+xml": [
       "<?xml version=\"1.0\" encoding=\"UTF-8\" standalone=\"no\"?>\n",
       "<!DOCTYPE svg PUBLIC \"-//W3C//DTD SVG 1.1//EN\"\n",
       " \"http://www.w3.org/Graphics/SVG/1.1/DTD/svg11.dtd\">\n",
       "<!-- Generated by graphviz version 2.50.0 (20211204.2007)\n",
       " -->\n",
       "<!-- Title: subquiver Pages: 1 -->\n",
       "<svg width=\"93pt\" height=\"94pt\"\n",
       " viewBox=\"0.00 0.00 93.43 93.68\" xmlns=\"http://www.w3.org/2000/svg\" xmlns:xlink=\"http://www.w3.org/1999/xlink\">\n",
       "<g id=\"graph0\" class=\"graph\" transform=\"scale(1 1) rotate(0) translate(4 89.68)\">\n",
       "<title>subquiver</title>\n",
       "<polygon fill=\"white\" stroke=\"transparent\" points=\"-4,4 -4,-89.68 89.43,-89.68 89.43,4 -4,4\"/>\n",
       "<!-- 0 -->\n",
       "<g id=\"node1\" class=\"node\">\n",
       "<title>0</title>\n",
       "<ellipse fill=\"none\" stroke=\"black\" cx=\"10.61\" cy=\"-17.08\" rx=\"10.71\" ry=\"10.71\"/>\n",
       "<text text-anchor=\"middle\" x=\"10.61\" y=\"-13.98\" font-family=\"DejaVu Serif,serif\" font-size=\"12.00\">0</text>\n",
       "</g>\n",
       "<!-- 0&#45;&gt;0 -->\n",
       "<g id=\"edge1\" class=\"edge\">\n",
       "<title>0&#45;&gt;0</title>\n",
       "<path fill=\"none\" stroke=\"black\" d=\"M5.76,-26.75C3.24,-35.83 4.86,-45.68 10.61,-45.68 15.28,-45.68 17.22,-39.18 16.44,-31.87\"/>\n",
       "<polygon fill=\"black\" stroke=\"black\" points=\"18.12,-31.33 15.46,-26.75 14.68,-31.99 18.12,-31.33\"/>\n",
       "<text text-anchor=\"middle\" x=\"10.61\" y=\"-48.68\" font-family=\"DejaVu Serif,serif\" font-size=\"10.00\">0</text>\n",
       "</g>\n",
       "<!-- 1 -->\n",
       "<g id=\"node2\" class=\"node\">\n",
       "<title>1</title>\n",
       "<ellipse fill=\"none\" stroke=\"black\" cx=\"74.82\" cy=\"-17.08\" rx=\"10.71\" ry=\"10.71\"/>\n",
       "<text text-anchor=\"middle\" x=\"74.82\" y=\"-13.98\" font-family=\"DejaVu Serif,serif\" font-size=\"12.00\">1</text>\n",
       "</g>\n",
       "<!-- 0&#45;&gt;1 -->\n",
       "<g id=\"edge3\" class=\"edge\">\n",
       "<title>0&#45;&gt;1</title>\n",
       "<path fill=\"none\" stroke=\"#c1cdcd\" d=\"M21.33,-17.08C31.4,-17.08 47.28,-17.08 58.94,-17.08\"/>\n",
       "<polygon fill=\"#c1cdcd\" stroke=\"#c1cdcd\" points=\"58.96,-18.83 63.96,-17.08 58.96,-15.33 58.96,-18.83\"/>\n",
       "<text text-anchor=\"middle\" x=\"42.71\" y=\"-20.08\" font-family=\"DejaVu Serif,serif\" font-size=\"10.00\" fill=\"#c1cdcd\">2</text>\n",
       "</g>\n",
       "<!-- 1&#45;&gt;0 -->\n",
       "<g id=\"edge2\" class=\"edge\">\n",
       "<title>1&#45;&gt;0</title>\n",
       "<path fill=\"none\" stroke=\"#c1cdcd\" d=\"M65.63,-10.79C60.39,-7.17 53.27,-2.97 46.21,-1.08 38.21,1.08 29.77,-2.7 23.22,-7.12\"/>\n",
       "<polygon fill=\"#c1cdcd\" stroke=\"#c1cdcd\" points=\"22.01,-5.84 19.02,-10.22 24.08,-8.66 22.01,-5.84\"/>\n",
       "<text text-anchor=\"middle\" x=\"42.71\" y=\"-4.08\" font-family=\"DejaVu Serif,serif\" font-size=\"10.00\" fill=\"#c1cdcd\">1</text>\n",
       "</g>\n",
       "<!-- 1&#45;&gt;1 -->\n",
       "<g id=\"edge4\" class=\"edge\">\n",
       "<title>1&#45;&gt;1</title>\n",
       "<path fill=\"none\" stroke=\"#c1cdcd\" d=\"M72.28,-27.64C71.19,-36.46 72.04,-45.68 74.82,-45.68 77.04,-45.68 78.02,-39.83 77.78,-32.98\"/>\n",
       "<polygon fill=\"#c1cdcd\" stroke=\"#c1cdcd\" points=\"79.5,-32.48 77.36,-27.64 76.01,-32.76 79.5,-32.48\"/>\n",
       "<text text-anchor=\"middle\" x=\"74.82\" y=\"-48.68\" font-family=\"DejaVu Serif,serif\" font-size=\"10.00\" fill=\"#c1cdcd\">3</text>\n",
       "</g>\n",
       "<!-- 1&#45;&gt;1 -->\n",
       "<g id=\"edge5\" class=\"edge\">\n",
       "<title>1&#45;&gt;1</title>\n",
       "<path fill=\"none\" stroke=\"black\" d=\"M71.16,-27.15C67.1,-43.17 68.32,-63.68 74.82,-63.68 80.66,-63.68 82.24,-47.12 79.55,-32.14\"/>\n",
       "<polygon fill=\"black\" stroke=\"black\" points=\"81.24,-31.67 78.48,-27.15 77.82,-32.4 81.24,-31.67\"/>\n",
       "<text text-anchor=\"middle\" x=\"74.82\" y=\"-66.68\" font-family=\"DejaVu Serif,serif\" font-size=\"10.00\">4</text>\n",
       "</g>\n",
       "</g>\n",
       "</svg>\n"
      ],
      "text/plain": [
       "GAP: <A monomorphism in FinQuivers>"
      ]
     },
     "execution_count": 75,
     "metadata": {},
     "output_type": "execute_result"
    }
   ],
   "source": [
    "T_and_U = EmbeddingOfIntersectionSubobject( T, U )"
   ]
  },
  {
   "cell_type": "code",
   "execution_count": 76,
   "id": "136c7f98",
   "metadata": {},
   "outputs": [
    {
     "data": {
      "image/svg+xml": [
       "<?xml version=\"1.0\" encoding=\"UTF-8\" standalone=\"no\"?>\n",
       "<!DOCTYPE svg PUBLIC \"-//W3C//DTD SVG 1.1//EN\"\n",
       " \"http://www.w3.org/Graphics/SVG/1.1/DTD/svg11.dtd\">\n",
       "<!-- Generated by graphviz version 2.50.0 (20211204.2007)\n",
       " -->\n",
       "<!-- Title: subquiver Pages: 1 -->\n",
       "<svg width=\"93pt\" height=\"94pt\"\n",
       " viewBox=\"0.00 0.00 93.43 93.68\" xmlns=\"http://www.w3.org/2000/svg\" xmlns:xlink=\"http://www.w3.org/1999/xlink\">\n",
       "<g id=\"graph0\" class=\"graph\" transform=\"scale(1 1) rotate(0) translate(4 89.68)\">\n",
       "<title>subquiver</title>\n",
       "<polygon fill=\"white\" stroke=\"transparent\" points=\"-4,4 -4,-89.68 89.43,-89.68 89.43,4 -4,4\"/>\n",
       "<!-- 0 -->\n",
       "<g id=\"node1\" class=\"node\">\n",
       "<title>0</title>\n",
       "<ellipse fill=\"none\" stroke=\"black\" cx=\"10.61\" cy=\"-17.08\" rx=\"10.71\" ry=\"10.71\"/>\n",
       "<text text-anchor=\"middle\" x=\"10.61\" y=\"-13.98\" font-family=\"DejaVu Serif,serif\" font-size=\"12.00\">0</text>\n",
       "</g>\n",
       "<!-- 0&#45;&gt;0 -->\n",
       "<g id=\"edge1\" class=\"edge\">\n",
       "<title>0&#45;&gt;0</title>\n",
       "<path fill=\"none\" stroke=\"black\" d=\"M5.76,-26.75C3.24,-35.83 4.86,-45.68 10.61,-45.68 15.28,-45.68 17.22,-39.18 16.44,-31.87\"/>\n",
       "<polygon fill=\"black\" stroke=\"black\" points=\"18.12,-31.33 15.46,-26.75 14.68,-31.99 18.12,-31.33\"/>\n",
       "<text text-anchor=\"middle\" x=\"10.61\" y=\"-48.68\" font-family=\"DejaVu Serif,serif\" font-size=\"10.00\">0</text>\n",
       "</g>\n",
       "<!-- 1 -->\n",
       "<g id=\"node2\" class=\"node\">\n",
       "<title>1</title>\n",
       "<ellipse fill=\"none\" stroke=\"black\" cx=\"74.82\" cy=\"-17.08\" rx=\"10.71\" ry=\"10.71\"/>\n",
       "<text text-anchor=\"middle\" x=\"74.82\" y=\"-13.98\" font-family=\"DejaVu Serif,serif\" font-size=\"12.00\">1</text>\n",
       "</g>\n",
       "<!-- 0&#45;&gt;1 -->\n",
       "<g id=\"edge3\" class=\"edge\">\n",
       "<title>0&#45;&gt;1</title>\n",
       "<path fill=\"none\" stroke=\"#c1cdcd\" d=\"M21.33,-17.08C31.4,-17.08 47.28,-17.08 58.94,-17.08\"/>\n",
       "<polygon fill=\"#c1cdcd\" stroke=\"#c1cdcd\" points=\"58.96,-18.83 63.96,-17.08 58.96,-15.33 58.96,-18.83\"/>\n",
       "<text text-anchor=\"middle\" x=\"42.71\" y=\"-20.08\" font-family=\"DejaVu Serif,serif\" font-size=\"10.00\" fill=\"#c1cdcd\">2</text>\n",
       "</g>\n",
       "<!-- 1&#45;&gt;0 -->\n",
       "<g id=\"edge2\" class=\"edge\">\n",
       "<title>1&#45;&gt;0</title>\n",
       "<path fill=\"none\" stroke=\"black\" d=\"M65.63,-10.79C60.39,-7.17 53.27,-2.97 46.21,-1.08 38.21,1.08 29.77,-2.7 23.22,-7.12\"/>\n",
       "<polygon fill=\"black\" stroke=\"black\" points=\"22.01,-5.84 19.02,-10.22 24.08,-8.66 22.01,-5.84\"/>\n",
       "<text text-anchor=\"middle\" x=\"42.71\" y=\"-4.08\" font-family=\"DejaVu Serif,serif\" font-size=\"10.00\">1</text>\n",
       "</g>\n",
       "<!-- 1&#45;&gt;1 -->\n",
       "<g id=\"edge4\" class=\"edge\">\n",
       "<title>1&#45;&gt;1</title>\n",
       "<path fill=\"none\" stroke=\"black\" d=\"M72.28,-27.64C71.19,-36.46 72.04,-45.68 74.82,-45.68 77.04,-45.68 78.02,-39.83 77.78,-32.98\"/>\n",
       "<polygon fill=\"black\" stroke=\"black\" points=\"79.5,-32.48 77.36,-27.64 76.01,-32.76 79.5,-32.48\"/>\n",
       "<text text-anchor=\"middle\" x=\"74.82\" y=\"-48.68\" font-family=\"DejaVu Serif,serif\" font-size=\"10.00\">3</text>\n",
       "</g>\n",
       "<!-- 1&#45;&gt;1 -->\n",
       "<g id=\"edge5\" class=\"edge\">\n",
       "<title>1&#45;&gt;1</title>\n",
       "<path fill=\"none\" stroke=\"black\" d=\"M71.16,-27.15C67.1,-43.17 68.32,-63.68 74.82,-63.68 80.66,-63.68 82.24,-47.12 79.55,-32.14\"/>\n",
       "<polygon fill=\"black\" stroke=\"black\" points=\"81.24,-31.67 78.48,-27.15 77.82,-32.4 81.24,-31.67\"/>\n",
       "<text text-anchor=\"middle\" x=\"74.82\" y=\"-66.68\" font-family=\"DejaVu Serif,serif\" font-size=\"10.00\">4</text>\n",
       "</g>\n",
       "</g>\n",
       "</svg>\n"
      ],
      "text/plain": [
       "GAP: <A monomorphism in FinQuivers>"
      ]
     },
     "execution_count": 76,
     "metadata": {},
     "output_type": "execute_result"
    }
   ],
   "source": [
    "T_implies_U = EmbeddingOfRelativePseudoComplementSubobject( T, U )"
   ]
  },
  {
   "cell_type": "code",
   "execution_count": 77,
   "id": "05fb1515",
   "metadata": {},
   "outputs": [
    {
     "data": {
      "text/plain": [
       "false"
      ]
     },
     "execution_count": 77,
     "metadata": {},
     "output_type": "execute_result"
    }
   ],
   "source": [
    "U == T_implies_U"
   ]
  },
  {
   "cell_type": "code",
   "execution_count": 78,
   "id": "2a1e7ec0",
   "metadata": {},
   "outputs": [
    {
     "data": {
      "image/svg+xml": [
       "<?xml version=\"1.0\" encoding=\"UTF-8\" standalone=\"no\"?>\n",
       "<!DOCTYPE svg PUBLIC \"-//W3C//DTD SVG 1.1//EN\"\n",
       " \"http://www.w3.org/Graphics/SVG/1.1/DTD/svg11.dtd\">\n",
       "<!-- Generated by graphviz version 2.50.0 (20211204.2007)\n",
       " -->\n",
       "<!-- Title: subquiver Pages: 1 -->\n",
       "<svg width=\"93pt\" height=\"94pt\"\n",
       " viewBox=\"0.00 0.00 93.43 93.68\" xmlns=\"http://www.w3.org/2000/svg\" xmlns:xlink=\"http://www.w3.org/1999/xlink\">\n",
       "<g id=\"graph0\" class=\"graph\" transform=\"scale(1 1) rotate(0) translate(4 89.68)\">\n",
       "<title>subquiver</title>\n",
       "<polygon fill=\"white\" stroke=\"transparent\" points=\"-4,4 -4,-89.68 89.43,-89.68 89.43,4 -4,4\"/>\n",
       "<!-- 0 -->\n",
       "<g id=\"node1\" class=\"node\">\n",
       "<title>0</title>\n",
       "<ellipse fill=\"none\" stroke=\"black\" cx=\"10.61\" cy=\"-17.08\" rx=\"10.71\" ry=\"10.71\"/>\n",
       "<text text-anchor=\"middle\" x=\"10.61\" y=\"-13.98\" font-family=\"DejaVu Serif,serif\" font-size=\"12.00\">0</text>\n",
       "</g>\n",
       "<!-- 0&#45;&gt;0 -->\n",
       "<g id=\"edge1\" class=\"edge\">\n",
       "<title>0&#45;&gt;0</title>\n",
       "<path fill=\"none\" stroke=\"black\" d=\"M5.76,-26.75C3.24,-35.83 4.86,-45.68 10.61,-45.68 15.28,-45.68 17.22,-39.18 16.44,-31.87\"/>\n",
       "<polygon fill=\"black\" stroke=\"black\" points=\"18.12,-31.33 15.46,-26.75 14.68,-31.99 18.12,-31.33\"/>\n",
       "<text text-anchor=\"middle\" x=\"10.61\" y=\"-48.68\" font-family=\"DejaVu Serif,serif\" font-size=\"10.00\">0</text>\n",
       "</g>\n",
       "<!-- 1 -->\n",
       "<g id=\"node2\" class=\"node\">\n",
       "<title>1</title>\n",
       "<ellipse fill=\"none\" stroke=\"black\" cx=\"74.82\" cy=\"-17.08\" rx=\"10.71\" ry=\"10.71\"/>\n",
       "<text text-anchor=\"middle\" x=\"74.82\" y=\"-13.98\" font-family=\"DejaVu Serif,serif\" font-size=\"12.00\">1</text>\n",
       "</g>\n",
       "<!-- 0&#45;&gt;1 -->\n",
       "<g id=\"edge3\" class=\"edge\">\n",
       "<title>0&#45;&gt;1</title>\n",
       "<path fill=\"none\" stroke=\"#c1cdcd\" d=\"M21.33,-17.08C31.4,-17.08 47.28,-17.08 58.94,-17.08\"/>\n",
       "<polygon fill=\"#c1cdcd\" stroke=\"#c1cdcd\" points=\"58.96,-18.83 63.96,-17.08 58.96,-15.33 58.96,-18.83\"/>\n",
       "<text text-anchor=\"middle\" x=\"42.71\" y=\"-20.08\" font-family=\"DejaVu Serif,serif\" font-size=\"10.00\" fill=\"#c1cdcd\">2</text>\n",
       "</g>\n",
       "<!-- 1&#45;&gt;0 -->\n",
       "<g id=\"edge2\" class=\"edge\">\n",
       "<title>1&#45;&gt;0</title>\n",
       "<path fill=\"none\" stroke=\"#c1cdcd\" d=\"M65.63,-10.79C60.39,-7.17 53.27,-2.97 46.21,-1.08 38.21,1.08 29.77,-2.7 23.22,-7.12\"/>\n",
       "<polygon fill=\"#c1cdcd\" stroke=\"#c1cdcd\" points=\"22.01,-5.84 19.02,-10.22 24.08,-8.66 22.01,-5.84\"/>\n",
       "<text text-anchor=\"middle\" x=\"42.71\" y=\"-4.08\" font-family=\"DejaVu Serif,serif\" font-size=\"10.00\" fill=\"#c1cdcd\">1</text>\n",
       "</g>\n",
       "<!-- 1&#45;&gt;1 -->\n",
       "<g id=\"edge4\" class=\"edge\">\n",
       "<title>1&#45;&gt;1</title>\n",
       "<path fill=\"none\" stroke=\"black\" d=\"M72.28,-27.64C71.19,-36.46 72.04,-45.68 74.82,-45.68 77.04,-45.68 78.02,-39.83 77.78,-32.98\"/>\n",
       "<polygon fill=\"black\" stroke=\"black\" points=\"79.5,-32.48 77.36,-27.64 76.01,-32.76 79.5,-32.48\"/>\n",
       "<text text-anchor=\"middle\" x=\"74.82\" y=\"-48.68\" font-family=\"DejaVu Serif,serif\" font-size=\"10.00\">3</text>\n",
       "</g>\n",
       "<!-- 1&#45;&gt;1 -->\n",
       "<g id=\"edge5\" class=\"edge\">\n",
       "<title>1&#45;&gt;1</title>\n",
       "<path fill=\"none\" stroke=\"black\" d=\"M71.16,-27.15C67.1,-43.17 68.32,-63.68 74.82,-63.68 80.66,-63.68 82.24,-47.12 79.55,-32.14\"/>\n",
       "<polygon fill=\"black\" stroke=\"black\" points=\"81.24,-31.67 78.48,-27.15 77.82,-32.4 81.24,-31.67\"/>\n",
       "<text text-anchor=\"middle\" x=\"74.82\" y=\"-66.68\" font-family=\"DejaVu Serif,serif\" font-size=\"10.00\">4</text>\n",
       "</g>\n",
       "</g>\n",
       "</svg>\n"
      ],
      "text/plain": [
       "GAP: <A monomorphism in FinQuivers>"
      ]
     },
     "execution_count": 78,
     "metadata": {},
     "output_type": "execute_result"
    }
   ],
   "source": [
    "notT_or_U = EmbeddingOfUnionSubobject( EmbeddingOfPseudoComplementSubobject( T ), U )"
   ]
  },
  {
   "cell_type": "code",
   "execution_count": 79,
   "id": "e022d7c5",
   "metadata": {},
   "outputs": [
    {
     "data": {
      "text/plain": [
       "false"
      ]
     },
     "execution_count": 79,
     "metadata": {},
     "output_type": "execute_result"
    }
   ],
   "source": [
    "notT_or_U == T_implies_U"
   ]
  }
 ],
 "metadata": {
  "@webio": {
   "lastCommId": null,
   "lastKernelId": null
  },
  "kernelspec": {
   "display_name": "Julia 1.11.7",
   "language": "julia",
   "name": "julia-1.11"
  },
  "language_info": {
   "file_extension": ".jl",
   "mimetype": "application/julia",
   "name": "julia",
   "version": "1.11.7"
  }
 },
 "nbformat": 4,
 "nbformat_minor": 5
}
