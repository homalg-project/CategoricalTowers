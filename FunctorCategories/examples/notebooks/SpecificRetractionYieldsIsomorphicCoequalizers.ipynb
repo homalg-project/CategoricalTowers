{
 "cells": [
  {
   "cell_type": "code",
   "execution_count": 1,
   "id": "ccf5338e",
   "metadata": {},
   "outputs": [
    {
     "name": "stdout",
     "output_type": "stream",
     "text": [
      "CapAndHomalg v\u001b[32m1.6.4\u001b[39m\n",
      "Imported OSCAR's components GAP and Singular_jll\n",
      "Type: ?CapAndHomalg for more information\n"
     ]
    }
   ],
   "source": [
    "using CapAndHomalg"
   ]
  },
  {
   "cell_type": "code",
   "execution_count": 2,
   "id": "71319e49",
   "metadata": {},
   "outputs": [],
   "source": [
    "LoadPackage( \"FunctorCategories\" )"
   ]
  },
  {
   "cell_type": "code",
   "execution_count": 3,
   "id": "20b59be4",
   "metadata": {},
   "outputs": [
    {
     "data": {
      "text/plain": [
       "GAP: q(A,V,O)[s:A->V,t:A->V,i:O->V,r:V->O,l:V->A]"
      ]
     },
     "execution_count": 3,
     "metadata": {},
     "output_type": "execute_result"
    }
   ],
   "source": [
    "Q = RightQuiver( \"q(A,V,O)[s:A->V,t:A->V,i:O->V,r:V->O,l:V->A]\" )"
   ]
  },
  {
   "cell_type": "code",
   "execution_count": 4,
   "id": "606ba5b3",
   "metadata": {},
   "outputs": [
    {
     "data": {
      "text/plain": [
       "GAP: FreeCategory( RightQuiver( \"q(A,V,O)[s:A->V,t:A->V,i:O->V,r:V->O,l:V->A]\" ) )"
      ]
     },
     "execution_count": 4,
     "metadata": {},
     "output_type": "execute_result"
    }
   ],
   "source": [
    "F = FreeCategory( Q )"
   ]
  },
  {
   "cell_type": "code",
   "execution_count": 5,
   "id": "e268f43e",
   "metadata": {},
   "outputs": [
    {
     "data": {
      "text/plain": [
       "GAP: FreeCategory( RightQuiver( \"q(A,V,O)[s:A->V,t:A->V,i:O->V,r:V->O,l:V->A]\" ) ) / [ i*r = O, r*i = l*s, V = l*t ]"
      ]
     },
     "execution_count": 5,
     "metadata": {},
     "output_type": "execute_result"
    }
   ],
   "source": [
    "C = F / [ [ F.ir, F.O ], [ F.ri, F.ls ], [ F.V, F.lt ] ]"
   ]
  },
  {
   "cell_type": "code",
   "execution_count": 6,
   "id": "6b1982e4",
   "metadata": {},
   "outputs": [
    {
     "data": {
      "text/plain": [
       "GAP: FreeCategory( RightQuiver( \"q(A,V,O)[s:A->V,t:A->V,i:O->V,r:V->O,l:V->A]\" ) ) / [ i*r = O, r*i = l*s, V = l*t ]"
      ]
     },
     "execution_count": 6,
     "metadata": {},
     "output_type": "execute_result"
    }
   ],
   "source": [
    "C = CategoryFromDataTables( C )"
   ]
  },
  {
   "cell_type": "code",
   "execution_count": 7,
   "id": "d5577495",
   "metadata": {},
   "outputs": [
    {
     "name": "stdout",
     "output_type": "stream",
     "text": [
      "A CAP category with name FreeCategory( RightQuiver( \"q(A,V,O)[s:A->V,t:A->V,i:O->V,r:V->O,l:V->A]\" ) ) / [ i*r = O, r*i = l*s, V = l*t ]:\n",
      "\n",
      "19 primitive operations were used to derive 55 operations for this category which algorithmically\n",
      "* IsCategoryWithDecidableColifts\n",
      "* IsCategoryWithDecidableLifts\n",
      "* IsFiniteCategory\n",
      "* IsEquippedWithHomomorphismStructure\n"
     ]
    }
   ],
   "source": [
    "Display( C )"
   ]
  },
  {
   "cell_type": "code",
   "execution_count": 8,
   "id": "e8760719",
   "metadata": {},
   "outputs": [
    {
     "data": {
      "text/plain": [
       "true"
      ]
     },
     "execution_count": 8,
     "metadata": {},
     "output_type": "execute_result"
    }
   ],
   "source": [
    "C.i * C.r == IdentityMorphism( C.O )"
   ]
  },
  {
   "cell_type": "code",
   "execution_count": 9,
   "id": "7a51e739",
   "metadata": {},
   "outputs": [
    {
     "data": {
      "text/plain": [
       "true"
      ]
     },
     "execution_count": 9,
     "metadata": {},
     "output_type": "execute_result"
    }
   ],
   "source": [
    "C.r * C.i == C.l * C.s"
   ]
  },
  {
   "cell_type": "code",
   "execution_count": 10,
   "id": "326250e2",
   "metadata": {},
   "outputs": [
    {
     "data": {
      "text/plain": [
       "true"
      ]
     },
     "execution_count": 10,
     "metadata": {},
     "output_type": "execute_result"
    }
   ],
   "source": [
    "IdentityMorphism( C.V ) == C.l * C.t"
   ]
  },
  {
   "cell_type": "code",
   "execution_count": 11,
   "id": "b847b145",
   "metadata": {},
   "outputs": [
    {
     "data": {
      "text/plain": [
       "true"
      ]
     },
     "execution_count": 11,
     "metadata": {},
     "output_type": "execute_result"
    }
   ],
   "source": [
    "IsSplitMonomorphism( C.i )"
   ]
  },
  {
   "cell_type": "code",
   "execution_count": 12,
   "id": "92efe5c4",
   "metadata": {},
   "outputs": [
    {
     "data": {
      "text/plain": [
       "true"
      ]
     },
     "execution_count": 12,
     "metadata": {},
     "output_type": "execute_result"
    }
   ],
   "source": [
    "IsSplitEpimorphism( C.r )"
   ]
  },
  {
   "cell_type": "code",
   "execution_count": 13,
   "id": "4118e52b",
   "metadata": {},
   "outputs": [
    {
     "data": {
      "text/plain": [
       "true"
      ]
     },
     "execution_count": 13,
     "metadata": {},
     "output_type": "execute_result"
    }
   ],
   "source": [
    "IsSplitMonomorphism( C.l )"
   ]
  },
  {
   "cell_type": "code",
   "execution_count": 14,
   "id": "50086ef9",
   "metadata": {},
   "outputs": [
    {
     "data": {
      "text/plain": [
       "true"
      ]
     },
     "execution_count": 14,
     "metadata": {},
     "output_type": "execute_result"
    }
   ],
   "source": [
    "IsSplitEpimorphism( C.t )"
   ]
  },
  {
   "cell_type": "code",
   "execution_count": 15,
   "id": "727843dc",
   "metadata": {},
   "outputs": [
    {
     "data": {
      "text/plain": [
       "false"
      ]
     },
     "execution_count": 15,
     "metadata": {},
     "output_type": "execute_result"
    }
   ],
   "source": [
    "IsSplitEpimorphism( C.s )"
   ]
  },
  {
   "cell_type": "code",
   "execution_count": 16,
   "id": "ac4c5695",
   "metadata": {},
   "outputs": [
    {
     "data": {
      "text/plain": [
       "GAP: FiniteCocompletion( FreeCategory( RightQuiver( \"q(A,V,O)[s:A->V,t:A->V,i:O->V,r:V->O,l:V->A]\" ) ) / [ i*r = O, r*i = l*s, V = l*t ] )"
      ]
     },
     "execution_count": 16,
     "metadata": {},
     "output_type": "execute_result"
    }
   ],
   "source": [
    "Ĉ = FiniteCocompletion( C )"
   ]
  },
  {
   "cell_type": "code",
   "execution_count": 17,
   "id": "1f7a7544",
   "metadata": {},
   "outputs": [
    {
     "data": {
      "text/plain": [
       "GAP: <A projective object in FiniteCocompletion( FreeCategory( RightQuiver( \"q(A,V,O)[s:A->V,t:A->V,i:O->V,r:V->O,l:V->A]\" ) ) / [ i*r = O, r*i = l*s, V = l*t ] )>"
      ]
     },
     "execution_count": 17,
     "metadata": {},
     "output_type": "execute_result"
    }
   ],
   "source": [
    "V = Ĉ.V"
   ]
  },
  {
   "cell_type": "code",
   "execution_count": 18,
   "id": "31518e60",
   "metadata": {
    "scrolled": true
   },
   "outputs": [
    {
     "data": {
      "text/plain": [
       "GAP: <A projective object in FiniteCocompletion( FreeCategory( RightQuiver( \"q(A,V,O)[s:A->V,t:A->V,i:O->V,r:V->O,l:V->A]\" ) ) / [ i*r = O, r*i = l*s, V = l*t ] )>"
      ]
     },
     "execution_count": 18,
     "metadata": {},
     "output_type": "execute_result"
    }
   ],
   "source": [
    "O = Ĉ.O"
   ]
  },
  {
   "cell_type": "code",
   "execution_count": 19,
   "id": "59de6a1e",
   "metadata": {},
   "outputs": [
    {
     "data": {
      "text/plain": [
       "GAP: <A morphism in FiniteCocompletion( FreeCategory( RightQuiver( \"q(A,V,O)[s:A->V,t:A->V,i:O->V,r:V->O,l:V->A]\" ) ) / [ i*r = O, r*i = l*s, V = l*t ] )>"
      ]
     },
     "execution_count": 19,
     "metadata": {},
     "output_type": "execute_result"
    }
   ],
   "source": [
    "s = Ĉ.s"
   ]
  },
  {
   "cell_type": "code",
   "execution_count": 20,
   "id": "bdc4bd69",
   "metadata": {},
   "outputs": [
    {
     "data": {
      "text/plain": [
       "GAP: <A morphism in FiniteCocompletion( FreeCategory( RightQuiver( \"q(A,V,O)[s:A->V,t:A->V,i:O->V,r:V->O,l:V->A]\" ) ) / [ i*r = O, r*i = l*s, V = l*t ] )>"
      ]
     },
     "execution_count": 20,
     "metadata": {},
     "output_type": "execute_result"
    }
   ],
   "source": [
    "t = Ĉ.t"
   ]
  },
  {
   "cell_type": "code",
   "execution_count": 21,
   "id": "d1370ef7",
   "metadata": {},
   "outputs": [
    {
     "data": {
      "text/plain": [
       "GAP: <A morphism in FiniteCocompletion( FreeCategory( RightQuiver( \"q(A,V,O)[s:A->V,t:A->V,i:O->V,r:V->O,l:V->A]\" ) ) / [ i*r = O, r*i = l*s, V = l*t ] )>"
      ]
     },
     "execution_count": 21,
     "metadata": {},
     "output_type": "execute_result"
    }
   ],
   "source": [
    "i = Ĉ.i"
   ]
  },
  {
   "cell_type": "code",
   "execution_count": 22,
   "id": "9d47811b",
   "metadata": {},
   "outputs": [
    {
     "data": {
      "text/plain": [
       "GAP: <A morphism in FiniteCocompletion( FreeCategory( RightQuiver( \"q(A,V,O)[s:A->V,t:A->V,i:O->V,r:V->O,l:V->A]\" ) ) / [ i*r = O, r*i = l*s, V = l*t ] )>"
      ]
     },
     "execution_count": 22,
     "metadata": {},
     "output_type": "execute_result"
    }
   ],
   "source": [
    "r = Ĉ.r"
   ]
  },
  {
   "cell_type": "code",
   "execution_count": 23,
   "id": "80fdf478",
   "metadata": {},
   "outputs": [
    {
     "data": {
      "text/plain": [
       "GAP: <An epimorphism in FiniteCocompletion( FreeCategory( RightQuiver( \"q(A,V,O)[s:A->V,t:A->V,i:O->V,r:V->O,l:V->A]\" ) ) / [ i*r = O, r*i = l*s, V = l*t ] )>"
      ]
     },
     "execution_count": 23,
     "metadata": {},
     "output_type": "execute_result"
    }
   ],
   "source": [
    "p = ProjectionOntoCoequalizer( V, [ s, t ] )"
   ]
  },
  {
   "cell_type": "code",
   "execution_count": 24,
   "id": "7fef2ff8",
   "metadata": {},
   "outputs": [
    {
     "data": {
      "text/plain": [
       "true"
      ]
     },
     "execution_count": 24,
     "metadata": {},
     "output_type": "execute_result"
    }
   ],
   "source": [
    "PreCompose( s, p ) == PreCompose( t, p )"
   ]
  },
  {
   "cell_type": "code",
   "execution_count": 25,
   "id": "0812aa10",
   "metadata": {},
   "outputs": [
    {
     "data": {
      "text/plain": [
       "true"
      ]
     },
     "execution_count": 25,
     "metadata": {},
     "output_type": "execute_result"
    }
   ],
   "source": [
    "IsEpimorphism( p )"
   ]
  },
  {
   "cell_type": "code",
   "execution_count": 26,
   "id": "a3153305",
   "metadata": {},
   "outputs": [
    {
     "data": {
      "text/plain": [
       "GAP: |1|"
      ]
     },
     "execution_count": 26,
     "metadata": {},
     "output_type": "execute_result"
    }
   ],
   "source": [
    "Target( p ).V"
   ]
  },
  {
   "cell_type": "code",
   "execution_count": 27,
   "id": "9cb16f4b",
   "metadata": {},
   "outputs": [
    {
     "data": {
      "text/plain": [
       "true"
      ]
     },
     "execution_count": 27,
     "metadata": {},
     "output_type": "execute_result"
    }
   ],
   "source": [
    "IsEpimorphism( PreCompose( i, p ) )"
   ]
  },
  {
   "cell_type": "code",
   "execution_count": 28,
   "id": "dee622f6",
   "metadata": {},
   "outputs": [
    {
     "data": {
      "text/plain": [
       "GAP: <A morphism in FiniteCocompletion( FreeCategory( RightQuiver( \"q(A,V,O)[s:A->V,t:A->V,i:O->V,r:V->O,l:V->A]\" ) ) / [ i*r = O, r*i = l*s, V = l*t ] )>"
      ]
     },
     "execution_count": 28,
     "metadata": {},
     "output_type": "execute_result"
    }
   ],
   "source": [
    "s′ = PreCompose( s, r )"
   ]
  },
  {
   "cell_type": "code",
   "execution_count": 29,
   "id": "da0f21b3",
   "metadata": {},
   "outputs": [
    {
     "data": {
      "text/plain": [
       "GAP: <A morphism in FiniteCocompletion( FreeCategory( RightQuiver( \"q(A,V,O)[s:A->V,t:A->V,i:O->V,r:V->O,l:V->A]\" ) ) / [ i*r = O, r*i = l*s, V = l*t ] )>"
      ]
     },
     "execution_count": 29,
     "metadata": {},
     "output_type": "execute_result"
    }
   ],
   "source": [
    "t′ = PreCompose( t, r )"
   ]
  },
  {
   "cell_type": "code",
   "execution_count": 30,
   "id": "d6045b48",
   "metadata": {},
   "outputs": [
    {
     "data": {
      "text/plain": [
       "GAP: <An epimorphism in FiniteCocompletion( FreeCategory( RightQuiver( \"q(A,V,O)[s:A->V,t:A->V,i:O->V,r:V->O,l:V->A]\" ) ) / [ i*r = O, r*i = l*s, V = l*t ] )>"
      ]
     },
     "execution_count": 30,
     "metadata": {},
     "output_type": "execute_result"
    }
   ],
   "source": [
    "p′ = ProjectionOntoCoequalizer( O, [ s′, t′ ] )"
   ]
  },
  {
   "cell_type": "code",
   "execution_count": 31,
   "id": "ac16c08e",
   "metadata": {},
   "outputs": [
    {
     "data": {
      "text/plain": [
       "true"
      ]
     },
     "execution_count": 31,
     "metadata": {},
     "output_type": "execute_result"
    }
   ],
   "source": [
    "PreCompose( s′, p′ ) == PreCompose( s, p )"
   ]
  },
  {
   "cell_type": "code",
   "execution_count": 32,
   "id": "77440dae",
   "metadata": {},
   "outputs": [
    {
     "data": {
      "text/plain": [
       "true"
      ]
     },
     "execution_count": 32,
     "metadata": {},
     "output_type": "execute_result"
    }
   ],
   "source": [
    "IsEpimorphism( p′ )"
   ]
  },
  {
   "cell_type": "code",
   "execution_count": 33,
   "id": "d0fa76eb",
   "metadata": {},
   "outputs": [
    {
     "data": {
      "text/plain": [
       "GAP: |1|"
      ]
     },
     "execution_count": 33,
     "metadata": {},
     "output_type": "execute_result"
    }
   ],
   "source": [
    "Target( p′ ).V"
   ]
  },
  {
   "cell_type": "code",
   "execution_count": 34,
   "id": "f5fd1beb",
   "metadata": {},
   "outputs": [
    {
     "data": {
      "text/plain": [
       "true"
      ]
     },
     "execution_count": 34,
     "metadata": {},
     "output_type": "execute_result"
    }
   ],
   "source": [
    "PreCompose( t′, p′ ) == PreCompose( t, p )"
   ]
  },
  {
   "cell_type": "code",
   "execution_count": 35,
   "id": "e5481b42",
   "metadata": {},
   "outputs": [
    {
     "data": {
      "text/plain": [
       "true"
      ]
     },
     "execution_count": 35,
     "metadata": {},
     "output_type": "execute_result"
    }
   ],
   "source": [
    "PreCompose( s′, p′ ) == PreCompose( t′, p′ )"
   ]
  },
  {
   "cell_type": "code",
   "execution_count": 36,
   "id": "7b925a70",
   "metadata": {},
   "outputs": [
    {
     "data": {
      "text/plain": [
       "GAP: <A morphism in FiniteCocompletion( FreeCategory( RightQuiver( \"q(A,V,O)[s:A->V,t:A->V,i:O->V,r:V->O,l:V->A]\" ) ) / [ i*r = O, r*i = l*s, V = l*t ] )>"
      ]
     },
     "execution_count": 36,
     "metadata": {},
     "output_type": "execute_result"
    }
   ],
   "source": [
    "u = CoequalizerFunctorial( [ s, t ], r, [ s′, t′ ] )"
   ]
  },
  {
   "cell_type": "code",
   "execution_count": 37,
   "id": "4e48870e",
   "metadata": {},
   "outputs": [
    {
     "data": {
      "text/plain": [
       "true"
      ]
     },
     "execution_count": 37,
     "metadata": {},
     "output_type": "execute_result"
    }
   ],
   "source": [
    "IsWellDefined( u )"
   ]
  },
  {
   "cell_type": "code",
   "execution_count": 38,
   "id": "336ca5b5",
   "metadata": {},
   "outputs": [
    {
     "data": {
      "text/plain": [
       "true"
      ]
     },
     "execution_count": 38,
     "metadata": {},
     "output_type": "execute_result"
    }
   ],
   "source": [
    "Source( u ) == Target( p )"
   ]
  },
  {
   "cell_type": "code",
   "execution_count": 39,
   "id": "2515a288",
   "metadata": {},
   "outputs": [
    {
     "data": {
      "text/plain": [
       "true"
      ]
     },
     "execution_count": 39,
     "metadata": {},
     "output_type": "execute_result"
    }
   ],
   "source": [
    "Target( u ) == Target( p′ )"
   ]
  },
  {
   "cell_type": "code",
   "execution_count": 40,
   "id": "fd9217e8",
   "metadata": {},
   "outputs": [
    {
     "data": {
      "text/plain": [
       "true"
      ]
     },
     "execution_count": 40,
     "metadata": {},
     "output_type": "execute_result"
    }
   ],
   "source": [
    "IsIsomorphism( u )"
   ]
  },
  {
   "cell_type": "code",
   "execution_count": 41,
   "id": "acb1a9f5",
   "metadata": {},
   "outputs": [
    {
     "data": {
      "text/plain": [
       "GAP: <A morphism in FiniteCocompletion( FreeCategory( RightQuiver( \"q(A,V,O)[s:A->V,t:A->V,i:O->V,r:V->O,l:V->A]\" ) ) / [ i*r = O, r*i = l*s, V = l*t ] )>"
      ]
     },
     "execution_count": 41,
     "metadata": {},
     "output_type": "execute_result"
    }
   ],
   "source": [
    "v = CoequalizerFunctorial( [ s′, t′ ], i, [ s, t ] )"
   ]
  },
  {
   "cell_type": "code",
   "execution_count": 42,
   "id": "e86d80ae",
   "metadata": {},
   "outputs": [
    {
     "data": {
      "text/plain": [
       "true"
      ]
     },
     "execution_count": 42,
     "metadata": {},
     "output_type": "execute_result"
    }
   ],
   "source": [
    "IsWellDefined( v )"
   ]
  },
  {
   "cell_type": "code",
   "execution_count": 43,
   "id": "d029b2d8",
   "metadata": {},
   "outputs": [
    {
     "data": {
      "text/plain": [
       "true"
      ]
     },
     "execution_count": 43,
     "metadata": {},
     "output_type": "execute_result"
    }
   ],
   "source": [
    "Source( v ) == Target( p′ )"
   ]
  },
  {
   "cell_type": "code",
   "execution_count": 44,
   "id": "ed2c036d",
   "metadata": {},
   "outputs": [
    {
     "data": {
      "text/plain": [
       "true"
      ]
     },
     "execution_count": 44,
     "metadata": {},
     "output_type": "execute_result"
    }
   ],
   "source": [
    "Target( v ) == Target( p )"
   ]
  },
  {
   "cell_type": "code",
   "execution_count": 45,
   "id": "c483b095",
   "metadata": {},
   "outputs": [
    {
     "data": {
      "text/plain": [
       "true"
      ]
     },
     "execution_count": 45,
     "metadata": {},
     "output_type": "execute_result"
    }
   ],
   "source": [
    "IsIsomorphism( v )"
   ]
  }
 ],
 "metadata": {
  "@webio": {
   "lastCommId": null,
   "lastKernelId": null
  },
  "kernelspec": {
   "display_name": "Julia 1.12.1",
   "language": "julia",
   "name": "julia-1.12"
  },
  "language_info": {
   "file_extension": ".jl",
   "mimetype": "application/julia",
   "name": "julia",
   "version": "1.12.1"
  }
 },
 "nbformat": 4,
 "nbformat_minor": 5
}
