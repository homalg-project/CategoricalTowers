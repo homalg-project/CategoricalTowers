{
 "cells": [
  {
   "cell_type": "markdown",
   "id": "27d736b7",
   "metadata": {},
   "source": [
    "In this notebook we prove *by a computation* that the coequalizer of a pair $r_0, r_1:A \\leftleftarrows R$ in a finite cocomplete category is naturally isomorphic to the coequalizer of the induced [reflexive pair](https://ncatlab.org/nlab/show/reflexive+coequalizer) $\\rho_0, \\rho_1:A \\leftleftarrows R \\times A $. This is used to show that in order to universally add coequalizers to a category with finite coproducts it suffices to universally add [reflexive coequalizers](https://ncatlab.org/nlab/show/reflexive+coequalizer). The dual version was proved in [1].\n",
    "\n",
    "[1] S. A. Huq and R. Cornu, [A remark on the existence of limits in categories.](https://doi.org/10.1002/mana.19730550111) Mathematische Nachrichten, **55** (1973), 223-224."
   ]
  },
  {
   "cell_type": "code",
   "execution_count": 1,
   "id": "256e81b7",
   "metadata": {},
   "outputs": [
    {
     "name": "stdout",
     "output_type": "stream",
     "text": [
      "CapAndHomalg v\u001b[32m1.6.4\u001b[39m\n",
      "Imported OSCAR's components GAP and Singular_jll\n",
      "Type: ?CapAndHomalg for more information\n"
     ]
    }
   ],
   "source": [
    "using CapAndHomalg"
   ]
  },
  {
   "cell_type": "code",
   "execution_count": 2,
   "id": "9309acbe",
   "metadata": {},
   "outputs": [],
   "source": [
    "LoadPackage( \"FunctorCategories\" )"
   ]
  },
  {
   "cell_type": "code",
   "execution_count": 3,
   "id": "e1029929",
   "metadata": {},
   "outputs": [
    {
     "data": {
      "text/plain": [
       "GAP: Q(A,R)[r₀:R->A,r₁:R->A]"
      ]
     },
     "execution_count": 3,
     "metadata": {},
     "output_type": "execute_result"
    }
   ],
   "source": [
    "Q = RightQuiver( \"Q(A,R)[r₀:R->A,r₁:R->A]\" )"
   ]
  },
  {
   "cell_type": "code",
   "execution_count": 4,
   "id": "d6aa8950",
   "metadata": {},
   "outputs": [
    {
     "data": {
      "text/plain": [
       "GAP: FreeCategory( RightQuiver( \"Q(A,R)[r₀:R->A,r₁:R->A]\" ) )"
      ]
     },
     "execution_count": 4,
     "metadata": {},
     "output_type": "execute_result"
    }
   ],
   "source": [
    "C = FreeCategory( Q )"
   ]
  },
  {
   "cell_type": "code",
   "execution_count": 5,
   "id": "439ac720",
   "metadata": {},
   "outputs": [
    {
     "data": {
      "text/plain": [
       "GAP: FiniteCocompletion( FreeCategory( RightQuiver( \"Q(A,R)[r₀:R->A,r₁:R->A]\" ) ) )"
      ]
     },
     "execution_count": 5,
     "metadata": {},
     "output_type": "execute_result"
    }
   ],
   "source": [
    "Ĉ = FiniteCocompletion( C )"
   ]
  },
  {
   "cell_type": "code",
   "execution_count": 6,
   "id": "c6bf53c1",
   "metadata": {},
   "outputs": [
    {
     "data": {
      "text/plain": [
       "GAP: <A projective object in FiniteCocompletion( FreeCategory( RightQuiver( \"Q(A,R)[r₀:R->A,r₁:R->A]\" ) ) )>"
      ]
     },
     "execution_count": 6,
     "metadata": {},
     "output_type": "execute_result"
    }
   ],
   "source": [
    "A = Ĉ.A"
   ]
  },
  {
   "cell_type": "code",
   "execution_count": 7,
   "id": "14a50987",
   "metadata": {},
   "outputs": [
    {
     "data": {
      "text/plain": [
       "GAP: <A projective object in FiniteCocompletion( FreeCategory( RightQuiver( \"Q(A,R)[r₀:R->A,r₁:R->A]\" ) ) )>"
      ]
     },
     "execution_count": 7,
     "metadata": {},
     "output_type": "execute_result"
    }
   ],
   "source": [
    "R = Ĉ.R"
   ]
  },
  {
   "cell_type": "code",
   "execution_count": 8,
   "id": "7aaf2661",
   "metadata": {},
   "outputs": [
    {
     "data": {
      "text/plain": [
       "GAP: <A morphism in FiniteCocompletion( FreeCategory( RightQuiver( \"Q(A,R)[r₀:R->A,r₁:R->A]\" ) ) )>"
      ]
     },
     "execution_count": 8,
     "metadata": {},
     "output_type": "execute_result"
    }
   ],
   "source": [
    "r₀ = Ĉ.r₀"
   ]
  },
  {
   "cell_type": "code",
   "execution_count": 9,
   "id": "a0d54b43",
   "metadata": {},
   "outputs": [
    {
     "data": {
      "text/plain": [
       "GAP: <A morphism in FiniteCocompletion( FreeCategory( RightQuiver( \"Q(A,R)[r₀:R->A,r₁:R->A]\" ) ) )>"
      ]
     },
     "execution_count": 9,
     "metadata": {},
     "output_type": "execute_result"
    }
   ],
   "source": [
    "r₁ = Ĉ.r₁"
   ]
  },
  {
   "cell_type": "code",
   "execution_count": 10,
   "id": "546fa57f",
   "metadata": {},
   "outputs": [
    {
     "data": {
      "text/plain": [
       "false"
      ]
     },
     "execution_count": 10,
     "metadata": {},
     "output_type": "execute_result"
    }
   ],
   "source": [
    "IsSplitEpimorphism( r₀ )"
   ]
  },
  {
   "cell_type": "code",
   "execution_count": 11,
   "id": "10279bfe",
   "metadata": {},
   "outputs": [
    {
     "data": {
      "text/plain": [
       "false"
      ]
     },
     "execution_count": 11,
     "metadata": {},
     "output_type": "execute_result"
    }
   ],
   "source": [
    "IsSplitEpimorphism( r₁ )"
   ]
  },
  {
   "cell_type": "code",
   "execution_count": 12,
   "id": "495c952f",
   "metadata": {},
   "outputs": [
    {
     "data": {
      "text/plain": [
       "GAP: <An object in FiniteCocompletion( FreeCategory( RightQuiver( \"Q(A,R)[r₀:R->A,r₁:R->A]\" ) ) )>"
      ]
     },
     "execution_count": 12,
     "metadata": {},
     "output_type": "execute_result"
    }
   ],
   "source": [
    "RuA = Coproduct( R, A )"
   ]
  },
  {
   "cell_type": "code",
   "execution_count": 13,
   "id": "2fbd5e61",
   "metadata": {},
   "outputs": [
    {
     "data": {
      "text/plain": [
       "GAP: |2|"
      ]
     },
     "execution_count": 13,
     "metadata": {},
     "output_type": "execute_result"
    }
   ],
   "source": [
    "HomStructure( RuA, A )"
   ]
  },
  {
   "cell_type": "code",
   "execution_count": 14,
   "id": "eaa5a1f7",
   "metadata": {},
   "outputs": [
    {
     "data": {
      "text/plain": [
       "GAP: [ <A morphism in FiniteCocompletion( FreeCategory( RightQuiver( \"Q(A,R)[r₀:R->A,r₁:R->A]\" ) ) )>, <A morphism in FiniteCocompletion( FreeCategory( RightQuiver( \"Q(A,R)[r₀:R->A,r₁:R->A]\" ) ) )> ]"
      ]
     },
     "execution_count": 14,
     "metadata": {},
     "output_type": "execute_result"
    }
   ],
   "source": [
    "ρ₀, ρ₁ = MorphismsOfExternalHom( RuA, A )"
   ]
  },
  {
   "cell_type": "code",
   "execution_count": 15,
   "id": "d9f28283",
   "metadata": {},
   "outputs": [
    {
     "data": {
      "text/plain": [
       "false"
      ]
     },
     "execution_count": 15,
     "metadata": {},
     "output_type": "execute_result"
    }
   ],
   "source": [
    "ρ₀ == ρ₁"
   ]
  },
  {
   "cell_type": "code",
   "execution_count": 16,
   "id": "6c76923d",
   "metadata": {},
   "outputs": [
    {
     "data": {
      "text/plain": [
       "true"
      ]
     },
     "execution_count": 16,
     "metadata": {},
     "output_type": "execute_result"
    }
   ],
   "source": [
    "IsSplitEpimorphism( ρ₀ )"
   ]
  },
  {
   "cell_type": "code",
   "execution_count": 17,
   "id": "669ab8f1",
   "metadata": {},
   "outputs": [
    {
     "data": {
      "text/plain": [
       "true"
      ]
     },
     "execution_count": 17,
     "metadata": {},
     "output_type": "execute_result"
    }
   ],
   "source": [
    "IsSplitEpimorphism( ρ₁ )"
   ]
  },
  {
   "cell_type": "code",
   "execution_count": 18,
   "id": "5de6c2a9",
   "metadata": {},
   "outputs": [
    {
     "data": {
      "text/plain": [
       "GAP: |1|"
      ]
     },
     "execution_count": 18,
     "metadata": {},
     "output_type": "execute_result"
    }
   ],
   "source": [
    "HomStructure( A, RuA )"
   ]
  },
  {
   "cell_type": "code",
   "execution_count": 19,
   "id": "c6875174",
   "metadata": {},
   "outputs": [
    {
     "data": {
      "text/plain": [
       "GAP: <A morphism in FiniteCocompletion( FreeCategory( RightQuiver( \"Q(A,R)[r₀:R->A,r₁:R->A]\" ) ) )>"
      ]
     },
     "execution_count": 19,
     "metadata": {},
     "output_type": "execute_result"
    }
   ],
   "source": [
    "ι = MorphismsOfExternalHom( A, RuA )[1]"
   ]
  },
  {
   "cell_type": "code",
   "execution_count": 20,
   "id": "e0182407",
   "metadata": {},
   "outputs": [
    {
     "data": {
      "text/plain": [
       "true"
      ]
     },
     "execution_count": 20,
     "metadata": {},
     "output_type": "execute_result"
    }
   ],
   "source": [
    "ι == InjectionOfCofactorOfCoproduct( [ R, A ], 2 )"
   ]
  },
  {
   "cell_type": "code",
   "execution_count": 21,
   "id": "833d5c3a",
   "metadata": {},
   "outputs": [
    {
     "data": {
      "text/plain": [
       "true"
      ]
     },
     "execution_count": 21,
     "metadata": {},
     "output_type": "execute_result"
    }
   ],
   "source": [
    "r₀ == ComponentOfMorphismFromCoproduct( ρ₀, [ R, A ], 1 )"
   ]
  },
  {
   "cell_type": "code",
   "execution_count": 22,
   "id": "3d946116",
   "metadata": {},
   "outputs": [
    {
     "data": {
      "text/plain": [
       "true"
      ]
     },
     "execution_count": 22,
     "metadata": {},
     "output_type": "execute_result"
    }
   ],
   "source": [
    "IdentityMorphism( A ) == ComponentOfMorphismFromCoproduct( ρ₀, [ R, A ], 2 )"
   ]
  },
  {
   "cell_type": "code",
   "execution_count": 23,
   "id": "6f342826",
   "metadata": {},
   "outputs": [
    {
     "data": {
      "text/plain": [
       "true"
      ]
     },
     "execution_count": 23,
     "metadata": {},
     "output_type": "execute_result"
    }
   ],
   "source": [
    "r₁ == ComponentOfMorphismFromCoproduct( ρ₁, [ R, A ], 1  )"
   ]
  },
  {
   "cell_type": "code",
   "execution_count": 24,
   "id": "3a316e2e",
   "metadata": {},
   "outputs": [
    {
     "data": {
      "text/plain": [
       "true"
      ]
     },
     "execution_count": 24,
     "metadata": {},
     "output_type": "execute_result"
    }
   ],
   "source": [
    "IdentityMorphism( A ) == ComponentOfMorphismFromCoproduct( ρ₁, [ R, A ], 2 )"
   ]
  },
  {
   "cell_type": "code",
   "execution_count": 25,
   "id": "a5f18106",
   "metadata": {},
   "outputs": [
    {
     "data": {
      "text/plain": [
       "GAP: <An epimorphism in FiniteCocompletion( FreeCategory( RightQuiver( \"Q(A,R)[r₀:R->A,r₁:R->A]\" ) ) )>"
      ]
     },
     "execution_count": 25,
     "metadata": {},
     "output_type": "execute_result"
    }
   ],
   "source": [
    "p = ProjectionOntoCoequalizer( A, [ r₀, r₁ ] )"
   ]
  },
  {
   "cell_type": "code",
   "execution_count": 26,
   "id": "2b2559ac",
   "metadata": {},
   "outputs": [
    {
     "data": {
      "text/plain": [
       "GAP: <An epimorphism in FiniteCocompletion( FreeCategory( RightQuiver( \"Q(A,R)[r₀:R->A,r₁:R->A]\" ) ) )>"
      ]
     },
     "execution_count": 26,
     "metadata": {},
     "output_type": "execute_result"
    }
   ],
   "source": [
    "pp = ProjectionOntoCoequalizer( A, [ ρ₀, ρ₁ ] )"
   ]
  },
  {
   "cell_type": "code",
   "execution_count": 27,
   "id": "003fac5a",
   "metadata": {},
   "outputs": [
    {
     "data": {
      "text/plain": [
       "true"
      ]
     },
     "execution_count": 27,
     "metadata": {},
     "output_type": "execute_result"
    }
   ],
   "source": [
    "IsIsomorphism( UniversalMorphismFromCoequalizer( A, [ r₀, r₁ ], Target( pp ), pp ) )"
   ]
  },
  {
   "cell_type": "markdown",
   "id": "899148e8",
   "metadata": {
    "slideshow": {
     "slide_type": "slide"
    }
   },
   "source": [
    "In fact, in this free model we even have:"
   ]
  },
  {
   "cell_type": "code",
   "execution_count": 28,
   "id": "0a51cdcb",
   "metadata": {},
   "outputs": [
    {
     "data": {
      "text/plain": [
       "true"
      ]
     },
     "execution_count": 28,
     "metadata": {},
     "output_type": "execute_result"
    }
   ],
   "source": [
    "p == pp"
   ]
  }
 ],
 "metadata": {
  "@webio": {
   "lastCommId": null,
   "lastKernelId": null
  },
  "kernelspec": {
   "display_name": "Julia 1.11.7",
   "language": "julia",
   "name": "julia-1.11"
  },
  "language_info": {
   "file_extension": ".jl",
   "mimetype": "application/julia",
   "name": "julia",
   "version": "1.11.7"
  }
 },
 "nbformat": 4,
 "nbformat_minor": 5
}
